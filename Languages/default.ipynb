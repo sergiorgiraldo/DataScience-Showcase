{
 "cells": [
  {
   "cell_type": "code",
   "execution_count": 1,
   "metadata": {},
   "outputs": [
    {
     "data": {
      "text/plain": [
       "polars.config.Config"
      ]
     },
     "execution_count": 1,
     "metadata": {},
     "output_type": "execute_result"
    }
   ],
   "source": [
    "%matplotlib inline\n",
    "import polars as pl\n",
    "import matplotlib.pyplot as plt\n",
    "\n",
    "# Make the graphs a bit prettier, and bigger``\n",
    "plt.style.use('ggplot')\n",
    "\n",
    "pl.Config.set_tbl_cols(60)\n",
    "pl.Config.set_fmt_str_lengths(5000)\n",
    "\n",
    "plt.rcParams['figure.figsize'] = (15, 5)\n",
    "\n",
    "# Set Polars to show all rows without truncation\n",
    "pl.Config.set_tbl_rows(-1)  # -1 means no limit"
   ]
  },
  {
   "cell_type": "code",
   "execution_count": 2,
   "metadata": {},
   "outputs": [
    {
     "data": {
      "text/html": [
       "<div><style>\n",
       ".dataframe > thead > tr,\n",
       ".dataframe > tbody > tr {\n",
       "  text-align: right;\n",
       "  white-space: pre-wrap;\n",
       "}\n",
       "</style>\n",
       "<small>shape: (5, 17)</small><table border=\"1\" class=\"dataframe\"><thead><tr><th>X</th><th>Y</th><th>OBJECTID</th><th>SOVEREIGNT</th><th>TYPE_</th><th>COUNTRY</th><th>FIRST_OFFI</th><th>SECOND_OFF</th><th>THIRD_OFFI</th><th>ENGLISH_FI</th><th>FRENCH_FIR</th><th>ARABIC_FIR</th><th>SPANISH_FI</th><th>PORTUGUESE</th><th>CHINESE_FI</th><th>RUSSIAN_FI</th><th>WORLD_LANG</th></tr><tr><td>f64</td><td>f64</td><td>i64</td><td>str</td><td>str</td><td>str</td><td>str</td><td>str</td><td>str</td><td>i64</td><td>i64</td><td>i64</td><td>i64</td><td>i64</td><td>i64</td><td>i64</td><td>str</td></tr></thead><tbody><tr><td>24.471441</td><td>-22.345302</td><td>20</td><td>&quot;Botswana&quot;</td><td>&quot;Sovereign country&quot;</td><td>&quot;Botswana&quot;</td><td>&quot;English&quot;</td><td>null</td><td>null</td><td>1</td><td>0</td><td>0</td><td>0</td><td>0</td><td>0</td><td>0</td><td>&quot;English&quot;</td></tr><tr><td>20.633118</td><td>6.614791</td><td>21</td><td>&quot;Central African Republic&quot;</td><td>&quot;Sovereign country&quot;</td><td>&quot;Central African Republic&quot;</td><td>&quot;French&quot;</td><td>&quot;Sangho&quot;</td><td>null</td><td>0</td><td>1</td><td>0</td><td>0</td><td>0</td><td>0</td><td>0</td><td>&quot;French&quot;</td></tr><tr><td>-110.430879</td><td>56.836921</td><td>22</td><td>&quot;Canada&quot;</td><td>&quot;Sovereign country&quot;</td><td>&quot;Canada&quot;</td><td>&quot;English&quot;</td><td>&quot;French&quot;</td><td>null</td><td>1</td><td>1</td><td>0</td><td>0</td><td>0</td><td>0</td><td>0</td><td>&quot;English_French&quot;</td></tr><tr><td>-69.684882</td><td>67.856696</td><td>22</td><td>&quot;Canada&quot;</td><td>&quot;Sovereign country&quot;</td><td>&quot;Canada&quot;</td><td>&quot;English&quot;</td><td>&quot;French&quot;</td><td>null</td><td>1</td><td>1</td><td>0</td><td>0</td><td>0</td><td>0</td><td>0</td><td>&quot;English_French&quot;</td></tr><tr><td>-76.784377</td><td>79.622971</td><td>22</td><td>&quot;Canada&quot;</td><td>&quot;Sovereign country&quot;</td><td>&quot;Canada&quot;</td><td>&quot;English&quot;</td><td>&quot;French&quot;</td><td>null</td><td>1</td><td>1</td><td>0</td><td>0</td><td>0</td><td>0</td><td>0</td><td>&quot;English_French&quot;</td></tr></tbody></table></div>"
      ],
      "text/plain": [
       "shape: (5, 17)\n",
       "┌─────┬─────┬─────┬─────┬─────┬─────┬─────┬─────┬─────┬─────┬─────┬─────┬─────┬─────┬─────┬─────┬─────┐\n",
       "│ X   ┆ Y   ┆ OBJ ┆ SOV ┆ TYP ┆ COU ┆ FIR ┆ SEC ┆ THI ┆ ENG ┆ FRE ┆ ARA ┆ SPA ┆ POR ┆ CHI ┆ RUS ┆ WOR │\n",
       "│ --- ┆ --- ┆ ECT ┆ ERE ┆ E_  ┆ NTR ┆ ST_ ┆ OND ┆ RD_ ┆ LIS ┆ NCH ┆ BIC ┆ NIS ┆ TUG ┆ NES ┆ SIA ┆ LD_ │\n",
       "│ f64 ┆ f64 ┆ ID  ┆ IGN ┆ --- ┆ Y   ┆ OFF ┆ _OF ┆ OFF ┆ H_F ┆ _FI ┆ _FI ┆ H_F ┆ UES ┆ E_F ┆ N_F ┆ LAN │\n",
       "│     ┆     ┆ --- ┆ T   ┆ str ┆ --- ┆ I   ┆ F   ┆ I   ┆ I   ┆ R   ┆ R   ┆ I   ┆ E   ┆ I   ┆ I   ┆ G   │\n",
       "│     ┆     ┆ i64 ┆ --- ┆     ┆ str ┆ --- ┆ --- ┆ --- ┆ --- ┆ --- ┆ --- ┆ --- ┆ --- ┆ --- ┆ --- ┆ --- │\n",
       "│     ┆     ┆     ┆ str ┆     ┆     ┆ str ┆ str ┆ str ┆ i64 ┆ i64 ┆ i64 ┆ i64 ┆ i64 ┆ i64 ┆ i64 ┆ str │\n",
       "╞═════╪═════╪═════╪═════╪═════╪═════╪═════╪═════╪═════╪═════╪═════╪═════╪═════╪═════╪═════╪═════╪═════╡\n",
       "│ 24. ┆ -22 ┆ 20  ┆ Bot ┆ Sov ┆ Bot ┆ Eng ┆ nul ┆ nul ┆ 1   ┆ 0   ┆ 0   ┆ 0   ┆ 0   ┆ 0   ┆ 0   ┆ Eng │\n",
       "│ 471 ┆ .34 ┆     ┆ swa ┆ ere ┆ swa ┆ lis ┆ l   ┆ l   ┆     ┆     ┆     ┆     ┆     ┆     ┆     ┆ lis │\n",
       "│ 441 ┆ 530 ┆     ┆ na  ┆ ign ┆ na  ┆ h   ┆     ┆     ┆     ┆     ┆     ┆     ┆     ┆     ┆     ┆ h   │\n",
       "│     ┆ 2   ┆     ┆     ┆ cou ┆     ┆     ┆     ┆     ┆     ┆     ┆     ┆     ┆     ┆     ┆     ┆     │\n",
       "│     ┆     ┆     ┆     ┆ ntr ┆     ┆     ┆     ┆     ┆     ┆     ┆     ┆     ┆     ┆     ┆     ┆     │\n",
       "│     ┆     ┆     ┆     ┆ y   ┆     ┆     ┆     ┆     ┆     ┆     ┆     ┆     ┆     ┆     ┆     ┆     │\n",
       "│ 20. ┆ 6.6 ┆ 21  ┆ Cen ┆ Sov ┆ Cen ┆ Fre ┆ San ┆ nul ┆ 0   ┆ 1   ┆ 0   ┆ 0   ┆ 0   ┆ 0   ┆ 0   ┆ Fre │\n",
       "│ 633 ┆ 147 ┆     ┆ tra ┆ ere ┆ tra ┆ nch ┆ gho ┆ l   ┆     ┆     ┆     ┆     ┆     ┆     ┆     ┆ nch │\n",
       "│ 118 ┆ 91  ┆     ┆ l   ┆ ign ┆ l   ┆     ┆     ┆     ┆     ┆     ┆     ┆     ┆     ┆     ┆     ┆     │\n",
       "│     ┆     ┆     ┆ Afr ┆ cou ┆ Afr ┆     ┆     ┆     ┆     ┆     ┆     ┆     ┆     ┆     ┆     ┆     │\n",
       "│     ┆     ┆     ┆ ica ┆ ntr ┆ ica ┆     ┆     ┆     ┆     ┆     ┆     ┆     ┆     ┆     ┆     ┆     │\n",
       "│     ┆     ┆     ┆ n   ┆ y   ┆ n   ┆     ┆     ┆     ┆     ┆     ┆     ┆     ┆     ┆     ┆     ┆     │\n",
       "│     ┆     ┆     ┆ Rep ┆     ┆ Rep ┆     ┆     ┆     ┆     ┆     ┆     ┆     ┆     ┆     ┆     ┆     │\n",
       "│     ┆     ┆     ┆ ubl ┆     ┆ ubl ┆     ┆     ┆     ┆     ┆     ┆     ┆     ┆     ┆     ┆     ┆     │\n",
       "│     ┆     ┆     ┆ ic  ┆     ┆ ic  ┆     ┆     ┆     ┆     ┆     ┆     ┆     ┆     ┆     ┆     ┆     │\n",
       "│ -11 ┆ 56. ┆ 22  ┆ Can ┆ Sov ┆ Can ┆ Eng ┆ Fre ┆ nul ┆ 1   ┆ 1   ┆ 0   ┆ 0   ┆ 0   ┆ 0   ┆ 0   ┆ Eng │\n",
       "│ 0.4 ┆ 836 ┆     ┆ ada ┆ ere ┆ ada ┆ lis ┆ nch ┆ l   ┆     ┆     ┆     ┆     ┆     ┆     ┆     ┆ lis │\n",
       "│ 308 ┆ 921 ┆     ┆     ┆ ign ┆     ┆ h   ┆     ┆     ┆     ┆     ┆     ┆     ┆     ┆     ┆     ┆ h_F │\n",
       "│ 79  ┆     ┆     ┆     ┆ cou ┆     ┆     ┆     ┆     ┆     ┆     ┆     ┆     ┆     ┆     ┆     ┆ ren │\n",
       "│     ┆     ┆     ┆     ┆ ntr ┆     ┆     ┆     ┆     ┆     ┆     ┆     ┆     ┆     ┆     ┆     ┆ ch  │\n",
       "│     ┆     ┆     ┆     ┆ y   ┆     ┆     ┆     ┆     ┆     ┆     ┆     ┆     ┆     ┆     ┆     ┆     │\n",
       "│ -69 ┆ 67. ┆ 22  ┆ Can ┆ Sov ┆ Can ┆ Eng ┆ Fre ┆ nul ┆ 1   ┆ 1   ┆ 0   ┆ 0   ┆ 0   ┆ 0   ┆ 0   ┆ Eng │\n",
       "│ .68 ┆ 856 ┆     ┆ ada ┆ ere ┆ ada ┆ lis ┆ nch ┆ l   ┆     ┆     ┆     ┆     ┆     ┆     ┆     ┆ lis │\n",
       "│ 488 ┆ 696 ┆     ┆     ┆ ign ┆     ┆ h   ┆     ┆     ┆     ┆     ┆     ┆     ┆     ┆     ┆     ┆ h_F │\n",
       "│ 2   ┆     ┆     ┆     ┆ cou ┆     ┆     ┆     ┆     ┆     ┆     ┆     ┆     ┆     ┆     ┆     ┆ ren │\n",
       "│     ┆     ┆     ┆     ┆ ntr ┆     ┆     ┆     ┆     ┆     ┆     ┆     ┆     ┆     ┆     ┆     ┆ ch  │\n",
       "│     ┆     ┆     ┆     ┆ y   ┆     ┆     ┆     ┆     ┆     ┆     ┆     ┆     ┆     ┆     ┆     ┆     │\n",
       "│ -76 ┆ 79. ┆ 22  ┆ Can ┆ Sov ┆ Can ┆ Eng ┆ Fre ┆ nul ┆ 1   ┆ 1   ┆ 0   ┆ 0   ┆ 0   ┆ 0   ┆ 0   ┆ Eng │\n",
       "│ .78 ┆ 622 ┆     ┆ ada ┆ ere ┆ ada ┆ lis ┆ nch ┆ l   ┆     ┆     ┆     ┆     ┆     ┆     ┆     ┆ lis │\n",
       "│ 437 ┆ 971 ┆     ┆     ┆ ign ┆     ┆ h   ┆     ┆     ┆     ┆     ┆     ┆     ┆     ┆     ┆     ┆ h_F │\n",
       "│ 7   ┆     ┆     ┆     ┆ cou ┆     ┆     ┆     ┆     ┆     ┆     ┆     ┆     ┆     ┆     ┆     ┆ ren │\n",
       "│     ┆     ┆     ┆     ┆ ntr ┆     ┆     ┆     ┆     ┆     ┆     ┆     ┆     ┆     ┆     ┆     ┆ ch  │\n",
       "│     ┆     ┆     ┆     ┆ y   ┆     ┆     ┆     ┆     ┆     ┆     ┆     ┆     ┆     ┆     ┆     ┆     │\n",
       "└─────┴─────┴─────┴─────┴─────┴─────┴─────┴─────┴─────┴─────┴─────┴─────┴─────┴─────┴─────┴─────┴─────┘"
      ]
     },
     "execution_count": 2,
     "metadata": {},
     "output_type": "execute_result"
    }
   ],
   "source": [
    "df = pl.read_csv('data/World_Languages.csv')\n",
    "df[0:5]"
   ]
  },
  {
   "cell_type": "code",
   "execution_count": 3,
   "metadata": {},
   "outputs": [
    {
     "name": "stdout",
     "output_type": "stream",
     "text": [
      "Schema([('X', Float64), ('Y', Float64), ('OBJECTID', Int64), ('SOVEREIGNT', String), ('TYPE_', String), ('COUNTRY', String), ('FIRST_OFFI', String), ('SECOND_OFF', String), ('THIRD_OFFI', String), ('ENGLISH_FI', Int64), ('FRENCH_FIR', Int64), ('ARABIC_FIR', Int64), ('SPANISH_FI', Int64), ('PORTUGUESE', Int64), ('CHINESE_FI', Int64), ('RUSSIAN_FI', Int64), ('WORLD_LANG', String)])\n",
      "3948\n"
     ]
    }
   ],
   "source": [
    "print(df.schema)\n",
    "print(len(df))"
   ]
  },
  {
   "cell_type": "code",
   "execution_count": 4,
   "metadata": {},
   "outputs": [
    {
     "name": "stdout",
     "output_type": "stream",
     "text": [
      "26\n"
     ]
    },
    {
     "data": {
      "text/html": [
       "<div><style>\n",
       ".dataframe > thead > tr,\n",
       ".dataframe > tbody > tr {\n",
       "  text-align: right;\n",
       "  white-space: pre-wrap;\n",
       "}\n",
       "</style>\n",
       "<small>shape: (26,)</small><table border=\"1\" class=\"dataframe\"><thead><tr><th>COUNTRY</th></tr><tr><td>str</td></tr></thead><tbody><tr><td>&quot;Djibouti&quot;</td></tr><tr><td>&quot;Gabon&quot;</td></tr><tr><td>&quot;Saint Pierre and Miquelon&quot;</td></tr><tr><td>&quot;Saint Martin&quot;</td></tr><tr><td>&quot;Wallis and Futuna&quot;</td></tr><tr><td>&quot;Benin&quot;</td></tr><tr><td>&quot;Ivory Coast&quot;</td></tr><tr><td>&quot;Guinea&quot;</td></tr><tr><td>&quot;French Polynesia&quot;</td></tr><tr><td>&quot;New Caledonia&quot;</td></tr><tr><td>&quot;Mauritius&quot;</td></tr><tr><td>&quot;Togo&quot;</td></tr><tr><td>&quot;Central African Republic&quot;</td></tr><tr><td>&quot;Mali&quot;</td></tr><tr><td>&quot;Haiti&quot;</td></tr><tr><td>&quot;Republic of Congo&quot;</td></tr><tr><td>&quot;Democratic Republic of the Congo&quot;</td></tr><tr><td>&quot;Senegal&quot;</td></tr><tr><td>&quot;Saint Barthelemy&quot;</td></tr><tr><td>&quot;Chad&quot;</td></tr><tr><td>&quot;France&quot;</td></tr><tr><td>&quot;Clipperton Island&quot;</td></tr><tr><td>&quot;Niger&quot;</td></tr><tr><td>&quot;Madagascar&quot;</td></tr><tr><td>&quot;Monaco&quot;</td></tr><tr><td>&quot;Burkina Faso&quot;</td></tr></tbody></table></div>"
      ],
      "text/plain": [
       "shape: (26,)\n",
       "Series: 'COUNTRY' [str]\n",
       "[\n",
       "\t\"Djibouti\"\n",
       "\t\"Gabon\"\n",
       "\t\"Saint Pierre and Miquelon\"\n",
       "\t\"Saint Martin\"\n",
       "\t\"Wallis and Futuna\"\n",
       "\t\"Benin\"\n",
       "\t\"Ivory Coast\"\n",
       "\t\"Guinea\"\n",
       "\t\"French Polynesia\"\n",
       "\t\"New Caledonia\"\n",
       "\t\"Mauritius\"\n",
       "\t\"Togo\"\n",
       "\t\"Central African Republic\"\n",
       "\t\"Mali\"\n",
       "\t\"Haiti\"\n",
       "\t\"Republic of Congo\"\n",
       "\t\"Democratic Republic of the Congo\"\n",
       "\t\"Senegal\"\n",
       "\t\"Saint Barthelemy\"\n",
       "\t\"Chad\"\n",
       "\t\"France\"\n",
       "\t\"Clipperton Island\"\n",
       "\t\"Niger\"\n",
       "\t\"Madagascar\"\n",
       "\t\"Monaco\"\n",
       "\t\"Burkina Faso\"\n",
       "]"
      ]
     },
     "execution_count": 4,
     "metadata": {},
     "output_type": "execute_result"
    }
   ],
   "source": [
    "french=df.filter((df['FIRST_OFFI'] == 'French'))\n",
    "print(french['COUNTRY'].n_unique())\n",
    "french['COUNTRY'].unique()"
   ]
  }
 ],
 "metadata": {
  "kernelspec": {
   "display_name": "venv",
   "language": "python",
   "name": "python3"
  },
  "language_info": {
   "codemirror_mode": {
    "name": "ipython",
    "version": 3
   },
   "file_extension": ".py",
   "mimetype": "text/x-python",
   "name": "python",
   "nbconvert_exporter": "python",
   "pygments_lexer": "ipython3",
   "version": "3.11.1"
  }
 },
 "nbformat": 4,
 "nbformat_minor": 4
}
