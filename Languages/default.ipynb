{
 "cells": [
  {
   "cell_type": "code",
   "execution_count": 40,
   "metadata": {},
   "outputs": [
    {
     "data": {
      "text/plain": [
       "polars.config.Config"
      ]
     },
     "execution_count": 40,
     "metadata": {},
     "output_type": "execute_result"
    }
   ],
   "source": [
    "%matplotlib inline\n",
    "import polars as pl\n",
    "import matplotlib.pyplot as plt\n",
    "\n",
    "# Make the graphs a bit prettier, and bigger``\n",
    "plt.style.use('ggplot')\n",
    "\n",
    "pl.Config.set_tbl_cols(60)\n",
    "pl.Config.set_fmt_str_lengths(5000)\n",
    "\n",
    "plt.rcParams['figure.figsize'] = (15, 5)\n",
    "\n",
    "# Set Polars to show all rows without truncation\n",
    "pl.Config.set_tbl_rows(-1)  # -1 means no limit"
   ]
  },
  {
   "cell_type": "code",
   "execution_count": 41,
   "metadata": {},
   "outputs": [
    {
     "data": {
      "text/html": [
       "<div><style>\n",
       ".dataframe > thead > tr,\n",
       ".dataframe > tbody > tr {\n",
       "  text-align: right;\n",
       "  white-space: pre-wrap;\n",
       "}\n",
       "</style>\n",
       "<small>shape: (5, 17)</small><table border=\"1\" class=\"dataframe\"><thead><tr><th>X</th><th>Y</th><th>OBJECTID</th><th>SOVEREIGNT</th><th>TYPE_</th><th>COUNTRY</th><th>FIRST_OFFI</th><th>SECOND_OFF</th><th>THIRD_OFFI</th><th>ENGLISH_FI</th><th>FRENCH_FIR</th><th>ARABIC_FIR</th><th>SPANISH_FI</th><th>PORTUGUESE</th><th>CHINESE_FI</th><th>RUSSIAN_FI</th><th>WORLD_LANG</th></tr><tr><td>f64</td><td>f64</td><td>i64</td><td>str</td><td>str</td><td>str</td><td>str</td><td>str</td><td>str</td><td>i64</td><td>i64</td><td>i64</td><td>i64</td><td>i64</td><td>i64</td><td>i64</td><td>str</td></tr></thead><tbody><tr><td>24.471441</td><td>-22.345302</td><td>20</td><td>&quot;Botswana&quot;</td><td>&quot;Sovereign country&quot;</td><td>&quot;Botswana&quot;</td><td>&quot;English&quot;</td><td>null</td><td>null</td><td>1</td><td>0</td><td>0</td><td>0</td><td>0</td><td>0</td><td>0</td><td>&quot;English&quot;</td></tr><tr><td>20.633118</td><td>6.614791</td><td>21</td><td>&quot;Central African Republic&quot;</td><td>&quot;Sovereign country&quot;</td><td>&quot;Central African Republic&quot;</td><td>&quot;French&quot;</td><td>&quot;Sangho&quot;</td><td>null</td><td>0</td><td>1</td><td>0</td><td>0</td><td>0</td><td>0</td><td>0</td><td>&quot;French&quot;</td></tr><tr><td>-110.430879</td><td>56.836921</td><td>22</td><td>&quot;Canada&quot;</td><td>&quot;Sovereign country&quot;</td><td>&quot;Canada&quot;</td><td>&quot;English&quot;</td><td>&quot;French&quot;</td><td>null</td><td>1</td><td>1</td><td>0</td><td>0</td><td>0</td><td>0</td><td>0</td><td>&quot;English_French&quot;</td></tr><tr><td>-69.684882</td><td>67.856696</td><td>22</td><td>&quot;Canada&quot;</td><td>&quot;Sovereign country&quot;</td><td>&quot;Canada&quot;</td><td>&quot;English&quot;</td><td>&quot;French&quot;</td><td>null</td><td>1</td><td>1</td><td>0</td><td>0</td><td>0</td><td>0</td><td>0</td><td>&quot;English_French&quot;</td></tr><tr><td>-76.784377</td><td>79.622971</td><td>22</td><td>&quot;Canada&quot;</td><td>&quot;Sovereign country&quot;</td><td>&quot;Canada&quot;</td><td>&quot;English&quot;</td><td>&quot;French&quot;</td><td>null</td><td>1</td><td>1</td><td>0</td><td>0</td><td>0</td><td>0</td><td>0</td><td>&quot;English_French&quot;</td></tr></tbody></table></div>"
      ],
      "text/plain": [
       "shape: (5, 17)\n",
       "┌─────┬─────┬─────┬─────┬─────┬─────┬─────┬─────┬─────┬─────┬─────┬─────┬─────┬─────┬─────┬─────┬─────┐\n",
       "│ X   ┆ Y   ┆ OBJ ┆ SOV ┆ TYP ┆ COU ┆ FIR ┆ SEC ┆ THI ┆ ENG ┆ FRE ┆ ARA ┆ SPA ┆ POR ┆ CHI ┆ RUS ┆ WOR │\n",
       "│ --- ┆ --- ┆ ECT ┆ ERE ┆ E_  ┆ NTR ┆ ST_ ┆ OND ┆ RD_ ┆ LIS ┆ NCH ┆ BIC ┆ NIS ┆ TUG ┆ NES ┆ SIA ┆ LD_ │\n",
       "│ f64 ┆ f64 ┆ ID  ┆ IGN ┆ --- ┆ Y   ┆ OFF ┆ _OF ┆ OFF ┆ H_F ┆ _FI ┆ _FI ┆ H_F ┆ UES ┆ E_F ┆ N_F ┆ LAN │\n",
       "│     ┆     ┆ --- ┆ T   ┆ str ┆ --- ┆ I   ┆ F   ┆ I   ┆ I   ┆ R   ┆ R   ┆ I   ┆ E   ┆ I   ┆ I   ┆ G   │\n",
       "│     ┆     ┆ i64 ┆ --- ┆     ┆ str ┆ --- ┆ --- ┆ --- ┆ --- ┆ --- ┆ --- ┆ --- ┆ --- ┆ --- ┆ --- ┆ --- │\n",
       "│     ┆     ┆     ┆ str ┆     ┆     ┆ str ┆ str ┆ str ┆ i64 ┆ i64 ┆ i64 ┆ i64 ┆ i64 ┆ i64 ┆ i64 ┆ str │\n",
       "╞═════╪═════╪═════╪═════╪═════╪═════╪═════╪═════╪═════╪═════╪═════╪═════╪═════╪═════╪═════╪═════╪═════╡\n",
       "│ 24. ┆ -22 ┆ 20  ┆ Bot ┆ Sov ┆ Bot ┆ Eng ┆ nul ┆ nul ┆ 1   ┆ 0   ┆ 0   ┆ 0   ┆ 0   ┆ 0   ┆ 0   ┆ Eng │\n",
       "│ 471 ┆ .34 ┆     ┆ swa ┆ ere ┆ swa ┆ lis ┆ l   ┆ l   ┆     ┆     ┆     ┆     ┆     ┆     ┆     ┆ lis │\n",
       "│ 441 ┆ 530 ┆     ┆ na  ┆ ign ┆ na  ┆ h   ┆     ┆     ┆     ┆     ┆     ┆     ┆     ┆     ┆     ┆ h   │\n",
       "│     ┆ 2   ┆     ┆     ┆ cou ┆     ┆     ┆     ┆     ┆     ┆     ┆     ┆     ┆     ┆     ┆     ┆     │\n",
       "│     ┆     ┆     ┆     ┆ ntr ┆     ┆     ┆     ┆     ┆     ┆     ┆     ┆     ┆     ┆     ┆     ┆     │\n",
       "│     ┆     ┆     ┆     ┆ y   ┆     ┆     ┆     ┆     ┆     ┆     ┆     ┆     ┆     ┆     ┆     ┆     │\n",
       "│ 20. ┆ 6.6 ┆ 21  ┆ Cen ┆ Sov ┆ Cen ┆ Fre ┆ San ┆ nul ┆ 0   ┆ 1   ┆ 0   ┆ 0   ┆ 0   ┆ 0   ┆ 0   ┆ Fre │\n",
       "│ 633 ┆ 147 ┆     ┆ tra ┆ ere ┆ tra ┆ nch ┆ gho ┆ l   ┆     ┆     ┆     ┆     ┆     ┆     ┆     ┆ nch │\n",
       "│ 118 ┆ 91  ┆     ┆ l   ┆ ign ┆ l   ┆     ┆     ┆     ┆     ┆     ┆     ┆     ┆     ┆     ┆     ┆     │\n",
       "│     ┆     ┆     ┆ Afr ┆ cou ┆ Afr ┆     ┆     ┆     ┆     ┆     ┆     ┆     ┆     ┆     ┆     ┆     │\n",
       "│     ┆     ┆     ┆ ica ┆ ntr ┆ ica ┆     ┆     ┆     ┆     ┆     ┆     ┆     ┆     ┆     ┆     ┆     │\n",
       "│     ┆     ┆     ┆ n   ┆ y   ┆ n   ┆     ┆     ┆     ┆     ┆     ┆     ┆     ┆     ┆     ┆     ┆     │\n",
       "│     ┆     ┆     ┆ Rep ┆     ┆ Rep ┆     ┆     ┆     ┆     ┆     ┆     ┆     ┆     ┆     ┆     ┆     │\n",
       "│     ┆     ┆     ┆ ubl ┆     ┆ ubl ┆     ┆     ┆     ┆     ┆     ┆     ┆     ┆     ┆     ┆     ┆     │\n",
       "│     ┆     ┆     ┆ ic  ┆     ┆ ic  ┆     ┆     ┆     ┆     ┆     ┆     ┆     ┆     ┆     ┆     ┆     │\n",
       "│ -11 ┆ 56. ┆ 22  ┆ Can ┆ Sov ┆ Can ┆ Eng ┆ Fre ┆ nul ┆ 1   ┆ 1   ┆ 0   ┆ 0   ┆ 0   ┆ 0   ┆ 0   ┆ Eng │\n",
       "│ 0.4 ┆ 836 ┆     ┆ ada ┆ ere ┆ ada ┆ lis ┆ nch ┆ l   ┆     ┆     ┆     ┆     ┆     ┆     ┆     ┆ lis │\n",
       "│ 308 ┆ 921 ┆     ┆     ┆ ign ┆     ┆ h   ┆     ┆     ┆     ┆     ┆     ┆     ┆     ┆     ┆     ┆ h_F │\n",
       "│ 79  ┆     ┆     ┆     ┆ cou ┆     ┆     ┆     ┆     ┆     ┆     ┆     ┆     ┆     ┆     ┆     ┆ ren │\n",
       "│     ┆     ┆     ┆     ┆ ntr ┆     ┆     ┆     ┆     ┆     ┆     ┆     ┆     ┆     ┆     ┆     ┆ ch  │\n",
       "│     ┆     ┆     ┆     ┆ y   ┆     ┆     ┆     ┆     ┆     ┆     ┆     ┆     ┆     ┆     ┆     ┆     │\n",
       "│ -69 ┆ 67. ┆ 22  ┆ Can ┆ Sov ┆ Can ┆ Eng ┆ Fre ┆ nul ┆ 1   ┆ 1   ┆ 0   ┆ 0   ┆ 0   ┆ 0   ┆ 0   ┆ Eng │\n",
       "│ .68 ┆ 856 ┆     ┆ ada ┆ ere ┆ ada ┆ lis ┆ nch ┆ l   ┆     ┆     ┆     ┆     ┆     ┆     ┆     ┆ lis │\n",
       "│ 488 ┆ 696 ┆     ┆     ┆ ign ┆     ┆ h   ┆     ┆     ┆     ┆     ┆     ┆     ┆     ┆     ┆     ┆ h_F │\n",
       "│ 2   ┆     ┆     ┆     ┆ cou ┆     ┆     ┆     ┆     ┆     ┆     ┆     ┆     ┆     ┆     ┆     ┆ ren │\n",
       "│     ┆     ┆     ┆     ┆ ntr ┆     ┆     ┆     ┆     ┆     ┆     ┆     ┆     ┆     ┆     ┆     ┆ ch  │\n",
       "│     ┆     ┆     ┆     ┆ y   ┆     ┆     ┆     ┆     ┆     ┆     ┆     ┆     ┆     ┆     ┆     ┆     │\n",
       "│ -76 ┆ 79. ┆ 22  ┆ Can ┆ Sov ┆ Can ┆ Eng ┆ Fre ┆ nul ┆ 1   ┆ 1   ┆ 0   ┆ 0   ┆ 0   ┆ 0   ┆ 0   ┆ Eng │\n",
       "│ .78 ┆ 622 ┆     ┆ ada ┆ ere ┆ ada ┆ lis ┆ nch ┆ l   ┆     ┆     ┆     ┆     ┆     ┆     ┆     ┆ lis │\n",
       "│ 437 ┆ 971 ┆     ┆     ┆ ign ┆     ┆ h   ┆     ┆     ┆     ┆     ┆     ┆     ┆     ┆     ┆     ┆ h_F │\n",
       "│ 7   ┆     ┆     ┆     ┆ cou ┆     ┆     ┆     ┆     ┆     ┆     ┆     ┆     ┆     ┆     ┆     ┆ ren │\n",
       "│     ┆     ┆     ┆     ┆ ntr ┆     ┆     ┆     ┆     ┆     ┆     ┆     ┆     ┆     ┆     ┆     ┆ ch  │\n",
       "│     ┆     ┆     ┆     ┆ y   ┆     ┆     ┆     ┆     ┆     ┆     ┆     ┆     ┆     ┆     ┆     ┆     │\n",
       "└─────┴─────┴─────┴─────┴─────┴─────┴─────┴─────┴─────┴─────┴─────┴─────┴─────┴─────┴─────┴─────┴─────┘"
      ]
     },
     "execution_count": 41,
     "metadata": {},
     "output_type": "execute_result"
    }
   ],
   "source": [
    "langs = pl.read_csv('data/World_Languages.csv')\n",
    "langs[0:5]"
   ]
  },
  {
   "cell_type": "code",
   "execution_count": 42,
   "metadata": {},
   "outputs": [
    {
     "data": {
      "text/html": [
       "<div><style>\n",
       ".dataframe > thead > tr,\n",
       ".dataframe > tbody > tr {\n",
       "  text-align: right;\n",
       "  white-space: pre-wrap;\n",
       "}\n",
       "</style>\n",
       "<small>shape: (5, 2)</small><table border=\"1\" class=\"dataframe\"><thead><tr><th>Continent</th><th>Country</th></tr><tr><td>str</td><td>str</td></tr></thead><tbody><tr><td>&quot;Africa&quot;</td><td>&quot;Algeria&quot;</td></tr><tr><td>&quot;Africa&quot;</td><td>&quot;Angola&quot;</td></tr><tr><td>&quot;Africa&quot;</td><td>&quot;Benin&quot;</td></tr><tr><td>&quot;Africa&quot;</td><td>&quot;Botswana&quot;</td></tr><tr><td>&quot;Africa&quot;</td><td>&quot;Burkina Faso&quot;</td></tr></tbody></table></div>"
      ],
      "text/plain": [
       "shape: (5, 2)\n",
       "┌───────────┬──────────────┐\n",
       "│ Continent ┆ Country      │\n",
       "│ ---       ┆ ---          │\n",
       "│ str       ┆ str          │\n",
       "╞═══════════╪══════════════╡\n",
       "│ Africa    ┆ Algeria      │\n",
       "│ Africa    ┆ Angola       │\n",
       "│ Africa    ┆ Benin        │\n",
       "│ Africa    ┆ Botswana     │\n",
       "│ Africa    ┆ Burkina Faso │\n",
       "└───────────┴──────────────┘"
      ]
     },
     "execution_count": 42,
     "metadata": {},
     "output_type": "execute_result"
    }
   ],
   "source": [
    "continents = pl.read_csv('data/Countries_Continents.csv')\n",
    "continents[0:5]"
   ]
  },
  {
   "cell_type": "code",
   "execution_count": 43,
   "metadata": {},
   "outputs": [
    {
     "name": "stdout",
     "output_type": "stream",
     "text": [
      "Schema([('X', Float64), ('Y', Float64), ('OBJECTID', Int64), ('SOVEREIGNT', String), ('TYPE_', String), ('COUNTRY', String), ('FIRST_OFFI', String), ('SECOND_OFF', String), ('THIRD_OFFI', String), ('ENGLISH_FI', Int64), ('FRENCH_FIR', Int64), ('ARABIC_FIR', Int64), ('SPANISH_FI', Int64), ('PORTUGUESE', Int64), ('CHINESE_FI', Int64), ('RUSSIAN_FI', Int64), ('WORLD_LANG', String)])\n",
      "Schema([('Continent', String), ('Country', String)])\n"
     ]
    }
   ],
   "source": [
    "print(langs.schema)\n",
    "print(continents.schema)"
   ]
  },
  {
   "cell_type": "markdown",
   "metadata": {},
   "source": [
    "# FRENCH"
   ]
  },
  {
   "cell_type": "code",
   "execution_count": 44,
   "metadata": {},
   "outputs": [
    {
     "name": "stdout",
     "output_type": "stream",
     "text": [
      "29\n"
     ]
    },
    {
     "data": {
      "text/html": [
       "<div><style>\n",
       ".dataframe > thead > tr,\n",
       ".dataframe > tbody > tr {\n",
       "  text-align: right;\n",
       "  white-space: pre-wrap;\n",
       "}\n",
       "</style>\n",
       "<small>shape: (29,)</small><table border=\"1\" class=\"dataframe\"><thead><tr><th>COUNTRY</th></tr><tr><td>str</td></tr></thead><tbody><tr><td>&quot;Algeria&quot;</td></tr><tr><td>&quot;Belgium&quot;</td></tr><tr><td>&quot;Benin&quot;</td></tr><tr><td>&quot;Burkina Faso&quot;</td></tr><tr><td>&quot;Burundi&quot;</td></tr><tr><td>&quot;Cameroon&quot;</td></tr><tr><td>&quot;Canada&quot;</td></tr><tr><td>&quot;Central African Republic&quot;</td></tr><tr><td>&quot;Chad&quot;</td></tr><tr><td>&quot;Comoros&quot;</td></tr><tr><td>&quot;Congo&quot;</td></tr><tr><td>&quot;Democratic Republic of Congo&quot;</td></tr><tr><td>&quot;Djibouti&quot;</td></tr><tr><td>&quot;Equatorial Guinea&quot;</td></tr><tr><td>&quot;France&quot;</td></tr><tr><td>&quot;Gabon&quot;</td></tr><tr><td>&quot;Guinea&quot;</td></tr><tr><td>&quot;Haiti&quot;</td></tr><tr><td>&quot;Ivory Coast&quot;</td></tr><tr><td>&quot;Luxembourg&quot;</td></tr><tr><td>&quot;Madagascar&quot;</td></tr><tr><td>&quot;Mali&quot;</td></tr><tr><td>&quot;Mauritius&quot;</td></tr><tr><td>&quot;Monaco&quot;</td></tr><tr><td>&quot;Niger&quot;</td></tr><tr><td>&quot;Rwanda&quot;</td></tr><tr><td>&quot;Senegal&quot;</td></tr><tr><td>&quot;Switzerland&quot;</td></tr><tr><td>&quot;Togo&quot;</td></tr></tbody></table></div>"
      ],
      "text/plain": [
       "shape: (29,)\n",
       "Series: 'COUNTRY' [str]\n",
       "[\n",
       "\t\"Algeria\"\n",
       "\t\"Belgium\"\n",
       "\t\"Benin\"\n",
       "\t\"Burkina Faso\"\n",
       "\t\"Burundi\"\n",
       "\t\"Cameroon\"\n",
       "\t\"Canada\"\n",
       "\t\"Central African Republic\"\n",
       "\t\"Chad\"\n",
       "\t\"Comoros\"\n",
       "\t\"Congo\"\n",
       "\t\"Democratic Republic of Congo\"\n",
       "\t\"Djibouti\"\n",
       "\t\"Equatorial Guinea\"\n",
       "\t\"France\"\n",
       "\t\"Gabon\"\n",
       "\t\"Guinea\"\n",
       "\t\"Haiti\"\n",
       "\t\"Ivory Coast\"\n",
       "\t\"Luxembourg\"\n",
       "\t\"Madagascar\"\n",
       "\t\"Mali\"\n",
       "\t\"Mauritius\"\n",
       "\t\"Monaco\"\n",
       "\t\"Niger\"\n",
       "\t\"Rwanda\"\n",
       "\t\"Senegal\"\n",
       "\t\"Switzerland\"\n",
       "\t\"Togo\"\n",
       "]"
      ]
     },
     "execution_count": 44,
     "metadata": {},
     "output_type": "execute_result"
    }
   ],
   "source": [
    "french=langs.filter(((langs['FIRST_OFFI'] == 'French') | (langs['SECOND_OFF'] == 'French')) \n",
    "                    & ((langs['TYPE_'] == 'Sovereign country')|(langs['TYPE_'] == 'Country'))\n",
    "                    & (langs['SOVEREIGNT'] == langs['COUNTRY'])\n",
    "                    )\n",
    "print(french['COUNTRY'].n_unique())\n",
    "french['COUNTRY'].unique().sort()"
   ]
  },
  {
   "cell_type": "code",
   "execution_count": 45,
   "metadata": {},
   "outputs": [
    {
     "name": "stdout",
     "output_type": "stream",
     "text": [
      "Countries and their Continents:\n"
     ]
    },
    {
     "data": {
      "text/html": [
       "<div><style>\n",
       ".dataframe > thead > tr,\n",
       ".dataframe > tbody > tr {\n",
       "  text-align: right;\n",
       "  white-space: pre-wrap;\n",
       "}\n",
       "</style>\n",
       "<small>shape: (29, 2)</small><table border=\"1\" class=\"dataframe\"><thead><tr><th>COUNTRY</th><th>Continent</th></tr><tr><td>str</td><td>str</td></tr></thead><tbody><tr><td>&quot;Djibouti&quot;</td><td>&quot;Africa&quot;</td></tr><tr><td>&quot;Rwanda&quot;</td><td>&quot;Africa&quot;</td></tr><tr><td>&quot;Mauritius&quot;</td><td>&quot;Africa&quot;</td></tr><tr><td>&quot;Burundi&quot;</td><td>&quot;Africa&quot;</td></tr><tr><td>&quot;Benin&quot;</td><td>&quot;Africa&quot;</td></tr><tr><td>&quot;Chad&quot;</td><td>&quot;Africa&quot;</td></tr><tr><td>&quot;Comoros&quot;</td><td>&quot;Africa&quot;</td></tr><tr><td>&quot;Congo&quot;</td><td>&quot;Africa&quot;</td></tr><tr><td>&quot;Guinea&quot;</td><td>&quot;Africa&quot;</td></tr><tr><td>&quot;Niger&quot;</td><td>&quot;Africa&quot;</td></tr><tr><td>&quot;Burkina Faso&quot;</td><td>&quot;Africa&quot;</td></tr><tr><td>&quot;Democratic Republic of Congo&quot;</td><td>&quot;Africa&quot;</td></tr><tr><td>&quot;Cameroon&quot;</td><td>&quot;Africa&quot;</td></tr><tr><td>&quot;Central African Republic&quot;</td><td>&quot;Africa&quot;</td></tr><tr><td>&quot;Mali&quot;</td><td>&quot;Africa&quot;</td></tr><tr><td>&quot;Gabon&quot;</td><td>&quot;Africa&quot;</td></tr><tr><td>&quot;Algeria&quot;</td><td>&quot;Africa&quot;</td></tr><tr><td>&quot;Togo&quot;</td><td>&quot;Africa&quot;</td></tr><tr><td>&quot;Senegal&quot;</td><td>&quot;Africa&quot;</td></tr><tr><td>&quot;Ivory Coast&quot;</td><td>&quot;Africa&quot;</td></tr><tr><td>&quot;Madagascar&quot;</td><td>&quot;Africa&quot;</td></tr><tr><td>&quot;Equatorial Guinea&quot;</td><td>&quot;Africa&quot;</td></tr><tr><td>&quot;France&quot;</td><td>&quot;Europe&quot;</td></tr><tr><td>&quot;Monaco&quot;</td><td>&quot;Europe&quot;</td></tr><tr><td>&quot;Luxembourg&quot;</td><td>&quot;Europe&quot;</td></tr><tr><td>&quot;Switzerland&quot;</td><td>&quot;Europe&quot;</td></tr><tr><td>&quot;Belgium&quot;</td><td>&quot;Europe&quot;</td></tr><tr><td>&quot;Haiti&quot;</td><td>&quot;North America&quot;</td></tr><tr><td>&quot;Canada&quot;</td><td>&quot;North America&quot;</td></tr></tbody></table></div>"
      ],
      "text/plain": [
       "shape: (29, 2)\n",
       "┌──────────────────────────────┬───────────────┐\n",
       "│ COUNTRY                      ┆ Continent     │\n",
       "│ ---                          ┆ ---           │\n",
       "│ str                          ┆ str           │\n",
       "╞══════════════════════════════╪═══════════════╡\n",
       "│ Djibouti                     ┆ Africa        │\n",
       "│ Rwanda                       ┆ Africa        │\n",
       "│ Mauritius                    ┆ Africa        │\n",
       "│ Burundi                      ┆ Africa        │\n",
       "│ Benin                        ┆ Africa        │\n",
       "│ Chad                         ┆ Africa        │\n",
       "│ Comoros                      ┆ Africa        │\n",
       "│ Congo                        ┆ Africa        │\n",
       "│ Guinea                       ┆ Africa        │\n",
       "│ Niger                        ┆ Africa        │\n",
       "│ Burkina Faso                 ┆ Africa        │\n",
       "│ Democratic Republic of Congo ┆ Africa        │\n",
       "│ Cameroon                     ┆ Africa        │\n",
       "│ Central African Republic     ┆ Africa        │\n",
       "│ Mali                         ┆ Africa        │\n",
       "│ Gabon                        ┆ Africa        │\n",
       "│ Algeria                      ┆ Africa        │\n",
       "│ Togo                         ┆ Africa        │\n",
       "│ Senegal                      ┆ Africa        │\n",
       "│ Ivory Coast                  ┆ Africa        │\n",
       "│ Madagascar                   ┆ Africa        │\n",
       "│ Equatorial Guinea            ┆ Africa        │\n",
       "│ France                       ┆ Europe        │\n",
       "│ Monaco                       ┆ Europe        │\n",
       "│ Luxembourg                   ┆ Europe        │\n",
       "│ Switzerland                  ┆ Europe        │\n",
       "│ Belgium                      ┆ Europe        │\n",
       "│ Haiti                        ┆ North America │\n",
       "│ Canada                       ┆ North America │\n",
       "└──────────────────────────────┴───────────────┘"
      ]
     },
     "execution_count": 45,
     "metadata": {},
     "output_type": "execute_result"
    }
   ],
   "source": [
    "countries_with_continents = french.join(\n",
    "    continents,\n",
    "    left_on='COUNTRY',\n",
    "    right_on='Country',\n",
    "    how='left'\n",
    ").select([\n",
    "    'COUNTRY',\n",
    "    'Continent'\n",
    "]).unique().sort(pl.col('Continent'))  # Remove duplicates if any\n",
    "\n",
    "print(\"Countries and their Continents:\")\n",
    "countries_with_continents"
   ]
  },
  {
   "cell_type": "code",
   "execution_count": 46,
   "metadata": {},
   "outputs": [
    {
     "data": {
      "text/html": [
       "<div><style>\n",
       ".dataframe > thead > tr,\n",
       ".dataframe > tbody > tr {\n",
       "  text-align: right;\n",
       "  white-space: pre-wrap;\n",
       "}\n",
       "</style>\n",
       "<small>shape: (3, 2)</small><table border=\"1\" class=\"dataframe\"><thead><tr><th>Continent</th><th>country_count</th></tr><tr><td>str</td><td>u32</td></tr></thead><tbody><tr><td>&quot;Africa&quot;</td><td>22</td></tr><tr><td>&quot;Europe&quot;</td><td>5</td></tr><tr><td>&quot;North America&quot;</td><td>2</td></tr></tbody></table></div>"
      ],
      "text/plain": [
       "shape: (3, 2)\n",
       "┌───────────────┬───────────────┐\n",
       "│ Continent     ┆ country_count │\n",
       "│ ---           ┆ ---           │\n",
       "│ str           ┆ u32           │\n",
       "╞═══════════════╪═══════════════╡\n",
       "│ Africa        ┆ 22            │\n",
       "│ Europe        ┆ 5             │\n",
       "│ North America ┆ 2             │\n",
       "└───────────────┴───────────────┘"
      ]
     },
     "execution_count": 46,
     "metadata": {},
     "output_type": "execute_result"
    }
   ],
   "source": [
    "countries_per_continent = french.join(\n",
    "    continents,\n",
    "    left_on='COUNTRY',\n",
    "    right_on='Country',\n",
    "    how='left'\n",
    ").group_by('Continent')\\\n",
    " .agg(\n",
    "     pl.col('COUNTRY').n_unique().alias('country_count')\n",
    " )\\\n",
    " .sort('country_count', descending=True)\n",
    "\n",
    "countries_per_continent"
   ]
  },
  {
   "cell_type": "markdown",
   "metadata": {},
   "source": [
    "# ENGLISH"
   ]
  },
  {
   "cell_type": "code",
   "execution_count": 47,
   "metadata": {},
   "outputs": [
    {
     "name": "stdout",
     "output_type": "stream",
     "text": [
      "53\n"
     ]
    },
    {
     "data": {
      "text/html": [
       "<div><style>\n",
       ".dataframe > thead > tr,\n",
       ".dataframe > tbody > tr {\n",
       "  text-align: right;\n",
       "  white-space: pre-wrap;\n",
       "}\n",
       "</style>\n",
       "<small>shape: (53,)</small><table border=\"1\" class=\"dataframe\"><thead><tr><th>COUNTRY</th></tr><tr><td>str</td></tr></thead><tbody><tr><td>&quot;Antigua and Barbuda&quot;</td></tr><tr><td>&quot;Australia&quot;</td></tr><tr><td>&quot;Barbados&quot;</td></tr><tr><td>&quot;Belize&quot;</td></tr><tr><td>&quot;Botswana&quot;</td></tr><tr><td>&quot;Cameroon&quot;</td></tr><tr><td>&quot;Canada&quot;</td></tr><tr><td>&quot;Denmark&quot;</td></tr><tr><td>&quot;Dominica&quot;</td></tr><tr><td>&quot;Fiji&quot;</td></tr><tr><td>&quot;Gambia&quot;</td></tr><tr><td>&quot;Ghana&quot;</td></tr><tr><td>&quot;Grenada&quot;</td></tr><tr><td>&quot;Guyana&quot;</td></tr><tr><td>&quot;India&quot;</td></tr><tr><td>&quot;Ireland&quot;</td></tr><tr><td>&quot;Jamaica&quot;</td></tr><tr><td>&quot;Kenya&quot;</td></tr><tr><td>&quot;Kiribati&quot;</td></tr><tr><td>&quot;Lesotho&quot;</td></tr><tr><td>&quot;Liberia&quot;</td></tr><tr><td>&quot;Malawi&quot;</td></tr><tr><td>&quot;Malta&quot;</td></tr><tr><td>&quot;Marshall Islands&quot;</td></tr><tr><td>&quot;Mauritius&quot;</td></tr><tr><td>&quot;Micronesia&quot;</td></tr><tr><td>&quot;Namibia&quot;</td></tr><tr><td>&quot;New Zealand&quot;</td></tr><tr><td>&quot;Nigeria&quot;</td></tr><tr><td>&quot;Pakistan&quot;</td></tr><tr><td>&quot;Palau&quot;</td></tr><tr><td>&quot;Papua New Guinea&quot;</td></tr><tr><td>&quot;Philippines&quot;</td></tr><tr><td>&quot;Saint Kitts and Nevis&quot;</td></tr><tr><td>&quot;Saint Lucia&quot;</td></tr><tr><td>&quot;Saint Vincent and the Grenadines&quot;</td></tr><tr><td>&quot;Seychelles&quot;</td></tr><tr><td>&quot;Sierra Leone&quot;</td></tr><tr><td>&quot;Singapore&quot;</td></tr><tr><td>&quot;Solomon Islands&quot;</td></tr><tr><td>&quot;South Africa&quot;</td></tr><tr><td>&quot;South Sudan&quot;</td></tr><tr><td>&quot;Sudan&quot;</td></tr><tr><td>&quot;Swaziland&quot;</td></tr><tr><td>&quot;Tanzania&quot;</td></tr><tr><td>&quot;Tonga&quot;</td></tr><tr><td>&quot;Trinidad and Tobago&quot;</td></tr><tr><td>&quot;Tuvalu&quot;</td></tr><tr><td>&quot;Uganda&quot;</td></tr><tr><td>&quot;United Kingdom&quot;</td></tr><tr><td>&quot;United States&quot;</td></tr><tr><td>&quot;Vanuatu&quot;</td></tr><tr><td>&quot;Zambia&quot;</td></tr></tbody></table></div>"
      ],
      "text/plain": [
       "shape: (53,)\n",
       "Series: 'COUNTRY' [str]\n",
       "[\n",
       "\t\"Antigua and Barbuda\"\n",
       "\t\"Australia\"\n",
       "\t\"Barbados\"\n",
       "\t\"Belize\"\n",
       "\t\"Botswana\"\n",
       "\t\"Cameroon\"\n",
       "\t\"Canada\"\n",
       "\t\"Denmark\"\n",
       "\t\"Dominica\"\n",
       "\t\"Fiji\"\n",
       "\t\"Gambia\"\n",
       "\t\"Ghana\"\n",
       "\t\"Grenada\"\n",
       "\t\"Guyana\"\n",
       "\t\"India\"\n",
       "\t\"Ireland\"\n",
       "\t\"Jamaica\"\n",
       "\t\"Kenya\"\n",
       "\t\"Kiribati\"\n",
       "\t\"Lesotho\"\n",
       "\t\"Liberia\"\n",
       "\t\"Malawi\"\n",
       "\t\"Malta\"\n",
       "\t\"Marshall Islands\"\n",
       "\t\"Mauritius\"\n",
       "\t\"Micronesia\"\n",
       "\t\"Namibia\"\n",
       "\t\"New Zealand\"\n",
       "\t\"Nigeria\"\n",
       "\t\"Pakistan\"\n",
       "\t\"Palau\"\n",
       "\t\"Papua New Guinea\"\n",
       "\t\"Philippines\"\n",
       "\t\"Saint Kitts and Nevis\"\n",
       "\t\"Saint Lucia\"\n",
       "\t\"Saint Vincent and the Grenadines\"\n",
       "\t\"Seychelles\"\n",
       "\t\"Sierra Leone\"\n",
       "\t\"Singapore\"\n",
       "\t\"Solomon Islands\"\n",
       "\t\"South Africa\"\n",
       "\t\"South Sudan\"\n",
       "\t\"Sudan\"\n",
       "\t\"Swaziland\"\n",
       "\t\"Tanzania\"\n",
       "\t\"Tonga\"\n",
       "\t\"Trinidad and Tobago\"\n",
       "\t\"Tuvalu\"\n",
       "\t\"Uganda\"\n",
       "\t\"United Kingdom\"\n",
       "\t\"United States\"\n",
       "\t\"Vanuatu\"\n",
       "\t\"Zambia\"\n",
       "]"
      ]
     },
     "execution_count": 47,
     "metadata": {},
     "output_type": "execute_result"
    }
   ],
   "source": [
    "english=langs.filter(((langs['FIRST_OFFI'] == 'English') | (langs['SECOND_OFF'] == 'English')) \n",
    "                    & ((langs['TYPE_'] == 'Sovereign country')|(langs['TYPE_'] == 'Country'))\n",
    "                    & (langs['SOVEREIGNT'] == langs['COUNTRY'])\n",
    "                    )\n",
    "print(english['COUNTRY'].n_unique())\n",
    "english['COUNTRY'].unique().sort()"
   ]
  },
  {
   "cell_type": "code",
   "execution_count": 48,
   "metadata": {},
   "outputs": [
    {
     "name": "stdout",
     "output_type": "stream",
     "text": [
      "Countries and their Continents:\n"
     ]
    },
    {
     "data": {
      "text/html": [
       "<div><style>\n",
       ".dataframe > thead > tr,\n",
       ".dataframe > tbody > tr {\n",
       "  text-align: right;\n",
       "  white-space: pre-wrap;\n",
       "}\n",
       "</style>\n",
       "<small>shape: (53, 2)</small><table border=\"1\" class=\"dataframe\"><thead><tr><th>COUNTRY</th><th>Continent</th></tr><tr><td>str</td><td>str</td></tr></thead><tbody><tr><td>&quot;South Sudan&quot;</td><td>&quot;Africa&quot;</td></tr><tr><td>&quot;Gambia&quot;</td><td>&quot;Africa&quot;</td></tr><tr><td>&quot;Zambia&quot;</td><td>&quot;Africa&quot;</td></tr><tr><td>&quot;Seychelles&quot;</td><td>&quot;Africa&quot;</td></tr><tr><td>&quot;South Africa&quot;</td><td>&quot;Africa&quot;</td></tr><tr><td>&quot;Nigeria&quot;</td><td>&quot;Africa&quot;</td></tr><tr><td>&quot;Uganda&quot;</td><td>&quot;Africa&quot;</td></tr><tr><td>&quot;Mauritius&quot;</td><td>&quot;Africa&quot;</td></tr><tr><td>&quot;Tanzania&quot;</td><td>&quot;Africa&quot;</td></tr><tr><td>&quot;Namibia&quot;</td><td>&quot;Africa&quot;</td></tr><tr><td>&quot;Ghana&quot;</td><td>&quot;Africa&quot;</td></tr><tr><td>&quot;Lesotho&quot;</td><td>&quot;Africa&quot;</td></tr><tr><td>&quot;Sierra Leone&quot;</td><td>&quot;Africa&quot;</td></tr><tr><td>&quot;Botswana&quot;</td><td>&quot;Africa&quot;</td></tr><tr><td>&quot;Malawi&quot;</td><td>&quot;Africa&quot;</td></tr><tr><td>&quot;Kenya&quot;</td><td>&quot;Africa&quot;</td></tr><tr><td>&quot;Sudan&quot;</td><td>&quot;Africa&quot;</td></tr><tr><td>&quot;Cameroon&quot;</td><td>&quot;Africa&quot;</td></tr><tr><td>&quot;Liberia&quot;</td><td>&quot;Africa&quot;</td></tr><tr><td>&quot;Swaziland&quot;</td><td>&quot;Africa&quot;</td></tr><tr><td>&quot;Singapore&quot;</td><td>&quot;Asia&quot;</td></tr><tr><td>&quot;Pakistan&quot;</td><td>&quot;Asia&quot;</td></tr><tr><td>&quot;India&quot;</td><td>&quot;Asia&quot;</td></tr><tr><td>&quot;Philippines&quot;</td><td>&quot;Asia&quot;</td></tr><tr><td>&quot;Ireland&quot;</td><td>&quot;Europe&quot;</td></tr><tr><td>&quot;Denmark&quot;</td><td>&quot;Europe&quot;</td></tr><tr><td>&quot;Malta&quot;</td><td>&quot;Europe&quot;</td></tr><tr><td>&quot;United Kingdom&quot;</td><td>&quot;Europe&quot;</td></tr><tr><td>&quot;Saint Vincent and the Grenadines&quot;</td><td>&quot;North America&quot;</td></tr><tr><td>&quot;Saint Lucia&quot;</td><td>&quot;North America&quot;</td></tr><tr><td>&quot;Jamaica&quot;</td><td>&quot;North America&quot;</td></tr><tr><td>&quot;Barbados&quot;</td><td>&quot;North America&quot;</td></tr><tr><td>&quot;Trinidad and Tobago&quot;</td><td>&quot;North America&quot;</td></tr><tr><td>&quot;Grenada&quot;</td><td>&quot;North America&quot;</td></tr><tr><td>&quot;Dominica&quot;</td><td>&quot;North America&quot;</td></tr><tr><td>&quot;Belize&quot;</td><td>&quot;North America&quot;</td></tr><tr><td>&quot;Saint Kitts and Nevis&quot;</td><td>&quot;North America&quot;</td></tr><tr><td>&quot;United States&quot;</td><td>&quot;North America&quot;</td></tr><tr><td>&quot;Canada&quot;</td><td>&quot;North America&quot;</td></tr><tr><td>&quot;Antigua and Barbuda&quot;</td><td>&quot;North America&quot;</td></tr><tr><td>&quot;Kiribati&quot;</td><td>&quot;Oceania&quot;</td></tr><tr><td>&quot;Marshall Islands&quot;</td><td>&quot;Oceania&quot;</td></tr><tr><td>&quot;Micronesia&quot;</td><td>&quot;Oceania&quot;</td></tr><tr><td>&quot;Solomon Islands&quot;</td><td>&quot;Oceania&quot;</td></tr><tr><td>&quot;Fiji&quot;</td><td>&quot;Oceania&quot;</td></tr><tr><td>&quot;Australia&quot;</td><td>&quot;Oceania&quot;</td></tr><tr><td>&quot;Tuvalu&quot;</td><td>&quot;Oceania&quot;</td></tr><tr><td>&quot;Tonga&quot;</td><td>&quot;Oceania&quot;</td></tr><tr><td>&quot;Papua New Guinea&quot;</td><td>&quot;Oceania&quot;</td></tr><tr><td>&quot;Vanuatu&quot;</td><td>&quot;Oceania&quot;</td></tr><tr><td>&quot;New Zealand&quot;</td><td>&quot;Oceania&quot;</td></tr><tr><td>&quot;Palau&quot;</td><td>&quot;Oceania&quot;</td></tr><tr><td>&quot;Guyana&quot;</td><td>&quot;South America&quot;</td></tr></tbody></table></div>"
      ],
      "text/plain": [
       "shape: (53, 2)\n",
       "┌──────────────────────────────────┬───────────────┐\n",
       "│ COUNTRY                          ┆ Continent     │\n",
       "│ ---                              ┆ ---           │\n",
       "│ str                              ┆ str           │\n",
       "╞══════════════════════════════════╪═══════════════╡\n",
       "│ South Sudan                      ┆ Africa        │\n",
       "│ Gambia                           ┆ Africa        │\n",
       "│ Zambia                           ┆ Africa        │\n",
       "│ Seychelles                       ┆ Africa        │\n",
       "│ South Africa                     ┆ Africa        │\n",
       "│ Nigeria                          ┆ Africa        │\n",
       "│ Uganda                           ┆ Africa        │\n",
       "│ Mauritius                        ┆ Africa        │\n",
       "│ Tanzania                         ┆ Africa        │\n",
       "│ Namibia                          ┆ Africa        │\n",
       "│ Ghana                            ┆ Africa        │\n",
       "│ Lesotho                          ┆ Africa        │\n",
       "│ Sierra Leone                     ┆ Africa        │\n",
       "│ Botswana                         ┆ Africa        │\n",
       "│ Malawi                           ┆ Africa        │\n",
       "│ Kenya                            ┆ Africa        │\n",
       "│ Sudan                            ┆ Africa        │\n",
       "│ Cameroon                         ┆ Africa        │\n",
       "│ Liberia                          ┆ Africa        │\n",
       "│ Swaziland                        ┆ Africa        │\n",
       "│ Singapore                        ┆ Asia          │\n",
       "│ Pakistan                         ┆ Asia          │\n",
       "│ India                            ┆ Asia          │\n",
       "│ Philippines                      ┆ Asia          │\n",
       "│ Ireland                          ┆ Europe        │\n",
       "│ Denmark                          ┆ Europe        │\n",
       "│ Malta                            ┆ Europe        │\n",
       "│ United Kingdom                   ┆ Europe        │\n",
       "│ Saint Vincent and the Grenadines ┆ North America │\n",
       "│ Saint Lucia                      ┆ North America │\n",
       "│ Jamaica                          ┆ North America │\n",
       "│ Barbados                         ┆ North America │\n",
       "│ Trinidad and Tobago              ┆ North America │\n",
       "│ Grenada                          ┆ North America │\n",
       "│ Dominica                         ┆ North America │\n",
       "│ Belize                           ┆ North America │\n",
       "│ Saint Kitts and Nevis            ┆ North America │\n",
       "│ United States                    ┆ North America │\n",
       "│ Canada                           ┆ North America │\n",
       "│ Antigua and Barbuda              ┆ North America │\n",
       "│ Kiribati                         ┆ Oceania       │\n",
       "│ Marshall Islands                 ┆ Oceania       │\n",
       "│ Micronesia                       ┆ Oceania       │\n",
       "│ Solomon Islands                  ┆ Oceania       │\n",
       "│ Fiji                             ┆ Oceania       │\n",
       "│ Australia                        ┆ Oceania       │\n",
       "│ Tuvalu                           ┆ Oceania       │\n",
       "│ Tonga                            ┆ Oceania       │\n",
       "│ Papua New Guinea                 ┆ Oceania       │\n",
       "│ Vanuatu                          ┆ Oceania       │\n",
       "│ New Zealand                      ┆ Oceania       │\n",
       "│ Palau                            ┆ Oceania       │\n",
       "│ Guyana                           ┆ South America │\n",
       "└──────────────────────────────────┴───────────────┘"
      ]
     },
     "execution_count": 48,
     "metadata": {},
     "output_type": "execute_result"
    }
   ],
   "source": [
    "countries_with_continents = english.join(\n",
    "    continents,\n",
    "    left_on='COUNTRY',\n",
    "    right_on='Country',\n",
    "    how='left'\n",
    ").select([\n",
    "    'COUNTRY',\n",
    "    'Continent'\n",
    "]).unique().sort(pl.col('Continent'))  # Remove duplicates if any\n",
    "\n",
    "print(\"Countries and their Continents:\")\n",
    "countries_with_continents"
   ]
  },
  {
   "cell_type": "code",
   "execution_count": 49,
   "metadata": {},
   "outputs": [
    {
     "data": {
      "text/html": [
       "<div><style>\n",
       ".dataframe > thead > tr,\n",
       ".dataframe > tbody > tr {\n",
       "  text-align: right;\n",
       "  white-space: pre-wrap;\n",
       "}\n",
       "</style>\n",
       "<small>shape: (6, 2)</small><table border=\"1\" class=\"dataframe\"><thead><tr><th>Continent</th><th>country_count</th></tr><tr><td>str</td><td>u32</td></tr></thead><tbody><tr><td>&quot;Africa&quot;</td><td>20</td></tr><tr><td>&quot;Oceania&quot;</td><td>12</td></tr><tr><td>&quot;North America&quot;</td><td>12</td></tr><tr><td>&quot;Asia&quot;</td><td>4</td></tr><tr><td>&quot;Europe&quot;</td><td>4</td></tr><tr><td>&quot;South America&quot;</td><td>1</td></tr></tbody></table></div>"
      ],
      "text/plain": [
       "shape: (6, 2)\n",
       "┌───────────────┬───────────────┐\n",
       "│ Continent     ┆ country_count │\n",
       "│ ---           ┆ ---           │\n",
       "│ str           ┆ u32           │\n",
       "╞═══════════════╪═══════════════╡\n",
       "│ Africa        ┆ 20            │\n",
       "│ Oceania       ┆ 12            │\n",
       "│ North America ┆ 12            │\n",
       "│ Asia          ┆ 4             │\n",
       "│ Europe        ┆ 4             │\n",
       "│ South America ┆ 1             │\n",
       "└───────────────┴───────────────┘"
      ]
     },
     "execution_count": 49,
     "metadata": {},
     "output_type": "execute_result"
    }
   ],
   "source": [
    "countries_per_continent = english.join(\n",
    "    continents,\n",
    "    left_on='COUNTRY',\n",
    "    right_on='Country',\n",
    "    how='left'\n",
    ").group_by('Continent')\\\n",
    " .agg(\n",
    "     pl.col('COUNTRY').n_unique().alias('country_count')\n",
    " )\\\n",
    " .sort('country_count', descending=True)\n",
    "\n",
    "countries_per_continent"
   ]
  }
 ],
 "metadata": {
  "kernelspec": {
   "display_name": "venv",
   "language": "python",
   "name": "python3"
  },
  "language_info": {
   "codemirror_mode": {
    "name": "ipython",
    "version": 3
   },
   "file_extension": ".py",
   "mimetype": "text/x-python",
   "name": "python",
   "nbconvert_exporter": "python",
   "pygments_lexer": "ipython3",
   "version": "3.11.1"
  }
 },
 "nbformat": 4,
 "nbformat_minor": 4
}
