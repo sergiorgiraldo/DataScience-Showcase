{
 "cells": [
  {
   "cell_type": "markdown",
   "metadata": {},
   "source": [
    "## Setup"
   ]
  },
  {
   "cell_type": "code",
   "execution_count": 1,
   "metadata": {},
   "outputs": [],
   "source": [
    "import warnings\n",
    "warnings.filterwarnings('ignore')\n",
    "\n",
    "import pandas as pd\n",
    "import numpy as np\n",
    "\n",
    "import matplotlib.pyplot as plt\n",
    "import seaborn as sns\n",
    "%matplotlib inline"
   ]
  },
  {
   "cell_type": "markdown",
   "metadata": {},
   "source": [
    "## Exploratory Analysis\n",
    "\n",
    "Let's take a look at the data"
   ]
  },
  {
   "cell_type": "code",
   "execution_count": 2,
   "metadata": {
    "scrolled": true
   },
   "outputs": [
    {
     "name": "stdout",
     "output_type": "stream",
     "text": [
      "loc1,loc2,para1,dow,para2,para3,para4,price\n",
      "0,01,1,Mon,662,3000.0,3.8,73.49\n",
      "9,99,1,Thu,340,2760.0,9.2,300.0\n",
      "0,04,0,Mon,16,2700.0,3.0,130.0\n",
      "4,40,1,Mon,17,12320.0,6.4,365.0\n",
      "5,50,1,Thu,610,2117.0,10.8,357.5\n",
      "0,03,1,Tue,483,1899.0,13.6,550.0\n",
      "0,09,1,Mon,214,1000.0,3.0,210.0\n",
      "7,74,1,Wed,452,330.0,3.0,366.67\n",
      "8,89,1,Tue,130,8000.0,4.5,193.33\n",
      "9,90,1,Wed,595,15000.0,13.6,620.0\n",
      "3,39,4,Thu,143,24826.0,13.6,190.0\n",
      "2,20,0,Wed,323,20000.0,13.6,420.0\n",
      "2,20,0,Thu,291,1000.0,4.0,175.0\n",
      "6,67,1,Tue,628,957.0,5.2,250.0\n",
      "9,98,3,Fri,386,5000.0,12.0,460.0\n",
      "7,74,1,Thu,386,3250.0,8.0,325.0\n",
      "0,06,0,Tue,190,8856.0,5.6,133.33\n",
      "7,74,3,Fri,717,5000.0,13.6,820.0\n",
      "7,75,1,Thu,622,336.0,4.8,375.0\n"
     ]
    }
   ],
   "source": [
    "!head sample.csv\n",
    "!tail sample.csv"
   ]
  },
  {
   "cell_type": "code",
   "execution_count": 3,
   "metadata": {},
   "outputs": [
    {
     "data": {
      "text/html": [
       "<div>\n",
       "<style scoped>\n",
       "    .dataframe tbody tr th:only-of-type {\n",
       "        vertical-align: middle;\n",
       "    }\n",
       "\n",
       "    .dataframe tbody tr th {\n",
       "        vertical-align: top;\n",
       "    }\n",
       "\n",
       "    .dataframe thead th {\n",
       "        text-align: right;\n",
       "    }\n",
       "</style>\n",
       "<table border=\"1\" class=\"dataframe\">\n",
       "  <thead>\n",
       "    <tr style=\"text-align: right;\">\n",
       "      <th></th>\n",
       "      <th>loc1</th>\n",
       "      <th>loc2</th>\n",
       "      <th>para1</th>\n",
       "      <th>dow</th>\n",
       "      <th>para2</th>\n",
       "      <th>para3</th>\n",
       "      <th>para4</th>\n",
       "      <th>price</th>\n",
       "    </tr>\n",
       "  </thead>\n",
       "  <tbody>\n",
       "    <tr>\n",
       "      <th>0</th>\n",
       "      <td>0</td>\n",
       "      <td>01</td>\n",
       "      <td>1</td>\n",
       "      <td>Mon</td>\n",
       "      <td>662</td>\n",
       "      <td>3000.0</td>\n",
       "      <td>3.8</td>\n",
       "      <td>73.49</td>\n",
       "    </tr>\n",
       "    <tr>\n",
       "      <th>1</th>\n",
       "      <td>9</td>\n",
       "      <td>99</td>\n",
       "      <td>1</td>\n",
       "      <td>Thu</td>\n",
       "      <td>340</td>\n",
       "      <td>2760.0</td>\n",
       "      <td>9.2</td>\n",
       "      <td>300.00</td>\n",
       "    </tr>\n",
       "    <tr>\n",
       "      <th>2</th>\n",
       "      <td>0</td>\n",
       "      <td>04</td>\n",
       "      <td>0</td>\n",
       "      <td>Mon</td>\n",
       "      <td>16</td>\n",
       "      <td>2700.0</td>\n",
       "      <td>3.0</td>\n",
       "      <td>130.00</td>\n",
       "    </tr>\n",
       "    <tr>\n",
       "      <th>3</th>\n",
       "      <td>4</td>\n",
       "      <td>40</td>\n",
       "      <td>1</td>\n",
       "      <td>Mon</td>\n",
       "      <td>17</td>\n",
       "      <td>12320.0</td>\n",
       "      <td>6.4</td>\n",
       "      <td>365.00</td>\n",
       "    </tr>\n",
       "    <tr>\n",
       "      <th>4</th>\n",
       "      <td>5</td>\n",
       "      <td>50</td>\n",
       "      <td>1</td>\n",
       "      <td>Thu</td>\n",
       "      <td>610</td>\n",
       "      <td>2117.0</td>\n",
       "      <td>10.8</td>\n",
       "      <td>357.50</td>\n",
       "    </tr>\n",
       "  </tbody>\n",
       "</table>\n",
       "</div>"
      ],
      "text/plain": [
       "  loc1 loc2  para1  dow  para2    para3  para4   price\n",
       "0    0   01      1  Mon    662   3000.0    3.8   73.49\n",
       "1    9   99      1  Thu    340   2760.0    9.2  300.00\n",
       "2    0   04      0  Mon     16   2700.0    3.0  130.00\n",
       "3    4   40      1  Mon     17  12320.0    6.4  365.00\n",
       "4    5   50      1  Thu    610   2117.0   10.8  357.50"
      ]
     },
     "execution_count": 3,
     "metadata": {},
     "output_type": "execute_result"
    }
   ],
   "source": [
    "df_all = pd.read_csv('./sample.csv')\n",
    "df_all.head()"
   ]
  },
  {
   "cell_type": "markdown",
   "metadata": {},
   "source": [
    "Are there missing values?"
   ]
  },
  {
   "cell_type": "code",
   "execution_count": 4,
   "metadata": {},
   "outputs": [
    {
     "data": {
      "text/plain": [
       "loc1     0\n",
       "loc2     0\n",
       "para1    0\n",
       "dow      0\n",
       "para2    0\n",
       "para3    0\n",
       "para4    0\n",
       "price    0\n",
       "dtype: int64"
      ]
     },
     "execution_count": 4,
     "metadata": {},
     "output_type": "execute_result"
    }
   ],
   "source": [
    "df_all.isnull().sum()"
   ]
  },
  {
   "cell_type": "markdown",
   "metadata": {},
   "source": [
    "What are the types of data?"
   ]
  },
  {
   "cell_type": "code",
   "execution_count": 5,
   "metadata": {},
   "outputs": [
    {
     "data": {
      "text/plain": [
       "loc1      object\n",
       "loc2      object\n",
       "para1      int64\n",
       "dow       object\n",
       "para2      int64\n",
       "para3    float64\n",
       "para4    float64\n",
       "price    float64\n",
       "dtype: object"
      ]
     },
     "execution_count": 5,
     "metadata": {},
     "output_type": "execute_result"
    }
   ],
   "source": [
    "df_all.dtypes"
   ]
  },
  {
   "cell_type": "markdown",
   "metadata": {},
   "source": [
    "First, let's have a look at the number of unique values across different variables:"
   ]
  },
  {
   "cell_type": "code",
   "execution_count": 6,
   "metadata": {},
   "outputs": [
    {
     "data": {
      "text/plain": [
       "2    1607\n",
       "0    1486\n",
       "1    1223\n",
       "7    1081\n",
       "3     945\n",
       "5     846\n",
       "4     773\n",
       "8     727\n",
       "9     690\n",
       "6     620\n",
       "S       1\n",
       "T       1\n",
       "Name: loc1, dtype: int64"
      ]
     },
     "execution_count": 6,
     "metadata": {},
     "output_type": "execute_result"
    }
   ],
   "source": [
    "df_all.loc1.value_counts()"
   ]
  },
  {
   "cell_type": "code",
   "execution_count": 7,
   "metadata": {
    "scrolled": true
   },
   "outputs": [
    {
     "data": {
      "text/plain": [
       "21    499\n",
       "06    454\n",
       "74    329\n",
       "12    273\n",
       "14    246\n",
       "01    241\n",
       "22    226\n",
       "50    217\n",
       "23    215\n",
       "89    194\n",
       "09    192\n",
       "04    180\n",
       "20    168\n",
       "15    168\n",
       "67    167\n",
       "16    166\n",
       "31    160\n",
       "28    149\n",
       "19    149\n",
       "39    146\n",
       "59    142\n",
       "47    139\n",
       "08    137\n",
       "99    133\n",
       "85    130\n",
       "13    128\n",
       "49    127\n",
       "90    127\n",
       "76    123\n",
       "63    119\n",
       "     ... \n",
       "53     43\n",
       "36     43\n",
       "46     42\n",
       "81     40\n",
       "10     39\n",
       "05     38\n",
       "92     37\n",
       "96     35\n",
       "94     35\n",
       "65     34\n",
       "60     31\n",
       "17     28\n",
       "98     25\n",
       "84     24\n",
       "18     24\n",
       "69     15\n",
       "80     11\n",
       "61     10\n",
       "82      9\n",
       "62      5\n",
       "11      2\n",
       "S6      1\n",
       "0N      1\n",
       "43      1\n",
       "0C      1\n",
       "TS      1\n",
       "0L      1\n",
       "00      1\n",
       "0B      1\n",
       "0T      1\n",
       "Name: loc2, Length: 107, dtype: int64"
      ]
     },
     "execution_count": 7,
     "metadata": {},
     "output_type": "execute_result"
    }
   ],
   "source": [
    "df_all.loc2.value_counts()"
   ]
  },
  {
   "cell_type": "code",
   "execution_count": 8,
   "metadata": {},
   "outputs": [
    {
     "data": {
      "text/plain": [
       "1      7052\n",
       "3      1613\n",
       "0       836\n",
       "2       268\n",
       "4       164\n",
       "5        51\n",
       "6         6\n",
       "7         3\n",
       "13        2\n",
       "9         2\n",
       "337       1\n",
       "24        1\n",
       "8         1\n",
       "Name: para1, dtype: int64"
      ]
     },
     "execution_count": 8,
     "metadata": {},
     "output_type": "execute_result"
    }
   ],
   "source": [
    "df_all.para1.value_counts()"
   ]
  },
  {
   "cell_type": "markdown",
   "metadata": {},
   "source": [
    "It seems that `para1` is also a categorical variable, in additipon to `loc1`, `loc2` and `dow`"
   ]
  },
  {
   "cell_type": "code",
   "execution_count": 9,
   "metadata": {},
   "outputs": [
    {
     "data": {
      "text/plain": [
       "1016"
      ]
     },
     "execution_count": 9,
     "metadata": {},
     "output_type": "execute_result"
    }
   ],
   "source": [
    "df_all.para2.nunique()"
   ]
  },
  {
   "cell_type": "code",
   "execution_count": 10,
   "metadata": {},
   "outputs": [
    {
     "data": {
      "text/plain": [
       "4359"
      ]
     },
     "execution_count": 10,
     "metadata": {},
     "output_type": "execute_result"
    }
   ],
   "source": [
    "df_all.para3.nunique()"
   ]
  },
  {
   "cell_type": "code",
   "execution_count": 11,
   "metadata": {},
   "outputs": [
    {
     "data": {
      "text/plain": [
       "243"
      ]
     },
     "execution_count": 11,
     "metadata": {},
     "output_type": "execute_result"
    }
   ],
   "source": [
    "df_all.para4.nunique()"
   ]
  },
  {
   "cell_type": "code",
   "execution_count": 12,
   "metadata": {
    "scrolled": true
   },
   "outputs": [
    {
     "data": {
      "text/plain": [
       "Wed    2233\n",
       "Tue    1997\n",
       "Fri    1931\n",
       "Mon    1918\n",
       "Thu    1908\n",
       "Sat      10\n",
       "Sun       3\n",
       "Name: dow, dtype: int64"
      ]
     },
     "execution_count": 12,
     "metadata": {},
     "output_type": "execute_result"
    }
   ],
   "source": [
    "df_all.dow.value_counts()"
   ]
  },
  {
   "cell_type": "markdown",
   "metadata": {},
   "source": [
    "Examining the data, it seems `loc1` is a subset of `loc2`. Let's confirm that:"
   ]
  },
  {
   "cell_type": "code",
   "execution_count": 13,
   "metadata": {},
   "outputs": [
    {
     "data": {
      "text/plain": [
       "True"
      ]
     },
     "execution_count": 13,
     "metadata": {},
     "output_type": "execute_result"
    }
   ],
   "source": [
    "(df_all.loc1 == df_all.loc2.str[0]).all()"
   ]
  },
  {
   "cell_type": "markdown",
   "metadata": {},
   "source": [
    "Now we can keep only the second character and create another variable which is interaction between them:"
   ]
  },
  {
   "cell_type": "code",
   "execution_count": 14,
   "metadata": {},
   "outputs": [],
   "source": [
    "df_all.loc2 = df_all.loc2.str[1]\n",
    "df_all['loc12'] = df_all.loc1 + \"_\" + df_all.loc2"
   ]
  },
  {
   "cell_type": "markdown",
   "metadata": {},
   "source": [
    "Now let's have a look at the target variable"
   ]
  },
  {
   "cell_type": "code",
   "execution_count": 15,
   "metadata": {},
   "outputs": [
    {
     "data": {
      "text/plain": [
       "count    10000.000000\n",
       "mean       433.733056\n",
       "std        277.435947\n",
       "min         50.730000\n",
       "25%        250.000000\n",
       "50%        370.000000\n",
       "75%        550.000000\n",
       "max       5700.000000\n",
       "Name: price, dtype: float64"
      ]
     },
     "execution_count": 15,
     "metadata": {},
     "output_type": "execute_result"
    }
   ],
   "source": [
    "df_all.price.describe()"
   ]
  },
  {
   "cell_type": "code",
   "execution_count": 16,
   "metadata": {},
   "outputs": [
    {
     "data": {
      "text/plain": [
       "<matplotlib.axes._subplots.AxesSubplot at 0x1d15dcd51d0>"
      ]
     },
     "execution_count": 16,
     "metadata": {},
     "output_type": "execute_result"
    },
    {
     "data": {
      "image/png": "[encoded data removed]",
      "text/plain": [
       "<Figure size 432x288 with 1 Axes>"
      ]
     },
     "metadata": {},
     "output_type": "display_data"
    }
   ],
   "source": [
    "sns.distplot(df_all.price)"
   ]
  },
  {
   "cell_type": "markdown",
   "metadata": {},
   "source": [
    "The variable has a long right tail. Let's try logarithmic transformation"
   ]
  },
  {
   "cell_type": "code",
   "execution_count": 17,
   "metadata": {},
   "outputs": [
    {
     "data": {
      "text/plain": [
       "<matplotlib.axes._subplots.AxesSubplot at 0x1d15dfdbb00>"
      ]
     },
     "execution_count": 17,
     "metadata": {},
     "output_type": "execute_result"
    },
    {
     "data": {
      "image/png": "[encoded data removed]",
      "text/plain": [
       "<Figure size 432x288 with 1 Axes>"
      ]
     },
     "metadata": {},
     "output_type": "display_data"
    }
   ],
   "source": [
    "sns.distplot(np.log10(df_all.price))"
   ]
  },
  {
   "cell_type": "code",
   "execution_count": 18,
   "metadata": {},
   "outputs": [
    {
     "data": {
      "text/plain": [
       "<matplotlib.axes._subplots.AxesSubplot at 0x1d15e031b70>"
      ]
     },
     "execution_count": 18,
     "metadata": {},
     "output_type": "execute_result"
    },
    {
     "data": {
      "image/png": "[encoded data removed]",
      "text/plain": [
       "<Figure size 432x288 with 1 Axes>"
      ]
     },
     "metadata": {},
     "output_type": "display_data"
    }
   ],
   "source": [
    "sns.distplot(np.log(df_all.price))"
   ]
  },
  {
   "cell_type": "markdown",
   "metadata": {},
   "source": [
    "Notice the logarithmic transformation can remove the effect of the long right tail. Thus, it will be used the log of price instead of price"
   ]
  },
  {
   "cell_type": "markdown",
   "metadata": {},
   "source": [
    "## Modeling"
   ]
  },
  {
   "cell_type": "code",
   "execution_count": 19,
   "metadata": {},
   "outputs": [],
   "source": [
    "from sklearn.cross_validation import KFold, ShuffleSplit\n",
    "from sklearn.feature_extraction.text import CountVectorizer\n",
    "from sklearn.feature_extraction import DictVectorizer\n",
    "from sklearn.preprocessing import StandardScaler\n",
    "\n",
    "from sklearn.linear_model import Lasso, LinearRegression\n",
    "from sklearn.metrics import mean_squared_error\n",
    "\n",
    "import scipy.sparse as sp\n",
    "\n",
    "def rmse(y_true, y_pred):\n",
    "    return np.sqrt(mean_squared_error(y_true, y_pred))"
   ]
  },
  {
   "cell_type": "markdown",
   "metadata": {},
   "source": [
    "Separating dataset into train and test"
   ]
  },
  {
   "cell_type": "code",
   "execution_count": 20,
   "metadata": {},
   "outputs": [],
   "source": [
    "train_idx, test_idx = next(iter(ShuffleSplit(n=10000, n_iter=1, test_size=0.3, random_state=2)))\n",
    "\n",
    "df_train = df_all.iloc[train_idx].reset_index(drop=1)\n",
    "df_test = df_all.iloc[test_idx].reset_index(drop=1)"
   ]
  },
  {
   "cell_type": "markdown",
   "metadata": {},
   "source": [
    "For categorical data, let's use One-Hot-Encoding"
   ]
  },
  {
   "cell_type": "code",
   "execution_count": 21,
   "metadata": {},
   "outputs": [
    {
     "data": {
      "text/plain": [
       "<7000x135 sparse matrix of type '<class 'numpy.uint8'>'\n",
       "\twith 34447 stored elements in Compressed Sparse Row format>"
      ]
     },
     "execution_count": 21,
     "metadata": {},
     "output_type": "execute_result"
    }
   ],
   "source": [
    "dv = DictVectorizer(dtype=np.uint8)\n",
    "records = df_train[['loc1', 'loc2', 'loc12', 'para1', 'dow']].to_dict(orient=\"records\")\n",
    "categorical_train = dv.fit_transform(records)\n",
    "categorical_train"
   ]
  },
  {
   "cell_type": "markdown",
   "metadata": {},
   "source": [
    "Let's standardize the numerical variables to help the model converge and for easier coefficient interpretation"
   ]
  },
  {
   "cell_type": "code",
   "execution_count": 22,
   "metadata": {},
   "outputs": [],
   "source": [
    "scale = StandardScaler()\n",
    "num_train = df_train[['para2', 'para3', 'para2', 'para4']].values\n",
    "num_train = scale.fit_transform(num_train)"
   ]
  },
  {
   "cell_type": "code",
   "execution_count": 23,
   "metadata": {},
   "outputs": [],
   "source": [
    "X = sp.hstack([categorical_train, num_train], format='csr')\n",
    "y = np.log10(df_train.price.values)"
   ]
  },
  {
   "cell_type": "markdown",
   "metadata": {},
   "source": [
    "For evaluating the model, let's use RMSLE (Root Mean Squared Logarithmic Error).\n",
    "\n",
    "For validation, let's use 3-Fold CV:"
   ]
  },
  {
   "cell_type": "code",
   "execution_count": 24,
   "metadata": {},
   "outputs": [],
   "source": [
    "cv = KFold(n=len(df_train), n_folds=3, shuffle=True, random_state=1)"
   ]
  },
  {
   "cell_type": "markdown",
   "metadata": {},
   "source": [
    "Let's see the error for each fold and resulting error:"
   ]
  },
  {
   "cell_type": "code",
   "execution_count": 25,
   "metadata": {},
   "outputs": [
    {
     "name": "stdout",
     "output_type": "stream",
     "text": [
      "RMSLE=0.145, RMSE=181.134\n"
     ]
    },
    {
     "data": {
      "image/png": "[encoded data removed]",
      "text/plain": [
       "<Figure size 648x216 with 2 Axes>"
      ]
     },
     "metadata": {},
     "output_type": "display_data"
    },
    {
     "name": "stdout",
     "output_type": "stream",
     "text": [
      "RMSLE=0.152, RMSE=184.404\n"
     ]
    },
    {
     "data": {
      "image/png": "[encoded data removed]",
      "text/plain": [
       "<Figure size 648x216 with 2 Axes>"
      ]
     },
     "metadata": {},
     "output_type": "display_data"
    },
    {
     "name": "stdout",
     "output_type": "stream",
     "text": [
      "RMSLE=0.152, RMSE=353.922\n"
     ]
    },
    {
     "data": {
      "image/png": "[encoded data removed]",
      "text/plain": [
       "<Figure size 648x216 with 2 Axes>"
      ]
     },
     "metadata": {},
     "output_type": "display_data"
    },
    {
     "name": "stdout",
     "output_type": "stream",
     "text": [
      "RMSLE = 0.150 ± 0.003\n"
     ]
    }
   ],
   "source": [
    "rmsles = []\n",
    "\n",
    "for train, val in cv:\n",
    "    m = LinearRegression().fit(X[train], y[train])\n",
    "    y_pred = m.predict(X[val])\n",
    "\n",
    "    rmsle = rmse(y[val], y_pred)\n",
    "    rmsles.append(rmsle)\n",
    "\n",
    "    print('RMSLE=%.3f, RMSE=%.3f' % (rmsle, rmse(10 ** y[val], 10 ** y_pred)))\n",
    "\n",
    "    plt.figure(figsize=(9, 3))\n",
    "    plt.subplot(1, 2, 1)\n",
    "    sns.distplot(y_pred, hist_kws={'label': 'real'})\n",
    "    sns.distplot(y[val], hist_kws={'label': 'predicted'})\n",
    "    plt.legend()\n",
    "    \n",
    "    plt.subplot(1, 2, 2)\n",
    "    sns.distplot(y_pred - y[val])\n",
    "    plt.vlines(0, 0, 4)\n",
    "    plt.xlim(-1, 1)\n",
    "    plt.show()\n",
    "\n",
    "print('RMSLE = %.3f ± %0.3f' % (np.mean(rmsles), np.std(rmsles)))"
   ]
  },
  {
   "cell_type": "markdown",
   "metadata": {},
   "source": [
    "Now retraining the model on the entire training data"
   ]
  },
  {
   "cell_type": "code",
   "execution_count": 26,
   "metadata": {},
   "outputs": [],
   "source": [
    "model = LinearRegression().fit(X, y)"
   ]
  },
  {
   "cell_type": "markdown",
   "metadata": {},
   "source": [
    "Also, it could be interesting to look at feature importances:"
   ]
  },
  {
   "cell_type": "code",
   "execution_count": 27,
   "metadata": {
    "scrolled": true
   },
   "outputs": [
    {
     "data": {
      "image/png": "[encoded data removed]",
      "text/plain": [
       "<Figure size 576x2160 with 1 Axes>"
      ]
     },
     "metadata": {},
     "output_type": "display_data"
    }
   ],
   "source": [
    "features = np.array(dv.feature_names_ + ['para2', 'para3', 'para2', 'para4'])\n",
    "coef = model.coef_\n",
    "coef_idx = np.argsort(coef)\n",
    "\n",
    "plt.figure(figsize=(8, 30))\n",
    "plt.title(\"Coefficients\")\n",
    "coef_num = range(len(coef))\n",
    "plt.barh(coef_num, coef[coef_idx], color=\"r\", align=\"center\")\n",
    "\n",
    "plt.yticks(coef_num, features[coef_idx])\n",
    "plt.ylim([-1, X.shape[1]])\n",
    "\n",
    "plt.show()"
   ]
  },
  {
   "cell_type": "markdown",
   "metadata": {},
   "source": [
    "Variables that contribute most to high prices are `loc12=4_3` and `dow=Sun`, and to low prices: `loc12=5_4` and `loc12=0_6`"
   ]
  },
  {
   "cell_type": "markdown",
   "metadata": {},
   "source": [
    "## Testing"
   ]
  },
  {
   "cell_type": "markdown",
   "metadata": {},
   "source": [
    "Now let's evaluate the model on the hold-out set to check for overfitting"
   ]
  },
  {
   "cell_type": "code",
   "execution_count": 28,
   "metadata": {},
   "outputs": [],
   "source": [
    "records = df_test[['loc1', 'loc2', 'loc12', 'para1', 'dow']].to_dict(orient=\"records\")\n",
    "categorical_test = dv.transform(records)"
   ]
  },
  {
   "cell_type": "code",
   "execution_count": 29,
   "metadata": {},
   "outputs": [],
   "source": [
    "num_test = df_test[['para2', 'para3', 'para2', 'para4']].values\n",
    "num_test = scale.transform(num_test)"
   ]
  },
  {
   "cell_type": "code",
   "execution_count": 30,
   "metadata": {},
   "outputs": [],
   "source": [
    "X_test = sp.hstack([categorical_test, num_test], format='csr')\n",
    "y_test = np.log10(df_test.price.values)"
   ]
  },
  {
   "cell_type": "code",
   "execution_count": 31,
   "metadata": {},
   "outputs": [
    {
     "name": "stdout",
     "output_type": "stream",
     "text": [
      "0.1500500754668884\n",
      "183.00085524851792\n"
     ]
    }
   ],
   "source": [
    "y_pred = model.predict(X_test)\n",
    "print(rmse(y_test, y_pred))\n",
    "print(rmse(10 ** y_test, 10 ** y_pred))"
   ]
  },
  {
   "cell_type": "markdown",
   "metadata": {},
   "source": [
    "The RMSLE on the testing set is close to error on CV, so the model generalizes well"
   ]
  }
 ],
 "metadata": {
  "kernelspec": {
   "display_name": "Python 3",
   "language": "python",
   "name": "python3"
  },
  "language_info": {
   "codemirror_mode": {
    "name": "ipython",
    "version": 3
   },
   "file_extension": ".py",
   "mimetype": "text/x-python",
   "name": "python",
   "nbconvert_exporter": "python",
   "pygments_lexer": "ipython3",
   "version": "3.6.5"
  }
 },
 "nbformat": 4,
 "nbformat_minor": 1
}
