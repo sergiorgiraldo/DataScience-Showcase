{
 "cells": [
  {
   "cell_type": "code",
   "execution_count": 21,
   "id": "125ccd82-3344-499a-a510-0864779537b2",
   "metadata": {},
   "outputs": [],
   "source": [
    "import duckdb as dd\n",
    "import pandas as pd"
   ]
  },
  {
   "cell_type": "code",
   "execution_count": 23,
   "id": "79f7e9fd-4beb-4951-80a1-7cc7e4c332e5",
   "metadata": {},
   "outputs": [],
   "source": [
    "# Create an in-memory DuckDB connection\n",
    "# con = dd.connect(':memory:')\n",
    "\n",
    "# Create a persistent DuckDB database\n",
    "con = dd.connect('my_database.db')"
   ]
  },
  {
   "cell_type": "code",
   "execution_count": 4,
   "id": "b813795d-f149-4bfc-828f-5bcbb51b03ef",
   "metadata": {},
   "outputs": [
    {
     "name": "stdout",
     "output_type": "stream",
     "text": [
      "<class 'list'>\n",
      "[('DuckDB_is_cool',)]\n",
      "<class 'duckdb.duckdb.DuckDBPyRelation'>\n",
      "┌────────────────┐\n",
      "│     answer     │\n",
      "│    varchar     │\n",
      "├────────────────┤\n",
      "│ DuckDB_is_cool │\n",
      "└────────────────┘\n",
      "\n"
     ]
    }
   ],
   "source": [
    "#Running a basic SQL query\n",
    "result = dd.sql(\"SELECT 'DuckDB_is_cool' AS answer\").fetchall()\n",
    "print(type(result))\n",
    "print(result)\n",
    "\n",
    "result = dd.sql(\"SELECT 'DuckDB_is_cool' AS answer\")\n",
    "print( type(result) )\n",
    "print(result)"
   ]
  },
  {
   "cell_type": "code",
   "execution_count": 5,
   "id": "0a036721-c18c-4b3a-ae81-a9d388c510f0",
   "metadata": {},
   "outputs": [
    {
     "name": "stdout",
     "output_type": "stream",
     "text": [
      "┌────────────┐\n",
      "│     ID     │\n",
      "│   int64    │\n",
      "├────────────┤\n",
      "│          0 │\n",
      "│          1 │\n",
      "│          2 │\n",
      "│          3 │\n",
      "│          4 │\n",
      "│          5 │\n",
      "│          6 │\n",
      "│          7 │\n",
      "│          8 │\n",
      "│          9 │\n",
      "│          · │\n",
      "│          · │\n",
      "│          · │\n",
      "│        990 │\n",
      "│        991 │\n",
      "│        992 │\n",
      "│        993 │\n",
      "│        994 │\n",
      "│        995 │\n",
      "│        996 │\n",
      "│        997 │\n",
      "│        998 │\n",
      "│        999 │\n",
      "├────────────┤\n",
      "│ 1000 rows  │\n",
      "│ (20 shown) │\n",
      "└────────────┘\n",
      "\n"
     ]
    }
   ],
   "source": [
    "# Create a relation from a SQL query\n",
    "rel = dd.sql(\"SELECT * FROM range(10_00) AS tbl(ID)\")\n",
    "# Display the relation\n",
    "rel.show()"
   ]
  },
  {
   "cell_type": "code",
   "execution_count": 6,
   "id": "cfcfbfba-c9ab-4be8-80f0-bf291da363e1",
   "metadata": {},
   "outputs": [
    {
     "data": {
      "text/plain": [
       "┌─────────────┬─────────┬───────────┬──────────────────────────────────────────────────────────┬───────────────────────────────────────────────┬───────────┐\n",
       "│  database   │ schema  │   name    │                       column_names                       │                 column_types                  │ temporary │\n",
       "│   varchar   │ varchar │  varchar  │                        varchar[]                         │                   varchar[]                   │  boolean  │\n",
       "├─────────────┼─────────┼───────────┼──────────────────────────────────────────────────────────┼───────────────────────────────────────────────┼───────────┤\n",
       "│ my_database │ main    │ countries │ [country, code, region, sub_region, intermediate_region] │ [VARCHAR, VARCHAR, VARCHAR, VARCHAR, VARCHAR] │ false     │\n",
       "│ my_database │ main    │ employees │ [id, name, age, salary]                                  │ [INTEGER, VARCHAR, INTEGER, DOUBLE]           │ false     │\n",
       "└─────────────┴─────────┴───────────┴──────────────────────────────────────────────────────────┴───────────────────────────────────────────────┴───────────┘"
      ]
     },
     "execution_count": 6,
     "metadata": {},
     "output_type": "execute_result"
    }
   ],
   "source": [
    "con = dd.connect('my_database.db')\n",
    "con.sql('SHOW ALL TABLES')"
   ]
  },
  {
   "cell_type": "code",
   "execution_count": 7,
   "id": "85a12b5b-bdc4-4d1b-b2bb-c4d1f048402d",
   "metadata": {},
   "outputs": [
    {
     "data": {
      "text/plain": [
       "┌─────────────┬─────────┬───────────┬──────────────────────────────────────────────────────────┬───────────────────────────────────────────────┬───────────┐\n",
       "│  database   │ schema  │   name    │                       column_names                       │                 column_types                  │ temporary │\n",
       "│   varchar   │ varchar │  varchar  │                        varchar[]                         │                   varchar[]                   │  boolean  │\n",
       "├─────────────┼─────────┼───────────┼──────────────────────────────────────────────────────────┼───────────────────────────────────────────────┼───────────┤\n",
       "│ my_database │ main    │ countries │ [country, code, region, sub_region, intermediate_region] │ [VARCHAR, VARCHAR, VARCHAR, VARCHAR, VARCHAR] │ false     │\n",
       "│ my_database │ main    │ employees │ [id, name, age, salary]                                  │ [INTEGER, VARCHAR, INTEGER, DOUBLE]           │ false     │\n",
       "└─────────────┴─────────┴───────────┴──────────────────────────────────────────────────────────┴───────────────────────────────────────────────┴───────────┘"
      ]
     },
     "execution_count": 7,
     "metadata": {},
     "output_type": "execute_result"
    }
   ],
   "source": [
    "# Create a table\n",
    "con.execute('''\n",
    "CREATE OR REPLACE TABLE countries( \n",
    "    country VARCHAR,\n",
    "    code VARCHAR,\n",
    "    region VARCHAR,\n",
    "    sub_region VARCHAR,\n",
    "    intermediate_region VARCHAR\n",
    ");\n",
    "''')\n",
    "# Insert some data\n",
    "con.execute('''\n",
    "INSERT INTO countries VALUES\n",
    "('Australia', 'AUS', 'Oceania', 'Australia and New Zealand', ''),\n",
    "('India', 'IND', 'Asia', 'Southern Asia', '');\n",
    "''')\n",
    "\n",
    "con.sql('SHOW ALL TABLES')"
   ]
  },
  {
   "cell_type": "code",
   "execution_count": 8,
   "id": "6b238cef-1891-4bcf-ab02-72da99a16a7b",
   "metadata": {},
   "outputs": [
    {
     "data": {
      "text/plain": [
       "┌─────────────┬─────────┬───────────┬──────────────────────────────────────────────────────────┬───────────────────────────────────────────────┬───────────┐\n",
       "│  database   │ schema  │   name    │                       column_names                       │                 column_types                  │ temporary │\n",
       "│   varchar   │ varchar │  varchar  │                        varchar[]                         │                   varchar[]                   │  boolean  │\n",
       "├─────────────┼─────────┼───────────┼──────────────────────────────────────────────────────────┼───────────────────────────────────────────────┼───────────┤\n",
       "│ my_database │ main    │ countries │ [country, code, region, sub_region, intermediate_region] │ [VARCHAR, VARCHAR, VARCHAR, VARCHAR, VARCHAR] │ false     │\n",
       "│ my_database │ main    │ employees │ [id, name, age, salary]                                  │ [INTEGER, VARCHAR, INTEGER, DOUBLE]           │ false     │\n",
       "└─────────────┴─────────┴───────────┴──────────────────────────────────────────────────────────┴───────────────────────────────────────────────┴───────────┘"
      ]
     },
     "execution_count": 8,
     "metadata": {},
     "output_type": "execute_result"
    }
   ],
   "source": [
    "# Create second table\n",
    "con.execute('''\n",
    "CREATE OR REPLACE TABLE employees(\n",
    "    id INTEGER,\n",
    "    name VARCHAR,\n",
    "    age INTEGER,\n",
    "    salary DOUBLE\n",
    ");\n",
    "''')\n",
    "\n",
    "# Insert some data in second table\n",
    "con.execute('''\n",
    "INSERT INTO employees VALUES\n",
    "(1, 'Person 1', 30, 70000),\n",
    "(2, 'Person 2', 25, 55000),\n",
    "(3, 'Person 3', 35, 80000);\n",
    "''')\n",
    "\n",
    "\n",
    "# Result of showing tables after creating the second table\n",
    "con.sql('SHOW ALL TABLES')"
   ]
  },
  {
   "cell_type": "code",
   "execution_count": 9,
   "id": "f0f8f4e8-bd42-4218-8c61-cdca145db800",
   "metadata": {},
   "outputs": [
    {
     "data": {
      "text/plain": [
       "┌───────────┬─────────┬─────────┬───────────────────────────┬─────────────────────┐\n",
       "│  country  │  code   │ region  │        sub_region         │ intermediate_region │\n",
       "│  varchar  │ varchar │ varchar │          varchar          │       varchar       │\n",
       "├───────────┼─────────┼─────────┼───────────────────────────┼─────────────────────┤\n",
       "│ Australia │ AUS     │ Oceania │ Australia and New Zealand │                     │\n",
       "│ India     │ IND     │ Asia    │ Southern Asia             │                     │\n",
       "└───────────┴─────────┴─────────┴───────────────────────────┴─────────────────────┘"
      ]
     },
     "execution_count": 9,
     "metadata": {},
     "output_type": "execute_result"
    }
   ],
   "source": [
    "con.sql('SELECT * FROM countries;')"
   ]
  },
  {
   "cell_type": "code",
   "execution_count": 10,
   "id": "170559d7",
   "metadata": {},
   "outputs": [
    {
     "data": {
      "text/plain": [
       "┌───────┬──────────┬───────┬─────────┐\n",
       "│  id   │   name   │  age  │ salary  │\n",
       "│ int32 │ varchar  │ int32 │ double  │\n",
       "├───────┼──────────┼───────┼─────────┤\n",
       "│     1 │ Person 1 │    30 │ 70000.0 │\n",
       "│     2 │ Person 2 │    25 │ 55000.0 │\n",
       "│     3 │ Person 3 │    35 │ 80000.0 │\n",
       "└───────┴──────────┴───────┴─────────┘"
      ]
     },
     "execution_count": 10,
     "metadata": {},
     "output_type": "execute_result"
    }
   ],
   "source": [
    "con.sql('SELECT * FROM employees;')"
   ]
  },
  {
   "cell_type": "code",
   "execution_count": 11,
   "id": "d24a1553",
   "metadata": {},
   "outputs": [],
   "source": [
    "con.sql('''\n",
    "        INSERT INTO countries (country, code, region, sub_region, intermediate_region) \n",
    "        (SELECT * FROM \"data/countries.csv\")\n",
    "''')"
   ]
  },
  {
   "cell_type": "code",
   "execution_count": 12,
   "id": "d2e538d2",
   "metadata": {},
   "outputs": [
    {
     "data": {
      "text/plain": [
       "┌────────────────────────────────────┬─────────┬──────────┬─────────────────────────────────┬─────────────────────┐\n",
       "│              country               │  code   │  region  │           sub_region            │ intermediate_region │\n",
       "│              varchar               │ varchar │ varchar  │             varchar             │       varchar       │\n",
       "├────────────────────────────────────┼─────────┼──────────┼─────────────────────────────────┼─────────────────────┤\n",
       "│ Australia                          │ AUS     │ Oceania  │ Australia and New Zealand       │                     │\n",
       "│ India                              │ IND     │ Asia     │ Southern Asia                   │                     │\n",
       "│ Afghanistan                        │ AFG     │ Asia     │ Southern Asia                   │ NULL                │\n",
       "│ Åland Islands                      │ ALA     │ Europe   │ Northern Europe                 │ NULL                │\n",
       "│ Albania                            │ ALB     │ Europe   │ Southern Europe                 │ NULL                │\n",
       "│ Algeria                            │ DZA     │ Africa   │ Northern Africa                 │ NULL                │\n",
       "│ American Samoa                     │ ASM     │ Oceania  │ Polynesia                       │ NULL                │\n",
       "│ Andorra                            │ AND     │ Europe   │ Southern Europe                 │ NULL                │\n",
       "│ Angola                             │ AGO     │ Africa   │ Sub-Saharan Africa              │ Middle Africa       │\n",
       "│ Anguilla                           │ AIA     │ Americas │ Latin America and the Caribbean │ Caribbean           │\n",
       "│    ·                               │  ·      │    ·     │     ·                           │  ·                  │\n",
       "│    ·                               │  ·      │    ·     │     ·                           │  ·                  │\n",
       "│    ·                               │  ·      │    ·     │     ·                           │  ·                  │\n",
       "│ Vanuatu                            │ VUT     │ Oceania  │ Melanesia                       │ NULL                │\n",
       "│ Venezuela (Bolivarian Republic of) │ VEN     │ Americas │ Latin America and the Caribbean │ South America       │\n",
       "│ Viet Nam                           │ VNM     │ Asia     │ South-eastern Asia              │ NULL                │\n",
       "│ Virgin Islands (British)           │ VGB     │ Americas │ Latin America and the Caribbean │ Caribbean           │\n",
       "│ Virgin Islands (U.S.)              │ VIR     │ Americas │ Latin America and the Caribbean │ Caribbean           │\n",
       "│ Wallis and Futuna                  │ WLF     │ Oceania  │ Polynesia                       │ NULL                │\n",
       "│ Western Sahara                     │ ESH     │ Africa   │ Northern Africa                 │ NULL                │\n",
       "│ Yemen                              │ YEM     │ Asia     │ Western Asia                    │ NULL                │\n",
       "│ Zambia                             │ ZMB     │ Africa   │ Sub-Saharan Africa              │ Eastern Africa      │\n",
       "│ Zimbabwe                           │ ZWE     │ Africa   │ Sub-Saharan Africa              │ Eastern Africa      │\n",
       "├────────────────────────────────────┴─────────┴──────────┴─────────────────────────────────┴─────────────────────┤\n",
       "│ 251 rows (20 shown)                                                                                   5 columns │\n",
       "└─────────────────────────────────────────────────────────────────────────────────────────────────────────────────┘"
      ]
     },
     "execution_count": 12,
     "metadata": {},
     "output_type": "execute_result"
    }
   ],
   "source": [
    "con.sql('SELECT * FROM countries;')"
   ]
  },
  {
   "cell_type": "code",
   "execution_count": 13,
   "id": "594a820a",
   "metadata": {},
   "outputs": [
    {
     "data": {
      "text/plain": [
       "┌───────────────────┬─────────┬─────────┬────────────┬─────────────────────┐\n",
       "│      country      │  code   │ region  │ sub_region │ intermediate_region │\n",
       "│      varchar      │ varchar │ varchar │  varchar   │       varchar       │\n",
       "├───────────────────┼─────────┼─────────┼────────────┼─────────────────────┤\n",
       "│ American Samoa    │ ASM     │ Oceania │ Polynesia  │ NULL                │\n",
       "│ Cook Islands      │ COK     │ Oceania │ Polynesia  │ NULL                │\n",
       "│ French Polynesia  │ PYF     │ Oceania │ Polynesia  │ NULL                │\n",
       "│ Niue              │ NIU     │ Oceania │ Polynesia  │ NULL                │\n",
       "│ Pitcairn          │ PCN     │ Oceania │ Polynesia  │ NULL                │\n",
       "│ Samoa             │ WSM     │ Oceania │ Polynesia  │ NULL                │\n",
       "│ Tokelau           │ TKL     │ Oceania │ Polynesia  │ NULL                │\n",
       "│ Tonga             │ TON     │ Oceania │ Polynesia  │ NULL                │\n",
       "│ Tuvalu            │ TUV     │ Oceania │ Polynesia  │ NULL                │\n",
       "│ Wallis and Futuna │ WLF     │ Oceania │ Polynesia  │ NULL                │\n",
       "├───────────────────┴─────────┴─────────┴────────────┴─────────────────────┤\n",
       "│ 10 rows                                                        5 columns │\n",
       "└──────────────────────────────────────────────────────────────────────────┘"
      ]
     },
     "execution_count": 13,
     "metadata": {},
     "output_type": "execute_result"
    }
   ],
   "source": [
    "con.sql('''\n",
    "        SELECT * FROM countries \n",
    "        where \n",
    "        region = 'Oceania' \n",
    "        AND sub_region = 'Polynesia'\n",
    "''')"
   ]
  },
  {
   "cell_type": "code",
   "execution_count": 14,
   "id": "de4db242",
   "metadata": {},
   "outputs": [
    {
     "data": {
      "text/plain": [
       "┌───────────────────┬─────────┬─────────┬────────────┬─────────────────────┐\n",
       "│       name        │  code   │ region  │ sub-region │ intermediate-region │\n",
       "│      varchar      │ varchar │ varchar │  varchar   │       varchar       │\n",
       "├───────────────────┼─────────┼─────────┼────────────┼─────────────────────┤\n",
       "│ American Samoa    │ ASM     │ Oceania │ Polynesia  │ NULL                │\n",
       "│ Cook Islands      │ COK     │ Oceania │ Polynesia  │ NULL                │\n",
       "│ French Polynesia  │ PYF     │ Oceania │ Polynesia  │ NULL                │\n",
       "│ Niue              │ NIU     │ Oceania │ Polynesia  │ NULL                │\n",
       "│ Pitcairn          │ PCN     │ Oceania │ Polynesia  │ NULL                │\n",
       "│ Samoa             │ WSM     │ Oceania │ Polynesia  │ NULL                │\n",
       "│ Tokelau           │ TKL     │ Oceania │ Polynesia  │ NULL                │\n",
       "│ Tonga             │ TON     │ Oceania │ Polynesia  │ NULL                │\n",
       "│ Tuvalu            │ TUV     │ Oceania │ Polynesia  │ NULL                │\n",
       "│ Wallis and Futuna │ WLF     │ Oceania │ Polynesia  │ NULL                │\n",
       "├───────────────────┴─────────┴─────────┴────────────┴─────────────────────┤\n",
       "│ 10 rows                                                        5 columns │\n",
       "└──────────────────────────────────────────────────────────────────────────┘"
      ]
     },
     "execution_count": 14,
     "metadata": {},
     "output_type": "execute_result"
    }
   ],
   "source": [
    "# you can also query directly from the file\n",
    "\n",
    "con.sql('''\n",
    "        SELECT  *\n",
    "            FROM\n",
    "                'data/countries.csv'\n",
    "            WHERE\n",
    "                region = 'Oceania'\n",
    "                AND \"sub-region\" = 'Polynesia'\n",
    "''')"
   ]
  },
  {
   "cell_type": "code",
   "execution_count": 15,
   "id": "508a5e4e",
   "metadata": {},
   "outputs": [
    {
     "data": {
      "text/plain": [
       "┌───────┬──────────┬───────┬──────────┐\n",
       "│  id   │   name   │  age  │  salary  │\n",
       "│ int32 │ varchar  │ int32 │  double  │\n",
       "├───────┼──────────┼───────┼──────────┤\n",
       "│     1 │ Person 1 │    30 │  70000.0 │\n",
       "│     2 │ Person 2 │    25 │  55000.0 │\n",
       "│     3 │ Person 3 │    35 │  80000.0 │\n",
       "│     4 │ Person 4 │    45 │ 100000.0 │\n",
       "│     5 │ Person 5 │    40 │  85000.0 │\n",
       "│     6 │ Person 6 │    35 │  75000.0 │\n",
       "└───────┴──────────┴───────┴──────────┘"
      ]
     },
     "execution_count": 15,
     "metadata": {},
     "output_type": "execute_result"
    }
   ],
   "source": [
    "#you can use pandas dataframe\n",
    "\n",
    "df = pd.DataFrame({\n",
    "    'id': [4, 5, 6],\n",
    "    'name': ['Person 4', 'Person 5', 'Person 6'],\n",
    "    'age': [45, 40, 35],\n",
    "    'salary': [100000, 85000, 75000]\n",
    "})\n",
    "\n",
    "con.sql('''\n",
    "        INSERT INTO employees (id, name, age, salary)\n",
    "        SELECT * FROM df\n",
    "''')\n",
    "\n",
    "con.sql('select * from employees')"
   ]
  },
  {
   "cell_type": "code",
   "execution_count": 16,
   "id": "14e74aec",
   "metadata": {},
   "outputs": [
    {
     "data": {
      "application/vnd.microsoft.datawrangler.viewer.v0+json": {
       "columns": [
        {
         "name": "index",
         "rawType": "int64",
         "type": "integer"
        },
        {
         "name": "name",
         "rawType": "object",
         "type": "string"
        },
        {
         "name": "code",
         "rawType": "object",
         "type": "string"
        },
        {
         "name": "region",
         "rawType": "object",
         "type": "string"
        },
        {
         "name": "sub-region",
         "rawType": "object",
         "type": "string"
        },
        {
         "name": "intermediate-region",
         "rawType": "object",
         "type": "unknown"
        }
       ],
       "conversionMethod": "pd.DataFrame",
       "ref": "3cc31116-6ba0-4101-b3b9-1d343bf355fa",
       "rows": [
        [
         "0",
         "American Samoa",
         "ASM",
         "Oceania",
         "Polynesia",
         null
        ],
        [
         "1",
         "Cook Islands",
         "COK",
         "Oceania",
         "Polynesia",
         null
        ],
        [
         "2",
         "French Polynesia",
         "PYF",
         "Oceania",
         "Polynesia",
         null
        ],
        [
         "3",
         "Niue",
         "NIU",
         "Oceania",
         "Polynesia",
         null
        ],
        [
         "4",
         "Pitcairn",
         "PCN",
         "Oceania",
         "Polynesia",
         null
        ],
        [
         "5",
         "Samoa",
         "WSM",
         "Oceania",
         "Polynesia",
         null
        ],
        [
         "6",
         "Tokelau",
         "TKL",
         "Oceania",
         "Polynesia",
         null
        ],
        [
         "7",
         "Tonga",
         "TON",
         "Oceania",
         "Polynesia",
         null
        ],
        [
         "8",
         "Tuvalu",
         "TUV",
         "Oceania",
         "Polynesia",
         null
        ],
        [
         "9",
         "Wallis and Futuna",
         "WLF",
         "Oceania",
         "Polynesia",
         null
        ]
       ],
       "shape": {
        "columns": 5,
        "rows": 10
       }
      },
      "text/html": [
       "<div>\n",
       "<style scoped>\n",
       "    .dataframe tbody tr th:only-of-type {\n",
       "        vertical-align: middle;\n",
       "    }\n",
       "\n",
       "    .dataframe tbody tr th {\n",
       "        vertical-align: top;\n",
       "    }\n",
       "\n",
       "    .dataframe thead th {\n",
       "        text-align: right;\n",
       "    }\n",
       "</style>\n",
       "<table border=\"1\" class=\"dataframe\">\n",
       "  <thead>\n",
       "    <tr style=\"text-align: right;\">\n",
       "      <th></th>\n",
       "      <th>name</th>\n",
       "      <th>code</th>\n",
       "      <th>region</th>\n",
       "      <th>sub-region</th>\n",
       "      <th>intermediate-region</th>\n",
       "    </tr>\n",
       "  </thead>\n",
       "  <tbody>\n",
       "    <tr>\n",
       "      <th>0</th>\n",
       "      <td>American Samoa</td>\n",
       "      <td>ASM</td>\n",
       "      <td>Oceania</td>\n",
       "      <td>Polynesia</td>\n",
       "      <td>None</td>\n",
       "    </tr>\n",
       "    <tr>\n",
       "      <th>1</th>\n",
       "      <td>Cook Islands</td>\n",
       "      <td>COK</td>\n",
       "      <td>Oceania</td>\n",
       "      <td>Polynesia</td>\n",
       "      <td>None</td>\n",
       "    </tr>\n",
       "    <tr>\n",
       "      <th>2</th>\n",
       "      <td>French Polynesia</td>\n",
       "      <td>PYF</td>\n",
       "      <td>Oceania</td>\n",
       "      <td>Polynesia</td>\n",
       "      <td>None</td>\n",
       "    </tr>\n",
       "    <tr>\n",
       "      <th>3</th>\n",
       "      <td>Niue</td>\n",
       "      <td>NIU</td>\n",
       "      <td>Oceania</td>\n",
       "      <td>Polynesia</td>\n",
       "      <td>None</td>\n",
       "    </tr>\n",
       "    <tr>\n",
       "      <th>4</th>\n",
       "      <td>Pitcairn</td>\n",
       "      <td>PCN</td>\n",
       "      <td>Oceania</td>\n",
       "      <td>Polynesia</td>\n",
       "      <td>None</td>\n",
       "    </tr>\n",
       "    <tr>\n",
       "      <th>5</th>\n",
       "      <td>Samoa</td>\n",
       "      <td>WSM</td>\n",
       "      <td>Oceania</td>\n",
       "      <td>Polynesia</td>\n",
       "      <td>None</td>\n",
       "    </tr>\n",
       "    <tr>\n",
       "      <th>6</th>\n",
       "      <td>Tokelau</td>\n",
       "      <td>TKL</td>\n",
       "      <td>Oceania</td>\n",
       "      <td>Polynesia</td>\n",
       "      <td>None</td>\n",
       "    </tr>\n",
       "    <tr>\n",
       "      <th>7</th>\n",
       "      <td>Tonga</td>\n",
       "      <td>TON</td>\n",
       "      <td>Oceania</td>\n",
       "      <td>Polynesia</td>\n",
       "      <td>None</td>\n",
       "    </tr>\n",
       "    <tr>\n",
       "      <th>8</th>\n",
       "      <td>Tuvalu</td>\n",
       "      <td>TUV</td>\n",
       "      <td>Oceania</td>\n",
       "      <td>Polynesia</td>\n",
       "      <td>None</td>\n",
       "    </tr>\n",
       "    <tr>\n",
       "      <th>9</th>\n",
       "      <td>Wallis and Futuna</td>\n",
       "      <td>WLF</td>\n",
       "      <td>Oceania</td>\n",
       "      <td>Polynesia</td>\n",
       "      <td>None</td>\n",
       "    </tr>\n",
       "  </tbody>\n",
       "</table>\n",
       "</div>"
      ],
      "text/plain": [
       "                name code   region sub-region intermediate-region\n",
       "0     American Samoa  ASM  Oceania  Polynesia                None\n",
       "1       Cook Islands  COK  Oceania  Polynesia                None\n",
       "2   French Polynesia  PYF  Oceania  Polynesia                None\n",
       "3               Niue  NIU  Oceania  Polynesia                None\n",
       "4           Pitcairn  PCN  Oceania  Polynesia                None\n",
       "5              Samoa  WSM  Oceania  Polynesia                None\n",
       "6            Tokelau  TKL  Oceania  Polynesia                None\n",
       "7              Tonga  TON  Oceania  Polynesia                None\n",
       "8             Tuvalu  TUV  Oceania  Polynesia                None\n",
       "9  Wallis and Futuna  WLF  Oceania  Polynesia                None"
      ]
     },
     "execution_count": 16,
     "metadata": {},
     "output_type": "execute_result"
    }
   ],
   "source": [
    "#you can generate a pandas dataframe from a result\n",
    "df = con.sql('''\n",
    "        SELECT  *\n",
    "            FROM\n",
    "                'data/countries.csv'\n",
    "            WHERE\n",
    "                region = 'Oceania'\n",
    "                AND \"sub-region\" = 'Polynesia'\n",
    "''').df()\n",
    "\n",
    "df"
   ]
  },
  {
   "cell_type": "code",
   "execution_count": 17,
   "id": "3c8ca172",
   "metadata": {},
   "outputs": [
    {
     "data": {
      "application/vnd.microsoft.datawrangler.viewer.v0+json": {
       "columns": [
        {
         "name": "index",
         "rawType": "int64",
         "type": "integer"
        },
        {
         "name": "name",
         "rawType": "object",
         "type": "string"
        },
        {
         "name": "code",
         "rawType": "object",
         "type": "string"
        },
        {
         "name": "region",
         "rawType": "object",
         "type": "string"
        },
        {
         "name": "sub-region",
         "rawType": "object",
         "type": "string"
        },
        {
         "name": "intermediate-region",
         "rawType": "object",
         "type": "unknown"
        }
       ],
       "conversionMethod": "pd.DataFrame",
       "ref": "585f2f23-c4e0-4a18-975a-b9175b242ede",
       "rows": [
        [
         "0",
         "Afghanistan",
         "AFG",
         "Asia",
         "Southern Asia",
         null
        ],
        [
         "1",
         "Åland Islands",
         "ALA",
         "Europe",
         "Northern Europe",
         null
        ],
        [
         "2",
         "Albania",
         "ALB",
         "Europe",
         "Southern Europe",
         null
        ],
        [
         "3",
         "Algeria",
         "DZA",
         "Africa",
         "Northern Africa",
         null
        ],
        [
         "4",
         "American Samoa",
         "ASM",
         "Oceania",
         "Polynesia",
         null
        ]
       ],
       "shape": {
        "columns": 5,
        "rows": 5
       }
      },
      "text/html": [
       "<div>\n",
       "<style scoped>\n",
       "    .dataframe tbody tr th:only-of-type {\n",
       "        vertical-align: middle;\n",
       "    }\n",
       "\n",
       "    .dataframe tbody tr th {\n",
       "        vertical-align: top;\n",
       "    }\n",
       "\n",
       "    .dataframe thead th {\n",
       "        text-align: right;\n",
       "    }\n",
       "</style>\n",
       "<table border=\"1\" class=\"dataframe\">\n",
       "  <thead>\n",
       "    <tr style=\"text-align: right;\">\n",
       "      <th></th>\n",
       "      <th>name</th>\n",
       "      <th>code</th>\n",
       "      <th>region</th>\n",
       "      <th>sub-region</th>\n",
       "      <th>intermediate-region</th>\n",
       "    </tr>\n",
       "  </thead>\n",
       "  <tbody>\n",
       "    <tr>\n",
       "      <th>0</th>\n",
       "      <td>Afghanistan</td>\n",
       "      <td>AFG</td>\n",
       "      <td>Asia</td>\n",
       "      <td>Southern Asia</td>\n",
       "      <td>None</td>\n",
       "    </tr>\n",
       "    <tr>\n",
       "      <th>1</th>\n",
       "      <td>Åland Islands</td>\n",
       "      <td>ALA</td>\n",
       "      <td>Europe</td>\n",
       "      <td>Northern Europe</td>\n",
       "      <td>None</td>\n",
       "    </tr>\n",
       "    <tr>\n",
       "      <th>2</th>\n",
       "      <td>Albania</td>\n",
       "      <td>ALB</td>\n",
       "      <td>Europe</td>\n",
       "      <td>Southern Europe</td>\n",
       "      <td>None</td>\n",
       "    </tr>\n",
       "    <tr>\n",
       "      <th>3</th>\n",
       "      <td>Algeria</td>\n",
       "      <td>DZA</td>\n",
       "      <td>Africa</td>\n",
       "      <td>Northern Africa</td>\n",
       "      <td>None</td>\n",
       "    </tr>\n",
       "    <tr>\n",
       "      <th>4</th>\n",
       "      <td>American Samoa</td>\n",
       "      <td>ASM</td>\n",
       "      <td>Oceania</td>\n",
       "      <td>Polynesia</td>\n",
       "      <td>None</td>\n",
       "    </tr>\n",
       "  </tbody>\n",
       "</table>\n",
       "</div>"
      ],
      "text/plain": [
       "             name code   region       sub-region intermediate-region\n",
       "0     Afghanistan  AFG     Asia    Southern Asia                None\n",
       "1   Åland Islands  ALA   Europe  Northern Europe                None\n",
       "2         Albania  ALB   Europe  Southern Europe                None\n",
       "3         Algeria  DZA   Africa  Northern Africa                None\n",
       "4  American Samoa  ASM  Oceania        Polynesia                None"
      ]
     },
     "execution_count": 17,
     "metadata": {},
     "output_type": "execute_result"
    }
   ],
   "source": [
    "# Read data from a Parquet file\n",
    "con.sql(\"SELECT * FROM 'data/countries.parquet'\").df().head()"
   ]
  },
  {
   "cell_type": "code",
   "execution_count": 18,
   "id": "dfc41bcf",
   "metadata": {},
   "outputs": [
    {
     "data": {
      "text/plain": [
       "┌──────────┬────────────────┐\n",
       "│  region  │ country_counts │\n",
       "│ varchar  │     int64      │\n",
       "├──────────┼────────────────┤\n",
       "│ Africa   │             60 │\n",
       "│ Americas │             57 │\n",
       "│ Asia     │             51 │\n",
       "│ Europe   │             51 │\n",
       "│ Oceania  │             29 │\n",
       "│ NULL     │              1 │\n",
       "└──────────┴────────────────┘"
      ]
     },
     "execution_count": 18,
     "metadata": {},
     "output_type": "execute_result"
    }
   ],
   "source": [
    "# you can have the usual analyticals from sql\n",
    "con.sql('''\n",
    "        SELECT  region\n",
    "                , COUNT(DISTINCT country) AS country_counts\n",
    "            FROM\n",
    "                countries\n",
    "            GROUP BY\n",
    "                region\n",
    "            ORDER BY\n",
    "                country_counts DESC\n",
    "''')"
   ]
  },
  {
   "cell_type": "code",
   "execution_count": 19,
   "id": "a4d62eaf",
   "metadata": {},
   "outputs": [
    {
     "data": {
      "text/plain": [
       "┌───────┬──────────┬───────┬──────────┐\n",
       "│  id   │   name   │  age  │  salary  │\n",
       "│ int32 │ varchar  │ int32 │  double  │\n",
       "├───────┼──────────┼───────┼──────────┤\n",
       "│     3 │ Person 3 │    35 │  80000.0 │\n",
       "│     4 │ Person 4 │    45 │ 100000.0 │\n",
       "│     5 │ Person 5 │    40 │  85000.0 │\n",
       "└───────┴──────────┴───────┴──────────┘"
      ]
     },
     "execution_count": 19,
     "metadata": {},
     "output_type": "execute_result"
    }
   ],
   "source": [
    "# even CTE's\n",
    "con.sql('''\n",
    "        WITH avg_salary AS (\n",
    "            SELECT\n",
    "                    ROUND(AVG(salary),2) AS avg_salary\n",
    "                FROM\n",
    "                    employees\n",
    "            )\n",
    "        \n",
    "        SELECT\n",
    "                *\n",
    "            FROM\n",
    "                employees\n",
    "            WHERE\n",
    "                salary > (SELECT avg_salary FROM avg_salary)\n",
    "        \n",
    "''')"
   ]
  },
  {
   "cell_type": "code",
   "execution_count": 24,
   "id": "3404b810",
   "metadata": {},
   "outputs": [
    {
     "data": {
      "application/vnd.jupyter.widget-view+json": {
       "model_id": "7444b81734664bb99fdeca67c3130f6f",
       "version_major": 2,
       "version_minor": 0
      },
      "text/plain": [
       "FloatProgress(value=0.0, layout=Layout(width='auto'), style=ProgressStyle(bar_color='black'))"
      ]
     },
     "metadata": {},
     "output_type": "display_data"
    },
    {
     "data": {
      "application/vnd.microsoft.datawrangler.viewer.v0+json": {
       "columns": [
        {
         "name": "index",
         "rawType": "int64",
         "type": "integer"
        },
        {
         "name": "user",
         "rawType": "int64",
         "type": "integer"
        },
        {
         "name": "cat_1",
         "rawType": "int64",
         "type": "integer"
        },
        {
         "name": "cat_2",
         "rawType": "int64",
         "type": "integer"
        },
        {
         "name": "cat_3",
         "rawType": "int64",
         "type": "integer"
        },
        {
         "name": "cat_4",
         "rawType": "int64",
         "type": "integer"
        },
        {
         "name": "cat_5",
         "rawType": "int64",
         "type": "integer"
        },
        {
         "name": "cat_6",
         "rawType": "int64",
         "type": "integer"
        },
        {
         "name": "num_7",
         "rawType": "float64",
         "type": "float"
        },
        {
         "name": "num_8",
         "rawType": "float64",
         "type": "float"
        },
        {
         "name": "num_9",
         "rawType": "float64",
         "type": "float"
        },
        {
         "name": "num_10",
         "rawType": "float64",
         "type": "float"
        },
        {
         "name": "num_11",
         "rawType": "float64",
         "type": "float"
        },
        {
         "name": "num_12",
         "rawType": "float64",
         "type": "float"
        },
        {
         "name": "num_13",
         "rawType": "float64",
         "type": "float"
        },
        {
         "name": "num_14",
         "rawType": "float64",
         "type": "float"
        },
        {
         "name": "num_15",
         "rawType": "float64",
         "type": "float"
        }
       ],
       "conversionMethod": "pd.DataFrame",
       "ref": "9df45ef6-3d4b-4794-bc71-69c2605e9110",
       "rows": [
        [
         "0",
         "37460",
         "2",
         "60",
         "8",
         "73",
         "17",
         "61",
         "0.11915430946993255",
         "0.7925895181980032",
         "0.6917140949385169",
         "0.4135750963036344",
         "0.5689603628321651",
         "0.7247226929679815",
         "0.667784049945074",
         "0.6213268095649981",
         "0.3665041483878466"
        ],
        [
         "1",
         "6199",
         "1",
         "30",
         "14",
         "31",
         "65",
         "49",
         "0.8712855889439255",
         "0.8644309913024982",
         "0.4062317455661779",
         "0.6853679254591828",
         "0.42513193879247624",
         "0.18481638196938832",
         "0.30766017583476835",
         "0.49736302585365",
         "0.7408069892251956"
        ],
        [
         "2",
         "67094",
         "2",
         "17",
         "7",
         "18",
         "8",
         "29",
         "0.24955318248138458",
         "0.9501555659669005",
         "0.08136948752374118",
         "0.5638956971884452",
         "0.45157588523420533",
         "0.7782704271616309",
         "0.6945662863034822",
         "0.8076194642534947",
         "0.9169679643656518"
        ],
        [
         "3",
         "97776",
         "3",
         "60",
         "16",
         "28",
         "32",
         "43",
         "0.5451355533633784",
         "0.46373646340308927",
         "0.377656820362674",
         "0.7280317822220663",
         "0.5375774924886841",
         "0.9433492052655912",
         "0.19490874110145362",
         "0.6847961187385319",
         "0.42289150149255506"
        ],
        [
         "4",
         "18048",
         "2",
         "42",
         "22",
         "49",
         "53",
         "67",
         "0.6066160112363578",
         "0.7572991938352812",
         "0.9108643271752206",
         "0.18792188019026856",
         "0.9358738349602793",
         "0.8108345036465625",
         "0.1520048972774668",
         "0.035743707897020194",
         "0.9412220568733692"
        ]
       ],
       "shape": {
        "columns": 16,
        "rows": 5
       }
      },
      "text/html": [
       "<div>\n",
       "<style scoped>\n",
       "    .dataframe tbody tr th:only-of-type {\n",
       "        vertical-align: middle;\n",
       "    }\n",
       "\n",
       "    .dataframe tbody tr th {\n",
       "        vertical-align: top;\n",
       "    }\n",
       "\n",
       "    .dataframe thead th {\n",
       "        text-align: right;\n",
       "    }\n",
       "</style>\n",
       "<table border=\"1\" class=\"dataframe\">\n",
       "  <thead>\n",
       "    <tr style=\"text-align: right;\">\n",
       "      <th></th>\n",
       "      <th>user</th>\n",
       "      <th>cat_1</th>\n",
       "      <th>cat_2</th>\n",
       "      <th>cat_3</th>\n",
       "      <th>cat_4</th>\n",
       "      <th>cat_5</th>\n",
       "      <th>cat_6</th>\n",
       "      <th>num_7</th>\n",
       "      <th>num_8</th>\n",
       "      <th>num_9</th>\n",
       "      <th>num_10</th>\n",
       "      <th>num_11</th>\n",
       "      <th>num_12</th>\n",
       "      <th>num_13</th>\n",
       "      <th>num_14</th>\n",
       "      <th>num_15</th>\n",
       "    </tr>\n",
       "  </thead>\n",
       "  <tbody>\n",
       "    <tr>\n",
       "      <th>0</th>\n",
       "      <td>37460</td>\n",
       "      <td>2</td>\n",
       "      <td>60</td>\n",
       "      <td>8</td>\n",
       "      <td>73</td>\n",
       "      <td>17</td>\n",
       "      <td>61</td>\n",
       "      <td>0.119154</td>\n",
       "      <td>0.792590</td>\n",
       "      <td>0.691714</td>\n",
       "      <td>0.413575</td>\n",
       "      <td>0.568960</td>\n",
       "      <td>0.724723</td>\n",
       "      <td>0.667784</td>\n",
       "      <td>0.621327</td>\n",
       "      <td>0.366504</td>\n",
       "    </tr>\n",
       "    <tr>\n",
       "      <th>1</th>\n",
       "      <td>6199</td>\n",
       "      <td>1</td>\n",
       "      <td>30</td>\n",
       "      <td>14</td>\n",
       "      <td>31</td>\n",
       "      <td>65</td>\n",
       "      <td>49</td>\n",
       "      <td>0.871286</td>\n",
       "      <td>0.864431</td>\n",
       "      <td>0.406232</td>\n",
       "      <td>0.685368</td>\n",
       "      <td>0.425132</td>\n",
       "      <td>0.184816</td>\n",
       "      <td>0.307660</td>\n",
       "      <td>0.497363</td>\n",
       "      <td>0.740807</td>\n",
       "    </tr>\n",
       "    <tr>\n",
       "      <th>2</th>\n",
       "      <td>67094</td>\n",
       "      <td>2</td>\n",
       "      <td>17</td>\n",
       "      <td>7</td>\n",
       "      <td>18</td>\n",
       "      <td>8</td>\n",
       "      <td>29</td>\n",
       "      <td>0.249553</td>\n",
       "      <td>0.950156</td>\n",
       "      <td>0.081369</td>\n",
       "      <td>0.563896</td>\n",
       "      <td>0.451576</td>\n",
       "      <td>0.778270</td>\n",
       "      <td>0.694566</td>\n",
       "      <td>0.807619</td>\n",
       "      <td>0.916968</td>\n",
       "    </tr>\n",
       "    <tr>\n",
       "      <th>3</th>\n",
       "      <td>97776</td>\n",
       "      <td>3</td>\n",
       "      <td>60</td>\n",
       "      <td>16</td>\n",
       "      <td>28</td>\n",
       "      <td>32</td>\n",
       "      <td>43</td>\n",
       "      <td>0.545136</td>\n",
       "      <td>0.463736</td>\n",
       "      <td>0.377657</td>\n",
       "      <td>0.728032</td>\n",
       "      <td>0.537577</td>\n",
       "      <td>0.943349</td>\n",
       "      <td>0.194909</td>\n",
       "      <td>0.684796</td>\n",
       "      <td>0.422892</td>\n",
       "    </tr>\n",
       "    <tr>\n",
       "      <th>4</th>\n",
       "      <td>18048</td>\n",
       "      <td>2</td>\n",
       "      <td>42</td>\n",
       "      <td>22</td>\n",
       "      <td>49</td>\n",
       "      <td>53</td>\n",
       "      <td>67</td>\n",
       "      <td>0.606616</td>\n",
       "      <td>0.757299</td>\n",
       "      <td>0.910864</td>\n",
       "      <td>0.187922</td>\n",
       "      <td>0.935874</td>\n",
       "      <td>0.810835</td>\n",
       "      <td>0.152005</td>\n",
       "      <td>0.035744</td>\n",
       "      <td>0.941222</td>\n",
       "    </tr>\n",
       "  </tbody>\n",
       "</table>\n",
       "</div>"
      ],
      "text/plain": [
       "    user  cat_1  cat_2  cat_3  cat_4  cat_5  cat_6     num_7     num_8  \\\n",
       "0  37460      2     60      8     73     17     61  0.119154  0.792590   \n",
       "1   6199      1     30     14     31     65     49  0.871286  0.864431   \n",
       "2  67094      2     17      7     18      8     29  0.249553  0.950156   \n",
       "3  97776      3     60     16     28     32     43  0.545136  0.463736   \n",
       "4  18048      2     42     22     49     53     67  0.606616  0.757299   \n",
       "\n",
       "      num_9    num_10    num_11    num_12    num_13    num_14    num_15  \n",
       "0  0.691714  0.413575  0.568960  0.724723  0.667784  0.621327  0.366504  \n",
       "1  0.406232  0.685368  0.425132  0.184816  0.307660  0.497363  0.740807  \n",
       "2  0.081369  0.563896  0.451576  0.778270  0.694566  0.807619  0.916968  \n",
       "3  0.377657  0.728032  0.537577  0.943349  0.194909  0.684796  0.422892  \n",
       "4  0.910864  0.187922  0.935874  0.810835  0.152005  0.035744  0.941222  "
      ]
     },
     "execution_count": 24,
     "metadata": {},
     "output_type": "execute_result"
    }
   ],
   "source": [
    "# Read data from a Parquet file\n",
    "con.sql(\"SELECT * FROM 'data/train.parquet'\").df().head()"
   ]
  },
  {
   "cell_type": "code",
   "execution_count": null,
   "id": "e032c5e8",
   "metadata": {},
   "outputs": [
    {
     "data": {
      "application/vnd.jupyter.widget-view+json": {
       "model_id": "c219be8665c141d4a42d8dbdffd46a40",
       "version_major": 2,
       "version_minor": 0
      },
      "text/plain": [
       "FloatProgress(value=0.0, layout=Layout(width='auto'), style=ProgressStyle(bar_color='black'))"
      ]
     },
     "metadata": {},
     "output_type": "display_data"
    }
   ],
   "source": [
    "#INSERT INTO FILE DB\n",
    "con.sql('''\n",
    "        CREATE TABLE train (user INTEGER, cat_1 INTEGER, cat_2 INTEGER, cat_3 INTEGER, cat_4 INTEGER, cat_5 INTEGER, cat_6 INTEGER, num_7 DECIMAL, num_8 DECIMAL, num_9 DECIMAL, num_10 DECIMAL, num_11 DECIMAL, num_12 DECIMAL, num_13 DECIMAL, num_14 DECIMAL, num_15 DECIMAL) \n",
    "''')\n",
    "\n",
    "con.sql('''\n",
    "        INSERT INTO train (user, cat_1, cat_2, cat_3, cat_4, cat_5, cat_6, num_7, num_8, num_9, num_10, num_11, num_12, num_13, num_14, num_15) \n",
    "        (SELECT * FROM \"data/train.parquet\")\n",
    "''')"
   ]
  },
  {
   "cell_type": "code",
   "execution_count": 28,
   "id": "66708d68",
   "metadata": {},
   "outputs": [
    {
     "data": {
      "text/plain": [
       "┌──────────────┐\n",
       "│ count_star() │\n",
       "│    int64     │\n",
       "├──────────────┤\n",
       "│     30000000 │\n",
       "└──────────────┘"
      ]
     },
     "execution_count": 28,
     "metadata": {},
     "output_type": "execute_result"
    }
   ],
   "source": [
    "con.sql(\"SELECT COUNT(*) FROM train\")"
   ]
  },
  {
   "cell_type": "code",
   "execution_count": 29,
   "id": "94758732",
   "metadata": {},
   "outputs": [
    {
     "data": {
      "application/vnd.jupyter.widget-view+json": {
       "model_id": "3af7dc53cff64075a092fc0f60a6970f",
       "version_major": 2,
       "version_minor": 0
      },
      "text/plain": [
       "FloatProgress(value=0.0, layout=Layout(width='auto'), style=ProgressStyle(bar_color='black'))"
      ]
     },
     "metadata": {},
     "output_type": "display_data"
    },
    {
     "data": {
      "text/plain": [
       "┌──────────────┐\n",
       "│ count_star() │\n",
       "│    int64     │\n",
       "├──────────────┤\n",
       "│     30000000 │\n",
       "└──────────────┘"
      ]
     },
     "execution_count": 29,
     "metadata": {},
     "output_type": "execute_result"
    }
   ],
   "source": [
    "#INSERT INTO MEMORY DB\n",
    "con2 = dd.connect(':memory:')\n",
    "con2.sql('''\n",
    "        CREATE TABLE train (user INTEGER, cat_1 INTEGER, cat_2 INTEGER, cat_3 INTEGER, cat_4 INTEGER, cat_5 INTEGER, cat_6 INTEGER, num_7 DECIMAL, num_8 DECIMAL, num_9 DECIMAL, num_10 DECIMAL, num_11 DECIMAL, num_12 DECIMAL, num_13 DECIMAL, num_14 DECIMAL, num_15 DECIMAL) \n",
    "''')\n",
    "\n",
    "con2.sql('''\n",
    "        INSERT INTO train (user, cat_1, cat_2, cat_3, cat_4, cat_5, cat_6, num_7, num_8, num_9, num_10, num_11, num_12, num_13, num_14, num_15) \n",
    "        (SELECT * FROM \"data/train.parquet\")\n",
    "''')\n",
    "con2.sql(\"SELECT COUNT(*) FROM train\")"
   ]
  },
  {
   "cell_type": "code",
   "execution_count": 32,
   "id": "1f7bd646",
   "metadata": {},
   "outputs": [
    {
     "data": {
      "text/plain": [
       "┌─────────────────────┬───────────────┬───────────────┐\n",
       "│     avg(num_7)      │  max(num_8)   │  min(num_9)   │\n",
       "│       double        │ decimal(18,3) │ decimal(18,3) │\n",
       "├─────────────────────┼───────────────┼───────────────┤\n",
       "│ 0.49998463093333334 │         1.000 │         0.000 │\n",
       "└─────────────────────┴───────────────┴───────────────┘"
      ]
     },
     "execution_count": 32,
     "metadata": {},
     "output_type": "execute_result"
    }
   ],
   "source": [
    "con2.sql(\"SELECT avg(num_7), max(num_8), min(num_9) FROM train\")"
   ]
  },
  {
   "cell_type": "code",
   "execution_count": 37,
   "id": "ff4ecb65",
   "metadata": {},
   "outputs": [],
   "source": [
    "con2.sql(\"drop table train2\")\n",
    "con2.sql(\"drop table train3\")"
   ]
  },
  {
   "cell_type": "code",
   "execution_count": 38,
   "id": "a6d0bf90",
   "metadata": {},
   "outputs": [
    {
     "data": {
      "application/vnd.jupyter.widget-view+json": {
       "model_id": "12e3201ceb76496e98ac98c272321f63",
       "version_major": 2,
       "version_minor": 0
      },
      "text/plain": [
       "FloatProgress(value=0.0, layout=Layout(width='auto'), style=ProgressStyle(bar_color='black'))"
      ]
     },
     "metadata": {},
     "output_type": "display_data"
    },
    {
     "data": {
      "application/vnd.jupyter.widget-view+json": {
       "model_id": "9c9205b99cda4fc49e564e860741df86",
       "version_major": 2,
       "version_minor": 0
      },
      "text/plain": [
       "FloatProgress(value=0.0, layout=Layout(width='auto'), style=ProgressStyle(bar_color='black'))"
      ]
     },
     "metadata": {},
     "output_type": "display_data"
    }
   ],
   "source": [
    "#lets create another train table and join them\n",
    "con2.sql('''\n",
    "        CREATE TABLE train2 (user INTEGER, cat_1 INTEGER, cat_2 INTEGER, cat_3 INTEGER, cat_4 INTEGER, cat_5 INTEGER, cat_6 INTEGER, num_7 DECIMAL, num_8 DECIMAL, num_9 DECIMAL, num_10 DECIMAL, num_11 DECIMAL, num_12 DECIMAL, num_13 DECIMAL, num_14 DECIMAL, num_15 DECIMAL) \n",
    "''')\n",
    "\n",
    "con2.sql('''\n",
    "        INSERT INTO train2 (user, cat_1, cat_2, cat_3, cat_4, cat_5, cat_6, num_7, num_8, num_9, num_10, num_11, num_12, num_13, num_14, num_15) \n",
    "        (SELECT * FROM \"data/train.parquet\")\n",
    "''')\n",
    "\n",
    "con2.sql('''\n",
    "        CREATE TABLE train3 (user INTEGER, cat_1 INTEGER, cat_2 INTEGER, cat_3 INTEGER, cat_4 INTEGER, cat_5 INTEGER, cat_6 INTEGER, num_7 DECIMAL, num_8 DECIMAL, num_9 DECIMAL, num_10 DECIMAL, num_11 DECIMAL, num_12 DECIMAL, num_13 DECIMAL, num_14 DECIMAL, num_15 DECIMAL) \n",
    "''')\n",
    "\n",
    "con2.sql('''\n",
    "        INSERT INTO train3 (user, cat_1, cat_2, cat_3, cat_4, cat_5, cat_6, num_7, num_8, num_9, num_10, num_11, num_12, num_13, num_14, num_15) \n",
    "        (SELECT * FROM \"data/train.parquet\")\n",
    "''')"
   ]
  },
  {
   "cell_type": "code",
   "execution_count": 40,
   "id": "5bb0ffaf",
   "metadata": {},
   "outputs": [
    {
     "data": {
      "application/vnd.jupyter.widget-view+json": {
       "model_id": "26ad765775d044259833122841c27b78",
       "version_major": 2,
       "version_minor": 0
      },
      "text/plain": [
       "FloatProgress(value=0.0, layout=Layout(width='auto'), style=ProgressStyle(bar_color='black'))"
      ]
     },
     "metadata": {},
     "output_type": "display_data"
    },
    {
     "ename": "",
     "evalue": "",
     "output_type": "error",
     "traceback": [
      "\u001b[1;31mThe Kernel crashed while executing code in the current cell or a previous cell. \n",
      "\u001b[1;31mPlease review the code in the cell(s) to identify a possible cause of the failure. \n",
      "\u001b[1;31mClick <a href='https://aka.ms/vscodeJupyterKernelCrash'>here</a> for more info. \n",
      "\u001b[1;31mView Jupyter <a href='command:jupyter.viewOutput'>log</a> for further details."
     ]
    }
   ],
   "source": [
    "con2.sql(\"select train.cat_2, train2.cat_2, train3.cat_2  from train inner join train2 on train.user = train2.user inner join train3 on train.user = train3.user\").df()"
   ]
  },
  {
   "cell_type": "code",
   "execution_count": null,
   "id": "8f377b2d",
   "metadata": {},
   "outputs": [],
   "source": [
    "con.close()"
   ]
  }
 ],
 "metadata": {
  "kernelspec": {
   "display_name": "venv",
   "language": "python",
   "name": "python3"
  },
  "language_info": {
   "codemirror_mode": {
    "name": "ipython",
    "version": 3
   },
   "file_extension": ".py",
   "mimetype": "text/x-python",
   "name": "python",
   "nbconvert_exporter": "python",
   "pygments_lexer": "ipython3",
   "version": "3.11.1"
  }
 },
 "nbformat": 4,
 "nbformat_minor": 5
}
