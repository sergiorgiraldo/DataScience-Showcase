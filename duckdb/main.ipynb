{
 "cells": [
  {
   "cell_type": "code",
   "execution_count": null,
   "id": "125ccd82-3344-499a-a510-0864779537b2",
   "metadata": {},
   "outputs": [],
   "source": [
    "import duckdb as dd\n",
    "import pandas as pd"
   ]
  },
  {
   "cell_type": "code",
   "execution_count": null,
   "id": "79f7e9fd-4beb-4951-80a1-7cc7e4c332e5",
   "metadata": {},
   "outputs": [],
   "source": [
    "# Create an in-memory DuckDB connection\n",
    "# con = dd.connect(':memory:')\n",
    "\n",
    "# Create a persistent DuckDB database\n",
    "con = dd.connect('my_database.db')"
   ]
  },
  {
   "cell_type": "code",
   "execution_count": 3,
   "id": "b813795d-f149-4bfc-828f-5bcbb51b03ef",
   "metadata": {},
   "outputs": [
    {
     "name": "stdout",
     "output_type": "stream",
     "text": [
      "<class 'list'>\n",
      "[('DuckDB_is_cool',)]\n",
      "<class 'duckdb.duckdb.DuckDBPyRelation'>\n",
      "┌────────────────┐\n",
      "│     answer     │\n",
      "│    varchar     │\n",
      "├────────────────┤\n",
      "│ DuckDB_is_cool │\n",
      "└────────────────┘\n",
      "\n"
     ]
    }
   ],
   "source": [
    "#Running a basic SQL query\n",
    "result = dd.sql(\"SELECT 'DuckDB_is_cool' AS answer\").fetchall()\n",
    "print(type(result))\n",
    "print(result)\n",
    "\n",
    "result = dd.sql(\"SELECT 'DuckDB_is_cool' AS answer\")\n",
    "print( type(result) )\n",
    "print(result)"
   ]
  },
  {
   "cell_type": "code",
   "execution_count": 5,
   "id": "0a036721-c18c-4b3a-ae81-a9d388c510f0",
   "metadata": {},
   "outputs": [
    {
     "name": "stdout",
     "output_type": "stream",
     "text": [
      "┌────────────┐\n",
      "│     ID     │\n",
      "│   int64    │\n",
      "├────────────┤\n",
      "│          0 │\n",
      "│          1 │\n",
      "│          2 │\n",
      "│          3 │\n",
      "│          4 │\n",
      "│          5 │\n",
      "│          6 │\n",
      "│          7 │\n",
      "│          8 │\n",
      "│          9 │\n",
      "│          · │\n",
      "│          · │\n",
      "│          · │\n",
      "│        990 │\n",
      "│        991 │\n",
      "│        992 │\n",
      "│        993 │\n",
      "│        994 │\n",
      "│        995 │\n",
      "│        996 │\n",
      "│        997 │\n",
      "│        998 │\n",
      "│        999 │\n",
      "├────────────┤\n",
      "│ 1000 rows  │\n",
      "│ (20 shown) │\n",
      "└────────────┘\n",
      "\n"
     ]
    }
   ],
   "source": [
    "# Create a relation from a SQL query\n",
    "rel = dd.sql(\"SELECT * FROM range(10_00) AS tbl(ID)\")\n",
    "# Display the relation\n",
    "rel.show()"
   ]
  },
  {
   "cell_type": "code",
   "execution_count": 8,
   "id": "cfcfbfba-c9ab-4be8-80f0-bf291da363e1",
   "metadata": {},
   "outputs": [
    {
     "data": {
      "text/plain": [
       "┌──────────┬─────────┬─────────┬──────────────┬──────────────┬───────────┐\n",
       "│ database │ schema  │  name   │ column_names │ column_types │ temporary │\n",
       "│ varchar  │ varchar │ varchar │  varchar[]   │  varchar[]   │  boolean  │\n",
       "├──────────┴─────────┴─────────┴──────────────┴──────────────┴───────────┤\n",
       "│                                 0 rows                                 │\n",
       "└────────────────────────────────────────────────────────────────────────┘"
      ]
     },
     "execution_count": 8,
     "metadata": {},
     "output_type": "execute_result"
    }
   ],
   "source": [
    "con = dd.connect('my_database.db')\n",
    "con.sql('SHOW ALL TABLES')"
   ]
  },
  {
   "cell_type": "code",
   "execution_count": 3,
   "id": "85a12b5b-bdc4-4d1b-b2bb-c4d1f048402d",
   "metadata": {},
   "outputs": [
    {
     "data": {
      "text/plain": [
       "┌─────────────┬─────────┬───────────┬──────────────────────────────────────────────────────────┬───────────────────────────────────────────────┬───────────┐\n",
       "│  database   │ schema  │   name    │                       column_names                       │                 column_types                  │ temporary │\n",
       "│   varchar   │ varchar │  varchar  │                        varchar[]                         │                   varchar[]                   │  boolean  │\n",
       "├─────────────┼─────────┼───────────┼──────────────────────────────────────────────────────────┼───────────────────────────────────────────────┼───────────┤\n",
       "│ my_database │ main    │ countries │ [country, code, region, sub_region, intermediate_region] │ [VARCHAR, VARCHAR, VARCHAR, VARCHAR, VARCHAR] │ false     │\n",
       "│ my_database │ main    │ employees │ [id, name, age, salary]                                  │ [INTEGER, VARCHAR, INTEGER, DOUBLE]           │ false     │\n",
       "└─────────────┴─────────┴───────────┴──────────────────────────────────────────────────────────┴───────────────────────────────────────────────┴───────────┘"
      ]
     },
     "execution_count": 3,
     "metadata": {},
     "output_type": "execute_result"
    }
   ],
   "source": [
    "# Create a table\n",
    "con.execute('''\n",
    "CREATE OR REPLACE TABLE countries( \n",
    "    country VARCHAR,\n",
    "    code VARCHAR,\n",
    "    region VARCHAR,\n",
    "    sub_region VARCHAR,\n",
    "    intermediate_region VARCHAR\n",
    ");\n",
    "''')\n",
    "# Insert some data\n",
    "con.execute('''\n",
    "INSERT INTO countries VALUES\n",
    "('Australia', 'AUS', 'Oceania', 'Australia and New Zealand', ''),\n",
    "('India', 'IND', 'Asia', 'Southern Asia', '');\n",
    "''')\n",
    "\n",
    "con.sql('SHOW ALL TABLES')"
   ]
  },
  {
   "cell_type": "code",
   "execution_count": 4,
   "id": "6b238cef-1891-4bcf-ab02-72da99a16a7b",
   "metadata": {},
   "outputs": [
    {
     "data": {
      "text/plain": [
       "┌─────────────┬─────────┬───────────┬──────────────────────────────────────────────────────────┬───────────────────────────────────────────────┬───────────┐\n",
       "│  database   │ schema  │   name    │                       column_names                       │                 column_types                  │ temporary │\n",
       "│   varchar   │ varchar │  varchar  │                        varchar[]                         │                   varchar[]                   │  boolean  │\n",
       "├─────────────┼─────────┼───────────┼──────────────────────────────────────────────────────────┼───────────────────────────────────────────────┼───────────┤\n",
       "│ my_database │ main    │ countries │ [country, code, region, sub_region, intermediate_region] │ [VARCHAR, VARCHAR, VARCHAR, VARCHAR, VARCHAR] │ false     │\n",
       "│ my_database │ main    │ employees │ [id, name, age, salary]                                  │ [INTEGER, VARCHAR, INTEGER, DOUBLE]           │ false     │\n",
       "└─────────────┴─────────┴───────────┴──────────────────────────────────────────────────────────┴───────────────────────────────────────────────┴───────────┘"
      ]
     },
     "execution_count": 4,
     "metadata": {},
     "output_type": "execute_result"
    }
   ],
   "source": [
    "# Create second table\n",
    "con.execute('''\n",
    "CREATE OR REPLACE TABLE employees(\n",
    "    id INTEGER,\n",
    "    name VARCHAR,\n",
    "    age INTEGER,\n",
    "    salary DOUBLE\n",
    ");\n",
    "''')\n",
    "\n",
    "# Insert some data in second table\n",
    "con.execute('''\n",
    "INSERT INTO employees VALUES\n",
    "(1, 'Person 1', 30, 70000),\n",
    "(2, 'Person 2', 25, 55000),\n",
    "(3, 'Person 3', 35, 80000);\n",
    "''')\n",
    "\n",
    "\n",
    "# Result of showing tables after creating the second table\n",
    "con.sql('SHOW ALL TABLES')"
   ]
  },
  {
   "cell_type": "code",
   "execution_count": 5,
   "id": "f0f8f4e8-bd42-4218-8c61-cdca145db800",
   "metadata": {},
   "outputs": [
    {
     "data": {
      "text/plain": [
       "┌───────────┬─────────┬─────────┬───────────────────────────┬─────────────────────┐\n",
       "│  country  │  code   │ region  │        sub_region         │ intermediate_region │\n",
       "│  varchar  │ varchar │ varchar │          varchar          │       varchar       │\n",
       "├───────────┼─────────┼─────────┼───────────────────────────┼─────────────────────┤\n",
       "│ Australia │ AUS     │ Oceania │ Australia and New Zealand │                     │\n",
       "│ India     │ IND     │ Asia    │ Southern Asia             │                     │\n",
       "└───────────┴─────────┴─────────┴───────────────────────────┴─────────────────────┘"
      ]
     },
     "execution_count": 5,
     "metadata": {},
     "output_type": "execute_result"
    }
   ],
   "source": [
    "con.sql('SELECT * FROM countries;')"
   ]
  },
  {
   "cell_type": "code",
   "execution_count": 6,
   "id": "170559d7",
   "metadata": {},
   "outputs": [
    {
     "data": {
      "text/plain": [
       "┌───────┬──────────┬───────┬─────────┐\n",
       "│  id   │   name   │  age  │ salary  │\n",
       "│ int32 │ varchar  │ int32 │ double  │\n",
       "├───────┼──────────┼───────┼─────────┤\n",
       "│     1 │ Person 1 │    30 │ 70000.0 │\n",
       "│     2 │ Person 2 │    25 │ 55000.0 │\n",
       "│     3 │ Person 3 │    35 │ 80000.0 │\n",
       "└───────┴──────────┴───────┴─────────┘"
      ]
     },
     "execution_count": 6,
     "metadata": {},
     "output_type": "execute_result"
    }
   ],
   "source": [
    "con.sql('SELECT * FROM employees;')"
   ]
  },
  {
   "cell_type": "code",
   "execution_count": 7,
   "id": "d24a1553",
   "metadata": {},
   "outputs": [],
   "source": [
    "con.sql('''\n",
    "        INSERT INTO countries (country, code, region, sub_region, intermediate_region) \n",
    "        (SELECT * FROM \"countries.csv\")\n",
    "''')"
   ]
  },
  {
   "cell_type": "code",
   "execution_count": 8,
   "id": "d2e538d2",
   "metadata": {},
   "outputs": [
    {
     "data": {
      "text/plain": [
       "┌────────────────────────────────────┬─────────┬──────────┬─────────────────────────────────┬─────────────────────┐\n",
       "│              country               │  code   │  region  │           sub_region            │ intermediate_region │\n",
       "│              varchar               │ varchar │ varchar  │             varchar             │       varchar       │\n",
       "├────────────────────────────────────┼─────────┼──────────┼─────────────────────────────────┼─────────────────────┤\n",
       "│ Australia                          │ AUS     │ Oceania  │ Australia and New Zealand       │                     │\n",
       "│ India                              │ IND     │ Asia     │ Southern Asia                   │                     │\n",
       "│ Afghanistan                        │ AFG     │ Asia     │ Southern Asia                   │ NULL                │\n",
       "│ Åland Islands                      │ ALA     │ Europe   │ Northern Europe                 │ NULL                │\n",
       "│ Albania                            │ ALB     │ Europe   │ Southern Europe                 │ NULL                │\n",
       "│ Algeria                            │ DZA     │ Africa   │ Northern Africa                 │ NULL                │\n",
       "│ American Samoa                     │ ASM     │ Oceania  │ Polynesia                       │ NULL                │\n",
       "│ Andorra                            │ AND     │ Europe   │ Southern Europe                 │ NULL                │\n",
       "│ Angola                             │ AGO     │ Africa   │ Sub-Saharan Africa              │ Middle Africa       │\n",
       "│ Anguilla                           │ AIA     │ Americas │ Latin America and the Caribbean │ Caribbean           │\n",
       "│    ·                               │  ·      │    ·     │     ·                           │  ·                  │\n",
       "│    ·                               │  ·      │    ·     │     ·                           │  ·                  │\n",
       "│    ·                               │  ·      │    ·     │     ·                           │  ·                  │\n",
       "│ Vanuatu                            │ VUT     │ Oceania  │ Melanesia                       │ NULL                │\n",
       "│ Venezuela (Bolivarian Republic of) │ VEN     │ Americas │ Latin America and the Caribbean │ South America       │\n",
       "│ Viet Nam                           │ VNM     │ Asia     │ South-eastern Asia              │ NULL                │\n",
       "│ Virgin Islands (British)           │ VGB     │ Americas │ Latin America and the Caribbean │ Caribbean           │\n",
       "│ Virgin Islands (U.S.)              │ VIR     │ Americas │ Latin America and the Caribbean │ Caribbean           │\n",
       "│ Wallis and Futuna                  │ WLF     │ Oceania  │ Polynesia                       │ NULL                │\n",
       "│ Western Sahara                     │ ESH     │ Africa   │ Northern Africa                 │ NULL                │\n",
       "│ Yemen                              │ YEM     │ Asia     │ Western Asia                    │ NULL                │\n",
       "│ Zambia                             │ ZMB     │ Africa   │ Sub-Saharan Africa              │ Eastern Africa      │\n",
       "│ Zimbabwe                           │ ZWE     │ Africa   │ Sub-Saharan Africa              │ Eastern Africa      │\n",
       "├────────────────────────────────────┴─────────┴──────────┴─────────────────────────────────┴─────────────────────┤\n",
       "│ 251 rows (20 shown)                                                                                   5 columns │\n",
       "└─────────────────────────────────────────────────────────────────────────────────────────────────────────────────┘"
      ]
     },
     "execution_count": 8,
     "metadata": {},
     "output_type": "execute_result"
    }
   ],
   "source": [
    "con.sql('SELECT * FROM countries;')"
   ]
  },
  {
   "cell_type": "code",
   "execution_count": 16,
   "id": "594a820a",
   "metadata": {},
   "outputs": [
    {
     "data": {
      "text/plain": [
       "┌───────────────────┬─────────┬─────────┬────────────┬─────────────────────┐\n",
       "│      country      │  code   │ region  │ sub_region │ intermediate_region │\n",
       "│      varchar      │ varchar │ varchar │  varchar   │       varchar       │\n",
       "├───────────────────┼─────────┼─────────┼────────────┼─────────────────────┤\n",
       "│ American Samoa    │ ASM     │ Oceania │ Polynesia  │ NULL                │\n",
       "│ Cook Islands      │ COK     │ Oceania │ Polynesia  │ NULL                │\n",
       "│ French Polynesia  │ PYF     │ Oceania │ Polynesia  │ NULL                │\n",
       "│ Niue              │ NIU     │ Oceania │ Polynesia  │ NULL                │\n",
       "│ Pitcairn          │ PCN     │ Oceania │ Polynesia  │ NULL                │\n",
       "│ Samoa             │ WSM     │ Oceania │ Polynesia  │ NULL                │\n",
       "│ Tokelau           │ TKL     │ Oceania │ Polynesia  │ NULL                │\n",
       "│ Tonga             │ TON     │ Oceania │ Polynesia  │ NULL                │\n",
       "│ Tuvalu            │ TUV     │ Oceania │ Polynesia  │ NULL                │\n",
       "│ Wallis and Futuna │ WLF     │ Oceania │ Polynesia  │ NULL                │\n",
       "├───────────────────┴─────────┴─────────┴────────────┴─────────────────────┤\n",
       "│ 10 rows                                                        5 columns │\n",
       "└──────────────────────────────────────────────────────────────────────────┘"
      ]
     },
     "execution_count": 16,
     "metadata": {},
     "output_type": "execute_result"
    }
   ],
   "source": [
    "con.sql('''\n",
    "        SELECT * FROM countries \n",
    "        where \n",
    "        region = 'Oceania' \n",
    "        AND sub_region = 'Polynesia'\n",
    "''')"
   ]
  },
  {
   "cell_type": "code",
   "execution_count": 14,
   "id": "de4db242",
   "metadata": {},
   "outputs": [
    {
     "data": {
      "text/plain": [
       "┌───────────────────┬─────────┬─────────┬────────────┬─────────────────────┐\n",
       "│       name        │  code   │ region  │ sub-region │ intermediate-region │\n",
       "│      varchar      │ varchar │ varchar │  varchar   │       varchar       │\n",
       "├───────────────────┼─────────┼─────────┼────────────┼─────────────────────┤\n",
       "│ American Samoa    │ ASM     │ Oceania │ Polynesia  │ NULL                │\n",
       "│ Cook Islands      │ COK     │ Oceania │ Polynesia  │ NULL                │\n",
       "│ French Polynesia  │ PYF     │ Oceania │ Polynesia  │ NULL                │\n",
       "│ Niue              │ NIU     │ Oceania │ Polynesia  │ NULL                │\n",
       "│ Pitcairn          │ PCN     │ Oceania │ Polynesia  │ NULL                │\n",
       "│ Samoa             │ WSM     │ Oceania │ Polynesia  │ NULL                │\n",
       "│ Tokelau           │ TKL     │ Oceania │ Polynesia  │ NULL                │\n",
       "│ Tonga             │ TON     │ Oceania │ Polynesia  │ NULL                │\n",
       "│ Tuvalu            │ TUV     │ Oceania │ Polynesia  │ NULL                │\n",
       "│ Wallis and Futuna │ WLF     │ Oceania │ Polynesia  │ NULL                │\n",
       "├───────────────────┴─────────┴─────────┴────────────┴─────────────────────┤\n",
       "│ 10 rows                                                        5 columns │\n",
       "└──────────────────────────────────────────────────────────────────────────┘"
      ]
     },
     "execution_count": 14,
     "metadata": {},
     "output_type": "execute_result"
    }
   ],
   "source": [
    "# you can also query directly from the file\n",
    "\n",
    "con.sql('''\n",
    "        SELECT  *\n",
    "            FROM\n",
    "                'countries.csv'\n",
    "            WHERE\n",
    "                region = 'Oceania'\n",
    "                AND \"sub-region\" = 'Polynesia'\n",
    "''')"
   ]
  },
  {
   "cell_type": "code",
   "execution_count": 20,
   "id": "508a5e4e",
   "metadata": {},
   "outputs": [
    {
     "data": {
      "text/plain": [
       "┌───────┬──────────┬───────┬──────────┐\n",
       "│  id   │   name   │  age  │  salary  │\n",
       "│ int32 │ varchar  │ int32 │  double  │\n",
       "├───────┼──────────┼───────┼──────────┤\n",
       "│     1 │ Person 1 │    30 │  70000.0 │\n",
       "│     2 │ Person 2 │    25 │  55000.0 │\n",
       "│     3 │ Person 3 │    35 │  80000.0 │\n",
       "│     4 │ Person 4 │    45 │ 100000.0 │\n",
       "│     5 │ Person 5 │    40 │  85000.0 │\n",
       "│     6 │ Person 6 │    35 │  75000.0 │\n",
       "└───────┴──────────┴───────┴──────────┘"
      ]
     },
     "execution_count": 20,
     "metadata": {},
     "output_type": "execute_result"
    }
   ],
   "source": [
    "#you can use pandas dataframe\n",
    "\n",
    "df = pd.DataFrame({\n",
    "    'id': [4, 5, 6],\n",
    "    'name': ['Person 4', 'Person 5', 'Person 6'],\n",
    "    'age': [45, 40, 35],\n",
    "    'salary': [100000, 85000, 75000]\n",
    "})\n",
    "\n",
    "con.sql('''\n",
    "        INSERT INTO employees (id, name, age, salary)\n",
    "        SELECT * FROM df\n",
    "''')\n",
    "\n",
    "con.sql('select * from employees')"
   ]
  },
  {
   "cell_type": "code",
   "execution_count": 22,
   "id": "14e74aec",
   "metadata": {},
   "outputs": [
    {
     "data": {
      "application/vnd.microsoft.datawrangler.viewer.v0+json": {
       "columns": [
        {
         "name": "index",
         "rawType": "int64",
         "type": "integer"
        },
        {
         "name": "name",
         "rawType": "object",
         "type": "string"
        },
        {
         "name": "code",
         "rawType": "object",
         "type": "string"
        },
        {
         "name": "region",
         "rawType": "object",
         "type": "string"
        },
        {
         "name": "sub-region",
         "rawType": "object",
         "type": "string"
        },
        {
         "name": "intermediate-region",
         "rawType": "object",
         "type": "unknown"
        }
       ],
       "conversionMethod": "pd.DataFrame",
       "ref": "aa6a2bed-1023-47ea-9711-4c18b50365af",
       "rows": [
        [
         "0",
         "American Samoa",
         "ASM",
         "Oceania",
         "Polynesia",
         null
        ],
        [
         "1",
         "Cook Islands",
         "COK",
         "Oceania",
         "Polynesia",
         null
        ],
        [
         "2",
         "French Polynesia",
         "PYF",
         "Oceania",
         "Polynesia",
         null
        ],
        [
         "3",
         "Niue",
         "NIU",
         "Oceania",
         "Polynesia",
         null
        ],
        [
         "4",
         "Pitcairn",
         "PCN",
         "Oceania",
         "Polynesia",
         null
        ],
        [
         "5",
         "Samoa",
         "WSM",
         "Oceania",
         "Polynesia",
         null
        ],
        [
         "6",
         "Tokelau",
         "TKL",
         "Oceania",
         "Polynesia",
         null
        ],
        [
         "7",
         "Tonga",
         "TON",
         "Oceania",
         "Polynesia",
         null
        ],
        [
         "8",
         "Tuvalu",
         "TUV",
         "Oceania",
         "Polynesia",
         null
        ],
        [
         "9",
         "Wallis and Futuna",
         "WLF",
         "Oceania",
         "Polynesia",
         null
        ]
       ],
       "shape": {
        "columns": 5,
        "rows": 10
       }
      },
      "text/html": [
       "<div>\n",
       "<style scoped>\n",
       "    .dataframe tbody tr th:only-of-type {\n",
       "        vertical-align: middle;\n",
       "    }\n",
       "\n",
       "    .dataframe tbody tr th {\n",
       "        vertical-align: top;\n",
       "    }\n",
       "\n",
       "    .dataframe thead th {\n",
       "        text-align: right;\n",
       "    }\n",
       "</style>\n",
       "<table border=\"1\" class=\"dataframe\">\n",
       "  <thead>\n",
       "    <tr style=\"text-align: right;\">\n",
       "      <th></th>\n",
       "      <th>name</th>\n",
       "      <th>code</th>\n",
       "      <th>region</th>\n",
       "      <th>sub-region</th>\n",
       "      <th>intermediate-region</th>\n",
       "    </tr>\n",
       "  </thead>\n",
       "  <tbody>\n",
       "    <tr>\n",
       "      <th>0</th>\n",
       "      <td>American Samoa</td>\n",
       "      <td>ASM</td>\n",
       "      <td>Oceania</td>\n",
       "      <td>Polynesia</td>\n",
       "      <td>None</td>\n",
       "    </tr>\n",
       "    <tr>\n",
       "      <th>1</th>\n",
       "      <td>Cook Islands</td>\n",
       "      <td>COK</td>\n",
       "      <td>Oceania</td>\n",
       "      <td>Polynesia</td>\n",
       "      <td>None</td>\n",
       "    </tr>\n",
       "    <tr>\n",
       "      <th>2</th>\n",
       "      <td>French Polynesia</td>\n",
       "      <td>PYF</td>\n",
       "      <td>Oceania</td>\n",
       "      <td>Polynesia</td>\n",
       "      <td>None</td>\n",
       "    </tr>\n",
       "    <tr>\n",
       "      <th>3</th>\n",
       "      <td>Niue</td>\n",
       "      <td>NIU</td>\n",
       "      <td>Oceania</td>\n",
       "      <td>Polynesia</td>\n",
       "      <td>None</td>\n",
       "    </tr>\n",
       "    <tr>\n",
       "      <th>4</th>\n",
       "      <td>Pitcairn</td>\n",
       "      <td>PCN</td>\n",
       "      <td>Oceania</td>\n",
       "      <td>Polynesia</td>\n",
       "      <td>None</td>\n",
       "    </tr>\n",
       "    <tr>\n",
       "      <th>5</th>\n",
       "      <td>Samoa</td>\n",
       "      <td>WSM</td>\n",
       "      <td>Oceania</td>\n",
       "      <td>Polynesia</td>\n",
       "      <td>None</td>\n",
       "    </tr>\n",
       "    <tr>\n",
       "      <th>6</th>\n",
       "      <td>Tokelau</td>\n",
       "      <td>TKL</td>\n",
       "      <td>Oceania</td>\n",
       "      <td>Polynesia</td>\n",
       "      <td>None</td>\n",
       "    </tr>\n",
       "    <tr>\n",
       "      <th>7</th>\n",
       "      <td>Tonga</td>\n",
       "      <td>TON</td>\n",
       "      <td>Oceania</td>\n",
       "      <td>Polynesia</td>\n",
       "      <td>None</td>\n",
       "    </tr>\n",
       "    <tr>\n",
       "      <th>8</th>\n",
       "      <td>Tuvalu</td>\n",
       "      <td>TUV</td>\n",
       "      <td>Oceania</td>\n",
       "      <td>Polynesia</td>\n",
       "      <td>None</td>\n",
       "    </tr>\n",
       "    <tr>\n",
       "      <th>9</th>\n",
       "      <td>Wallis and Futuna</td>\n",
       "      <td>WLF</td>\n",
       "      <td>Oceania</td>\n",
       "      <td>Polynesia</td>\n",
       "      <td>None</td>\n",
       "    </tr>\n",
       "  </tbody>\n",
       "</table>\n",
       "</div>"
      ],
      "text/plain": [
       "                name code   region sub-region intermediate-region\n",
       "0     American Samoa  ASM  Oceania  Polynesia                None\n",
       "1       Cook Islands  COK  Oceania  Polynesia                None\n",
       "2   French Polynesia  PYF  Oceania  Polynesia                None\n",
       "3               Niue  NIU  Oceania  Polynesia                None\n",
       "4           Pitcairn  PCN  Oceania  Polynesia                None\n",
       "5              Samoa  WSM  Oceania  Polynesia                None\n",
       "6            Tokelau  TKL  Oceania  Polynesia                None\n",
       "7              Tonga  TON  Oceania  Polynesia                None\n",
       "8             Tuvalu  TUV  Oceania  Polynesia                None\n",
       "9  Wallis and Futuna  WLF  Oceania  Polynesia                None"
      ]
     },
     "execution_count": 22,
     "metadata": {},
     "output_type": "execute_result"
    }
   ],
   "source": [
    "#you can generate a pandas dataframe from a result\n",
    "df = con.sql('''\n",
    "        SELECT  *\n",
    "            FROM\n",
    "                'countries.csv'\n",
    "            WHERE\n",
    "                region = 'Oceania'\n",
    "                AND \"sub-region\" = 'Polynesia'\n",
    "''').df()\n",
    "\n",
    "df"
   ]
  },
  {
   "cell_type": "code",
   "execution_count": 23,
   "id": "3c8ca172",
   "metadata": {},
   "outputs": [
    {
     "data": {
      "application/vnd.microsoft.datawrangler.viewer.v0+json": {
       "columns": [
        {
         "name": "index",
         "rawType": "int64",
         "type": "integer"
        },
        {
         "name": "name",
         "rawType": "object",
         "type": "string"
        },
        {
         "name": "code",
         "rawType": "object",
         "type": "string"
        },
        {
         "name": "region",
         "rawType": "object",
         "type": "string"
        },
        {
         "name": "sub-region",
         "rawType": "object",
         "type": "string"
        },
        {
         "name": "intermediate-region",
         "rawType": "object",
         "type": "unknown"
        }
       ],
       "conversionMethod": "pd.DataFrame",
       "ref": "38045cf7-5900-4caf-abd5-e2bc60545100",
       "rows": [
        [
         "0",
         "Afghanistan",
         "AFG",
         "Asia",
         "Southern Asia",
         null
        ],
        [
         "1",
         "Åland Islands",
         "ALA",
         "Europe",
         "Northern Europe",
         null
        ],
        [
         "2",
         "Albania",
         "ALB",
         "Europe",
         "Southern Europe",
         null
        ],
        [
         "3",
         "Algeria",
         "DZA",
         "Africa",
         "Northern Africa",
         null
        ],
        [
         "4",
         "American Samoa",
         "ASM",
         "Oceania",
         "Polynesia",
         null
        ]
       ],
       "shape": {
        "columns": 5,
        "rows": 5
       }
      },
      "text/html": [
       "<div>\n",
       "<style scoped>\n",
       "    .dataframe tbody tr th:only-of-type {\n",
       "        vertical-align: middle;\n",
       "    }\n",
       "\n",
       "    .dataframe tbody tr th {\n",
       "        vertical-align: top;\n",
       "    }\n",
       "\n",
       "    .dataframe thead th {\n",
       "        text-align: right;\n",
       "    }\n",
       "</style>\n",
       "<table border=\"1\" class=\"dataframe\">\n",
       "  <thead>\n",
       "    <tr style=\"text-align: right;\">\n",
       "      <th></th>\n",
       "      <th>name</th>\n",
       "      <th>code</th>\n",
       "      <th>region</th>\n",
       "      <th>sub-region</th>\n",
       "      <th>intermediate-region</th>\n",
       "    </tr>\n",
       "  </thead>\n",
       "  <tbody>\n",
       "    <tr>\n",
       "      <th>0</th>\n",
       "      <td>Afghanistan</td>\n",
       "      <td>AFG</td>\n",
       "      <td>Asia</td>\n",
       "      <td>Southern Asia</td>\n",
       "      <td>None</td>\n",
       "    </tr>\n",
       "    <tr>\n",
       "      <th>1</th>\n",
       "      <td>Åland Islands</td>\n",
       "      <td>ALA</td>\n",
       "      <td>Europe</td>\n",
       "      <td>Northern Europe</td>\n",
       "      <td>None</td>\n",
       "    </tr>\n",
       "    <tr>\n",
       "      <th>2</th>\n",
       "      <td>Albania</td>\n",
       "      <td>ALB</td>\n",
       "      <td>Europe</td>\n",
       "      <td>Southern Europe</td>\n",
       "      <td>None</td>\n",
       "    </tr>\n",
       "    <tr>\n",
       "      <th>3</th>\n",
       "      <td>Algeria</td>\n",
       "      <td>DZA</td>\n",
       "      <td>Africa</td>\n",
       "      <td>Northern Africa</td>\n",
       "      <td>None</td>\n",
       "    </tr>\n",
       "    <tr>\n",
       "      <th>4</th>\n",
       "      <td>American Samoa</td>\n",
       "      <td>ASM</td>\n",
       "      <td>Oceania</td>\n",
       "      <td>Polynesia</td>\n",
       "      <td>None</td>\n",
       "    </tr>\n",
       "  </tbody>\n",
       "</table>\n",
       "</div>"
      ],
      "text/plain": [
       "             name code   region       sub-region intermediate-region\n",
       "0     Afghanistan  AFG     Asia    Southern Asia                None\n",
       "1   Åland Islands  ALA   Europe  Northern Europe                None\n",
       "2         Albania  ALB   Europe  Southern Europe                None\n",
       "3         Algeria  DZA   Africa  Northern Africa                None\n",
       "4  American Samoa  ASM  Oceania        Polynesia                None"
      ]
     },
     "execution_count": 23,
     "metadata": {},
     "output_type": "execute_result"
    }
   ],
   "source": [
    "# Read data from a Parquet file\n",
    "con.sql(\"SELECT * FROM 'countries.parquet'\").df().head()"
   ]
  },
  {
   "cell_type": "code",
   "execution_count": 24,
   "id": "dfc41bcf",
   "metadata": {},
   "outputs": [
    {
     "data": {
      "text/plain": [
       "┌──────────┬────────────────┐\n",
       "│  region  │ country_counts │\n",
       "│ varchar  │     int64      │\n",
       "├──────────┼────────────────┤\n",
       "│ Africa   │             60 │\n",
       "│ Americas │             57 │\n",
       "│ Europe   │             51 │\n",
       "│ Asia     │             51 │\n",
       "│ Oceania  │             29 │\n",
       "│ NULL     │              1 │\n",
       "└──────────┴────────────────┘"
      ]
     },
     "execution_count": 24,
     "metadata": {},
     "output_type": "execute_result"
    }
   ],
   "source": [
    "# you can have the usual analyticals from sql\n",
    "con.sql('''\n",
    "        SELECT  region\n",
    "                , COUNT(DISTINCT country) AS country_counts\n",
    "            FROM\n",
    "                countries\n",
    "            GROUP BY\n",
    "                region\n",
    "            ORDER BY\n",
    "                country_counts DESC\n",
    "''')"
   ]
  },
  {
   "cell_type": "code",
   "execution_count": 25,
   "id": "a4d62eaf",
   "metadata": {},
   "outputs": [
    {
     "data": {
      "text/plain": [
       "┌───────┬──────────┬───────┬──────────┐\n",
       "│  id   │   name   │  age  │  salary  │\n",
       "│ int32 │ varchar  │ int32 │  double  │\n",
       "├───────┼──────────┼───────┼──────────┤\n",
       "│     3 │ Person 3 │    35 │  80000.0 │\n",
       "│     4 │ Person 4 │    45 │ 100000.0 │\n",
       "│     5 │ Person 5 │    40 │  85000.0 │\n",
       "└───────┴──────────┴───────┴──────────┘"
      ]
     },
     "execution_count": 25,
     "metadata": {},
     "output_type": "execute_result"
    }
   ],
   "source": [
    "# even CTE's\n",
    "con.sql('''\n",
    "        WITH avg_salary AS (\n",
    "            SELECT\n",
    "                    ROUND(AVG(salary),2) AS avg_salary\n",
    "                FROM\n",
    "                    employees\n",
    "            )\n",
    "        \n",
    "        SELECT\n",
    "                *\n",
    "            FROM\n",
    "                employees\n",
    "            WHERE\n",
    "                salary > (SELECT avg_salary FROM avg_salary)\n",
    "        \n",
    "''')"
   ]
  },
  {
   "cell_type": "code",
   "execution_count": 26,
   "id": "8f377b2d",
   "metadata": {},
   "outputs": [],
   "source": [
    "con.close()"
   ]
  }
 ],
 "metadata": {
  "kernelspec": {
   "display_name": "venv",
   "language": "python",
   "name": "python3"
  },
  "language_info": {
   "codemirror_mode": {
    "name": "ipython",
    "version": 3
   },
   "file_extension": ".py",
   "mimetype": "text/x-python",
   "name": "python",
   "nbconvert_exporter": "python",
   "pygments_lexer": "ipython3",
   "version": "3.11.1"
  }
 },
 "nbformat": 4,
 "nbformat_minor": 5
}
