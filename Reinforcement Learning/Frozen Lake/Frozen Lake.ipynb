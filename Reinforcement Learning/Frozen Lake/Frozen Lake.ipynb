{
 "cells": [
  {
   "cell_type": "code",
   "execution_count": 1,
   "metadata": {},
   "outputs": [],
   "source": [
    "import gym\n",
    "import numpy as np"
   ]
  },
  {
   "cell_type": "markdown",
   "metadata": {},
   "source": [
    "## Setup"
   ]
  },
  {
   "cell_type": "code",
   "execution_count": 2,
   "metadata": {},
   "outputs": [],
   "source": [
    "env = gym.make('FrozenLake-v0')\n",
    "\n",
    "Q = np.zeros([env.observation_space.n, env.action_space.n])\n",
    "\n",
    "lr = 0.8 #learning rate\n",
    "y = 0.95 \n",
    "num_epochs = 10 #how many times to run the simulation"
   ]
  },
  {
   "cell_type": "code",
   "execution_count": null,
   "metadata": {},
   "outputs": [],
   "source": [
    "rList = [] #store the results from each epoch\n",
    "\n",
    "for i in range(num_epochs):\n",
    "\ts = env.reset()\n",
    "\trAll = 0 #sum of results\n",
    "\td = False #ended simulation?\n",
    "\tj = 0 #?\n",
    "\twhile j < 99: #try to walk 99 steps\n",
    "\t\tif i==9: #shows the environment where simulation ended\n",
    "\t\t\tenv.render()\n",
    "\t\t\t#input()\n",
    "\t\tj+=1\n",
    "\t\t# greedy strategy with randomness bound to the epoch \n",
    "        # the factor1/(i+1) is used to reduce randomness (exploration X explotatiton)\n",
    "\t\ta = np.argmax(Q[s,:] + np.random.randn(1, env.action_space.n)*(1./(i+1)))\n",
    "\t\ts1, r, d, _ = env.step(a)\n",
    "        \n",
    "\t\t#Update Q (Bellman's formula)\n",
    "\t\tQ[s,a] = Q[s,a] + lr*(r + y*np.max(Q[s1,:]) - Q[s,a])    \t\n",
    "\t\trAll += r\n",
    "\t\ts = s1 # new state\n",
    "\t\t\n",
    "\t\tif d == True:\n",
    "\t\t\tbreak; #I'm dead :(\n",
    "\trList.append(rAll) #stores result from epoch"
   ]
  },
  {
   "cell_type": "markdown",
   "metadata": {},
   "source": [
    "## Final result"
   ]
  },
  {
   "cell_type": "code",
   "execution_count": null,
   "metadata": {},
   "outputs": [],
   "source": [
    "print(\"Score over time: \" +  str(sum(rList)/num_episodes))\n",
    "\n",
    "print(Q)"
   ]
  }
 ],
 "metadata": {
  "kernelspec": {
   "display_name": "Python 3",
   "language": "python",
   "name": "python3"
  },
  "language_info": {
   "codemirror_mode": {
    "name": "ipython",
    "version": 3
   },
   "file_extension": ".py",
   "mimetype": "text/x-python",
   "name": "python",
   "nbconvert_exporter": "python",
   "pygments_lexer": "ipython3",
   "version": "3.6.5"
  }
 },
 "nbformat": 4,
 "nbformat_minor": 2
}
