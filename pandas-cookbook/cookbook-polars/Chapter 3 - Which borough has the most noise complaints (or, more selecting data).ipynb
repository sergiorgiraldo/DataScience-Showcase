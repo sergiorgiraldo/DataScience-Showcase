{
 "cells": [
  {
   "cell_type": "code",
   "execution_count": 1,
   "metadata": {},
   "outputs": [],
   "source": [
    "# The usual preamble\n",
    "%matplotlib inline\n",
    "import polars as pl\n",
    "import matplotlib.pyplot as plt\n",
    "import numpy as np\n",
    "\n",
    "plt.style.use('ggplot')\n",
    "\n",
    "pl.Config.set_tbl_cols(60)\n",
    "pl.Config.set_fmt_str_lengths(5000)\n",
    "\n",
    "plt.rcParams['figure.figsize'] = (15, 5)"
   ]
  },
  {
   "cell_type": "markdown",
   "metadata": {},
   "source": [
    "Let's continue with our NYC 311 service requests example."
   ]
  },
  {
   "cell_type": "code",
   "execution_count": 2,
   "metadata": {},
   "outputs": [],
   "source": [
    "# because of mixed types we specify dtype to prevent any errors\n",
    "complaints = pl.read_csv('./data/311-service-requests.csv', infer_schema_length=0, schema_overrides=[pl.Utf8])"
   ]
  },
  {
   "cell_type": "markdown",
   "metadata": {},
   "source": [
    "# 3.1 Selecting only noise complaints"
   ]
  },
  {
   "cell_type": "markdown",
   "metadata": {},
   "source": [
    "I'd like to know which borough has the most noise complaints. First, we'll take a look at the data to see what it looks like:"
   ]
  },
  {
   "cell_type": "code",
   "execution_count": 3,
   "metadata": {},
   "outputs": [
    {
     "data": {
      "text/html": [
       "<div><style>\n",
       ".dataframe > thead > tr,\n",
       ".dataframe > tbody > tr {\n",
       "  text-align: right;\n",
       "  white-space: pre-wrap;\n",
       "}\n",
       "</style>\n",
       "<small>shape: (5, 52)</small><table border=\"1\" class=\"dataframe\"><thead><tr><th>Unique Key</th><th>Created Date</th><th>Closed Date</th><th>Agency</th><th>Agency Name</th><th>Complaint Type</th><th>Descriptor</th><th>Location Type</th><th>Incident Zip</th><th>Incident Address</th><th>Street Name</th><th>Cross Street 1</th><th>Cross Street 2</th><th>Intersection Street 1</th><th>Intersection Street 2</th><th>Address Type</th><th>City</th><th>Landmark</th><th>Facility Type</th><th>Status</th><th>Due Date</th><th>Resolution Action Updated Date</th><th>Community Board</th><th>Borough</th><th>X Coordinate (State Plane)</th><th>Y Coordinate (State Plane)</th><th>Park Facility Name</th><th>Park Borough</th><th>School Name</th><th>School Number</th><th>School Region</th><th>School Code</th><th>School Phone Number</th><th>School Address</th><th>School City</th><th>School State</th><th>School Zip</th><th>School Not Found</th><th>School or Citywide Complaint</th><th>Vehicle Type</th><th>Taxi Company Borough</th><th>Taxi Pick Up Location</th><th>Bridge Highway Name</th><th>Bridge Highway Direction</th><th>Road Ramp</th><th>Bridge Highway Segment</th><th>Garage Lot Name</th><th>Ferry Direction</th><th>Ferry Terminal Name</th><th>Latitude</th><th>Longitude</th><th>Location</th></tr><tr><td>str</td><td>str</td><td>str</td><td>str</td><td>str</td><td>str</td><td>str</td><td>str</td><td>str</td><td>str</td><td>str</td><td>str</td><td>str</td><td>str</td><td>str</td><td>str</td><td>str</td><td>str</td><td>str</td><td>str</td><td>str</td><td>str</td><td>str</td><td>str</td><td>str</td><td>str</td><td>str</td><td>str</td><td>str</td><td>str</td><td>str</td><td>str</td><td>str</td><td>str</td><td>str</td><td>str</td><td>str</td><td>str</td><td>str</td><td>str</td><td>str</td><td>str</td><td>str</td><td>str</td><td>str</td><td>str</td><td>str</td><td>str</td><td>str</td><td>str</td><td>str</td><td>str</td></tr></thead><tbody><tr><td>&quot;26589651&quot;</td><td>&quot;10/31/2013 02:08:41 AM&quot;</td><td>null</td><td>&quot;NYPD&quot;</td><td>&quot;New York City Police Department&quot;</td><td>&quot;Noise - Street/Sidewalk&quot;</td><td>&quot;Loud Talking&quot;</td><td>&quot;Street/Sidewalk&quot;</td><td>&quot;11432&quot;</td><td>&quot;90-03 169 STREET&quot;</td><td>&quot;169 STREET&quot;</td><td>&quot;90 AVENUE&quot;</td><td>&quot;91 AVENUE&quot;</td><td>null</td><td>null</td><td>&quot;ADDRESS&quot;</td><td>&quot;JAMAICA&quot;</td><td>null</td><td>&quot;Precinct&quot;</td><td>&quot;Assigned&quot;</td><td>&quot;10/31/2013 10:08:41 AM&quot;</td><td>&quot;10/31/2013 02:35:17 AM&quot;</td><td>&quot;12 QUEENS&quot;</td><td>&quot;QUEENS&quot;</td><td>&quot;1042027&quot;</td><td>&quot;197389&quot;</td><td>&quot;Unspecified&quot;</td><td>&quot;QUEENS&quot;</td><td>&quot;Unspecified&quot;</td><td>&quot;Unspecified&quot;</td><td>&quot;Unspecified&quot;</td><td>&quot;Unspecified&quot;</td><td>&quot;Unspecified&quot;</td><td>&quot;Unspecified&quot;</td><td>&quot;Unspecified&quot;</td><td>&quot;Unspecified&quot;</td><td>&quot;Unspecified&quot;</td><td>&quot;N&quot;</td><td>null</td><td>null</td><td>null</td><td>null</td><td>null</td><td>null</td><td>null</td><td>null</td><td>null</td><td>null</td><td>null</td><td>&quot;40.70827532593202&quot;</td><td>&quot;-73.79160395779721&quot;</td><td>&quot;(40.70827532593202, -73.79160395779721)&quot;</td></tr><tr><td>&quot;26593698&quot;</td><td>&quot;10/31/2013 02:01:04 AM&quot;</td><td>null</td><td>&quot;NYPD&quot;</td><td>&quot;New York City Police Department&quot;</td><td>&quot;Illegal Parking&quot;</td><td>&quot;Commercial Overnight Parking&quot;</td><td>&quot;Street/Sidewalk&quot;</td><td>&quot;11378&quot;</td><td>&quot;58 AVENUE&quot;</td><td>&quot;58 AVENUE&quot;</td><td>&quot;58 PLACE&quot;</td><td>&quot;59 STREET&quot;</td><td>null</td><td>null</td><td>&quot;BLOCKFACE&quot;</td><td>&quot;MASPETH&quot;</td><td>null</td><td>&quot;Precinct&quot;</td><td>&quot;Open&quot;</td><td>&quot;10/31/2013 10:01:04 AM&quot;</td><td>null</td><td>&quot;05 QUEENS&quot;</td><td>&quot;QUEENS&quot;</td><td>&quot;1009349&quot;</td><td>&quot;201984&quot;</td><td>&quot;Unspecified&quot;</td><td>&quot;QUEENS&quot;</td><td>&quot;Unspecified&quot;</td><td>&quot;Unspecified&quot;</td><td>&quot;Unspecified&quot;</td><td>&quot;Unspecified&quot;</td><td>&quot;Unspecified&quot;</td><td>&quot;Unspecified&quot;</td><td>&quot;Unspecified&quot;</td><td>&quot;Unspecified&quot;</td><td>&quot;Unspecified&quot;</td><td>&quot;N&quot;</td><td>null</td><td>null</td><td>null</td><td>null</td><td>null</td><td>null</td><td>null</td><td>null</td><td>null</td><td>null</td><td>null</td><td>&quot;40.721040535628305&quot;</td><td>&quot;-73.90945306791765&quot;</td><td>&quot;(40.721040535628305, -73.90945306791765)&quot;</td></tr><tr><td>&quot;26594139&quot;</td><td>&quot;10/31/2013 02:00:24 AM&quot;</td><td>&quot;10/31/2013 02:40:32 AM&quot;</td><td>&quot;NYPD&quot;</td><td>&quot;New York City Police Department&quot;</td><td>&quot;Noise - Commercial&quot;</td><td>&quot;Loud Music/Party&quot;</td><td>&quot;Club/Bar/Restaurant&quot;</td><td>&quot;10032&quot;</td><td>&quot;4060 BROADWAY&quot;</td><td>&quot;BROADWAY&quot;</td><td>&quot;WEST 171 STREET&quot;</td><td>&quot;WEST 172 STREET&quot;</td><td>null</td><td>null</td><td>&quot;ADDRESS&quot;</td><td>&quot;NEW YORK&quot;</td><td>null</td><td>&quot;Precinct&quot;</td><td>&quot;Closed&quot;</td><td>&quot;10/31/2013 10:00:24 AM&quot;</td><td>&quot;10/31/2013 02:39:42 AM&quot;</td><td>&quot;12 MANHATTAN&quot;</td><td>&quot;MANHATTAN&quot;</td><td>&quot;1001088&quot;</td><td>&quot;246531&quot;</td><td>&quot;Unspecified&quot;</td><td>&quot;MANHATTAN&quot;</td><td>&quot;Unspecified&quot;</td><td>&quot;Unspecified&quot;</td><td>&quot;Unspecified&quot;</td><td>&quot;Unspecified&quot;</td><td>&quot;Unspecified&quot;</td><td>&quot;Unspecified&quot;</td><td>&quot;Unspecified&quot;</td><td>&quot;Unspecified&quot;</td><td>&quot;Unspecified&quot;</td><td>&quot;N&quot;</td><td>null</td><td>null</td><td>null</td><td>null</td><td>null</td><td>null</td><td>null</td><td>null</td><td>null</td><td>null</td><td>null</td><td>&quot;40.84332975466513&quot;</td><td>&quot;-73.93914371913482&quot;</td><td>&quot;(40.84332975466513, -73.93914371913482)&quot;</td></tr><tr><td>&quot;26595721&quot;</td><td>&quot;10/31/2013 01:56:23 AM&quot;</td><td>&quot;10/31/2013 02:21:48 AM&quot;</td><td>&quot;NYPD&quot;</td><td>&quot;New York City Police Department&quot;</td><td>&quot;Noise - Vehicle&quot;</td><td>&quot;Car/Truck Horn&quot;</td><td>&quot;Street/Sidewalk&quot;</td><td>&quot;10023&quot;</td><td>&quot;WEST 72 STREET&quot;</td><td>&quot;WEST 72 STREET&quot;</td><td>&quot;COLUMBUS AVENUE&quot;</td><td>&quot;AMSTERDAM AVENUE&quot;</td><td>null</td><td>null</td><td>&quot;BLOCKFACE&quot;</td><td>&quot;NEW YORK&quot;</td><td>null</td><td>&quot;Precinct&quot;</td><td>&quot;Closed&quot;</td><td>&quot;10/31/2013 09:56:23 AM&quot;</td><td>&quot;10/31/2013 02:21:10 AM&quot;</td><td>&quot;07 MANHATTAN&quot;</td><td>&quot;MANHATTAN&quot;</td><td>&quot;989730&quot;</td><td>&quot;222727&quot;</td><td>&quot;Unspecified&quot;</td><td>&quot;MANHATTAN&quot;</td><td>&quot;Unspecified&quot;</td><td>&quot;Unspecified&quot;</td><td>&quot;Unspecified&quot;</td><td>&quot;Unspecified&quot;</td><td>&quot;Unspecified&quot;</td><td>&quot;Unspecified&quot;</td><td>&quot;Unspecified&quot;</td><td>&quot;Unspecified&quot;</td><td>&quot;Unspecified&quot;</td><td>&quot;N&quot;</td><td>null</td><td>null</td><td>null</td><td>null</td><td>null</td><td>null</td><td>null</td><td>null</td><td>null</td><td>null</td><td>null</td><td>&quot;40.7780087446372&quot;</td><td>&quot;-73.98021349023975&quot;</td><td>&quot;(40.7780087446372, -73.98021349023975)&quot;</td></tr><tr><td>&quot;26590930&quot;</td><td>&quot;10/31/2013 01:53:44 AM&quot;</td><td>null</td><td>&quot;DOHMH&quot;</td><td>&quot;Department of Health and Mental Hygiene&quot;</td><td>&quot;Rodent&quot;</td><td>&quot;Condition Attracting Rodents&quot;</td><td>&quot;Vacant Lot&quot;</td><td>&quot;10027&quot;</td><td>&quot;WEST 124 STREET&quot;</td><td>&quot;WEST 124 STREET&quot;</td><td>&quot;LENOX AVENUE&quot;</td><td>&quot;ADAM CLAYTON POWELL JR BOULEVARD&quot;</td><td>null</td><td>null</td><td>&quot;BLOCKFACE&quot;</td><td>&quot;NEW YORK&quot;</td><td>null</td><td>&quot;N/A&quot;</td><td>&quot;Pending&quot;</td><td>&quot;11/30/2013 01:53:44 AM&quot;</td><td>&quot;10/31/2013 01:59:54 AM&quot;</td><td>&quot;10 MANHATTAN&quot;</td><td>&quot;MANHATTAN&quot;</td><td>&quot;998815&quot;</td><td>&quot;233545&quot;</td><td>&quot;Unspecified&quot;</td><td>&quot;MANHATTAN&quot;</td><td>&quot;Unspecified&quot;</td><td>&quot;Unspecified&quot;</td><td>&quot;Unspecified&quot;</td><td>&quot;Unspecified&quot;</td><td>&quot;Unspecified&quot;</td><td>&quot;Unspecified&quot;</td><td>&quot;Unspecified&quot;</td><td>&quot;Unspecified&quot;</td><td>&quot;Unspecified&quot;</td><td>&quot;N&quot;</td><td>null</td><td>null</td><td>null</td><td>null</td><td>null</td><td>null</td><td>null</td><td>null</td><td>null</td><td>null</td><td>null</td><td>&quot;40.80769092704951&quot;</td><td>&quot;-73.94738703491433&quot;</td><td>&quot;(40.80769092704951, -73.94738703491433)&quot;</td></tr></tbody></table></div>"
      ],
      "text/plain": [
       "shape: (5, 52)\n",
       "┌─────┬─────┬─────┬─────┬─────┬─────┬─────┬─────┬─────┬─────┬─────┬─────┬─────┬─────┬─────┬─────┬─────┬─────┬─────┬─────┬─────┬─────┬─────┬─────┬─────┬─────┬─────┬─────┬─────┬─────┬─────┬─────┬─────┬─────┬─────┬─────┬─────┬─────┬─────┬─────┬─────┬─────┬─────┬─────┬─────┬─────┬─────┬─────┬─────┬─────┬─────┬─────┐\n",
       "│ Uni ┆ Cre ┆ Clo ┆ Age ┆ Age ┆ Com ┆ Des ┆ Loc ┆ Inc ┆ Inc ┆ Str ┆ Cro ┆ Cro ┆ Int ┆ Int ┆ Add ┆ Cit ┆ Lan ┆ Fac ┆ Sta ┆ Due ┆ Res ┆ Com ┆ Bor ┆ X   ┆ Y   ┆ Par ┆ Par ┆ Sch ┆ Sch ┆ Sch ┆ Sch ┆ Sch ┆ Sch ┆ Sch ┆ Sch ┆ Sch ┆ Sch ┆ Sch ┆ Veh ┆ Tax ┆ Tax ┆ Bri ┆ Bri ┆ Roa ┆ Bri ┆ Gar ┆ Fer ┆ Fer ┆ Lat ┆ Lon ┆ Loc │\n",
       "│ que ┆ ate ┆ sed ┆ ncy ┆ ncy ┆ pla ┆ cri ┆ ati ┆ ide ┆ ide ┆ eet ┆ ss  ┆ ss  ┆ ers ┆ ers ┆ res ┆ y   ┆ dma ┆ ili ┆ tus ┆ Dat ┆ olu ┆ mun ┆ oug ┆ Coo ┆ Coo ┆ k   ┆ k   ┆ ool ┆ ool ┆ ool ┆ ool ┆ ool ┆ ool ┆ ool ┆ ool ┆ ool ┆ ool ┆ ool ┆ icl ┆ i   ┆ i   ┆ dge ┆ dge ┆ d   ┆ dge ┆ age ┆ ry  ┆ ry  ┆ itu ┆ git ┆ ati │\n",
       "│ Key ┆ d   ┆ Dat ┆ --- ┆ Nam ┆ int ┆ pto ┆ on  ┆ nt  ┆ nt  ┆ Nam ┆ Str ┆ Str ┆ ect ┆ ect ┆ s   ┆ --- ┆ rk  ┆ ty  ┆ --- ┆ e   ┆ tio ┆ ity ┆ h   ┆ rdi ┆ rdi ┆ Fac ┆ Bor ┆ Nam ┆ Num ┆ Reg ┆ Cod ┆ Pho ┆ Add ┆ Cit ┆ Sta ┆ Zip ┆ Not ┆ or  ┆ e   ┆ Com ┆ Pic ┆ Hig ┆ Hig ┆ Ram ┆ Hig ┆ Lot ┆ Dir ┆ Ter ┆ de  ┆ ude ┆ on  │\n",
       "│ --- ┆ Dat ┆ e   ┆ str ┆ e   ┆ Typ ┆ r   ┆ Typ ┆ Zip ┆ Add ┆ e   ┆ eet ┆ eet ┆ ion ┆ ion ┆ Typ ┆ str ┆ --- ┆ Typ ┆ str ┆ --- ┆ n   ┆ Boa ┆ --- ┆ nat ┆ nat ┆ ili ┆ oug ┆ e   ┆ ber ┆ ion ┆ e   ┆ ne  ┆ res ┆ y   ┆ te  ┆ --- ┆ Fou ┆ Cit ┆ Typ ┆ pan ┆ k   ┆ hwa ┆ hwa ┆ p   ┆ hwa ┆ Nam ┆ ect ┆ min ┆ --- ┆ --- ┆ --- │\n",
       "│ str ┆ e   ┆ --- ┆     ┆ --- ┆ e   ┆ --- ┆ e   ┆ --- ┆ res ┆ --- ┆ 1   ┆ 2   ┆ Str ┆ Str ┆ e   ┆     ┆ str ┆ e   ┆     ┆ str ┆ Act ┆ rd  ┆ str ┆ e   ┆ e   ┆ ty  ┆ h   ┆ --- ┆ --- ┆ --- ┆ --- ┆ Num ┆ s   ┆ --- ┆ --- ┆ str ┆ nd  ┆ ywi ┆ e   ┆ y   ┆ Up  ┆ y   ┆ y   ┆ --- ┆ y   ┆ e   ┆ ion ┆ al  ┆ str ┆ str ┆ str │\n",
       "│     ┆ --- ┆ str ┆     ┆ str ┆ --- ┆ str ┆ --- ┆ str ┆ s   ┆ str ┆ --- ┆ --- ┆ eet ┆ eet ┆ --- ┆     ┆     ┆ --- ┆     ┆     ┆ ion ┆ --- ┆     ┆ (St ┆ (St ┆ Nam ┆ --- ┆ str ┆ str ┆ str ┆ str ┆ ber ┆ --- ┆ str ┆ str ┆     ┆ --- ┆ de  ┆ --- ┆ Bor ┆ Loc ┆ Nam ┆ Dir ┆ str ┆ Seg ┆ --- ┆ --- ┆ Nam ┆     ┆     ┆     │\n",
       "│     ┆ str ┆     ┆     ┆     ┆ str ┆     ┆ str ┆     ┆ --- ┆     ┆ str ┆ str ┆ 1   ┆ 2   ┆ str ┆     ┆     ┆ str ┆     ┆     ┆ Upd ┆ str ┆     ┆ ate ┆ ate ┆ e   ┆ str ┆     ┆     ┆     ┆     ┆ --- ┆ str ┆     ┆     ┆     ┆ str ┆ Com ┆ str ┆ oug ┆ ati ┆ e   ┆ ect ┆     ┆ men ┆ str ┆ str ┆ e   ┆     ┆     ┆     │\n",
       "│     ┆     ┆     ┆     ┆     ┆     ┆     ┆     ┆     ┆ str ┆     ┆     ┆     ┆ --- ┆ --- ┆     ┆     ┆     ┆     ┆     ┆     ┆ ate ┆     ┆     ┆ Pla ┆ Pla ┆ --- ┆     ┆     ┆     ┆     ┆     ┆ str ┆     ┆     ┆     ┆     ┆     ┆ pla ┆     ┆ h   ┆ on  ┆ --- ┆ ion ┆     ┆ t   ┆     ┆     ┆ --- ┆     ┆     ┆     │\n",
       "│     ┆     ┆     ┆     ┆     ┆     ┆     ┆     ┆     ┆     ┆     ┆     ┆     ┆ str ┆ str ┆     ┆     ┆     ┆     ┆     ┆     ┆ d   ┆     ┆     ┆ ne) ┆ ne) ┆ str ┆     ┆     ┆     ┆     ┆     ┆     ┆     ┆     ┆     ┆     ┆     ┆ int ┆     ┆ --- ┆ --- ┆ str ┆ --- ┆     ┆ --- ┆     ┆     ┆ str ┆     ┆     ┆     │\n",
       "│     ┆     ┆     ┆     ┆     ┆     ┆     ┆     ┆     ┆     ┆     ┆     ┆     ┆     ┆     ┆     ┆     ┆     ┆     ┆     ┆     ┆ Dat ┆     ┆     ┆ --- ┆ --- ┆     ┆     ┆     ┆     ┆     ┆     ┆     ┆     ┆     ┆     ┆     ┆     ┆ --- ┆     ┆ str ┆ str ┆     ┆ str ┆     ┆ str ┆     ┆     ┆     ┆     ┆     ┆     │\n",
       "│     ┆     ┆     ┆     ┆     ┆     ┆     ┆     ┆     ┆     ┆     ┆     ┆     ┆     ┆     ┆     ┆     ┆     ┆     ┆     ┆     ┆ e   ┆     ┆     ┆ str ┆ str ┆     ┆     ┆     ┆     ┆     ┆     ┆     ┆     ┆     ┆     ┆     ┆     ┆ str ┆     ┆     ┆     ┆     ┆     ┆     ┆     ┆     ┆     ┆     ┆     ┆     ┆     │\n",
       "│     ┆     ┆     ┆     ┆     ┆     ┆     ┆     ┆     ┆     ┆     ┆     ┆     ┆     ┆     ┆     ┆     ┆     ┆     ┆     ┆     ┆ --- ┆     ┆     ┆     ┆     ┆     ┆     ┆     ┆     ┆     ┆     ┆     ┆     ┆     ┆     ┆     ┆     ┆     ┆     ┆     ┆     ┆     ┆     ┆     ┆     ┆     ┆     ┆     ┆     ┆     ┆     │\n",
       "│     ┆     ┆     ┆     ┆     ┆     ┆     ┆     ┆     ┆     ┆     ┆     ┆     ┆     ┆     ┆     ┆     ┆     ┆     ┆     ┆     ┆ str ┆     ┆     ┆     ┆     ┆     ┆     ┆     ┆     ┆     ┆     ┆     ┆     ┆     ┆     ┆     ┆     ┆     ┆     ┆     ┆     ┆     ┆     ┆     ┆     ┆     ┆     ┆     ┆     ┆     ┆     │\n",
       "╞═════╪═════╪═════╪═════╪═════╪═════╪═════╪═════╪═════╪═════╪═════╪═════╪═════╪═════╪═════╪═════╪═════╪═════╪═════╪═════╪═════╪═════╪═════╪═════╪═════╪═════╪═════╪═════╪═════╪═════╪═════╪═════╪═════╪═════╪═════╪═════╪═════╪═════╪═════╪═════╪═════╪═════╪═════╪═════╪═════╪═════╪═════╪═════╪═════╪═════╪═════╪═════╡\n",
       "│ 265 ┆ 10/ ┆ nul ┆ NYP ┆ New ┆ Noi ┆ Lou ┆ Str ┆ 114 ┆ 90- ┆ 169 ┆ 90  ┆ 91  ┆ nul ┆ nul ┆ ADD ┆ JAM ┆ nul ┆ Pre ┆ Ass ┆ 10/ ┆ 10/ ┆ 12  ┆ QUE ┆ 104 ┆ 197 ┆ Uns ┆ QUE ┆ Uns ┆ Uns ┆ Uns ┆ Uns ┆ Uns ┆ Uns ┆ Uns ┆ Uns ┆ Uns ┆ N   ┆ nul ┆ nul ┆ nul ┆ nul ┆ nul ┆ nul ┆ nul ┆ nul ┆ nul ┆ nul ┆ nul ┆ 40. ┆ -73 ┆ (40 │\n",
       "│ 896 ┆ 31/ ┆ l   ┆ D   ┆ Yor ┆ se  ┆ d   ┆ eet ┆ 32  ┆ 03  ┆ STR ┆ AVE ┆ AVE ┆ l   ┆ l   ┆ RES ┆ AIC ┆ l   ┆ cin ┆ ign ┆ 31/ ┆ 31/ ┆ QUE ┆ ENS ┆ 202 ┆ 389 ┆ pec ┆ ENS ┆ pec ┆ pec ┆ pec ┆ pec ┆ pec ┆ pec ┆ pec ┆ pec ┆ pec ┆     ┆ l   ┆ l   ┆ l   ┆ l   ┆ l   ┆ l   ┆ l   ┆ l   ┆ l   ┆ l   ┆ l   ┆ 708 ┆ .79 ┆ .70 │\n",
       "│ 51  ┆ 201 ┆     ┆     ┆ k   ┆ -   ┆ Tal ┆ /Si ┆     ┆ 169 ┆ EET ┆ NUE ┆ NUE ┆     ┆     ┆ S   ┆ A   ┆     ┆ ct  ┆ ed  ┆ 201 ┆ 201 ┆ ENS ┆     ┆ 7   ┆     ┆ ifi ┆     ┆ ifi ┆ ifi ┆ ifi ┆ ifi ┆ ifi ┆ ifi ┆ ifi ┆ ifi ┆ ifi ┆     ┆     ┆     ┆     ┆     ┆     ┆     ┆     ┆     ┆     ┆     ┆     ┆ 275 ┆ 160 ┆ 827 │\n",
       "│     ┆ 3   ┆     ┆     ┆ Cit ┆ Str ┆ kin ┆ dew ┆     ┆ STR ┆     ┆     ┆     ┆     ┆     ┆     ┆     ┆     ┆     ┆     ┆ 3   ┆ 3   ┆     ┆     ┆     ┆     ┆ ed  ┆     ┆ ed  ┆ ed  ┆ ed  ┆ ed  ┆ ed  ┆ ed  ┆ ed  ┆ ed  ┆ ed  ┆     ┆     ┆     ┆     ┆     ┆     ┆     ┆     ┆     ┆     ┆     ┆     ┆ 325 ┆ 395 ┆ 532 │\n",
       "│     ┆ 02: ┆     ┆     ┆ y   ┆ eet ┆ g   ┆ alk ┆     ┆ EET ┆     ┆     ┆     ┆     ┆     ┆     ┆     ┆     ┆     ┆     ┆ 10: ┆ 02: ┆     ┆     ┆     ┆     ┆     ┆     ┆     ┆     ┆     ┆     ┆     ┆     ┆     ┆     ┆     ┆     ┆     ┆     ┆     ┆     ┆     ┆     ┆     ┆     ┆     ┆     ┆     ┆ 932 ┆ 779 ┆ 593 │\n",
       "│     ┆ 08: ┆     ┆     ┆ Pol ┆ /Si ┆     ┆     ┆     ┆     ┆     ┆     ┆     ┆     ┆     ┆     ┆     ┆     ┆     ┆     ┆ 08: ┆ 35: ┆     ┆     ┆     ┆     ┆     ┆     ┆     ┆     ┆     ┆     ┆     ┆     ┆     ┆     ┆     ┆     ┆     ┆     ┆     ┆     ┆     ┆     ┆     ┆     ┆     ┆     ┆     ┆ 02  ┆ 721 ┆ 202 │\n",
       "│     ┆ 41  ┆     ┆     ┆ ice ┆ dew ┆     ┆     ┆     ┆     ┆     ┆     ┆     ┆     ┆     ┆     ┆     ┆     ┆     ┆     ┆ 41  ┆ 17  ┆     ┆     ┆     ┆     ┆     ┆     ┆     ┆     ┆     ┆     ┆     ┆     ┆     ┆     ┆     ┆     ┆     ┆     ┆     ┆     ┆     ┆     ┆     ┆     ┆     ┆     ┆     ┆     ┆     ┆ ,   │\n",
       "│     ┆ AM  ┆     ┆     ┆ Dep ┆ alk ┆     ┆     ┆     ┆     ┆     ┆     ┆     ┆     ┆     ┆     ┆     ┆     ┆     ┆     ┆ AM  ┆ AM  ┆     ┆     ┆     ┆     ┆     ┆     ┆     ┆     ┆     ┆     ┆     ┆     ┆     ┆     ┆     ┆     ┆     ┆     ┆     ┆     ┆     ┆     ┆     ┆     ┆     ┆     ┆     ┆     ┆     ┆ -73 │\n",
       "│     ┆     ┆     ┆     ┆ art ┆     ┆     ┆     ┆     ┆     ┆     ┆     ┆     ┆     ┆     ┆     ┆     ┆     ┆     ┆     ┆     ┆     ┆     ┆     ┆     ┆     ┆     ┆     ┆     ┆     ┆     ┆     ┆     ┆     ┆     ┆     ┆     ┆     ┆     ┆     ┆     ┆     ┆     ┆     ┆     ┆     ┆     ┆     ┆     ┆     ┆     ┆ .79 │\n",
       "│     ┆     ┆     ┆     ┆ men ┆     ┆     ┆     ┆     ┆     ┆     ┆     ┆     ┆     ┆     ┆     ┆     ┆     ┆     ┆     ┆     ┆     ┆     ┆     ┆     ┆     ┆     ┆     ┆     ┆     ┆     ┆     ┆     ┆     ┆     ┆     ┆     ┆     ┆     ┆     ┆     ┆     ┆     ┆     ┆     ┆     ┆     ┆     ┆     ┆     ┆     ┆ 160 │\n",
       "│     ┆     ┆     ┆     ┆ t   ┆     ┆     ┆     ┆     ┆     ┆     ┆     ┆     ┆     ┆     ┆     ┆     ┆     ┆     ┆     ┆     ┆     ┆     ┆     ┆     ┆     ┆     ┆     ┆     ┆     ┆     ┆     ┆     ┆     ┆     ┆     ┆     ┆     ┆     ┆     ┆     ┆     ┆     ┆     ┆     ┆     ┆     ┆     ┆     ┆     ┆     ┆ 395 │\n",
       "│     ┆     ┆     ┆     ┆     ┆     ┆     ┆     ┆     ┆     ┆     ┆     ┆     ┆     ┆     ┆     ┆     ┆     ┆     ┆     ┆     ┆     ┆     ┆     ┆     ┆     ┆     ┆     ┆     ┆     ┆     ┆     ┆     ┆     ┆     ┆     ┆     ┆     ┆     ┆     ┆     ┆     ┆     ┆     ┆     ┆     ┆     ┆     ┆     ┆     ┆     ┆ 779 │\n",
       "│     ┆     ┆     ┆     ┆     ┆     ┆     ┆     ┆     ┆     ┆     ┆     ┆     ┆     ┆     ┆     ┆     ┆     ┆     ┆     ┆     ┆     ┆     ┆     ┆     ┆     ┆     ┆     ┆     ┆     ┆     ┆     ┆     ┆     ┆     ┆     ┆     ┆     ┆     ┆     ┆     ┆     ┆     ┆     ┆     ┆     ┆     ┆     ┆     ┆     ┆     ┆ 721 │\n",
       "│     ┆     ┆     ┆     ┆     ┆     ┆     ┆     ┆     ┆     ┆     ┆     ┆     ┆     ┆     ┆     ┆     ┆     ┆     ┆     ┆     ┆     ┆     ┆     ┆     ┆     ┆     ┆     ┆     ┆     ┆     ┆     ┆     ┆     ┆     ┆     ┆     ┆     ┆     ┆     ┆     ┆     ┆     ┆     ┆     ┆     ┆     ┆     ┆     ┆     ┆     ┆ )   │\n",
       "│ 265 ┆ 10/ ┆ nul ┆ NYP ┆ New ┆ Ill ┆ Com ┆ Str ┆ 113 ┆ 58  ┆ 58  ┆ 58  ┆ 59  ┆ nul ┆ nul ┆ BLO ┆ MAS ┆ nul ┆ Pre ┆ Ope ┆ 10/ ┆ nul ┆ 05  ┆ QUE ┆ 100 ┆ 201 ┆ Uns ┆ QUE ┆ Uns ┆ Uns ┆ Uns ┆ Uns ┆ Uns ┆ Uns ┆ Uns ┆ Uns ┆ Uns ┆ N   ┆ nul ┆ nul ┆ nul ┆ nul ┆ nul ┆ nul ┆ nul ┆ nul ┆ nul ┆ nul ┆ nul ┆ 40. ┆ -73 ┆ (40 │\n",
       "│ 936 ┆ 31/ ┆ l   ┆ D   ┆ Yor ┆ ega ┆ mer ┆ eet ┆ 78  ┆ AVE ┆ AVE ┆ PLA ┆ STR ┆ l   ┆ l   ┆ CKF ┆ PET ┆ l   ┆ cin ┆ n   ┆ 31/ ┆ l   ┆ QUE ┆ ENS ┆ 934 ┆ 984 ┆ pec ┆ ENS ┆ pec ┆ pec ┆ pec ┆ pec ┆ pec ┆ pec ┆ pec ┆ pec ┆ pec ┆     ┆ l   ┆ l   ┆ l   ┆ l   ┆ l   ┆ l   ┆ l   ┆ l   ┆ l   ┆ l   ┆ l   ┆ 721 ┆ .90 ┆ .72 │\n",
       "│ 98  ┆ 201 ┆     ┆     ┆ k   ┆ l   ┆ cia ┆ /Si ┆     ┆ NUE ┆ NUE ┆ CE  ┆ EET ┆     ┆     ┆ ACE ┆ H   ┆     ┆ ct  ┆     ┆ 201 ┆     ┆ ENS ┆     ┆ 9   ┆     ┆ ifi ┆     ┆ ifi ┆ ifi ┆ ifi ┆ ifi ┆ ifi ┆ ifi ┆ ifi ┆ ifi ┆ ifi ┆     ┆     ┆     ┆     ┆     ┆     ┆     ┆     ┆     ┆     ┆     ┆     ┆ 040 ┆ 945 ┆ 104 │\n",
       "│     ┆ 3   ┆     ┆     ┆ Cit ┆ Par ┆ l   ┆ dew ┆     ┆     ┆     ┆     ┆     ┆     ┆     ┆     ┆     ┆     ┆     ┆     ┆ 3   ┆     ┆     ┆     ┆     ┆     ┆ ed  ┆     ┆ ed  ┆ ed  ┆ ed  ┆ ed  ┆ ed  ┆ ed  ┆ ed  ┆ ed  ┆ ed  ┆     ┆     ┆     ┆     ┆     ┆     ┆     ┆     ┆     ┆     ┆     ┆     ┆ 535 ┆ 306 ┆ 053 │\n",
       "│     ┆ 02: ┆     ┆     ┆ y   ┆ kin ┆ Ove ┆ alk ┆     ┆     ┆     ┆     ┆     ┆     ┆     ┆     ┆     ┆     ┆     ┆     ┆ 10: ┆     ┆     ┆     ┆     ┆     ┆     ┆     ┆     ┆     ┆     ┆     ┆     ┆     ┆     ┆     ┆     ┆     ┆     ┆     ┆     ┆     ┆     ┆     ┆     ┆     ┆     ┆     ┆     ┆ 628 ┆ 791 ┆ 562 │\n",
       "│     ┆ 01: ┆     ┆     ┆ Pol ┆ g   ┆ rni ┆     ┆     ┆     ┆     ┆     ┆     ┆     ┆     ┆     ┆     ┆     ┆     ┆     ┆ 01: ┆     ┆     ┆     ┆     ┆     ┆     ┆     ┆     ┆     ┆     ┆     ┆     ┆     ┆     ┆     ┆     ┆     ┆     ┆     ┆     ┆     ┆     ┆     ┆     ┆     ┆     ┆     ┆     ┆ 305 ┆ 765 ┆ 830 │\n",
       "│     ┆ 04  ┆     ┆     ┆ ice ┆     ┆ ght ┆     ┆     ┆     ┆     ┆     ┆     ┆     ┆     ┆     ┆     ┆     ┆     ┆     ┆ 04  ┆     ┆     ┆     ┆     ┆     ┆     ┆     ┆     ┆     ┆     ┆     ┆     ┆     ┆     ┆     ┆     ┆     ┆     ┆     ┆     ┆     ┆     ┆     ┆     ┆     ┆     ┆     ┆     ┆     ┆     ┆ 5,  │\n",
       "│     ┆ AM  ┆     ┆     ┆ Dep ┆     ┆ Par ┆     ┆     ┆     ┆     ┆     ┆     ┆     ┆     ┆     ┆     ┆     ┆     ┆     ┆ AM  ┆     ┆     ┆     ┆     ┆     ┆     ┆     ┆     ┆     ┆     ┆     ┆     ┆     ┆     ┆     ┆     ┆     ┆     ┆     ┆     ┆     ┆     ┆     ┆     ┆     ┆     ┆     ┆     ┆     ┆     ┆ -73 │\n",
       "│     ┆     ┆     ┆     ┆ art ┆     ┆ kin ┆     ┆     ┆     ┆     ┆     ┆     ┆     ┆     ┆     ┆     ┆     ┆     ┆     ┆     ┆     ┆     ┆     ┆     ┆     ┆     ┆     ┆     ┆     ┆     ┆     ┆     ┆     ┆     ┆     ┆     ┆     ┆     ┆     ┆     ┆     ┆     ┆     ┆     ┆     ┆     ┆     ┆     ┆     ┆     ┆ .90 │\n",
       "│     ┆     ┆     ┆     ┆ men ┆     ┆ g   ┆     ┆     ┆     ┆     ┆     ┆     ┆     ┆     ┆     ┆     ┆     ┆     ┆     ┆     ┆     ┆     ┆     ┆     ┆     ┆     ┆     ┆     ┆     ┆     ┆     ┆     ┆     ┆     ┆     ┆     ┆     ┆     ┆     ┆     ┆     ┆     ┆     ┆     ┆     ┆     ┆     ┆     ┆     ┆     ┆ 945 │\n",
       "│     ┆     ┆     ┆     ┆ t   ┆     ┆     ┆     ┆     ┆     ┆     ┆     ┆     ┆     ┆     ┆     ┆     ┆     ┆     ┆     ┆     ┆     ┆     ┆     ┆     ┆     ┆     ┆     ┆     ┆     ┆     ┆     ┆     ┆     ┆     ┆     ┆     ┆     ┆     ┆     ┆     ┆     ┆     ┆     ┆     ┆     ┆     ┆     ┆     ┆     ┆     ┆ 306 │\n",
       "│     ┆     ┆     ┆     ┆     ┆     ┆     ┆     ┆     ┆     ┆     ┆     ┆     ┆     ┆     ┆     ┆     ┆     ┆     ┆     ┆     ┆     ┆     ┆     ┆     ┆     ┆     ┆     ┆     ┆     ┆     ┆     ┆     ┆     ┆     ┆     ┆     ┆     ┆     ┆     ┆     ┆     ┆     ┆     ┆     ┆     ┆     ┆     ┆     ┆     ┆     ┆ 791 │\n",
       "│     ┆     ┆     ┆     ┆     ┆     ┆     ┆     ┆     ┆     ┆     ┆     ┆     ┆     ┆     ┆     ┆     ┆     ┆     ┆     ┆     ┆     ┆     ┆     ┆     ┆     ┆     ┆     ┆     ┆     ┆     ┆     ┆     ┆     ┆     ┆     ┆     ┆     ┆     ┆     ┆     ┆     ┆     ┆     ┆     ┆     ┆     ┆     ┆     ┆     ┆     ┆ 765 │\n",
       "│     ┆     ┆     ┆     ┆     ┆     ┆     ┆     ┆     ┆     ┆     ┆     ┆     ┆     ┆     ┆     ┆     ┆     ┆     ┆     ┆     ┆     ┆     ┆     ┆     ┆     ┆     ┆     ┆     ┆     ┆     ┆     ┆     ┆     ┆     ┆     ┆     ┆     ┆     ┆     ┆     ┆     ┆     ┆     ┆     ┆     ┆     ┆     ┆     ┆     ┆     ┆ )   │\n",
       "│ 265 ┆ 10/ ┆ 10/ ┆ NYP ┆ New ┆ Noi ┆ Lou ┆ Clu ┆ 100 ┆ 406 ┆ BRO ┆ WES ┆ WES ┆ nul ┆ nul ┆ ADD ┆ NEW ┆ nul ┆ Pre ┆ Clo ┆ 10/ ┆ 10/ ┆ 12  ┆ MAN ┆ 100 ┆ 246 ┆ Uns ┆ MAN ┆ Uns ┆ Uns ┆ Uns ┆ Uns ┆ Uns ┆ Uns ┆ Uns ┆ Uns ┆ Uns ┆ N   ┆ nul ┆ nul ┆ nul ┆ nul ┆ nul ┆ nul ┆ nul ┆ nul ┆ nul ┆ nul ┆ nul ┆ 40. ┆ -73 ┆ (40 │\n",
       "│ 941 ┆ 31/ ┆ 31/ ┆ D   ┆ Yor ┆ se  ┆ d   ┆ b/B ┆ 32  ┆ 0   ┆ ADW ┆ T   ┆ T   ┆ l   ┆ l   ┆ RES ┆ YOR ┆ l   ┆ cin ┆ sed ┆ 31/ ┆ 31/ ┆ MAN ┆ HAT ┆ 108 ┆ 531 ┆ pec ┆ HAT ┆ pec ┆ pec ┆ pec ┆ pec ┆ pec ┆ pec ┆ pec ┆ pec ┆ pec ┆     ┆ l   ┆ l   ┆ l   ┆ l   ┆ l   ┆ l   ┆ l   ┆ l   ┆ l   ┆ l   ┆ l   ┆ 843 ┆ .93 ┆ .84 │\n",
       "│ 39  ┆ 201 ┆ 201 ┆     ┆ k   ┆ -   ┆ Mus ┆ ar/ ┆     ┆ BRO ┆ AY  ┆ 171 ┆ 172 ┆     ┆     ┆ S   ┆ K   ┆     ┆ ct  ┆     ┆ 201 ┆ 201 ┆ HAT ┆ TAN ┆ 8   ┆     ┆ ifi ┆ TAN ┆ ifi ┆ ifi ┆ ifi ┆ ifi ┆ ifi ┆ ifi ┆ ifi ┆ ifi ┆ ifi ┆     ┆     ┆     ┆     ┆     ┆     ┆     ┆     ┆     ┆     ┆     ┆     ┆ 329 ┆ 914 ┆ 332 │\n",
       "│     ┆ 3   ┆ 3   ┆     ┆ Cit ┆ Com ┆ ic/ ┆ Res ┆     ┆ ADW ┆     ┆ STR ┆ STR ┆     ┆     ┆     ┆     ┆     ┆     ┆     ┆ 3   ┆ 3   ┆ TAN ┆     ┆     ┆     ┆ ed  ┆     ┆ ed  ┆ ed  ┆ ed  ┆ ed  ┆ ed  ┆ ed  ┆ ed  ┆ ed  ┆ ed  ┆     ┆     ┆     ┆     ┆     ┆     ┆     ┆     ┆     ┆     ┆     ┆     ┆ 754 ┆ 371 ┆ 975 │\n",
       "│     ┆ 02: ┆ 02: ┆     ┆ y   ┆ mer ┆ Par ┆ tau ┆     ┆ AY  ┆     ┆ EET ┆ EET ┆     ┆     ┆     ┆     ┆     ┆     ┆     ┆ 10: ┆ 02: ┆     ┆     ┆     ┆     ┆     ┆     ┆     ┆     ┆     ┆     ┆     ┆     ┆     ┆     ┆     ┆     ┆     ┆     ┆     ┆     ┆     ┆     ┆     ┆     ┆     ┆     ┆     ┆ 665 ┆ 913 ┆ 466 │\n",
       "│     ┆ 00: ┆ 40: ┆     ┆ Pol ┆ cia ┆ ty  ┆ ran ┆     ┆     ┆     ┆     ┆     ┆     ┆     ┆     ┆     ┆     ┆     ┆     ┆ 00: ┆ 39: ┆     ┆     ┆     ┆     ┆     ┆     ┆     ┆     ┆     ┆     ┆     ┆     ┆     ┆     ┆     ┆     ┆     ┆     ┆     ┆     ┆     ┆     ┆     ┆     ┆     ┆     ┆     ┆ 13  ┆ 482 ┆ 513 │\n",
       "│     ┆ 24  ┆ 32  ┆     ┆ ice ┆ l   ┆     ┆ t   ┆     ┆     ┆     ┆     ┆     ┆     ┆     ┆     ┆     ┆     ┆     ┆     ┆ 24  ┆ 42  ┆     ┆     ┆     ┆     ┆     ┆     ┆     ┆     ┆     ┆     ┆     ┆     ┆     ┆     ┆     ┆     ┆     ┆     ┆     ┆     ┆     ┆     ┆     ┆     ┆     ┆     ┆     ┆     ┆     ┆ ,   │\n",
       "│     ┆ AM  ┆ AM  ┆     ┆ Dep ┆     ┆     ┆     ┆     ┆     ┆     ┆     ┆     ┆     ┆     ┆     ┆     ┆     ┆     ┆     ┆ AM  ┆ AM  ┆     ┆     ┆     ┆     ┆     ┆     ┆     ┆     ┆     ┆     ┆     ┆     ┆     ┆     ┆     ┆     ┆     ┆     ┆     ┆     ┆     ┆     ┆     ┆     ┆     ┆     ┆     ┆     ┆     ┆ -73 │\n",
       "│     ┆     ┆     ┆     ┆ art ┆     ┆     ┆     ┆     ┆     ┆     ┆     ┆     ┆     ┆     ┆     ┆     ┆     ┆     ┆     ┆     ┆     ┆     ┆     ┆     ┆     ┆     ┆     ┆     ┆     ┆     ┆     ┆     ┆     ┆     ┆     ┆     ┆     ┆     ┆     ┆     ┆     ┆     ┆     ┆     ┆     ┆     ┆     ┆     ┆     ┆     ┆ .93 │\n",
       "│     ┆     ┆     ┆     ┆ men ┆     ┆     ┆     ┆     ┆     ┆     ┆     ┆     ┆     ┆     ┆     ┆     ┆     ┆     ┆     ┆     ┆     ┆     ┆     ┆     ┆     ┆     ┆     ┆     ┆     ┆     ┆     ┆     ┆     ┆     ┆     ┆     ┆     ┆     ┆     ┆     ┆     ┆     ┆     ┆     ┆     ┆     ┆     ┆     ┆     ┆     ┆ 914 │\n",
       "│     ┆     ┆     ┆     ┆ t   ┆     ┆     ┆     ┆     ┆     ┆     ┆     ┆     ┆     ┆     ┆     ┆     ┆     ┆     ┆     ┆     ┆     ┆     ┆     ┆     ┆     ┆     ┆     ┆     ┆     ┆     ┆     ┆     ┆     ┆     ┆     ┆     ┆     ┆     ┆     ┆     ┆     ┆     ┆     ┆     ┆     ┆     ┆     ┆     ┆     ┆     ┆ 371 │\n",
       "│     ┆     ┆     ┆     ┆     ┆     ┆     ┆     ┆     ┆     ┆     ┆     ┆     ┆     ┆     ┆     ┆     ┆     ┆     ┆     ┆     ┆     ┆     ┆     ┆     ┆     ┆     ┆     ┆     ┆     ┆     ┆     ┆     ┆     ┆     ┆     ┆     ┆     ┆     ┆     ┆     ┆     ┆     ┆     ┆     ┆     ┆     ┆     ┆     ┆     ┆     ┆ 913 │\n",
       "│     ┆     ┆     ┆     ┆     ┆     ┆     ┆     ┆     ┆     ┆     ┆     ┆     ┆     ┆     ┆     ┆     ┆     ┆     ┆     ┆     ┆     ┆     ┆     ┆     ┆     ┆     ┆     ┆     ┆     ┆     ┆     ┆     ┆     ┆     ┆     ┆     ┆     ┆     ┆     ┆     ┆     ┆     ┆     ┆     ┆     ┆     ┆     ┆     ┆     ┆     ┆ 482 │\n",
       "│     ┆     ┆     ┆     ┆     ┆     ┆     ┆     ┆     ┆     ┆     ┆     ┆     ┆     ┆     ┆     ┆     ┆     ┆     ┆     ┆     ┆     ┆     ┆     ┆     ┆     ┆     ┆     ┆     ┆     ┆     ┆     ┆     ┆     ┆     ┆     ┆     ┆     ┆     ┆     ┆     ┆     ┆     ┆     ┆     ┆     ┆     ┆     ┆     ┆     ┆     ┆ )   │\n",
       "│ 265 ┆ 10/ ┆ 10/ ┆ NYP ┆ New ┆ Noi ┆ Car ┆ Str ┆ 100 ┆ WES ┆ WES ┆ COL ┆ AMS ┆ nul ┆ nul ┆ BLO ┆ NEW ┆ nul ┆ Pre ┆ Clo ┆ 10/ ┆ 10/ ┆ 07  ┆ MAN ┆ 989 ┆ 222 ┆ Uns ┆ MAN ┆ Uns ┆ Uns ┆ Uns ┆ Uns ┆ Uns ┆ Uns ┆ Uns ┆ Uns ┆ Uns ┆ N   ┆ nul ┆ nul ┆ nul ┆ nul ┆ nul ┆ nul ┆ nul ┆ nul ┆ nul ┆ nul ┆ nul ┆ 40. ┆ -73 ┆ (40 │\n",
       "│ 957 ┆ 31/ ┆ 31/ ┆ D   ┆ Yor ┆ se  ┆ /Tr ┆ eet ┆ 23  ┆ T   ┆ T   ┆ UMB ┆ TER ┆ l   ┆ l   ┆ CKF ┆ YOR ┆ l   ┆ cin ┆ sed ┆ 31/ ┆ 31/ ┆ MAN ┆ HAT ┆ 730 ┆ 727 ┆ pec ┆ HAT ┆ pec ┆ pec ┆ pec ┆ pec ┆ pec ┆ pec ┆ pec ┆ pec ┆ pec ┆     ┆ l   ┆ l   ┆ l   ┆ l   ┆ l   ┆ l   ┆ l   ┆ l   ┆ l   ┆ l   ┆ l   ┆ 778 ┆ .98 ┆ .77 │\n",
       "│ 21  ┆ 201 ┆ 201 ┆     ┆ k   ┆ -   ┆ uck ┆ /Si ┆     ┆ 72  ┆ 72  ┆ US  ┆ DAM ┆     ┆     ┆ ACE ┆ K   ┆     ┆ ct  ┆     ┆ 201 ┆ 201 ┆ HAT ┆ TAN ┆     ┆     ┆ ifi ┆ TAN ┆ ifi ┆ ifi ┆ ifi ┆ ifi ┆ ifi ┆ ifi ┆ ifi ┆ ifi ┆ ifi ┆     ┆     ┆     ┆     ┆     ┆     ┆     ┆     ┆     ┆     ┆     ┆     ┆ 008 ┆ 021 ┆ 800 │\n",
       "│     ┆ 3   ┆ 3   ┆     ┆ Cit ┆ Veh ┆ Hor ┆ dew ┆     ┆ STR ┆ STR ┆ AVE ┆ AVE ┆     ┆     ┆     ┆     ┆     ┆     ┆     ┆ 3   ┆ 3   ┆ TAN ┆     ┆     ┆     ┆ ed  ┆     ┆ ed  ┆ ed  ┆ ed  ┆ ed  ┆ ed  ┆ ed  ┆ ed  ┆ ed  ┆ ed  ┆     ┆     ┆     ┆     ┆     ┆     ┆     ┆     ┆     ┆     ┆     ┆     ┆ 744 ┆ 349 ┆ 874 │\n",
       "│     ┆ 01: ┆ 02: ┆     ┆ y   ┆ icl ┆ n   ┆ alk ┆     ┆ EET ┆ EET ┆ NUE ┆ NUE ┆     ┆     ┆     ┆     ┆     ┆     ┆     ┆ 09: ┆ 02: ┆     ┆     ┆     ┆     ┆     ┆     ┆     ┆     ┆     ┆     ┆     ┆     ┆     ┆     ┆     ┆     ┆     ┆     ┆     ┆     ┆     ┆     ┆     ┆     ┆     ┆     ┆     ┆ 637 ┆ 023 ┆ 463 │\n",
       "│     ┆ 56: ┆ 21: ┆     ┆ Pol ┆ e   ┆     ┆     ┆     ┆     ┆     ┆     ┆     ┆     ┆     ┆     ┆     ┆     ┆     ┆     ┆ 56: ┆ 21: ┆     ┆     ┆     ┆     ┆     ┆     ┆     ┆     ┆     ┆     ┆     ┆     ┆     ┆     ┆     ┆     ┆     ┆     ┆     ┆     ┆     ┆     ┆     ┆     ┆     ┆     ┆     ┆ 2   ┆ 975 ┆ 72, │\n",
       "│     ┆ 23  ┆ 48  ┆     ┆ ice ┆     ┆     ┆     ┆     ┆     ┆     ┆     ┆     ┆     ┆     ┆     ┆     ┆     ┆     ┆     ┆ 23  ┆ 10  ┆     ┆     ┆     ┆     ┆     ┆     ┆     ┆     ┆     ┆     ┆     ┆     ┆     ┆     ┆     ┆     ┆     ┆     ┆     ┆     ┆     ┆     ┆     ┆     ┆     ┆     ┆     ┆     ┆     ┆ -73 │\n",
       "│     ┆ AM  ┆ AM  ┆     ┆ Dep ┆     ┆     ┆     ┆     ┆     ┆     ┆     ┆     ┆     ┆     ┆     ┆     ┆     ┆     ┆     ┆ AM  ┆ AM  ┆     ┆     ┆     ┆     ┆     ┆     ┆     ┆     ┆     ┆     ┆     ┆     ┆     ┆     ┆     ┆     ┆     ┆     ┆     ┆     ┆     ┆     ┆     ┆     ┆     ┆     ┆     ┆     ┆     ┆ .98 │\n",
       "│     ┆     ┆     ┆     ┆ art ┆     ┆     ┆     ┆     ┆     ┆     ┆     ┆     ┆     ┆     ┆     ┆     ┆     ┆     ┆     ┆     ┆     ┆     ┆     ┆     ┆     ┆     ┆     ┆     ┆     ┆     ┆     ┆     ┆     ┆     ┆     ┆     ┆     ┆     ┆     ┆     ┆     ┆     ┆     ┆     ┆     ┆     ┆     ┆     ┆     ┆     ┆ 021 │\n",
       "│     ┆     ┆     ┆     ┆ men ┆     ┆     ┆     ┆     ┆     ┆     ┆     ┆     ┆     ┆     ┆     ┆     ┆     ┆     ┆     ┆     ┆     ┆     ┆     ┆     ┆     ┆     ┆     ┆     ┆     ┆     ┆     ┆     ┆     ┆     ┆     ┆     ┆     ┆     ┆     ┆     ┆     ┆     ┆     ┆     ┆     ┆     ┆     ┆     ┆     ┆     ┆ 349 │\n",
       "│     ┆     ┆     ┆     ┆ t   ┆     ┆     ┆     ┆     ┆     ┆     ┆     ┆     ┆     ┆     ┆     ┆     ┆     ┆     ┆     ┆     ┆     ┆     ┆     ┆     ┆     ┆     ┆     ┆     ┆     ┆     ┆     ┆     ┆     ┆     ┆     ┆     ┆     ┆     ┆     ┆     ┆     ┆     ┆     ┆     ┆     ┆     ┆     ┆     ┆     ┆     ┆ 023 │\n",
       "│     ┆     ┆     ┆     ┆     ┆     ┆     ┆     ┆     ┆     ┆     ┆     ┆     ┆     ┆     ┆     ┆     ┆     ┆     ┆     ┆     ┆     ┆     ┆     ┆     ┆     ┆     ┆     ┆     ┆     ┆     ┆     ┆     ┆     ┆     ┆     ┆     ┆     ┆     ┆     ┆     ┆     ┆     ┆     ┆     ┆     ┆     ┆     ┆     ┆     ┆     ┆ 975 │\n",
       "│     ┆     ┆     ┆     ┆     ┆     ┆     ┆     ┆     ┆     ┆     ┆     ┆     ┆     ┆     ┆     ┆     ┆     ┆     ┆     ┆     ┆     ┆     ┆     ┆     ┆     ┆     ┆     ┆     ┆     ┆     ┆     ┆     ┆     ┆     ┆     ┆     ┆     ┆     ┆     ┆     ┆     ┆     ┆     ┆     ┆     ┆     ┆     ┆     ┆     ┆     ┆ )   │\n",
       "│ 265 ┆ 10/ ┆ nul ┆ DOH ┆ Dep ┆ Rod ┆ Con ┆ Vac ┆ 100 ┆ WES ┆ WES ┆ LEN ┆ ADA ┆ nul ┆ nul ┆ BLO ┆ NEW ┆ nul ┆ N/A ┆ Pen ┆ 11/ ┆ 10/ ┆ 10  ┆ MAN ┆ 998 ┆ 233 ┆ Uns ┆ MAN ┆ Uns ┆ Uns ┆ Uns ┆ Uns ┆ Uns ┆ Uns ┆ Uns ┆ Uns ┆ Uns ┆ N   ┆ nul ┆ nul ┆ nul ┆ nul ┆ nul ┆ nul ┆ nul ┆ nul ┆ nul ┆ nul ┆ nul ┆ 40. ┆ -73 ┆ (40 │\n",
       "│ 909 ┆ 31/ ┆ l   ┆ MH  ┆ art ┆ ent ┆ dit ┆ ant ┆ 27  ┆ T   ┆ T   ┆ OX  ┆ M   ┆ l   ┆ l   ┆ CKF ┆ YOR ┆ l   ┆     ┆ din ┆ 30/ ┆ 31/ ┆ MAN ┆ HAT ┆ 815 ┆ 545 ┆ pec ┆ HAT ┆ pec ┆ pec ┆ pec ┆ pec ┆ pec ┆ pec ┆ pec ┆ pec ┆ pec ┆     ┆ l   ┆ l   ┆ l   ┆ l   ┆ l   ┆ l   ┆ l   ┆ l   ┆ l   ┆ l   ┆ l   ┆ 807 ┆ .94 ┆ .80 │\n",
       "│ 30  ┆ 201 ┆     ┆     ┆ men ┆     ┆ ion ┆ Lot ┆     ┆ 124 ┆ 124 ┆ AVE ┆ CLA ┆     ┆     ┆ ACE ┆ K   ┆     ┆     ┆ g   ┆ 201 ┆ 201 ┆ HAT ┆ TAN ┆     ┆     ┆ ifi ┆ TAN ┆ ifi ┆ ifi ┆ ifi ┆ ifi ┆ ifi ┆ ifi ┆ ifi ┆ ifi ┆ ifi ┆     ┆     ┆     ┆     ┆     ┆     ┆     ┆     ┆     ┆     ┆     ┆     ┆ 690 ┆ 738 ┆ 769 │\n",
       "│     ┆ 3   ┆     ┆     ┆ t   ┆     ┆ Att ┆     ┆     ┆ STR ┆ STR ┆ NUE ┆ YTO ┆     ┆     ┆     ┆     ┆     ┆     ┆     ┆ 3   ┆ 3   ┆ TAN ┆     ┆     ┆     ┆ ed  ┆     ┆ ed  ┆ ed  ┆ ed  ┆ ed  ┆ ed  ┆ ed  ┆ ed  ┆ ed  ┆ ed  ┆     ┆     ┆     ┆     ┆     ┆     ┆     ┆     ┆     ┆     ┆     ┆     ┆ 927 ┆ 703 ┆ 092 │\n",
       "│     ┆ 01: ┆     ┆     ┆ of  ┆     ┆ rac ┆     ┆     ┆ EET ┆ EET ┆     ┆ N   ┆     ┆     ┆     ┆     ┆     ┆     ┆     ┆ 01: ┆ 01: ┆     ┆     ┆     ┆     ┆     ┆     ┆     ┆     ┆     ┆     ┆     ┆     ┆     ┆     ┆     ┆     ┆     ┆     ┆     ┆     ┆     ┆     ┆     ┆     ┆     ┆     ┆     ┆ 049 ┆ 491 ┆ 704 │\n",
       "│     ┆ 53: ┆     ┆     ┆ Hea ┆     ┆ tin ┆     ┆     ┆     ┆     ┆     ┆ POW ┆     ┆     ┆     ┆     ┆     ┆     ┆     ┆ 53: ┆ 59: ┆     ┆     ┆     ┆     ┆     ┆     ┆     ┆     ┆     ┆     ┆     ┆     ┆     ┆     ┆     ┆     ┆     ┆     ┆     ┆     ┆     ┆     ┆     ┆     ┆     ┆     ┆     ┆ 51  ┆ 433 ┆ 951 │\n",
       "│     ┆ 44  ┆     ┆     ┆ lth ┆     ┆ g   ┆     ┆     ┆     ┆     ┆     ┆ ELL ┆     ┆     ┆     ┆     ┆     ┆     ┆     ┆ 44  ┆ 54  ┆     ┆     ┆     ┆     ┆     ┆     ┆     ┆     ┆     ┆     ┆     ┆     ┆     ┆     ┆     ┆     ┆     ┆     ┆     ┆     ┆     ┆     ┆     ┆     ┆     ┆     ┆     ┆     ┆     ┆ ,   │\n",
       "│     ┆ AM  ┆     ┆     ┆ and ┆     ┆ Rod ┆     ┆     ┆     ┆     ┆     ┆ JR  ┆     ┆     ┆     ┆     ┆     ┆     ┆     ┆ AM  ┆ AM  ┆     ┆     ┆     ┆     ┆     ┆     ┆     ┆     ┆     ┆     ┆     ┆     ┆     ┆     ┆     ┆     ┆     ┆     ┆     ┆     ┆     ┆     ┆     ┆     ┆     ┆     ┆     ┆     ┆     ┆ -73 │\n",
       "│     ┆     ┆     ┆     ┆ Men ┆     ┆ ent ┆     ┆     ┆     ┆     ┆     ┆ BOU ┆     ┆     ┆     ┆     ┆     ┆     ┆     ┆     ┆     ┆     ┆     ┆     ┆     ┆     ┆     ┆     ┆     ┆     ┆     ┆     ┆     ┆     ┆     ┆     ┆     ┆     ┆     ┆     ┆     ┆     ┆     ┆     ┆     ┆     ┆     ┆     ┆     ┆     ┆ .94 │\n",
       "│     ┆     ┆     ┆     ┆ tal ┆     ┆ s   ┆     ┆     ┆     ┆     ┆     ┆ LEV ┆     ┆     ┆     ┆     ┆     ┆     ┆     ┆     ┆     ┆     ┆     ┆     ┆     ┆     ┆     ┆     ┆     ┆     ┆     ┆     ┆     ┆     ┆     ┆     ┆     ┆     ┆     ┆     ┆     ┆     ┆     ┆     ┆     ┆     ┆     ┆     ┆     ┆     ┆ 738 │\n",
       "│     ┆     ┆     ┆     ┆ Hyg ┆     ┆     ┆     ┆     ┆     ┆     ┆     ┆ ARD ┆     ┆     ┆     ┆     ┆     ┆     ┆     ┆     ┆     ┆     ┆     ┆     ┆     ┆     ┆     ┆     ┆     ┆     ┆     ┆     ┆     ┆     ┆     ┆     ┆     ┆     ┆     ┆     ┆     ┆     ┆     ┆     ┆     ┆     ┆     ┆     ┆     ┆     ┆ 703 │\n",
       "│     ┆     ┆     ┆     ┆ ien ┆     ┆     ┆     ┆     ┆     ┆     ┆     ┆     ┆     ┆     ┆     ┆     ┆     ┆     ┆     ┆     ┆     ┆     ┆     ┆     ┆     ┆     ┆     ┆     ┆     ┆     ┆     ┆     ┆     ┆     ┆     ┆     ┆     ┆     ┆     ┆     ┆     ┆     ┆     ┆     ┆     ┆     ┆     ┆     ┆     ┆     ┆ 491 │\n",
       "│     ┆     ┆     ┆     ┆ e   ┆     ┆     ┆     ┆     ┆     ┆     ┆     ┆     ┆     ┆     ┆     ┆     ┆     ┆     ┆     ┆     ┆     ┆     ┆     ┆     ┆     ┆     ┆     ┆     ┆     ┆     ┆     ┆     ┆     ┆     ┆     ┆     ┆     ┆     ┆     ┆     ┆     ┆     ┆     ┆     ┆     ┆     ┆     ┆     ┆     ┆     ┆ 433 │\n",
       "│     ┆     ┆     ┆     ┆     ┆     ┆     ┆     ┆     ┆     ┆     ┆     ┆     ┆     ┆     ┆     ┆     ┆     ┆     ┆     ┆     ┆     ┆     ┆     ┆     ┆     ┆     ┆     ┆     ┆     ┆     ┆     ┆     ┆     ┆     ┆     ┆     ┆     ┆     ┆     ┆     ┆     ┆     ┆     ┆     ┆     ┆     ┆     ┆     ┆     ┆     ┆ )   │\n",
       "└─────┴─────┴─────┴─────┴─────┴─────┴─────┴─────┴─────┴─────┴─────┴─────┴─────┴─────┴─────┴─────┴─────┴─────┴─────┴─────┴─────┴─────┴─────┴─────┴─────┴─────┴─────┴─────┴─────┴─────┴─────┴─────┴─────┴─────┴─────┴─────┴─────┴─────┴─────┴─────┴─────┴─────┴─────┴─────┴─────┴─────┴─────┴─────┴─────┴─────┴─────┴─────┘"
      ]
     },
     "execution_count": 3,
     "metadata": {},
     "output_type": "execute_result"
    }
   ],
   "source": [
    "complaints[:5]"
   ]
  },
  {
   "cell_type": "markdown",
   "metadata": {},
   "source": [
    "To get the noise complaints, we need to find the rows where the \"Complaint Type\" column is \"Noise - Street/Sidewalk\". I'll show you how to do that, and then explain what's going on."
   ]
  },
  {
   "cell_type": "code",
   "execution_count": 5,
   "metadata": {},
   "outputs": [
    {
     "data": {
      "text/html": [
       "<div><style>\n",
       ".dataframe > thead > tr,\n",
       ".dataframe > tbody > tr {\n",
       "  text-align: right;\n",
       "  white-space: pre-wrap;\n",
       "}\n",
       "</style>\n",
       "<small>shape: (3, 52)</small><table border=\"1\" class=\"dataframe\"><thead><tr><th>Unique Key</th><th>Created Date</th><th>Closed Date</th><th>Agency</th><th>Agency Name</th><th>Complaint Type</th><th>Descriptor</th><th>Location Type</th><th>Incident Zip</th><th>Incident Address</th><th>Street Name</th><th>Cross Street 1</th><th>Cross Street 2</th><th>Intersection Street 1</th><th>Intersection Street 2</th><th>Address Type</th><th>City</th><th>Landmark</th><th>Facility Type</th><th>Status</th><th>Due Date</th><th>Resolution Action Updated Date</th><th>Community Board</th><th>Borough</th><th>X Coordinate (State Plane)</th><th>Y Coordinate (State Plane)</th><th>Park Facility Name</th><th>Park Borough</th><th>School Name</th><th>School Number</th><th>School Region</th><th>School Code</th><th>School Phone Number</th><th>School Address</th><th>School City</th><th>School State</th><th>School Zip</th><th>School Not Found</th><th>School or Citywide Complaint</th><th>Vehicle Type</th><th>Taxi Company Borough</th><th>Taxi Pick Up Location</th><th>Bridge Highway Name</th><th>Bridge Highway Direction</th><th>Road Ramp</th><th>Bridge Highway Segment</th><th>Garage Lot Name</th><th>Ferry Direction</th><th>Ferry Terminal Name</th><th>Latitude</th><th>Longitude</th><th>Location</th></tr><tr><td>str</td><td>str</td><td>str</td><td>str</td><td>str</td><td>str</td><td>str</td><td>str</td><td>str</td><td>str</td><td>str</td><td>str</td><td>str</td><td>str</td><td>str</td><td>str</td><td>str</td><td>str</td><td>str</td><td>str</td><td>str</td><td>str</td><td>str</td><td>str</td><td>str</td><td>str</td><td>str</td><td>str</td><td>str</td><td>str</td><td>str</td><td>str</td><td>str</td><td>str</td><td>str</td><td>str</td><td>str</td><td>str</td><td>str</td><td>str</td><td>str</td><td>str</td><td>str</td><td>str</td><td>str</td><td>str</td><td>str</td><td>str</td><td>str</td><td>str</td><td>str</td><td>str</td></tr></thead><tbody><tr><td>&quot;26589651&quot;</td><td>&quot;10/31/2013 02:08:41 AM&quot;</td><td>null</td><td>&quot;NYPD&quot;</td><td>&quot;New York City Police Department&quot;</td><td>&quot;Noise - Street/Sidewalk&quot;</td><td>&quot;Loud Talking&quot;</td><td>&quot;Street/Sidewalk&quot;</td><td>&quot;11432&quot;</td><td>&quot;90-03 169 STREET&quot;</td><td>&quot;169 STREET&quot;</td><td>&quot;90 AVENUE&quot;</td><td>&quot;91 AVENUE&quot;</td><td>null</td><td>null</td><td>&quot;ADDRESS&quot;</td><td>&quot;JAMAICA&quot;</td><td>null</td><td>&quot;Precinct&quot;</td><td>&quot;Assigned&quot;</td><td>&quot;10/31/2013 10:08:41 AM&quot;</td><td>&quot;10/31/2013 02:35:17 AM&quot;</td><td>&quot;12 QUEENS&quot;</td><td>&quot;QUEENS&quot;</td><td>&quot;1042027&quot;</td><td>&quot;197389&quot;</td><td>&quot;Unspecified&quot;</td><td>&quot;QUEENS&quot;</td><td>&quot;Unspecified&quot;</td><td>&quot;Unspecified&quot;</td><td>&quot;Unspecified&quot;</td><td>&quot;Unspecified&quot;</td><td>&quot;Unspecified&quot;</td><td>&quot;Unspecified&quot;</td><td>&quot;Unspecified&quot;</td><td>&quot;Unspecified&quot;</td><td>&quot;Unspecified&quot;</td><td>&quot;N&quot;</td><td>null</td><td>null</td><td>null</td><td>null</td><td>null</td><td>null</td><td>null</td><td>null</td><td>null</td><td>null</td><td>null</td><td>&quot;40.70827532593202&quot;</td><td>&quot;-73.79160395779721&quot;</td><td>&quot;(40.70827532593202, -73.79160395779721)&quot;</td></tr><tr><td>&quot;26594086&quot;</td><td>&quot;10/31/2013 12:54:03 AM&quot;</td><td>&quot;10/31/2013 02:16:39 AM&quot;</td><td>&quot;NYPD&quot;</td><td>&quot;New York City Police Department&quot;</td><td>&quot;Noise - Street/Sidewalk&quot;</td><td>&quot;Loud Music/Party&quot;</td><td>&quot;Street/Sidewalk&quot;</td><td>&quot;10310&quot;</td><td>&quot;173 CAMPBELL AVENUE&quot;</td><td>&quot;CAMPBELL AVENUE&quot;</td><td>&quot;HENDERSON AVENUE&quot;</td><td>&quot;WINEGAR LANE&quot;</td><td>null</td><td>null</td><td>&quot;ADDRESS&quot;</td><td>&quot;STATEN ISLAND&quot;</td><td>null</td><td>&quot;Precinct&quot;</td><td>&quot;Closed&quot;</td><td>&quot;10/31/2013 08:54:03 AM&quot;</td><td>&quot;10/31/2013 02:07:14 AM&quot;</td><td>&quot;01 STATEN ISLAND&quot;</td><td>&quot;STATEN ISLAND&quot;</td><td>&quot;952013&quot;</td><td>&quot;171076&quot;</td><td>&quot;Unspecified&quot;</td><td>&quot;STATEN ISLAND&quot;</td><td>&quot;Unspecified&quot;</td><td>&quot;Unspecified&quot;</td><td>&quot;Unspecified&quot;</td><td>&quot;Unspecified&quot;</td><td>&quot;Unspecified&quot;</td><td>&quot;Unspecified&quot;</td><td>&quot;Unspecified&quot;</td><td>&quot;Unspecified&quot;</td><td>&quot;Unspecified&quot;</td><td>&quot;N&quot;</td><td>null</td><td>null</td><td>null</td><td>null</td><td>null</td><td>null</td><td>null</td><td>null</td><td>null</td><td>null</td><td>null</td><td>&quot;40.63618202176914&quot;</td><td>&quot;-74.1161500428337&quot;</td><td>&quot;(40.63618202176914, -74.1161500428337)&quot;</td></tr><tr><td>&quot;26591573&quot;</td><td>&quot;10/31/2013 12:35:18 AM&quot;</td><td>&quot;10/31/2013 02:41:35 AM&quot;</td><td>&quot;NYPD&quot;</td><td>&quot;New York City Police Department&quot;</td><td>&quot;Noise - Street/Sidewalk&quot;</td><td>&quot;Loud Talking&quot;</td><td>&quot;Street/Sidewalk&quot;</td><td>&quot;10312&quot;</td><td>&quot;24 PRINCETON LANE&quot;</td><td>&quot;PRINCETON LANE&quot;</td><td>&quot;HAMPTON GREEN&quot;</td><td>&quot;DEAD END&quot;</td><td>null</td><td>null</td><td>&quot;ADDRESS&quot;</td><td>&quot;STATEN ISLAND&quot;</td><td>null</td><td>&quot;Precinct&quot;</td><td>&quot;Closed&quot;</td><td>&quot;10/31/2013 08:35:18 AM&quot;</td><td>&quot;10/31/2013 01:45:17 AM&quot;</td><td>&quot;03 STATEN ISLAND&quot;</td><td>&quot;STATEN ISLAND&quot;</td><td>&quot;929577&quot;</td><td>&quot;140964&quot;</td><td>&quot;Unspecified&quot;</td><td>&quot;STATEN ISLAND&quot;</td><td>&quot;Unspecified&quot;</td><td>&quot;Unspecified&quot;</td><td>&quot;Unspecified&quot;</td><td>&quot;Unspecified&quot;</td><td>&quot;Unspecified&quot;</td><td>&quot;Unspecified&quot;</td><td>&quot;Unspecified&quot;</td><td>&quot;Unspecified&quot;</td><td>&quot;Unspecified&quot;</td><td>&quot;N&quot;</td><td>null</td><td>null</td><td>null</td><td>null</td><td>null</td><td>null</td><td>null</td><td>null</td><td>null</td><td>null</td><td>null</td><td>&quot;40.55342078716953&quot;</td><td>&quot;-74.19674315017886&quot;</td><td>&quot;(40.55342078716953, -74.19674315017886)&quot;</td></tr></tbody></table></div>"
      ],
      "text/plain": [
       "shape: (3, 52)\n",
       "┌─────┬─────┬─────┬─────┬─────┬─────┬─────┬─────┬─────┬─────┬─────┬─────┬─────┬─────┬─────┬─────┬─────┬─────┬─────┬─────┬─────┬─────┬─────┬─────┬─────┬─────┬─────┬─────┬─────┬─────┬─────┬─────┬─────┬─────┬─────┬─────┬─────┬─────┬─────┬─────┬─────┬─────┬─────┬─────┬─────┬─────┬─────┬─────┬─────┬─────┬─────┬─────┐\n",
       "│ Uni ┆ Cre ┆ Clo ┆ Age ┆ Age ┆ Com ┆ Des ┆ Loc ┆ Inc ┆ Inc ┆ Str ┆ Cro ┆ Cro ┆ Int ┆ Int ┆ Add ┆ Cit ┆ Lan ┆ Fac ┆ Sta ┆ Due ┆ Res ┆ Com ┆ Bor ┆ X   ┆ Y   ┆ Par ┆ Par ┆ Sch ┆ Sch ┆ Sch ┆ Sch ┆ Sch ┆ Sch ┆ Sch ┆ Sch ┆ Sch ┆ Sch ┆ Sch ┆ Veh ┆ Tax ┆ Tax ┆ Bri ┆ Bri ┆ Roa ┆ Bri ┆ Gar ┆ Fer ┆ Fer ┆ Lat ┆ Lon ┆ Loc │\n",
       "│ que ┆ ate ┆ sed ┆ ncy ┆ ncy ┆ pla ┆ cri ┆ ati ┆ ide ┆ ide ┆ eet ┆ ss  ┆ ss  ┆ ers ┆ ers ┆ res ┆ y   ┆ dma ┆ ili ┆ tus ┆ Dat ┆ olu ┆ mun ┆ oug ┆ Coo ┆ Coo ┆ k   ┆ k   ┆ ool ┆ ool ┆ ool ┆ ool ┆ ool ┆ ool ┆ ool ┆ ool ┆ ool ┆ ool ┆ ool ┆ icl ┆ i   ┆ i   ┆ dge ┆ dge ┆ d   ┆ dge ┆ age ┆ ry  ┆ ry  ┆ itu ┆ git ┆ ati │\n",
       "│ Key ┆ d   ┆ Dat ┆ --- ┆ Nam ┆ int ┆ pto ┆ on  ┆ nt  ┆ nt  ┆ Nam ┆ Str ┆ Str ┆ ect ┆ ect ┆ s   ┆ --- ┆ rk  ┆ ty  ┆ --- ┆ e   ┆ tio ┆ ity ┆ h   ┆ rdi ┆ rdi ┆ Fac ┆ Bor ┆ Nam ┆ Num ┆ Reg ┆ Cod ┆ Pho ┆ Add ┆ Cit ┆ Sta ┆ Zip ┆ Not ┆ or  ┆ e   ┆ Com ┆ Pic ┆ Hig ┆ Hig ┆ Ram ┆ Hig ┆ Lot ┆ Dir ┆ Ter ┆ de  ┆ ude ┆ on  │\n",
       "│ --- ┆ Dat ┆ e   ┆ str ┆ e   ┆ Typ ┆ r   ┆ Typ ┆ Zip ┆ Add ┆ e   ┆ eet ┆ eet ┆ ion ┆ ion ┆ Typ ┆ str ┆ --- ┆ Typ ┆ str ┆ --- ┆ n   ┆ Boa ┆ --- ┆ nat ┆ nat ┆ ili ┆ oug ┆ e   ┆ ber ┆ ion ┆ e   ┆ ne  ┆ res ┆ y   ┆ te  ┆ --- ┆ Fou ┆ Cit ┆ Typ ┆ pan ┆ k   ┆ hwa ┆ hwa ┆ p   ┆ hwa ┆ Nam ┆ ect ┆ min ┆ --- ┆ --- ┆ --- │\n",
       "│ str ┆ e   ┆ --- ┆     ┆ --- ┆ e   ┆ --- ┆ e   ┆ --- ┆ res ┆ --- ┆ 1   ┆ 2   ┆ Str ┆ Str ┆ e   ┆     ┆ str ┆ e   ┆     ┆ str ┆ Act ┆ rd  ┆ str ┆ e   ┆ e   ┆ ty  ┆ h   ┆ --- ┆ --- ┆ --- ┆ --- ┆ Num ┆ s   ┆ --- ┆ --- ┆ str ┆ nd  ┆ ywi ┆ e   ┆ y   ┆ Up  ┆ y   ┆ y   ┆ --- ┆ y   ┆ e   ┆ ion ┆ al  ┆ str ┆ str ┆ str │\n",
       "│     ┆ --- ┆ str ┆     ┆ str ┆ --- ┆ str ┆ --- ┆ str ┆ s   ┆ str ┆ --- ┆ --- ┆ eet ┆ eet ┆ --- ┆     ┆     ┆ --- ┆     ┆     ┆ ion ┆ --- ┆     ┆ (St ┆ (St ┆ Nam ┆ --- ┆ str ┆ str ┆ str ┆ str ┆ ber ┆ --- ┆ str ┆ str ┆     ┆ --- ┆ de  ┆ --- ┆ Bor ┆ Loc ┆ Nam ┆ Dir ┆ str ┆ Seg ┆ --- ┆ --- ┆ Nam ┆     ┆     ┆     │\n",
       "│     ┆ str ┆     ┆     ┆     ┆ str ┆     ┆ str ┆     ┆ --- ┆     ┆ str ┆ str ┆ 1   ┆ 2   ┆ str ┆     ┆     ┆ str ┆     ┆     ┆ Upd ┆ str ┆     ┆ ate ┆ ate ┆ e   ┆ str ┆     ┆     ┆     ┆     ┆ --- ┆ str ┆     ┆     ┆     ┆ str ┆ Com ┆ str ┆ oug ┆ ati ┆ e   ┆ ect ┆     ┆ men ┆ str ┆ str ┆ e   ┆     ┆     ┆     │\n",
       "│     ┆     ┆     ┆     ┆     ┆     ┆     ┆     ┆     ┆ str ┆     ┆     ┆     ┆ --- ┆ --- ┆     ┆     ┆     ┆     ┆     ┆     ┆ ate ┆     ┆     ┆ Pla ┆ Pla ┆ --- ┆     ┆     ┆     ┆     ┆     ┆ str ┆     ┆     ┆     ┆     ┆     ┆ pla ┆     ┆ h   ┆ on  ┆ --- ┆ ion ┆     ┆ t   ┆     ┆     ┆ --- ┆     ┆     ┆     │\n",
       "│     ┆     ┆     ┆     ┆     ┆     ┆     ┆     ┆     ┆     ┆     ┆     ┆     ┆ str ┆ str ┆     ┆     ┆     ┆     ┆     ┆     ┆ d   ┆     ┆     ┆ ne) ┆ ne) ┆ str ┆     ┆     ┆     ┆     ┆     ┆     ┆     ┆     ┆     ┆     ┆     ┆ int ┆     ┆ --- ┆ --- ┆ str ┆ --- ┆     ┆ --- ┆     ┆     ┆ str ┆     ┆     ┆     │\n",
       "│     ┆     ┆     ┆     ┆     ┆     ┆     ┆     ┆     ┆     ┆     ┆     ┆     ┆     ┆     ┆     ┆     ┆     ┆     ┆     ┆     ┆ Dat ┆     ┆     ┆ --- ┆ --- ┆     ┆     ┆     ┆     ┆     ┆     ┆     ┆     ┆     ┆     ┆     ┆     ┆ --- ┆     ┆ str ┆ str ┆     ┆ str ┆     ┆ str ┆     ┆     ┆     ┆     ┆     ┆     │\n",
       "│     ┆     ┆     ┆     ┆     ┆     ┆     ┆     ┆     ┆     ┆     ┆     ┆     ┆     ┆     ┆     ┆     ┆     ┆     ┆     ┆     ┆ e   ┆     ┆     ┆ str ┆ str ┆     ┆     ┆     ┆     ┆     ┆     ┆     ┆     ┆     ┆     ┆     ┆     ┆ str ┆     ┆     ┆     ┆     ┆     ┆     ┆     ┆     ┆     ┆     ┆     ┆     ┆     │\n",
       "│     ┆     ┆     ┆     ┆     ┆     ┆     ┆     ┆     ┆     ┆     ┆     ┆     ┆     ┆     ┆     ┆     ┆     ┆     ┆     ┆     ┆ --- ┆     ┆     ┆     ┆     ┆     ┆     ┆     ┆     ┆     ┆     ┆     ┆     ┆     ┆     ┆     ┆     ┆     ┆     ┆     ┆     ┆     ┆     ┆     ┆     ┆     ┆     ┆     ┆     ┆     ┆     │\n",
       "│     ┆     ┆     ┆     ┆     ┆     ┆     ┆     ┆     ┆     ┆     ┆     ┆     ┆     ┆     ┆     ┆     ┆     ┆     ┆     ┆     ┆ str ┆     ┆     ┆     ┆     ┆     ┆     ┆     ┆     ┆     ┆     ┆     ┆     ┆     ┆     ┆     ┆     ┆     ┆     ┆     ┆     ┆     ┆     ┆     ┆     ┆     ┆     ┆     ┆     ┆     ┆     │\n",
       "╞═════╪═════╪═════╪═════╪═════╪═════╪═════╪═════╪═════╪═════╪═════╪═════╪═════╪═════╪═════╪═════╪═════╪═════╪═════╪═════╪═════╪═════╪═════╪═════╪═════╪═════╪═════╪═════╪═════╪═════╪═════╪═════╪═════╪═════╪═════╪═════╪═════╪═════╪═════╪═════╪═════╪═════╪═════╪═════╪═════╪═════╪═════╪═════╪═════╪═════╪═════╪═════╡\n",
       "│ 265 ┆ 10/ ┆ nul ┆ NYP ┆ New ┆ Noi ┆ Lou ┆ Str ┆ 114 ┆ 90- ┆ 169 ┆ 90  ┆ 91  ┆ nul ┆ nul ┆ ADD ┆ JAM ┆ nul ┆ Pre ┆ Ass ┆ 10/ ┆ 10/ ┆ 12  ┆ QUE ┆ 104 ┆ 197 ┆ Uns ┆ QUE ┆ Uns ┆ Uns ┆ Uns ┆ Uns ┆ Uns ┆ Uns ┆ Uns ┆ Uns ┆ Uns ┆ N   ┆ nul ┆ nul ┆ nul ┆ nul ┆ nul ┆ nul ┆ nul ┆ nul ┆ nul ┆ nul ┆ nul ┆ 40. ┆ -73 ┆ (40 │\n",
       "│ 896 ┆ 31/ ┆ l   ┆ D   ┆ Yor ┆ se  ┆ d   ┆ eet ┆ 32  ┆ 03  ┆ STR ┆ AVE ┆ AVE ┆ l   ┆ l   ┆ RES ┆ AIC ┆ l   ┆ cin ┆ ign ┆ 31/ ┆ 31/ ┆ QUE ┆ ENS ┆ 202 ┆ 389 ┆ pec ┆ ENS ┆ pec ┆ pec ┆ pec ┆ pec ┆ pec ┆ pec ┆ pec ┆ pec ┆ pec ┆     ┆ l   ┆ l   ┆ l   ┆ l   ┆ l   ┆ l   ┆ l   ┆ l   ┆ l   ┆ l   ┆ l   ┆ 708 ┆ .79 ┆ .70 │\n",
       "│ 51  ┆ 201 ┆     ┆     ┆ k   ┆ -   ┆ Tal ┆ /Si ┆     ┆ 169 ┆ EET ┆ NUE ┆ NUE ┆     ┆     ┆ S   ┆ A   ┆     ┆ ct  ┆ ed  ┆ 201 ┆ 201 ┆ ENS ┆     ┆ 7   ┆     ┆ ifi ┆     ┆ ifi ┆ ifi ┆ ifi ┆ ifi ┆ ifi ┆ ifi ┆ ifi ┆ ifi ┆ ifi ┆     ┆     ┆     ┆     ┆     ┆     ┆     ┆     ┆     ┆     ┆     ┆     ┆ 275 ┆ 160 ┆ 827 │\n",
       "│     ┆ 3   ┆     ┆     ┆ Cit ┆ Str ┆ kin ┆ dew ┆     ┆ STR ┆     ┆     ┆     ┆     ┆     ┆     ┆     ┆     ┆     ┆     ┆ 3   ┆ 3   ┆     ┆     ┆     ┆     ┆ ed  ┆     ┆ ed  ┆ ed  ┆ ed  ┆ ed  ┆ ed  ┆ ed  ┆ ed  ┆ ed  ┆ ed  ┆     ┆     ┆     ┆     ┆     ┆     ┆     ┆     ┆     ┆     ┆     ┆     ┆ 325 ┆ 395 ┆ 532 │\n",
       "│     ┆ 02: ┆     ┆     ┆ y   ┆ eet ┆ g   ┆ alk ┆     ┆ EET ┆     ┆     ┆     ┆     ┆     ┆     ┆     ┆     ┆     ┆     ┆ 10: ┆ 02: ┆     ┆     ┆     ┆     ┆     ┆     ┆     ┆     ┆     ┆     ┆     ┆     ┆     ┆     ┆     ┆     ┆     ┆     ┆     ┆     ┆     ┆     ┆     ┆     ┆     ┆     ┆     ┆ 932 ┆ 779 ┆ 593 │\n",
       "│     ┆ 08: ┆     ┆     ┆ Pol ┆ /Si ┆     ┆     ┆     ┆     ┆     ┆     ┆     ┆     ┆     ┆     ┆     ┆     ┆     ┆     ┆ 08: ┆ 35: ┆     ┆     ┆     ┆     ┆     ┆     ┆     ┆     ┆     ┆     ┆     ┆     ┆     ┆     ┆     ┆     ┆     ┆     ┆     ┆     ┆     ┆     ┆     ┆     ┆     ┆     ┆     ┆ 02  ┆ 721 ┆ 202 │\n",
       "│     ┆ 41  ┆     ┆     ┆ ice ┆ dew ┆     ┆     ┆     ┆     ┆     ┆     ┆     ┆     ┆     ┆     ┆     ┆     ┆     ┆     ┆ 41  ┆ 17  ┆     ┆     ┆     ┆     ┆     ┆     ┆     ┆     ┆     ┆     ┆     ┆     ┆     ┆     ┆     ┆     ┆     ┆     ┆     ┆     ┆     ┆     ┆     ┆     ┆     ┆     ┆     ┆     ┆     ┆ ,   │\n",
       "│     ┆ AM  ┆     ┆     ┆ Dep ┆ alk ┆     ┆     ┆     ┆     ┆     ┆     ┆     ┆     ┆     ┆     ┆     ┆     ┆     ┆     ┆ AM  ┆ AM  ┆     ┆     ┆     ┆     ┆     ┆     ┆     ┆     ┆     ┆     ┆     ┆     ┆     ┆     ┆     ┆     ┆     ┆     ┆     ┆     ┆     ┆     ┆     ┆     ┆     ┆     ┆     ┆     ┆     ┆ -73 │\n",
       "│     ┆     ┆     ┆     ┆ art ┆     ┆     ┆     ┆     ┆     ┆     ┆     ┆     ┆     ┆     ┆     ┆     ┆     ┆     ┆     ┆     ┆     ┆     ┆     ┆     ┆     ┆     ┆     ┆     ┆     ┆     ┆     ┆     ┆     ┆     ┆     ┆     ┆     ┆     ┆     ┆     ┆     ┆     ┆     ┆     ┆     ┆     ┆     ┆     ┆     ┆     ┆ .79 │\n",
       "│     ┆     ┆     ┆     ┆ men ┆     ┆     ┆     ┆     ┆     ┆     ┆     ┆     ┆     ┆     ┆     ┆     ┆     ┆     ┆     ┆     ┆     ┆     ┆     ┆     ┆     ┆     ┆     ┆     ┆     ┆     ┆     ┆     ┆     ┆     ┆     ┆     ┆     ┆     ┆     ┆     ┆     ┆     ┆     ┆     ┆     ┆     ┆     ┆     ┆     ┆     ┆ 160 │\n",
       "│     ┆     ┆     ┆     ┆ t   ┆     ┆     ┆     ┆     ┆     ┆     ┆     ┆     ┆     ┆     ┆     ┆     ┆     ┆     ┆     ┆     ┆     ┆     ┆     ┆     ┆     ┆     ┆     ┆     ┆     ┆     ┆     ┆     ┆     ┆     ┆     ┆     ┆     ┆     ┆     ┆     ┆     ┆     ┆     ┆     ┆     ┆     ┆     ┆     ┆     ┆     ┆ 395 │\n",
       "│     ┆     ┆     ┆     ┆     ┆     ┆     ┆     ┆     ┆     ┆     ┆     ┆     ┆     ┆     ┆     ┆     ┆     ┆     ┆     ┆     ┆     ┆     ┆     ┆     ┆     ┆     ┆     ┆     ┆     ┆     ┆     ┆     ┆     ┆     ┆     ┆     ┆     ┆     ┆     ┆     ┆     ┆     ┆     ┆     ┆     ┆     ┆     ┆     ┆     ┆     ┆ 779 │\n",
       "│     ┆     ┆     ┆     ┆     ┆     ┆     ┆     ┆     ┆     ┆     ┆     ┆     ┆     ┆     ┆     ┆     ┆     ┆     ┆     ┆     ┆     ┆     ┆     ┆     ┆     ┆     ┆     ┆     ┆     ┆     ┆     ┆     ┆     ┆     ┆     ┆     ┆     ┆     ┆     ┆     ┆     ┆     ┆     ┆     ┆     ┆     ┆     ┆     ┆     ┆     ┆ 721 │\n",
       "│     ┆     ┆     ┆     ┆     ┆     ┆     ┆     ┆     ┆     ┆     ┆     ┆     ┆     ┆     ┆     ┆     ┆     ┆     ┆     ┆     ┆     ┆     ┆     ┆     ┆     ┆     ┆     ┆     ┆     ┆     ┆     ┆     ┆     ┆     ┆     ┆     ┆     ┆     ┆     ┆     ┆     ┆     ┆     ┆     ┆     ┆     ┆     ┆     ┆     ┆     ┆ )   │\n",
       "│ 265 ┆ 10/ ┆ 10/ ┆ NYP ┆ New ┆ Noi ┆ Lou ┆ Str ┆ 103 ┆ 173 ┆ CAM ┆ HEN ┆ WIN ┆ nul ┆ nul ┆ ADD ┆ STA ┆ nul ┆ Pre ┆ Clo ┆ 10/ ┆ 10/ ┆ 01  ┆ STA ┆ 952 ┆ 171 ┆ Uns ┆ STA ┆ Uns ┆ Uns ┆ Uns ┆ Uns ┆ Uns ┆ Uns ┆ Uns ┆ Uns ┆ Uns ┆ N   ┆ nul ┆ nul ┆ nul ┆ nul ┆ nul ┆ nul ┆ nul ┆ nul ┆ nul ┆ nul ┆ nul ┆ 40. ┆ -74 ┆ (40 │\n",
       "│ 940 ┆ 31/ ┆ 31/ ┆ D   ┆ Yor ┆ se  ┆ d   ┆ eet ┆ 10  ┆ CAM ┆ PBE ┆ DER ┆ EGA ┆ l   ┆ l   ┆ RES ┆ TEN ┆ l   ┆ cin ┆ sed ┆ 31/ ┆ 31/ ┆ STA ┆ TEN ┆ 013 ┆ 076 ┆ pec ┆ TEN ┆ pec ┆ pec ┆ pec ┆ pec ┆ pec ┆ pec ┆ pec ┆ pec ┆ pec ┆     ┆ l   ┆ l   ┆ l   ┆ l   ┆ l   ┆ l   ┆ l   ┆ l   ┆ l   ┆ l   ┆ l   ┆ 636 ┆ .11 ┆ .63 │\n",
       "│ 86  ┆ 201 ┆ 201 ┆     ┆ k   ┆ -   ┆ Mus ┆ /Si ┆     ┆ PBE ┆ LL  ┆ SON ┆ R   ┆     ┆     ┆ S   ┆ ISL ┆     ┆ ct  ┆     ┆ 201 ┆ 201 ┆ TEN ┆ ISL ┆     ┆     ┆ ifi ┆ ISL ┆ ifi ┆ ifi ┆ ifi ┆ ifi ┆ ifi ┆ ifi ┆ ifi ┆ ifi ┆ ifi ┆     ┆     ┆     ┆     ┆     ┆     ┆     ┆     ┆     ┆     ┆     ┆     ┆ 182 ┆ 615 ┆ 618 │\n",
       "│     ┆ 3   ┆ 3   ┆     ┆ Cit ┆ Str ┆ ic/ ┆ dew ┆     ┆ LL  ┆ AVE ┆ AVE ┆ LAN ┆     ┆     ┆     ┆ AND ┆     ┆     ┆     ┆ 3   ┆ 3   ┆ ISL ┆ AND ┆     ┆     ┆ ed  ┆ AND ┆ ed  ┆ ed  ┆ ed  ┆ ed  ┆ ed  ┆ ed  ┆ ed  ┆ ed  ┆ ed  ┆     ┆     ┆     ┆     ┆     ┆     ┆     ┆     ┆     ┆     ┆     ┆     ┆ 021 ┆ 004 ┆ 202 │\n",
       "│     ┆ 12: ┆ 02: ┆     ┆ y   ┆ eet ┆ Par ┆ alk ┆     ┆ AVE ┆ NUE ┆ NUE ┆ E   ┆     ┆     ┆     ┆     ┆     ┆     ┆     ┆ 08: ┆ 02: ┆ AND ┆     ┆     ┆     ┆     ┆     ┆     ┆     ┆     ┆     ┆     ┆     ┆     ┆     ┆     ┆     ┆     ┆     ┆     ┆     ┆     ┆     ┆     ┆     ┆     ┆     ┆     ┆ 769 ┆ 283 ┆ 176 │\n",
       "│     ┆ 54: ┆ 16: ┆     ┆ Pol ┆ /Si ┆ ty  ┆     ┆     ┆ NUE ┆     ┆     ┆     ┆     ┆     ┆     ┆     ┆     ┆     ┆     ┆ 54: ┆ 07: ┆     ┆     ┆     ┆     ┆     ┆     ┆     ┆     ┆     ┆     ┆     ┆     ┆     ┆     ┆     ┆     ┆     ┆     ┆     ┆     ┆     ┆     ┆     ┆     ┆     ┆     ┆     ┆ 14  ┆ 37  ┆ 914 │\n",
       "│     ┆ 03  ┆ 39  ┆     ┆ ice ┆ dew ┆     ┆     ┆     ┆     ┆     ┆     ┆     ┆     ┆     ┆     ┆     ┆     ┆     ┆     ┆ 03  ┆ 14  ┆     ┆     ┆     ┆     ┆     ┆     ┆     ┆     ┆     ┆     ┆     ┆     ┆     ┆     ┆     ┆     ┆     ┆     ┆     ┆     ┆     ┆     ┆     ┆     ┆     ┆     ┆     ┆     ┆     ┆ ,   │\n",
       "│     ┆ AM  ┆ AM  ┆     ┆ Dep ┆ alk ┆     ┆     ┆     ┆     ┆     ┆     ┆     ┆     ┆     ┆     ┆     ┆     ┆     ┆     ┆ AM  ┆ AM  ┆     ┆     ┆     ┆     ┆     ┆     ┆     ┆     ┆     ┆     ┆     ┆     ┆     ┆     ┆     ┆     ┆     ┆     ┆     ┆     ┆     ┆     ┆     ┆     ┆     ┆     ┆     ┆     ┆     ┆ -74 │\n",
       "│     ┆     ┆     ┆     ┆ art ┆     ┆     ┆     ┆     ┆     ┆     ┆     ┆     ┆     ┆     ┆     ┆     ┆     ┆     ┆     ┆     ┆     ┆     ┆     ┆     ┆     ┆     ┆     ┆     ┆     ┆     ┆     ┆     ┆     ┆     ┆     ┆     ┆     ┆     ┆     ┆     ┆     ┆     ┆     ┆     ┆     ┆     ┆     ┆     ┆     ┆     ┆ .11 │\n",
       "│     ┆     ┆     ┆     ┆ men ┆     ┆     ┆     ┆     ┆     ┆     ┆     ┆     ┆     ┆     ┆     ┆     ┆     ┆     ┆     ┆     ┆     ┆     ┆     ┆     ┆     ┆     ┆     ┆     ┆     ┆     ┆     ┆     ┆     ┆     ┆     ┆     ┆     ┆     ┆     ┆     ┆     ┆     ┆     ┆     ┆     ┆     ┆     ┆     ┆     ┆     ┆ 615 │\n",
       "│     ┆     ┆     ┆     ┆ t   ┆     ┆     ┆     ┆     ┆     ┆     ┆     ┆     ┆     ┆     ┆     ┆     ┆     ┆     ┆     ┆     ┆     ┆     ┆     ┆     ┆     ┆     ┆     ┆     ┆     ┆     ┆     ┆     ┆     ┆     ┆     ┆     ┆     ┆     ┆     ┆     ┆     ┆     ┆     ┆     ┆     ┆     ┆     ┆     ┆     ┆     ┆ 004 │\n",
       "│     ┆     ┆     ┆     ┆     ┆     ┆     ┆     ┆     ┆     ┆     ┆     ┆     ┆     ┆     ┆     ┆     ┆     ┆     ┆     ┆     ┆     ┆     ┆     ┆     ┆     ┆     ┆     ┆     ┆     ┆     ┆     ┆     ┆     ┆     ┆     ┆     ┆     ┆     ┆     ┆     ┆     ┆     ┆     ┆     ┆     ┆     ┆     ┆     ┆     ┆     ┆ 283 │\n",
       "│     ┆     ┆     ┆     ┆     ┆     ┆     ┆     ┆     ┆     ┆     ┆     ┆     ┆     ┆     ┆     ┆     ┆     ┆     ┆     ┆     ┆     ┆     ┆     ┆     ┆     ┆     ┆     ┆     ┆     ┆     ┆     ┆     ┆     ┆     ┆     ┆     ┆     ┆     ┆     ┆     ┆     ┆     ┆     ┆     ┆     ┆     ┆     ┆     ┆     ┆     ┆ 37) │\n",
       "│ 265 ┆ 10/ ┆ 10/ ┆ NYP ┆ New ┆ Noi ┆ Lou ┆ Str ┆ 103 ┆ 24  ┆ PRI ┆ HAM ┆ DEA ┆ nul ┆ nul ┆ ADD ┆ STA ┆ nul ┆ Pre ┆ Clo ┆ 10/ ┆ 10/ ┆ 03  ┆ STA ┆ 929 ┆ 140 ┆ Uns ┆ STA ┆ Uns ┆ Uns ┆ Uns ┆ Uns ┆ Uns ┆ Uns ┆ Uns ┆ Uns ┆ Uns ┆ N   ┆ nul ┆ nul ┆ nul ┆ nul ┆ nul ┆ nul ┆ nul ┆ nul ┆ nul ┆ nul ┆ nul ┆ 40. ┆ -74 ┆ (40 │\n",
       "│ 915 ┆ 31/ ┆ 31/ ┆ D   ┆ Yor ┆ se  ┆ d   ┆ eet ┆ 12  ┆ PRI ┆ NCE ┆ PTO ┆ D   ┆ l   ┆ l   ┆ RES ┆ TEN ┆ l   ┆ cin ┆ sed ┆ 31/ ┆ 31/ ┆ STA ┆ TEN ┆ 577 ┆ 964 ┆ pec ┆ TEN ┆ pec ┆ pec ┆ pec ┆ pec ┆ pec ┆ pec ┆ pec ┆ pec ┆ pec ┆     ┆ l   ┆ l   ┆ l   ┆ l   ┆ l   ┆ l   ┆ l   ┆ l   ┆ l   ┆ l   ┆ l   ┆ 553 ┆ .19 ┆ .55 │\n",
       "│ 73  ┆ 201 ┆ 201 ┆     ┆ k   ┆ -   ┆ Tal ┆ /Si ┆     ┆ NCE ┆ TON ┆ N   ┆ END ┆     ┆     ┆ S   ┆ ISL ┆     ┆ ct  ┆     ┆ 201 ┆ 201 ┆ TEN ┆ ISL ┆     ┆     ┆ ifi ┆ ISL ┆ ifi ┆ ifi ┆ ifi ┆ ifi ┆ ifi ┆ ifi ┆ ifi ┆ ifi ┆ ifi ┆     ┆     ┆     ┆     ┆     ┆     ┆     ┆     ┆     ┆     ┆     ┆     ┆ 420 ┆ 674 ┆ 342 │\n",
       "│     ┆ 3   ┆ 3   ┆     ┆ Cit ┆ Str ┆ kin ┆ dew ┆     ┆ TON ┆ LAN ┆ GRE ┆     ┆     ┆     ┆     ┆ AND ┆     ┆     ┆     ┆ 3   ┆ 3   ┆ ISL ┆ AND ┆     ┆     ┆ ed  ┆ AND ┆ ed  ┆ ed  ┆ ed  ┆ ed  ┆ ed  ┆ ed  ┆ ed  ┆ ed  ┆ ed  ┆     ┆     ┆     ┆     ┆     ┆     ┆     ┆     ┆     ┆     ┆     ┆     ┆ 787 ┆ 315 ┆ 078 │\n",
       "│     ┆ 12: ┆ 02: ┆     ┆ y   ┆ eet ┆ g   ┆ alk ┆     ┆ LAN ┆ E   ┆ EN  ┆     ┆     ┆     ┆     ┆     ┆     ┆     ┆     ┆ 08: ┆ 01: ┆ AND ┆     ┆     ┆     ┆     ┆     ┆     ┆     ┆     ┆     ┆     ┆     ┆     ┆     ┆     ┆     ┆     ┆     ┆     ┆     ┆     ┆     ┆     ┆     ┆     ┆     ┆     ┆ 169 ┆ 017 ┆ 716 │\n",
       "│     ┆ 35: ┆ 41: ┆     ┆ Pol ┆ /Si ┆     ┆     ┆     ┆ E   ┆     ┆     ┆     ┆     ┆     ┆     ┆     ┆     ┆     ┆     ┆ 35: ┆ 45: ┆     ┆     ┆     ┆     ┆     ┆     ┆     ┆     ┆     ┆     ┆     ┆     ┆     ┆     ┆     ┆     ┆     ┆     ┆     ┆     ┆     ┆     ┆     ┆     ┆     ┆     ┆     ┆ 53  ┆ 886 ┆ 953 │\n",
       "│     ┆ 18  ┆ 35  ┆     ┆ ice ┆ dew ┆     ┆     ┆     ┆     ┆     ┆     ┆     ┆     ┆     ┆     ┆     ┆     ┆     ┆     ┆ 18  ┆ 17  ┆     ┆     ┆     ┆     ┆     ┆     ┆     ┆     ┆     ┆     ┆     ┆     ┆     ┆     ┆     ┆     ┆     ┆     ┆     ┆     ┆     ┆     ┆     ┆     ┆     ┆     ┆     ┆     ┆     ┆ ,   │\n",
       "│     ┆ AM  ┆ AM  ┆     ┆ Dep ┆ alk ┆     ┆     ┆     ┆     ┆     ┆     ┆     ┆     ┆     ┆     ┆     ┆     ┆     ┆     ┆ AM  ┆ AM  ┆     ┆     ┆     ┆     ┆     ┆     ┆     ┆     ┆     ┆     ┆     ┆     ┆     ┆     ┆     ┆     ┆     ┆     ┆     ┆     ┆     ┆     ┆     ┆     ┆     ┆     ┆     ┆     ┆     ┆ -74 │\n",
       "│     ┆     ┆     ┆     ┆ art ┆     ┆     ┆     ┆     ┆     ┆     ┆     ┆     ┆     ┆     ┆     ┆     ┆     ┆     ┆     ┆     ┆     ┆     ┆     ┆     ┆     ┆     ┆     ┆     ┆     ┆     ┆     ┆     ┆     ┆     ┆     ┆     ┆     ┆     ┆     ┆     ┆     ┆     ┆     ┆     ┆     ┆     ┆     ┆     ┆     ┆     ┆ .19 │\n",
       "│     ┆     ┆     ┆     ┆ men ┆     ┆     ┆     ┆     ┆     ┆     ┆     ┆     ┆     ┆     ┆     ┆     ┆     ┆     ┆     ┆     ┆     ┆     ┆     ┆     ┆     ┆     ┆     ┆     ┆     ┆     ┆     ┆     ┆     ┆     ┆     ┆     ┆     ┆     ┆     ┆     ┆     ┆     ┆     ┆     ┆     ┆     ┆     ┆     ┆     ┆     ┆ 674 │\n",
       "│     ┆     ┆     ┆     ┆ t   ┆     ┆     ┆     ┆     ┆     ┆     ┆     ┆     ┆     ┆     ┆     ┆     ┆     ┆     ┆     ┆     ┆     ┆     ┆     ┆     ┆     ┆     ┆     ┆     ┆     ┆     ┆     ┆     ┆     ┆     ┆     ┆     ┆     ┆     ┆     ┆     ┆     ┆     ┆     ┆     ┆     ┆     ┆     ┆     ┆     ┆     ┆ 315 │\n",
       "│     ┆     ┆     ┆     ┆     ┆     ┆     ┆     ┆     ┆     ┆     ┆     ┆     ┆     ┆     ┆     ┆     ┆     ┆     ┆     ┆     ┆     ┆     ┆     ┆     ┆     ┆     ┆     ┆     ┆     ┆     ┆     ┆     ┆     ┆     ┆     ┆     ┆     ┆     ┆     ┆     ┆     ┆     ┆     ┆     ┆     ┆     ┆     ┆     ┆     ┆     ┆ 017 │\n",
       "│     ┆     ┆     ┆     ┆     ┆     ┆     ┆     ┆     ┆     ┆     ┆     ┆     ┆     ┆     ┆     ┆     ┆     ┆     ┆     ┆     ┆     ┆     ┆     ┆     ┆     ┆     ┆     ┆     ┆     ┆     ┆     ┆     ┆     ┆     ┆     ┆     ┆     ┆     ┆     ┆     ┆     ┆     ┆     ┆     ┆     ┆     ┆     ┆     ┆     ┆     ┆ 886 │\n",
       "│     ┆     ┆     ┆     ┆     ┆     ┆     ┆     ┆     ┆     ┆     ┆     ┆     ┆     ┆     ┆     ┆     ┆     ┆     ┆     ┆     ┆     ┆     ┆     ┆     ┆     ┆     ┆     ┆     ┆     ┆     ┆     ┆     ┆     ┆     ┆     ┆     ┆     ┆     ┆     ┆     ┆     ┆     ┆     ┆     ┆     ┆     ┆     ┆     ┆     ┆     ┆ )   │\n",
       "└─────┴─────┴─────┴─────┴─────┴─────┴─────┴─────┴─────┴─────┴─────┴─────┴─────┴─────┴─────┴─────┴─────┴─────┴─────┴─────┴─────┴─────┴─────┴─────┴─────┴─────┴─────┴─────┴─────┴─────┴─────┴─────┴─────┴─────┴─────┴─────┴─────┴─────┴─────┴─────┴─────┴─────┴─────┴─────┴─────┴─────┴─────┴─────┴─────┴─────┴─────┴─────┘"
      ]
     },
     "execution_count": 5,
     "metadata": {},
     "output_type": "execute_result"
    }
   ],
   "source": [
    "noise_complaints = complaints.filter(pl.col('Complaint Type') == \"Noise - Street/Sidewalk\")\n",
    "noise_complaints[:3]"
   ]
  },
  {
   "cell_type": "markdown",
   "metadata": {},
   "source": [
    "You can also combine more than one condition with the `&` operator like this:"
   ]
  },
  {
   "cell_type": "code",
   "execution_count": 8,
   "metadata": {},
   "outputs": [
    {
     "data": {
      "text/html": [
       "<div><style>\n",
       ".dataframe > thead > tr,\n",
       ".dataframe > tbody > tr {\n",
       "  text-align: right;\n",
       "  white-space: pre-wrap;\n",
       "}\n",
       "</style>\n",
       "<small>shape: (5, 52)</small><table border=\"1\" class=\"dataframe\"><thead><tr><th>Unique Key</th><th>Created Date</th><th>Closed Date</th><th>Agency</th><th>Agency Name</th><th>Complaint Type</th><th>Descriptor</th><th>Location Type</th><th>Incident Zip</th><th>Incident Address</th><th>Street Name</th><th>Cross Street 1</th><th>Cross Street 2</th><th>Intersection Street 1</th><th>Intersection Street 2</th><th>Address Type</th><th>City</th><th>Landmark</th><th>Facility Type</th><th>Status</th><th>Due Date</th><th>Resolution Action Updated Date</th><th>Community Board</th><th>Borough</th><th>X Coordinate (State Plane)</th><th>Y Coordinate (State Plane)</th><th>Park Facility Name</th><th>Park Borough</th><th>School Name</th><th>School Number</th><th>School Region</th><th>School Code</th><th>School Phone Number</th><th>School Address</th><th>School City</th><th>School State</th><th>School Zip</th><th>School Not Found</th><th>School or Citywide Complaint</th><th>Vehicle Type</th><th>Taxi Company Borough</th><th>Taxi Pick Up Location</th><th>Bridge Highway Name</th><th>Bridge Highway Direction</th><th>Road Ramp</th><th>Bridge Highway Segment</th><th>Garage Lot Name</th><th>Ferry Direction</th><th>Ferry Terminal Name</th><th>Latitude</th><th>Longitude</th><th>Location</th></tr><tr><td>str</td><td>str</td><td>str</td><td>str</td><td>str</td><td>str</td><td>str</td><td>str</td><td>str</td><td>str</td><td>str</td><td>str</td><td>str</td><td>str</td><td>str</td><td>str</td><td>str</td><td>str</td><td>str</td><td>str</td><td>str</td><td>str</td><td>str</td><td>str</td><td>str</td><td>str</td><td>str</td><td>str</td><td>str</td><td>str</td><td>str</td><td>str</td><td>str</td><td>str</td><td>str</td><td>str</td><td>str</td><td>str</td><td>str</td><td>str</td><td>str</td><td>str</td><td>str</td><td>str</td><td>str</td><td>str</td><td>str</td><td>str</td><td>str</td><td>str</td><td>str</td><td>str</td></tr></thead><tbody><tr><td>&quot;26595564&quot;</td><td>&quot;10/31/2013 12:30:36 AM&quot;</td><td>null</td><td>&quot;NYPD&quot;</td><td>&quot;New York City Police Department&quot;</td><td>&quot;Noise - Street/Sidewalk&quot;</td><td>&quot;Loud Music/Party&quot;</td><td>&quot;Street/Sidewalk&quot;</td><td>&quot;11236&quot;</td><td>&quot;AVENUE J&quot;</td><td>&quot;AVENUE J&quot;</td><td>&quot;EAST 80 STREET&quot;</td><td>&quot;EAST 81 STREET&quot;</td><td>null</td><td>null</td><td>&quot;BLOCKFACE&quot;</td><td>&quot;BROOKLYN&quot;</td><td>null</td><td>&quot;Precinct&quot;</td><td>&quot;Open&quot;</td><td>&quot;10/31/2013 08:30:36 AM&quot;</td><td>null</td><td>&quot;18 BROOKLYN&quot;</td><td>&quot;BROOKLYN&quot;</td><td>&quot;1008937&quot;</td><td>&quot;170310&quot;</td><td>&quot;Unspecified&quot;</td><td>&quot;BROOKLYN&quot;</td><td>&quot;Unspecified&quot;</td><td>&quot;Unspecified&quot;</td><td>&quot;Unspecified&quot;</td><td>&quot;Unspecified&quot;</td><td>&quot;Unspecified&quot;</td><td>&quot;Unspecified&quot;</td><td>&quot;Unspecified&quot;</td><td>&quot;Unspecified&quot;</td><td>&quot;Unspecified&quot;</td><td>&quot;N&quot;</td><td>null</td><td>null</td><td>null</td><td>null</td><td>null</td><td>null</td><td>null</td><td>null</td><td>null</td><td>null</td><td>null</td><td>&quot;40.634103775951736&quot;</td><td>&quot;-73.91105541883589&quot;</td><td>&quot;(40.634103775951736, -73.91105541883589)&quot;</td></tr><tr><td>&quot;26595553&quot;</td><td>&quot;10/31/2013 12:05:10 AM&quot;</td><td>&quot;10/31/2013 02:43:43 AM&quot;</td><td>&quot;NYPD&quot;</td><td>&quot;New York City Police Department&quot;</td><td>&quot;Noise - Street/Sidewalk&quot;</td><td>&quot;Loud Talking&quot;</td><td>&quot;Street/Sidewalk&quot;</td><td>&quot;11225&quot;</td><td>&quot;25 LEFFERTS AVENUE&quot;</td><td>&quot;LEFFERTS AVENUE&quot;</td><td>&quot;WASHINGTON AVENUE&quot;</td><td>&quot;BEDFORD AVENUE&quot;</td><td>null</td><td>null</td><td>&quot;ADDRESS&quot;</td><td>&quot;BROOKLYN&quot;</td><td>null</td><td>&quot;Precinct&quot;</td><td>&quot;Closed&quot;</td><td>&quot;10/31/2013 08:05:10 AM&quot;</td><td>&quot;10/31/2013 01:29:29 AM&quot;</td><td>&quot;09 BROOKLYN&quot;</td><td>&quot;BROOKLYN&quot;</td><td>&quot;995366&quot;</td><td>&quot;180388&quot;</td><td>&quot;Unspecified&quot;</td><td>&quot;BROOKLYN&quot;</td><td>&quot;Unspecified&quot;</td><td>&quot;Unspecified&quot;</td><td>&quot;Unspecified&quot;</td><td>&quot;Unspecified&quot;</td><td>&quot;Unspecified&quot;</td><td>&quot;Unspecified&quot;</td><td>&quot;Unspecified&quot;</td><td>&quot;Unspecified&quot;</td><td>&quot;Unspecified&quot;</td><td>&quot;N&quot;</td><td>null</td><td>null</td><td>null</td><td>null</td><td>null</td><td>null</td><td>null</td><td>null</td><td>null</td><td>null</td><td>null</td><td>&quot;40.6617931276793&quot;</td><td>&quot;-73.95993363978067&quot;</td><td>&quot;(40.6617931276793, -73.95993363978067)&quot;</td></tr><tr><td>&quot;26594653&quot;</td><td>&quot;10/30/2013 11:26:32 PM&quot;</td><td>&quot;10/31/2013 12:18:54 AM&quot;</td><td>&quot;NYPD&quot;</td><td>&quot;New York City Police Department&quot;</td><td>&quot;Noise - Street/Sidewalk&quot;</td><td>&quot;Loud Music/Party&quot;</td><td>&quot;Street/Sidewalk&quot;</td><td>&quot;11222&quot;</td><td>null</td><td>null</td><td>null</td><td>null</td><td>&quot;DOBBIN STREET&quot;</td><td>&quot;NORMAN STREET&quot;</td><td>&quot;INTERSECTION&quot;</td><td>&quot;BROOKLYN&quot;</td><td>null</td><td>&quot;Precinct&quot;</td><td>&quot;Closed&quot;</td><td>&quot;10/31/2013 07:26:32 AM&quot;</td><td>&quot;10/31/2013 12:18:54 AM&quot;</td><td>&quot;01 BROOKLYN&quot;</td><td>&quot;BROOKLYN&quot;</td><td>&quot;996925&quot;</td><td>&quot;203271&quot;</td><td>&quot;Unspecified&quot;</td><td>&quot;BROOKLYN&quot;</td><td>&quot;Unspecified&quot;</td><td>&quot;Unspecified&quot;</td><td>&quot;Unspecified&quot;</td><td>&quot;Unspecified&quot;</td><td>&quot;Unspecified&quot;</td><td>&quot;Unspecified&quot;</td><td>&quot;Unspecified&quot;</td><td>&quot;Unspecified&quot;</td><td>&quot;Unspecified&quot;</td><td>&quot;N&quot;</td><td>null</td><td>null</td><td>null</td><td>null</td><td>null</td><td>null</td><td>null</td><td>null</td><td>null</td><td>null</td><td>null</td><td>&quot;40.724599563793525&quot;</td><td>&quot;-73.95427134534344&quot;</td><td>&quot;(40.724599563793525, -73.95427134534344)&quot;</td></tr><tr><td>&quot;26591992&quot;</td><td>&quot;10/30/2013 10:02:58 PM&quot;</td><td>&quot;10/30/2013 10:23:20 PM&quot;</td><td>&quot;NYPD&quot;</td><td>&quot;New York City Police Department&quot;</td><td>&quot;Noise - Street/Sidewalk&quot;</td><td>&quot;Loud Talking&quot;</td><td>&quot;Street/Sidewalk&quot;</td><td>&quot;11218&quot;</td><td>&quot;DITMAS AVENUE&quot;</td><td>&quot;DITMAS AVENUE&quot;</td><td>null</td><td>null</td><td>null</td><td>null</td><td>&quot;LATLONG&quot;</td><td>&quot;BROOKLYN&quot;</td><td>null</td><td>&quot;Precinct&quot;</td><td>&quot;Closed&quot;</td><td>&quot;10/31/2013 06:02:58 AM&quot;</td><td>&quot;10/30/2013 10:23:20 PM&quot;</td><td>&quot;01 BROOKLYN&quot;</td><td>&quot;BROOKLYN&quot;</td><td>&quot;991895&quot;</td><td>&quot;171051&quot;</td><td>&quot;Unspecified&quot;</td><td>&quot;BROOKLYN&quot;</td><td>&quot;Unspecified&quot;</td><td>&quot;Unspecified&quot;</td><td>&quot;Unspecified&quot;</td><td>&quot;Unspecified&quot;</td><td>&quot;Unspecified&quot;</td><td>&quot;Unspecified&quot;</td><td>&quot;Unspecified&quot;</td><td>&quot;Unspecified&quot;</td><td>&quot;Unspecified&quot;</td><td>&quot;N&quot;</td><td>null</td><td>null</td><td>null</td><td>null</td><td>null</td><td>null</td><td>null</td><td>null</td><td>null</td><td>null</td><td>null</td><td>&quot;40.63616876563881&quot;</td><td>&quot;-73.97245504682485&quot;</td><td>&quot;(40.63616876563881, -73.97245504682485)&quot;</td></tr><tr><td>&quot;26594167&quot;</td><td>&quot;10/30/2013 08:38:25 PM&quot;</td><td>&quot;10/30/2013 10:26:28 PM&quot;</td><td>&quot;NYPD&quot;</td><td>&quot;New York City Police Department&quot;</td><td>&quot;Noise - Street/Sidewalk&quot;</td><td>&quot;Loud Music/Party&quot;</td><td>&quot;Street/Sidewalk&quot;</td><td>&quot;11218&quot;</td><td>&quot;126 BEVERLY ROAD&quot;</td><td>&quot;BEVERLY ROAD&quot;</td><td>&quot;CHURCH AVENUE&quot;</td><td>&quot;EAST 2 STREET&quot;</td><td>null</td><td>null</td><td>&quot;ADDRESS&quot;</td><td>&quot;BROOKLYN&quot;</td><td>null</td><td>&quot;Precinct&quot;</td><td>&quot;Closed&quot;</td><td>&quot;10/31/2013 04:38:25 AM&quot;</td><td>&quot;10/30/2013 10:26:28 PM&quot;</td><td>&quot;12 BROOKLYN&quot;</td><td>&quot;BROOKLYN&quot;</td><td>&quot;990144&quot;</td><td>&quot;173511&quot;</td><td>&quot;Unspecified&quot;</td><td>&quot;BROOKLYN&quot;</td><td>&quot;Unspecified&quot;</td><td>&quot;Unspecified&quot;</td><td>&quot;Unspecified&quot;</td><td>&quot;Unspecified&quot;</td><td>&quot;Unspecified&quot;</td><td>&quot;Unspecified&quot;</td><td>&quot;Unspecified&quot;</td><td>&quot;Unspecified&quot;</td><td>&quot;Unspecified&quot;</td><td>&quot;N&quot;</td><td>null</td><td>null</td><td>null</td><td>null</td><td>null</td><td>null</td><td>null</td><td>null</td><td>null</td><td>null</td><td>null</td><td>&quot;40.6429222774404&quot;</td><td>&quot;-73.97876175474585&quot;</td><td>&quot;(40.6429222774404, -73.97876175474585)&quot;</td></tr></tbody></table></div>"
      ],
      "text/plain": [
       "shape: (5, 52)\n",
       "┌─────┬─────┬─────┬─────┬─────┬─────┬─────┬─────┬─────┬─────┬─────┬─────┬─────┬─────┬─────┬─────┬─────┬─────┬─────┬─────┬─────┬─────┬─────┬─────┬─────┬─────┬─────┬─────┬─────┬─────┬─────┬─────┬─────┬─────┬─────┬─────┬─────┬─────┬─────┬─────┬─────┬─────┬─────┬─────┬─────┬─────┬─────┬─────┬─────┬─────┬─────┬─────┐\n",
       "│ Uni ┆ Cre ┆ Clo ┆ Age ┆ Age ┆ Com ┆ Des ┆ Loc ┆ Inc ┆ Inc ┆ Str ┆ Cro ┆ Cro ┆ Int ┆ Int ┆ Add ┆ Cit ┆ Lan ┆ Fac ┆ Sta ┆ Due ┆ Res ┆ Com ┆ Bor ┆ X   ┆ Y   ┆ Par ┆ Par ┆ Sch ┆ Sch ┆ Sch ┆ Sch ┆ Sch ┆ Sch ┆ Sch ┆ Sch ┆ Sch ┆ Sch ┆ Sch ┆ Veh ┆ Tax ┆ Tax ┆ Bri ┆ Bri ┆ Roa ┆ Bri ┆ Gar ┆ Fer ┆ Fer ┆ Lat ┆ Lon ┆ Loc │\n",
       "│ que ┆ ate ┆ sed ┆ ncy ┆ ncy ┆ pla ┆ cri ┆ ati ┆ ide ┆ ide ┆ eet ┆ ss  ┆ ss  ┆ ers ┆ ers ┆ res ┆ y   ┆ dma ┆ ili ┆ tus ┆ Dat ┆ olu ┆ mun ┆ oug ┆ Coo ┆ Coo ┆ k   ┆ k   ┆ ool ┆ ool ┆ ool ┆ ool ┆ ool ┆ ool ┆ ool ┆ ool ┆ ool ┆ ool ┆ ool ┆ icl ┆ i   ┆ i   ┆ dge ┆ dge ┆ d   ┆ dge ┆ age ┆ ry  ┆ ry  ┆ itu ┆ git ┆ ati │\n",
       "│ Key ┆ d   ┆ Dat ┆ --- ┆ Nam ┆ int ┆ pto ┆ on  ┆ nt  ┆ nt  ┆ Nam ┆ Str ┆ Str ┆ ect ┆ ect ┆ s   ┆ --- ┆ rk  ┆ ty  ┆ --- ┆ e   ┆ tio ┆ ity ┆ h   ┆ rdi ┆ rdi ┆ Fac ┆ Bor ┆ Nam ┆ Num ┆ Reg ┆ Cod ┆ Pho ┆ Add ┆ Cit ┆ Sta ┆ Zip ┆ Not ┆ or  ┆ e   ┆ Com ┆ Pic ┆ Hig ┆ Hig ┆ Ram ┆ Hig ┆ Lot ┆ Dir ┆ Ter ┆ de  ┆ ude ┆ on  │\n",
       "│ --- ┆ Dat ┆ e   ┆ str ┆ e   ┆ Typ ┆ r   ┆ Typ ┆ Zip ┆ Add ┆ e   ┆ eet ┆ eet ┆ ion ┆ ion ┆ Typ ┆ str ┆ --- ┆ Typ ┆ str ┆ --- ┆ n   ┆ Boa ┆ --- ┆ nat ┆ nat ┆ ili ┆ oug ┆ e   ┆ ber ┆ ion ┆ e   ┆ ne  ┆ res ┆ y   ┆ te  ┆ --- ┆ Fou ┆ Cit ┆ Typ ┆ pan ┆ k   ┆ hwa ┆ hwa ┆ p   ┆ hwa ┆ Nam ┆ ect ┆ min ┆ --- ┆ --- ┆ --- │\n",
       "│ str ┆ e   ┆ --- ┆     ┆ --- ┆ e   ┆ --- ┆ e   ┆ --- ┆ res ┆ --- ┆ 1   ┆ 2   ┆ Str ┆ Str ┆ e   ┆     ┆ str ┆ e   ┆     ┆ str ┆ Act ┆ rd  ┆ str ┆ e   ┆ e   ┆ ty  ┆ h   ┆ --- ┆ --- ┆ --- ┆ --- ┆ Num ┆ s   ┆ --- ┆ --- ┆ str ┆ nd  ┆ ywi ┆ e   ┆ y   ┆ Up  ┆ y   ┆ y   ┆ --- ┆ y   ┆ e   ┆ ion ┆ al  ┆ str ┆ str ┆ str │\n",
       "│     ┆ --- ┆ str ┆     ┆ str ┆ --- ┆ str ┆ --- ┆ str ┆ s   ┆ str ┆ --- ┆ --- ┆ eet ┆ eet ┆ --- ┆     ┆     ┆ --- ┆     ┆     ┆ ion ┆ --- ┆     ┆ (St ┆ (St ┆ Nam ┆ --- ┆ str ┆ str ┆ str ┆ str ┆ ber ┆ --- ┆ str ┆ str ┆     ┆ --- ┆ de  ┆ --- ┆ Bor ┆ Loc ┆ Nam ┆ Dir ┆ str ┆ Seg ┆ --- ┆ --- ┆ Nam ┆     ┆     ┆     │\n",
       "│     ┆ str ┆     ┆     ┆     ┆ str ┆     ┆ str ┆     ┆ --- ┆     ┆ str ┆ str ┆ 1   ┆ 2   ┆ str ┆     ┆     ┆ str ┆     ┆     ┆ Upd ┆ str ┆     ┆ ate ┆ ate ┆ e   ┆ str ┆     ┆     ┆     ┆     ┆ --- ┆ str ┆     ┆     ┆     ┆ str ┆ Com ┆ str ┆ oug ┆ ati ┆ e   ┆ ect ┆     ┆ men ┆ str ┆ str ┆ e   ┆     ┆     ┆     │\n",
       "│     ┆     ┆     ┆     ┆     ┆     ┆     ┆     ┆     ┆ str ┆     ┆     ┆     ┆ --- ┆ --- ┆     ┆     ┆     ┆     ┆     ┆     ┆ ate ┆     ┆     ┆ Pla ┆ Pla ┆ --- ┆     ┆     ┆     ┆     ┆     ┆ str ┆     ┆     ┆     ┆     ┆     ┆ pla ┆     ┆ h   ┆ on  ┆ --- ┆ ion ┆     ┆ t   ┆     ┆     ┆ --- ┆     ┆     ┆     │\n",
       "│     ┆     ┆     ┆     ┆     ┆     ┆     ┆     ┆     ┆     ┆     ┆     ┆     ┆ str ┆ str ┆     ┆     ┆     ┆     ┆     ┆     ┆ d   ┆     ┆     ┆ ne) ┆ ne) ┆ str ┆     ┆     ┆     ┆     ┆     ┆     ┆     ┆     ┆     ┆     ┆     ┆ int ┆     ┆ --- ┆ --- ┆ str ┆ --- ┆     ┆ --- ┆     ┆     ┆ str ┆     ┆     ┆     │\n",
       "│     ┆     ┆     ┆     ┆     ┆     ┆     ┆     ┆     ┆     ┆     ┆     ┆     ┆     ┆     ┆     ┆     ┆     ┆     ┆     ┆     ┆ Dat ┆     ┆     ┆ --- ┆ --- ┆     ┆     ┆     ┆     ┆     ┆     ┆     ┆     ┆     ┆     ┆     ┆     ┆ --- ┆     ┆ str ┆ str ┆     ┆ str ┆     ┆ str ┆     ┆     ┆     ┆     ┆     ┆     │\n",
       "│     ┆     ┆     ┆     ┆     ┆     ┆     ┆     ┆     ┆     ┆     ┆     ┆     ┆     ┆     ┆     ┆     ┆     ┆     ┆     ┆     ┆ e   ┆     ┆     ┆ str ┆ str ┆     ┆     ┆     ┆     ┆     ┆     ┆     ┆     ┆     ┆     ┆     ┆     ┆ str ┆     ┆     ┆     ┆     ┆     ┆     ┆     ┆     ┆     ┆     ┆     ┆     ┆     │\n",
       "│     ┆     ┆     ┆     ┆     ┆     ┆     ┆     ┆     ┆     ┆     ┆     ┆     ┆     ┆     ┆     ┆     ┆     ┆     ┆     ┆     ┆ --- ┆     ┆     ┆     ┆     ┆     ┆     ┆     ┆     ┆     ┆     ┆     ┆     ┆     ┆     ┆     ┆     ┆     ┆     ┆     ┆     ┆     ┆     ┆     ┆     ┆     ┆     ┆     ┆     ┆     ┆     │\n",
       "│     ┆     ┆     ┆     ┆     ┆     ┆     ┆     ┆     ┆     ┆     ┆     ┆     ┆     ┆     ┆     ┆     ┆     ┆     ┆     ┆     ┆ str ┆     ┆     ┆     ┆     ┆     ┆     ┆     ┆     ┆     ┆     ┆     ┆     ┆     ┆     ┆     ┆     ┆     ┆     ┆     ┆     ┆     ┆     ┆     ┆     ┆     ┆     ┆     ┆     ┆     ┆     │\n",
       "╞═════╪═════╪═════╪═════╪═════╪═════╪═════╪═════╪═════╪═════╪═════╪═════╪═════╪═════╪═════╪═════╪═════╪═════╪═════╪═════╪═════╪═════╪═════╪═════╪═════╪═════╪═════╪═════╪═════╪═════╪═════╪═════╪═════╪═════╪═════╪═════╪═════╪═════╪═════╪═════╪═════╪═════╪═════╪═════╪═════╪═════╪═════╪═════╪═════╪═════╪═════╪═════╡\n",
       "│ 265 ┆ 10/ ┆ nul ┆ NYP ┆ New ┆ Noi ┆ Lou ┆ Str ┆ 112 ┆ AVE ┆ AVE ┆ EAS ┆ EAS ┆ nul ┆ nul ┆ BLO ┆ BRO ┆ nul ┆ Pre ┆ Ope ┆ 10/ ┆ nul ┆ 18  ┆ BRO ┆ 100 ┆ 170 ┆ Uns ┆ BRO ┆ Uns ┆ Uns ┆ Uns ┆ Uns ┆ Uns ┆ Uns ┆ Uns ┆ Uns ┆ Uns ┆ N   ┆ nul ┆ nul ┆ nul ┆ nul ┆ nul ┆ nul ┆ nul ┆ nul ┆ nul ┆ nul ┆ nul ┆ 40. ┆ -73 ┆ (40 │\n",
       "│ 955 ┆ 31/ ┆ l   ┆ D   ┆ Yor ┆ se  ┆ d   ┆ eet ┆ 36  ┆ NUE ┆ NUE ┆ T   ┆ T   ┆ l   ┆ l   ┆ CKF ┆ OKL ┆ l   ┆ cin ┆ n   ┆ 31/ ┆ l   ┆ BRO ┆ OKL ┆ 893 ┆ 310 ┆ pec ┆ OKL ┆ pec ┆ pec ┆ pec ┆ pec ┆ pec ┆ pec ┆ pec ┆ pec ┆ pec ┆     ┆ l   ┆ l   ┆ l   ┆ l   ┆ l   ┆ l   ┆ l   ┆ l   ┆ l   ┆ l   ┆ l   ┆ 634 ┆ .91 ┆ .63 │\n",
       "│ 64  ┆ 201 ┆     ┆     ┆ k   ┆ -   ┆ Mus ┆ /Si ┆     ┆ J   ┆ J   ┆ 80  ┆ 81  ┆     ┆     ┆ ACE ┆ YN  ┆     ┆ ct  ┆     ┆ 201 ┆     ┆ OKL ┆ YN  ┆ 7   ┆     ┆ ifi ┆ YN  ┆ ifi ┆ ifi ┆ ifi ┆ ifi ┆ ifi ┆ ifi ┆ ifi ┆ ifi ┆ ifi ┆     ┆     ┆     ┆     ┆     ┆     ┆     ┆     ┆     ┆     ┆     ┆     ┆ 103 ┆ 105 ┆ 410 │\n",
       "│     ┆ 3   ┆     ┆     ┆ Cit ┆ Str ┆ ic/ ┆ dew ┆     ┆     ┆     ┆ STR ┆ STR ┆     ┆     ┆     ┆     ┆     ┆     ┆     ┆ 3   ┆     ┆ YN  ┆     ┆     ┆     ┆ ed  ┆     ┆ ed  ┆ ed  ┆ ed  ┆ ed  ┆ ed  ┆ ed  ┆ ed  ┆ ed  ┆ ed  ┆     ┆     ┆     ┆     ┆     ┆     ┆     ┆     ┆     ┆     ┆     ┆     ┆ 775 ┆ 541 ┆ 377 │\n",
       "│     ┆ 12: ┆     ┆     ┆ y   ┆ eet ┆ Par ┆ alk ┆     ┆     ┆     ┆ EET ┆ EET ┆     ┆     ┆     ┆     ┆     ┆     ┆     ┆ 08: ┆     ┆     ┆     ┆     ┆     ┆     ┆     ┆     ┆     ┆     ┆     ┆     ┆     ┆     ┆     ┆     ┆     ┆     ┆     ┆     ┆     ┆     ┆     ┆     ┆     ┆     ┆     ┆     ┆ 951 ┆ 883 ┆ 595 │\n",
       "│     ┆ 30: ┆     ┆     ┆ Pol ┆ /Si ┆ ty  ┆     ┆     ┆     ┆     ┆     ┆     ┆     ┆     ┆     ┆     ┆     ┆     ┆     ┆ 30: ┆     ┆     ┆     ┆     ┆     ┆     ┆     ┆     ┆     ┆     ┆     ┆     ┆     ┆     ┆     ┆     ┆     ┆     ┆     ┆     ┆     ┆     ┆     ┆     ┆     ┆     ┆     ┆     ┆ 736 ┆ 589 ┆ 173 │\n",
       "│     ┆ 36  ┆     ┆     ┆ ice ┆ dew ┆     ┆     ┆     ┆     ┆     ┆     ┆     ┆     ┆     ┆     ┆     ┆     ┆     ┆     ┆ 36  ┆     ┆     ┆     ┆     ┆     ┆     ┆     ┆     ┆     ┆     ┆     ┆     ┆     ┆     ┆     ┆     ┆     ┆     ┆     ┆     ┆     ┆     ┆     ┆     ┆     ┆     ┆     ┆     ┆     ┆     ┆ 6,  │\n",
       "│     ┆ AM  ┆     ┆     ┆ Dep ┆ alk ┆     ┆     ┆     ┆     ┆     ┆     ┆     ┆     ┆     ┆     ┆     ┆     ┆     ┆     ┆ AM  ┆     ┆     ┆     ┆     ┆     ┆     ┆     ┆     ┆     ┆     ┆     ┆     ┆     ┆     ┆     ┆     ┆     ┆     ┆     ┆     ┆     ┆     ┆     ┆     ┆     ┆     ┆     ┆     ┆     ┆     ┆ -73 │\n",
       "│     ┆     ┆     ┆     ┆ art ┆     ┆     ┆     ┆     ┆     ┆     ┆     ┆     ┆     ┆     ┆     ┆     ┆     ┆     ┆     ┆     ┆     ┆     ┆     ┆     ┆     ┆     ┆     ┆     ┆     ┆     ┆     ┆     ┆     ┆     ┆     ┆     ┆     ┆     ┆     ┆     ┆     ┆     ┆     ┆     ┆     ┆     ┆     ┆     ┆     ┆     ┆ .91 │\n",
       "│     ┆     ┆     ┆     ┆ men ┆     ┆     ┆     ┆     ┆     ┆     ┆     ┆     ┆     ┆     ┆     ┆     ┆     ┆     ┆     ┆     ┆     ┆     ┆     ┆     ┆     ┆     ┆     ┆     ┆     ┆     ┆     ┆     ┆     ┆     ┆     ┆     ┆     ┆     ┆     ┆     ┆     ┆     ┆     ┆     ┆     ┆     ┆     ┆     ┆     ┆     ┆ 105 │\n",
       "│     ┆     ┆     ┆     ┆ t   ┆     ┆     ┆     ┆     ┆     ┆     ┆     ┆     ┆     ┆     ┆     ┆     ┆     ┆     ┆     ┆     ┆     ┆     ┆     ┆     ┆     ┆     ┆     ┆     ┆     ┆     ┆     ┆     ┆     ┆     ┆     ┆     ┆     ┆     ┆     ┆     ┆     ┆     ┆     ┆     ┆     ┆     ┆     ┆     ┆     ┆     ┆ 541 │\n",
       "│     ┆     ┆     ┆     ┆     ┆     ┆     ┆     ┆     ┆     ┆     ┆     ┆     ┆     ┆     ┆     ┆     ┆     ┆     ┆     ┆     ┆     ┆     ┆     ┆     ┆     ┆     ┆     ┆     ┆     ┆     ┆     ┆     ┆     ┆     ┆     ┆     ┆     ┆     ┆     ┆     ┆     ┆     ┆     ┆     ┆     ┆     ┆     ┆     ┆     ┆     ┆ 883 │\n",
       "│     ┆     ┆     ┆     ┆     ┆     ┆     ┆     ┆     ┆     ┆     ┆     ┆     ┆     ┆     ┆     ┆     ┆     ┆     ┆     ┆     ┆     ┆     ┆     ┆     ┆     ┆     ┆     ┆     ┆     ┆     ┆     ┆     ┆     ┆     ┆     ┆     ┆     ┆     ┆     ┆     ┆     ┆     ┆     ┆     ┆     ┆     ┆     ┆     ┆     ┆     ┆ 589 │\n",
       "│     ┆     ┆     ┆     ┆     ┆     ┆     ┆     ┆     ┆     ┆     ┆     ┆     ┆     ┆     ┆     ┆     ┆     ┆     ┆     ┆     ┆     ┆     ┆     ┆     ┆     ┆     ┆     ┆     ┆     ┆     ┆     ┆     ┆     ┆     ┆     ┆     ┆     ┆     ┆     ┆     ┆     ┆     ┆     ┆     ┆     ┆     ┆     ┆     ┆     ┆     ┆ )   │\n",
       "│ 265 ┆ 10/ ┆ 10/ ┆ NYP ┆ New ┆ Noi ┆ Lou ┆ Str ┆ 112 ┆ 25  ┆ LEF ┆ WAS ┆ BED ┆ nul ┆ nul ┆ ADD ┆ BRO ┆ nul ┆ Pre ┆ Clo ┆ 10/ ┆ 10/ ┆ 09  ┆ BRO ┆ 995 ┆ 180 ┆ Uns ┆ BRO ┆ Uns ┆ Uns ┆ Uns ┆ Uns ┆ Uns ┆ Uns ┆ Uns ┆ Uns ┆ Uns ┆ N   ┆ nul ┆ nul ┆ nul ┆ nul ┆ nul ┆ nul ┆ nul ┆ nul ┆ nul ┆ nul ┆ nul ┆ 40. ┆ -73 ┆ (40 │\n",
       "│ 955 ┆ 31/ ┆ 31/ ┆ D   ┆ Yor ┆ se  ┆ d   ┆ eet ┆ 25  ┆ LEF ┆ FER ┆ HIN ┆ FOR ┆ l   ┆ l   ┆ RES ┆ OKL ┆ l   ┆ cin ┆ sed ┆ 31/ ┆ 31/ ┆ BRO ┆ OKL ┆ 366 ┆ 388 ┆ pec ┆ OKL ┆ pec ┆ pec ┆ pec ┆ pec ┆ pec ┆ pec ┆ pec ┆ pec ┆ pec ┆     ┆ l   ┆ l   ┆ l   ┆ l   ┆ l   ┆ l   ┆ l   ┆ l   ┆ l   ┆ l   ┆ l   ┆ 661 ┆ .95 ┆ .66 │\n",
       "│ 53  ┆ 201 ┆ 201 ┆     ┆ k   ┆ -   ┆ Tal ┆ /Si ┆     ┆ FER ┆ TS  ┆ GTO ┆ D   ┆     ┆     ┆ S   ┆ YN  ┆     ┆ ct  ┆     ┆ 201 ┆ 201 ┆ OKL ┆ YN  ┆     ┆     ┆ ifi ┆ YN  ┆ ifi ┆ ifi ┆ ifi ┆ ifi ┆ ifi ┆ ifi ┆ ifi ┆ ifi ┆ ifi ┆     ┆     ┆     ┆     ┆     ┆     ┆     ┆     ┆     ┆     ┆     ┆     ┆ 793 ┆ 993 ┆ 179 │\n",
       "│     ┆ 3   ┆ 3   ┆     ┆ Cit ┆ Str ┆ kin ┆ dew ┆     ┆ TS  ┆ AVE ┆ N   ┆ AVE ┆     ┆     ┆     ┆     ┆     ┆     ┆     ┆ 3   ┆ 3   ┆ YN  ┆     ┆     ┆     ┆ ed  ┆     ┆ ed  ┆ ed  ┆ ed  ┆ ed  ┆ ed  ┆ ed  ┆ ed  ┆ ed  ┆ ed  ┆     ┆     ┆     ┆     ┆     ┆     ┆     ┆     ┆     ┆     ┆     ┆     ┆ 127 ┆ 363 ┆ 312 │\n",
       "│     ┆ 12: ┆ 02: ┆     ┆ y   ┆ eet ┆ g   ┆ alk ┆     ┆ AVE ┆ NUE ┆ AVE ┆ NUE ┆     ┆     ┆     ┆     ┆     ┆     ┆     ┆ 08: ┆ 01: ┆     ┆     ┆     ┆     ┆     ┆     ┆     ┆     ┆     ┆     ┆     ┆     ┆     ┆     ┆     ┆     ┆     ┆     ┆     ┆     ┆     ┆     ┆     ┆     ┆     ┆     ┆     ┆ 679 ┆ 978 ┆ 767 │\n",
       "│     ┆ 05: ┆ 43: ┆     ┆ Pol ┆ /Si ┆     ┆     ┆     ┆ NUE ┆     ┆ NUE ┆     ┆     ┆     ┆     ┆     ┆     ┆     ┆     ┆ 05: ┆ 29: ┆     ┆     ┆     ┆     ┆     ┆     ┆     ┆     ┆     ┆     ┆     ┆     ┆     ┆     ┆     ┆     ┆     ┆     ┆     ┆     ┆     ┆     ┆     ┆     ┆     ┆     ┆     ┆ 3   ┆ 067 ┆ 93, │\n",
       "│     ┆ 10  ┆ 43  ┆     ┆ ice ┆ dew ┆     ┆     ┆     ┆     ┆     ┆     ┆     ┆     ┆     ┆     ┆     ┆     ┆     ┆     ┆ 10  ┆ 29  ┆     ┆     ┆     ┆     ┆     ┆     ┆     ┆     ┆     ┆     ┆     ┆     ┆     ┆     ┆     ┆     ┆     ┆     ┆     ┆     ┆     ┆     ┆     ┆     ┆     ┆     ┆     ┆     ┆     ┆ -73 │\n",
       "│     ┆ AM  ┆ AM  ┆     ┆ Dep ┆ alk ┆     ┆     ┆     ┆     ┆     ┆     ┆     ┆     ┆     ┆     ┆     ┆     ┆     ┆     ┆ AM  ┆ AM  ┆     ┆     ┆     ┆     ┆     ┆     ┆     ┆     ┆     ┆     ┆     ┆     ┆     ┆     ┆     ┆     ┆     ┆     ┆     ┆     ┆     ┆     ┆     ┆     ┆     ┆     ┆     ┆     ┆     ┆ .95 │\n",
       "│     ┆     ┆     ┆     ┆ art ┆     ┆     ┆     ┆     ┆     ┆     ┆     ┆     ┆     ┆     ┆     ┆     ┆     ┆     ┆     ┆     ┆     ┆     ┆     ┆     ┆     ┆     ┆     ┆     ┆     ┆     ┆     ┆     ┆     ┆     ┆     ┆     ┆     ┆     ┆     ┆     ┆     ┆     ┆     ┆     ┆     ┆     ┆     ┆     ┆     ┆     ┆ 993 │\n",
       "│     ┆     ┆     ┆     ┆ men ┆     ┆     ┆     ┆     ┆     ┆     ┆     ┆     ┆     ┆     ┆     ┆     ┆     ┆     ┆     ┆     ┆     ┆     ┆     ┆     ┆     ┆     ┆     ┆     ┆     ┆     ┆     ┆     ┆     ┆     ┆     ┆     ┆     ┆     ┆     ┆     ┆     ┆     ┆     ┆     ┆     ┆     ┆     ┆     ┆     ┆     ┆ 363 │\n",
       "│     ┆     ┆     ┆     ┆ t   ┆     ┆     ┆     ┆     ┆     ┆     ┆     ┆     ┆     ┆     ┆     ┆     ┆     ┆     ┆     ┆     ┆     ┆     ┆     ┆     ┆     ┆     ┆     ┆     ┆     ┆     ┆     ┆     ┆     ┆     ┆     ┆     ┆     ┆     ┆     ┆     ┆     ┆     ┆     ┆     ┆     ┆     ┆     ┆     ┆     ┆     ┆ 978 │\n",
       "│     ┆     ┆     ┆     ┆     ┆     ┆     ┆     ┆     ┆     ┆     ┆     ┆     ┆     ┆     ┆     ┆     ┆     ┆     ┆     ┆     ┆     ┆     ┆     ┆     ┆     ┆     ┆     ┆     ┆     ┆     ┆     ┆     ┆     ┆     ┆     ┆     ┆     ┆     ┆     ┆     ┆     ┆     ┆     ┆     ┆     ┆     ┆     ┆     ┆     ┆     ┆ 067 │\n",
       "│     ┆     ┆     ┆     ┆     ┆     ┆     ┆     ┆     ┆     ┆     ┆     ┆     ┆     ┆     ┆     ┆     ┆     ┆     ┆     ┆     ┆     ┆     ┆     ┆     ┆     ┆     ┆     ┆     ┆     ┆     ┆     ┆     ┆     ┆     ┆     ┆     ┆     ┆     ┆     ┆     ┆     ┆     ┆     ┆     ┆     ┆     ┆     ┆     ┆     ┆     ┆ )   │\n",
       "│ 265 ┆ 10/ ┆ 10/ ┆ NYP ┆ New ┆ Noi ┆ Lou ┆ Str ┆ 112 ┆ nul ┆ nul ┆ nul ┆ nul ┆ DOB ┆ NOR ┆ INT ┆ BRO ┆ nul ┆ Pre ┆ Clo ┆ 10/ ┆ 10/ ┆ 01  ┆ BRO ┆ 996 ┆ 203 ┆ Uns ┆ BRO ┆ Uns ┆ Uns ┆ Uns ┆ Uns ┆ Uns ┆ Uns ┆ Uns ┆ Uns ┆ Uns ┆ N   ┆ nul ┆ nul ┆ nul ┆ nul ┆ nul ┆ nul ┆ nul ┆ nul ┆ nul ┆ nul ┆ nul ┆ 40. ┆ -73 ┆ (40 │\n",
       "│ 946 ┆ 30/ ┆ 31/ ┆ D   ┆ Yor ┆ se  ┆ d   ┆ eet ┆ 22  ┆ l   ┆ l   ┆ l   ┆ l   ┆ BIN ┆ MAN ┆ ERS ┆ OKL ┆ l   ┆ cin ┆ sed ┆ 31/ ┆ 31/ ┆ BRO ┆ OKL ┆ 925 ┆ 271 ┆ pec ┆ OKL ┆ pec ┆ pec ┆ pec ┆ pec ┆ pec ┆ pec ┆ pec ┆ pec ┆ pec ┆     ┆ l   ┆ l   ┆ l   ┆ l   ┆ l   ┆ l   ┆ l   ┆ l   ┆ l   ┆ l   ┆ l   ┆ 724 ┆ .95 ┆ .72 │\n",
       "│ 53  ┆ 201 ┆ 201 ┆     ┆ k   ┆ -   ┆ Mus ┆ /Si ┆     ┆     ┆     ┆     ┆     ┆ STR ┆ STR ┆ ECT ┆ YN  ┆     ┆ ct  ┆     ┆ 201 ┆ 201 ┆ OKL ┆ YN  ┆     ┆     ┆ ifi ┆ YN  ┆ ifi ┆ ifi ┆ ifi ┆ ifi ┆ ifi ┆ ifi ┆ ifi ┆ ifi ┆ ifi ┆     ┆     ┆     ┆     ┆     ┆     ┆     ┆     ┆     ┆     ┆     ┆     ┆ 599 ┆ 427 ┆ 459 │\n",
       "│     ┆ 3   ┆ 3   ┆     ┆ Cit ┆ Str ┆ ic/ ┆ dew ┆     ┆     ┆     ┆     ┆     ┆ EET ┆ EET ┆ ION ┆     ┆     ┆     ┆     ┆ 3   ┆ 3   ┆ YN  ┆     ┆     ┆     ┆ ed  ┆     ┆ ed  ┆ ed  ┆ ed  ┆ ed  ┆ ed  ┆ ed  ┆ ed  ┆ ed  ┆ ed  ┆     ┆     ┆     ┆     ┆     ┆     ┆     ┆     ┆     ┆     ┆     ┆     ┆ 563 ┆ 134 ┆ 956 │\n",
       "│     ┆ 11: ┆ 12: ┆     ┆ y   ┆ eet ┆ Par ┆ alk ┆     ┆     ┆     ┆     ┆     ┆     ┆     ┆     ┆     ┆     ┆     ┆     ┆ 07: ┆ 12: ┆     ┆     ┆     ┆     ┆     ┆     ┆     ┆     ┆     ┆     ┆     ┆     ┆     ┆     ┆     ┆     ┆     ┆     ┆     ┆     ┆     ┆     ┆     ┆     ┆     ┆     ┆     ┆ 793 ┆ 534 ┆ 379 │\n",
       "│     ┆ 26: ┆ 18: ┆     ┆ Pol ┆ /Si ┆ ty  ┆     ┆     ┆     ┆     ┆     ┆     ┆     ┆     ┆     ┆     ┆     ┆     ┆     ┆ 26: ┆ 18: ┆     ┆     ┆     ┆     ┆     ┆     ┆     ┆     ┆     ┆     ┆     ┆     ┆     ┆     ┆     ┆     ┆     ┆     ┆     ┆     ┆     ┆     ┆     ┆     ┆     ┆     ┆     ┆ 525 ┆ 344 ┆ 352 │\n",
       "│     ┆ 32  ┆ 54  ┆     ┆ ice ┆ dew ┆     ┆     ┆     ┆     ┆     ┆     ┆     ┆     ┆     ┆     ┆     ┆     ┆     ┆     ┆ 32  ┆ 54  ┆     ┆     ┆     ┆     ┆     ┆     ┆     ┆     ┆     ┆     ┆     ┆     ┆     ┆     ┆     ┆     ┆     ┆     ┆     ┆     ┆     ┆     ┆     ┆     ┆     ┆     ┆     ┆     ┆     ┆ 5,  │\n",
       "│     ┆ PM  ┆ AM  ┆     ┆ Dep ┆ alk ┆     ┆     ┆     ┆     ┆     ┆     ┆     ┆     ┆     ┆     ┆     ┆     ┆     ┆     ┆ AM  ┆ AM  ┆     ┆     ┆     ┆     ┆     ┆     ┆     ┆     ┆     ┆     ┆     ┆     ┆     ┆     ┆     ┆     ┆     ┆     ┆     ┆     ┆     ┆     ┆     ┆     ┆     ┆     ┆     ┆     ┆     ┆ -73 │\n",
       "│     ┆     ┆     ┆     ┆ art ┆     ┆     ┆     ┆     ┆     ┆     ┆     ┆     ┆     ┆     ┆     ┆     ┆     ┆     ┆     ┆     ┆     ┆     ┆     ┆     ┆     ┆     ┆     ┆     ┆     ┆     ┆     ┆     ┆     ┆     ┆     ┆     ┆     ┆     ┆     ┆     ┆     ┆     ┆     ┆     ┆     ┆     ┆     ┆     ┆     ┆     ┆ .95 │\n",
       "│     ┆     ┆     ┆     ┆ men ┆     ┆     ┆     ┆     ┆     ┆     ┆     ┆     ┆     ┆     ┆     ┆     ┆     ┆     ┆     ┆     ┆     ┆     ┆     ┆     ┆     ┆     ┆     ┆     ┆     ┆     ┆     ┆     ┆     ┆     ┆     ┆     ┆     ┆     ┆     ┆     ┆     ┆     ┆     ┆     ┆     ┆     ┆     ┆     ┆     ┆     ┆ 427 │\n",
       "│     ┆     ┆     ┆     ┆ t   ┆     ┆     ┆     ┆     ┆     ┆     ┆     ┆     ┆     ┆     ┆     ┆     ┆     ┆     ┆     ┆     ┆     ┆     ┆     ┆     ┆     ┆     ┆     ┆     ┆     ┆     ┆     ┆     ┆     ┆     ┆     ┆     ┆     ┆     ┆     ┆     ┆     ┆     ┆     ┆     ┆     ┆     ┆     ┆     ┆     ┆     ┆ 134 │\n",
       "│     ┆     ┆     ┆     ┆     ┆     ┆     ┆     ┆     ┆     ┆     ┆     ┆     ┆     ┆     ┆     ┆     ┆     ┆     ┆     ┆     ┆     ┆     ┆     ┆     ┆     ┆     ┆     ┆     ┆     ┆     ┆     ┆     ┆     ┆     ┆     ┆     ┆     ┆     ┆     ┆     ┆     ┆     ┆     ┆     ┆     ┆     ┆     ┆     ┆     ┆     ┆ 534 │\n",
       "│     ┆     ┆     ┆     ┆     ┆     ┆     ┆     ┆     ┆     ┆     ┆     ┆     ┆     ┆     ┆     ┆     ┆     ┆     ┆     ┆     ┆     ┆     ┆     ┆     ┆     ┆     ┆     ┆     ┆     ┆     ┆     ┆     ┆     ┆     ┆     ┆     ┆     ┆     ┆     ┆     ┆     ┆     ┆     ┆     ┆     ┆     ┆     ┆     ┆     ┆     ┆ 344 │\n",
       "│     ┆     ┆     ┆     ┆     ┆     ┆     ┆     ┆     ┆     ┆     ┆     ┆     ┆     ┆     ┆     ┆     ┆     ┆     ┆     ┆     ┆     ┆     ┆     ┆     ┆     ┆     ┆     ┆     ┆     ┆     ┆     ┆     ┆     ┆     ┆     ┆     ┆     ┆     ┆     ┆     ┆     ┆     ┆     ┆     ┆     ┆     ┆     ┆     ┆     ┆     ┆ )   │\n",
       "│ 265 ┆ 10/ ┆ 10/ ┆ NYP ┆ New ┆ Noi ┆ Lou ┆ Str ┆ 112 ┆ DIT ┆ DIT ┆ nul ┆ nul ┆ nul ┆ nul ┆ LAT ┆ BRO ┆ nul ┆ Pre ┆ Clo ┆ 10/ ┆ 10/ ┆ 01  ┆ BRO ┆ 991 ┆ 171 ┆ Uns ┆ BRO ┆ Uns ┆ Uns ┆ Uns ┆ Uns ┆ Uns ┆ Uns ┆ Uns ┆ Uns ┆ Uns ┆ N   ┆ nul ┆ nul ┆ nul ┆ nul ┆ nul ┆ nul ┆ nul ┆ nul ┆ nul ┆ nul ┆ nul ┆ 40. ┆ -73 ┆ (40 │\n",
       "│ 919 ┆ 30/ ┆ 30/ ┆ D   ┆ Yor ┆ se  ┆ d   ┆ eet ┆ 18  ┆ MAS ┆ MAS ┆ l   ┆ l   ┆ l   ┆ l   ┆ LON ┆ OKL ┆ l   ┆ cin ┆ sed ┆ 31/ ┆ 30/ ┆ BRO ┆ OKL ┆ 895 ┆ 051 ┆ pec ┆ OKL ┆ pec ┆ pec ┆ pec ┆ pec ┆ pec ┆ pec ┆ pec ┆ pec ┆ pec ┆     ┆ l   ┆ l   ┆ l   ┆ l   ┆ l   ┆ l   ┆ l   ┆ l   ┆ l   ┆ l   ┆ l   ┆ 636 ┆ .97 ┆ .63 │\n",
       "│ 92  ┆ 201 ┆ 201 ┆     ┆ k   ┆ -   ┆ Tal ┆ /Si ┆     ┆ AVE ┆ AVE ┆     ┆     ┆     ┆     ┆ G   ┆ YN  ┆     ┆ ct  ┆     ┆ 201 ┆ 201 ┆ OKL ┆ YN  ┆     ┆     ┆ ifi ┆ YN  ┆ ifi ┆ ifi ┆ ifi ┆ ifi ┆ ifi ┆ ifi ┆ ifi ┆ ifi ┆ ifi ┆     ┆     ┆     ┆     ┆     ┆     ┆     ┆     ┆     ┆     ┆     ┆     ┆ 168 ┆ 245 ┆ 616 │\n",
       "│     ┆ 3   ┆ 3   ┆     ┆ Cit ┆ Str ┆ kin ┆ dew ┆     ┆ NUE ┆ NUE ┆     ┆     ┆     ┆     ┆     ┆     ┆     ┆     ┆     ┆ 3   ┆ 3   ┆ YN  ┆     ┆     ┆     ┆ ed  ┆     ┆ ed  ┆ ed  ┆ ed  ┆ ed  ┆ ed  ┆ ed  ┆ ed  ┆ ed  ┆ ed  ┆     ┆     ┆     ┆     ┆     ┆     ┆     ┆     ┆     ┆     ┆     ┆     ┆ 765 ┆ 504 ┆ 876 │\n",
       "│     ┆ 10: ┆ 10: ┆     ┆ y   ┆ eet ┆ g   ┆ alk ┆     ┆     ┆     ┆     ┆     ┆     ┆     ┆     ┆     ┆     ┆     ┆     ┆ 06: ┆ 10: ┆     ┆     ┆     ┆     ┆     ┆     ┆     ┆     ┆     ┆     ┆     ┆     ┆     ┆     ┆     ┆     ┆     ┆     ┆     ┆     ┆     ┆     ┆     ┆     ┆     ┆     ┆     ┆ 638 ┆ 682 ┆ 563 │\n",
       "│     ┆ 02: ┆ 23: ┆     ┆ Pol ┆ /Si ┆     ┆     ┆     ┆     ┆     ┆     ┆     ┆     ┆     ┆     ┆     ┆     ┆     ┆     ┆ 02: ┆ 23: ┆     ┆     ┆     ┆     ┆     ┆     ┆     ┆     ┆     ┆     ┆     ┆     ┆     ┆     ┆     ┆     ┆     ┆     ┆     ┆     ┆     ┆     ┆     ┆     ┆     ┆     ┆     ┆ 81  ┆ 485 ┆ 881 │\n",
       "│     ┆ 58  ┆ 20  ┆     ┆ ice ┆ dew ┆     ┆     ┆     ┆     ┆     ┆     ┆     ┆     ┆     ┆     ┆     ┆     ┆     ┆     ┆ 58  ┆ 20  ┆     ┆     ┆     ┆     ┆     ┆     ┆     ┆     ┆     ┆     ┆     ┆     ┆     ┆     ┆     ┆     ┆     ┆     ┆     ┆     ┆     ┆     ┆     ┆     ┆     ┆     ┆     ┆     ┆     ┆ ,   │\n",
       "│     ┆ PM  ┆ PM  ┆     ┆ Dep ┆ alk ┆     ┆     ┆     ┆     ┆     ┆     ┆     ┆     ┆     ┆     ┆     ┆     ┆     ┆     ┆ AM  ┆ PM  ┆     ┆     ┆     ┆     ┆     ┆     ┆     ┆     ┆     ┆     ┆     ┆     ┆     ┆     ┆     ┆     ┆     ┆     ┆     ┆     ┆     ┆     ┆     ┆     ┆     ┆     ┆     ┆     ┆     ┆ -73 │\n",
       "│     ┆     ┆     ┆     ┆ art ┆     ┆     ┆     ┆     ┆     ┆     ┆     ┆     ┆     ┆     ┆     ┆     ┆     ┆     ┆     ┆     ┆     ┆     ┆     ┆     ┆     ┆     ┆     ┆     ┆     ┆     ┆     ┆     ┆     ┆     ┆     ┆     ┆     ┆     ┆     ┆     ┆     ┆     ┆     ┆     ┆     ┆     ┆     ┆     ┆     ┆     ┆ .97 │\n",
       "│     ┆     ┆     ┆     ┆ men ┆     ┆     ┆     ┆     ┆     ┆     ┆     ┆     ┆     ┆     ┆     ┆     ┆     ┆     ┆     ┆     ┆     ┆     ┆     ┆     ┆     ┆     ┆     ┆     ┆     ┆     ┆     ┆     ┆     ┆     ┆     ┆     ┆     ┆     ┆     ┆     ┆     ┆     ┆     ┆     ┆     ┆     ┆     ┆     ┆     ┆     ┆ 245 │\n",
       "│     ┆     ┆     ┆     ┆ t   ┆     ┆     ┆     ┆     ┆     ┆     ┆     ┆     ┆     ┆     ┆     ┆     ┆     ┆     ┆     ┆     ┆     ┆     ┆     ┆     ┆     ┆     ┆     ┆     ┆     ┆     ┆     ┆     ┆     ┆     ┆     ┆     ┆     ┆     ┆     ┆     ┆     ┆     ┆     ┆     ┆     ┆     ┆     ┆     ┆     ┆     ┆ 504 │\n",
       "│     ┆     ┆     ┆     ┆     ┆     ┆     ┆     ┆     ┆     ┆     ┆     ┆     ┆     ┆     ┆     ┆     ┆     ┆     ┆     ┆     ┆     ┆     ┆     ┆     ┆     ┆     ┆     ┆     ┆     ┆     ┆     ┆     ┆     ┆     ┆     ┆     ┆     ┆     ┆     ┆     ┆     ┆     ┆     ┆     ┆     ┆     ┆     ┆     ┆     ┆     ┆ 682 │\n",
       "│     ┆     ┆     ┆     ┆     ┆     ┆     ┆     ┆     ┆     ┆     ┆     ┆     ┆     ┆     ┆     ┆     ┆     ┆     ┆     ┆     ┆     ┆     ┆     ┆     ┆     ┆     ┆     ┆     ┆     ┆     ┆     ┆     ┆     ┆     ┆     ┆     ┆     ┆     ┆     ┆     ┆     ┆     ┆     ┆     ┆     ┆     ┆     ┆     ┆     ┆     ┆ 485 │\n",
       "│     ┆     ┆     ┆     ┆     ┆     ┆     ┆     ┆     ┆     ┆     ┆     ┆     ┆     ┆     ┆     ┆     ┆     ┆     ┆     ┆     ┆     ┆     ┆     ┆     ┆     ┆     ┆     ┆     ┆     ┆     ┆     ┆     ┆     ┆     ┆     ┆     ┆     ┆     ┆     ┆     ┆     ┆     ┆     ┆     ┆     ┆     ┆     ┆     ┆     ┆     ┆ )   │\n",
       "│ 265 ┆ 10/ ┆ 10/ ┆ NYP ┆ New ┆ Noi ┆ Lou ┆ Str ┆ 112 ┆ 126 ┆ BEV ┆ CHU ┆ EAS ┆ nul ┆ nul ┆ ADD ┆ BRO ┆ nul ┆ Pre ┆ Clo ┆ 10/ ┆ 10/ ┆ 12  ┆ BRO ┆ 990 ┆ 173 ┆ Uns ┆ BRO ┆ Uns ┆ Uns ┆ Uns ┆ Uns ┆ Uns ┆ Uns ┆ Uns ┆ Uns ┆ Uns ┆ N   ┆ nul ┆ nul ┆ nul ┆ nul ┆ nul ┆ nul ┆ nul ┆ nul ┆ nul ┆ nul ┆ nul ┆ 40. ┆ -73 ┆ (40 │\n",
       "│ 941 ┆ 30/ ┆ 30/ ┆ D   ┆ Yor ┆ se  ┆ d   ┆ eet ┆ 18  ┆ BEV ┆ ERL ┆ RCH ┆ T 2 ┆ l   ┆ l   ┆ RES ┆ OKL ┆ l   ┆ cin ┆ sed ┆ 31/ ┆ 30/ ┆ BRO ┆ OKL ┆ 144 ┆ 511 ┆ pec ┆ OKL ┆ pec ┆ pec ┆ pec ┆ pec ┆ pec ┆ pec ┆ pec ┆ pec ┆ pec ┆     ┆ l   ┆ l   ┆ l   ┆ l   ┆ l   ┆ l   ┆ l   ┆ l   ┆ l   ┆ l   ┆ l   ┆ 642 ┆ .97 ┆ .64 │\n",
       "│ 67  ┆ 201 ┆ 201 ┆     ┆ k   ┆ -   ┆ Mus ┆ /Si ┆     ┆ ERL ┆ Y   ┆ AVE ┆ STR ┆     ┆     ┆ S   ┆ YN  ┆     ┆ ct  ┆     ┆ 201 ┆ 201 ┆ OKL ┆ YN  ┆     ┆     ┆ ifi ┆ YN  ┆ ifi ┆ ifi ┆ ifi ┆ ifi ┆ ifi ┆ ifi ┆ ifi ┆ ifi ┆ ifi ┆     ┆     ┆     ┆     ┆     ┆     ┆     ┆     ┆     ┆     ┆     ┆     ┆ 922 ┆ 876 ┆ 292 │\n",
       "│     ┆ 3   ┆ 3   ┆     ┆ Cit ┆ Str ┆ ic/ ┆ dew ┆     ┆ Y   ┆ ROA ┆ NUE ┆ EET ┆     ┆     ┆     ┆     ┆     ┆     ┆     ┆ 3   ┆ 3   ┆ YN  ┆     ┆     ┆     ┆ ed  ┆     ┆ ed  ┆ ed  ┆ ed  ┆ ed  ┆ ed  ┆ ed  ┆ ed  ┆ ed  ┆ ed  ┆     ┆     ┆     ┆     ┆     ┆     ┆     ┆     ┆     ┆     ┆     ┆     ┆ 277 ┆ 175 ┆ 227 │\n",
       "│     ┆ 08: ┆ 10: ┆     ┆ y   ┆ eet ┆ Par ┆ alk ┆     ┆ ROA ┆ D   ┆     ┆     ┆     ┆     ┆     ┆     ┆     ┆     ┆     ┆ 04: ┆ 10: ┆     ┆     ┆     ┆     ┆     ┆     ┆     ┆     ┆     ┆     ┆     ┆     ┆     ┆     ┆     ┆     ┆     ┆     ┆     ┆     ┆     ┆     ┆     ┆     ┆     ┆     ┆     ┆ 440 ┆ 474 ┆ 744 │\n",
       "│     ┆ 38: ┆ 26: ┆     ┆ Pol ┆ /Si ┆ ty  ┆     ┆     ┆ D   ┆     ┆     ┆     ┆     ┆     ┆     ┆     ┆     ┆     ┆     ┆ 38: ┆ 26: ┆     ┆     ┆     ┆     ┆     ┆     ┆     ┆     ┆     ┆     ┆     ┆     ┆     ┆     ┆     ┆     ┆     ┆     ┆     ┆     ┆     ┆     ┆     ┆     ┆     ┆     ┆     ┆ 4   ┆ 585 ┆ 04, │\n",
       "│     ┆ 25  ┆ 28  ┆     ┆ ice ┆ dew ┆     ┆     ┆     ┆     ┆     ┆     ┆     ┆     ┆     ┆     ┆     ┆     ┆     ┆     ┆ 25  ┆ 28  ┆     ┆     ┆     ┆     ┆     ┆     ┆     ┆     ┆     ┆     ┆     ┆     ┆     ┆     ┆     ┆     ┆     ┆     ┆     ┆     ┆     ┆     ┆     ┆     ┆     ┆     ┆     ┆     ┆     ┆ -73 │\n",
       "│     ┆ PM  ┆ PM  ┆     ┆ Dep ┆ alk ┆     ┆     ┆     ┆     ┆     ┆     ┆     ┆     ┆     ┆     ┆     ┆     ┆     ┆     ┆ AM  ┆ PM  ┆     ┆     ┆     ┆     ┆     ┆     ┆     ┆     ┆     ┆     ┆     ┆     ┆     ┆     ┆     ┆     ┆     ┆     ┆     ┆     ┆     ┆     ┆     ┆     ┆     ┆     ┆     ┆     ┆     ┆ .97 │\n",
       "│     ┆     ┆     ┆     ┆ art ┆     ┆     ┆     ┆     ┆     ┆     ┆     ┆     ┆     ┆     ┆     ┆     ┆     ┆     ┆     ┆     ┆     ┆     ┆     ┆     ┆     ┆     ┆     ┆     ┆     ┆     ┆     ┆     ┆     ┆     ┆     ┆     ┆     ┆     ┆     ┆     ┆     ┆     ┆     ┆     ┆     ┆     ┆     ┆     ┆     ┆     ┆ 876 │\n",
       "│     ┆     ┆     ┆     ┆ men ┆     ┆     ┆     ┆     ┆     ┆     ┆     ┆     ┆     ┆     ┆     ┆     ┆     ┆     ┆     ┆     ┆     ┆     ┆     ┆     ┆     ┆     ┆     ┆     ┆     ┆     ┆     ┆     ┆     ┆     ┆     ┆     ┆     ┆     ┆     ┆     ┆     ┆     ┆     ┆     ┆     ┆     ┆     ┆     ┆     ┆     ┆ 175 │\n",
       "│     ┆     ┆     ┆     ┆ t   ┆     ┆     ┆     ┆     ┆     ┆     ┆     ┆     ┆     ┆     ┆     ┆     ┆     ┆     ┆     ┆     ┆     ┆     ┆     ┆     ┆     ┆     ┆     ┆     ┆     ┆     ┆     ┆     ┆     ┆     ┆     ┆     ┆     ┆     ┆     ┆     ┆     ┆     ┆     ┆     ┆     ┆     ┆     ┆     ┆     ┆     ┆ 474 │\n",
       "│     ┆     ┆     ┆     ┆     ┆     ┆     ┆     ┆     ┆     ┆     ┆     ┆     ┆     ┆     ┆     ┆     ┆     ┆     ┆     ┆     ┆     ┆     ┆     ┆     ┆     ┆     ┆     ┆     ┆     ┆     ┆     ┆     ┆     ┆     ┆     ┆     ┆     ┆     ┆     ┆     ┆     ┆     ┆     ┆     ┆     ┆     ┆     ┆     ┆     ┆     ┆ 585 │\n",
       "│     ┆     ┆     ┆     ┆     ┆     ┆     ┆     ┆     ┆     ┆     ┆     ┆     ┆     ┆     ┆     ┆     ┆     ┆     ┆     ┆     ┆     ┆     ┆     ┆     ┆     ┆     ┆     ┆     ┆     ┆     ┆     ┆     ┆     ┆     ┆     ┆     ┆     ┆     ┆     ┆     ┆     ┆     ┆     ┆     ┆     ┆     ┆     ┆     ┆     ┆     ┆ )   │\n",
       "└─────┴─────┴─────┴─────┴─────┴─────┴─────┴─────┴─────┴─────┴─────┴─────┴─────┴─────┴─────┴─────┴─────┴─────┴─────┴─────┴─────┴─────┴─────┴─────┴─────┴─────┴─────┴─────┴─────┴─────┴─────┴─────┴─────┴─────┴─────┴─────┴─────┴─────┴─────┴─────┴─────┴─────┴─────┴─────┴─────┴─────┴─────┴─────┴─────┴─────┴─────┴─────┘"
      ]
     },
     "execution_count": 8,
     "metadata": {},
     "output_type": "execute_result"
    }
   ],
   "source": [
    "is_noise = complaints['Complaint Type'] == \"Noise - Street/Sidewalk\"\n",
    "in_brooklyn = complaints['Borough'] == \"BROOKLYN\"\n",
    "filtered_complaints = complaints.filter(is_noise & in_brooklyn)\n",
    "filtered_complaints[:5]"
   ]
  },
  {
   "cell_type": "markdown",
   "metadata": {},
   "source": [
    "Or if we just wanted a few columns:"
   ]
  },
  {
   "cell_type": "code",
   "execution_count": 9,
   "metadata": {},
   "outputs": [
    {
     "data": {
      "text/html": [
       "<div><style>\n",
       ".dataframe > thead > tr,\n",
       ".dataframe > tbody > tr {\n",
       "  text-align: right;\n",
       "  white-space: pre-wrap;\n",
       "}\n",
       "</style>\n",
       "<small>shape: (10, 4)</small><table border=\"1\" class=\"dataframe\"><thead><tr><th>Complaint Type</th><th>Borough</th><th>Created Date</th><th>Descriptor</th></tr><tr><td>str</td><td>str</td><td>str</td><td>str</td></tr></thead><tbody><tr><td>&quot;Noise - Street/Sidewalk&quot;</td><td>&quot;BROOKLYN&quot;</td><td>&quot;10/31/2013 12:30:36 AM&quot;</td><td>&quot;Loud Music/Party&quot;</td></tr><tr><td>&quot;Noise - Street/Sidewalk&quot;</td><td>&quot;BROOKLYN&quot;</td><td>&quot;10/31/2013 12:05:10 AM&quot;</td><td>&quot;Loud Talking&quot;</td></tr><tr><td>&quot;Noise - Street/Sidewalk&quot;</td><td>&quot;BROOKLYN&quot;</td><td>&quot;10/30/2013 11:26:32 PM&quot;</td><td>&quot;Loud Music/Party&quot;</td></tr><tr><td>&quot;Noise - Street/Sidewalk&quot;</td><td>&quot;BROOKLYN&quot;</td><td>&quot;10/30/2013 10:02:58 PM&quot;</td><td>&quot;Loud Talking&quot;</td></tr><tr><td>&quot;Noise - Street/Sidewalk&quot;</td><td>&quot;BROOKLYN&quot;</td><td>&quot;10/30/2013 08:38:25 PM&quot;</td><td>&quot;Loud Music/Party&quot;</td></tr><tr><td>&quot;Noise - Street/Sidewalk&quot;</td><td>&quot;BROOKLYN&quot;</td><td>&quot;10/30/2013 08:32:13 PM&quot;</td><td>&quot;Loud Talking&quot;</td></tr><tr><td>&quot;Noise - Street/Sidewalk&quot;</td><td>&quot;BROOKLYN&quot;</td><td>&quot;10/30/2013 06:07:39 PM&quot;</td><td>&quot;Loud Music/Party&quot;</td></tr><tr><td>&quot;Noise - Street/Sidewalk&quot;</td><td>&quot;BROOKLYN&quot;</td><td>&quot;10/30/2013 03:04:51 PM&quot;</td><td>&quot;Loud Talking&quot;</td></tr><tr><td>&quot;Noise - Street/Sidewalk&quot;</td><td>&quot;BROOKLYN&quot;</td><td>&quot;10/29/2013 10:07:02 PM&quot;</td><td>&quot;Loud Talking&quot;</td></tr><tr><td>&quot;Noise - Street/Sidewalk&quot;</td><td>&quot;BROOKLYN&quot;</td><td>&quot;10/29/2013 08:15:59 PM&quot;</td><td>&quot;Loud Music/Party&quot;</td></tr></tbody></table></div>"
      ],
      "text/plain": [
       "shape: (10, 4)\n",
       "┌─────────────────────────┬──────────┬────────────────────────┬──────────────────┐\n",
       "│ Complaint Type          ┆ Borough  ┆ Created Date           ┆ Descriptor       │\n",
       "│ ---                     ┆ ---      ┆ ---                    ┆ ---              │\n",
       "│ str                     ┆ str      ┆ str                    ┆ str              │\n",
       "╞═════════════════════════╪══════════╪════════════════════════╪══════════════════╡\n",
       "│ Noise - Street/Sidewalk ┆ BROOKLYN ┆ 10/31/2013 12:30:36 AM ┆ Loud Music/Party │\n",
       "│ Noise - Street/Sidewalk ┆ BROOKLYN ┆ 10/31/2013 12:05:10 AM ┆ Loud Talking     │\n",
       "│ Noise - Street/Sidewalk ┆ BROOKLYN ┆ 10/30/2013 11:26:32 PM ┆ Loud Music/Party │\n",
       "│ Noise - Street/Sidewalk ┆ BROOKLYN ┆ 10/30/2013 10:02:58 PM ┆ Loud Talking     │\n",
       "│ Noise - Street/Sidewalk ┆ BROOKLYN ┆ 10/30/2013 08:38:25 PM ┆ Loud Music/Party │\n",
       "│ Noise - Street/Sidewalk ┆ BROOKLYN ┆ 10/30/2013 08:32:13 PM ┆ Loud Talking     │\n",
       "│ Noise - Street/Sidewalk ┆ BROOKLYN ┆ 10/30/2013 06:07:39 PM ┆ Loud Music/Party │\n",
       "│ Noise - Street/Sidewalk ┆ BROOKLYN ┆ 10/30/2013 03:04:51 PM ┆ Loud Talking     │\n",
       "│ Noise - Street/Sidewalk ┆ BROOKLYN ┆ 10/29/2013 10:07:02 PM ┆ Loud Talking     │\n",
       "│ Noise - Street/Sidewalk ┆ BROOKLYN ┆ 10/29/2013 08:15:59 PM ┆ Loud Music/Party │\n",
       "└─────────────────────────┴──────────┴────────────────────────┴──────────────────┘"
      ]
     },
     "execution_count": 9,
     "metadata": {},
     "output_type": "execute_result"
    }
   ],
   "source": [
    "filtered_complaints[['Complaint Type', 'Borough', 'Created Date', 'Descriptor']][:10]"
   ]
  },
  {
   "cell_type": "markdown",
   "metadata": {},
   "source": [
    "# 3.2 A digression about numpy arrays"
   ]
  },
  {
   "cell_type": "markdown",
   "metadata": {},
   "source": [
    "On the inside, the type of a column is `pl.Series`"
   ]
  },
  {
   "cell_type": "code",
   "execution_count": 10,
   "metadata": {},
   "outputs": [
    {
     "data": {
      "text/html": [
       "<div><style>\n",
       ".dataframe > thead > tr,\n",
       ".dataframe > tbody > tr {\n",
       "  text-align: right;\n",
       "  white-space: pre-wrap;\n",
       "}\n",
       "</style>\n",
       "<small>shape: (3,)</small><table border=\"1\" class=\"dataframe\"><thead><tr><th></th></tr><tr><td>i64</td></tr></thead><tbody><tr><td>1</td></tr><tr><td>2</td></tr><tr><td>3</td></tr></tbody></table></div>"
      ],
      "text/plain": [
       "shape: (3,)\n",
       "Series: '' [i64]\n",
       "[\n",
       "\t1\n",
       "\t2\n",
       "\t3\n",
       "]"
      ]
     },
     "execution_count": 10,
     "metadata": {},
     "output_type": "execute_result"
    }
   ],
   "source": [
    "pl.Series([1,2,3])"
   ]
  },
  {
   "cell_type": "markdown",
   "metadata": {},
   "source": [
    "unlike Pandas, they are not numpy arrays, yuou have to convert if you want np"
   ]
  },
  {
   "cell_type": "code",
   "execution_count": 11,
   "metadata": {},
   "outputs": [
    {
     "data": {
      "text/plain": [
       "array([1, 2, 3])"
      ]
     },
     "execution_count": 11,
     "metadata": {},
     "output_type": "execute_result"
    }
   ],
   "source": [
    "np.array([1,2,3])"
   ]
  },
  {
   "cell_type": "code",
   "execution_count": 14,
   "metadata": {},
   "outputs": [
    {
     "data": {
      "text/plain": [
       "array([1, 2, 3])"
      ]
     },
     "execution_count": 14,
     "metadata": {},
     "output_type": "execute_result"
    }
   ],
   "source": [
    "pl.Series([1,2,3]).to_numpy()"
   ]
  },
  {
   "cell_type": "markdown",
   "metadata": {},
   "source": [
    "So this binary-array-selection business is actually something that works with any numpy array:"
   ]
  },
  {
   "cell_type": "code",
   "execution_count": 15,
   "metadata": {},
   "outputs": [],
   "source": [
    "arr = np.array([1,2,3])"
   ]
  },
  {
   "cell_type": "code",
   "execution_count": 16,
   "metadata": {},
   "outputs": [
    {
     "data": {
      "text/plain": [
       "array([ True, False,  True])"
      ]
     },
     "execution_count": 16,
     "metadata": {},
     "output_type": "execute_result"
    }
   ],
   "source": [
    "arr != 2"
   ]
  },
  {
   "cell_type": "code",
   "execution_count": 17,
   "metadata": {},
   "outputs": [
    {
     "data": {
      "text/plain": [
       "array([1, 3])"
      ]
     },
     "execution_count": 17,
     "metadata": {},
     "output_type": "execute_result"
    }
   ],
   "source": [
    "arr[arr != 2]"
   ]
  },
  {
   "cell_type": "markdown",
   "metadata": {},
   "source": [
    "# 3.3 So, which borough has the most noise complaints?"
   ]
  },
  {
   "cell_type": "code",
   "execution_count": 20,
   "metadata": {},
   "outputs": [
    {
     "data": {
      "text/html": [
       "<div><style>\n",
       ".dataframe > thead > tr,\n",
       ".dataframe > tbody > tr {\n",
       "  text-align: right;\n",
       "  white-space: pre-wrap;\n",
       "}\n",
       "</style>\n",
       "<small>shape: (6, 2)</small><table border=\"1\" class=\"dataframe\"><thead><tr><th>Borough</th><th>count</th></tr><tr><td>str</td><td>u32</td></tr></thead><tbody><tr><td>&quot;MANHATTAN&quot;</td><td>917</td></tr><tr><td>&quot;BROOKLYN&quot;</td><td>456</td></tr><tr><td>&quot;BRONX&quot;</td><td>292</td></tr><tr><td>&quot;QUEENS&quot;</td><td>226</td></tr><tr><td>&quot;STATEN ISLAND&quot;</td><td>36</td></tr><tr><td>&quot;Unspecified&quot;</td><td>1</td></tr></tbody></table></div>"
      ],
      "text/plain": [
       "shape: (6, 2)\n",
       "┌───────────────┬───────┐\n",
       "│ Borough       ┆ count │\n",
       "│ ---           ┆ ---   │\n",
       "│ str           ┆ u32   │\n",
       "╞═══════════════╪═══════╡\n",
       "│ MANHATTAN     ┆ 917   │\n",
       "│ BROOKLYN      ┆ 456   │\n",
       "│ BRONX         ┆ 292   │\n",
       "│ QUEENS        ┆ 226   │\n",
       "│ STATEN ISLAND ┆ 36    │\n",
       "│ Unspecified   ┆ 1     │\n",
       "└───────────────┴───────┘"
      ]
     },
     "execution_count": 20,
     "metadata": {},
     "output_type": "execute_result"
    }
   ],
   "source": [
    "is_noise = complaints['Complaint Type'] == \"Noise - Street/Sidewalk\"\n",
    "noise_complaints = complaints.filter(is_noise)\n",
    "noise_complaints['Borough'].value_counts(sort=True)"
   ]
  },
  {
   "cell_type": "markdown",
   "metadata": {},
   "source": [
    "It's Manhattan! But what if we wanted to divide by the total number of complaints, to make it make a bit more sense? That would be easy too:"
   ]
  },
  {
   "cell_type": "code",
   "execution_count": 28,
   "metadata": {},
   "outputs": [],
   "source": [
    "noise_complaint_counts = noise_complaints['Borough'].value_counts()\n",
    "complaint_counts = complaints['Borough'].value_counts()"
   ]
  },
  {
   "cell_type": "code",
   "execution_count": null,
   "metadata": {},
   "outputs": [
    {
     "data": {
      "text/html": [
       "<div><style>\n",
       ".dataframe > thead > tr,\n",
       ".dataframe > tbody > tr {\n",
       "  text-align: right;\n",
       "  white-space: pre-wrap;\n",
       "}\n",
       "</style>\n",
       "<small>shape: (6, 2)</small><table border=\"1\" class=\"dataframe\"><thead><tr><th>Borough</th><th>ratio</th></tr><tr><td>str</td><td>f64</td></tr></thead><tbody><tr><td>&quot;MANHATTAN&quot;</td><td>0.037755</td></tr><tr><td>&quot;BROOKLYN&quot;</td><td>0.013864</td></tr><tr><td>&quot;Unspecified&quot;</td><td>0.000141</td></tr><tr><td>&quot;QUEENS&quot;</td><td>0.010143</td></tr><tr><td>&quot;STATEN ISLAND&quot;</td><td>0.007474</td></tr><tr><td>&quot;BRONX&quot;</td><td>0.014833</td></tr></tbody></table></div>"
      ],
      "text/plain": [
       "shape: (6, 2)\n",
       "┌───────────────┬──────────┐\n",
       "│ Borough       ┆ ratio    │\n",
       "│ ---           ┆ ---      │\n",
       "│ str           ┆ f64      │\n",
       "╞═══════════════╪══════════╡\n",
       "│ MANHATTAN     ┆ 0.037755 │\n",
       "│ BROOKLYN      ┆ 0.013864 │\n",
       "│ Unspecified   ┆ 0.000141 │\n",
       "│ QUEENS        ┆ 0.010143 │\n",
       "│ STATEN ISLAND ┆ 0.007474 │\n",
       "│ BRONX         ┆ 0.014833 │\n",
       "└───────────────┴──────────┘"
      ]
     },
     "execution_count": 34,
     "metadata": {},
     "output_type": "execute_result"
    }
   ],
   "source": [
    "df1 = pl.DataFrame(noise_complaint_counts)\n",
    "df2 = pl.DataFrame(complaint_counts)\n",
    "df1 = df1.rename({\"count\": \"counts1\"})\n",
    "df2 = df2.rename({\"count\": \"counts2\"})\n",
    "merged_df = df1.join(df2, on=\"Borough\")\n",
    "merged_df = merged_df.with_columns((pl.col(\"counts1\") / pl.col(\"counts2\")).alias(\"ratio\"))\n",
    "merged_df[\"Borough\", \"ratio\"]\n"
   ]
  },
  {
   "cell_type": "code",
   "execution_count": 37,
   "metadata": {},
   "outputs": [
    {
     "data": {
      "image/png": "[encoded data removed]",
      "text/plain": [
       "<Figure size 1500x500 with 1 Axes>"
      ]
     },
     "metadata": {},
     "output_type": "display_data"
    }
   ],
   "source": [
    "borough_ratio=merged_df[\"Borough\", \"ratio\"].to_pandas()\n",
    "borough_ratio.plot(kind='bar', x='Borough')\n",
    "plt.show()\n"
   ]
  },
  {
   "cell_type": "markdown",
   "metadata": {},
   "source": [
    "So Manhattan really does complain more about noise than the other boroughs! Neat."
   ]
  },
  {
   "cell_type": "markdown",
   "metadata": {},
   "source": [
    "<style>\n",
    "    @font-face {\n",
    "        font-family: \"Computer Modern\";\n",
    "        src: url('http://mirrors.ctan.org/fonts/cm-unicode/fonts/otf/cmunss.otf');\n",
    "    }\n",
    "    div.cell{\n",
    "        width:800px;\n",
    "        margin-left:16% !important;\n",
    "        margin-right:auto;\n",
    "    }\n",
    "    h1 {\n",
    "        font-family: Helvetica, serif;\n",
    "    }\n",
    "    h4{\n",
    "        margin-top:12px;\n",
    "        margin-bottom: 3px;\n",
    "       }\n",
    "    div.text_cell_render{\n",
    "        font-family: Computer Modern, \"Helvetica Neue\", Arial, Helvetica, Geneva, sans-serif;\n",
    "        line-height: 145%;\n",
    "        font-size: 130%;\n",
    "        width:800px;\n",
    "        margin-left:auto;\n",
    "        margin-right:auto;\n",
    "    }\n",
    "    .CodeMirror{\n",
    "            font-family: \"Source Code Pro\", source-code-pro,Consolas, monospace;\n",
    "    }\n",
    "    .text_cell_render h5 {\n",
    "        font-weight: 300;\n",
    "        font-size: 22pt;\n",
    "        color: #4057A1;\n",
    "        font-style: italic;\n",
    "        margin-bottom: .5em;\n",
    "        margin-top: 0.5em;\n",
    "        display: block;\n",
    "    }\n",
    "    \n",
    "    .warning{\n",
    "        color: rgb( 240, 20, 20 )\n",
    "        }  "
   ]
  }
 ],
 "metadata": {
  "kernelspec": {
   "display_name": "venv",
   "language": "python",
   "name": "python3"
  },
  "language_info": {
   "codemirror_mode": {
    "name": "ipython",
    "version": 3
   },
   "file_extension": ".py",
   "mimetype": "text/x-python",
   "name": "python",
   "nbconvert_exporter": "python",
   "pygments_lexer": "ipython3",
   "version": "3.11.1"
  },
  "widgets": {
   "application/vnd.jupyter.widget-state+json": {
    "state": {},
    "version_major": 2,
    "version_minor": 0
   }
  }
 },
 "nbformat": 4,
 "nbformat_minor": 4
}
