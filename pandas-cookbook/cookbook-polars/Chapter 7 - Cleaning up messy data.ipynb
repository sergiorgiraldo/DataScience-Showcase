{
 "cells": [
  {
   "cell_type": "code",
   "execution_count": 1,
   "metadata": {},
   "outputs": [],
   "source": [
    "# The usual preamble\n",
    "%matplotlib inline\n",
    "import polars as pl\n",
    "import matplotlib.pyplot as plt\n",
    "\n",
    "# Make the graphs a bit prettier, and bigger\n",
    "plt.style.use('ggplot')\n",
    "\n",
    "pl.Config.set_tbl_cols(60)\n",
    "pl.Config.set_fmt_str_lengths(5000)\n",
    "\n",
    "plt.rcParams['figure.figsize'] = (15, 5)"
   ]
  },
  {
   "cell_type": "markdown",
   "metadata": {},
   "source": [
    "One of the main problems with messy data is: how do you know if it's messy or not?\n",
    "\n",
    "We're going to use the NYC 311 service request dataset again here, since it's big and a bit unwieldy."
   ]
  },
  {
   "cell_type": "code",
   "execution_count": 3,
   "metadata": {},
   "outputs": [],
   "source": [
    "requests = pl.read_csv('./data/311-service-requests.csv', infer_schema_length=0, schema_overrides=[pl.Utf8])"
   ]
  },
  {
   "cell_type": "markdown",
   "metadata": {},
   "source": [
    "# 7.1 How do we know if it's messy? "
   ]
  },
  {
   "cell_type": "markdown",
   "metadata": {},
   "source": [
    "We're going to look at a few columns here. I know already that there are some problems with the zip code, so let's look at that first.\n",
    " \n",
    "To get a sense for whether a column has problems, I usually use `.unique()` to look at all its values. If it's a numeric column, I'll instead plot a histogram to get a sense of the distribution.\n",
    "\n",
    "When we look at the unique values in \"Incident Zip\", it quickly becomes clear that this is a mess.\n",
    "\n",
    "Some of the problems:\n",
    "\n",
    "* Some have been parsed as strings, and some as floats\n",
    "* There are `nan`s \n",
    "* Some of the zip codes are `29616-0759` or `83`\n",
    "* There are some N/A values that pandas didn't recognize, like 'N/A' and 'NO CLUE'\n",
    "\n",
    "What we can do:\n",
    "\n",
    "* Normalize 'N/A' and 'NO CLUE' into regular nan values\n",
    "* Look at what's up with the 83, and decide what to do\n",
    "* Make everything strings"
   ]
  },
  {
   "cell_type": "code",
   "execution_count": 4,
   "metadata": {},
   "outputs": [
    {
     "data": {
      "text/html": [
       "<div><style>\n",
       ".dataframe > thead > tr,\n",
       ".dataframe > tbody > tr {\n",
       "  text-align: right;\n",
       "  white-space: pre-wrap;\n",
       "}\n",
       "</style>\n",
       "<small>shape: (251,)</small><table border=\"1\" class=\"dataframe\"><thead><tr><th>Incident Zip</th></tr><tr><td>str</td></tr></thead><tbody><tr><td>&quot;11417&quot;</td></tr><tr><td>&quot;11109&quot;</td></tr><tr><td>&quot;10455&quot;</td></tr><tr><td>&quot;02061&quot;</td></tr><tr><td>&quot;11205&quot;</td></tr><tr><td>&hellip;</td></tr><tr><td>&quot;11104&quot;</td></tr><tr><td>&quot;10452&quot;</td></tr><tr><td>&quot;77092-2016&quot;</td></tr><tr><td>&quot;11221&quot;</td></tr><tr><td>&quot;07109&quot;</td></tr></tbody></table></div>"
      ],
      "text/plain": [
       "shape: (251,)\n",
       "Series: 'Incident Zip' [str]\n",
       "[\n",
       "\t\"11417\"\n",
       "\t\"11109\"\n",
       "\t\"10455\"\n",
       "\t\"02061\"\n",
       "\t\"11205\"\n",
       "\t…\n",
       "\t\"11104\"\n",
       "\t\"10452\"\n",
       "\t\"77092-2016\"\n",
       "\t\"11221\"\n",
       "\t\"07109\"\n",
       "]"
      ]
     },
     "execution_count": 4,
     "metadata": {},
     "output_type": "execute_result"
    }
   ],
   "source": [
    "requests['Incident Zip'].unique()"
   ]
  },
  {
   "cell_type": "markdown",
   "metadata": {},
   "source": [
    "# 7.2 Fixing the nan values and string/float confusion"
   ]
  },
  {
   "cell_type": "markdown",
   "metadata": {},
   "source": [
    "We can pass a `na_values` option to `pd.read_csv` to clean this up a little bit. We can also specify that the type of Incident Zip is a string, not a float."
   ]
  },
  {
   "cell_type": "code",
   "execution_count": 8,
   "metadata": {},
   "outputs": [],
   "source": [
    "na_values = ['NO CLUE', 'N/A', '0']\n",
    "requests = pl.read_csv(\n",
    "    './data/311-service-requests.csv',\n",
    "    null_values=na_values,\n",
    "    schema_overrides={'Incident Zip': pl.Utf8}  \n",
    ")"
   ]
  },
  {
   "cell_type": "code",
   "execution_count": 6,
   "metadata": {},
   "outputs": [
    {
     "data": {
      "text/html": [
       "<div><style>\n",
       ".dataframe > thead > tr,\n",
       ".dataframe > tbody > tr {\n",
       "  text-align: right;\n",
       "  white-space: pre-wrap;\n",
       "}\n",
       "</style>\n",
       "<small>shape: (249,)</small><table border=\"1\" class=\"dataframe\"><thead><tr><th>Incident Zip</th></tr><tr><td>str</td></tr></thead><tbody><tr><td>&quot;10282&quot;</td></tr><tr><td>&quot;11590&quot;</td></tr><tr><td>&quot;10281&quot;</td></tr><tr><td>&quot;02061&quot;</td></tr><tr><td>&quot;11412&quot;</td></tr><tr><td>&hellip;</td></tr><tr><td>&quot;10036&quot;</td></tr><tr><td>&quot;10019&quot;</td></tr><tr><td>&quot;10035&quot;</td></tr><tr><td>&quot;NA&quot;</td></tr><tr><td>&quot;07208&quot;</td></tr></tbody></table></div>"
      ],
      "text/plain": [
       "shape: (249,)\n",
       "Series: 'Incident Zip' [str]\n",
       "[\n",
       "\t\"10282\"\n",
       "\t\"11590\"\n",
       "\t\"10281\"\n",
       "\t\"02061\"\n",
       "\t\"11412\"\n",
       "\t…\n",
       "\t\"10036\"\n",
       "\t\"10019\"\n",
       "\t\"10035\"\n",
       "\t\"NA\"\n",
       "\t\"07208\"\n",
       "]"
      ]
     },
     "execution_count": 6,
     "metadata": {},
     "output_type": "execute_result"
    }
   ],
   "source": [
    "requests['Incident Zip'].unique()"
   ]
  },
  {
   "cell_type": "markdown",
   "metadata": {},
   "source": [
    "# 7.3 What's up with the dashes?"
   ]
  },
  {
   "cell_type": "code",
   "execution_count": 10,
   "metadata": {},
   "outputs": [
    {
     "data": {
      "text/plain": [
       "5"
      ]
     },
     "execution_count": 10,
     "metadata": {},
     "output_type": "execute_result"
    }
   ],
   "source": [
    "rows_with_dashes = (requests\n",
    "    .select(pl.col('Incident Zip').str.contains('-').fill_null(False))\n",
    "    .to_series()\n",
    ")\n",
    "\n",
    "result = len(requests.filter(rows_with_dashes))\n",
    "result"
   ]
  },
  {
   "cell_type": "code",
   "execution_count": 12,
   "metadata": {},
   "outputs": [
    {
     "data": {
      "text/html": [
       "<div><style>\n",
       ".dataframe > thead > tr,\n",
       ".dataframe > tbody > tr {\n",
       "  text-align: right;\n",
       "  white-space: pre-wrap;\n",
       "}\n",
       "</style>\n",
       "<small>shape: (5, 52)</small><table border=\"1\" class=\"dataframe\"><thead><tr><th>Unique Key</th><th>Created Date</th><th>Closed Date</th><th>Agency</th><th>Agency Name</th><th>Complaint Type</th><th>Descriptor</th><th>Location Type</th><th>Incident Zip</th><th>Incident Address</th><th>Street Name</th><th>Cross Street 1</th><th>Cross Street 2</th><th>Intersection Street 1</th><th>Intersection Street 2</th><th>Address Type</th><th>City</th><th>Landmark</th><th>Facility Type</th><th>Status</th><th>Due Date</th><th>Resolution Action Updated Date</th><th>Community Board</th><th>Borough</th><th>X Coordinate (State Plane)</th><th>Y Coordinate (State Plane)</th><th>Park Facility Name</th><th>Park Borough</th><th>School Name</th><th>School Number</th><th>School Region</th><th>School Code</th><th>School Phone Number</th><th>School Address</th><th>School City</th><th>School State</th><th>School Zip</th><th>School Not Found</th><th>School or Citywide Complaint</th><th>Vehicle Type</th><th>Taxi Company Borough</th><th>Taxi Pick Up Location</th><th>Bridge Highway Name</th><th>Bridge Highway Direction</th><th>Road Ramp</th><th>Bridge Highway Segment</th><th>Garage Lot Name</th><th>Ferry Direction</th><th>Ferry Terminal Name</th><th>Latitude</th><th>Longitude</th><th>Location</th></tr><tr><td>i64</td><td>str</td><td>str</td><td>str</td><td>str</td><td>str</td><td>str</td><td>str</td><td>str</td><td>str</td><td>str</td><td>str</td><td>str</td><td>str</td><td>str</td><td>str</td><td>str</td><td>str</td><td>str</td><td>str</td><td>str</td><td>str</td><td>str</td><td>str</td><td>i64</td><td>i64</td><td>str</td><td>str</td><td>str</td><td>str</td><td>str</td><td>str</td><td>str</td><td>str</td><td>str</td><td>str</td><td>str</td><td>str</td><td>str</td><td>str</td><td>str</td><td>str</td><td>str</td><td>str</td><td>str</td><td>str</td><td>str</td><td>str</td><td>str</td><td>f64</td><td>f64</td><td>str</td></tr></thead><tbody><tr><td>26550551</td><td>&quot;10/24/2013 06:16:34 PM&quot;</td><td>null</td><td>&quot;DCA&quot;</td><td>&quot;Department of Consumer Affairs&quot;</td><td>&quot;Consumer Complaint&quot;</td><td>&quot;False Advertising&quot;</td><td>null</td><td>&quot;77092-2016&quot;</td><td>&quot;2700 EAST SELTICE WAY&quot;</td><td>&quot;EAST SELTICE WAY&quot;</td><td>null</td><td>null</td><td>null</td><td>null</td><td>null</td><td>&quot;HOUSTON&quot;</td><td>null</td><td>null</td><td>&quot;Assigned&quot;</td><td>&quot;11/13/2013 11:15:20 AM&quot;</td><td>&quot;10/29/2013 11:16:16 AM&quot;</td><td>&quot;0 Unspecified&quot;</td><td>&quot;Unspecified&quot;</td><td>null</td><td>null</td><td>&quot;Unspecified&quot;</td><td>&quot;Unspecified&quot;</td><td>&quot;Unspecified&quot;</td><td>&quot;Unspecified&quot;</td><td>&quot;Unspecified&quot;</td><td>&quot;Unspecified&quot;</td><td>&quot;Unspecified&quot;</td><td>&quot;Unspecified&quot;</td><td>&quot;Unspecified&quot;</td><td>&quot;Unspecified&quot;</td><td>&quot;Unspecified&quot;</td><td>&quot;N&quot;</td><td>null</td><td>null</td><td>null</td><td>null</td><td>null</td><td>null</td><td>null</td><td>null</td><td>null</td><td>null</td><td>null</td><td>null</td><td>null</td><td>null</td></tr><tr><td>26548831</td><td>&quot;10/24/2013 09:35:10 AM&quot;</td><td>null</td><td>&quot;DCA&quot;</td><td>&quot;Department of Consumer Affairs&quot;</td><td>&quot;Consumer Complaint&quot;</td><td>&quot;Harassment&quot;</td><td>null</td><td>&quot;55164-0737&quot;</td><td>&quot;P.O. BOX 64437&quot;</td><td>&quot;64437&quot;</td><td>null</td><td>null</td><td>null</td><td>null</td><td>null</td><td>&quot;ST. PAUL&quot;</td><td>null</td><td>null</td><td>&quot;Assigned&quot;</td><td>&quot;11/13/2013 02:30:21 PM&quot;</td><td>&quot;10/29/2013 02:31:06 PM&quot;</td><td>&quot;0 Unspecified&quot;</td><td>&quot;Unspecified&quot;</td><td>null</td><td>null</td><td>&quot;Unspecified&quot;</td><td>&quot;Unspecified&quot;</td><td>&quot;Unspecified&quot;</td><td>&quot;Unspecified&quot;</td><td>&quot;Unspecified&quot;</td><td>&quot;Unspecified&quot;</td><td>&quot;Unspecified&quot;</td><td>&quot;Unspecified&quot;</td><td>&quot;Unspecified&quot;</td><td>&quot;Unspecified&quot;</td><td>&quot;Unspecified&quot;</td><td>&quot;N&quot;</td><td>null</td><td>null</td><td>null</td><td>null</td><td>null</td><td>null</td><td>null</td><td>null</td><td>null</td><td>null</td><td>null</td><td>null</td><td>null</td><td>null</td></tr><tr><td>26488417</td><td>&quot;10/15/2013 03:40:33 PM&quot;</td><td>null</td><td>&quot;TLC&quot;</td><td>&quot;Taxi and Limousine Commission&quot;</td><td>&quot;Taxi Complaint&quot;</td><td>&quot;Driver Complaint&quot;</td><td>&quot;Street&quot;</td><td>&quot;11549-3650&quot;</td><td>&quot;365 HOFSTRA UNIVERSITY&quot;</td><td>&quot;HOFSTRA UNIVERSITY&quot;</td><td>null</td><td>null</td><td>null</td><td>null</td><td>null</td><td>&quot;HEMSTEAD&quot;</td><td>null</td><td>null</td><td>&quot;Assigned&quot;</td><td>&quot;11/30/2013 01:20:33 PM&quot;</td><td>&quot;10/16/2013 01:21:39 PM&quot;</td><td>&quot;0 Unspecified&quot;</td><td>&quot;Unspecified&quot;</td><td>null</td><td>null</td><td>&quot;Unspecified&quot;</td><td>&quot;Unspecified&quot;</td><td>&quot;Unspecified&quot;</td><td>&quot;Unspecified&quot;</td><td>&quot;Unspecified&quot;</td><td>&quot;Unspecified&quot;</td><td>&quot;Unspecified&quot;</td><td>&quot;Unspecified&quot;</td><td>&quot;Unspecified&quot;</td><td>&quot;Unspecified&quot;</td><td>&quot;Unspecified&quot;</td><td>&quot;N&quot;</td><td>null</td><td>null</td><td>null</td><td>&quot;La Guardia Airport&quot;</td><td>null</td><td>null</td><td>null</td><td>null</td><td>null</td><td>null</td><td>null</td><td>null</td><td>null</td><td>null</td></tr><tr><td>26468296</td><td>&quot;10/10/2013 12:36:43 PM&quot;</td><td>&quot;10/26/2013 01:07:07 AM&quot;</td><td>&quot;DCA&quot;</td><td>&quot;Department of Consumer Affairs&quot;</td><td>&quot;Consumer Complaint&quot;</td><td>&quot;Debt Not Owed&quot;</td><td>null</td><td>&quot;29616-0759&quot;</td><td>&quot;PO BOX 25759&quot;</td><td>&quot;BOX 25759&quot;</td><td>null</td><td>null</td><td>null</td><td>null</td><td>null</td><td>&quot;GREENVILLE&quot;</td><td>null</td><td>null</td><td>&quot;Closed&quot;</td><td>&quot;10/26/2013 09:20:28 AM&quot;</td><td>&quot;10/26/2013 01:07:07 AM&quot;</td><td>&quot;0 Unspecified&quot;</td><td>&quot;Unspecified&quot;</td><td>null</td><td>null</td><td>&quot;Unspecified&quot;</td><td>&quot;Unspecified&quot;</td><td>&quot;Unspecified&quot;</td><td>&quot;Unspecified&quot;</td><td>&quot;Unspecified&quot;</td><td>&quot;Unspecified&quot;</td><td>&quot;Unspecified&quot;</td><td>&quot;Unspecified&quot;</td><td>&quot;Unspecified&quot;</td><td>&quot;Unspecified&quot;</td><td>&quot;Unspecified&quot;</td><td>&quot;N&quot;</td><td>null</td><td>null</td><td>null</td><td>null</td><td>null</td><td>null</td><td>null</td><td>null</td><td>null</td><td>null</td><td>null</td><td>null</td><td>null</td><td>null</td></tr><tr><td>26461137</td><td>&quot;10/09/2013 05:23:46 PM&quot;</td><td>&quot;10/25/2013 01:06:41 AM&quot;</td><td>&quot;DCA&quot;</td><td>&quot;Department of Consumer Affairs&quot;</td><td>&quot;Consumer Complaint&quot;</td><td>&quot;Harassment&quot;</td><td>null</td><td>&quot;35209-3114&quot;</td><td>&quot;600 BEACON PKWY&quot;</td><td>&quot;BEACON PKWY&quot;</td><td>null</td><td>null</td><td>null</td><td>null</td><td>null</td><td>&quot;BIRMINGHAM&quot;</td><td>null</td><td>null</td><td>&quot;Closed&quot;</td><td>&quot;10/25/2013 02:43:42 PM&quot;</td><td>&quot;10/25/2013 01:06:41 AM&quot;</td><td>&quot;0 Unspecified&quot;</td><td>&quot;Unspecified&quot;</td><td>null</td><td>null</td><td>&quot;Unspecified&quot;</td><td>&quot;Unspecified&quot;</td><td>&quot;Unspecified&quot;</td><td>&quot;Unspecified&quot;</td><td>&quot;Unspecified&quot;</td><td>&quot;Unspecified&quot;</td><td>&quot;Unspecified&quot;</td><td>&quot;Unspecified&quot;</td><td>&quot;Unspecified&quot;</td><td>&quot;Unspecified&quot;</td><td>&quot;Unspecified&quot;</td><td>&quot;N&quot;</td><td>null</td><td>null</td><td>null</td><td>null</td><td>null</td><td>null</td><td>null</td><td>null</td><td>null</td><td>null</td><td>null</td><td>null</td><td>null</td><td>null</td></tr></tbody></table></div>"
      ],
      "text/plain": [
       "shape: (5, 52)\n",
       "┌─────┬─────┬─────┬─────┬─────┬─────┬─────┬─────┬─────┬─────┬─────┬─────┬─────┬─────┬─────┬─────┬─────┬─────┬─────┬─────┬─────┬─────┬─────┬─────┬─────┬─────┬─────┬─────┬─────┬─────┬─────┬─────┬─────┬─────┬─────┬─────┬─────┬─────┬─────┬─────┬─────┬─────┬─────┬─────┬─────┬─────┬─────┬─────┬─────┬─────┬─────┬─────┐\n",
       "│ Uni ┆ Cre ┆ Clo ┆ Age ┆ Age ┆ Com ┆ Des ┆ Loc ┆ Inc ┆ Inc ┆ Str ┆ Cro ┆ Cro ┆ Int ┆ Int ┆ Add ┆ Cit ┆ Lan ┆ Fac ┆ Sta ┆ Due ┆ Res ┆ Com ┆ Bor ┆ X   ┆ Y   ┆ Par ┆ Par ┆ Sch ┆ Sch ┆ Sch ┆ Sch ┆ Sch ┆ Sch ┆ Sch ┆ Sch ┆ Sch ┆ Sch ┆ Sch ┆ Veh ┆ Tax ┆ Tax ┆ Bri ┆ Bri ┆ Roa ┆ Bri ┆ Gar ┆ Fer ┆ Fer ┆ Lat ┆ Lon ┆ Loc │\n",
       "│ que ┆ ate ┆ sed ┆ ncy ┆ ncy ┆ pla ┆ cri ┆ ati ┆ ide ┆ ide ┆ eet ┆ ss  ┆ ss  ┆ ers ┆ ers ┆ res ┆ y   ┆ dma ┆ ili ┆ tus ┆ Dat ┆ olu ┆ mun ┆ oug ┆ Coo ┆ Coo ┆ k   ┆ k   ┆ ool ┆ ool ┆ ool ┆ ool ┆ ool ┆ ool ┆ ool ┆ ool ┆ ool ┆ ool ┆ ool ┆ icl ┆ i   ┆ i   ┆ dge ┆ dge ┆ d   ┆ dge ┆ age ┆ ry  ┆ ry  ┆ itu ┆ git ┆ ati │\n",
       "│ Key ┆ d   ┆ Dat ┆ --- ┆ Nam ┆ int ┆ pto ┆ on  ┆ nt  ┆ nt  ┆ Nam ┆ Str ┆ Str ┆ ect ┆ ect ┆ s   ┆ --- ┆ rk  ┆ ty  ┆ --- ┆ e   ┆ tio ┆ ity ┆ h   ┆ rdi ┆ rdi ┆ Fac ┆ Bor ┆ Nam ┆ Num ┆ Reg ┆ Cod ┆ Pho ┆ Add ┆ Cit ┆ Sta ┆ Zip ┆ Not ┆ or  ┆ e   ┆ Com ┆ Pic ┆ Hig ┆ Hig ┆ Ram ┆ Hig ┆ Lot ┆ Dir ┆ Ter ┆ de  ┆ ude ┆ on  │\n",
       "│ --- ┆ Dat ┆ e   ┆ str ┆ e   ┆ Typ ┆ r   ┆ Typ ┆ Zip ┆ Add ┆ e   ┆ eet ┆ eet ┆ ion ┆ ion ┆ Typ ┆ str ┆ --- ┆ Typ ┆ str ┆ --- ┆ n   ┆ Boa ┆ --- ┆ nat ┆ nat ┆ ili ┆ oug ┆ e   ┆ ber ┆ ion ┆ e   ┆ ne  ┆ res ┆ y   ┆ te  ┆ --- ┆ Fou ┆ Cit ┆ Typ ┆ pan ┆ k   ┆ hwa ┆ hwa ┆ p   ┆ hwa ┆ Nam ┆ ect ┆ min ┆ --- ┆ --- ┆ --- │\n",
       "│ i64 ┆ e   ┆ --- ┆     ┆ --- ┆ e   ┆ --- ┆ e   ┆ --- ┆ res ┆ --- ┆ 1   ┆ 2   ┆ Str ┆ Str ┆ e   ┆     ┆ str ┆ e   ┆     ┆ str ┆ Act ┆ rd  ┆ str ┆ e   ┆ e   ┆ ty  ┆ h   ┆ --- ┆ --- ┆ --- ┆ --- ┆ Num ┆ s   ┆ --- ┆ --- ┆ str ┆ nd  ┆ ywi ┆ e   ┆ y   ┆ Up  ┆ y   ┆ y   ┆ --- ┆ y   ┆ e   ┆ ion ┆ al  ┆ f64 ┆ f64 ┆ str │\n",
       "│     ┆ --- ┆ str ┆     ┆ str ┆ --- ┆ str ┆ --- ┆ str ┆ s   ┆ str ┆ --- ┆ --- ┆ eet ┆ eet ┆ --- ┆     ┆     ┆ --- ┆     ┆     ┆ ion ┆ --- ┆     ┆ (St ┆ (St ┆ Nam ┆ --- ┆ str ┆ str ┆ str ┆ str ┆ ber ┆ --- ┆ str ┆ str ┆     ┆ --- ┆ de  ┆ --- ┆ Bor ┆ Loc ┆ Nam ┆ Dir ┆ str ┆ Seg ┆ --- ┆ --- ┆ Nam ┆     ┆     ┆     │\n",
       "│     ┆ str ┆     ┆     ┆     ┆ str ┆     ┆ str ┆     ┆ --- ┆     ┆ str ┆ str ┆ 1   ┆ 2   ┆ str ┆     ┆     ┆ str ┆     ┆     ┆ Upd ┆ str ┆     ┆ ate ┆ ate ┆ e   ┆ str ┆     ┆     ┆     ┆     ┆ --- ┆ str ┆     ┆     ┆     ┆ str ┆ Com ┆ str ┆ oug ┆ ati ┆ e   ┆ ect ┆     ┆ men ┆ str ┆ str ┆ e   ┆     ┆     ┆     │\n",
       "│     ┆     ┆     ┆     ┆     ┆     ┆     ┆     ┆     ┆ str ┆     ┆     ┆     ┆ --- ┆ --- ┆     ┆     ┆     ┆     ┆     ┆     ┆ ate ┆     ┆     ┆ Pla ┆ Pla ┆ --- ┆     ┆     ┆     ┆     ┆     ┆ str ┆     ┆     ┆     ┆     ┆     ┆ pla ┆     ┆ h   ┆ on  ┆ --- ┆ ion ┆     ┆ t   ┆     ┆     ┆ --- ┆     ┆     ┆     │\n",
       "│     ┆     ┆     ┆     ┆     ┆     ┆     ┆     ┆     ┆     ┆     ┆     ┆     ┆ str ┆ str ┆     ┆     ┆     ┆     ┆     ┆     ┆ d   ┆     ┆     ┆ ne) ┆ ne) ┆ str ┆     ┆     ┆     ┆     ┆     ┆     ┆     ┆     ┆     ┆     ┆     ┆ int ┆     ┆ --- ┆ --- ┆ str ┆ --- ┆     ┆ --- ┆     ┆     ┆ str ┆     ┆     ┆     │\n",
       "│     ┆     ┆     ┆     ┆     ┆     ┆     ┆     ┆     ┆     ┆     ┆     ┆     ┆     ┆     ┆     ┆     ┆     ┆     ┆     ┆     ┆ Dat ┆     ┆     ┆ --- ┆ --- ┆     ┆     ┆     ┆     ┆     ┆     ┆     ┆     ┆     ┆     ┆     ┆     ┆ --- ┆     ┆ str ┆ str ┆     ┆ str ┆     ┆ str ┆     ┆     ┆     ┆     ┆     ┆     │\n",
       "│     ┆     ┆     ┆     ┆     ┆     ┆     ┆     ┆     ┆     ┆     ┆     ┆     ┆     ┆     ┆     ┆     ┆     ┆     ┆     ┆     ┆ e   ┆     ┆     ┆ i64 ┆ i64 ┆     ┆     ┆     ┆     ┆     ┆     ┆     ┆     ┆     ┆     ┆     ┆     ┆ str ┆     ┆     ┆     ┆     ┆     ┆     ┆     ┆     ┆     ┆     ┆     ┆     ┆     │\n",
       "│     ┆     ┆     ┆     ┆     ┆     ┆     ┆     ┆     ┆     ┆     ┆     ┆     ┆     ┆     ┆     ┆     ┆     ┆     ┆     ┆     ┆ --- ┆     ┆     ┆     ┆     ┆     ┆     ┆     ┆     ┆     ┆     ┆     ┆     ┆     ┆     ┆     ┆     ┆     ┆     ┆     ┆     ┆     ┆     ┆     ┆     ┆     ┆     ┆     ┆     ┆     ┆     │\n",
       "│     ┆     ┆     ┆     ┆     ┆     ┆     ┆     ┆     ┆     ┆     ┆     ┆     ┆     ┆     ┆     ┆     ┆     ┆     ┆     ┆     ┆ str ┆     ┆     ┆     ┆     ┆     ┆     ┆     ┆     ┆     ┆     ┆     ┆     ┆     ┆     ┆     ┆     ┆     ┆     ┆     ┆     ┆     ┆     ┆     ┆     ┆     ┆     ┆     ┆     ┆     ┆     │\n",
       "╞═════╪═════╪═════╪═════╪═════╪═════╪═════╪═════╪═════╪═════╪═════╪═════╪═════╪═════╪═════╪═════╪═════╪═════╪═════╪═════╪═════╪═════╪═════╪═════╪═════╪═════╪═════╪═════╪═════╪═════╪═════╪═════╪═════╪═════╪═════╪═════╪═════╪═════╪═════╪═════╪═════╪═════╪═════╪═════╪═════╪═════╪═════╪═════╪═════╪═════╪═════╪═════╡\n",
       "│ 265 ┆ 10/ ┆ nul ┆ DCA ┆ Dep ┆ Con ┆ Fal ┆ nul ┆ 770 ┆ 270 ┆ EAS ┆ nul ┆ nul ┆ nul ┆ nul ┆ nul ┆ HOU ┆ nul ┆ nul ┆ Ass ┆ 11/ ┆ 10/ ┆ 0   ┆ Uns ┆ nul ┆ nul ┆ Uns ┆ Uns ┆ Uns ┆ Uns ┆ Uns ┆ Uns ┆ Uns ┆ Uns ┆ Uns ┆ Uns ┆ Uns ┆ N   ┆ nul ┆ nul ┆ nul ┆ nul ┆ nul ┆ nul ┆ nul ┆ nul ┆ nul ┆ nul ┆ nul ┆ nul ┆ nul ┆ nul │\n",
       "│ 505 ┆ 24/ ┆ l   ┆     ┆ art ┆ sum ┆ se  ┆ l   ┆ 92- ┆ 0   ┆ T   ┆ l   ┆ l   ┆ l   ┆ l   ┆ l   ┆ STO ┆ l   ┆ l   ┆ ign ┆ 13/ ┆ 29/ ┆ Uns ┆ pec ┆ l   ┆ l   ┆ pec ┆ pec ┆ pec ┆ pec ┆ pec ┆ pec ┆ pec ┆ pec ┆ pec ┆ pec ┆ pec ┆     ┆ l   ┆ l   ┆ l   ┆ l   ┆ l   ┆ l   ┆ l   ┆ l   ┆ l   ┆ l   ┆ l   ┆ l   ┆ l   ┆ l   │\n",
       "│ 51  ┆ 201 ┆     ┆     ┆ men ┆ er  ┆ Adv ┆     ┆ 201 ┆ EAS ┆ SEL ┆     ┆     ┆     ┆     ┆     ┆ N   ┆     ┆     ┆ ed  ┆ 201 ┆ 201 ┆ pec ┆ ifi ┆     ┆     ┆ ifi ┆ ifi ┆ ifi ┆ ifi ┆ ifi ┆ ifi ┆ ifi ┆ ifi ┆ ifi ┆ ifi ┆ ifi ┆     ┆     ┆     ┆     ┆     ┆     ┆     ┆     ┆     ┆     ┆     ┆     ┆     ┆     ┆     │\n",
       "│     ┆ 3   ┆     ┆     ┆ t   ┆ Com ┆ ert ┆     ┆ 6   ┆ T   ┆ TIC ┆     ┆     ┆     ┆     ┆     ┆     ┆     ┆     ┆     ┆ 3   ┆ 3   ┆ ifi ┆ ed  ┆     ┆     ┆ ed  ┆ ed  ┆ ed  ┆ ed  ┆ ed  ┆ ed  ┆ ed  ┆ ed  ┆ ed  ┆ ed  ┆ ed  ┆     ┆     ┆     ┆     ┆     ┆     ┆     ┆     ┆     ┆     ┆     ┆     ┆     ┆     ┆     │\n",
       "│     ┆ 06: ┆     ┆     ┆ of  ┆ pla ┆ isi ┆     ┆     ┆ SEL ┆ E   ┆     ┆     ┆     ┆     ┆     ┆     ┆     ┆     ┆     ┆ 11: ┆ 11: ┆ ed  ┆     ┆     ┆     ┆     ┆     ┆     ┆     ┆     ┆     ┆     ┆     ┆     ┆     ┆     ┆     ┆     ┆     ┆     ┆     ┆     ┆     ┆     ┆     ┆     ┆     ┆     ┆     ┆     ┆     │\n",
       "│     ┆ 16: ┆     ┆     ┆ Con ┆ int ┆ ng  ┆     ┆     ┆ TIC ┆ WAY ┆     ┆     ┆     ┆     ┆     ┆     ┆     ┆     ┆     ┆ 15: ┆ 16: ┆     ┆     ┆     ┆     ┆     ┆     ┆     ┆     ┆     ┆     ┆     ┆     ┆     ┆     ┆     ┆     ┆     ┆     ┆     ┆     ┆     ┆     ┆     ┆     ┆     ┆     ┆     ┆     ┆     ┆     │\n",
       "│     ┆ 34  ┆     ┆     ┆ sum ┆     ┆     ┆     ┆     ┆ E   ┆     ┆     ┆     ┆     ┆     ┆     ┆     ┆     ┆     ┆     ┆ 20  ┆ 16  ┆     ┆     ┆     ┆     ┆     ┆     ┆     ┆     ┆     ┆     ┆     ┆     ┆     ┆     ┆     ┆     ┆     ┆     ┆     ┆     ┆     ┆     ┆     ┆     ┆     ┆     ┆     ┆     ┆     ┆     │\n",
       "│     ┆ PM  ┆     ┆     ┆ er  ┆     ┆     ┆     ┆     ┆ WAY ┆     ┆     ┆     ┆     ┆     ┆     ┆     ┆     ┆     ┆     ┆ AM  ┆ AM  ┆     ┆     ┆     ┆     ┆     ┆     ┆     ┆     ┆     ┆     ┆     ┆     ┆     ┆     ┆     ┆     ┆     ┆     ┆     ┆     ┆     ┆     ┆     ┆     ┆     ┆     ┆     ┆     ┆     ┆     │\n",
       "│     ┆     ┆     ┆     ┆ Aff ┆     ┆     ┆     ┆     ┆     ┆     ┆     ┆     ┆     ┆     ┆     ┆     ┆     ┆     ┆     ┆     ┆     ┆     ┆     ┆     ┆     ┆     ┆     ┆     ┆     ┆     ┆     ┆     ┆     ┆     ┆     ┆     ┆     ┆     ┆     ┆     ┆     ┆     ┆     ┆     ┆     ┆     ┆     ┆     ┆     ┆     ┆     │\n",
       "│     ┆     ┆     ┆     ┆ air ┆     ┆     ┆     ┆     ┆     ┆     ┆     ┆     ┆     ┆     ┆     ┆     ┆     ┆     ┆     ┆     ┆     ┆     ┆     ┆     ┆     ┆     ┆     ┆     ┆     ┆     ┆     ┆     ┆     ┆     ┆     ┆     ┆     ┆     ┆     ┆     ┆     ┆     ┆     ┆     ┆     ┆     ┆     ┆     ┆     ┆     ┆     │\n",
       "│     ┆     ┆     ┆     ┆ s   ┆     ┆     ┆     ┆     ┆     ┆     ┆     ┆     ┆     ┆     ┆     ┆     ┆     ┆     ┆     ┆     ┆     ┆     ┆     ┆     ┆     ┆     ┆     ┆     ┆     ┆     ┆     ┆     ┆     ┆     ┆     ┆     ┆     ┆     ┆     ┆     ┆     ┆     ┆     ┆     ┆     ┆     ┆     ┆     ┆     ┆     ┆     │\n",
       "│ 265 ┆ 10/ ┆ nul ┆ DCA ┆ Dep ┆ Con ┆ Har ┆ nul ┆ 551 ┆ P.O ┆ 644 ┆ nul ┆ nul ┆ nul ┆ nul ┆ nul ┆ ST. ┆ nul ┆ nul ┆ Ass ┆ 11/ ┆ 10/ ┆ 0   ┆ Uns ┆ nul ┆ nul ┆ Uns ┆ Uns ┆ Uns ┆ Uns ┆ Uns ┆ Uns ┆ Uns ┆ Uns ┆ Uns ┆ Uns ┆ Uns ┆ N   ┆ nul ┆ nul ┆ nul ┆ nul ┆ nul ┆ nul ┆ nul ┆ nul ┆ nul ┆ nul ┆ nul ┆ nul ┆ nul ┆ nul │\n",
       "│ 488 ┆ 24/ ┆ l   ┆     ┆ art ┆ sum ┆ ass ┆ l   ┆ 64- ┆ .   ┆ 37  ┆ l   ┆ l   ┆ l   ┆ l   ┆ l   ┆ PAU ┆ l   ┆ l   ┆ ign ┆ 13/ ┆ 29/ ┆ Uns ┆ pec ┆ l   ┆ l   ┆ pec ┆ pec ┆ pec ┆ pec ┆ pec ┆ pec ┆ pec ┆ pec ┆ pec ┆ pec ┆ pec ┆     ┆ l   ┆ l   ┆ l   ┆ l   ┆ l   ┆ l   ┆ l   ┆ l   ┆ l   ┆ l   ┆ l   ┆ l   ┆ l   ┆ l   │\n",
       "│ 31  ┆ 201 ┆     ┆     ┆ men ┆ er  ┆ men ┆     ┆ 073 ┆ BOX ┆     ┆     ┆     ┆     ┆     ┆     ┆ L   ┆     ┆     ┆ ed  ┆ 201 ┆ 201 ┆ pec ┆ ifi ┆     ┆     ┆ ifi ┆ ifi ┆ ifi ┆ ifi ┆ ifi ┆ ifi ┆ ifi ┆ ifi ┆ ifi ┆ ifi ┆ ifi ┆     ┆     ┆     ┆     ┆     ┆     ┆     ┆     ┆     ┆     ┆     ┆     ┆     ┆     ┆     │\n",
       "│     ┆ 3   ┆     ┆     ┆ t   ┆ Com ┆ t   ┆     ┆ 7   ┆ 644 ┆     ┆     ┆     ┆     ┆     ┆     ┆     ┆     ┆     ┆     ┆ 3   ┆ 3   ┆ ifi ┆ ed  ┆     ┆     ┆ ed  ┆ ed  ┆ ed  ┆ ed  ┆ ed  ┆ ed  ┆ ed  ┆ ed  ┆ ed  ┆ ed  ┆ ed  ┆     ┆     ┆     ┆     ┆     ┆     ┆     ┆     ┆     ┆     ┆     ┆     ┆     ┆     ┆     │\n",
       "│     ┆ 09: ┆     ┆     ┆ of  ┆ pla ┆     ┆     ┆     ┆ 37  ┆     ┆     ┆     ┆     ┆     ┆     ┆     ┆     ┆     ┆     ┆ 02: ┆ 02: ┆ ed  ┆     ┆     ┆     ┆     ┆     ┆     ┆     ┆     ┆     ┆     ┆     ┆     ┆     ┆     ┆     ┆     ┆     ┆     ┆     ┆     ┆     ┆     ┆     ┆     ┆     ┆     ┆     ┆     ┆     │\n",
       "│     ┆ 35: ┆     ┆     ┆ Con ┆ int ┆     ┆     ┆     ┆     ┆     ┆     ┆     ┆     ┆     ┆     ┆     ┆     ┆     ┆     ┆ 30: ┆ 31: ┆     ┆     ┆     ┆     ┆     ┆     ┆     ┆     ┆     ┆     ┆     ┆     ┆     ┆     ┆     ┆     ┆     ┆     ┆     ┆     ┆     ┆     ┆     ┆     ┆     ┆     ┆     ┆     ┆     ┆     │\n",
       "│     ┆ 10  ┆     ┆     ┆ sum ┆     ┆     ┆     ┆     ┆     ┆     ┆     ┆     ┆     ┆     ┆     ┆     ┆     ┆     ┆     ┆ 21  ┆ 06  ┆     ┆     ┆     ┆     ┆     ┆     ┆     ┆     ┆     ┆     ┆     ┆     ┆     ┆     ┆     ┆     ┆     ┆     ┆     ┆     ┆     ┆     ┆     ┆     ┆     ┆     ┆     ┆     ┆     ┆     │\n",
       "│     ┆ AM  ┆     ┆     ┆ er  ┆     ┆     ┆     ┆     ┆     ┆     ┆     ┆     ┆     ┆     ┆     ┆     ┆     ┆     ┆     ┆ PM  ┆ PM  ┆     ┆     ┆     ┆     ┆     ┆     ┆     ┆     ┆     ┆     ┆     ┆     ┆     ┆     ┆     ┆     ┆     ┆     ┆     ┆     ┆     ┆     ┆     ┆     ┆     ┆     ┆     ┆     ┆     ┆     │\n",
       "│     ┆     ┆     ┆     ┆ Aff ┆     ┆     ┆     ┆     ┆     ┆     ┆     ┆     ┆     ┆     ┆     ┆     ┆     ┆     ┆     ┆     ┆     ┆     ┆     ┆     ┆     ┆     ┆     ┆     ┆     ┆     ┆     ┆     ┆     ┆     ┆     ┆     ┆     ┆     ┆     ┆     ┆     ┆     ┆     ┆     ┆     ┆     ┆     ┆     ┆     ┆     ┆     │\n",
       "│     ┆     ┆     ┆     ┆ air ┆     ┆     ┆     ┆     ┆     ┆     ┆     ┆     ┆     ┆     ┆     ┆     ┆     ┆     ┆     ┆     ┆     ┆     ┆     ┆     ┆     ┆     ┆     ┆     ┆     ┆     ┆     ┆     ┆     ┆     ┆     ┆     ┆     ┆     ┆     ┆     ┆     ┆     ┆     ┆     ┆     ┆     ┆     ┆     ┆     ┆     ┆     │\n",
       "│     ┆     ┆     ┆     ┆ s   ┆     ┆     ┆     ┆     ┆     ┆     ┆     ┆     ┆     ┆     ┆     ┆     ┆     ┆     ┆     ┆     ┆     ┆     ┆     ┆     ┆     ┆     ┆     ┆     ┆     ┆     ┆     ┆     ┆     ┆     ┆     ┆     ┆     ┆     ┆     ┆     ┆     ┆     ┆     ┆     ┆     ┆     ┆     ┆     ┆     ┆     ┆     │\n",
       "│ 264 ┆ 10/ ┆ nul ┆ TLC ┆ Tax ┆ Tax ┆ Dri ┆ Str ┆ 115 ┆ 365 ┆ HOF ┆ nul ┆ nul ┆ nul ┆ nul ┆ nul ┆ HEM ┆ nul ┆ nul ┆ Ass ┆ 11/ ┆ 10/ ┆ 0   ┆ Uns ┆ nul ┆ nul ┆ Uns ┆ Uns ┆ Uns ┆ Uns ┆ Uns ┆ Uns ┆ Uns ┆ Uns ┆ Uns ┆ Uns ┆ Uns ┆ N   ┆ nul ┆ nul ┆ nul ┆ La  ┆ nul ┆ nul ┆ nul ┆ nul ┆ nul ┆ nul ┆ nul ┆ nul ┆ nul ┆ nul │\n",
       "│ 884 ┆ 15/ ┆ l   ┆     ┆ i   ┆ i   ┆ ver ┆ eet ┆ 49- ┆ HOF ┆ STR ┆ l   ┆ l   ┆ l   ┆ l   ┆ l   ┆ STE ┆ l   ┆ l   ┆ ign ┆ 30/ ┆ 16/ ┆ Uns ┆ pec ┆ l   ┆ l   ┆ pec ┆ pec ┆ pec ┆ pec ┆ pec ┆ pec ┆ pec ┆ pec ┆ pec ┆ pec ┆ pec ┆     ┆ l   ┆ l   ┆ l   ┆ Gua ┆ l   ┆ l   ┆ l   ┆ l   ┆ l   ┆ l   ┆ l   ┆ l   ┆ l   ┆ l   │\n",
       "│ 17  ┆ 201 ┆     ┆     ┆ and ┆ Com ┆ Com ┆     ┆ 365 ┆ STR ┆ A   ┆     ┆     ┆     ┆     ┆     ┆ AD  ┆     ┆     ┆ ed  ┆ 201 ┆ 201 ┆ pec ┆ ifi ┆     ┆     ┆ ifi ┆ ifi ┆ ifi ┆ ifi ┆ ifi ┆ ifi ┆ ifi ┆ ifi ┆ ifi ┆ ifi ┆ ifi ┆     ┆     ┆     ┆     ┆ rdi ┆     ┆     ┆     ┆     ┆     ┆     ┆     ┆     ┆     ┆     │\n",
       "│     ┆ 3   ┆     ┆     ┆ Lim ┆ pla ┆ pla ┆     ┆ 0   ┆ A   ┆ UNI ┆     ┆     ┆     ┆     ┆     ┆     ┆     ┆     ┆     ┆ 3   ┆ 3   ┆ ifi ┆ ed  ┆     ┆     ┆ ed  ┆ ed  ┆ ed  ┆ ed  ┆ ed  ┆ ed  ┆ ed  ┆ ed  ┆ ed  ┆ ed  ┆ ed  ┆     ┆     ┆     ┆     ┆ a   ┆     ┆     ┆     ┆     ┆     ┆     ┆     ┆     ┆     ┆     │\n",
       "│     ┆ 03: ┆     ┆     ┆ ous ┆ int ┆ int ┆     ┆     ┆ UNI ┆ VER ┆     ┆     ┆     ┆     ┆     ┆     ┆     ┆     ┆     ┆ 01: ┆ 01: ┆ ed  ┆     ┆     ┆     ┆     ┆     ┆     ┆     ┆     ┆     ┆     ┆     ┆     ┆     ┆     ┆     ┆     ┆     ┆     ┆ Air ┆     ┆     ┆     ┆     ┆     ┆     ┆     ┆     ┆     ┆     │\n",
       "│     ┆ 40: ┆     ┆     ┆ ine ┆     ┆     ┆     ┆     ┆ VER ┆ SIT ┆     ┆     ┆     ┆     ┆     ┆     ┆     ┆     ┆     ┆ 20: ┆ 21: ┆     ┆     ┆     ┆     ┆     ┆     ┆     ┆     ┆     ┆     ┆     ┆     ┆     ┆     ┆     ┆     ┆     ┆     ┆     ┆ por ┆     ┆     ┆     ┆     ┆     ┆     ┆     ┆     ┆     ┆     │\n",
       "│     ┆ 33  ┆     ┆     ┆ Com ┆     ┆     ┆     ┆     ┆ SIT ┆ Y   ┆     ┆     ┆     ┆     ┆     ┆     ┆     ┆     ┆     ┆ 33  ┆ 39  ┆     ┆     ┆     ┆     ┆     ┆     ┆     ┆     ┆     ┆     ┆     ┆     ┆     ┆     ┆     ┆     ┆     ┆     ┆     ┆ t   ┆     ┆     ┆     ┆     ┆     ┆     ┆     ┆     ┆     ┆     │\n",
       "│     ┆ PM  ┆     ┆     ┆ mis ┆     ┆     ┆     ┆     ┆ Y   ┆     ┆     ┆     ┆     ┆     ┆     ┆     ┆     ┆     ┆     ┆ PM  ┆ PM  ┆     ┆     ┆     ┆     ┆     ┆     ┆     ┆     ┆     ┆     ┆     ┆     ┆     ┆     ┆     ┆     ┆     ┆     ┆     ┆     ┆     ┆     ┆     ┆     ┆     ┆     ┆     ┆     ┆     ┆     │\n",
       "│     ┆     ┆     ┆     ┆ sio ┆     ┆     ┆     ┆     ┆     ┆     ┆     ┆     ┆     ┆     ┆     ┆     ┆     ┆     ┆     ┆     ┆     ┆     ┆     ┆     ┆     ┆     ┆     ┆     ┆     ┆     ┆     ┆     ┆     ┆     ┆     ┆     ┆     ┆     ┆     ┆     ┆     ┆     ┆     ┆     ┆     ┆     ┆     ┆     ┆     ┆     ┆     │\n",
       "│     ┆     ┆     ┆     ┆ n   ┆     ┆     ┆     ┆     ┆     ┆     ┆     ┆     ┆     ┆     ┆     ┆     ┆     ┆     ┆     ┆     ┆     ┆     ┆     ┆     ┆     ┆     ┆     ┆     ┆     ┆     ┆     ┆     ┆     ┆     ┆     ┆     ┆     ┆     ┆     ┆     ┆     ┆     ┆     ┆     ┆     ┆     ┆     ┆     ┆     ┆     ┆     │\n",
       "│ 264 ┆ 10/ ┆ 10/ ┆ DCA ┆ Dep ┆ Con ┆ Deb ┆ nul ┆ 296 ┆ PO  ┆ BOX ┆ nul ┆ nul ┆ nul ┆ nul ┆ nul ┆ GRE ┆ nul ┆ nul ┆ Clo ┆ 10/ ┆ 10/ ┆ 0   ┆ Uns ┆ nul ┆ nul ┆ Uns ┆ Uns ┆ Uns ┆ Uns ┆ Uns ┆ Uns ┆ Uns ┆ Uns ┆ Uns ┆ Uns ┆ Uns ┆ N   ┆ nul ┆ nul ┆ nul ┆ nul ┆ nul ┆ nul ┆ nul ┆ nul ┆ nul ┆ nul ┆ nul ┆ nul ┆ nul ┆ nul │\n",
       "│ 682 ┆ 10/ ┆ 26/ ┆     ┆ art ┆ sum ┆ t   ┆ l   ┆ 16- ┆ BOX ┆ 257 ┆ l   ┆ l   ┆ l   ┆ l   ┆ l   ┆ ENV ┆ l   ┆ l   ┆ sed ┆ 26/ ┆ 26/ ┆ Uns ┆ pec ┆ l   ┆ l   ┆ pec ┆ pec ┆ pec ┆ pec ┆ pec ┆ pec ┆ pec ┆ pec ┆ pec ┆ pec ┆ pec ┆     ┆ l   ┆ l   ┆ l   ┆ l   ┆ l   ┆ l   ┆ l   ┆ l   ┆ l   ┆ l   ┆ l   ┆ l   ┆ l   ┆ l   │\n",
       "│ 96  ┆ 201 ┆ 201 ┆     ┆ men ┆ er  ┆ Not ┆     ┆ 075 ┆ 257 ┆ 59  ┆     ┆     ┆     ┆     ┆     ┆ ILL ┆     ┆     ┆     ┆ 201 ┆ 201 ┆ pec ┆ ifi ┆     ┆     ┆ ifi ┆ ifi ┆ ifi ┆ ifi ┆ ifi ┆ ifi ┆ ifi ┆ ifi ┆ ifi ┆ ifi ┆ ifi ┆     ┆     ┆     ┆     ┆     ┆     ┆     ┆     ┆     ┆     ┆     ┆     ┆     ┆     ┆     │\n",
       "│     ┆ 3   ┆ 3   ┆     ┆ t   ┆ Com ┆ Owe ┆     ┆ 9   ┆ 59  ┆     ┆     ┆     ┆     ┆     ┆     ┆ E   ┆     ┆     ┆     ┆ 3   ┆ 3   ┆ ifi ┆ ed  ┆     ┆     ┆ ed  ┆ ed  ┆ ed  ┆ ed  ┆ ed  ┆ ed  ┆ ed  ┆ ed  ┆ ed  ┆ ed  ┆ ed  ┆     ┆     ┆     ┆     ┆     ┆     ┆     ┆     ┆     ┆     ┆     ┆     ┆     ┆     ┆     │\n",
       "│     ┆ 12: ┆ 01: ┆     ┆ of  ┆ pla ┆ d   ┆     ┆     ┆     ┆     ┆     ┆     ┆     ┆     ┆     ┆     ┆     ┆     ┆     ┆ 09: ┆ 01: ┆ ed  ┆     ┆     ┆     ┆     ┆     ┆     ┆     ┆     ┆     ┆     ┆     ┆     ┆     ┆     ┆     ┆     ┆     ┆     ┆     ┆     ┆     ┆     ┆     ┆     ┆     ┆     ┆     ┆     ┆     │\n",
       "│     ┆ 36: ┆ 07: ┆     ┆ Con ┆ int ┆     ┆     ┆     ┆     ┆     ┆     ┆     ┆     ┆     ┆     ┆     ┆     ┆     ┆     ┆ 20: ┆ 07: ┆     ┆     ┆     ┆     ┆     ┆     ┆     ┆     ┆     ┆     ┆     ┆     ┆     ┆     ┆     ┆     ┆     ┆     ┆     ┆     ┆     ┆     ┆     ┆     ┆     ┆     ┆     ┆     ┆     ┆     │\n",
       "│     ┆ 43  ┆ 07  ┆     ┆ sum ┆     ┆     ┆     ┆     ┆     ┆     ┆     ┆     ┆     ┆     ┆     ┆     ┆     ┆     ┆     ┆ 28  ┆ 07  ┆     ┆     ┆     ┆     ┆     ┆     ┆     ┆     ┆     ┆     ┆     ┆     ┆     ┆     ┆     ┆     ┆     ┆     ┆     ┆     ┆     ┆     ┆     ┆     ┆     ┆     ┆     ┆     ┆     ┆     │\n",
       "│     ┆ PM  ┆ AM  ┆     ┆ er  ┆     ┆     ┆     ┆     ┆     ┆     ┆     ┆     ┆     ┆     ┆     ┆     ┆     ┆     ┆     ┆ AM  ┆ AM  ┆     ┆     ┆     ┆     ┆     ┆     ┆     ┆     ┆     ┆     ┆     ┆     ┆     ┆     ┆     ┆     ┆     ┆     ┆     ┆     ┆     ┆     ┆     ┆     ┆     ┆     ┆     ┆     ┆     ┆     │\n",
       "│     ┆     ┆     ┆     ┆ Aff ┆     ┆     ┆     ┆     ┆     ┆     ┆     ┆     ┆     ┆     ┆     ┆     ┆     ┆     ┆     ┆     ┆     ┆     ┆     ┆     ┆     ┆     ┆     ┆     ┆     ┆     ┆     ┆     ┆     ┆     ┆     ┆     ┆     ┆     ┆     ┆     ┆     ┆     ┆     ┆     ┆     ┆     ┆     ┆     ┆     ┆     ┆     │\n",
       "│     ┆     ┆     ┆     ┆ air ┆     ┆     ┆     ┆     ┆     ┆     ┆     ┆     ┆     ┆     ┆     ┆     ┆     ┆     ┆     ┆     ┆     ┆     ┆     ┆     ┆     ┆     ┆     ┆     ┆     ┆     ┆     ┆     ┆     ┆     ┆     ┆     ┆     ┆     ┆     ┆     ┆     ┆     ┆     ┆     ┆     ┆     ┆     ┆     ┆     ┆     ┆     │\n",
       "│     ┆     ┆     ┆     ┆ s   ┆     ┆     ┆     ┆     ┆     ┆     ┆     ┆     ┆     ┆     ┆     ┆     ┆     ┆     ┆     ┆     ┆     ┆     ┆     ┆     ┆     ┆     ┆     ┆     ┆     ┆     ┆     ┆     ┆     ┆     ┆     ┆     ┆     ┆     ┆     ┆     ┆     ┆     ┆     ┆     ┆     ┆     ┆     ┆     ┆     ┆     ┆     │\n",
       "│ 264 ┆ 10/ ┆ 10/ ┆ DCA ┆ Dep ┆ Con ┆ Har ┆ nul ┆ 352 ┆ 600 ┆ BEA ┆ nul ┆ nul ┆ nul ┆ nul ┆ nul ┆ BIR ┆ nul ┆ nul ┆ Clo ┆ 10/ ┆ 10/ ┆ 0   ┆ Uns ┆ nul ┆ nul ┆ Uns ┆ Uns ┆ Uns ┆ Uns ┆ Uns ┆ Uns ┆ Uns ┆ Uns ┆ Uns ┆ Uns ┆ Uns ┆ N   ┆ nul ┆ nul ┆ nul ┆ nul ┆ nul ┆ nul ┆ nul ┆ nul ┆ nul ┆ nul ┆ nul ┆ nul ┆ nul ┆ nul │\n",
       "│ 611 ┆ 09/ ┆ 25/ ┆     ┆ art ┆ sum ┆ ass ┆ l   ┆ 09- ┆ BEA ┆ CON ┆ l   ┆ l   ┆ l   ┆ l   ┆ l   ┆ MIN ┆ l   ┆ l   ┆ sed ┆ 25/ ┆ 25/ ┆ Uns ┆ pec ┆ l   ┆ l   ┆ pec ┆ pec ┆ pec ┆ pec ┆ pec ┆ pec ┆ pec ┆ pec ┆ pec ┆ pec ┆ pec ┆     ┆ l   ┆ l   ┆ l   ┆ l   ┆ l   ┆ l   ┆ l   ┆ l   ┆ l   ┆ l   ┆ l   ┆ l   ┆ l   ┆ l   │\n",
       "│ 37  ┆ 201 ┆ 201 ┆     ┆ men ┆ er  ┆ men ┆     ┆ 311 ┆ CON ┆ PKW ┆     ┆     ┆     ┆     ┆     ┆ GHA ┆     ┆     ┆     ┆ 201 ┆ 201 ┆ pec ┆ ifi ┆     ┆     ┆ ifi ┆ ifi ┆ ifi ┆ ifi ┆ ifi ┆ ifi ┆ ifi ┆ ifi ┆ ifi ┆ ifi ┆ ifi ┆     ┆     ┆     ┆     ┆     ┆     ┆     ┆     ┆     ┆     ┆     ┆     ┆     ┆     ┆     │\n",
       "│     ┆ 3   ┆ 3   ┆     ┆ t   ┆ Com ┆ t   ┆     ┆ 4   ┆ PKW ┆ Y   ┆     ┆     ┆     ┆     ┆     ┆ M   ┆     ┆     ┆     ┆ 3   ┆ 3   ┆ ifi ┆ ed  ┆     ┆     ┆ ed  ┆ ed  ┆ ed  ┆ ed  ┆ ed  ┆ ed  ┆ ed  ┆ ed  ┆ ed  ┆ ed  ┆ ed  ┆     ┆     ┆     ┆     ┆     ┆     ┆     ┆     ┆     ┆     ┆     ┆     ┆     ┆     ┆     │\n",
       "│     ┆ 05: ┆ 01: ┆     ┆ of  ┆ pla ┆     ┆     ┆     ┆ Y   ┆     ┆     ┆     ┆     ┆     ┆     ┆     ┆     ┆     ┆     ┆ 02: ┆ 01: ┆ ed  ┆     ┆     ┆     ┆     ┆     ┆     ┆     ┆     ┆     ┆     ┆     ┆     ┆     ┆     ┆     ┆     ┆     ┆     ┆     ┆     ┆     ┆     ┆     ┆     ┆     ┆     ┆     ┆     ┆     │\n",
       "│     ┆ 23: ┆ 06: ┆     ┆ Con ┆ int ┆     ┆     ┆     ┆     ┆     ┆     ┆     ┆     ┆     ┆     ┆     ┆     ┆     ┆     ┆ 43: ┆ 06: ┆     ┆     ┆     ┆     ┆     ┆     ┆     ┆     ┆     ┆     ┆     ┆     ┆     ┆     ┆     ┆     ┆     ┆     ┆     ┆     ┆     ┆     ┆     ┆     ┆     ┆     ┆     ┆     ┆     ┆     │\n",
       "│     ┆ 46  ┆ 41  ┆     ┆ sum ┆     ┆     ┆     ┆     ┆     ┆     ┆     ┆     ┆     ┆     ┆     ┆     ┆     ┆     ┆     ┆ 42  ┆ 41  ┆     ┆     ┆     ┆     ┆     ┆     ┆     ┆     ┆     ┆     ┆     ┆     ┆     ┆     ┆     ┆     ┆     ┆     ┆     ┆     ┆     ┆     ┆     ┆     ┆     ┆     ┆     ┆     ┆     ┆     │\n",
       "│     ┆ PM  ┆ AM  ┆     ┆ er  ┆     ┆     ┆     ┆     ┆     ┆     ┆     ┆     ┆     ┆     ┆     ┆     ┆     ┆     ┆     ┆ PM  ┆ AM  ┆     ┆     ┆     ┆     ┆     ┆     ┆     ┆     ┆     ┆     ┆     ┆     ┆     ┆     ┆     ┆     ┆     ┆     ┆     ┆     ┆     ┆     ┆     ┆     ┆     ┆     ┆     ┆     ┆     ┆     │\n",
       "│     ┆     ┆     ┆     ┆ Aff ┆     ┆     ┆     ┆     ┆     ┆     ┆     ┆     ┆     ┆     ┆     ┆     ┆     ┆     ┆     ┆     ┆     ┆     ┆     ┆     ┆     ┆     ┆     ┆     ┆     ┆     ┆     ┆     ┆     ┆     ┆     ┆     ┆     ┆     ┆     ┆     ┆     ┆     ┆     ┆     ┆     ┆     ┆     ┆     ┆     ┆     ┆     │\n",
       "│     ┆     ┆     ┆     ┆ air ┆     ┆     ┆     ┆     ┆     ┆     ┆     ┆     ┆     ┆     ┆     ┆     ┆     ┆     ┆     ┆     ┆     ┆     ┆     ┆     ┆     ┆     ┆     ┆     ┆     ┆     ┆     ┆     ┆     ┆     ┆     ┆     ┆     ┆     ┆     ┆     ┆     ┆     ┆     ┆     ┆     ┆     ┆     ┆     ┆     ┆     ┆     │\n",
       "│     ┆     ┆     ┆     ┆ s   ┆     ┆     ┆     ┆     ┆     ┆     ┆     ┆     ┆     ┆     ┆     ┆     ┆     ┆     ┆     ┆     ┆     ┆     ┆     ┆     ┆     ┆     ┆     ┆     ┆     ┆     ┆     ┆     ┆     ┆     ┆     ┆     ┆     ┆     ┆     ┆     ┆     ┆     ┆     ┆     ┆     ┆     ┆     ┆     ┆     ┆     ┆     │\n",
       "└─────┴─────┴─────┴─────┴─────┴─────┴─────┴─────┴─────┴─────┴─────┴─────┴─────┴─────┴─────┴─────┴─────┴─────┴─────┴─────┴─────┴─────┴─────┴─────┴─────┴─────┴─────┴─────┴─────┴─────┴─────┴─────┴─────┴─────┴─────┴─────┴─────┴─────┴─────┴─────┴─────┴─────┴─────┴─────┴─────┴─────┴─────┴─────┴─────┴─────┴─────┴─────┘"
      ]
     },
     "execution_count": 12,
     "metadata": {},
     "output_type": "execute_result"
    }
   ],
   "source": [
    "requests.filter(rows_with_dashes)"
   ]
  },
  {
   "cell_type": "markdown",
   "metadata": {},
   "source": [
    "I thought these were missing data and originally deleted them like this:\n",
    "\n",
    "`requests['Incident Zip'][rows_with_dashes] = np.nan`\n",
    "\n",
    "But then my friend Dave pointed out that 9-digit zip codes are normal. Let's look at all the zip codes with more than 5 digits, make sure they're okay, and then truncate them."
   ]
  },
  {
   "cell_type": "code",
   "execution_count": 17,
   "metadata": {},
   "outputs": [
    {
     "data": {
      "text/html": [
       "<div><style>\n",
       ".dataframe > thead > tr,\n",
       ".dataframe > tbody > tr {\n",
       "  text-align: right;\n",
       "  white-space: pre-wrap;\n",
       "}\n",
       "</style>\n",
       "<small>shape: (6,)</small><table border=\"1\" class=\"dataframe\"><thead><tr><th>Incident Zip</th></tr><tr><td>str</td></tr></thead><tbody><tr><td>&quot;55164-0737&quot;</td></tr><tr><td>&quot;000000&quot;</td></tr><tr><td>&quot;29616-0759&quot;</td></tr><tr><td>&quot;35209-3114&quot;</td></tr><tr><td>&quot;11549-3650&quot;</td></tr><tr><td>&quot;77092-2016&quot;</td></tr></tbody></table></div>"
      ],
      "text/plain": [
       "shape: (6,)\n",
       "Series: 'Incident Zip' [str]\n",
       "[\n",
       "\t\"55164-0737\"\n",
       "\t\"000000\"\n",
       "\t\"29616-0759\"\n",
       "\t\"35209-3114\"\n",
       "\t\"11549-3650\"\n",
       "\t\"77092-2016\"\n",
       "]"
      ]
     },
     "execution_count": 17,
     "metadata": {},
     "output_type": "execute_result"
    }
   ],
   "source": [
    "# long_zip_codes = requests['Incident Zip'].str.len() > 5\n",
    "# requests['Incident Zip'][long_zip_codes].unique()\n",
    "\n",
    "result = (requests\n",
    "    .select(pl.col('Incident Zip')\n",
    "    .filter(pl.col('Incident Zip').str.len_chars() > 5)\n",
    "    .unique())\n",
    "    ['Incident Zip']\n",
    ")\n",
    "result"
   ]
  },
  {
   "cell_type": "markdown",
   "metadata": {},
   "source": [
    "Those all look okay to truncate to me."
   ]
  },
  {
   "cell_type": "code",
   "execution_count": 121,
   "metadata": {},
   "outputs": [],
   "source": [
    "requests['Incident Zip'] = requests['Incident Zip'].str.slice(0, 5)"
   ]
  },
  {
   "cell_type": "markdown",
   "metadata": {},
   "source": [
    "Done."
   ]
  },
  {
   "cell_type": "markdown",
   "metadata": {},
   "source": [
    "Earlier I thought 00083 was a broken zip code, but turns out Central Park's zip code 00083! Shows what I know. I'm still concerned about the 00000 zip codes, though: let's look at that. "
   ]
  },
  {
   "cell_type": "code",
   "execution_count": 122,
   "metadata": {},
   "outputs": [
    {
     "data": {
      "text/html": [
       "<div>\n",
       "<style scoped>\n",
       "    .dataframe tbody tr th:only-of-type {\n",
       "        vertical-align: middle;\n",
       "    }\n",
       "\n",
       "    .dataframe tbody tr th {\n",
       "        vertical-align: top;\n",
       "    }\n",
       "\n",
       "    .dataframe thead th {\n",
       "        text-align: right;\n",
       "    }\n",
       "</style>\n",
       "<table border=\"1\" class=\"dataframe\">\n",
       "  <thead>\n",
       "    <tr style=\"text-align: right;\">\n",
       "      <th></th>\n",
       "      <th>Unique Key</th>\n",
       "      <th>Created Date</th>\n",
       "      <th>Closed Date</th>\n",
       "      <th>Agency</th>\n",
       "      <th>Agency Name</th>\n",
       "      <th>Complaint Type</th>\n",
       "      <th>Descriptor</th>\n",
       "      <th>Location Type</th>\n",
       "      <th>Incident Zip</th>\n",
       "      <th>Incident Address</th>\n",
       "      <th>Street Name</th>\n",
       "      <th>Cross Street 1</th>\n",
       "      <th>Cross Street 2</th>\n",
       "      <th>Intersection Street 1</th>\n",
       "      <th>Intersection Street 2</th>\n",
       "      <th>Address Type</th>\n",
       "      <th>City</th>\n",
       "      <th>Landmark</th>\n",
       "      <th>Facility Type</th>\n",
       "      <th>Status</th>\n",
       "      <th>Due Date</th>\n",
       "      <th>Resolution Action Updated Date</th>\n",
       "      <th>Community Board</th>\n",
       "      <th>Borough</th>\n",
       "      <th>X Coordinate (State Plane)</th>\n",
       "      <th>Y Coordinate (State Plane)</th>\n",
       "      <th>Park Facility Name</th>\n",
       "      <th>Park Borough</th>\n",
       "      <th>School Name</th>\n",
       "      <th>School Number</th>\n",
       "      <th>School Region</th>\n",
       "      <th>School Code</th>\n",
       "      <th>School Phone Number</th>\n",
       "      <th>School Address</th>\n",
       "      <th>School City</th>\n",
       "      <th>School State</th>\n",
       "      <th>School Zip</th>\n",
       "      <th>School Not Found</th>\n",
       "      <th>School or Citywide Complaint</th>\n",
       "      <th>Vehicle Type</th>\n",
       "      <th>Taxi Company Borough</th>\n",
       "      <th>Taxi Pick Up Location</th>\n",
       "      <th>Bridge Highway Name</th>\n",
       "      <th>Bridge Highway Direction</th>\n",
       "      <th>Road Ramp</th>\n",
       "      <th>Bridge Highway Segment</th>\n",
       "      <th>Garage Lot Name</th>\n",
       "      <th>Ferry Direction</th>\n",
       "      <th>Ferry Terminal Name</th>\n",
       "      <th>Latitude</th>\n",
       "      <th>Longitude</th>\n",
       "      <th>Location</th>\n",
       "    </tr>\n",
       "  </thead>\n",
       "  <tbody>\n",
       "    <tr>\n",
       "      <th>42600</th>\n",
       "      <td>26529313</td>\n",
       "      <td>10/22/2013 02:51:06 PM</td>\n",
       "      <td>NaN</td>\n",
       "      <td>TLC</td>\n",
       "      <td>Taxi and Limousine Commission</td>\n",
       "      <td>Taxi Complaint</td>\n",
       "      <td>Driver Complaint</td>\n",
       "      <td>NaN</td>\n",
       "      <td>00000</td>\n",
       "      <td>EWR EWR</td>\n",
       "      <td>EWR</td>\n",
       "      <td>NaN</td>\n",
       "      <td>NaN</td>\n",
       "      <td>NaN</td>\n",
       "      <td>NaN</td>\n",
       "      <td>NaN</td>\n",
       "      <td>NEWARK</td>\n",
       "      <td>NaN</td>\n",
       "      <td>NaN</td>\n",
       "      <td>Assigned</td>\n",
       "      <td>12/07/2013 09:53:51 AM</td>\n",
       "      <td>10/23/2013 09:54:43 AM</td>\n",
       "      <td>0 Unspecified</td>\n",
       "      <td>Unspecified</td>\n",
       "      <td>NaN</td>\n",
       "      <td>NaN</td>\n",
       "      <td>Unspecified</td>\n",
       "      <td>Unspecified</td>\n",
       "      <td>Unspecified</td>\n",
       "      <td>Unspecified</td>\n",
       "      <td>Unspecified</td>\n",
       "      <td>Unspecified</td>\n",
       "      <td>Unspecified</td>\n",
       "      <td>Unspecified</td>\n",
       "      <td>Unspecified</td>\n",
       "      <td>Unspecified</td>\n",
       "      <td>Unspecified</td>\n",
       "      <td>N</td>\n",
       "      <td>NaN</td>\n",
       "      <td>NaN</td>\n",
       "      <td>NaN</td>\n",
       "      <td>Other</td>\n",
       "      <td>NaN</td>\n",
       "      <td>NaN</td>\n",
       "      <td>NaN</td>\n",
       "      <td>NaN</td>\n",
       "      <td>NaN</td>\n",
       "      <td>NaN</td>\n",
       "      <td>NaN</td>\n",
       "      <td>NaN</td>\n",
       "      <td>NaN</td>\n",
       "      <td>NaN</td>\n",
       "    </tr>\n",
       "    <tr>\n",
       "      <th>60843</th>\n",
       "      <td>26507389</td>\n",
       "      <td>10/17/2013 05:48:44 PM</td>\n",
       "      <td>NaN</td>\n",
       "      <td>TLC</td>\n",
       "      <td>Taxi and Limousine Commission</td>\n",
       "      <td>Taxi Complaint</td>\n",
       "      <td>Driver Complaint</td>\n",
       "      <td>Street</td>\n",
       "      <td>00000</td>\n",
       "      <td>1 NEWARK AIRPORT</td>\n",
       "      <td>NEWARK AIRPORT</td>\n",
       "      <td>NaN</td>\n",
       "      <td>NaN</td>\n",
       "      <td>NaN</td>\n",
       "      <td>NaN</td>\n",
       "      <td>NaN</td>\n",
       "      <td>NEWARK</td>\n",
       "      <td>NaN</td>\n",
       "      <td>NaN</td>\n",
       "      <td>Assigned</td>\n",
       "      <td>12/02/2013 11:59:46 AM</td>\n",
       "      <td>10/18/2013 12:01:08 PM</td>\n",
       "      <td>0 Unspecified</td>\n",
       "      <td>Unspecified</td>\n",
       "      <td>NaN</td>\n",
       "      <td>NaN</td>\n",
       "      <td>Unspecified</td>\n",
       "      <td>Unspecified</td>\n",
       "      <td>Unspecified</td>\n",
       "      <td>Unspecified</td>\n",
       "      <td>Unspecified</td>\n",
       "      <td>Unspecified</td>\n",
       "      <td>Unspecified</td>\n",
       "      <td>Unspecified</td>\n",
       "      <td>Unspecified</td>\n",
       "      <td>Unspecified</td>\n",
       "      <td>Unspecified</td>\n",
       "      <td>N</td>\n",
       "      <td>NaN</td>\n",
       "      <td>NaN</td>\n",
       "      <td>NaN</td>\n",
       "      <td>Other</td>\n",
       "      <td>NaN</td>\n",
       "      <td>NaN</td>\n",
       "      <td>NaN</td>\n",
       "      <td>NaN</td>\n",
       "      <td>NaN</td>\n",
       "      <td>NaN</td>\n",
       "      <td>NaN</td>\n",
       "      <td>NaN</td>\n",
       "      <td>NaN</td>\n",
       "      <td>NaN</td>\n",
       "    </tr>\n",
       "  </tbody>\n",
       "</table>\n",
       "</div>"
      ],
      "text/plain": [
       "       Unique Key            Created Date Closed Date Agency                    Agency Name  Complaint Type        Descriptor Location Type Incident Zip  Incident Address     Street Name Cross Street 1 Cross Street 2 Intersection Street 1 Intersection Street 2 Address Type    City Landmark Facility Type    Status                Due Date Resolution Action Updated Date Community Board      Borough  X Coordinate (State Plane)  Y Coordinate (State Plane) Park Facility Name Park Borough  School Name School Number School Region  School Code School Phone Number School Address  School City School State   School Zip School Not Found  School or Citywide Complaint Vehicle Type Taxi Company Borough Taxi Pick Up Location Bridge Highway Name Bridge Highway Direction Road Ramp Bridge Highway Segment Garage Lot Name Ferry Direction Ferry Terminal Name  Latitude  Longitude Location\n",
       "42600    26529313  10/22/2013 02:51:06 PM         NaN    TLC  Taxi and Limousine Commission  Taxi Complaint  Driver Complaint           NaN        00000           EWR EWR             EWR            NaN            NaN                   NaN                   NaN          NaN  NEWARK      NaN           NaN  Assigned  12/07/2013 09:53:51 AM         10/23/2013 09:54:43 AM   0 Unspecified  Unspecified                         NaN                         NaN        Unspecified  Unspecified  Unspecified   Unspecified   Unspecified  Unspecified         Unspecified    Unspecified  Unspecified  Unspecified  Unspecified                N                           NaN          NaN                  NaN                 Other                 NaN                      NaN       NaN                    NaN             NaN             NaN                 NaN       NaN        NaN      NaN\n",
       "60843    26507389  10/17/2013 05:48:44 PM         NaN    TLC  Taxi and Limousine Commission  Taxi Complaint  Driver Complaint        Street        00000  1 NEWARK AIRPORT  NEWARK AIRPORT            NaN            NaN                   NaN                   NaN          NaN  NEWARK      NaN           NaN  Assigned  12/02/2013 11:59:46 AM         10/18/2013 12:01:08 PM   0 Unspecified  Unspecified                         NaN                         NaN        Unspecified  Unspecified  Unspecified   Unspecified   Unspecified  Unspecified         Unspecified    Unspecified  Unspecified  Unspecified  Unspecified                N                           NaN          NaN                  NaN                 Other                 NaN                      NaN       NaN                    NaN             NaN             NaN                 NaN       NaN        NaN      NaN"
      ]
     },
     "execution_count": 122,
     "metadata": {},
     "output_type": "execute_result"
    }
   ],
   "source": [
    "requests[requests['Incident Zip'] == '00000']"
   ]
  },
  {
   "cell_type": "markdown",
   "metadata": {},
   "source": [
    "This looks bad to me. Let's set these to nan."
   ]
  },
  {
   "cell_type": "code",
   "execution_count": 123,
   "metadata": {},
   "outputs": [],
   "source": [
    "zero_zips = requests['Incident Zip'] == '00000'\n",
    "requests.loc[zero_zips, 'Incident Zip'] = np.nan"
   ]
  },
  {
   "cell_type": "markdown",
   "metadata": {},
   "source": [
    "Great. Let's see where we are now:"
   ]
  },
  {
   "cell_type": "code",
   "execution_count": 124,
   "metadata": {},
   "outputs": [
    {
     "ename": "TypeError",
     "evalue": "'<' not supported between instances of 'float' and 'str'",
     "output_type": "error",
     "traceback": [
      "\u001b[0;31m---------------------------------------------------------------------------\u001b[0m",
      "\u001b[0;31mTypeError\u001b[0m                                 Traceback (most recent call last)",
      "\u001b[0;32m<ipython-input-124-a216f82ef513>\u001b[0m in \u001b[0;36m<module>\u001b[0;34m\u001b[0m\n\u001b[1;32m      1\u001b[0m \u001b[0munique_zips\u001b[0m \u001b[0;34m=\u001b[0m \u001b[0mrequests\u001b[0m\u001b[0;34m[\u001b[0m\u001b[0;34m'Incident Zip'\u001b[0m\u001b[0;34m]\u001b[0m\u001b[0;34m.\u001b[0m\u001b[0munique\u001b[0m\u001b[0;34m(\u001b[0m\u001b[0;34m)\u001b[0m\u001b[0;34m\u001b[0m\u001b[0;34m\u001b[0m\u001b[0m\n\u001b[0;32m----> 2\u001b[0;31m \u001b[0munique_zips\u001b[0m\u001b[0;34m.\u001b[0m\u001b[0msort\u001b[0m\u001b[0;34m(\u001b[0m\u001b[0;34m)\u001b[0m\u001b[0;34m\u001b[0m\u001b[0;34m\u001b[0m\u001b[0m\n\u001b[0m\u001b[1;32m      3\u001b[0m \u001b[0munique_zips\u001b[0m\u001b[0;34m\u001b[0m\u001b[0;34m\u001b[0m\u001b[0m\n",
      "\u001b[0;31mTypeError\u001b[0m: '<' not supported between instances of 'float' and 'str'"
     ]
    }
   ],
   "source": [
    "unique_zips = requests['Incident Zip'].unique()\n",
    "unique_zips.sort()\n",
    "unique_zips"
   ]
  },
  {
   "cell_type": "markdown",
   "metadata": {},
   "source": [
    "Amazing! This is much cleaner. There's something a bit weird here, though -- I looked up 77056 on Google maps, and that's in Texas.\n",
    "\n",
    "Let's take a closer look:"
   ]
  },
  {
   "cell_type": "code",
   "execution_count": 125,
   "metadata": {},
   "outputs": [],
   "source": [
    "zips = requests['Incident Zip']\n",
    "# Let's say the zips starting with '0' and '1' are okay, for now. (this isn't actually true -- 13221 is in Syracuse, and why?)\n",
    "is_close = zips.str.startswith('0') | zips.str.startswith('1')\n",
    "# There are a bunch of NaNs, but we're not interested in them right now, so we'll say they're False\n",
    "is_far = ~(is_close) & zips.notnull()"
   ]
  },
  {
   "cell_type": "code",
   "execution_count": 126,
   "metadata": {},
   "outputs": [
    {
     "data": {
      "text/plain": [
       "12102    77056\n",
       "13450    70711\n",
       "29136    77092\n",
       "30939    55164\n",
       "44008    90010\n",
       "47048    23541\n",
       "57636    92123\n",
       "71001    92123\n",
       "71834    23502\n",
       "80573    61702\n",
       "85821    29616\n",
       "89304    35209\n",
       "94201    41042\n",
       "Name: Incident Zip, dtype: object"
      ]
     },
     "execution_count": 126,
     "metadata": {},
     "output_type": "execute_result"
    }
   ],
   "source": [
    "zips[is_far]"
   ]
  },
  {
   "cell_type": "code",
   "execution_count": 127,
   "metadata": {},
   "outputs": [
    {
     "data": {
      "text/html": [
       "<div>\n",
       "<style scoped>\n",
       "    .dataframe tbody tr th:only-of-type {\n",
       "        vertical-align: middle;\n",
       "    }\n",
       "\n",
       "    .dataframe tbody tr th {\n",
       "        vertical-align: top;\n",
       "    }\n",
       "\n",
       "    .dataframe thead th {\n",
       "        text-align: right;\n",
       "    }\n",
       "</style>\n",
       "<table border=\"1\" class=\"dataframe\">\n",
       "  <thead>\n",
       "    <tr style=\"text-align: right;\">\n",
       "      <th></th>\n",
       "      <th>Incident Zip</th>\n",
       "      <th>Descriptor</th>\n",
       "      <th>City</th>\n",
       "    </tr>\n",
       "  </thead>\n",
       "  <tbody>\n",
       "    <tr>\n",
       "      <th>71834</th>\n",
       "      <td>23502</td>\n",
       "      <td>Harassment</td>\n",
       "      <td>NORFOLK</td>\n",
       "    </tr>\n",
       "    <tr>\n",
       "      <th>47048</th>\n",
       "      <td>23541</td>\n",
       "      <td>Harassment</td>\n",
       "      <td>NORFOLK</td>\n",
       "    </tr>\n",
       "    <tr>\n",
       "      <th>85821</th>\n",
       "      <td>29616</td>\n",
       "      <td>Debt Not Owed</td>\n",
       "      <td>GREENVILLE</td>\n",
       "    </tr>\n",
       "    <tr>\n",
       "      <th>89304</th>\n",
       "      <td>35209</td>\n",
       "      <td>Harassment</td>\n",
       "      <td>BIRMINGHAM</td>\n",
       "    </tr>\n",
       "    <tr>\n",
       "      <th>94201</th>\n",
       "      <td>41042</td>\n",
       "      <td>Harassment</td>\n",
       "      <td>FLORENCE</td>\n",
       "    </tr>\n",
       "    <tr>\n",
       "      <th>30939</th>\n",
       "      <td>55164</td>\n",
       "      <td>Harassment</td>\n",
       "      <td>ST. PAUL</td>\n",
       "    </tr>\n",
       "    <tr>\n",
       "      <th>80573</th>\n",
       "      <td>61702</td>\n",
       "      <td>Billing Dispute</td>\n",
       "      <td>BLOOMIGTON</td>\n",
       "    </tr>\n",
       "    <tr>\n",
       "      <th>13450</th>\n",
       "      <td>70711</td>\n",
       "      <td>Contract Dispute</td>\n",
       "      <td>CLIFTON</td>\n",
       "    </tr>\n",
       "    <tr>\n",
       "      <th>12102</th>\n",
       "      <td>77056</td>\n",
       "      <td>Debt Not Owed</td>\n",
       "      <td>HOUSTON</td>\n",
       "    </tr>\n",
       "    <tr>\n",
       "      <th>29136</th>\n",
       "      <td>77092</td>\n",
       "      <td>False Advertising</td>\n",
       "      <td>HOUSTON</td>\n",
       "    </tr>\n",
       "    <tr>\n",
       "      <th>44008</th>\n",
       "      <td>90010</td>\n",
       "      <td>Billing Dispute</td>\n",
       "      <td>LOS ANGELES</td>\n",
       "    </tr>\n",
       "    <tr>\n",
       "      <th>57636</th>\n",
       "      <td>92123</td>\n",
       "      <td>Harassment</td>\n",
       "      <td>SAN DIEGO</td>\n",
       "    </tr>\n",
       "    <tr>\n",
       "      <th>71001</th>\n",
       "      <td>92123</td>\n",
       "      <td>Billing Dispute</td>\n",
       "      <td>SAN DIEGO</td>\n",
       "    </tr>\n",
       "  </tbody>\n",
       "</table>\n",
       "</div>"
      ],
      "text/plain": [
       "      Incident Zip         Descriptor         City\n",
       "71834        23502         Harassment      NORFOLK\n",
       "47048        23541         Harassment      NORFOLK\n",
       "85821        29616      Debt Not Owed   GREENVILLE\n",
       "89304        35209         Harassment   BIRMINGHAM\n",
       "94201        41042         Harassment     FLORENCE\n",
       "30939        55164         Harassment     ST. PAUL\n",
       "80573        61702    Billing Dispute   BLOOMIGTON\n",
       "13450        70711   Contract Dispute      CLIFTON\n",
       "12102        77056      Debt Not Owed      HOUSTON\n",
       "29136        77092  False Advertising      HOUSTON\n",
       "44008        90010    Billing Dispute  LOS ANGELES\n",
       "57636        92123         Harassment    SAN DIEGO\n",
       "71001        92123    Billing Dispute    SAN DIEGO"
      ]
     },
     "execution_count": 127,
     "metadata": {},
     "output_type": "execute_result"
    }
   ],
   "source": [
    "requests[is_far][['Incident Zip', 'Descriptor', 'City']].sort_values('Incident Zip')"
   ]
  },
  {
   "cell_type": "markdown",
   "metadata": {},
   "source": [
    "Okay, there really are requests coming from LA and Houston! Good to know. Filtering by zip code is probably a bad way to handle this -- we should really be looking at the city instead."
   ]
  },
  {
   "cell_type": "code",
   "execution_count": 128,
   "metadata": {},
   "outputs": [
    {
     "data": {
      "text/plain": [
       "BROOKLYN                  31662\n",
       "NEW YORK                  22664\n",
       "BRONX                     18438\n",
       "STATEN ISLAND              4766\n",
       "JAMAICA                    2246\n",
       "                          ...  \n",
       "BRIARWOOD                     1\n",
       "PORT JEFFERSON STATION        1\n",
       "NJ                            1\n",
       "ROSELYN                       1\n",
       "RYEBROOK                      1\n",
       "Name: City, Length: 100, dtype: int64"
      ]
     },
     "execution_count": 128,
     "metadata": {},
     "output_type": "execute_result"
    }
   ],
   "source": [
    "requests['City'].str.upper().value_counts()"
   ]
  },
  {
   "cell_type": "markdown",
   "metadata": {},
   "source": [
    "It looks like these are legitimate complaints, so we'll just leave them alone."
   ]
  },
  {
   "cell_type": "markdown",
   "metadata": {},
   "source": [
    "# 7.4 Putting it together"
   ]
  },
  {
   "cell_type": "markdown",
   "metadata": {},
   "source": [
    "Here's what we ended up doing to clean up our zip codes, all together:"
   ]
  },
  {
   "cell_type": "code",
   "execution_count": 129,
   "metadata": {},
   "outputs": [],
   "source": [
    "na_values = ['NO CLUE', 'N/A', '0']\n",
    "requests = pd.read_csv('./data/311-service-requests.csv', \n",
    "                       na_values=na_values, \n",
    "                       dtype={'Incident Zip': str})"
   ]
  },
  {
   "cell_type": "code",
   "execution_count": 130,
   "metadata": {},
   "outputs": [],
   "source": [
    "def fix_zip_codes(zips):\n",
    "    # Truncate everything to length 5 \n",
    "    zips = zips.str.slice(0, 5)\n",
    "    \n",
    "    # Set 00000 zip codes to nan\n",
    "    zero_zips = zips == '00000'\n",
    "    zips[zero_zips] = np.nan\n",
    "    \n",
    "    return zips"
   ]
  },
  {
   "cell_type": "code",
   "execution_count": 131,
   "metadata": {},
   "outputs": [],
   "source": [
    "requests['Incident Zip'] = fix_zip_codes(requests['Incident Zip'])"
   ]
  },
  {
   "cell_type": "code",
   "execution_count": 132,
   "metadata": {},
   "outputs": [
    {
     "data": {
      "text/plain": [
       "array(['11432', '11378', '10032', '10023', '10027', '11372', '11419',\n",
       "       '11417', '10011', '11225', '11218', '10003', '10029', '10466',\n",
       "       '11219', '10025', '10310', '11236', nan, '10033', '11216', '10016',\n",
       "       '10305', '10312', '10026', '10309', '10036', '11433', '11235',\n",
       "       '11213', '11379', '11101', '10014', '11231', '11234', '10457',\n",
       "       '10459', '10465', '11207', '10002', '10034', '11233', '10453',\n",
       "       '10456', '10469', '11374', '11221', '11421', '11215', '10007',\n",
       "       '10019', '11205', '11418', '11369', '11249', '10005', '10009',\n",
       "       '11211', '11412', '10458', '11229', '10065', '10030', '11222',\n",
       "       '10024', '10013', '11420', '11365', '10012', '11214', '11212',\n",
       "       '10022', '11232', '11040', '11226', '10281', '11102', '11208',\n",
       "       '10001', '10472', '11414', '11223', '10040', '11220', '11373',\n",
       "       '11203', '11691', '11356', '10017', '10452', '10280', '11217',\n",
       "       '10031', '11201', '11358', '10128', '11423', '10039', '10010',\n",
       "       '11209', '10021', '10037', '11413', '11375', '11238', '10473',\n",
       "       '11103', '11354', '11361', '11106', '11385', '10463', '10467',\n",
       "       '11204', '11237', '11377', '11364', '11434', '11435', '11210',\n",
       "       '11228', '11368', '11694', '10464', '11415', '10314', '10301',\n",
       "       '10018', '10038', '11105', '11230', '10468', '11104', '10471',\n",
       "       '11416', '10075', '11422', '11355', '10028', '10462', '10306',\n",
       "       '10461', '11224', '11429', '10035', '11366', '11362', '11206',\n",
       "       '10460', '10304', '11360', '11411', '10455', '10475', '10069',\n",
       "       '10303', '10308', '10302', '11357', '10470', '11367', '11370',\n",
       "       '10454', '10451', '11436', '11426', '10153', '11004', '11428',\n",
       "       '11427', '11001', '11363', '10004', '10474', '11430', '10000',\n",
       "       '10307', '11239', '10119', '10006', '10048', '11697', '11692',\n",
       "       '11693', '10573', '00083', '11559', '10020', '77056', '11776',\n",
       "       '70711', '10282', '11109', '10044', '02061', '77092', '14225',\n",
       "       '55164', '19711', '07306', '90010', '11747', '23541', '11788',\n",
       "       '07604', '10112', '11563', '11580', '07087', '11042', '07093',\n",
       "       '11501', '92123', '11575', '07109', '11797', '10803', '11716',\n",
       "       '11722', '11549', '10162', '23502', '11518', '07020', '08807',\n",
       "       '11577', '07114', '11003', '07201', '61702', '10103', '29616',\n",
       "       '35209', '11520', '11735', '10129', '11005', '41042', '11590',\n",
       "       '06901', '07208', '11530', '13221', '10954', '11111', '10107'],\n",
       "      dtype=object)"
      ]
     },
     "execution_count": 132,
     "metadata": {},
     "output_type": "execute_result"
    }
   ],
   "source": [
    "requests['Incident Zip'].unique()"
   ]
  },
  {
   "cell_type": "markdown",
   "metadata": {},
   "source": [
    "<style>\n",
    "    @font-face {\n",
    "        font-family: \"Computer Modern\";\n",
    "        src: url('http://mirrors.ctan.org/fonts/cm-unicode/fonts/otf/cmunss.otf');\n",
    "    }\n",
    "    div.cell{\n",
    "        width:800px;\n",
    "        margin-left:16% !important;\n",
    "        margin-right:auto;\n",
    "    }\n",
    "    h1 {\n",
    "        font-family: Helvetica, serif;\n",
    "    }\n",
    "    h4{\n",
    "        margin-top:12px;\n",
    "        margin-bottom: 3px;\n",
    "       }\n",
    "    div.text_cell_render{\n",
    "        font-family: Computer Modern, \"Helvetica Neue\", Arial, Helvetica, Geneva, sans-serif;\n",
    "        line-height: 145%;\n",
    "        font-size: 130%;\n",
    "        width:800px;\n",
    "        margin-left:auto;\n",
    "        margin-right:auto;\n",
    "    }\n",
    "    .CodeMirror{\n",
    "            font-family: \"Source Code Pro\", source-code-pro,Consolas, monospace;\n",
    "    }\n",
    "    .text_cell_render h5 {\n",
    "        font-weight: 300;\n",
    "        font-size: 22pt;\n",
    "        color: #4057A1;\n",
    "        font-style: italic;\n",
    "        margin-bottom: .5em;\n",
    "        margin-top: 0.5em;\n",
    "        display: block;\n",
    "    }\n",
    "    \n",
    "    .warning{\n",
    "        color: rgb( 240, 20, 20 )\n",
    "        }  "
   ]
  },
  {
   "cell_type": "code",
   "execution_count": null,
   "metadata": {},
   "outputs": [],
   "source": []
  }
 ],
 "metadata": {
  "kernelspec": {
   "display_name": "venv",
   "language": "python",
   "name": "python3"
  },
  "language_info": {
   "codemirror_mode": {
    "name": "ipython",
    "version": 3
   },
   "file_extension": ".py",
   "mimetype": "text/x-python",
   "name": "python",
   "nbconvert_exporter": "python",
   "pygments_lexer": "ipython3",
   "version": "3.11.1"
  },
  "widgets": {
   "application/vnd.jupyter.widget-state+json": {
    "state": {},
    "version_major": 2,
    "version_minor": 0
   }
  }
 },
 "nbformat": 4,
 "nbformat_minor": 4
}
