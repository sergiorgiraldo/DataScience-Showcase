{
 "cells": [
  {
   "cell_type": "code",
   "execution_count": 2,
   "metadata": {},
   "outputs": [],
   "source": [
    "# The usual preamble\n",
    "%matplotlib inline\n",
    "import polars as pl\n",
    "import matplotlib.pyplot as plt\n",
    "\n",
    "# Make the graphs a bit prettier, and bigger\n",
    "plt.style.use('ggplot')\n",
    "\n",
    "pl.Config.set_tbl_cols(60)\n",
    "pl.Config.set_fmt_str_lengths(5000)\n",
    "\n",
    "plt.rcParams['figure.figsize'] = (15, 5)"
   ]
  },
  {
   "cell_type": "markdown",
   "metadata": {},
   "source": [
    "One of the main problems with messy data is: how do you know if it's messy or not?\n",
    "\n",
    "We're going to use the NYC 311 service request dataset again here, since it's big and a bit unwieldy."
   ]
  },
  {
   "cell_type": "code",
   "execution_count": 3,
   "metadata": {},
   "outputs": [],
   "source": [
    "requests = pl.read_csv('./data/311-service-requests.csv', infer_schema_length=0, schema_overrides=[pl.Utf8])"
   ]
  },
  {
   "cell_type": "markdown",
   "metadata": {},
   "source": [
    "# 7.1 How do we know if it's messy? "
   ]
  },
  {
   "cell_type": "markdown",
   "metadata": {},
   "source": [
    "We're going to look at a few columns here. I know already that there are some problems with the zip code, so let's look at that first.\n",
    " \n",
    "To get a sense for whether a column has problems, I usually use `.unique()` to look at all its values. If it's a numeric column, I'll instead plot a histogram to get a sense of the distribution.\n",
    "\n",
    "When we look at the unique values in \"Incident Zip\", it quickly becomes clear that this is a mess.\n",
    "\n",
    "Some of the problems:\n",
    "\n",
    "* Some have been parsed as strings, and some as floats\n",
    "* There are `nan`s \n",
    "* Some of the zip codes are `29616-0759` or `83`\n",
    "* There are some N/A values that pandas didn't recognize, like 'N/A' and 'NO CLUE'\n",
    "\n",
    "What we can do:\n",
    "\n",
    "* Normalize 'N/A' and 'NO CLUE' into regular nan values\n",
    "* Look at what's up with the 83, and decide what to do\n",
    "* Make everything strings"
   ]
  },
  {
   "cell_type": "code",
   "execution_count": 4,
   "metadata": {},
   "outputs": [
    {
     "data": {
      "text/html": [
       "<div><style>\n",
       ".dataframe > thead > tr,\n",
       ".dataframe > tbody > tr {\n",
       "  text-align: right;\n",
       "  white-space: pre-wrap;\n",
       "}\n",
       "</style>\n",
       "<small>shape: (251,)</small><table border=\"1\" class=\"dataframe\"><thead><tr><th>Incident Zip</th></tr><tr><td>str</td></tr></thead><tbody><tr><td>&quot;11220&quot;</td></tr><tr><td>&quot;11419&quot;</td></tr><tr><td>&quot;10000&quot;</td></tr><tr><td>&quot;11375&quot;</td></tr><tr><td>&quot;11104&quot;</td></tr><tr><td>&hellip;</td></tr><tr><td>&quot;41042&quot;</td></tr><tr><td>&quot;08807&quot;</td></tr><tr><td>&quot;92123&quot;</td></tr><tr><td>&quot;11716&quot;</td></tr><tr><td>&quot;10803&quot;</td></tr></tbody></table></div>"
      ],
      "text/plain": [
       "shape: (251,)\n",
       "Series: 'Incident Zip' [str]\n",
       "[\n",
       "\t\"11220\"\n",
       "\t\"11419\"\n",
       "\t\"10000\"\n",
       "\t\"11375\"\n",
       "\t\"11104\"\n",
       "\t…\n",
       "\t\"41042\"\n",
       "\t\"08807\"\n",
       "\t\"92123\"\n",
       "\t\"11716\"\n",
       "\t\"10803\"\n",
       "]"
      ]
     },
     "execution_count": 4,
     "metadata": {},
     "output_type": "execute_result"
    }
   ],
   "source": [
    "requests['Incident Zip'].unique()"
   ]
  },
  {
   "cell_type": "markdown",
   "metadata": {},
   "source": [
    "# 7.2 Fixing the nan values and string/float confusion"
   ]
  },
  {
   "cell_type": "markdown",
   "metadata": {},
   "source": [
    "We can pass a `na_values` option to `pd.read_csv` to clean this up a little bit. We can also specify that the type of Incident Zip is a string, not a float."
   ]
  },
  {
   "cell_type": "code",
   "execution_count": 7,
   "metadata": {},
   "outputs": [],
   "source": [
    "na_values = ['NO CLUE', 'N/A', '0']\n",
    "requests = pl.read_csv(\n",
    "    './data/311-service-requests.csv',\n",
    "    null_values=na_values,\n",
    "    schema_overrides={'Incident Zip': pl.Utf8}  \n",
    ")"
   ]
  },
  {
   "cell_type": "code",
   "execution_count": 8,
   "metadata": {},
   "outputs": [
    {
     "data": {
      "text/html": [
       "<div><style>\n",
       ".dataframe > thead > tr,\n",
       ".dataframe > tbody > tr {\n",
       "  text-align: right;\n",
       "  white-space: pre-wrap;\n",
       "}\n",
       "</style>\n",
       "<small>shape: (249,)</small><table border=\"1\" class=\"dataframe\"><thead><tr><th>Incident Zip</th></tr><tr><td>str</td></tr></thead><tbody><tr><td>&quot;55164-0737&quot;</td></tr><tr><td>&quot;11549-3650&quot;</td></tr><tr><td>&quot;11697&quot;</td></tr><tr><td>&quot;11575&quot;</td></tr><tr><td>&quot;11413&quot;</td></tr><tr><td>&hellip;</td></tr><tr><td>&quot;11207&quot;</td></tr><tr><td>&quot;10034&quot;</td></tr><tr><td>&quot;11520&quot;</td></tr><tr><td>&quot;10282&quot;</td></tr><tr><td>&quot;11109&quot;</td></tr></tbody></table></div>"
      ],
      "text/plain": [
       "shape: (249,)\n",
       "Series: 'Incident Zip' [str]\n",
       "[\n",
       "\t\"55164-0737\"\n",
       "\t\"11549-3650\"\n",
       "\t\"11697\"\n",
       "\t\"11575\"\n",
       "\t\"11413\"\n",
       "\t…\n",
       "\t\"11207\"\n",
       "\t\"10034\"\n",
       "\t\"11520\"\n",
       "\t\"10282\"\n",
       "\t\"11109\"\n",
       "]"
      ]
     },
     "execution_count": 8,
     "metadata": {},
     "output_type": "execute_result"
    }
   ],
   "source": [
    "requests['Incident Zip'].unique()"
   ]
  },
  {
   "cell_type": "markdown",
   "metadata": {},
   "source": [
    "# 7.3 What's up with the dashes?"
   ]
  },
  {
   "cell_type": "code",
   "execution_count": 9,
   "metadata": {},
   "outputs": [
    {
     "data": {
      "text/plain": [
       "5"
      ]
     },
     "execution_count": 9,
     "metadata": {},
     "output_type": "execute_result"
    }
   ],
   "source": [
    "rows_with_dashes = (requests\n",
    "    .select(pl.col('Incident Zip').str.contains('-').fill_null(False))\n",
    "    .to_series()\n",
    ")\n",
    "\n",
    "result = len(requests.filter(rows_with_dashes))\n",
    "result"
   ]
  },
  {
   "cell_type": "code",
   "execution_count": 10,
   "metadata": {},
   "outputs": [
    {
     "data": {
      "text/html": [
       "<div><style>\n",
       ".dataframe > thead > tr,\n",
       ".dataframe > tbody > tr {\n",
       "  text-align: right;\n",
       "  white-space: pre-wrap;\n",
       "}\n",
       "</style>\n",
       "<small>shape: (5, 52)</small><table border=\"1\" class=\"dataframe\"><thead><tr><th>Unique Key</th><th>Created Date</th><th>Closed Date</th><th>Agency</th><th>Agency Name</th><th>Complaint Type</th><th>Descriptor</th><th>Location Type</th><th>Incident Zip</th><th>Incident Address</th><th>Street Name</th><th>Cross Street 1</th><th>Cross Street 2</th><th>Intersection Street 1</th><th>Intersection Street 2</th><th>Address Type</th><th>City</th><th>Landmark</th><th>Facility Type</th><th>Status</th><th>Due Date</th><th>Resolution Action Updated Date</th><th>Community Board</th><th>Borough</th><th>X Coordinate (State Plane)</th><th>Y Coordinate (State Plane)</th><th>Park Facility Name</th><th>Park Borough</th><th>School Name</th><th>School Number</th><th>School Region</th><th>School Code</th><th>School Phone Number</th><th>School Address</th><th>School City</th><th>School State</th><th>School Zip</th><th>School Not Found</th><th>School or Citywide Complaint</th><th>Vehicle Type</th><th>Taxi Company Borough</th><th>Taxi Pick Up Location</th><th>Bridge Highway Name</th><th>Bridge Highway Direction</th><th>Road Ramp</th><th>Bridge Highway Segment</th><th>Garage Lot Name</th><th>Ferry Direction</th><th>Ferry Terminal Name</th><th>Latitude</th><th>Longitude</th><th>Location</th></tr><tr><td>i64</td><td>str</td><td>str</td><td>str</td><td>str</td><td>str</td><td>str</td><td>str</td><td>str</td><td>str</td><td>str</td><td>str</td><td>str</td><td>str</td><td>str</td><td>str</td><td>str</td><td>str</td><td>str</td><td>str</td><td>str</td><td>str</td><td>str</td><td>str</td><td>i64</td><td>i64</td><td>str</td><td>str</td><td>str</td><td>str</td><td>str</td><td>str</td><td>str</td><td>str</td><td>str</td><td>str</td><td>str</td><td>str</td><td>str</td><td>str</td><td>str</td><td>str</td><td>str</td><td>str</td><td>str</td><td>str</td><td>str</td><td>str</td><td>str</td><td>f64</td><td>f64</td><td>str</td></tr></thead><tbody><tr><td>26550551</td><td>&quot;10/24/2013 06:16:34 PM&quot;</td><td>null</td><td>&quot;DCA&quot;</td><td>&quot;Department of Consumer Affairs&quot;</td><td>&quot;Consumer Complaint&quot;</td><td>&quot;False Advertising&quot;</td><td>null</td><td>&quot;77092-2016&quot;</td><td>&quot;2700 EAST SELTICE WAY&quot;</td><td>&quot;EAST SELTICE WAY&quot;</td><td>null</td><td>null</td><td>null</td><td>null</td><td>null</td><td>&quot;HOUSTON&quot;</td><td>null</td><td>null</td><td>&quot;Assigned&quot;</td><td>&quot;11/13/2013 11:15:20 AM&quot;</td><td>&quot;10/29/2013 11:16:16 AM&quot;</td><td>&quot;0 Unspecified&quot;</td><td>&quot;Unspecified&quot;</td><td>null</td><td>null</td><td>&quot;Unspecified&quot;</td><td>&quot;Unspecified&quot;</td><td>&quot;Unspecified&quot;</td><td>&quot;Unspecified&quot;</td><td>&quot;Unspecified&quot;</td><td>&quot;Unspecified&quot;</td><td>&quot;Unspecified&quot;</td><td>&quot;Unspecified&quot;</td><td>&quot;Unspecified&quot;</td><td>&quot;Unspecified&quot;</td><td>&quot;Unspecified&quot;</td><td>&quot;N&quot;</td><td>null</td><td>null</td><td>null</td><td>null</td><td>null</td><td>null</td><td>null</td><td>null</td><td>null</td><td>null</td><td>null</td><td>null</td><td>null</td><td>null</td></tr><tr><td>26548831</td><td>&quot;10/24/2013 09:35:10 AM&quot;</td><td>null</td><td>&quot;DCA&quot;</td><td>&quot;Department of Consumer Affairs&quot;</td><td>&quot;Consumer Complaint&quot;</td><td>&quot;Harassment&quot;</td><td>null</td><td>&quot;55164-0737&quot;</td><td>&quot;P.O. BOX 64437&quot;</td><td>&quot;64437&quot;</td><td>null</td><td>null</td><td>null</td><td>null</td><td>null</td><td>&quot;ST. PAUL&quot;</td><td>null</td><td>null</td><td>&quot;Assigned&quot;</td><td>&quot;11/13/2013 02:30:21 PM&quot;</td><td>&quot;10/29/2013 02:31:06 PM&quot;</td><td>&quot;0 Unspecified&quot;</td><td>&quot;Unspecified&quot;</td><td>null</td><td>null</td><td>&quot;Unspecified&quot;</td><td>&quot;Unspecified&quot;</td><td>&quot;Unspecified&quot;</td><td>&quot;Unspecified&quot;</td><td>&quot;Unspecified&quot;</td><td>&quot;Unspecified&quot;</td><td>&quot;Unspecified&quot;</td><td>&quot;Unspecified&quot;</td><td>&quot;Unspecified&quot;</td><td>&quot;Unspecified&quot;</td><td>&quot;Unspecified&quot;</td><td>&quot;N&quot;</td><td>null</td><td>null</td><td>null</td><td>null</td><td>null</td><td>null</td><td>null</td><td>null</td><td>null</td><td>null</td><td>null</td><td>null</td><td>null</td><td>null</td></tr><tr><td>26488417</td><td>&quot;10/15/2013 03:40:33 PM&quot;</td><td>null</td><td>&quot;TLC&quot;</td><td>&quot;Taxi and Limousine Commission&quot;</td><td>&quot;Taxi Complaint&quot;</td><td>&quot;Driver Complaint&quot;</td><td>&quot;Street&quot;</td><td>&quot;11549-3650&quot;</td><td>&quot;365 HOFSTRA UNIVERSITY&quot;</td><td>&quot;HOFSTRA UNIVERSITY&quot;</td><td>null</td><td>null</td><td>null</td><td>null</td><td>null</td><td>&quot;HEMSTEAD&quot;</td><td>null</td><td>null</td><td>&quot;Assigned&quot;</td><td>&quot;11/30/2013 01:20:33 PM&quot;</td><td>&quot;10/16/2013 01:21:39 PM&quot;</td><td>&quot;0 Unspecified&quot;</td><td>&quot;Unspecified&quot;</td><td>null</td><td>null</td><td>&quot;Unspecified&quot;</td><td>&quot;Unspecified&quot;</td><td>&quot;Unspecified&quot;</td><td>&quot;Unspecified&quot;</td><td>&quot;Unspecified&quot;</td><td>&quot;Unspecified&quot;</td><td>&quot;Unspecified&quot;</td><td>&quot;Unspecified&quot;</td><td>&quot;Unspecified&quot;</td><td>&quot;Unspecified&quot;</td><td>&quot;Unspecified&quot;</td><td>&quot;N&quot;</td><td>null</td><td>null</td><td>null</td><td>&quot;La Guardia Airport&quot;</td><td>null</td><td>null</td><td>null</td><td>null</td><td>null</td><td>null</td><td>null</td><td>null</td><td>null</td><td>null</td></tr><tr><td>26468296</td><td>&quot;10/10/2013 12:36:43 PM&quot;</td><td>&quot;10/26/2013 01:07:07 AM&quot;</td><td>&quot;DCA&quot;</td><td>&quot;Department of Consumer Affairs&quot;</td><td>&quot;Consumer Complaint&quot;</td><td>&quot;Debt Not Owed&quot;</td><td>null</td><td>&quot;29616-0759&quot;</td><td>&quot;PO BOX 25759&quot;</td><td>&quot;BOX 25759&quot;</td><td>null</td><td>null</td><td>null</td><td>null</td><td>null</td><td>&quot;GREENVILLE&quot;</td><td>null</td><td>null</td><td>&quot;Closed&quot;</td><td>&quot;10/26/2013 09:20:28 AM&quot;</td><td>&quot;10/26/2013 01:07:07 AM&quot;</td><td>&quot;0 Unspecified&quot;</td><td>&quot;Unspecified&quot;</td><td>null</td><td>null</td><td>&quot;Unspecified&quot;</td><td>&quot;Unspecified&quot;</td><td>&quot;Unspecified&quot;</td><td>&quot;Unspecified&quot;</td><td>&quot;Unspecified&quot;</td><td>&quot;Unspecified&quot;</td><td>&quot;Unspecified&quot;</td><td>&quot;Unspecified&quot;</td><td>&quot;Unspecified&quot;</td><td>&quot;Unspecified&quot;</td><td>&quot;Unspecified&quot;</td><td>&quot;N&quot;</td><td>null</td><td>null</td><td>null</td><td>null</td><td>null</td><td>null</td><td>null</td><td>null</td><td>null</td><td>null</td><td>null</td><td>null</td><td>null</td><td>null</td></tr><tr><td>26461137</td><td>&quot;10/09/2013 05:23:46 PM&quot;</td><td>&quot;10/25/2013 01:06:41 AM&quot;</td><td>&quot;DCA&quot;</td><td>&quot;Department of Consumer Affairs&quot;</td><td>&quot;Consumer Complaint&quot;</td><td>&quot;Harassment&quot;</td><td>null</td><td>&quot;35209-3114&quot;</td><td>&quot;600 BEACON PKWY&quot;</td><td>&quot;BEACON PKWY&quot;</td><td>null</td><td>null</td><td>null</td><td>null</td><td>null</td><td>&quot;BIRMINGHAM&quot;</td><td>null</td><td>null</td><td>&quot;Closed&quot;</td><td>&quot;10/25/2013 02:43:42 PM&quot;</td><td>&quot;10/25/2013 01:06:41 AM&quot;</td><td>&quot;0 Unspecified&quot;</td><td>&quot;Unspecified&quot;</td><td>null</td><td>null</td><td>&quot;Unspecified&quot;</td><td>&quot;Unspecified&quot;</td><td>&quot;Unspecified&quot;</td><td>&quot;Unspecified&quot;</td><td>&quot;Unspecified&quot;</td><td>&quot;Unspecified&quot;</td><td>&quot;Unspecified&quot;</td><td>&quot;Unspecified&quot;</td><td>&quot;Unspecified&quot;</td><td>&quot;Unspecified&quot;</td><td>&quot;Unspecified&quot;</td><td>&quot;N&quot;</td><td>null</td><td>null</td><td>null</td><td>null</td><td>null</td><td>null</td><td>null</td><td>null</td><td>null</td><td>null</td><td>null</td><td>null</td><td>null</td><td>null</td></tr></tbody></table></div>"
      ],
      "text/plain": [
       "shape: (5, 52)\n",
       "┌─────┬─────┬─────┬─────┬─────┬─────┬─────┬─────┬─────┬─────┬─────┬─────┬─────┬─────┬─────┬─────┬─────┬─────┬─────┬─────┬─────┬─────┬─────┬─────┬─────┬─────┬─────┬─────┬─────┬─────┬─────┬─────┬─────┬─────┬─────┬─────┬─────┬─────┬─────┬─────┬─────┬─────┬─────┬─────┬─────┬─────┬─────┬─────┬─────┬─────┬─────┬─────┐\n",
       "│ Uni ┆ Cre ┆ Clo ┆ Age ┆ Age ┆ Com ┆ Des ┆ Loc ┆ Inc ┆ Inc ┆ Str ┆ Cro ┆ Cro ┆ Int ┆ Int ┆ Add ┆ Cit ┆ Lan ┆ Fac ┆ Sta ┆ Due ┆ Res ┆ Com ┆ Bor ┆ X   ┆ Y   ┆ Par ┆ Par ┆ Sch ┆ Sch ┆ Sch ┆ Sch ┆ Sch ┆ Sch ┆ Sch ┆ Sch ┆ Sch ┆ Sch ┆ Sch ┆ Veh ┆ Tax ┆ Tax ┆ Bri ┆ Bri ┆ Roa ┆ Bri ┆ Gar ┆ Fer ┆ Fer ┆ Lat ┆ Lon ┆ Loc │\n",
       "│ que ┆ ate ┆ sed ┆ ncy ┆ ncy ┆ pla ┆ cri ┆ ati ┆ ide ┆ ide ┆ eet ┆ ss  ┆ ss  ┆ ers ┆ ers ┆ res ┆ y   ┆ dma ┆ ili ┆ tus ┆ Dat ┆ olu ┆ mun ┆ oug ┆ Coo ┆ Coo ┆ k   ┆ k   ┆ ool ┆ ool ┆ ool ┆ ool ┆ ool ┆ ool ┆ ool ┆ ool ┆ ool ┆ ool ┆ ool ┆ icl ┆ i   ┆ i   ┆ dge ┆ dge ┆ d   ┆ dge ┆ age ┆ ry  ┆ ry  ┆ itu ┆ git ┆ ati │\n",
       "│ Key ┆ d   ┆ Dat ┆ --- ┆ Nam ┆ int ┆ pto ┆ on  ┆ nt  ┆ nt  ┆ Nam ┆ Str ┆ Str ┆ ect ┆ ect ┆ s   ┆ --- ┆ rk  ┆ ty  ┆ --- ┆ e   ┆ tio ┆ ity ┆ h   ┆ rdi ┆ rdi ┆ Fac ┆ Bor ┆ Nam ┆ Num ┆ Reg ┆ Cod ┆ Pho ┆ Add ┆ Cit ┆ Sta ┆ Zip ┆ Not ┆ or  ┆ e   ┆ Com ┆ Pic ┆ Hig ┆ Hig ┆ Ram ┆ Hig ┆ Lot ┆ Dir ┆ Ter ┆ de  ┆ ude ┆ on  │\n",
       "│ --- ┆ Dat ┆ e   ┆ str ┆ e   ┆ Typ ┆ r   ┆ Typ ┆ Zip ┆ Add ┆ e   ┆ eet ┆ eet ┆ ion ┆ ion ┆ Typ ┆ str ┆ --- ┆ Typ ┆ str ┆ --- ┆ n   ┆ Boa ┆ --- ┆ nat ┆ nat ┆ ili ┆ oug ┆ e   ┆ ber ┆ ion ┆ e   ┆ ne  ┆ res ┆ y   ┆ te  ┆ --- ┆ Fou ┆ Cit ┆ Typ ┆ pan ┆ k   ┆ hwa ┆ hwa ┆ p   ┆ hwa ┆ Nam ┆ ect ┆ min ┆ --- ┆ --- ┆ --- │\n",
       "│ i64 ┆ e   ┆ --- ┆     ┆ --- ┆ e   ┆ --- ┆ e   ┆ --- ┆ res ┆ --- ┆ 1   ┆ 2   ┆ Str ┆ Str ┆ e   ┆     ┆ str ┆ e   ┆     ┆ str ┆ Act ┆ rd  ┆ str ┆ e   ┆ e   ┆ ty  ┆ h   ┆ --- ┆ --- ┆ --- ┆ --- ┆ Num ┆ s   ┆ --- ┆ --- ┆ str ┆ nd  ┆ ywi ┆ e   ┆ y   ┆ Up  ┆ y   ┆ y   ┆ --- ┆ y   ┆ e   ┆ ion ┆ al  ┆ f64 ┆ f64 ┆ str │\n",
       "│     ┆ --- ┆ str ┆     ┆ str ┆ --- ┆ str ┆ --- ┆ str ┆ s   ┆ str ┆ --- ┆ --- ┆ eet ┆ eet ┆ --- ┆     ┆     ┆ --- ┆     ┆     ┆ ion ┆ --- ┆     ┆ (St ┆ (St ┆ Nam ┆ --- ┆ str ┆ str ┆ str ┆ str ┆ ber ┆ --- ┆ str ┆ str ┆     ┆ --- ┆ de  ┆ --- ┆ Bor ┆ Loc ┆ Nam ┆ Dir ┆ str ┆ Seg ┆ --- ┆ --- ┆ Nam ┆     ┆     ┆     │\n",
       "│     ┆ str ┆     ┆     ┆     ┆ str ┆     ┆ str ┆     ┆ --- ┆     ┆ str ┆ str ┆ 1   ┆ 2   ┆ str ┆     ┆     ┆ str ┆     ┆     ┆ Upd ┆ str ┆     ┆ ate ┆ ate ┆ e   ┆ str ┆     ┆     ┆     ┆     ┆ --- ┆ str ┆     ┆     ┆     ┆ str ┆ Com ┆ str ┆ oug ┆ ati ┆ e   ┆ ect ┆     ┆ men ┆ str ┆ str ┆ e   ┆     ┆     ┆     │\n",
       "│     ┆     ┆     ┆     ┆     ┆     ┆     ┆     ┆     ┆ str ┆     ┆     ┆     ┆ --- ┆ --- ┆     ┆     ┆     ┆     ┆     ┆     ┆ ate ┆     ┆     ┆ Pla ┆ Pla ┆ --- ┆     ┆     ┆     ┆     ┆     ┆ str ┆     ┆     ┆     ┆     ┆     ┆ pla ┆     ┆ h   ┆ on  ┆ --- ┆ ion ┆     ┆ t   ┆     ┆     ┆ --- ┆     ┆     ┆     │\n",
       "│     ┆     ┆     ┆     ┆     ┆     ┆     ┆     ┆     ┆     ┆     ┆     ┆     ┆ str ┆ str ┆     ┆     ┆     ┆     ┆     ┆     ┆ d   ┆     ┆     ┆ ne) ┆ ne) ┆ str ┆     ┆     ┆     ┆     ┆     ┆     ┆     ┆     ┆     ┆     ┆     ┆ int ┆     ┆ --- ┆ --- ┆ str ┆ --- ┆     ┆ --- ┆     ┆     ┆ str ┆     ┆     ┆     │\n",
       "│     ┆     ┆     ┆     ┆     ┆     ┆     ┆     ┆     ┆     ┆     ┆     ┆     ┆     ┆     ┆     ┆     ┆     ┆     ┆     ┆     ┆ Dat ┆     ┆     ┆ --- ┆ --- ┆     ┆     ┆     ┆     ┆     ┆     ┆     ┆     ┆     ┆     ┆     ┆     ┆ --- ┆     ┆ str ┆ str ┆     ┆ str ┆     ┆ str ┆     ┆     ┆     ┆     ┆     ┆     │\n",
       "│     ┆     ┆     ┆     ┆     ┆     ┆     ┆     ┆     ┆     ┆     ┆     ┆     ┆     ┆     ┆     ┆     ┆     ┆     ┆     ┆     ┆ e   ┆     ┆     ┆ i64 ┆ i64 ┆     ┆     ┆     ┆     ┆     ┆     ┆     ┆     ┆     ┆     ┆     ┆     ┆ str ┆     ┆     ┆     ┆     ┆     ┆     ┆     ┆     ┆     ┆     ┆     ┆     ┆     │\n",
       "│     ┆     ┆     ┆     ┆     ┆     ┆     ┆     ┆     ┆     ┆     ┆     ┆     ┆     ┆     ┆     ┆     ┆     ┆     ┆     ┆     ┆ --- ┆     ┆     ┆     ┆     ┆     ┆     ┆     ┆     ┆     ┆     ┆     ┆     ┆     ┆     ┆     ┆     ┆     ┆     ┆     ┆     ┆     ┆     ┆     ┆     ┆     ┆     ┆     ┆     ┆     ┆     │\n",
       "│     ┆     ┆     ┆     ┆     ┆     ┆     ┆     ┆     ┆     ┆     ┆     ┆     ┆     ┆     ┆     ┆     ┆     ┆     ┆     ┆     ┆ str ┆     ┆     ┆     ┆     ┆     ┆     ┆     ┆     ┆     ┆     ┆     ┆     ┆     ┆     ┆     ┆     ┆     ┆     ┆     ┆     ┆     ┆     ┆     ┆     ┆     ┆     ┆     ┆     ┆     ┆     │\n",
       "╞═════╪═════╪═════╪═════╪═════╪═════╪═════╪═════╪═════╪═════╪═════╪═════╪═════╪═════╪═════╪═════╪═════╪═════╪═════╪═════╪═════╪═════╪═════╪═════╪═════╪═════╪═════╪═════╪═════╪═════╪═════╪═════╪═════╪═════╪═════╪═════╪═════╪═════╪═════╪═════╪═════╪═════╪═════╪═════╪═════╪═════╪═════╪═════╪═════╪═════╪═════╪═════╡\n",
       "│ 265 ┆ 10/ ┆ nul ┆ DCA ┆ Dep ┆ Con ┆ Fal ┆ nul ┆ 770 ┆ 270 ┆ EAS ┆ nul ┆ nul ┆ nul ┆ nul ┆ nul ┆ HOU ┆ nul ┆ nul ┆ Ass ┆ 11/ ┆ 10/ ┆ 0   ┆ Uns ┆ nul ┆ nul ┆ Uns ┆ Uns ┆ Uns ┆ Uns ┆ Uns ┆ Uns ┆ Uns ┆ Uns ┆ Uns ┆ Uns ┆ Uns ┆ N   ┆ nul ┆ nul ┆ nul ┆ nul ┆ nul ┆ nul ┆ nul ┆ nul ┆ nul ┆ nul ┆ nul ┆ nul ┆ nul ┆ nul │\n",
       "│ 505 ┆ 24/ ┆ l   ┆     ┆ art ┆ sum ┆ se  ┆ l   ┆ 92- ┆ 0   ┆ T   ┆ l   ┆ l   ┆ l   ┆ l   ┆ l   ┆ STO ┆ l   ┆ l   ┆ ign ┆ 13/ ┆ 29/ ┆ Uns ┆ pec ┆ l   ┆ l   ┆ pec ┆ pec ┆ pec ┆ pec ┆ pec ┆ pec ┆ pec ┆ pec ┆ pec ┆ pec ┆ pec ┆     ┆ l   ┆ l   ┆ l   ┆ l   ┆ l   ┆ l   ┆ l   ┆ l   ┆ l   ┆ l   ┆ l   ┆ l   ┆ l   ┆ l   │\n",
       "│ 51  ┆ 201 ┆     ┆     ┆ men ┆ er  ┆ Adv ┆     ┆ 201 ┆ EAS ┆ SEL ┆     ┆     ┆     ┆     ┆     ┆ N   ┆     ┆     ┆ ed  ┆ 201 ┆ 201 ┆ pec ┆ ifi ┆     ┆     ┆ ifi ┆ ifi ┆ ifi ┆ ifi ┆ ifi ┆ ifi ┆ ifi ┆ ifi ┆ ifi ┆ ifi ┆ ifi ┆     ┆     ┆     ┆     ┆     ┆     ┆     ┆     ┆     ┆     ┆     ┆     ┆     ┆     ┆     │\n",
       "│     ┆ 3   ┆     ┆     ┆ t   ┆ Com ┆ ert ┆     ┆ 6   ┆ T   ┆ TIC ┆     ┆     ┆     ┆     ┆     ┆     ┆     ┆     ┆     ┆ 3   ┆ 3   ┆ ifi ┆ ed  ┆     ┆     ┆ ed  ┆ ed  ┆ ed  ┆ ed  ┆ ed  ┆ ed  ┆ ed  ┆ ed  ┆ ed  ┆ ed  ┆ ed  ┆     ┆     ┆     ┆     ┆     ┆     ┆     ┆     ┆     ┆     ┆     ┆     ┆     ┆     ┆     │\n",
       "│     ┆ 06: ┆     ┆     ┆ of  ┆ pla ┆ isi ┆     ┆     ┆ SEL ┆ E   ┆     ┆     ┆     ┆     ┆     ┆     ┆     ┆     ┆     ┆ 11: ┆ 11: ┆ ed  ┆     ┆     ┆     ┆     ┆     ┆     ┆     ┆     ┆     ┆     ┆     ┆     ┆     ┆     ┆     ┆     ┆     ┆     ┆     ┆     ┆     ┆     ┆     ┆     ┆     ┆     ┆     ┆     ┆     │\n",
       "│     ┆ 16: ┆     ┆     ┆ Con ┆ int ┆ ng  ┆     ┆     ┆ TIC ┆ WAY ┆     ┆     ┆     ┆     ┆     ┆     ┆     ┆     ┆     ┆ 15: ┆ 16: ┆     ┆     ┆     ┆     ┆     ┆     ┆     ┆     ┆     ┆     ┆     ┆     ┆     ┆     ┆     ┆     ┆     ┆     ┆     ┆     ┆     ┆     ┆     ┆     ┆     ┆     ┆     ┆     ┆     ┆     │\n",
       "│     ┆ 34  ┆     ┆     ┆ sum ┆     ┆     ┆     ┆     ┆ E   ┆     ┆     ┆     ┆     ┆     ┆     ┆     ┆     ┆     ┆     ┆ 20  ┆ 16  ┆     ┆     ┆     ┆     ┆     ┆     ┆     ┆     ┆     ┆     ┆     ┆     ┆     ┆     ┆     ┆     ┆     ┆     ┆     ┆     ┆     ┆     ┆     ┆     ┆     ┆     ┆     ┆     ┆     ┆     │\n",
       "│     ┆ PM  ┆     ┆     ┆ er  ┆     ┆     ┆     ┆     ┆ WAY ┆     ┆     ┆     ┆     ┆     ┆     ┆     ┆     ┆     ┆     ┆ AM  ┆ AM  ┆     ┆     ┆     ┆     ┆     ┆     ┆     ┆     ┆     ┆     ┆     ┆     ┆     ┆     ┆     ┆     ┆     ┆     ┆     ┆     ┆     ┆     ┆     ┆     ┆     ┆     ┆     ┆     ┆     ┆     │\n",
       "│     ┆     ┆     ┆     ┆ Aff ┆     ┆     ┆     ┆     ┆     ┆     ┆     ┆     ┆     ┆     ┆     ┆     ┆     ┆     ┆     ┆     ┆     ┆     ┆     ┆     ┆     ┆     ┆     ┆     ┆     ┆     ┆     ┆     ┆     ┆     ┆     ┆     ┆     ┆     ┆     ┆     ┆     ┆     ┆     ┆     ┆     ┆     ┆     ┆     ┆     ┆     ┆     │\n",
       "│     ┆     ┆     ┆     ┆ air ┆     ┆     ┆     ┆     ┆     ┆     ┆     ┆     ┆     ┆     ┆     ┆     ┆     ┆     ┆     ┆     ┆     ┆     ┆     ┆     ┆     ┆     ┆     ┆     ┆     ┆     ┆     ┆     ┆     ┆     ┆     ┆     ┆     ┆     ┆     ┆     ┆     ┆     ┆     ┆     ┆     ┆     ┆     ┆     ┆     ┆     ┆     │\n",
       "│     ┆     ┆     ┆     ┆ s   ┆     ┆     ┆     ┆     ┆     ┆     ┆     ┆     ┆     ┆     ┆     ┆     ┆     ┆     ┆     ┆     ┆     ┆     ┆     ┆     ┆     ┆     ┆     ┆     ┆     ┆     ┆     ┆     ┆     ┆     ┆     ┆     ┆     ┆     ┆     ┆     ┆     ┆     ┆     ┆     ┆     ┆     ┆     ┆     ┆     ┆     ┆     │\n",
       "│ 265 ┆ 10/ ┆ nul ┆ DCA ┆ Dep ┆ Con ┆ Har ┆ nul ┆ 551 ┆ P.O ┆ 644 ┆ nul ┆ nul ┆ nul ┆ nul ┆ nul ┆ ST. ┆ nul ┆ nul ┆ Ass ┆ 11/ ┆ 10/ ┆ 0   ┆ Uns ┆ nul ┆ nul ┆ Uns ┆ Uns ┆ Uns ┆ Uns ┆ Uns ┆ Uns ┆ Uns ┆ Uns ┆ Uns ┆ Uns ┆ Uns ┆ N   ┆ nul ┆ nul ┆ nul ┆ nul ┆ nul ┆ nul ┆ nul ┆ nul ┆ nul ┆ nul ┆ nul ┆ nul ┆ nul ┆ nul │\n",
       "│ 488 ┆ 24/ ┆ l   ┆     ┆ art ┆ sum ┆ ass ┆ l   ┆ 64- ┆ .   ┆ 37  ┆ l   ┆ l   ┆ l   ┆ l   ┆ l   ┆ PAU ┆ l   ┆ l   ┆ ign ┆ 13/ ┆ 29/ ┆ Uns ┆ pec ┆ l   ┆ l   ┆ pec ┆ pec ┆ pec ┆ pec ┆ pec ┆ pec ┆ pec ┆ pec ┆ pec ┆ pec ┆ pec ┆     ┆ l   ┆ l   ┆ l   ┆ l   ┆ l   ┆ l   ┆ l   ┆ l   ┆ l   ┆ l   ┆ l   ┆ l   ┆ l   ┆ l   │\n",
       "│ 31  ┆ 201 ┆     ┆     ┆ men ┆ er  ┆ men ┆     ┆ 073 ┆ BOX ┆     ┆     ┆     ┆     ┆     ┆     ┆ L   ┆     ┆     ┆ ed  ┆ 201 ┆ 201 ┆ pec ┆ ifi ┆     ┆     ┆ ifi ┆ ifi ┆ ifi ┆ ifi ┆ ifi ┆ ifi ┆ ifi ┆ ifi ┆ ifi ┆ ifi ┆ ifi ┆     ┆     ┆     ┆     ┆     ┆     ┆     ┆     ┆     ┆     ┆     ┆     ┆     ┆     ┆     │\n",
       "│     ┆ 3   ┆     ┆     ┆ t   ┆ Com ┆ t   ┆     ┆ 7   ┆ 644 ┆     ┆     ┆     ┆     ┆     ┆     ┆     ┆     ┆     ┆     ┆ 3   ┆ 3   ┆ ifi ┆ ed  ┆     ┆     ┆ ed  ┆ ed  ┆ ed  ┆ ed  ┆ ed  ┆ ed  ┆ ed  ┆ ed  ┆ ed  ┆ ed  ┆ ed  ┆     ┆     ┆     ┆     ┆     ┆     ┆     ┆     ┆     ┆     ┆     ┆     ┆     ┆     ┆     │\n",
       "│     ┆ 09: ┆     ┆     ┆ of  ┆ pla ┆     ┆     ┆     ┆ 37  ┆     ┆     ┆     ┆     ┆     ┆     ┆     ┆     ┆     ┆     ┆ 02: ┆ 02: ┆ ed  ┆     ┆     ┆     ┆     ┆     ┆     ┆     ┆     ┆     ┆     ┆     ┆     ┆     ┆     ┆     ┆     ┆     ┆     ┆     ┆     ┆     ┆     ┆     ┆     ┆     ┆     ┆     ┆     ┆     │\n",
       "│     ┆ 35: ┆     ┆     ┆ Con ┆ int ┆     ┆     ┆     ┆     ┆     ┆     ┆     ┆     ┆     ┆     ┆     ┆     ┆     ┆     ┆ 30: ┆ 31: ┆     ┆     ┆     ┆     ┆     ┆     ┆     ┆     ┆     ┆     ┆     ┆     ┆     ┆     ┆     ┆     ┆     ┆     ┆     ┆     ┆     ┆     ┆     ┆     ┆     ┆     ┆     ┆     ┆     ┆     │\n",
       "│     ┆ 10  ┆     ┆     ┆ sum ┆     ┆     ┆     ┆     ┆     ┆     ┆     ┆     ┆     ┆     ┆     ┆     ┆     ┆     ┆     ┆ 21  ┆ 06  ┆     ┆     ┆     ┆     ┆     ┆     ┆     ┆     ┆     ┆     ┆     ┆     ┆     ┆     ┆     ┆     ┆     ┆     ┆     ┆     ┆     ┆     ┆     ┆     ┆     ┆     ┆     ┆     ┆     ┆     │\n",
       "│     ┆ AM  ┆     ┆     ┆ er  ┆     ┆     ┆     ┆     ┆     ┆     ┆     ┆     ┆     ┆     ┆     ┆     ┆     ┆     ┆     ┆ PM  ┆ PM  ┆     ┆     ┆     ┆     ┆     ┆     ┆     ┆     ┆     ┆     ┆     ┆     ┆     ┆     ┆     ┆     ┆     ┆     ┆     ┆     ┆     ┆     ┆     ┆     ┆     ┆     ┆     ┆     ┆     ┆     │\n",
       "│     ┆     ┆     ┆     ┆ Aff ┆     ┆     ┆     ┆     ┆     ┆     ┆     ┆     ┆     ┆     ┆     ┆     ┆     ┆     ┆     ┆     ┆     ┆     ┆     ┆     ┆     ┆     ┆     ┆     ┆     ┆     ┆     ┆     ┆     ┆     ┆     ┆     ┆     ┆     ┆     ┆     ┆     ┆     ┆     ┆     ┆     ┆     ┆     ┆     ┆     ┆     ┆     │\n",
       "│     ┆     ┆     ┆     ┆ air ┆     ┆     ┆     ┆     ┆     ┆     ┆     ┆     ┆     ┆     ┆     ┆     ┆     ┆     ┆     ┆     ┆     ┆     ┆     ┆     ┆     ┆     ┆     ┆     ┆     ┆     ┆     ┆     ┆     ┆     ┆     ┆     ┆     ┆     ┆     ┆     ┆     ┆     ┆     ┆     ┆     ┆     ┆     ┆     ┆     ┆     ┆     │\n",
       "│     ┆     ┆     ┆     ┆ s   ┆     ┆     ┆     ┆     ┆     ┆     ┆     ┆     ┆     ┆     ┆     ┆     ┆     ┆     ┆     ┆     ┆     ┆     ┆     ┆     ┆     ┆     ┆     ┆     ┆     ┆     ┆     ┆     ┆     ┆     ┆     ┆     ┆     ┆     ┆     ┆     ┆     ┆     ┆     ┆     ┆     ┆     ┆     ┆     ┆     ┆     ┆     │\n",
       "│ 264 ┆ 10/ ┆ nul ┆ TLC ┆ Tax ┆ Tax ┆ Dri ┆ Str ┆ 115 ┆ 365 ┆ HOF ┆ nul ┆ nul ┆ nul ┆ nul ┆ nul ┆ HEM ┆ nul ┆ nul ┆ Ass ┆ 11/ ┆ 10/ ┆ 0   ┆ Uns ┆ nul ┆ nul ┆ Uns ┆ Uns ┆ Uns ┆ Uns ┆ Uns ┆ Uns ┆ Uns ┆ Uns ┆ Uns ┆ Uns ┆ Uns ┆ N   ┆ nul ┆ nul ┆ nul ┆ La  ┆ nul ┆ nul ┆ nul ┆ nul ┆ nul ┆ nul ┆ nul ┆ nul ┆ nul ┆ nul │\n",
       "│ 884 ┆ 15/ ┆ l   ┆     ┆ i   ┆ i   ┆ ver ┆ eet ┆ 49- ┆ HOF ┆ STR ┆ l   ┆ l   ┆ l   ┆ l   ┆ l   ┆ STE ┆ l   ┆ l   ┆ ign ┆ 30/ ┆ 16/ ┆ Uns ┆ pec ┆ l   ┆ l   ┆ pec ┆ pec ┆ pec ┆ pec ┆ pec ┆ pec ┆ pec ┆ pec ┆ pec ┆ pec ┆ pec ┆     ┆ l   ┆ l   ┆ l   ┆ Gua ┆ l   ┆ l   ┆ l   ┆ l   ┆ l   ┆ l   ┆ l   ┆ l   ┆ l   ┆ l   │\n",
       "│ 17  ┆ 201 ┆     ┆     ┆ and ┆ Com ┆ Com ┆     ┆ 365 ┆ STR ┆ A   ┆     ┆     ┆     ┆     ┆     ┆ AD  ┆     ┆     ┆ ed  ┆ 201 ┆ 201 ┆ pec ┆ ifi ┆     ┆     ┆ ifi ┆ ifi ┆ ifi ┆ ifi ┆ ifi ┆ ifi ┆ ifi ┆ ifi ┆ ifi ┆ ifi ┆ ifi ┆     ┆     ┆     ┆     ┆ rdi ┆     ┆     ┆     ┆     ┆     ┆     ┆     ┆     ┆     ┆     │\n",
       "│     ┆ 3   ┆     ┆     ┆ Lim ┆ pla ┆ pla ┆     ┆ 0   ┆ A   ┆ UNI ┆     ┆     ┆     ┆     ┆     ┆     ┆     ┆     ┆     ┆ 3   ┆ 3   ┆ ifi ┆ ed  ┆     ┆     ┆ ed  ┆ ed  ┆ ed  ┆ ed  ┆ ed  ┆ ed  ┆ ed  ┆ ed  ┆ ed  ┆ ed  ┆ ed  ┆     ┆     ┆     ┆     ┆ a   ┆     ┆     ┆     ┆     ┆     ┆     ┆     ┆     ┆     ┆     │\n",
       "│     ┆ 03: ┆     ┆     ┆ ous ┆ int ┆ int ┆     ┆     ┆ UNI ┆ VER ┆     ┆     ┆     ┆     ┆     ┆     ┆     ┆     ┆     ┆ 01: ┆ 01: ┆ ed  ┆     ┆     ┆     ┆     ┆     ┆     ┆     ┆     ┆     ┆     ┆     ┆     ┆     ┆     ┆     ┆     ┆     ┆     ┆ Air ┆     ┆     ┆     ┆     ┆     ┆     ┆     ┆     ┆     ┆     │\n",
       "│     ┆ 40: ┆     ┆     ┆ ine ┆     ┆     ┆     ┆     ┆ VER ┆ SIT ┆     ┆     ┆     ┆     ┆     ┆     ┆     ┆     ┆     ┆ 20: ┆ 21: ┆     ┆     ┆     ┆     ┆     ┆     ┆     ┆     ┆     ┆     ┆     ┆     ┆     ┆     ┆     ┆     ┆     ┆     ┆     ┆ por ┆     ┆     ┆     ┆     ┆     ┆     ┆     ┆     ┆     ┆     │\n",
       "│     ┆ 33  ┆     ┆     ┆ Com ┆     ┆     ┆     ┆     ┆ SIT ┆ Y   ┆     ┆     ┆     ┆     ┆     ┆     ┆     ┆     ┆     ┆ 33  ┆ 39  ┆     ┆     ┆     ┆     ┆     ┆     ┆     ┆     ┆     ┆     ┆     ┆     ┆     ┆     ┆     ┆     ┆     ┆     ┆     ┆ t   ┆     ┆     ┆     ┆     ┆     ┆     ┆     ┆     ┆     ┆     │\n",
       "│     ┆ PM  ┆     ┆     ┆ mis ┆     ┆     ┆     ┆     ┆ Y   ┆     ┆     ┆     ┆     ┆     ┆     ┆     ┆     ┆     ┆     ┆ PM  ┆ PM  ┆     ┆     ┆     ┆     ┆     ┆     ┆     ┆     ┆     ┆     ┆     ┆     ┆     ┆     ┆     ┆     ┆     ┆     ┆     ┆     ┆     ┆     ┆     ┆     ┆     ┆     ┆     ┆     ┆     ┆     │\n",
       "│     ┆     ┆     ┆     ┆ sio ┆     ┆     ┆     ┆     ┆     ┆     ┆     ┆     ┆     ┆     ┆     ┆     ┆     ┆     ┆     ┆     ┆     ┆     ┆     ┆     ┆     ┆     ┆     ┆     ┆     ┆     ┆     ┆     ┆     ┆     ┆     ┆     ┆     ┆     ┆     ┆     ┆     ┆     ┆     ┆     ┆     ┆     ┆     ┆     ┆     ┆     ┆     │\n",
       "│     ┆     ┆     ┆     ┆ n   ┆     ┆     ┆     ┆     ┆     ┆     ┆     ┆     ┆     ┆     ┆     ┆     ┆     ┆     ┆     ┆     ┆     ┆     ┆     ┆     ┆     ┆     ┆     ┆     ┆     ┆     ┆     ┆     ┆     ┆     ┆     ┆     ┆     ┆     ┆     ┆     ┆     ┆     ┆     ┆     ┆     ┆     ┆     ┆     ┆     ┆     ┆     │\n",
       "│ 264 ┆ 10/ ┆ 10/ ┆ DCA ┆ Dep ┆ Con ┆ Deb ┆ nul ┆ 296 ┆ PO  ┆ BOX ┆ nul ┆ nul ┆ nul ┆ nul ┆ nul ┆ GRE ┆ nul ┆ nul ┆ Clo ┆ 10/ ┆ 10/ ┆ 0   ┆ Uns ┆ nul ┆ nul ┆ Uns ┆ Uns ┆ Uns ┆ Uns ┆ Uns ┆ Uns ┆ Uns ┆ Uns ┆ Uns ┆ Uns ┆ Uns ┆ N   ┆ nul ┆ nul ┆ nul ┆ nul ┆ nul ┆ nul ┆ nul ┆ nul ┆ nul ┆ nul ┆ nul ┆ nul ┆ nul ┆ nul │\n",
       "│ 682 ┆ 10/ ┆ 26/ ┆     ┆ art ┆ sum ┆ t   ┆ l   ┆ 16- ┆ BOX ┆ 257 ┆ l   ┆ l   ┆ l   ┆ l   ┆ l   ┆ ENV ┆ l   ┆ l   ┆ sed ┆ 26/ ┆ 26/ ┆ Uns ┆ pec ┆ l   ┆ l   ┆ pec ┆ pec ┆ pec ┆ pec ┆ pec ┆ pec ┆ pec ┆ pec ┆ pec ┆ pec ┆ pec ┆     ┆ l   ┆ l   ┆ l   ┆ l   ┆ l   ┆ l   ┆ l   ┆ l   ┆ l   ┆ l   ┆ l   ┆ l   ┆ l   ┆ l   │\n",
       "│ 96  ┆ 201 ┆ 201 ┆     ┆ men ┆ er  ┆ Not ┆     ┆ 075 ┆ 257 ┆ 59  ┆     ┆     ┆     ┆     ┆     ┆ ILL ┆     ┆     ┆     ┆ 201 ┆ 201 ┆ pec ┆ ifi ┆     ┆     ┆ ifi ┆ ifi ┆ ifi ┆ ifi ┆ ifi ┆ ifi ┆ ifi ┆ ifi ┆ ifi ┆ ifi ┆ ifi ┆     ┆     ┆     ┆     ┆     ┆     ┆     ┆     ┆     ┆     ┆     ┆     ┆     ┆     ┆     │\n",
       "│     ┆ 3   ┆ 3   ┆     ┆ t   ┆ Com ┆ Owe ┆     ┆ 9   ┆ 59  ┆     ┆     ┆     ┆     ┆     ┆     ┆ E   ┆     ┆     ┆     ┆ 3   ┆ 3   ┆ ifi ┆ ed  ┆     ┆     ┆ ed  ┆ ed  ┆ ed  ┆ ed  ┆ ed  ┆ ed  ┆ ed  ┆ ed  ┆ ed  ┆ ed  ┆ ed  ┆     ┆     ┆     ┆     ┆     ┆     ┆     ┆     ┆     ┆     ┆     ┆     ┆     ┆     ┆     │\n",
       "│     ┆ 12: ┆ 01: ┆     ┆ of  ┆ pla ┆ d   ┆     ┆     ┆     ┆     ┆     ┆     ┆     ┆     ┆     ┆     ┆     ┆     ┆     ┆ 09: ┆ 01: ┆ ed  ┆     ┆     ┆     ┆     ┆     ┆     ┆     ┆     ┆     ┆     ┆     ┆     ┆     ┆     ┆     ┆     ┆     ┆     ┆     ┆     ┆     ┆     ┆     ┆     ┆     ┆     ┆     ┆     ┆     │\n",
       "│     ┆ 36: ┆ 07: ┆     ┆ Con ┆ int ┆     ┆     ┆     ┆     ┆     ┆     ┆     ┆     ┆     ┆     ┆     ┆     ┆     ┆     ┆ 20: ┆ 07: ┆     ┆     ┆     ┆     ┆     ┆     ┆     ┆     ┆     ┆     ┆     ┆     ┆     ┆     ┆     ┆     ┆     ┆     ┆     ┆     ┆     ┆     ┆     ┆     ┆     ┆     ┆     ┆     ┆     ┆     │\n",
       "│     ┆ 43  ┆ 07  ┆     ┆ sum ┆     ┆     ┆     ┆     ┆     ┆     ┆     ┆     ┆     ┆     ┆     ┆     ┆     ┆     ┆     ┆ 28  ┆ 07  ┆     ┆     ┆     ┆     ┆     ┆     ┆     ┆     ┆     ┆     ┆     ┆     ┆     ┆     ┆     ┆     ┆     ┆     ┆     ┆     ┆     ┆     ┆     ┆     ┆     ┆     ┆     ┆     ┆     ┆     │\n",
       "│     ┆ PM  ┆ AM  ┆     ┆ er  ┆     ┆     ┆     ┆     ┆     ┆     ┆     ┆     ┆     ┆     ┆     ┆     ┆     ┆     ┆     ┆ AM  ┆ AM  ┆     ┆     ┆     ┆     ┆     ┆     ┆     ┆     ┆     ┆     ┆     ┆     ┆     ┆     ┆     ┆     ┆     ┆     ┆     ┆     ┆     ┆     ┆     ┆     ┆     ┆     ┆     ┆     ┆     ┆     │\n",
       "│     ┆     ┆     ┆     ┆ Aff ┆     ┆     ┆     ┆     ┆     ┆     ┆     ┆     ┆     ┆     ┆     ┆     ┆     ┆     ┆     ┆     ┆     ┆     ┆     ┆     ┆     ┆     ┆     ┆     ┆     ┆     ┆     ┆     ┆     ┆     ┆     ┆     ┆     ┆     ┆     ┆     ┆     ┆     ┆     ┆     ┆     ┆     ┆     ┆     ┆     ┆     ┆     │\n",
       "│     ┆     ┆     ┆     ┆ air ┆     ┆     ┆     ┆     ┆     ┆     ┆     ┆     ┆     ┆     ┆     ┆     ┆     ┆     ┆     ┆     ┆     ┆     ┆     ┆     ┆     ┆     ┆     ┆     ┆     ┆     ┆     ┆     ┆     ┆     ┆     ┆     ┆     ┆     ┆     ┆     ┆     ┆     ┆     ┆     ┆     ┆     ┆     ┆     ┆     ┆     ┆     │\n",
       "│     ┆     ┆     ┆     ┆ s   ┆     ┆     ┆     ┆     ┆     ┆     ┆     ┆     ┆     ┆     ┆     ┆     ┆     ┆     ┆     ┆     ┆     ┆     ┆     ┆     ┆     ┆     ┆     ┆     ┆     ┆     ┆     ┆     ┆     ┆     ┆     ┆     ┆     ┆     ┆     ┆     ┆     ┆     ┆     ┆     ┆     ┆     ┆     ┆     ┆     ┆     ┆     │\n",
       "│ 264 ┆ 10/ ┆ 10/ ┆ DCA ┆ Dep ┆ Con ┆ Har ┆ nul ┆ 352 ┆ 600 ┆ BEA ┆ nul ┆ nul ┆ nul ┆ nul ┆ nul ┆ BIR ┆ nul ┆ nul ┆ Clo ┆ 10/ ┆ 10/ ┆ 0   ┆ Uns ┆ nul ┆ nul ┆ Uns ┆ Uns ┆ Uns ┆ Uns ┆ Uns ┆ Uns ┆ Uns ┆ Uns ┆ Uns ┆ Uns ┆ Uns ┆ N   ┆ nul ┆ nul ┆ nul ┆ nul ┆ nul ┆ nul ┆ nul ┆ nul ┆ nul ┆ nul ┆ nul ┆ nul ┆ nul ┆ nul │\n",
       "│ 611 ┆ 09/ ┆ 25/ ┆     ┆ art ┆ sum ┆ ass ┆ l   ┆ 09- ┆ BEA ┆ CON ┆ l   ┆ l   ┆ l   ┆ l   ┆ l   ┆ MIN ┆ l   ┆ l   ┆ sed ┆ 25/ ┆ 25/ ┆ Uns ┆ pec ┆ l   ┆ l   ┆ pec ┆ pec ┆ pec ┆ pec ┆ pec ┆ pec ┆ pec ┆ pec ┆ pec ┆ pec ┆ pec ┆     ┆ l   ┆ l   ┆ l   ┆ l   ┆ l   ┆ l   ┆ l   ┆ l   ┆ l   ┆ l   ┆ l   ┆ l   ┆ l   ┆ l   │\n",
       "│ 37  ┆ 201 ┆ 201 ┆     ┆ men ┆ er  ┆ men ┆     ┆ 311 ┆ CON ┆ PKW ┆     ┆     ┆     ┆     ┆     ┆ GHA ┆     ┆     ┆     ┆ 201 ┆ 201 ┆ pec ┆ ifi ┆     ┆     ┆ ifi ┆ ifi ┆ ifi ┆ ifi ┆ ifi ┆ ifi ┆ ifi ┆ ifi ┆ ifi ┆ ifi ┆ ifi ┆     ┆     ┆     ┆     ┆     ┆     ┆     ┆     ┆     ┆     ┆     ┆     ┆     ┆     ┆     │\n",
       "│     ┆ 3   ┆ 3   ┆     ┆ t   ┆ Com ┆ t   ┆     ┆ 4   ┆ PKW ┆ Y   ┆     ┆     ┆     ┆     ┆     ┆ M   ┆     ┆     ┆     ┆ 3   ┆ 3   ┆ ifi ┆ ed  ┆     ┆     ┆ ed  ┆ ed  ┆ ed  ┆ ed  ┆ ed  ┆ ed  ┆ ed  ┆ ed  ┆ ed  ┆ ed  ┆ ed  ┆     ┆     ┆     ┆     ┆     ┆     ┆     ┆     ┆     ┆     ┆     ┆     ┆     ┆     ┆     │\n",
       "│     ┆ 05: ┆ 01: ┆     ┆ of  ┆ pla ┆     ┆     ┆     ┆ Y   ┆     ┆     ┆     ┆     ┆     ┆     ┆     ┆     ┆     ┆     ┆ 02: ┆ 01: ┆ ed  ┆     ┆     ┆     ┆     ┆     ┆     ┆     ┆     ┆     ┆     ┆     ┆     ┆     ┆     ┆     ┆     ┆     ┆     ┆     ┆     ┆     ┆     ┆     ┆     ┆     ┆     ┆     ┆     ┆     │\n",
       "│     ┆ 23: ┆ 06: ┆     ┆ Con ┆ int ┆     ┆     ┆     ┆     ┆     ┆     ┆     ┆     ┆     ┆     ┆     ┆     ┆     ┆     ┆ 43: ┆ 06: ┆     ┆     ┆     ┆     ┆     ┆     ┆     ┆     ┆     ┆     ┆     ┆     ┆     ┆     ┆     ┆     ┆     ┆     ┆     ┆     ┆     ┆     ┆     ┆     ┆     ┆     ┆     ┆     ┆     ┆     │\n",
       "│     ┆ 46  ┆ 41  ┆     ┆ sum ┆     ┆     ┆     ┆     ┆     ┆     ┆     ┆     ┆     ┆     ┆     ┆     ┆     ┆     ┆     ┆ 42  ┆ 41  ┆     ┆     ┆     ┆     ┆     ┆     ┆     ┆     ┆     ┆     ┆     ┆     ┆     ┆     ┆     ┆     ┆     ┆     ┆     ┆     ┆     ┆     ┆     ┆     ┆     ┆     ┆     ┆     ┆     ┆     │\n",
       "│     ┆ PM  ┆ AM  ┆     ┆ er  ┆     ┆     ┆     ┆     ┆     ┆     ┆     ┆     ┆     ┆     ┆     ┆     ┆     ┆     ┆     ┆ PM  ┆ AM  ┆     ┆     ┆     ┆     ┆     ┆     ┆     ┆     ┆     ┆     ┆     ┆     ┆     ┆     ┆     ┆     ┆     ┆     ┆     ┆     ┆     ┆     ┆     ┆     ┆     ┆     ┆     ┆     ┆     ┆     │\n",
       "│     ┆     ┆     ┆     ┆ Aff ┆     ┆     ┆     ┆     ┆     ┆     ┆     ┆     ┆     ┆     ┆     ┆     ┆     ┆     ┆     ┆     ┆     ┆     ┆     ┆     ┆     ┆     ┆     ┆     ┆     ┆     ┆     ┆     ┆     ┆     ┆     ┆     ┆     ┆     ┆     ┆     ┆     ┆     ┆     ┆     ┆     ┆     ┆     ┆     ┆     ┆     ┆     │\n",
       "│     ┆     ┆     ┆     ┆ air ┆     ┆     ┆     ┆     ┆     ┆     ┆     ┆     ┆     ┆     ┆     ┆     ┆     ┆     ┆     ┆     ┆     ┆     ┆     ┆     ┆     ┆     ┆     ┆     ┆     ┆     ┆     ┆     ┆     ┆     ┆     ┆     ┆     ┆     ┆     ┆     ┆     ┆     ┆     ┆     ┆     ┆     ┆     ┆     ┆     ┆     ┆     │\n",
       "│     ┆     ┆     ┆     ┆ s   ┆     ┆     ┆     ┆     ┆     ┆     ┆     ┆     ┆     ┆     ┆     ┆     ┆     ┆     ┆     ┆     ┆     ┆     ┆     ┆     ┆     ┆     ┆     ┆     ┆     ┆     ┆     ┆     ┆     ┆     ┆     ┆     ┆     ┆     ┆     ┆     ┆     ┆     ┆     ┆     ┆     ┆     ┆     ┆     ┆     ┆     ┆     │\n",
       "└─────┴─────┴─────┴─────┴─────┴─────┴─────┴─────┴─────┴─────┴─────┴─────┴─────┴─────┴─────┴─────┴─────┴─────┴─────┴─────┴─────┴─────┴─────┴─────┴─────┴─────┴─────┴─────┴─────┴─────┴─────┴─────┴─────┴─────┴─────┴─────┴─────┴─────┴─────┴─────┴─────┴─────┴─────┴─────┴─────┴─────┴─────┴─────┴─────┴─────┴─────┴─────┘"
      ]
     },
     "execution_count": 10,
     "metadata": {},
     "output_type": "execute_result"
    }
   ],
   "source": [
    "requests.filter(rows_with_dashes)"
   ]
  },
  {
   "cell_type": "markdown",
   "metadata": {},
   "source": [
    "I thought these were missing data and originally deleted them like this:\n",
    "\n",
    "`requests['Incident Zip'][rows_with_dashes] = np.nan`\n",
    "\n",
    "But then my friend Dave pointed out that 9-digit zip codes are normal. Let's look at all the zip codes with more than 5 digits, make sure they're okay, and then truncate them."
   ]
  },
  {
   "cell_type": "code",
   "execution_count": null,
   "metadata": {},
   "outputs": [
    {
     "data": {
      "text/html": [
       "<div><style>\n",
       ".dataframe > thead > tr,\n",
       ".dataframe > tbody > tr {\n",
       "  text-align: right;\n",
       "  white-space: pre-wrap;\n",
       "}\n",
       "</style>\n",
       "<small>shape: (6,)</small><table border=\"1\" class=\"dataframe\"><thead><tr><th>Incident Zip</th></tr><tr><td>str</td></tr></thead><tbody><tr><td>&quot;35209-3114&quot;</td></tr><tr><td>&quot;29616-0759&quot;</td></tr><tr><td>&quot;77092-2016&quot;</td></tr><tr><td>&quot;11549-3650&quot;</td></tr><tr><td>&quot;55164-0737&quot;</td></tr><tr><td>&quot;000000&quot;</td></tr></tbody></table></div>"
      ],
      "text/plain": [
       "shape: (6,)\n",
       "Series: 'Incident Zip' [str]\n",
       "[\n",
       "\t\"35209-3114\"\n",
       "\t\"29616-0759\"\n",
       "\t\"77092-2016\"\n",
       "\t\"11549-3650\"\n",
       "\t\"55164-0737\"\n",
       "\t\"000000\"\n",
       "]"
      ]
     },
     "execution_count": 11,
     "metadata": {},
     "output_type": "execute_result"
    }
   ],
   "source": [
    "result = (requests\n",
    "    .select(pl.col('Incident Zip')\n",
    "    .filter(pl.col('Incident Zip').str.len_chars() > 5)\n",
    "    .unique())\n",
    "    ['Incident Zip']\n",
    ")\n",
    "result"
   ]
  },
  {
   "cell_type": "markdown",
   "metadata": {},
   "source": [
    "Those all look okay to truncate to me."
   ]
  },
  {
   "cell_type": "code",
   "execution_count": 17,
   "metadata": {},
   "outputs": [
    {
     "data": {
      "text/html": [
       "<div><style>\n",
       ".dataframe > thead > tr,\n",
       ".dataframe > tbody > tr {\n",
       "  text-align: right;\n",
       "  white-space: pre-wrap;\n",
       "}\n",
       "</style>\n",
       "<small>shape: (111_069, 52)</small><table border=\"1\" class=\"dataframe\"><thead><tr><th>Unique Key</th><th>Created Date</th><th>Closed Date</th><th>Agency</th><th>Agency Name</th><th>Complaint Type</th><th>Descriptor</th><th>Location Type</th><th>Incident Zip</th><th>Incident Address</th><th>Street Name</th><th>Cross Street 1</th><th>Cross Street 2</th><th>Intersection Street 1</th><th>Intersection Street 2</th><th>Address Type</th><th>City</th><th>Landmark</th><th>Facility Type</th><th>Status</th><th>Due Date</th><th>Resolution Action Updated Date</th><th>Community Board</th><th>Borough</th><th>X Coordinate (State Plane)</th><th>Y Coordinate (State Plane)</th><th>Park Facility Name</th><th>Park Borough</th><th>School Name</th><th>School Number</th><th>School Region</th><th>School Code</th><th>School Phone Number</th><th>School Address</th><th>School City</th><th>School State</th><th>School Zip</th><th>School Not Found</th><th>School or Citywide Complaint</th><th>Vehicle Type</th><th>Taxi Company Borough</th><th>Taxi Pick Up Location</th><th>Bridge Highway Name</th><th>Bridge Highway Direction</th><th>Road Ramp</th><th>Bridge Highway Segment</th><th>Garage Lot Name</th><th>Ferry Direction</th><th>Ferry Terminal Name</th><th>Latitude</th><th>Longitude</th><th>Location</th></tr><tr><td>i64</td><td>str</td><td>str</td><td>str</td><td>str</td><td>str</td><td>str</td><td>str</td><td>str</td><td>str</td><td>str</td><td>str</td><td>str</td><td>str</td><td>str</td><td>str</td><td>str</td><td>str</td><td>str</td><td>str</td><td>str</td><td>str</td><td>str</td><td>str</td><td>i64</td><td>i64</td><td>str</td><td>str</td><td>str</td><td>str</td><td>str</td><td>str</td><td>str</td><td>str</td><td>str</td><td>str</td><td>str</td><td>str</td><td>str</td><td>str</td><td>str</td><td>str</td><td>str</td><td>str</td><td>str</td><td>str</td><td>str</td><td>str</td><td>str</td><td>f64</td><td>f64</td><td>str</td></tr></thead><tbody><tr><td>26589651</td><td>&quot;10/31/2013 02:08:41 AM&quot;</td><td>null</td><td>&quot;NYPD&quot;</td><td>&quot;New York City Police Department&quot;</td><td>&quot;Noise - Street/Sidewalk&quot;</td><td>&quot;Loud Talking&quot;</td><td>&quot;Street/Sidewalk&quot;</td><td>&quot;11432&quot;</td><td>&quot;90-03 169 STREET&quot;</td><td>&quot;169 STREET&quot;</td><td>&quot;90 AVENUE&quot;</td><td>&quot;91 AVENUE&quot;</td><td>null</td><td>null</td><td>&quot;ADDRESS&quot;</td><td>&quot;JAMAICA&quot;</td><td>null</td><td>&quot;Precinct&quot;</td><td>&quot;Assigned&quot;</td><td>&quot;10/31/2013 10:08:41 AM&quot;</td><td>&quot;10/31/2013 02:35:17 AM&quot;</td><td>&quot;12 QUEENS&quot;</td><td>&quot;QUEENS&quot;</td><td>1042027</td><td>197389</td><td>&quot;Unspecified&quot;</td><td>&quot;QUEENS&quot;</td><td>&quot;Unspecified&quot;</td><td>&quot;Unspecified&quot;</td><td>&quot;Unspecified&quot;</td><td>&quot;Unspecified&quot;</td><td>&quot;Unspecified&quot;</td><td>&quot;Unspecified&quot;</td><td>&quot;Unspecified&quot;</td><td>&quot;Unspecified&quot;</td><td>&quot;Unspecified&quot;</td><td>&quot;N&quot;</td><td>null</td><td>null</td><td>null</td><td>null</td><td>null</td><td>null</td><td>null</td><td>null</td><td>null</td><td>null</td><td>null</td><td>40.708275</td><td>-73.791604</td><td>&quot;(40.70827532593202, -73.79160395779721)&quot;</td></tr><tr><td>26593698</td><td>&quot;10/31/2013 02:01:04 AM&quot;</td><td>null</td><td>&quot;NYPD&quot;</td><td>&quot;New York City Police Department&quot;</td><td>&quot;Illegal Parking&quot;</td><td>&quot;Commercial Overnight Parking&quot;</td><td>&quot;Street/Sidewalk&quot;</td><td>&quot;11378&quot;</td><td>&quot;58 AVENUE&quot;</td><td>&quot;58 AVENUE&quot;</td><td>&quot;58 PLACE&quot;</td><td>&quot;59 STREET&quot;</td><td>null</td><td>null</td><td>&quot;BLOCKFACE&quot;</td><td>&quot;MASPETH&quot;</td><td>null</td><td>&quot;Precinct&quot;</td><td>&quot;Open&quot;</td><td>&quot;10/31/2013 10:01:04 AM&quot;</td><td>null</td><td>&quot;05 QUEENS&quot;</td><td>&quot;QUEENS&quot;</td><td>1009349</td><td>201984</td><td>&quot;Unspecified&quot;</td><td>&quot;QUEENS&quot;</td><td>&quot;Unspecified&quot;</td><td>&quot;Unspecified&quot;</td><td>&quot;Unspecified&quot;</td><td>&quot;Unspecified&quot;</td><td>&quot;Unspecified&quot;</td><td>&quot;Unspecified&quot;</td><td>&quot;Unspecified&quot;</td><td>&quot;Unspecified&quot;</td><td>&quot;Unspecified&quot;</td><td>&quot;N&quot;</td><td>null</td><td>null</td><td>null</td><td>null</td><td>null</td><td>null</td><td>null</td><td>null</td><td>null</td><td>null</td><td>null</td><td>40.721041</td><td>-73.909453</td><td>&quot;(40.721040535628305, -73.90945306791765)&quot;</td></tr><tr><td>26594139</td><td>&quot;10/31/2013 02:00:24 AM&quot;</td><td>&quot;10/31/2013 02:40:32 AM&quot;</td><td>&quot;NYPD&quot;</td><td>&quot;New York City Police Department&quot;</td><td>&quot;Noise - Commercial&quot;</td><td>&quot;Loud Music/Party&quot;</td><td>&quot;Club/Bar/Restaurant&quot;</td><td>&quot;10032&quot;</td><td>&quot;4060 BROADWAY&quot;</td><td>&quot;BROADWAY&quot;</td><td>&quot;WEST 171 STREET&quot;</td><td>&quot;WEST 172 STREET&quot;</td><td>null</td><td>null</td><td>&quot;ADDRESS&quot;</td><td>&quot;NEW YORK&quot;</td><td>null</td><td>&quot;Precinct&quot;</td><td>&quot;Closed&quot;</td><td>&quot;10/31/2013 10:00:24 AM&quot;</td><td>&quot;10/31/2013 02:39:42 AM&quot;</td><td>&quot;12 MANHATTAN&quot;</td><td>&quot;MANHATTAN&quot;</td><td>1001088</td><td>246531</td><td>&quot;Unspecified&quot;</td><td>&quot;MANHATTAN&quot;</td><td>&quot;Unspecified&quot;</td><td>&quot;Unspecified&quot;</td><td>&quot;Unspecified&quot;</td><td>&quot;Unspecified&quot;</td><td>&quot;Unspecified&quot;</td><td>&quot;Unspecified&quot;</td><td>&quot;Unspecified&quot;</td><td>&quot;Unspecified&quot;</td><td>&quot;Unspecified&quot;</td><td>&quot;N&quot;</td><td>null</td><td>null</td><td>null</td><td>null</td><td>null</td><td>null</td><td>null</td><td>null</td><td>null</td><td>null</td><td>null</td><td>40.84333</td><td>-73.939144</td><td>&quot;(40.84332975466513, -73.93914371913482)&quot;</td></tr><tr><td>26595721</td><td>&quot;10/31/2013 01:56:23 AM&quot;</td><td>&quot;10/31/2013 02:21:48 AM&quot;</td><td>&quot;NYPD&quot;</td><td>&quot;New York City Police Department&quot;</td><td>&quot;Noise - Vehicle&quot;</td><td>&quot;Car/Truck Horn&quot;</td><td>&quot;Street/Sidewalk&quot;</td><td>&quot;10023&quot;</td><td>&quot;WEST 72 STREET&quot;</td><td>&quot;WEST 72 STREET&quot;</td><td>&quot;COLUMBUS AVENUE&quot;</td><td>&quot;AMSTERDAM AVENUE&quot;</td><td>null</td><td>null</td><td>&quot;BLOCKFACE&quot;</td><td>&quot;NEW YORK&quot;</td><td>null</td><td>&quot;Precinct&quot;</td><td>&quot;Closed&quot;</td><td>&quot;10/31/2013 09:56:23 AM&quot;</td><td>&quot;10/31/2013 02:21:10 AM&quot;</td><td>&quot;07 MANHATTAN&quot;</td><td>&quot;MANHATTAN&quot;</td><td>989730</td><td>222727</td><td>&quot;Unspecified&quot;</td><td>&quot;MANHATTAN&quot;</td><td>&quot;Unspecified&quot;</td><td>&quot;Unspecified&quot;</td><td>&quot;Unspecified&quot;</td><td>&quot;Unspecified&quot;</td><td>&quot;Unspecified&quot;</td><td>&quot;Unspecified&quot;</td><td>&quot;Unspecified&quot;</td><td>&quot;Unspecified&quot;</td><td>&quot;Unspecified&quot;</td><td>&quot;N&quot;</td><td>null</td><td>null</td><td>null</td><td>null</td><td>null</td><td>null</td><td>null</td><td>null</td><td>null</td><td>null</td><td>null</td><td>40.778009</td><td>-73.980213</td><td>&quot;(40.7780087446372, -73.98021349023975)&quot;</td></tr><tr><td>26590930</td><td>&quot;10/31/2013 01:53:44 AM&quot;</td><td>null</td><td>&quot;DOHMH&quot;</td><td>&quot;Department of Health and Mental Hygiene&quot;</td><td>&quot;Rodent&quot;</td><td>&quot;Condition Attracting Rodents&quot;</td><td>&quot;Vacant Lot&quot;</td><td>&quot;10027&quot;</td><td>&quot;WEST 124 STREET&quot;</td><td>&quot;WEST 124 STREET&quot;</td><td>&quot;LENOX AVENUE&quot;</td><td>&quot;ADAM CLAYTON POWELL JR BOULEVARD&quot;</td><td>null</td><td>null</td><td>&quot;BLOCKFACE&quot;</td><td>&quot;NEW YORK&quot;</td><td>null</td><td>null</td><td>&quot;Pending&quot;</td><td>&quot;11/30/2013 01:53:44 AM&quot;</td><td>&quot;10/31/2013 01:59:54 AM&quot;</td><td>&quot;10 MANHATTAN&quot;</td><td>&quot;MANHATTAN&quot;</td><td>998815</td><td>233545</td><td>&quot;Unspecified&quot;</td><td>&quot;MANHATTAN&quot;</td><td>&quot;Unspecified&quot;</td><td>&quot;Unspecified&quot;</td><td>&quot;Unspecified&quot;</td><td>&quot;Unspecified&quot;</td><td>&quot;Unspecified&quot;</td><td>&quot;Unspecified&quot;</td><td>&quot;Unspecified&quot;</td><td>&quot;Unspecified&quot;</td><td>&quot;Unspecified&quot;</td><td>&quot;N&quot;</td><td>null</td><td>null</td><td>null</td><td>null</td><td>null</td><td>null</td><td>null</td><td>null</td><td>null</td><td>null</td><td>null</td><td>40.807691</td><td>-73.947387</td><td>&quot;(40.80769092704951, -73.94738703491433)&quot;</td></tr><tr><td>&hellip;</td><td>&hellip;</td><td>&hellip;</td><td>&hellip;</td><td>&hellip;</td><td>&hellip;</td><td>&hellip;</td><td>&hellip;</td><td>&hellip;</td><td>&hellip;</td><td>&hellip;</td><td>&hellip;</td><td>&hellip;</td><td>&hellip;</td><td>&hellip;</td><td>&hellip;</td><td>&hellip;</td><td>&hellip;</td><td>&hellip;</td><td>&hellip;</td><td>&hellip;</td><td>&hellip;</td><td>&hellip;</td><td>&hellip;</td><td>&hellip;</td><td>&hellip;</td><td>&hellip;</td><td>&hellip;</td><td>&hellip;</td><td>&hellip;</td><td>&hellip;</td><td>&hellip;</td><td>&hellip;</td><td>&hellip;</td><td>&hellip;</td><td>&hellip;</td><td>&hellip;</td><td>&hellip;</td><td>&hellip;</td><td>&hellip;</td><td>&hellip;</td><td>&hellip;</td><td>&hellip;</td><td>&hellip;</td><td>&hellip;</td><td>&hellip;</td><td>&hellip;</td><td>&hellip;</td><td>&hellip;</td><td>&hellip;</td><td>&hellip;</td><td>&hellip;</td></tr><tr><td>26426013</td><td>&quot;10/04/2013 12:01:13 AM&quot;</td><td>&quot;10/07/2013 04:07:16 PM&quot;</td><td>&quot;DPR&quot;</td><td>&quot;Department of Parks and Recreation&quot;</td><td>&quot;Maintenance or Facility&quot;</td><td>&quot;Structure - Outdoors&quot;</td><td>&quot;Park&quot;</td><td>&quot;11213&quot;</td><td>null</td><td>null</td><td>null</td><td>null</td><td>null</td><td>null</td><td>null</td><td>&quot;BROOKLYN&quot;</td><td>null</td><td>null</td><td>&quot;Closed&quot;</td><td>&quot;10/18/2013 12:01:13 AM&quot;</td><td>&quot;10/07/2013 04:07:16 PM&quot;</td><td>&quot;08 BROOKLYN&quot;</td><td>&quot;BROOKLYN&quot;</td><td>null</td><td>null</td><td>&quot;Brower Park&quot;</td><td>&quot;BROOKLYN&quot;</td><td>&quot;Brower Park&quot;</td><td>&quot;B012&quot;</td><td>null</td><td>null</td><td>&quot;7189658900&quot;</td><td>&quot;Brooklyn, St. Marks, Kingston Avenues, Park Place&quot;</td><td>&quot;BROOKLYN&quot;</td><td>&quot;NY&quot;</td><td>&quot;11213&quot;</td><td>&quot;N&quot;</td><td>null</td><td>null</td><td>null</td><td>null</td><td>null</td><td>null</td><td>null</td><td>null</td><td>null</td><td>null</td><td>null</td><td>null</td><td>null</td><td>null</td></tr><tr><td>26428083</td><td>&quot;10/04/2013 12:01:05 AM&quot;</td><td>&quot;10/04/2013 02:13:50 AM&quot;</td><td>&quot;NYPD&quot;</td><td>&quot;New York City Police Department&quot;</td><td>&quot;Illegal Parking&quot;</td><td>&quot;Posted Parking Sign Violation&quot;</td><td>&quot;Street/Sidewalk&quot;</td><td>&quot;11434&quot;</td><td>null</td><td>null</td><td>null</td><td>null</td><td>&quot;GUY R BREWER BOULEVARD&quot;</td><td>&quot;ROCKAWAY BOULEVARD&quot;</td><td>&quot;INTERSECTION&quot;</td><td>&quot;JAMAICA&quot;</td><td>null</td><td>&quot;Precinct&quot;</td><td>&quot;Closed&quot;</td><td>&quot;10/04/2013 08:01:05 AM&quot;</td><td>&quot;10/04/2013 02:13:50 AM&quot;</td><td>&quot;13 QUEENS&quot;</td><td>&quot;QUEENS&quot;</td><td>1048801</td><td>178419</td><td>&quot;Unspecified&quot;</td><td>&quot;QUEENS&quot;</td><td>&quot;Unspecified&quot;</td><td>&quot;Unspecified&quot;</td><td>&quot;Unspecified&quot;</td><td>&quot;Unspecified&quot;</td><td>&quot;Unspecified&quot;</td><td>&quot;Unspecified&quot;</td><td>&quot;Unspecified&quot;</td><td>&quot;Unspecified&quot;</td><td>&quot;Unspecified&quot;</td><td>&quot;N&quot;</td><td>null</td><td>null</td><td>null</td><td>null</td><td>null</td><td>null</td><td>null</td><td>null</td><td>null</td><td>null</td><td>null</td><td>40.65616</td><td>-73.767353</td><td>&quot;(40.656160351546845, -73.76735262738222)&quot;</td></tr><tr><td>26428987</td><td>&quot;10/04/2013 12:00:45 AM&quot;</td><td>&quot;10/04/2013 01:25:01 AM&quot;</td><td>&quot;NYPD&quot;</td><td>&quot;New York City Police Department&quot;</td><td>&quot;Noise - Street/Sidewalk&quot;</td><td>&quot;Loud Talking&quot;</td><td>&quot;Street/Sidewalk&quot;</td><td>&quot;10016&quot;</td><td>&quot;344 EAST 28 STREET&quot;</td><td>&quot;EAST 28 STREET&quot;</td><td>&quot;MOUNT CARMEL PLACE&quot;</td><td>&quot;1 AVENUE&quot;</td><td>null</td><td>null</td><td>&quot;ADDRESS&quot;</td><td>&quot;NEW YORK&quot;</td><td>null</td><td>&quot;Precinct&quot;</td><td>&quot;Closed&quot;</td><td>&quot;10/04/2013 08:00:45 AM&quot;</td><td>&quot;10/04/2013 01:25:01 AM&quot;</td><td>&quot;06 MANHATTAN&quot;</td><td>&quot;MANHATTAN&quot;</td><td>990637</td><td>208987</td><td>&quot;Unspecified&quot;</td><td>&quot;MANHATTAN&quot;</td><td>&quot;Unspecified&quot;</td><td>&quot;Unspecified&quot;</td><td>&quot;Unspecified&quot;</td><td>&quot;Unspecified&quot;</td><td>&quot;Unspecified&quot;</td><td>&quot;Unspecified&quot;</td><td>&quot;Unspecified&quot;</td><td>&quot;Unspecified&quot;</td><td>&quot;Unspecified&quot;</td><td>&quot;N&quot;</td><td>null</td><td>null</td><td>null</td><td>null</td><td>null</td><td>null</td><td>null</td><td>null</td><td>null</td><td>null</td><td>null</td><td>40.740295</td><td>-73.976952</td><td>&quot;(40.740295354643706, -73.97695165980414)&quot;</td></tr><tr><td>26426115</td><td>&quot;10/04/2013 12:00:28 AM&quot;</td><td>&quot;10/04/2013 04:17:32 AM&quot;</td><td>&quot;NYPD&quot;</td><td>&quot;New York City Police Department&quot;</td><td>&quot;Noise - Commercial&quot;</td><td>&quot;Loud Talking&quot;</td><td>&quot;Club/Bar/Restaurant&quot;</td><td>&quot;11226&quot;</td><td>&quot;1233 FLATBUSH AVENUE&quot;</td><td>&quot;FLATBUSH AVENUE&quot;</td><td>&quot;AVENUE D&quot;</td><td>&quot;NEWKIRK AVENUE&quot;</td><td>null</td><td>null</td><td>&quot;ADDRESS&quot;</td><td>&quot;BROOKLYN&quot;</td><td>null</td><td>&quot;Precinct&quot;</td><td>&quot;Closed&quot;</td><td>&quot;10/04/2013 08:00:28 AM&quot;</td><td>&quot;10/04/2013 04:17:32 AM&quot;</td><td>&quot;14 BROOKLYN&quot;</td><td>&quot;BROOKLYN&quot;</td><td>996654</td><td>172515</td><td>&quot;Unspecified&quot;</td><td>&quot;BROOKLYN&quot;</td><td>&quot;Unspecified&quot;</td><td>&quot;Unspecified&quot;</td><td>&quot;Unspecified&quot;</td><td>&quot;Unspecified&quot;</td><td>&quot;Unspecified&quot;</td><td>&quot;Unspecified&quot;</td><td>&quot;Unspecified&quot;</td><td>&quot;Unspecified&quot;</td><td>&quot;Unspecified&quot;</td><td>&quot;N&quot;</td><td>null</td><td>null</td><td>null</td><td>null</td><td>null</td><td>null</td><td>null</td><td>null</td><td>null</td><td>null</td><td>null</td><td>40.640182</td><td>-73.955306</td><td>&quot;(40.64018174662485, -73.95530566958138)&quot;</td></tr><tr><td>26428033</td><td>&quot;10/04/2013 12:00:10 AM&quot;</td><td>&quot;10/04/2013 01:20:52 AM&quot;</td><td>&quot;NYPD&quot;</td><td>&quot;New York City Police Department&quot;</td><td>&quot;Blocked Driveway&quot;</td><td>&quot;Partial Access&quot;</td><td>&quot;Street/Sidewalk&quot;</td><td>&quot;11236&quot;</td><td>&quot;1259 EAST 94 STREET&quot;</td><td>&quot;EAST 94 STREET&quot;</td><td>&quot;AVENUE J&quot;</td><td>&quot;AVENUE K&quot;</td><td>null</td><td>null</td><td>&quot;ADDRESS&quot;</td><td>&quot;BROOKLYN&quot;</td><td>null</td><td>&quot;Precinct&quot;</td><td>&quot;Closed&quot;</td><td>&quot;10/04/2013 08:00:10 AM&quot;</td><td>&quot;10/04/2013 01:20:52 AM&quot;</td><td>&quot;18 BROOKLYN&quot;</td><td>&quot;BROOKLYN&quot;</td><td>1011804</td><td>172470</td><td>&quot;Unspecified&quot;</td><td>&quot;BROOKLYN&quot;</td><td>&quot;Unspecified&quot;</td><td>&quot;Unspecified&quot;</td><td>&quot;Unspecified&quot;</td><td>&quot;Unspecified&quot;</td><td>&quot;Unspecified&quot;</td><td>&quot;Unspecified&quot;</td><td>&quot;Unspecified&quot;</td><td>&quot;Unspecified&quot;</td><td>&quot;Unspecified&quot;</td><td>&quot;N&quot;</td><td>null</td><td>null</td><td>null</td><td>null</td><td>null</td><td>null</td><td>null</td><td>null</td><td>null</td><td>null</td><td>null</td><td>40.640024</td><td>-73.900717</td><td>&quot;(40.640024057399216, -73.90071711703163)&quot;</td></tr></tbody></table></div>"
      ],
      "text/plain": [
       "shape: (111_069, 52)\n",
       "┌─────┬─────┬─────┬─────┬─────┬─────┬─────┬─────┬─────┬─────┬─────┬─────┬─────┬─────┬─────┬─────┬─────┬─────┬─────┬─────┬─────┬─────┬─────┬─────┬─────┬─────┬─────┬─────┬─────┬─────┬─────┬─────┬─────┬─────┬─────┬─────┬─────┬─────┬─────┬─────┬─────┬─────┬─────┬─────┬─────┬─────┬─────┬─────┬─────┬─────┬─────┬─────┐\n",
       "│ Uni ┆ Cre ┆ Clo ┆ Age ┆ Age ┆ Com ┆ Des ┆ Loc ┆ Inc ┆ Inc ┆ Str ┆ Cro ┆ Cro ┆ Int ┆ Int ┆ Add ┆ Cit ┆ Lan ┆ Fac ┆ Sta ┆ Due ┆ Res ┆ Com ┆ Bor ┆ X   ┆ Y   ┆ Par ┆ Par ┆ Sch ┆ Sch ┆ Sch ┆ Sch ┆ Sch ┆ Sch ┆ Sch ┆ Sch ┆ Sch ┆ Sch ┆ Sch ┆ Veh ┆ Tax ┆ Tax ┆ Bri ┆ Bri ┆ Roa ┆ Bri ┆ Gar ┆ Fer ┆ Fer ┆ Lat ┆ Lon ┆ Loc │\n",
       "│ que ┆ ate ┆ sed ┆ ncy ┆ ncy ┆ pla ┆ cri ┆ ati ┆ ide ┆ ide ┆ eet ┆ ss  ┆ ss  ┆ ers ┆ ers ┆ res ┆ y   ┆ dma ┆ ili ┆ tus ┆ Dat ┆ olu ┆ mun ┆ oug ┆ Coo ┆ Coo ┆ k   ┆ k   ┆ ool ┆ ool ┆ ool ┆ ool ┆ ool ┆ ool ┆ ool ┆ ool ┆ ool ┆ ool ┆ ool ┆ icl ┆ i   ┆ i   ┆ dge ┆ dge ┆ d   ┆ dge ┆ age ┆ ry  ┆ ry  ┆ itu ┆ git ┆ ati │\n",
       "│ Key ┆ d   ┆ Dat ┆ --- ┆ Nam ┆ int ┆ pto ┆ on  ┆ nt  ┆ nt  ┆ Nam ┆ Str ┆ Str ┆ ect ┆ ect ┆ s   ┆ --- ┆ rk  ┆ ty  ┆ --- ┆ e   ┆ tio ┆ ity ┆ h   ┆ rdi ┆ rdi ┆ Fac ┆ Bor ┆ Nam ┆ Num ┆ Reg ┆ Cod ┆ Pho ┆ Add ┆ Cit ┆ Sta ┆ Zip ┆ Not ┆ or  ┆ e   ┆ Com ┆ Pic ┆ Hig ┆ Hig ┆ Ram ┆ Hig ┆ Lot ┆ Dir ┆ Ter ┆ de  ┆ ude ┆ on  │\n",
       "│ --- ┆ Dat ┆ e   ┆ str ┆ e   ┆ Typ ┆ r   ┆ Typ ┆ Zip ┆ Add ┆ e   ┆ eet ┆ eet ┆ ion ┆ ion ┆ Typ ┆ str ┆ --- ┆ Typ ┆ str ┆ --- ┆ n   ┆ Boa ┆ --- ┆ nat ┆ nat ┆ ili ┆ oug ┆ e   ┆ ber ┆ ion ┆ e   ┆ ne  ┆ res ┆ y   ┆ te  ┆ --- ┆ Fou ┆ Cit ┆ Typ ┆ pan ┆ k   ┆ hwa ┆ hwa ┆ p   ┆ hwa ┆ Nam ┆ ect ┆ min ┆ --- ┆ --- ┆ --- │\n",
       "│ i64 ┆ e   ┆ --- ┆     ┆ --- ┆ e   ┆ --- ┆ e   ┆ --- ┆ res ┆ --- ┆ 1   ┆ 2   ┆ Str ┆ Str ┆ e   ┆     ┆ str ┆ e   ┆     ┆ str ┆ Act ┆ rd  ┆ str ┆ e   ┆ e   ┆ ty  ┆ h   ┆ --- ┆ --- ┆ --- ┆ --- ┆ Num ┆ s   ┆ --- ┆ --- ┆ str ┆ nd  ┆ ywi ┆ e   ┆ y   ┆ Up  ┆ y   ┆ y   ┆ --- ┆ y   ┆ e   ┆ ion ┆ al  ┆ f64 ┆ f64 ┆ str │\n",
       "│     ┆ --- ┆ str ┆     ┆ str ┆ --- ┆ str ┆ --- ┆ str ┆ s   ┆ str ┆ --- ┆ --- ┆ eet ┆ eet ┆ --- ┆     ┆     ┆ --- ┆     ┆     ┆ ion ┆ --- ┆     ┆ (St ┆ (St ┆ Nam ┆ --- ┆ str ┆ str ┆ str ┆ str ┆ ber ┆ --- ┆ str ┆ str ┆     ┆ --- ┆ de  ┆ --- ┆ Bor ┆ Loc ┆ Nam ┆ Dir ┆ str ┆ Seg ┆ --- ┆ --- ┆ Nam ┆     ┆     ┆     │\n",
       "│     ┆ str ┆     ┆     ┆     ┆ str ┆     ┆ str ┆     ┆ --- ┆     ┆ str ┆ str ┆ 1   ┆ 2   ┆ str ┆     ┆     ┆ str ┆     ┆     ┆ Upd ┆ str ┆     ┆ ate ┆ ate ┆ e   ┆ str ┆     ┆     ┆     ┆     ┆ --- ┆ str ┆     ┆     ┆     ┆ str ┆ Com ┆ str ┆ oug ┆ ati ┆ e   ┆ ect ┆     ┆ men ┆ str ┆ str ┆ e   ┆     ┆     ┆     │\n",
       "│     ┆     ┆     ┆     ┆     ┆     ┆     ┆     ┆     ┆ str ┆     ┆     ┆     ┆ --- ┆ --- ┆     ┆     ┆     ┆     ┆     ┆     ┆ ate ┆     ┆     ┆ Pla ┆ Pla ┆ --- ┆     ┆     ┆     ┆     ┆     ┆ str ┆     ┆     ┆     ┆     ┆     ┆ pla ┆     ┆ h   ┆ on  ┆ --- ┆ ion ┆     ┆ t   ┆     ┆     ┆ --- ┆     ┆     ┆     │\n",
       "│     ┆     ┆     ┆     ┆     ┆     ┆     ┆     ┆     ┆     ┆     ┆     ┆     ┆ str ┆ str ┆     ┆     ┆     ┆     ┆     ┆     ┆ d   ┆     ┆     ┆ ne) ┆ ne) ┆ str ┆     ┆     ┆     ┆     ┆     ┆     ┆     ┆     ┆     ┆     ┆     ┆ int ┆     ┆ --- ┆ --- ┆ str ┆ --- ┆     ┆ --- ┆     ┆     ┆ str ┆     ┆     ┆     │\n",
       "│     ┆     ┆     ┆     ┆     ┆     ┆     ┆     ┆     ┆     ┆     ┆     ┆     ┆     ┆     ┆     ┆     ┆     ┆     ┆     ┆     ┆ Dat ┆     ┆     ┆ --- ┆ --- ┆     ┆     ┆     ┆     ┆     ┆     ┆     ┆     ┆     ┆     ┆     ┆     ┆ --- ┆     ┆ str ┆ str ┆     ┆ str ┆     ┆ str ┆     ┆     ┆     ┆     ┆     ┆     │\n",
       "│     ┆     ┆     ┆     ┆     ┆     ┆     ┆     ┆     ┆     ┆     ┆     ┆     ┆     ┆     ┆     ┆     ┆     ┆     ┆     ┆     ┆ e   ┆     ┆     ┆ i64 ┆ i64 ┆     ┆     ┆     ┆     ┆     ┆     ┆     ┆     ┆     ┆     ┆     ┆     ┆ str ┆     ┆     ┆     ┆     ┆     ┆     ┆     ┆     ┆     ┆     ┆     ┆     ┆     │\n",
       "│     ┆     ┆     ┆     ┆     ┆     ┆     ┆     ┆     ┆     ┆     ┆     ┆     ┆     ┆     ┆     ┆     ┆     ┆     ┆     ┆     ┆ --- ┆     ┆     ┆     ┆     ┆     ┆     ┆     ┆     ┆     ┆     ┆     ┆     ┆     ┆     ┆     ┆     ┆     ┆     ┆     ┆     ┆     ┆     ┆     ┆     ┆     ┆     ┆     ┆     ┆     ┆     │\n",
       "│     ┆     ┆     ┆     ┆     ┆     ┆     ┆     ┆     ┆     ┆     ┆     ┆     ┆     ┆     ┆     ┆     ┆     ┆     ┆     ┆     ┆ str ┆     ┆     ┆     ┆     ┆     ┆     ┆     ┆     ┆     ┆     ┆     ┆     ┆     ┆     ┆     ┆     ┆     ┆     ┆     ┆     ┆     ┆     ┆     ┆     ┆     ┆     ┆     ┆     ┆     ┆     │\n",
       "╞═════╪═════╪═════╪═════╪═════╪═════╪═════╪═════╪═════╪═════╪═════╪═════╪═════╪═════╪═════╪═════╪═════╪═════╪═════╪═════╪═════╪═════╪═════╪═════╪═════╪═════╪═════╪═════╪═════╪═════╪═════╪═════╪═════╪═════╪═════╪═════╪═════╪═════╪═════╪═════╪═════╪═════╪═════╪═════╪═════╪═════╪═════╪═════╪═════╪═════╪═════╪═════╡\n",
       "│ 265 ┆ 10/ ┆ nul ┆ NYP ┆ New ┆ Noi ┆ Lou ┆ Str ┆ 114 ┆ 90- ┆ 169 ┆ 90  ┆ 91  ┆ nul ┆ nul ┆ ADD ┆ JAM ┆ nul ┆ Pre ┆ Ass ┆ 10/ ┆ 10/ ┆ 12  ┆ QUE ┆ 104 ┆ 197 ┆ Uns ┆ QUE ┆ Uns ┆ Uns ┆ Uns ┆ Uns ┆ Uns ┆ Uns ┆ Uns ┆ Uns ┆ Uns ┆ N   ┆ nul ┆ nul ┆ nul ┆ nul ┆ nul ┆ nul ┆ nul ┆ nul ┆ nul ┆ nul ┆ nul ┆ 40. ┆ -73 ┆ (40 │\n",
       "│ 896 ┆ 31/ ┆ l   ┆ D   ┆ Yor ┆ se  ┆ d   ┆ eet ┆ 32  ┆ 03  ┆ STR ┆ AVE ┆ AVE ┆ l   ┆ l   ┆ RES ┆ AIC ┆ l   ┆ cin ┆ ign ┆ 31/ ┆ 31/ ┆ QUE ┆ ENS ┆ 202 ┆ 389 ┆ pec ┆ ENS ┆ pec ┆ pec ┆ pec ┆ pec ┆ pec ┆ pec ┆ pec ┆ pec ┆ pec ┆     ┆ l   ┆ l   ┆ l   ┆ l   ┆ l   ┆ l   ┆ l   ┆ l   ┆ l   ┆ l   ┆ l   ┆ 708 ┆ .79 ┆ .70 │\n",
       "│ 51  ┆ 201 ┆     ┆     ┆ k   ┆ -   ┆ Tal ┆ /Si ┆     ┆ 169 ┆ EET ┆ NUE ┆ NUE ┆     ┆     ┆ S   ┆ A   ┆     ┆ ct  ┆ ed  ┆ 201 ┆ 201 ┆ ENS ┆     ┆ 7   ┆     ┆ ifi ┆     ┆ ifi ┆ ifi ┆ ifi ┆ ifi ┆ ifi ┆ ifi ┆ ifi ┆ ifi ┆ ifi ┆     ┆     ┆     ┆     ┆     ┆     ┆     ┆     ┆     ┆     ┆     ┆     ┆ 275 ┆ 160 ┆ 827 │\n",
       "│     ┆ 3   ┆     ┆     ┆ Cit ┆ Str ┆ kin ┆ dew ┆     ┆ STR ┆     ┆     ┆     ┆     ┆     ┆     ┆     ┆     ┆     ┆     ┆ 3   ┆ 3   ┆     ┆     ┆     ┆     ┆ ed  ┆     ┆ ed  ┆ ed  ┆ ed  ┆ ed  ┆ ed  ┆ ed  ┆ ed  ┆ ed  ┆ ed  ┆     ┆     ┆     ┆     ┆     ┆     ┆     ┆     ┆     ┆     ┆     ┆     ┆     ┆ 4   ┆ 532 │\n",
       "│     ┆ 02: ┆     ┆     ┆ y   ┆ eet ┆ g   ┆ alk ┆     ┆ EET ┆     ┆     ┆     ┆     ┆     ┆     ┆     ┆     ┆     ┆     ┆ 10: ┆ 02: ┆     ┆     ┆     ┆     ┆     ┆     ┆     ┆     ┆     ┆     ┆     ┆     ┆     ┆     ┆     ┆     ┆     ┆     ┆     ┆     ┆     ┆     ┆     ┆     ┆     ┆     ┆     ┆     ┆     ┆ 593 │\n",
       "│     ┆ 08: ┆     ┆     ┆ Pol ┆ /Si ┆     ┆     ┆     ┆     ┆     ┆     ┆     ┆     ┆     ┆     ┆     ┆     ┆     ┆     ┆ 08: ┆ 35: ┆     ┆     ┆     ┆     ┆     ┆     ┆     ┆     ┆     ┆     ┆     ┆     ┆     ┆     ┆     ┆     ┆     ┆     ┆     ┆     ┆     ┆     ┆     ┆     ┆     ┆     ┆     ┆     ┆     ┆ 202 │\n",
       "│     ┆ 41  ┆     ┆     ┆ ice ┆ dew ┆     ┆     ┆     ┆     ┆     ┆     ┆     ┆     ┆     ┆     ┆     ┆     ┆     ┆     ┆ 41  ┆ 17  ┆     ┆     ┆     ┆     ┆     ┆     ┆     ┆     ┆     ┆     ┆     ┆     ┆     ┆     ┆     ┆     ┆     ┆     ┆     ┆     ┆     ┆     ┆     ┆     ┆     ┆     ┆     ┆     ┆     ┆ ,   │\n",
       "│     ┆ AM  ┆     ┆     ┆ Dep ┆ alk ┆     ┆     ┆     ┆     ┆     ┆     ┆     ┆     ┆     ┆     ┆     ┆     ┆     ┆     ┆ AM  ┆ AM  ┆     ┆     ┆     ┆     ┆     ┆     ┆     ┆     ┆     ┆     ┆     ┆     ┆     ┆     ┆     ┆     ┆     ┆     ┆     ┆     ┆     ┆     ┆     ┆     ┆     ┆     ┆     ┆     ┆     ┆ -73 │\n",
       "│     ┆     ┆     ┆     ┆ art ┆     ┆     ┆     ┆     ┆     ┆     ┆     ┆     ┆     ┆     ┆     ┆     ┆     ┆     ┆     ┆     ┆     ┆     ┆     ┆     ┆     ┆     ┆     ┆     ┆     ┆     ┆     ┆     ┆     ┆     ┆     ┆     ┆     ┆     ┆     ┆     ┆     ┆     ┆     ┆     ┆     ┆     ┆     ┆     ┆     ┆     ┆ .79 │\n",
       "│     ┆     ┆     ┆     ┆ men ┆     ┆     ┆     ┆     ┆     ┆     ┆     ┆     ┆     ┆     ┆     ┆     ┆     ┆     ┆     ┆     ┆     ┆     ┆     ┆     ┆     ┆     ┆     ┆     ┆     ┆     ┆     ┆     ┆     ┆     ┆     ┆     ┆     ┆     ┆     ┆     ┆     ┆     ┆     ┆     ┆     ┆     ┆     ┆     ┆     ┆     ┆ 160 │\n",
       "│     ┆     ┆     ┆     ┆ t   ┆     ┆     ┆     ┆     ┆     ┆     ┆     ┆     ┆     ┆     ┆     ┆     ┆     ┆     ┆     ┆     ┆     ┆     ┆     ┆     ┆     ┆     ┆     ┆     ┆     ┆     ┆     ┆     ┆     ┆     ┆     ┆     ┆     ┆     ┆     ┆     ┆     ┆     ┆     ┆     ┆     ┆     ┆     ┆     ┆     ┆     ┆ 395 │\n",
       "│     ┆     ┆     ┆     ┆     ┆     ┆     ┆     ┆     ┆     ┆     ┆     ┆     ┆     ┆     ┆     ┆     ┆     ┆     ┆     ┆     ┆     ┆     ┆     ┆     ┆     ┆     ┆     ┆     ┆     ┆     ┆     ┆     ┆     ┆     ┆     ┆     ┆     ┆     ┆     ┆     ┆     ┆     ┆     ┆     ┆     ┆     ┆     ┆     ┆     ┆     ┆ 779 │\n",
       "│     ┆     ┆     ┆     ┆     ┆     ┆     ┆     ┆     ┆     ┆     ┆     ┆     ┆     ┆     ┆     ┆     ┆     ┆     ┆     ┆     ┆     ┆     ┆     ┆     ┆     ┆     ┆     ┆     ┆     ┆     ┆     ┆     ┆     ┆     ┆     ┆     ┆     ┆     ┆     ┆     ┆     ┆     ┆     ┆     ┆     ┆     ┆     ┆     ┆     ┆     ┆ 721 │\n",
       "│     ┆     ┆     ┆     ┆     ┆     ┆     ┆     ┆     ┆     ┆     ┆     ┆     ┆     ┆     ┆     ┆     ┆     ┆     ┆     ┆     ┆     ┆     ┆     ┆     ┆     ┆     ┆     ┆     ┆     ┆     ┆     ┆     ┆     ┆     ┆     ┆     ┆     ┆     ┆     ┆     ┆     ┆     ┆     ┆     ┆     ┆     ┆     ┆     ┆     ┆     ┆ )   │\n",
       "│ 265 ┆ 10/ ┆ nul ┆ NYP ┆ New ┆ Ill ┆ Com ┆ Str ┆ 113 ┆ 58  ┆ 58  ┆ 58  ┆ 59  ┆ nul ┆ nul ┆ BLO ┆ MAS ┆ nul ┆ Pre ┆ Ope ┆ 10/ ┆ nul ┆ 05  ┆ QUE ┆ 100 ┆ 201 ┆ Uns ┆ QUE ┆ Uns ┆ Uns ┆ Uns ┆ Uns ┆ Uns ┆ Uns ┆ Uns ┆ Uns ┆ Uns ┆ N   ┆ nul ┆ nul ┆ nul ┆ nul ┆ nul ┆ nul ┆ nul ┆ nul ┆ nul ┆ nul ┆ nul ┆ 40. ┆ -73 ┆ (40 │\n",
       "│ 936 ┆ 31/ ┆ l   ┆ D   ┆ Yor ┆ ega ┆ mer ┆ eet ┆ 78  ┆ AVE ┆ AVE ┆ PLA ┆ STR ┆ l   ┆ l   ┆ CKF ┆ PET ┆ l   ┆ cin ┆ n   ┆ 31/ ┆ l   ┆ QUE ┆ ENS ┆ 934 ┆ 984 ┆ pec ┆ ENS ┆ pec ┆ pec ┆ pec ┆ pec ┆ pec ┆ pec ┆ pec ┆ pec ┆ pec ┆     ┆ l   ┆ l   ┆ l   ┆ l   ┆ l   ┆ l   ┆ l   ┆ l   ┆ l   ┆ l   ┆ l   ┆ 721 ┆ .90 ┆ .72 │\n",
       "│ 98  ┆ 201 ┆     ┆     ┆ k   ┆ l   ┆ cia ┆ /Si ┆     ┆ NUE ┆ NUE ┆ CE  ┆ EET ┆     ┆     ┆ ACE ┆ H   ┆     ┆ ct  ┆     ┆ 201 ┆     ┆ ENS ┆     ┆ 9   ┆     ┆ ifi ┆     ┆ ifi ┆ ifi ┆ ifi ┆ ifi ┆ ifi ┆ ifi ┆ ifi ┆ ifi ┆ ifi ┆     ┆     ┆     ┆     ┆     ┆     ┆     ┆     ┆     ┆     ┆     ┆     ┆ 041 ┆ 945 ┆ 104 │\n",
       "│     ┆ 3   ┆     ┆     ┆ Cit ┆ Par ┆ l   ┆ dew ┆     ┆     ┆     ┆     ┆     ┆     ┆     ┆     ┆     ┆     ┆     ┆     ┆ 3   ┆     ┆     ┆     ┆     ┆     ┆ ed  ┆     ┆ ed  ┆ ed  ┆ ed  ┆ ed  ┆ ed  ┆ ed  ┆ ed  ┆ ed  ┆ ed  ┆     ┆     ┆     ┆     ┆     ┆     ┆     ┆     ┆     ┆     ┆     ┆     ┆     ┆ 3   ┆ 053 │\n",
       "│     ┆ 02: ┆     ┆     ┆ y   ┆ kin ┆ Ove ┆ alk ┆     ┆     ┆     ┆     ┆     ┆     ┆     ┆     ┆     ┆     ┆     ┆     ┆ 10: ┆     ┆     ┆     ┆     ┆     ┆     ┆     ┆     ┆     ┆     ┆     ┆     ┆     ┆     ┆     ┆     ┆     ┆     ┆     ┆     ┆     ┆     ┆     ┆     ┆     ┆     ┆     ┆     ┆     ┆     ┆ 562 │\n",
       "│     ┆ 01: ┆     ┆     ┆ Pol ┆ g   ┆ rni ┆     ┆     ┆     ┆     ┆     ┆     ┆     ┆     ┆     ┆     ┆     ┆     ┆     ┆ 01: ┆     ┆     ┆     ┆     ┆     ┆     ┆     ┆     ┆     ┆     ┆     ┆     ┆     ┆     ┆     ┆     ┆     ┆     ┆     ┆     ┆     ┆     ┆     ┆     ┆     ┆     ┆     ┆     ┆     ┆     ┆ 830 │\n",
       "│     ┆ 04  ┆     ┆     ┆ ice ┆     ┆ ght ┆     ┆     ┆     ┆     ┆     ┆     ┆     ┆     ┆     ┆     ┆     ┆     ┆     ┆ 04  ┆     ┆     ┆     ┆     ┆     ┆     ┆     ┆     ┆     ┆     ┆     ┆     ┆     ┆     ┆     ┆     ┆     ┆     ┆     ┆     ┆     ┆     ┆     ┆     ┆     ┆     ┆     ┆     ┆     ┆     ┆ 5,  │\n",
       "│     ┆ AM  ┆     ┆     ┆ Dep ┆     ┆ Par ┆     ┆     ┆     ┆     ┆     ┆     ┆     ┆     ┆     ┆     ┆     ┆     ┆     ┆ AM  ┆     ┆     ┆     ┆     ┆     ┆     ┆     ┆     ┆     ┆     ┆     ┆     ┆     ┆     ┆     ┆     ┆     ┆     ┆     ┆     ┆     ┆     ┆     ┆     ┆     ┆     ┆     ┆     ┆     ┆     ┆ -73 │\n",
       "│     ┆     ┆     ┆     ┆ art ┆     ┆ kin ┆     ┆     ┆     ┆     ┆     ┆     ┆     ┆     ┆     ┆     ┆     ┆     ┆     ┆     ┆     ┆     ┆     ┆     ┆     ┆     ┆     ┆     ┆     ┆     ┆     ┆     ┆     ┆     ┆     ┆     ┆     ┆     ┆     ┆     ┆     ┆     ┆     ┆     ┆     ┆     ┆     ┆     ┆     ┆     ┆ .90 │\n",
       "│     ┆     ┆     ┆     ┆ men ┆     ┆ g   ┆     ┆     ┆     ┆     ┆     ┆     ┆     ┆     ┆     ┆     ┆     ┆     ┆     ┆     ┆     ┆     ┆     ┆     ┆     ┆     ┆     ┆     ┆     ┆     ┆     ┆     ┆     ┆     ┆     ┆     ┆     ┆     ┆     ┆     ┆     ┆     ┆     ┆     ┆     ┆     ┆     ┆     ┆     ┆     ┆ 945 │\n",
       "│     ┆     ┆     ┆     ┆ t   ┆     ┆     ┆     ┆     ┆     ┆     ┆     ┆     ┆     ┆     ┆     ┆     ┆     ┆     ┆     ┆     ┆     ┆     ┆     ┆     ┆     ┆     ┆     ┆     ┆     ┆     ┆     ┆     ┆     ┆     ┆     ┆     ┆     ┆     ┆     ┆     ┆     ┆     ┆     ┆     ┆     ┆     ┆     ┆     ┆     ┆     ┆ 306 │\n",
       "│     ┆     ┆     ┆     ┆     ┆     ┆     ┆     ┆     ┆     ┆     ┆     ┆     ┆     ┆     ┆     ┆     ┆     ┆     ┆     ┆     ┆     ┆     ┆     ┆     ┆     ┆     ┆     ┆     ┆     ┆     ┆     ┆     ┆     ┆     ┆     ┆     ┆     ┆     ┆     ┆     ┆     ┆     ┆     ┆     ┆     ┆     ┆     ┆     ┆     ┆     ┆ 791 │\n",
       "│     ┆     ┆     ┆     ┆     ┆     ┆     ┆     ┆     ┆     ┆     ┆     ┆     ┆     ┆     ┆     ┆     ┆     ┆     ┆     ┆     ┆     ┆     ┆     ┆     ┆     ┆     ┆     ┆     ┆     ┆     ┆     ┆     ┆     ┆     ┆     ┆     ┆     ┆     ┆     ┆     ┆     ┆     ┆     ┆     ┆     ┆     ┆     ┆     ┆     ┆     ┆ 765 │\n",
       "│     ┆     ┆     ┆     ┆     ┆     ┆     ┆     ┆     ┆     ┆     ┆     ┆     ┆     ┆     ┆     ┆     ┆     ┆     ┆     ┆     ┆     ┆     ┆     ┆     ┆     ┆     ┆     ┆     ┆     ┆     ┆     ┆     ┆     ┆     ┆     ┆     ┆     ┆     ┆     ┆     ┆     ┆     ┆     ┆     ┆     ┆     ┆     ┆     ┆     ┆     ┆ )   │\n",
       "│ 265 ┆ 10/ ┆ 10/ ┆ NYP ┆ New ┆ Noi ┆ Lou ┆ Clu ┆ 100 ┆ 406 ┆ BRO ┆ WES ┆ WES ┆ nul ┆ nul ┆ ADD ┆ NEW ┆ nul ┆ Pre ┆ Clo ┆ 10/ ┆ 10/ ┆ 12  ┆ MAN ┆ 100 ┆ 246 ┆ Uns ┆ MAN ┆ Uns ┆ Uns ┆ Uns ┆ Uns ┆ Uns ┆ Uns ┆ Uns ┆ Uns ┆ Uns ┆ N   ┆ nul ┆ nul ┆ nul ┆ nul ┆ nul ┆ nul ┆ nul ┆ nul ┆ nul ┆ nul ┆ nul ┆ 40. ┆ -73 ┆ (40 │\n",
       "│ 941 ┆ 31/ ┆ 31/ ┆ D   ┆ Yor ┆ se  ┆ d   ┆ b/B ┆ 32  ┆ 0   ┆ ADW ┆ T   ┆ T   ┆ l   ┆ l   ┆ RES ┆ YOR ┆ l   ┆ cin ┆ sed ┆ 31/ ┆ 31/ ┆ MAN ┆ HAT ┆ 108 ┆ 531 ┆ pec ┆ HAT ┆ pec ┆ pec ┆ pec ┆ pec ┆ pec ┆ pec ┆ pec ┆ pec ┆ pec ┆     ┆ l   ┆ l   ┆ l   ┆ l   ┆ l   ┆ l   ┆ l   ┆ l   ┆ l   ┆ l   ┆ l   ┆ 843 ┆ .93 ┆ .84 │\n",
       "│ 39  ┆ 201 ┆ 201 ┆     ┆ k   ┆ -   ┆ Mus ┆ ar/ ┆     ┆ BRO ┆ AY  ┆ 171 ┆ 172 ┆     ┆     ┆ S   ┆ K   ┆     ┆ ct  ┆     ┆ 201 ┆ 201 ┆ HAT ┆ TAN ┆ 8   ┆     ┆ ifi ┆ TAN ┆ ifi ┆ ifi ┆ ifi ┆ ifi ┆ ifi ┆ ifi ┆ ifi ┆ ifi ┆ ifi ┆     ┆     ┆     ┆     ┆     ┆     ┆     ┆     ┆     ┆     ┆     ┆     ┆ 33  ┆ 914 ┆ 332 │\n",
       "│     ┆ 3   ┆ 3   ┆     ┆ Cit ┆ Com ┆ ic/ ┆ Res ┆     ┆ ADW ┆     ┆ STR ┆ STR ┆     ┆     ┆     ┆     ┆     ┆     ┆     ┆ 3   ┆ 3   ┆ TAN ┆     ┆     ┆     ┆ ed  ┆     ┆ ed  ┆ ed  ┆ ed  ┆ ed  ┆ ed  ┆ ed  ┆ ed  ┆ ed  ┆ ed  ┆     ┆     ┆     ┆     ┆     ┆     ┆     ┆     ┆     ┆     ┆     ┆     ┆     ┆ 4   ┆ 975 │\n",
       "│     ┆ 02: ┆ 02: ┆     ┆ y   ┆ mer ┆ Par ┆ tau ┆     ┆ AY  ┆     ┆ EET ┆ EET ┆     ┆     ┆     ┆     ┆     ┆     ┆     ┆ 10: ┆ 02: ┆     ┆     ┆     ┆     ┆     ┆     ┆     ┆     ┆     ┆     ┆     ┆     ┆     ┆     ┆     ┆     ┆     ┆     ┆     ┆     ┆     ┆     ┆     ┆     ┆     ┆     ┆     ┆     ┆     ┆ 466 │\n",
       "│     ┆ 00: ┆ 40: ┆     ┆ Pol ┆ cia ┆ ty  ┆ ran ┆     ┆     ┆     ┆     ┆     ┆     ┆     ┆     ┆     ┆     ┆     ┆     ┆ 00: ┆ 39: ┆     ┆     ┆     ┆     ┆     ┆     ┆     ┆     ┆     ┆     ┆     ┆     ┆     ┆     ┆     ┆     ┆     ┆     ┆     ┆     ┆     ┆     ┆     ┆     ┆     ┆     ┆     ┆     ┆     ┆ 513 │\n",
       "│     ┆ 24  ┆ 32  ┆     ┆ ice ┆ l   ┆     ┆ t   ┆     ┆     ┆     ┆     ┆     ┆     ┆     ┆     ┆     ┆     ┆     ┆     ┆ 24  ┆ 42  ┆     ┆     ┆     ┆     ┆     ┆     ┆     ┆     ┆     ┆     ┆     ┆     ┆     ┆     ┆     ┆     ┆     ┆     ┆     ┆     ┆     ┆     ┆     ┆     ┆     ┆     ┆     ┆     ┆     ┆ ,   │\n",
       "│     ┆ AM  ┆ AM  ┆     ┆ Dep ┆     ┆     ┆     ┆     ┆     ┆     ┆     ┆     ┆     ┆     ┆     ┆     ┆     ┆     ┆     ┆ AM  ┆ AM  ┆     ┆     ┆     ┆     ┆     ┆     ┆     ┆     ┆     ┆     ┆     ┆     ┆     ┆     ┆     ┆     ┆     ┆     ┆     ┆     ┆     ┆     ┆     ┆     ┆     ┆     ┆     ┆     ┆     ┆ -73 │\n",
       "│     ┆     ┆     ┆     ┆ art ┆     ┆     ┆     ┆     ┆     ┆     ┆     ┆     ┆     ┆     ┆     ┆     ┆     ┆     ┆     ┆     ┆     ┆     ┆     ┆     ┆     ┆     ┆     ┆     ┆     ┆     ┆     ┆     ┆     ┆     ┆     ┆     ┆     ┆     ┆     ┆     ┆     ┆     ┆     ┆     ┆     ┆     ┆     ┆     ┆     ┆     ┆ .93 │\n",
       "│     ┆     ┆     ┆     ┆ men ┆     ┆     ┆     ┆     ┆     ┆     ┆     ┆     ┆     ┆     ┆     ┆     ┆     ┆     ┆     ┆     ┆     ┆     ┆     ┆     ┆     ┆     ┆     ┆     ┆     ┆     ┆     ┆     ┆     ┆     ┆     ┆     ┆     ┆     ┆     ┆     ┆     ┆     ┆     ┆     ┆     ┆     ┆     ┆     ┆     ┆     ┆ 914 │\n",
       "│     ┆     ┆     ┆     ┆ t   ┆     ┆     ┆     ┆     ┆     ┆     ┆     ┆     ┆     ┆     ┆     ┆     ┆     ┆     ┆     ┆     ┆     ┆     ┆     ┆     ┆     ┆     ┆     ┆     ┆     ┆     ┆     ┆     ┆     ┆     ┆     ┆     ┆     ┆     ┆     ┆     ┆     ┆     ┆     ┆     ┆     ┆     ┆     ┆     ┆     ┆     ┆ 371 │\n",
       "│     ┆     ┆     ┆     ┆     ┆     ┆     ┆     ┆     ┆     ┆     ┆     ┆     ┆     ┆     ┆     ┆     ┆     ┆     ┆     ┆     ┆     ┆     ┆     ┆     ┆     ┆     ┆     ┆     ┆     ┆     ┆     ┆     ┆     ┆     ┆     ┆     ┆     ┆     ┆     ┆     ┆     ┆     ┆     ┆     ┆     ┆     ┆     ┆     ┆     ┆     ┆ 913 │\n",
       "│     ┆     ┆     ┆     ┆     ┆     ┆     ┆     ┆     ┆     ┆     ┆     ┆     ┆     ┆     ┆     ┆     ┆     ┆     ┆     ┆     ┆     ┆     ┆     ┆     ┆     ┆     ┆     ┆     ┆     ┆     ┆     ┆     ┆     ┆     ┆     ┆     ┆     ┆     ┆     ┆     ┆     ┆     ┆     ┆     ┆     ┆     ┆     ┆     ┆     ┆     ┆ 482 │\n",
       "│     ┆     ┆     ┆     ┆     ┆     ┆     ┆     ┆     ┆     ┆     ┆     ┆     ┆     ┆     ┆     ┆     ┆     ┆     ┆     ┆     ┆     ┆     ┆     ┆     ┆     ┆     ┆     ┆     ┆     ┆     ┆     ┆     ┆     ┆     ┆     ┆     ┆     ┆     ┆     ┆     ┆     ┆     ┆     ┆     ┆     ┆     ┆     ┆     ┆     ┆     ┆ )   │\n",
       "│ 265 ┆ 10/ ┆ 10/ ┆ NYP ┆ New ┆ Noi ┆ Car ┆ Str ┆ 100 ┆ WES ┆ WES ┆ COL ┆ AMS ┆ nul ┆ nul ┆ BLO ┆ NEW ┆ nul ┆ Pre ┆ Clo ┆ 10/ ┆ 10/ ┆ 07  ┆ MAN ┆ 989 ┆ 222 ┆ Uns ┆ MAN ┆ Uns ┆ Uns ┆ Uns ┆ Uns ┆ Uns ┆ Uns ┆ Uns ┆ Uns ┆ Uns ┆ N   ┆ nul ┆ nul ┆ nul ┆ nul ┆ nul ┆ nul ┆ nul ┆ nul ┆ nul ┆ nul ┆ nul ┆ 40. ┆ -73 ┆ (40 │\n",
       "│ 957 ┆ 31/ ┆ 31/ ┆ D   ┆ Yor ┆ se  ┆ /Tr ┆ eet ┆ 23  ┆ T   ┆ T   ┆ UMB ┆ TER ┆ l   ┆ l   ┆ CKF ┆ YOR ┆ l   ┆ cin ┆ sed ┆ 31/ ┆ 31/ ┆ MAN ┆ HAT ┆ 730 ┆ 727 ┆ pec ┆ HAT ┆ pec ┆ pec ┆ pec ┆ pec ┆ pec ┆ pec ┆ pec ┆ pec ┆ pec ┆     ┆ l   ┆ l   ┆ l   ┆ l   ┆ l   ┆ l   ┆ l   ┆ l   ┆ l   ┆ l   ┆ l   ┆ 778 ┆ .98 ┆ .77 │\n",
       "│ 21  ┆ 201 ┆ 201 ┆     ┆ k   ┆ -   ┆ uck ┆ /Si ┆     ┆ 72  ┆ 72  ┆ US  ┆ DAM ┆     ┆     ┆ ACE ┆ K   ┆     ┆ ct  ┆     ┆ 201 ┆ 201 ┆ HAT ┆ TAN ┆     ┆     ┆ ifi ┆ TAN ┆ ifi ┆ ifi ┆ ifi ┆ ifi ┆ ifi ┆ ifi ┆ ifi ┆ ifi ┆ ifi ┆     ┆     ┆     ┆     ┆     ┆     ┆     ┆     ┆     ┆     ┆     ┆     ┆ 009 ┆ 021 ┆ 800 │\n",
       "│     ┆ 3   ┆ 3   ┆     ┆ Cit ┆ Veh ┆ Hor ┆ dew ┆     ┆ STR ┆ STR ┆ AVE ┆ AVE ┆     ┆     ┆     ┆     ┆     ┆     ┆     ┆ 3   ┆ 3   ┆ TAN ┆     ┆     ┆     ┆ ed  ┆     ┆ ed  ┆ ed  ┆ ed  ┆ ed  ┆ ed  ┆ ed  ┆ ed  ┆ ed  ┆ ed  ┆     ┆     ┆     ┆     ┆     ┆     ┆     ┆     ┆     ┆     ┆     ┆     ┆     ┆ 3   ┆ 874 │\n",
       "│     ┆ 01: ┆ 02: ┆     ┆ y   ┆ icl ┆ n   ┆ alk ┆     ┆ EET ┆ EET ┆ NUE ┆ NUE ┆     ┆     ┆     ┆     ┆     ┆     ┆     ┆ 09: ┆ 02: ┆     ┆     ┆     ┆     ┆     ┆     ┆     ┆     ┆     ┆     ┆     ┆     ┆     ┆     ┆     ┆     ┆     ┆     ┆     ┆     ┆     ┆     ┆     ┆     ┆     ┆     ┆     ┆     ┆     ┆ 463 │\n",
       "│     ┆ 56: ┆ 21: ┆     ┆ Pol ┆ e   ┆     ┆     ┆     ┆     ┆     ┆     ┆     ┆     ┆     ┆     ┆     ┆     ┆     ┆     ┆ 56: ┆ 21: ┆     ┆     ┆     ┆     ┆     ┆     ┆     ┆     ┆     ┆     ┆     ┆     ┆     ┆     ┆     ┆     ┆     ┆     ┆     ┆     ┆     ┆     ┆     ┆     ┆     ┆     ┆     ┆     ┆     ┆ 72, │\n",
       "│     ┆ 23  ┆ 48  ┆     ┆ ice ┆     ┆     ┆     ┆     ┆     ┆     ┆     ┆     ┆     ┆     ┆     ┆     ┆     ┆     ┆     ┆ 23  ┆ 10  ┆     ┆     ┆     ┆     ┆     ┆     ┆     ┆     ┆     ┆     ┆     ┆     ┆     ┆     ┆     ┆     ┆     ┆     ┆     ┆     ┆     ┆     ┆     ┆     ┆     ┆     ┆     ┆     ┆     ┆ -73 │\n",
       "│     ┆ AM  ┆ AM  ┆     ┆ Dep ┆     ┆     ┆     ┆     ┆     ┆     ┆     ┆     ┆     ┆     ┆     ┆     ┆     ┆     ┆     ┆ AM  ┆ AM  ┆     ┆     ┆     ┆     ┆     ┆     ┆     ┆     ┆     ┆     ┆     ┆     ┆     ┆     ┆     ┆     ┆     ┆     ┆     ┆     ┆     ┆     ┆     ┆     ┆     ┆     ┆     ┆     ┆     ┆ .98 │\n",
       "│     ┆     ┆     ┆     ┆ art ┆     ┆     ┆     ┆     ┆     ┆     ┆     ┆     ┆     ┆     ┆     ┆     ┆     ┆     ┆     ┆     ┆     ┆     ┆     ┆     ┆     ┆     ┆     ┆     ┆     ┆     ┆     ┆     ┆     ┆     ┆     ┆     ┆     ┆     ┆     ┆     ┆     ┆     ┆     ┆     ┆     ┆     ┆     ┆     ┆     ┆     ┆ 021 │\n",
       "│     ┆     ┆     ┆     ┆ men ┆     ┆     ┆     ┆     ┆     ┆     ┆     ┆     ┆     ┆     ┆     ┆     ┆     ┆     ┆     ┆     ┆     ┆     ┆     ┆     ┆     ┆     ┆     ┆     ┆     ┆     ┆     ┆     ┆     ┆     ┆     ┆     ┆     ┆     ┆     ┆     ┆     ┆     ┆     ┆     ┆     ┆     ┆     ┆     ┆     ┆     ┆ 349 │\n",
       "│     ┆     ┆     ┆     ┆ t   ┆     ┆     ┆     ┆     ┆     ┆     ┆     ┆     ┆     ┆     ┆     ┆     ┆     ┆     ┆     ┆     ┆     ┆     ┆     ┆     ┆     ┆     ┆     ┆     ┆     ┆     ┆     ┆     ┆     ┆     ┆     ┆     ┆     ┆     ┆     ┆     ┆     ┆     ┆     ┆     ┆     ┆     ┆     ┆     ┆     ┆     ┆ 023 │\n",
       "│     ┆     ┆     ┆     ┆     ┆     ┆     ┆     ┆     ┆     ┆     ┆     ┆     ┆     ┆     ┆     ┆     ┆     ┆     ┆     ┆     ┆     ┆     ┆     ┆     ┆     ┆     ┆     ┆     ┆     ┆     ┆     ┆     ┆     ┆     ┆     ┆     ┆     ┆     ┆     ┆     ┆     ┆     ┆     ┆     ┆     ┆     ┆     ┆     ┆     ┆     ┆ 975 │\n",
       "│     ┆     ┆     ┆     ┆     ┆     ┆     ┆     ┆     ┆     ┆     ┆     ┆     ┆     ┆     ┆     ┆     ┆     ┆     ┆     ┆     ┆     ┆     ┆     ┆     ┆     ┆     ┆     ┆     ┆     ┆     ┆     ┆     ┆     ┆     ┆     ┆     ┆     ┆     ┆     ┆     ┆     ┆     ┆     ┆     ┆     ┆     ┆     ┆     ┆     ┆     ┆ )   │\n",
       "│ 265 ┆ 10/ ┆ nul ┆ DOH ┆ Dep ┆ Rod ┆ Con ┆ Vac ┆ 100 ┆ WES ┆ WES ┆ LEN ┆ ADA ┆ nul ┆ nul ┆ BLO ┆ NEW ┆ nul ┆ nul ┆ Pen ┆ 11/ ┆ 10/ ┆ 10  ┆ MAN ┆ 998 ┆ 233 ┆ Uns ┆ MAN ┆ Uns ┆ Uns ┆ Uns ┆ Uns ┆ Uns ┆ Uns ┆ Uns ┆ Uns ┆ Uns ┆ N   ┆ nul ┆ nul ┆ nul ┆ nul ┆ nul ┆ nul ┆ nul ┆ nul ┆ nul ┆ nul ┆ nul ┆ 40. ┆ -73 ┆ (40 │\n",
       "│ 909 ┆ 31/ ┆ l   ┆ MH  ┆ art ┆ ent ┆ dit ┆ ant ┆ 27  ┆ T   ┆ T   ┆ OX  ┆ M   ┆ l   ┆ l   ┆ CKF ┆ YOR ┆ l   ┆ l   ┆ din ┆ 30/ ┆ 31/ ┆ MAN ┆ HAT ┆ 815 ┆ 545 ┆ pec ┆ HAT ┆ pec ┆ pec ┆ pec ┆ pec ┆ pec ┆ pec ┆ pec ┆ pec ┆ pec ┆     ┆ l   ┆ l   ┆ l   ┆ l   ┆ l   ┆ l   ┆ l   ┆ l   ┆ l   ┆ l   ┆ l   ┆ 807 ┆ .94 ┆ .80 │\n",
       "│ 30  ┆ 201 ┆     ┆     ┆ men ┆     ┆ ion ┆ Lot ┆     ┆ 124 ┆ 124 ┆ AVE ┆ CLA ┆     ┆     ┆ ACE ┆ K   ┆     ┆     ┆ g   ┆ 201 ┆ 201 ┆ HAT ┆ TAN ┆     ┆     ┆ ifi ┆ TAN ┆ ifi ┆ ifi ┆ ifi ┆ ifi ┆ ifi ┆ ifi ┆ ifi ┆ ifi ┆ ifi ┆     ┆     ┆     ┆     ┆     ┆     ┆     ┆     ┆     ┆     ┆     ┆     ┆ 691 ┆ 738 ┆ 769 │\n",
       "│     ┆ 3   ┆     ┆     ┆ t   ┆     ┆ Att ┆     ┆     ┆ STR ┆ STR ┆ NUE ┆ YTO ┆     ┆     ┆     ┆     ┆     ┆     ┆     ┆ 3   ┆ 3   ┆ TAN ┆     ┆     ┆     ┆ ed  ┆     ┆ ed  ┆ ed  ┆ ed  ┆ ed  ┆ ed  ┆ ed  ┆ ed  ┆ ed  ┆ ed  ┆     ┆     ┆     ┆     ┆     ┆     ┆     ┆     ┆     ┆     ┆     ┆     ┆     ┆ 7   ┆ 092 │\n",
       "│     ┆ 01: ┆     ┆     ┆ of  ┆     ┆ rac ┆     ┆     ┆ EET ┆ EET ┆     ┆ N   ┆     ┆     ┆     ┆     ┆     ┆     ┆     ┆ 01: ┆ 01: ┆     ┆     ┆     ┆     ┆     ┆     ┆     ┆     ┆     ┆     ┆     ┆     ┆     ┆     ┆     ┆     ┆     ┆     ┆     ┆     ┆     ┆     ┆     ┆     ┆     ┆     ┆     ┆     ┆     ┆ 704 │\n",
       "│     ┆ 53: ┆     ┆     ┆ Hea ┆     ┆ tin ┆     ┆     ┆     ┆     ┆     ┆ POW ┆     ┆     ┆     ┆     ┆     ┆     ┆     ┆ 53: ┆ 59: ┆     ┆     ┆     ┆     ┆     ┆     ┆     ┆     ┆     ┆     ┆     ┆     ┆     ┆     ┆     ┆     ┆     ┆     ┆     ┆     ┆     ┆     ┆     ┆     ┆     ┆     ┆     ┆     ┆     ┆ 951 │\n",
       "│     ┆ 44  ┆     ┆     ┆ lth ┆     ┆ g   ┆     ┆     ┆     ┆     ┆     ┆ ELL ┆     ┆     ┆     ┆     ┆     ┆     ┆     ┆ 44  ┆ 54  ┆     ┆     ┆     ┆     ┆     ┆     ┆     ┆     ┆     ┆     ┆     ┆     ┆     ┆     ┆     ┆     ┆     ┆     ┆     ┆     ┆     ┆     ┆     ┆     ┆     ┆     ┆     ┆     ┆     ┆ ,   │\n",
       "│     ┆ AM  ┆     ┆     ┆ and ┆     ┆ Rod ┆     ┆     ┆     ┆     ┆     ┆ JR  ┆     ┆     ┆     ┆     ┆     ┆     ┆     ┆ AM  ┆ AM  ┆     ┆     ┆     ┆     ┆     ┆     ┆     ┆     ┆     ┆     ┆     ┆     ┆     ┆     ┆     ┆     ┆     ┆     ┆     ┆     ┆     ┆     ┆     ┆     ┆     ┆     ┆     ┆     ┆     ┆ -73 │\n",
       "│     ┆     ┆     ┆     ┆ Men ┆     ┆ ent ┆     ┆     ┆     ┆     ┆     ┆ BOU ┆     ┆     ┆     ┆     ┆     ┆     ┆     ┆     ┆     ┆     ┆     ┆     ┆     ┆     ┆     ┆     ┆     ┆     ┆     ┆     ┆     ┆     ┆     ┆     ┆     ┆     ┆     ┆     ┆     ┆     ┆     ┆     ┆     ┆     ┆     ┆     ┆     ┆     ┆ .94 │\n",
       "│     ┆     ┆     ┆     ┆ tal ┆     ┆ s   ┆     ┆     ┆     ┆     ┆     ┆ LEV ┆     ┆     ┆     ┆     ┆     ┆     ┆     ┆     ┆     ┆     ┆     ┆     ┆     ┆     ┆     ┆     ┆     ┆     ┆     ┆     ┆     ┆     ┆     ┆     ┆     ┆     ┆     ┆     ┆     ┆     ┆     ┆     ┆     ┆     ┆     ┆     ┆     ┆     ┆ 738 │\n",
       "│     ┆     ┆     ┆     ┆ Hyg ┆     ┆     ┆     ┆     ┆     ┆     ┆     ┆ ARD ┆     ┆     ┆     ┆     ┆     ┆     ┆     ┆     ┆     ┆     ┆     ┆     ┆     ┆     ┆     ┆     ┆     ┆     ┆     ┆     ┆     ┆     ┆     ┆     ┆     ┆     ┆     ┆     ┆     ┆     ┆     ┆     ┆     ┆     ┆     ┆     ┆     ┆     ┆ 703 │\n",
       "│     ┆     ┆     ┆     ┆ ien ┆     ┆     ┆     ┆     ┆     ┆     ┆     ┆     ┆     ┆     ┆     ┆     ┆     ┆     ┆     ┆     ┆     ┆     ┆     ┆     ┆     ┆     ┆     ┆     ┆     ┆     ┆     ┆     ┆     ┆     ┆     ┆     ┆     ┆     ┆     ┆     ┆     ┆     ┆     ┆     ┆     ┆     ┆     ┆     ┆     ┆     ┆ 491 │\n",
       "│     ┆     ┆     ┆     ┆ e   ┆     ┆     ┆     ┆     ┆     ┆     ┆     ┆     ┆     ┆     ┆     ┆     ┆     ┆     ┆     ┆     ┆     ┆     ┆     ┆     ┆     ┆     ┆     ┆     ┆     ┆     ┆     ┆     ┆     ┆     ┆     ┆     ┆     ┆     ┆     ┆     ┆     ┆     ┆     ┆     ┆     ┆     ┆     ┆     ┆     ┆     ┆ 433 │\n",
       "│     ┆     ┆     ┆     ┆     ┆     ┆     ┆     ┆     ┆     ┆     ┆     ┆     ┆     ┆     ┆     ┆     ┆     ┆     ┆     ┆     ┆     ┆     ┆     ┆     ┆     ┆     ┆     ┆     ┆     ┆     ┆     ┆     ┆     ┆     ┆     ┆     ┆     ┆     ┆     ┆     ┆     ┆     ┆     ┆     ┆     ┆     ┆     ┆     ┆     ┆     ┆ )   │\n",
       "│ …   ┆ …   ┆ …   ┆ …   ┆ …   ┆ …   ┆ …   ┆ …   ┆ …   ┆ …   ┆ …   ┆ …   ┆ …   ┆ …   ┆ …   ┆ …   ┆ …   ┆ …   ┆ …   ┆ …   ┆ …   ┆ …   ┆ …   ┆ …   ┆ …   ┆ …   ┆ …   ┆ …   ┆ …   ┆ …   ┆ …   ┆ …   ┆ …   ┆ …   ┆ …   ┆ …   ┆ …   ┆ …   ┆ …   ┆ …   ┆ …   ┆ …   ┆ …   ┆ …   ┆ …   ┆ …   ┆ …   ┆ …   ┆ …   ┆ …   ┆ …   ┆ …   │\n",
       "│ 264 ┆ 10/ ┆ 10/ ┆ DPR ┆ Dep ┆ Mai ┆ Str ┆ Par ┆ 112 ┆ nul ┆ nul ┆ nul ┆ nul ┆ nul ┆ nul ┆ nul ┆ BRO ┆ nul ┆ nul ┆ Clo ┆ 10/ ┆ 10/ ┆ 08  ┆ BRO ┆ nul ┆ nul ┆ Bro ┆ BRO ┆ Bro ┆ B01 ┆ nul ┆ nul ┆ 718 ┆ Bro ┆ BRO ┆ NY  ┆ 112 ┆ N   ┆ nul ┆ nul ┆ nul ┆ nul ┆ nul ┆ nul ┆ nul ┆ nul ┆ nul ┆ nul ┆ nul ┆ nul ┆ nul ┆ nul │\n",
       "│ 260 ┆ 04/ ┆ 07/ ┆     ┆ art ┆ nte ┆ uct ┆ k   ┆ 13  ┆ l   ┆ l   ┆ l   ┆ l   ┆ l   ┆ l   ┆ l   ┆ OKL ┆ l   ┆ l   ┆ sed ┆ 18/ ┆ 07/ ┆ BRO ┆ OKL ┆ l   ┆ l   ┆ wer ┆ OKL ┆ wer ┆ 2   ┆ l   ┆ l   ┆ 965 ┆ okl ┆ OKL ┆     ┆ 13  ┆     ┆ l   ┆ l   ┆ l   ┆ l   ┆ l   ┆ l   ┆ l   ┆ l   ┆ l   ┆ l   ┆ l   ┆ l   ┆ l   ┆ l   │\n",
       "│ 13  ┆ 201 ┆ 201 ┆     ┆ men ┆ nan ┆ ure ┆     ┆     ┆     ┆     ┆     ┆     ┆     ┆     ┆     ┆ YN  ┆     ┆     ┆     ┆ 201 ┆ 201 ┆ OKL ┆ YN  ┆     ┆     ┆ Par ┆ YN  ┆ Par ┆     ┆     ┆     ┆ 890 ┆ yn, ┆ YN  ┆     ┆     ┆     ┆     ┆     ┆     ┆     ┆     ┆     ┆     ┆     ┆     ┆     ┆     ┆     ┆     ┆     │\n",
       "│     ┆ 3   ┆ 3   ┆     ┆ t   ┆ ce  ┆ -   ┆     ┆     ┆     ┆     ┆     ┆     ┆     ┆     ┆     ┆     ┆     ┆     ┆     ┆ 3   ┆ 3   ┆ YN  ┆     ┆     ┆     ┆ k   ┆     ┆ k   ┆     ┆     ┆     ┆ 0   ┆ St. ┆     ┆     ┆     ┆     ┆     ┆     ┆     ┆     ┆     ┆     ┆     ┆     ┆     ┆     ┆     ┆     ┆     ┆     │\n",
       "│     ┆ 12: ┆ 04: ┆     ┆ of  ┆ or  ┆ Out ┆     ┆     ┆     ┆     ┆     ┆     ┆     ┆     ┆     ┆     ┆     ┆     ┆     ┆ 12: ┆ 04: ┆     ┆     ┆     ┆     ┆     ┆     ┆     ┆     ┆     ┆     ┆     ┆ Mar ┆     ┆     ┆     ┆     ┆     ┆     ┆     ┆     ┆     ┆     ┆     ┆     ┆     ┆     ┆     ┆     ┆     ┆     │\n",
       "│     ┆ 01: ┆ 07: ┆     ┆ Par ┆ Fac ┆ doo ┆     ┆     ┆     ┆     ┆     ┆     ┆     ┆     ┆     ┆     ┆     ┆     ┆     ┆ 01: ┆ 07: ┆     ┆     ┆     ┆     ┆     ┆     ┆     ┆     ┆     ┆     ┆     ┆ ks, ┆     ┆     ┆     ┆     ┆     ┆     ┆     ┆     ┆     ┆     ┆     ┆     ┆     ┆     ┆     ┆     ┆     ┆     │\n",
       "│     ┆ 13  ┆ 16  ┆     ┆ ks  ┆ ili ┆ rs  ┆     ┆     ┆     ┆     ┆     ┆     ┆     ┆     ┆     ┆     ┆     ┆     ┆     ┆ 13  ┆ 16  ┆     ┆     ┆     ┆     ┆     ┆     ┆     ┆     ┆     ┆     ┆     ┆ Kin ┆     ┆     ┆     ┆     ┆     ┆     ┆     ┆     ┆     ┆     ┆     ┆     ┆     ┆     ┆     ┆     ┆     ┆     │\n",
       "│     ┆ AM  ┆ PM  ┆     ┆ and ┆ ty  ┆     ┆     ┆     ┆     ┆     ┆     ┆     ┆     ┆     ┆     ┆     ┆     ┆     ┆     ┆ AM  ┆ PM  ┆     ┆     ┆     ┆     ┆     ┆     ┆     ┆     ┆     ┆     ┆     ┆ gst ┆     ┆     ┆     ┆     ┆     ┆     ┆     ┆     ┆     ┆     ┆     ┆     ┆     ┆     ┆     ┆     ┆     ┆     │\n",
       "│     ┆     ┆     ┆     ┆ Rec ┆     ┆     ┆     ┆     ┆     ┆     ┆     ┆     ┆     ┆     ┆     ┆     ┆     ┆     ┆     ┆     ┆     ┆     ┆     ┆     ┆     ┆     ┆     ┆     ┆     ┆     ┆     ┆     ┆ on  ┆     ┆     ┆     ┆     ┆     ┆     ┆     ┆     ┆     ┆     ┆     ┆     ┆     ┆     ┆     ┆     ┆     ┆     │\n",
       "│     ┆     ┆     ┆     ┆ rea ┆     ┆     ┆     ┆     ┆     ┆     ┆     ┆     ┆     ┆     ┆     ┆     ┆     ┆     ┆     ┆     ┆     ┆     ┆     ┆     ┆     ┆     ┆     ┆     ┆     ┆     ┆     ┆     ┆ Ave ┆     ┆     ┆     ┆     ┆     ┆     ┆     ┆     ┆     ┆     ┆     ┆     ┆     ┆     ┆     ┆     ┆     ┆     │\n",
       "│     ┆     ┆     ┆     ┆ tio ┆     ┆     ┆     ┆     ┆     ┆     ┆     ┆     ┆     ┆     ┆     ┆     ┆     ┆     ┆     ┆     ┆     ┆     ┆     ┆     ┆     ┆     ┆     ┆     ┆     ┆     ┆     ┆     ┆ nue ┆     ┆     ┆     ┆     ┆     ┆     ┆     ┆     ┆     ┆     ┆     ┆     ┆     ┆     ┆     ┆     ┆     ┆     │\n",
       "│     ┆     ┆     ┆     ┆ n   ┆     ┆     ┆     ┆     ┆     ┆     ┆     ┆     ┆     ┆     ┆     ┆     ┆     ┆     ┆     ┆     ┆     ┆     ┆     ┆     ┆     ┆     ┆     ┆     ┆     ┆     ┆     ┆     ┆ s,  ┆     ┆     ┆     ┆     ┆     ┆     ┆     ┆     ┆     ┆     ┆     ┆     ┆     ┆     ┆     ┆     ┆     ┆     │\n",
       "│     ┆     ┆     ┆     ┆     ┆     ┆     ┆     ┆     ┆     ┆     ┆     ┆     ┆     ┆     ┆     ┆     ┆     ┆     ┆     ┆     ┆     ┆     ┆     ┆     ┆     ┆     ┆     ┆     ┆     ┆     ┆     ┆     ┆ Par ┆     ┆     ┆     ┆     ┆     ┆     ┆     ┆     ┆     ┆     ┆     ┆     ┆     ┆     ┆     ┆     ┆     ┆     │\n",
       "│     ┆     ┆     ┆     ┆     ┆     ┆     ┆     ┆     ┆     ┆     ┆     ┆     ┆     ┆     ┆     ┆     ┆     ┆     ┆     ┆     ┆     ┆     ┆     ┆     ┆     ┆     ┆     ┆     ┆     ┆     ┆     ┆     ┆ k   ┆     ┆     ┆     ┆     ┆     ┆     ┆     ┆     ┆     ┆     ┆     ┆     ┆     ┆     ┆     ┆     ┆     ┆     │\n",
       "│     ┆     ┆     ┆     ┆     ┆     ┆     ┆     ┆     ┆     ┆     ┆     ┆     ┆     ┆     ┆     ┆     ┆     ┆     ┆     ┆     ┆     ┆     ┆     ┆     ┆     ┆     ┆     ┆     ┆     ┆     ┆     ┆     ┆ Pla ┆     ┆     ┆     ┆     ┆     ┆     ┆     ┆     ┆     ┆     ┆     ┆     ┆     ┆     ┆     ┆     ┆     ┆     │\n",
       "│     ┆     ┆     ┆     ┆     ┆     ┆     ┆     ┆     ┆     ┆     ┆     ┆     ┆     ┆     ┆     ┆     ┆     ┆     ┆     ┆     ┆     ┆     ┆     ┆     ┆     ┆     ┆     ┆     ┆     ┆     ┆     ┆     ┆ ce  ┆     ┆     ┆     ┆     ┆     ┆     ┆     ┆     ┆     ┆     ┆     ┆     ┆     ┆     ┆     ┆     ┆     ┆     │\n",
       "│ 264 ┆ 10/ ┆ 10/ ┆ NYP ┆ New ┆ Ill ┆ Pos ┆ Str ┆ 114 ┆ nul ┆ nul ┆ nul ┆ nul ┆ GUY ┆ ROC ┆ INT ┆ JAM ┆ nul ┆ Pre ┆ Clo ┆ 10/ ┆ 10/ ┆ 13  ┆ QUE ┆ 104 ┆ 178 ┆ Uns ┆ QUE ┆ Uns ┆ Uns ┆ Uns ┆ Uns ┆ Uns ┆ Uns ┆ Uns ┆ Uns ┆ Uns ┆ N   ┆ nul ┆ nul ┆ nul ┆ nul ┆ nul ┆ nul ┆ nul ┆ nul ┆ nul ┆ nul ┆ nul ┆ 40. ┆ -73 ┆ (40 │\n",
       "│ 280 ┆ 04/ ┆ 04/ ┆ D   ┆ Yor ┆ ega ┆ ted ┆ eet ┆ 34  ┆ l   ┆ l   ┆ l   ┆ l   ┆ R   ┆ KAW ┆ ERS ┆ AIC ┆ l   ┆ cin ┆ sed ┆ 04/ ┆ 04/ ┆ QUE ┆ ENS ┆ 880 ┆ 419 ┆ pec ┆ ENS ┆ pec ┆ pec ┆ pec ┆ pec ┆ pec ┆ pec ┆ pec ┆ pec ┆ pec ┆     ┆ l   ┆ l   ┆ l   ┆ l   ┆ l   ┆ l   ┆ l   ┆ l   ┆ l   ┆ l   ┆ l   ┆ 656 ┆ .76 ┆ .65 │\n",
       "│ 83  ┆ 201 ┆ 201 ┆     ┆ k   ┆ l   ┆ Par ┆ /Si ┆     ┆     ┆     ┆     ┆     ┆ BRE ┆ AY  ┆ ECT ┆ A   ┆     ┆ ct  ┆     ┆ 201 ┆ 201 ┆ ENS ┆     ┆ 1   ┆     ┆ ifi ┆     ┆ ifi ┆ ifi ┆ ifi ┆ ifi ┆ ifi ┆ ifi ┆ ifi ┆ ifi ┆ ifi ┆     ┆     ┆     ┆     ┆     ┆     ┆     ┆     ┆     ┆     ┆     ┆     ┆ 16  ┆ 735 ┆ 616 │\n",
       "│     ┆ 3   ┆ 3   ┆     ┆ Cit ┆ Par ┆ kin ┆ dew ┆     ┆     ┆     ┆     ┆     ┆ WER ┆ BOU ┆ ION ┆     ┆     ┆     ┆     ┆ 3   ┆ 3   ┆     ┆     ┆     ┆     ┆ ed  ┆     ┆ ed  ┆ ed  ┆ ed  ┆ ed  ┆ ed  ┆ ed  ┆ ed  ┆ ed  ┆ ed  ┆     ┆     ┆     ┆     ┆     ┆     ┆     ┆     ┆     ┆     ┆     ┆     ┆     ┆ 3   ┆ 035 │\n",
       "│     ┆ 12: ┆ 02: ┆     ┆ y   ┆ kin ┆ g   ┆ alk ┆     ┆     ┆     ┆     ┆     ┆ BOU ┆ LEV ┆     ┆     ┆     ┆     ┆     ┆ 08: ┆ 02: ┆     ┆     ┆     ┆     ┆     ┆     ┆     ┆     ┆     ┆     ┆     ┆     ┆     ┆     ┆     ┆     ┆     ┆     ┆     ┆     ┆     ┆     ┆     ┆     ┆     ┆     ┆     ┆     ┆     ┆ 154 │\n",
       "│     ┆ 01: ┆ 13: ┆     ┆ Pol ┆ g   ┆ Sig ┆     ┆     ┆     ┆     ┆     ┆     ┆ LEV ┆ ARD ┆     ┆     ┆     ┆     ┆     ┆ 01: ┆ 13: ┆     ┆     ┆     ┆     ┆     ┆     ┆     ┆     ┆     ┆     ┆     ┆     ┆     ┆     ┆     ┆     ┆     ┆     ┆     ┆     ┆     ┆     ┆     ┆     ┆     ┆     ┆     ┆     ┆     ┆ 684 │\n",
       "│     ┆ 05  ┆ 50  ┆     ┆ ice ┆     ┆ n   ┆     ┆     ┆     ┆     ┆     ┆     ┆ ARD ┆     ┆     ┆     ┆     ┆     ┆     ┆ 05  ┆ 50  ┆     ┆     ┆     ┆     ┆     ┆     ┆     ┆     ┆     ┆     ┆     ┆     ┆     ┆     ┆     ┆     ┆     ┆     ┆     ┆     ┆     ┆     ┆     ┆     ┆     ┆     ┆     ┆     ┆     ┆ 5,  │\n",
       "│     ┆ AM  ┆ AM  ┆     ┆ Dep ┆     ┆ Vio ┆     ┆     ┆     ┆     ┆     ┆     ┆     ┆     ┆     ┆     ┆     ┆     ┆     ┆ AM  ┆ AM  ┆     ┆     ┆     ┆     ┆     ┆     ┆     ┆     ┆     ┆     ┆     ┆     ┆     ┆     ┆     ┆     ┆     ┆     ┆     ┆     ┆     ┆     ┆     ┆     ┆     ┆     ┆     ┆     ┆     ┆ -73 │\n",
       "│     ┆     ┆     ┆     ┆ art ┆     ┆ lat ┆     ┆     ┆     ┆     ┆     ┆     ┆     ┆     ┆     ┆     ┆     ┆     ┆     ┆     ┆     ┆     ┆     ┆     ┆     ┆     ┆     ┆     ┆     ┆     ┆     ┆     ┆     ┆     ┆     ┆     ┆     ┆     ┆     ┆     ┆     ┆     ┆     ┆     ┆     ┆     ┆     ┆     ┆     ┆     ┆ .76 │\n",
       "│     ┆     ┆     ┆     ┆ men ┆     ┆ ion ┆     ┆     ┆     ┆     ┆     ┆     ┆     ┆     ┆     ┆     ┆     ┆     ┆     ┆     ┆     ┆     ┆     ┆     ┆     ┆     ┆     ┆     ┆     ┆     ┆     ┆     ┆     ┆     ┆     ┆     ┆     ┆     ┆     ┆     ┆     ┆     ┆     ┆     ┆     ┆     ┆     ┆     ┆     ┆     ┆ 735 │\n",
       "│     ┆     ┆     ┆     ┆ t   ┆     ┆     ┆     ┆     ┆     ┆     ┆     ┆     ┆     ┆     ┆     ┆     ┆     ┆     ┆     ┆     ┆     ┆     ┆     ┆     ┆     ┆     ┆     ┆     ┆     ┆     ┆     ┆     ┆     ┆     ┆     ┆     ┆     ┆     ┆     ┆     ┆     ┆     ┆     ┆     ┆     ┆     ┆     ┆     ┆     ┆     ┆ 262 │\n",
       "│     ┆     ┆     ┆     ┆     ┆     ┆     ┆     ┆     ┆     ┆     ┆     ┆     ┆     ┆     ┆     ┆     ┆     ┆     ┆     ┆     ┆     ┆     ┆     ┆     ┆     ┆     ┆     ┆     ┆     ┆     ┆     ┆     ┆     ┆     ┆     ┆     ┆     ┆     ┆     ┆     ┆     ┆     ┆     ┆     ┆     ┆     ┆     ┆     ┆     ┆     ┆ 738 │\n",
       "│     ┆     ┆     ┆     ┆     ┆     ┆     ┆     ┆     ┆     ┆     ┆     ┆     ┆     ┆     ┆     ┆     ┆     ┆     ┆     ┆     ┆     ┆     ┆     ┆     ┆     ┆     ┆     ┆     ┆     ┆     ┆     ┆     ┆     ┆     ┆     ┆     ┆     ┆     ┆     ┆     ┆     ┆     ┆     ┆     ┆     ┆     ┆     ┆     ┆     ┆     ┆ 222 │\n",
       "│     ┆     ┆     ┆     ┆     ┆     ┆     ┆     ┆     ┆     ┆     ┆     ┆     ┆     ┆     ┆     ┆     ┆     ┆     ┆     ┆     ┆     ┆     ┆     ┆     ┆     ┆     ┆     ┆     ┆     ┆     ┆     ┆     ┆     ┆     ┆     ┆     ┆     ┆     ┆     ┆     ┆     ┆     ┆     ┆     ┆     ┆     ┆     ┆     ┆     ┆     ┆ )   │\n",
       "│ 264 ┆ 10/ ┆ 10/ ┆ NYP ┆ New ┆ Noi ┆ Lou ┆ Str ┆ 100 ┆ 344 ┆ EAS ┆ MOU ┆ 1   ┆ nul ┆ nul ┆ ADD ┆ NEW ┆ nul ┆ Pre ┆ Clo ┆ 10/ ┆ 10/ ┆ 06  ┆ MAN ┆ 990 ┆ 208 ┆ Uns ┆ MAN ┆ Uns ┆ Uns ┆ Uns ┆ Uns ┆ Uns ┆ Uns ┆ Uns ┆ Uns ┆ Uns ┆ N   ┆ nul ┆ nul ┆ nul ┆ nul ┆ nul ┆ nul ┆ nul ┆ nul ┆ nul ┆ nul ┆ nul ┆ 40. ┆ -73 ┆ (40 │\n",
       "│ 289 ┆ 04/ ┆ 04/ ┆ D   ┆ Yor ┆ se  ┆ d   ┆ eet ┆ 16  ┆ EAS ┆ T   ┆ NT  ┆ AVE ┆ l   ┆ l   ┆ RES ┆ YOR ┆ l   ┆ cin ┆ sed ┆ 04/ ┆ 04/ ┆ MAN ┆ HAT ┆ 637 ┆ 987 ┆ pec ┆ HAT ┆ pec ┆ pec ┆ pec ┆ pec ┆ pec ┆ pec ┆ pec ┆ pec ┆ pec ┆     ┆ l   ┆ l   ┆ l   ┆ l   ┆ l   ┆ l   ┆ l   ┆ l   ┆ l   ┆ l   ┆ l   ┆ 740 ┆ .97 ┆ .74 │\n",
       "│ 87  ┆ 201 ┆ 201 ┆     ┆ k   ┆ -   ┆ Tal ┆ /Si ┆     ┆ T   ┆ 28  ┆ CAR ┆ NUE ┆     ┆     ┆ S   ┆ K   ┆     ┆ ct  ┆     ┆ 201 ┆ 201 ┆ HAT ┆ TAN ┆     ┆     ┆ ifi ┆ TAN ┆ ifi ┆ ifi ┆ ifi ┆ ifi ┆ ifi ┆ ifi ┆ ifi ┆ ifi ┆ ifi ┆     ┆     ┆     ┆     ┆     ┆     ┆     ┆     ┆     ┆     ┆     ┆     ┆ 295 ┆ 695 ┆ 029 │\n",
       "│     ┆ 3   ┆ 3   ┆     ┆ Cit ┆ Str ┆ kin ┆ dew ┆     ┆ 28  ┆ STR ┆ MEL ┆     ┆     ┆     ┆     ┆     ┆     ┆     ┆     ┆ 3   ┆ 3   ┆ TAN ┆     ┆     ┆     ┆ ed  ┆     ┆ ed  ┆ ed  ┆ ed  ┆ ed  ┆ ed  ┆ ed  ┆ ed  ┆ ed  ┆ ed  ┆     ┆     ┆     ┆     ┆     ┆     ┆     ┆     ┆     ┆     ┆     ┆     ┆     ┆ 2   ┆ 535 │\n",
       "│     ┆ 12: ┆ 01: ┆     ┆ y   ┆ eet ┆ g   ┆ alk ┆     ┆ STR ┆ EET ┆ PLA ┆     ┆     ┆     ┆     ┆     ┆     ┆     ┆     ┆ 08: ┆ 01: ┆     ┆     ┆     ┆     ┆     ┆     ┆     ┆     ┆     ┆     ┆     ┆     ┆     ┆     ┆     ┆     ┆     ┆     ┆     ┆     ┆     ┆     ┆     ┆     ┆     ┆     ┆     ┆     ┆     ┆ 464 │\n",
       "│     ┆ 00: ┆ 25: ┆     ┆ Pol ┆ /Si ┆     ┆     ┆     ┆ EET ┆     ┆ CE  ┆     ┆     ┆     ┆     ┆     ┆     ┆     ┆     ┆ 00: ┆ 25: ┆     ┆     ┆     ┆     ┆     ┆     ┆     ┆     ┆     ┆     ┆     ┆     ┆     ┆     ┆     ┆     ┆     ┆     ┆     ┆     ┆     ┆     ┆     ┆     ┆     ┆     ┆     ┆     ┆     ┆ 370 │\n",
       "│     ┆ 45  ┆ 01  ┆     ┆ ice ┆ dew ┆     ┆     ┆     ┆     ┆     ┆     ┆     ┆     ┆     ┆     ┆     ┆     ┆     ┆     ┆ 45  ┆ 01  ┆     ┆     ┆     ┆     ┆     ┆     ┆     ┆     ┆     ┆     ┆     ┆     ┆     ┆     ┆     ┆     ┆     ┆     ┆     ┆     ┆     ┆     ┆     ┆     ┆     ┆     ┆     ┆     ┆     ┆ 6,  │\n",
       "│     ┆ AM  ┆ AM  ┆     ┆ Dep ┆ alk ┆     ┆     ┆     ┆     ┆     ┆     ┆     ┆     ┆     ┆     ┆     ┆     ┆     ┆     ┆ AM  ┆ AM  ┆     ┆     ┆     ┆     ┆     ┆     ┆     ┆     ┆     ┆     ┆     ┆     ┆     ┆     ┆     ┆     ┆     ┆     ┆     ┆     ┆     ┆     ┆     ┆     ┆     ┆     ┆     ┆     ┆     ┆ -73 │\n",
       "│     ┆     ┆     ┆     ┆ art ┆     ┆     ┆     ┆     ┆     ┆     ┆     ┆     ┆     ┆     ┆     ┆     ┆     ┆     ┆     ┆     ┆     ┆     ┆     ┆     ┆     ┆     ┆     ┆     ┆     ┆     ┆     ┆     ┆     ┆     ┆     ┆     ┆     ┆     ┆     ┆     ┆     ┆     ┆     ┆     ┆     ┆     ┆     ┆     ┆     ┆     ┆ .97 │\n",
       "│     ┆     ┆     ┆     ┆ men ┆     ┆     ┆     ┆     ┆     ┆     ┆     ┆     ┆     ┆     ┆     ┆     ┆     ┆     ┆     ┆     ┆     ┆     ┆     ┆     ┆     ┆     ┆     ┆     ┆     ┆     ┆     ┆     ┆     ┆     ┆     ┆     ┆     ┆     ┆     ┆     ┆     ┆     ┆     ┆     ┆     ┆     ┆     ┆     ┆     ┆     ┆ 695 │\n",
       "│     ┆     ┆     ┆     ┆ t   ┆     ┆     ┆     ┆     ┆     ┆     ┆     ┆     ┆     ┆     ┆     ┆     ┆     ┆     ┆     ┆     ┆     ┆     ┆     ┆     ┆     ┆     ┆     ┆     ┆     ┆     ┆     ┆     ┆     ┆     ┆     ┆     ┆     ┆     ┆     ┆     ┆     ┆     ┆     ┆     ┆     ┆     ┆     ┆     ┆     ┆     ┆ 165 │\n",
       "│     ┆     ┆     ┆     ┆     ┆     ┆     ┆     ┆     ┆     ┆     ┆     ┆     ┆     ┆     ┆     ┆     ┆     ┆     ┆     ┆     ┆     ┆     ┆     ┆     ┆     ┆     ┆     ┆     ┆     ┆     ┆     ┆     ┆     ┆     ┆     ┆     ┆     ┆     ┆     ┆     ┆     ┆     ┆     ┆     ┆     ┆     ┆     ┆     ┆     ┆     ┆ 980 │\n",
       "│     ┆     ┆     ┆     ┆     ┆     ┆     ┆     ┆     ┆     ┆     ┆     ┆     ┆     ┆     ┆     ┆     ┆     ┆     ┆     ┆     ┆     ┆     ┆     ┆     ┆     ┆     ┆     ┆     ┆     ┆     ┆     ┆     ┆     ┆     ┆     ┆     ┆     ┆     ┆     ┆     ┆     ┆     ┆     ┆     ┆     ┆     ┆     ┆     ┆     ┆     ┆ 414 │\n",
       "│     ┆     ┆     ┆     ┆     ┆     ┆     ┆     ┆     ┆     ┆     ┆     ┆     ┆     ┆     ┆     ┆     ┆     ┆     ┆     ┆     ┆     ┆     ┆     ┆     ┆     ┆     ┆     ┆     ┆     ┆     ┆     ┆     ┆     ┆     ┆     ┆     ┆     ┆     ┆     ┆     ┆     ┆     ┆     ┆     ┆     ┆     ┆     ┆     ┆     ┆     ┆ )   │\n",
       "│ 264 ┆ 10/ ┆ 10/ ┆ NYP ┆ New ┆ Noi ┆ Lou ┆ Clu ┆ 112 ┆ 123 ┆ FLA ┆ AVE ┆ NEW ┆ nul ┆ nul ┆ ADD ┆ BRO ┆ nul ┆ Pre ┆ Clo ┆ 10/ ┆ 10/ ┆ 14  ┆ BRO ┆ 996 ┆ 172 ┆ Uns ┆ BRO ┆ Uns ┆ Uns ┆ Uns ┆ Uns ┆ Uns ┆ Uns ┆ Uns ┆ Uns ┆ Uns ┆ N   ┆ nul ┆ nul ┆ nul ┆ nul ┆ nul ┆ nul ┆ nul ┆ nul ┆ nul ┆ nul ┆ nul ┆ 40. ┆ -73 ┆ (40 │\n",
       "│ 261 ┆ 04/ ┆ 04/ ┆ D   ┆ Yor ┆ se  ┆ d   ┆ b/B ┆ 26  ┆ 3   ┆ TBU ┆ NUE ┆ KIR ┆ l   ┆ l   ┆ RES ┆ OKL ┆ l   ┆ cin ┆ sed ┆ 04/ ┆ 04/ ┆ BRO ┆ OKL ┆ 654 ┆ 515 ┆ pec ┆ OKL ┆ pec ┆ pec ┆ pec ┆ pec ┆ pec ┆ pec ┆ pec ┆ pec ┆ pec ┆     ┆ l   ┆ l   ┆ l   ┆ l   ┆ l   ┆ l   ┆ l   ┆ l   ┆ l   ┆ l   ┆ l   ┆ 640 ┆ .95 ┆ .64 │\n",
       "│ 15  ┆ 201 ┆ 201 ┆     ┆ k   ┆ -   ┆ Tal ┆ ar/ ┆     ┆ FLA ┆ SH  ┆ D   ┆ K   ┆     ┆     ┆ S   ┆ YN  ┆     ┆ ct  ┆     ┆ 201 ┆ 201 ┆ OKL ┆ YN  ┆     ┆     ┆ ifi ┆ YN  ┆ ifi ┆ ifi ┆ ifi ┆ ifi ┆ ifi ┆ ifi ┆ ifi ┆ ifi ┆ ifi ┆     ┆     ┆     ┆     ┆     ┆     ┆     ┆     ┆     ┆     ┆     ┆     ┆ 182 ┆ 530 ┆ 018 │\n",
       "│     ┆ 3   ┆ 3   ┆     ┆ Cit ┆ Com ┆ kin ┆ Res ┆     ┆ TBU ┆ AVE ┆     ┆ AVE ┆     ┆     ┆     ┆     ┆     ┆     ┆     ┆ 3   ┆ 3   ┆ YN  ┆     ┆     ┆     ┆ ed  ┆     ┆ ed  ┆ ed  ┆ ed  ┆ ed  ┆ ed  ┆ ed  ┆ ed  ┆ ed  ┆ ed  ┆     ┆     ┆     ┆     ┆     ┆     ┆     ┆     ┆     ┆     ┆     ┆     ┆     ┆ 6   ┆ 174 │\n",
       "│     ┆ 12: ┆ 04: ┆     ┆ y   ┆ mer ┆ g   ┆ tau ┆     ┆ SH  ┆ NUE ┆     ┆ NUE ┆     ┆     ┆     ┆     ┆     ┆     ┆     ┆ 08: ┆ 04: ┆     ┆     ┆     ┆     ┆     ┆     ┆     ┆     ┆     ┆     ┆     ┆     ┆     ┆     ┆     ┆     ┆     ┆     ┆     ┆     ┆     ┆     ┆     ┆     ┆     ┆     ┆     ┆     ┆     ┆ 662 │\n",
       "│     ┆ 00: ┆ 17: ┆     ┆ Pol ┆ cia ┆     ┆ ran ┆     ┆ AVE ┆     ┆     ┆     ┆     ┆     ┆     ┆     ┆     ┆     ┆     ┆ 00: ┆ 17: ┆     ┆     ┆     ┆     ┆     ┆     ┆     ┆     ┆     ┆     ┆     ┆     ┆     ┆     ┆     ┆     ┆     ┆     ┆     ┆     ┆     ┆     ┆     ┆     ┆     ┆     ┆     ┆     ┆     ┆ 485 │\n",
       "│     ┆ 28  ┆ 32  ┆     ┆ ice ┆ l   ┆     ┆ t   ┆     ┆ NUE ┆     ┆     ┆     ┆     ┆     ┆     ┆     ┆     ┆     ┆     ┆ 28  ┆ 32  ┆     ┆     ┆     ┆     ┆     ┆     ┆     ┆     ┆     ┆     ┆     ┆     ┆     ┆     ┆     ┆     ┆     ┆     ┆     ┆     ┆     ┆     ┆     ┆     ┆     ┆     ┆     ┆     ┆     ┆ ,   │\n",
       "│     ┆ AM  ┆ AM  ┆     ┆ Dep ┆     ┆     ┆     ┆     ┆     ┆     ┆     ┆     ┆     ┆     ┆     ┆     ┆     ┆     ┆     ┆ AM  ┆ AM  ┆     ┆     ┆     ┆     ┆     ┆     ┆     ┆     ┆     ┆     ┆     ┆     ┆     ┆     ┆     ┆     ┆     ┆     ┆     ┆     ┆     ┆     ┆     ┆     ┆     ┆     ┆     ┆     ┆     ┆ -73 │\n",
       "│     ┆     ┆     ┆     ┆ art ┆     ┆     ┆     ┆     ┆     ┆     ┆     ┆     ┆     ┆     ┆     ┆     ┆     ┆     ┆     ┆     ┆     ┆     ┆     ┆     ┆     ┆     ┆     ┆     ┆     ┆     ┆     ┆     ┆     ┆     ┆     ┆     ┆     ┆     ┆     ┆     ┆     ┆     ┆     ┆     ┆     ┆     ┆     ┆     ┆     ┆     ┆ .95 │\n",
       "│     ┆     ┆     ┆     ┆ men ┆     ┆     ┆     ┆     ┆     ┆     ┆     ┆     ┆     ┆     ┆     ┆     ┆     ┆     ┆     ┆     ┆     ┆     ┆     ┆     ┆     ┆     ┆     ┆     ┆     ┆     ┆     ┆     ┆     ┆     ┆     ┆     ┆     ┆     ┆     ┆     ┆     ┆     ┆     ┆     ┆     ┆     ┆     ┆     ┆     ┆     ┆ 530 │\n",
       "│     ┆     ┆     ┆     ┆ t   ┆     ┆     ┆     ┆     ┆     ┆     ┆     ┆     ┆     ┆     ┆     ┆     ┆     ┆     ┆     ┆     ┆     ┆     ┆     ┆     ┆     ┆     ┆     ┆     ┆     ┆     ┆     ┆     ┆     ┆     ┆     ┆     ┆     ┆     ┆     ┆     ┆     ┆     ┆     ┆     ┆     ┆     ┆     ┆     ┆     ┆     ┆ 566 │\n",
       "│     ┆     ┆     ┆     ┆     ┆     ┆     ┆     ┆     ┆     ┆     ┆     ┆     ┆     ┆     ┆     ┆     ┆     ┆     ┆     ┆     ┆     ┆     ┆     ┆     ┆     ┆     ┆     ┆     ┆     ┆     ┆     ┆     ┆     ┆     ┆     ┆     ┆     ┆     ┆     ┆     ┆     ┆     ┆     ┆     ┆     ┆     ┆     ┆     ┆     ┆     ┆ 958 │\n",
       "│     ┆     ┆     ┆     ┆     ┆     ┆     ┆     ┆     ┆     ┆     ┆     ┆     ┆     ┆     ┆     ┆     ┆     ┆     ┆     ┆     ┆     ┆     ┆     ┆     ┆     ┆     ┆     ┆     ┆     ┆     ┆     ┆     ┆     ┆     ┆     ┆     ┆     ┆     ┆     ┆     ┆     ┆     ┆     ┆     ┆     ┆     ┆     ┆     ┆     ┆     ┆ 138 │\n",
       "│     ┆     ┆     ┆     ┆     ┆     ┆     ┆     ┆     ┆     ┆     ┆     ┆     ┆     ┆     ┆     ┆     ┆     ┆     ┆     ┆     ┆     ┆     ┆     ┆     ┆     ┆     ┆     ┆     ┆     ┆     ┆     ┆     ┆     ┆     ┆     ┆     ┆     ┆     ┆     ┆     ┆     ┆     ┆     ┆     ┆     ┆     ┆     ┆     ┆     ┆     ┆ )   │\n",
       "│ 264 ┆ 10/ ┆ 10/ ┆ NYP ┆ New ┆ Blo ┆ Par ┆ Str ┆ 112 ┆ 125 ┆ EAS ┆ AVE ┆ AVE ┆ nul ┆ nul ┆ ADD ┆ BRO ┆ nul ┆ Pre ┆ Clo ┆ 10/ ┆ 10/ ┆ 18  ┆ BRO ┆ 101 ┆ 172 ┆ Uns ┆ BRO ┆ Uns ┆ Uns ┆ Uns ┆ Uns ┆ Uns ┆ Uns ┆ Uns ┆ Uns ┆ Uns ┆ N   ┆ nul ┆ nul ┆ nul ┆ nul ┆ nul ┆ nul ┆ nul ┆ nul ┆ nul ┆ nul ┆ nul ┆ 40. ┆ -73 ┆ (40 │\n",
       "│ 280 ┆ 04/ ┆ 04/ ┆ D   ┆ Yor ┆ cke ┆ tia ┆ eet ┆ 36  ┆ 9   ┆ T   ┆ NUE ┆ NUE ┆ l   ┆ l   ┆ RES ┆ OKL ┆ l   ┆ cin ┆ sed ┆ 04/ ┆ 04/ ┆ BRO ┆ OKL ┆ 180 ┆ 470 ┆ pec ┆ OKL ┆ pec ┆ pec ┆ pec ┆ pec ┆ pec ┆ pec ┆ pec ┆ pec ┆ pec ┆     ┆ l   ┆ l   ┆ l   ┆ l   ┆ l   ┆ l   ┆ l   ┆ l   ┆ l   ┆ l   ┆ l   ┆ 640 ┆ .90 ┆ .64 │\n",
       "│ 33  ┆ 201 ┆ 201 ┆     ┆ k   ┆ d   ┆ l   ┆ /Si ┆     ┆ EAS ┆ 94  ┆ J   ┆ K   ┆     ┆     ┆ S   ┆ YN  ┆     ┆ ct  ┆     ┆ 201 ┆ 201 ┆ OKL ┆ YN  ┆ 4   ┆     ┆ ifi ┆ YN  ┆ ifi ┆ ifi ┆ ifi ┆ ifi ┆ ifi ┆ ifi ┆ ifi ┆ ifi ┆ ifi ┆     ┆     ┆     ┆     ┆     ┆     ┆     ┆     ┆     ┆     ┆     ┆     ┆ 024 ┆ 071 ┆ 002 │\n",
       "│     ┆ 3   ┆ 3   ┆     ┆ Cit ┆ Dri ┆ Acc ┆ dew ┆     ┆ T   ┆ STR ┆     ┆     ┆     ┆     ┆     ┆     ┆     ┆     ┆     ┆ 3   ┆ 3   ┆ YN  ┆     ┆     ┆     ┆ ed  ┆     ┆ ed  ┆ ed  ┆ ed  ┆ ed  ┆ ed  ┆ ed  ┆ ed  ┆ ed  ┆ ed  ┆     ┆     ┆     ┆     ┆     ┆     ┆     ┆     ┆     ┆     ┆     ┆     ┆     ┆ 7   ┆ 405 │\n",
       "│     ┆ 12: ┆ 01: ┆     ┆ y   ┆ vew ┆ ess ┆ alk ┆     ┆ 94  ┆ EET ┆     ┆     ┆     ┆     ┆     ┆     ┆     ┆     ┆     ┆ 08: ┆ 01: ┆     ┆     ┆     ┆     ┆     ┆     ┆     ┆     ┆     ┆     ┆     ┆     ┆     ┆     ┆     ┆     ┆     ┆     ┆     ┆     ┆     ┆     ┆     ┆     ┆     ┆     ┆     ┆     ┆     ┆ 739 │\n",
       "│     ┆ 00: ┆ 20: ┆     ┆ Pol ┆ ay  ┆     ┆     ┆     ┆ STR ┆     ┆     ┆     ┆     ┆     ┆     ┆     ┆     ┆     ┆     ┆ 00: ┆ 20: ┆     ┆     ┆     ┆     ┆     ┆     ┆     ┆     ┆     ┆     ┆     ┆     ┆     ┆     ┆     ┆     ┆     ┆     ┆     ┆     ┆     ┆     ┆     ┆     ┆     ┆     ┆     ┆     ┆     ┆ 921 │\n",
       "│     ┆ 10  ┆ 52  ┆     ┆ ice ┆     ┆     ┆     ┆     ┆ EET ┆     ┆     ┆     ┆     ┆     ┆     ┆     ┆     ┆     ┆     ┆ 10  ┆ 52  ┆     ┆     ┆     ┆     ┆     ┆     ┆     ┆     ┆     ┆     ┆     ┆     ┆     ┆     ┆     ┆     ┆     ┆     ┆     ┆     ┆     ┆     ┆     ┆     ┆     ┆     ┆     ┆     ┆     ┆ 6,  │\n",
       "│     ┆ AM  ┆ AM  ┆     ┆ Dep ┆     ┆     ┆     ┆     ┆     ┆     ┆     ┆     ┆     ┆     ┆     ┆     ┆     ┆     ┆     ┆ AM  ┆ AM  ┆     ┆     ┆     ┆     ┆     ┆     ┆     ┆     ┆     ┆     ┆     ┆     ┆     ┆     ┆     ┆     ┆     ┆     ┆     ┆     ┆     ┆     ┆     ┆     ┆     ┆     ┆     ┆     ┆     ┆ -73 │\n",
       "│     ┆     ┆     ┆     ┆ art ┆     ┆     ┆     ┆     ┆     ┆     ┆     ┆     ┆     ┆     ┆     ┆     ┆     ┆     ┆     ┆     ┆     ┆     ┆     ┆     ┆     ┆     ┆     ┆     ┆     ┆     ┆     ┆     ┆     ┆     ┆     ┆     ┆     ┆     ┆     ┆     ┆     ┆     ┆     ┆     ┆     ┆     ┆     ┆     ┆     ┆     ┆ .90 │\n",
       "│     ┆     ┆     ┆     ┆ men ┆     ┆     ┆     ┆     ┆     ┆     ┆     ┆     ┆     ┆     ┆     ┆     ┆     ┆     ┆     ┆     ┆     ┆     ┆     ┆     ┆     ┆     ┆     ┆     ┆     ┆     ┆     ┆     ┆     ┆     ┆     ┆     ┆     ┆     ┆     ┆     ┆     ┆     ┆     ┆     ┆     ┆     ┆     ┆     ┆     ┆     ┆ 071 │\n",
       "│     ┆     ┆     ┆     ┆ t   ┆     ┆     ┆     ┆     ┆     ┆     ┆     ┆     ┆     ┆     ┆     ┆     ┆     ┆     ┆     ┆     ┆     ┆     ┆     ┆     ┆     ┆     ┆     ┆     ┆     ┆     ┆     ┆     ┆     ┆     ┆     ┆     ┆     ┆     ┆     ┆     ┆     ┆     ┆     ┆     ┆     ┆     ┆     ┆     ┆     ┆     ┆ 711 │\n",
       "│     ┆     ┆     ┆     ┆     ┆     ┆     ┆     ┆     ┆     ┆     ┆     ┆     ┆     ┆     ┆     ┆     ┆     ┆     ┆     ┆     ┆     ┆     ┆     ┆     ┆     ┆     ┆     ┆     ┆     ┆     ┆     ┆     ┆     ┆     ┆     ┆     ┆     ┆     ┆     ┆     ┆     ┆     ┆     ┆     ┆     ┆     ┆     ┆     ┆     ┆     ┆ 703 │\n",
       "│     ┆     ┆     ┆     ┆     ┆     ┆     ┆     ┆     ┆     ┆     ┆     ┆     ┆     ┆     ┆     ┆     ┆     ┆     ┆     ┆     ┆     ┆     ┆     ┆     ┆     ┆     ┆     ┆     ┆     ┆     ┆     ┆     ┆     ┆     ┆     ┆     ┆     ┆     ┆     ┆     ┆     ┆     ┆     ┆     ┆     ┆     ┆     ┆     ┆     ┆     ┆ 163 │\n",
       "│     ┆     ┆     ┆     ┆     ┆     ┆     ┆     ┆     ┆     ┆     ┆     ┆     ┆     ┆     ┆     ┆     ┆     ┆     ┆     ┆     ┆     ┆     ┆     ┆     ┆     ┆     ┆     ┆     ┆     ┆     ┆     ┆     ┆     ┆     ┆     ┆     ┆     ┆     ┆     ┆     ┆     ┆     ┆     ┆     ┆     ┆     ┆     ┆     ┆     ┆     ┆ )   │\n",
       "└─────┴─────┴─────┴─────┴─────┴─────┴─────┴─────┴─────┴─────┴─────┴─────┴─────┴─────┴─────┴─────┴─────┴─────┴─────┴─────┴─────┴─────┴─────┴─────┴─────┴─────┴─────┴─────┴─────┴─────┴─────┴─────┴─────┴─────┴─────┴─────┴─────┴─────┴─────┴─────┴─────┴─────┴─────┴─────┴─────┴─────┴─────┴─────┴─────┴─────┴─────┴─────┘"
      ]
     },
     "execution_count": 17,
     "metadata": {},
     "output_type": "execute_result"
    }
   ],
   "source": [
    "requests = requests.with_columns([pl.col('Incident Zip').str.slice(0,5)])\n",
    "requests"
   ]
  },
  {
   "cell_type": "markdown",
   "metadata": {},
   "source": [
    "Done."
   ]
  },
  {
   "cell_type": "markdown",
   "metadata": {},
   "source": [
    "Earlier I thought 00083 was a broken zip code, but turns out Central Park's zip code 00083! Shows what I know. I'm still concerned about the 00000 zip codes, though: let's look at that. "
   ]
  },
  {
   "cell_type": "code",
   "execution_count": 19,
   "metadata": {},
   "outputs": [
    {
     "data": {
      "text/html": [
       "<div><style>\n",
       ".dataframe > thead > tr,\n",
       ".dataframe > tbody > tr {\n",
       "  text-align: right;\n",
       "  white-space: pre-wrap;\n",
       "}\n",
       "</style>\n",
       "<small>shape: (2, 52)</small><table border=\"1\" class=\"dataframe\"><thead><tr><th>Unique Key</th><th>Created Date</th><th>Closed Date</th><th>Agency</th><th>Agency Name</th><th>Complaint Type</th><th>Descriptor</th><th>Location Type</th><th>Incident Zip</th><th>Incident Address</th><th>Street Name</th><th>Cross Street 1</th><th>Cross Street 2</th><th>Intersection Street 1</th><th>Intersection Street 2</th><th>Address Type</th><th>City</th><th>Landmark</th><th>Facility Type</th><th>Status</th><th>Due Date</th><th>Resolution Action Updated Date</th><th>Community Board</th><th>Borough</th><th>X Coordinate (State Plane)</th><th>Y Coordinate (State Plane)</th><th>Park Facility Name</th><th>Park Borough</th><th>School Name</th><th>School Number</th><th>School Region</th><th>School Code</th><th>School Phone Number</th><th>School Address</th><th>School City</th><th>School State</th><th>School Zip</th><th>School Not Found</th><th>School or Citywide Complaint</th><th>Vehicle Type</th><th>Taxi Company Borough</th><th>Taxi Pick Up Location</th><th>Bridge Highway Name</th><th>Bridge Highway Direction</th><th>Road Ramp</th><th>Bridge Highway Segment</th><th>Garage Lot Name</th><th>Ferry Direction</th><th>Ferry Terminal Name</th><th>Latitude</th><th>Longitude</th><th>Location</th></tr><tr><td>i64</td><td>str</td><td>str</td><td>str</td><td>str</td><td>str</td><td>str</td><td>str</td><td>str</td><td>str</td><td>str</td><td>str</td><td>str</td><td>str</td><td>str</td><td>str</td><td>str</td><td>str</td><td>str</td><td>str</td><td>str</td><td>str</td><td>str</td><td>str</td><td>i64</td><td>i64</td><td>str</td><td>str</td><td>str</td><td>str</td><td>str</td><td>str</td><td>str</td><td>str</td><td>str</td><td>str</td><td>str</td><td>str</td><td>str</td><td>str</td><td>str</td><td>str</td><td>str</td><td>str</td><td>str</td><td>str</td><td>str</td><td>str</td><td>str</td><td>f64</td><td>f64</td><td>str</td></tr></thead><tbody><tr><td>26529313</td><td>&quot;10/22/2013 02:51:06 PM&quot;</td><td>null</td><td>&quot;TLC&quot;</td><td>&quot;Taxi and Limousine Commission&quot;</td><td>&quot;Taxi Complaint&quot;</td><td>&quot;Driver Complaint&quot;</td><td>null</td><td>&quot;00000&quot;</td><td>&quot;EWR EWR&quot;</td><td>&quot;EWR&quot;</td><td>null</td><td>null</td><td>null</td><td>null</td><td>null</td><td>&quot;NEWARK&quot;</td><td>null</td><td>null</td><td>&quot;Assigned&quot;</td><td>&quot;12/07/2013 09:53:51 AM&quot;</td><td>&quot;10/23/2013 09:54:43 AM&quot;</td><td>&quot;0 Unspecified&quot;</td><td>&quot;Unspecified&quot;</td><td>null</td><td>null</td><td>&quot;Unspecified&quot;</td><td>&quot;Unspecified&quot;</td><td>&quot;Unspecified&quot;</td><td>&quot;Unspecified&quot;</td><td>&quot;Unspecified&quot;</td><td>&quot;Unspecified&quot;</td><td>&quot;Unspecified&quot;</td><td>&quot;Unspecified&quot;</td><td>&quot;Unspecified&quot;</td><td>&quot;Unspecified&quot;</td><td>&quot;Unspecified&quot;</td><td>&quot;N&quot;</td><td>null</td><td>null</td><td>null</td><td>&quot;Other&quot;</td><td>null</td><td>null</td><td>null</td><td>null</td><td>null</td><td>null</td><td>null</td><td>null</td><td>null</td><td>null</td></tr><tr><td>26507389</td><td>&quot;10/17/2013 05:48:44 PM&quot;</td><td>null</td><td>&quot;TLC&quot;</td><td>&quot;Taxi and Limousine Commission&quot;</td><td>&quot;Taxi Complaint&quot;</td><td>&quot;Driver Complaint&quot;</td><td>&quot;Street&quot;</td><td>&quot;00000&quot;</td><td>&quot;1 NEWARK AIRPORT&quot;</td><td>&quot;NEWARK AIRPORT&quot;</td><td>null</td><td>null</td><td>null</td><td>null</td><td>null</td><td>&quot;NEWARK&quot;</td><td>null</td><td>null</td><td>&quot;Assigned&quot;</td><td>&quot;12/02/2013 11:59:46 AM&quot;</td><td>&quot;10/18/2013 12:01:08 PM&quot;</td><td>&quot;0 Unspecified&quot;</td><td>&quot;Unspecified&quot;</td><td>null</td><td>null</td><td>&quot;Unspecified&quot;</td><td>&quot;Unspecified&quot;</td><td>&quot;Unspecified&quot;</td><td>&quot;Unspecified&quot;</td><td>&quot;Unspecified&quot;</td><td>&quot;Unspecified&quot;</td><td>&quot;Unspecified&quot;</td><td>&quot;Unspecified&quot;</td><td>&quot;Unspecified&quot;</td><td>&quot;Unspecified&quot;</td><td>&quot;Unspecified&quot;</td><td>&quot;N&quot;</td><td>null</td><td>null</td><td>null</td><td>&quot;Other&quot;</td><td>null</td><td>null</td><td>null</td><td>null</td><td>null</td><td>null</td><td>null</td><td>null</td><td>null</td><td>null</td></tr></tbody></table></div>"
      ],
      "text/plain": [
       "shape: (2, 52)\n",
       "┌─────┬─────┬─────┬─────┬─────┬─────┬─────┬─────┬─────┬─────┬─────┬─────┬─────┬─────┬─────┬─────┬─────┬─────┬─────┬─────┬─────┬─────┬─────┬─────┬─────┬─────┬─────┬─────┬─────┬─────┬─────┬─────┬─────┬─────┬─────┬─────┬─────┬─────┬─────┬─────┬─────┬─────┬─────┬─────┬─────┬─────┬─────┬─────┬─────┬─────┬─────┬─────┐\n",
       "│ Uni ┆ Cre ┆ Clo ┆ Age ┆ Age ┆ Com ┆ Des ┆ Loc ┆ Inc ┆ Inc ┆ Str ┆ Cro ┆ Cro ┆ Int ┆ Int ┆ Add ┆ Cit ┆ Lan ┆ Fac ┆ Sta ┆ Due ┆ Res ┆ Com ┆ Bor ┆ X   ┆ Y   ┆ Par ┆ Par ┆ Sch ┆ Sch ┆ Sch ┆ Sch ┆ Sch ┆ Sch ┆ Sch ┆ Sch ┆ Sch ┆ Sch ┆ Sch ┆ Veh ┆ Tax ┆ Tax ┆ Bri ┆ Bri ┆ Roa ┆ Bri ┆ Gar ┆ Fer ┆ Fer ┆ Lat ┆ Lon ┆ Loc │\n",
       "│ que ┆ ate ┆ sed ┆ ncy ┆ ncy ┆ pla ┆ cri ┆ ati ┆ ide ┆ ide ┆ eet ┆ ss  ┆ ss  ┆ ers ┆ ers ┆ res ┆ y   ┆ dma ┆ ili ┆ tus ┆ Dat ┆ olu ┆ mun ┆ oug ┆ Coo ┆ Coo ┆ k   ┆ k   ┆ ool ┆ ool ┆ ool ┆ ool ┆ ool ┆ ool ┆ ool ┆ ool ┆ ool ┆ ool ┆ ool ┆ icl ┆ i   ┆ i   ┆ dge ┆ dge ┆ d   ┆ dge ┆ age ┆ ry  ┆ ry  ┆ itu ┆ git ┆ ati │\n",
       "│ Key ┆ d   ┆ Dat ┆ --- ┆ Nam ┆ int ┆ pto ┆ on  ┆ nt  ┆ nt  ┆ Nam ┆ Str ┆ Str ┆ ect ┆ ect ┆ s   ┆ --- ┆ rk  ┆ ty  ┆ --- ┆ e   ┆ tio ┆ ity ┆ h   ┆ rdi ┆ rdi ┆ Fac ┆ Bor ┆ Nam ┆ Num ┆ Reg ┆ Cod ┆ Pho ┆ Add ┆ Cit ┆ Sta ┆ Zip ┆ Not ┆ or  ┆ e   ┆ Com ┆ Pic ┆ Hig ┆ Hig ┆ Ram ┆ Hig ┆ Lot ┆ Dir ┆ Ter ┆ de  ┆ ude ┆ on  │\n",
       "│ --- ┆ Dat ┆ e   ┆ str ┆ e   ┆ Typ ┆ r   ┆ Typ ┆ Zip ┆ Add ┆ e   ┆ eet ┆ eet ┆ ion ┆ ion ┆ Typ ┆ str ┆ --- ┆ Typ ┆ str ┆ --- ┆ n   ┆ Boa ┆ --- ┆ nat ┆ nat ┆ ili ┆ oug ┆ e   ┆ ber ┆ ion ┆ e   ┆ ne  ┆ res ┆ y   ┆ te  ┆ --- ┆ Fou ┆ Cit ┆ Typ ┆ pan ┆ k   ┆ hwa ┆ hwa ┆ p   ┆ hwa ┆ Nam ┆ ect ┆ min ┆ --- ┆ --- ┆ --- │\n",
       "│ i64 ┆ e   ┆ --- ┆     ┆ --- ┆ e   ┆ --- ┆ e   ┆ --- ┆ res ┆ --- ┆ 1   ┆ 2   ┆ Str ┆ Str ┆ e   ┆     ┆ str ┆ e   ┆     ┆ str ┆ Act ┆ rd  ┆ str ┆ e   ┆ e   ┆ ty  ┆ h   ┆ --- ┆ --- ┆ --- ┆ --- ┆ Num ┆ s   ┆ --- ┆ --- ┆ str ┆ nd  ┆ ywi ┆ e   ┆ y   ┆ Up  ┆ y   ┆ y   ┆ --- ┆ y   ┆ e   ┆ ion ┆ al  ┆ f64 ┆ f64 ┆ str │\n",
       "│     ┆ --- ┆ str ┆     ┆ str ┆ --- ┆ str ┆ --- ┆ str ┆ s   ┆ str ┆ --- ┆ --- ┆ eet ┆ eet ┆ --- ┆     ┆     ┆ --- ┆     ┆     ┆ ion ┆ --- ┆     ┆ (St ┆ (St ┆ Nam ┆ --- ┆ str ┆ str ┆ str ┆ str ┆ ber ┆ --- ┆ str ┆ str ┆     ┆ --- ┆ de  ┆ --- ┆ Bor ┆ Loc ┆ Nam ┆ Dir ┆ str ┆ Seg ┆ --- ┆ --- ┆ Nam ┆     ┆     ┆     │\n",
       "│     ┆ str ┆     ┆     ┆     ┆ str ┆     ┆ str ┆     ┆ --- ┆     ┆ str ┆ str ┆ 1   ┆ 2   ┆ str ┆     ┆     ┆ str ┆     ┆     ┆ Upd ┆ str ┆     ┆ ate ┆ ate ┆ e   ┆ str ┆     ┆     ┆     ┆     ┆ --- ┆ str ┆     ┆     ┆     ┆ str ┆ Com ┆ str ┆ oug ┆ ati ┆ e   ┆ ect ┆     ┆ men ┆ str ┆ str ┆ e   ┆     ┆     ┆     │\n",
       "│     ┆     ┆     ┆     ┆     ┆     ┆     ┆     ┆     ┆ str ┆     ┆     ┆     ┆ --- ┆ --- ┆     ┆     ┆     ┆     ┆     ┆     ┆ ate ┆     ┆     ┆ Pla ┆ Pla ┆ --- ┆     ┆     ┆     ┆     ┆     ┆ str ┆     ┆     ┆     ┆     ┆     ┆ pla ┆     ┆ h   ┆ on  ┆ --- ┆ ion ┆     ┆ t   ┆     ┆     ┆ --- ┆     ┆     ┆     │\n",
       "│     ┆     ┆     ┆     ┆     ┆     ┆     ┆     ┆     ┆     ┆     ┆     ┆     ┆ str ┆ str ┆     ┆     ┆     ┆     ┆     ┆     ┆ d   ┆     ┆     ┆ ne) ┆ ne) ┆ str ┆     ┆     ┆     ┆     ┆     ┆     ┆     ┆     ┆     ┆     ┆     ┆ int ┆     ┆ --- ┆ --- ┆ str ┆ --- ┆     ┆ --- ┆     ┆     ┆ str ┆     ┆     ┆     │\n",
       "│     ┆     ┆     ┆     ┆     ┆     ┆     ┆     ┆     ┆     ┆     ┆     ┆     ┆     ┆     ┆     ┆     ┆     ┆     ┆     ┆     ┆ Dat ┆     ┆     ┆ --- ┆ --- ┆     ┆     ┆     ┆     ┆     ┆     ┆     ┆     ┆     ┆     ┆     ┆     ┆ --- ┆     ┆ str ┆ str ┆     ┆ str ┆     ┆ str ┆     ┆     ┆     ┆     ┆     ┆     │\n",
       "│     ┆     ┆     ┆     ┆     ┆     ┆     ┆     ┆     ┆     ┆     ┆     ┆     ┆     ┆     ┆     ┆     ┆     ┆     ┆     ┆     ┆ e   ┆     ┆     ┆ i64 ┆ i64 ┆     ┆     ┆     ┆     ┆     ┆     ┆     ┆     ┆     ┆     ┆     ┆     ┆ str ┆     ┆     ┆     ┆     ┆     ┆     ┆     ┆     ┆     ┆     ┆     ┆     ┆     │\n",
       "│     ┆     ┆     ┆     ┆     ┆     ┆     ┆     ┆     ┆     ┆     ┆     ┆     ┆     ┆     ┆     ┆     ┆     ┆     ┆     ┆     ┆ --- ┆     ┆     ┆     ┆     ┆     ┆     ┆     ┆     ┆     ┆     ┆     ┆     ┆     ┆     ┆     ┆     ┆     ┆     ┆     ┆     ┆     ┆     ┆     ┆     ┆     ┆     ┆     ┆     ┆     ┆     │\n",
       "│     ┆     ┆     ┆     ┆     ┆     ┆     ┆     ┆     ┆     ┆     ┆     ┆     ┆     ┆     ┆     ┆     ┆     ┆     ┆     ┆     ┆ str ┆     ┆     ┆     ┆     ┆     ┆     ┆     ┆     ┆     ┆     ┆     ┆     ┆     ┆     ┆     ┆     ┆     ┆     ┆     ┆     ┆     ┆     ┆     ┆     ┆     ┆     ┆     ┆     ┆     ┆     │\n",
       "╞═════╪═════╪═════╪═════╪═════╪═════╪═════╪═════╪═════╪═════╪═════╪═════╪═════╪═════╪═════╪═════╪═════╪═════╪═════╪═════╪═════╪═════╪═════╪═════╪═════╪═════╪═════╪═════╪═════╪═════╪═════╪═════╪═════╪═════╪═════╪═════╪═════╪═════╪═════╪═════╪═════╪═════╪═════╪═════╪═════╪═════╪═════╪═════╪═════╪═════╪═════╪═════╡\n",
       "│ 265 ┆ 10/ ┆ nul ┆ TLC ┆ Tax ┆ Tax ┆ Dri ┆ nul ┆ 000 ┆ EWR ┆ EWR ┆ nul ┆ nul ┆ nul ┆ nul ┆ nul ┆ NEW ┆ nul ┆ nul ┆ Ass ┆ 12/ ┆ 10/ ┆ 0   ┆ Uns ┆ nul ┆ nul ┆ Uns ┆ Uns ┆ Uns ┆ Uns ┆ Uns ┆ Uns ┆ Uns ┆ Uns ┆ Uns ┆ Uns ┆ Uns ┆ N   ┆ nul ┆ nul ┆ nul ┆ Oth ┆ nul ┆ nul ┆ nul ┆ nul ┆ nul ┆ nul ┆ nul ┆ nul ┆ nul ┆ nul │\n",
       "│ 293 ┆ 22/ ┆ l   ┆     ┆ i   ┆ i   ┆ ver ┆ l   ┆ 00  ┆ EWR ┆     ┆ l   ┆ l   ┆ l   ┆ l   ┆ l   ┆ ARK ┆ l   ┆ l   ┆ ign ┆ 07/ ┆ 23/ ┆ Uns ┆ pec ┆ l   ┆ l   ┆ pec ┆ pec ┆ pec ┆ pec ┆ pec ┆ pec ┆ pec ┆ pec ┆ pec ┆ pec ┆ pec ┆     ┆ l   ┆ l   ┆ l   ┆ er  ┆ l   ┆ l   ┆ l   ┆ l   ┆ l   ┆ l   ┆ l   ┆ l   ┆ l   ┆ l   │\n",
       "│ 13  ┆ 201 ┆     ┆     ┆ and ┆ Com ┆ Com ┆     ┆     ┆     ┆     ┆     ┆     ┆     ┆     ┆     ┆     ┆     ┆     ┆ ed  ┆ 201 ┆ 201 ┆ pec ┆ ifi ┆     ┆     ┆ ifi ┆ ifi ┆ ifi ┆ ifi ┆ ifi ┆ ifi ┆ ifi ┆ ifi ┆ ifi ┆ ifi ┆ ifi ┆     ┆     ┆     ┆     ┆     ┆     ┆     ┆     ┆     ┆     ┆     ┆     ┆     ┆     ┆     │\n",
       "│     ┆ 3   ┆     ┆     ┆ Lim ┆ pla ┆ pla ┆     ┆     ┆     ┆     ┆     ┆     ┆     ┆     ┆     ┆     ┆     ┆     ┆     ┆ 3   ┆ 3   ┆ ifi ┆ ed  ┆     ┆     ┆ ed  ┆ ed  ┆ ed  ┆ ed  ┆ ed  ┆ ed  ┆ ed  ┆ ed  ┆ ed  ┆ ed  ┆ ed  ┆     ┆     ┆     ┆     ┆     ┆     ┆     ┆     ┆     ┆     ┆     ┆     ┆     ┆     ┆     │\n",
       "│     ┆ 02: ┆     ┆     ┆ ous ┆ int ┆ int ┆     ┆     ┆     ┆     ┆     ┆     ┆     ┆     ┆     ┆     ┆     ┆     ┆     ┆ 09: ┆ 09: ┆ ed  ┆     ┆     ┆     ┆     ┆     ┆     ┆     ┆     ┆     ┆     ┆     ┆     ┆     ┆     ┆     ┆     ┆     ┆     ┆     ┆     ┆     ┆     ┆     ┆     ┆     ┆     ┆     ┆     ┆     │\n",
       "│     ┆ 51: ┆     ┆     ┆ ine ┆     ┆     ┆     ┆     ┆     ┆     ┆     ┆     ┆     ┆     ┆     ┆     ┆     ┆     ┆     ┆ 53: ┆ 54: ┆     ┆     ┆     ┆     ┆     ┆     ┆     ┆     ┆     ┆     ┆     ┆     ┆     ┆     ┆     ┆     ┆     ┆     ┆     ┆     ┆     ┆     ┆     ┆     ┆     ┆     ┆     ┆     ┆     ┆     │\n",
       "│     ┆ 06  ┆     ┆     ┆ Com ┆     ┆     ┆     ┆     ┆     ┆     ┆     ┆     ┆     ┆     ┆     ┆     ┆     ┆     ┆     ┆ 51  ┆ 43  ┆     ┆     ┆     ┆     ┆     ┆     ┆     ┆     ┆     ┆     ┆     ┆     ┆     ┆     ┆     ┆     ┆     ┆     ┆     ┆     ┆     ┆     ┆     ┆     ┆     ┆     ┆     ┆     ┆     ┆     │\n",
       "│     ┆ PM  ┆     ┆     ┆ mis ┆     ┆     ┆     ┆     ┆     ┆     ┆     ┆     ┆     ┆     ┆     ┆     ┆     ┆     ┆     ┆ AM  ┆ AM  ┆     ┆     ┆     ┆     ┆     ┆     ┆     ┆     ┆     ┆     ┆     ┆     ┆     ┆     ┆     ┆     ┆     ┆     ┆     ┆     ┆     ┆     ┆     ┆     ┆     ┆     ┆     ┆     ┆     ┆     │\n",
       "│     ┆     ┆     ┆     ┆ sio ┆     ┆     ┆     ┆     ┆     ┆     ┆     ┆     ┆     ┆     ┆     ┆     ┆     ┆     ┆     ┆     ┆     ┆     ┆     ┆     ┆     ┆     ┆     ┆     ┆     ┆     ┆     ┆     ┆     ┆     ┆     ┆     ┆     ┆     ┆     ┆     ┆     ┆     ┆     ┆     ┆     ┆     ┆     ┆     ┆     ┆     ┆     │\n",
       "│     ┆     ┆     ┆     ┆ n   ┆     ┆     ┆     ┆     ┆     ┆     ┆     ┆     ┆     ┆     ┆     ┆     ┆     ┆     ┆     ┆     ┆     ┆     ┆     ┆     ┆     ┆     ┆     ┆     ┆     ┆     ┆     ┆     ┆     ┆     ┆     ┆     ┆     ┆     ┆     ┆     ┆     ┆     ┆     ┆     ┆     ┆     ┆     ┆     ┆     ┆     ┆     │\n",
       "│ 265 ┆ 10/ ┆ nul ┆ TLC ┆ Tax ┆ Tax ┆ Dri ┆ Str ┆ 000 ┆ 1   ┆ NEW ┆ nul ┆ nul ┆ nul ┆ nul ┆ nul ┆ NEW ┆ nul ┆ nul ┆ Ass ┆ 12/ ┆ 10/ ┆ 0   ┆ Uns ┆ nul ┆ nul ┆ Uns ┆ Uns ┆ Uns ┆ Uns ┆ Uns ┆ Uns ┆ Uns ┆ Uns ┆ Uns ┆ Uns ┆ Uns ┆ N   ┆ nul ┆ nul ┆ nul ┆ Oth ┆ nul ┆ nul ┆ nul ┆ nul ┆ nul ┆ nul ┆ nul ┆ nul ┆ nul ┆ nul │\n",
       "│ 073 ┆ 17/ ┆ l   ┆     ┆ i   ┆ i   ┆ ver ┆ eet ┆ 00  ┆ NEW ┆ ARK ┆ l   ┆ l   ┆ l   ┆ l   ┆ l   ┆ ARK ┆ l   ┆ l   ┆ ign ┆ 02/ ┆ 18/ ┆ Uns ┆ pec ┆ l   ┆ l   ┆ pec ┆ pec ┆ pec ┆ pec ┆ pec ┆ pec ┆ pec ┆ pec ┆ pec ┆ pec ┆ pec ┆     ┆ l   ┆ l   ┆ l   ┆ er  ┆ l   ┆ l   ┆ l   ┆ l   ┆ l   ┆ l   ┆ l   ┆ l   ┆ l   ┆ l   │\n",
       "│ 89  ┆ 201 ┆     ┆     ┆ and ┆ Com ┆ Com ┆     ┆     ┆ ARK ┆ AIR ┆     ┆     ┆     ┆     ┆     ┆     ┆     ┆     ┆ ed  ┆ 201 ┆ 201 ┆ pec ┆ ifi ┆     ┆     ┆ ifi ┆ ifi ┆ ifi ┆ ifi ┆ ifi ┆ ifi ┆ ifi ┆ ifi ┆ ifi ┆ ifi ┆ ifi ┆     ┆     ┆     ┆     ┆     ┆     ┆     ┆     ┆     ┆     ┆     ┆     ┆     ┆     ┆     │\n",
       "│     ┆ 3   ┆     ┆     ┆ Lim ┆ pla ┆ pla ┆     ┆     ┆ AIR ┆ POR ┆     ┆     ┆     ┆     ┆     ┆     ┆     ┆     ┆     ┆ 3   ┆ 3   ┆ ifi ┆ ed  ┆     ┆     ┆ ed  ┆ ed  ┆ ed  ┆ ed  ┆ ed  ┆ ed  ┆ ed  ┆ ed  ┆ ed  ┆ ed  ┆ ed  ┆     ┆     ┆     ┆     ┆     ┆     ┆     ┆     ┆     ┆     ┆     ┆     ┆     ┆     ┆     │\n",
       "│     ┆ 05: ┆     ┆     ┆ ous ┆ int ┆ int ┆     ┆     ┆ POR ┆ T   ┆     ┆     ┆     ┆     ┆     ┆     ┆     ┆     ┆     ┆ 11: ┆ 12: ┆ ed  ┆     ┆     ┆     ┆     ┆     ┆     ┆     ┆     ┆     ┆     ┆     ┆     ┆     ┆     ┆     ┆     ┆     ┆     ┆     ┆     ┆     ┆     ┆     ┆     ┆     ┆     ┆     ┆     ┆     │\n",
       "│     ┆ 48: ┆     ┆     ┆ ine ┆     ┆     ┆     ┆     ┆ T   ┆     ┆     ┆     ┆     ┆     ┆     ┆     ┆     ┆     ┆     ┆ 59: ┆ 01: ┆     ┆     ┆     ┆     ┆     ┆     ┆     ┆     ┆     ┆     ┆     ┆     ┆     ┆     ┆     ┆     ┆     ┆     ┆     ┆     ┆     ┆     ┆     ┆     ┆     ┆     ┆     ┆     ┆     ┆     │\n",
       "│     ┆ 44  ┆     ┆     ┆ Com ┆     ┆     ┆     ┆     ┆     ┆     ┆     ┆     ┆     ┆     ┆     ┆     ┆     ┆     ┆     ┆ 46  ┆ 08  ┆     ┆     ┆     ┆     ┆     ┆     ┆     ┆     ┆     ┆     ┆     ┆     ┆     ┆     ┆     ┆     ┆     ┆     ┆     ┆     ┆     ┆     ┆     ┆     ┆     ┆     ┆     ┆     ┆     ┆     │\n",
       "│     ┆ PM  ┆     ┆     ┆ mis ┆     ┆     ┆     ┆     ┆     ┆     ┆     ┆     ┆     ┆     ┆     ┆     ┆     ┆     ┆     ┆ AM  ┆ PM  ┆     ┆     ┆     ┆     ┆     ┆     ┆     ┆     ┆     ┆     ┆     ┆     ┆     ┆     ┆     ┆     ┆     ┆     ┆     ┆     ┆     ┆     ┆     ┆     ┆     ┆     ┆     ┆     ┆     ┆     │\n",
       "│     ┆     ┆     ┆     ┆ sio ┆     ┆     ┆     ┆     ┆     ┆     ┆     ┆     ┆     ┆     ┆     ┆     ┆     ┆     ┆     ┆     ┆     ┆     ┆     ┆     ┆     ┆     ┆     ┆     ┆     ┆     ┆     ┆     ┆     ┆     ┆     ┆     ┆     ┆     ┆     ┆     ┆     ┆     ┆     ┆     ┆     ┆     ┆     ┆     ┆     ┆     ┆     │\n",
       "│     ┆     ┆     ┆     ┆ n   ┆     ┆     ┆     ┆     ┆     ┆     ┆     ┆     ┆     ┆     ┆     ┆     ┆     ┆     ┆     ┆     ┆     ┆     ┆     ┆     ┆     ┆     ┆     ┆     ┆     ┆     ┆     ┆     ┆     ┆     ┆     ┆     ┆     ┆     ┆     ┆     ┆     ┆     ┆     ┆     ┆     ┆     ┆     ┆     ┆     ┆     ┆     │\n",
       "└─────┴─────┴─────┴─────┴─────┴─────┴─────┴─────┴─────┴─────┴─────┴─────┴─────┴─────┴─────┴─────┴─────┴─────┴─────┴─────┴─────┴─────┴─────┴─────┴─────┴─────┴─────┴─────┴─────┴─────┴─────┴─────┴─────┴─────┴─────┴─────┴─────┴─────┴─────┴─────┴─────┴─────┴─────┴─────┴─────┴─────┴─────┴─────┴─────┴─────┴─────┴─────┘"
      ]
     },
     "execution_count": 19,
     "metadata": {},
     "output_type": "execute_result"
    }
   ],
   "source": [
    "is_00000 = requests['Incident Zip'] == '00000'\n",
    "requests.filter(is_00000)"
   ]
  },
  {
   "cell_type": "markdown",
   "metadata": {},
   "source": [
    "This looks bad to me. Let's set these to nan."
   ]
  },
  {
   "cell_type": "code",
   "execution_count": 20,
   "metadata": {},
   "outputs": [],
   "source": [
    "is_00000 = requests['Incident Zip'] == '00000'\n",
    "requests = requests.with_columns(\n",
    "    pl.when(is_00000)\n",
    "      .then(None)\n",
    "      .otherwise(pl.col('Incident Zip'))\n",
    "      .alias('Incident Zip')\n",
    ")"
   ]
  },
  {
   "cell_type": "markdown",
   "metadata": {},
   "source": [
    "Great. Let's see where we are now:"
   ]
  },
  {
   "cell_type": "code",
   "execution_count": 21,
   "metadata": {},
   "outputs": [
    {
     "data": {
      "text/html": [
       "<div><style>\n",
       ".dataframe > thead > tr,\n",
       ".dataframe > tbody > tr {\n",
       "  text-align: right;\n",
       "  white-space: pre-wrap;\n",
       "}\n",
       "</style>\n",
       "<small>shape: (247,)</small><table border=\"1\" class=\"dataframe\"><thead><tr><th>Incident Zip</th></tr><tr><td>str</td></tr></thead><tbody><tr><td>&quot;10026&quot;</td></tr><tr><td>&quot;11412&quot;</td></tr><tr><td>&quot;07114&quot;</td></tr><tr><td>&quot;10024&quot;</td></tr><tr><td>&quot;11235&quot;</td></tr><tr><td>&hellip;</td></tr><tr><td>&quot;10310&quot;</td></tr><tr><td>&quot;11354&quot;</td></tr><tr><td>&quot;02061&quot;</td></tr><tr><td>&quot;11042&quot;</td></tr><tr><td>&quot;10019&quot;</td></tr></tbody></table></div>"
      ],
      "text/plain": [
       "shape: (247,)\n",
       "Series: 'Incident Zip' [str]\n",
       "[\n",
       "\t\"10026\"\n",
       "\t\"11412\"\n",
       "\t\"07114\"\n",
       "\t\"10024\"\n",
       "\t\"11235\"\n",
       "\t…\n",
       "\t\"10310\"\n",
       "\t\"11354\"\n",
       "\t\"02061\"\n",
       "\t\"11042\"\n",
       "\t\"10019\"\n",
       "]"
      ]
     },
     "execution_count": 21,
     "metadata": {},
     "output_type": "execute_result"
    }
   ],
   "source": [
    "unique_zips = requests['Incident Zip'].unique()\n",
    "unique_zips.sort()\n",
    "unique_zips"
   ]
  },
  {
   "cell_type": "markdown",
   "metadata": {},
   "source": [
    "Amazing! This is much cleaner. There's something a bit weird here, though -- I looked up 77056 on Google maps, and that's in Texas.\n",
    "\n",
    "Let's take a closer look:"
   ]
  },
  {
   "cell_type": "code",
   "execution_count": 22,
   "metadata": {},
   "outputs": [],
   "source": [
    "zips = pl.col('Incident Zip')\n",
    "is_close = (zips.str.starts_with('0') | zips.str.starts_with('1'))\n",
    "is_far = (~is_close) & (zips.is_not_null())"
   ]
  },
  {
   "cell_type": "code",
   "execution_count": 23,
   "metadata": {},
   "outputs": [
    {
     "data": {
      "text/html": [
       "<div><style>\n",
       ".dataframe > thead > tr,\n",
       ".dataframe > tbody > tr {\n",
       "  text-align: right;\n",
       "  white-space: pre-wrap;\n",
       "}\n",
       "</style>\n",
       "<small>shape: (14, 52)</small><table border=\"1\" class=\"dataframe\"><thead><tr><th>Unique Key</th><th>Created Date</th><th>Closed Date</th><th>Agency</th><th>Agency Name</th><th>Complaint Type</th><th>Descriptor</th><th>Location Type</th><th>Incident Zip</th><th>Incident Address</th><th>Street Name</th><th>Cross Street 1</th><th>Cross Street 2</th><th>Intersection Street 1</th><th>Intersection Street 2</th><th>Address Type</th><th>City</th><th>Landmark</th><th>Facility Type</th><th>Status</th><th>Due Date</th><th>Resolution Action Updated Date</th><th>Community Board</th><th>Borough</th><th>X Coordinate (State Plane)</th><th>Y Coordinate (State Plane)</th><th>Park Facility Name</th><th>Park Borough</th><th>School Name</th><th>School Number</th><th>School Region</th><th>School Code</th><th>School Phone Number</th><th>School Address</th><th>School City</th><th>School State</th><th>School Zip</th><th>School Not Found</th><th>School or Citywide Complaint</th><th>Vehicle Type</th><th>Taxi Company Borough</th><th>Taxi Pick Up Location</th><th>Bridge Highway Name</th><th>Bridge Highway Direction</th><th>Road Ramp</th><th>Bridge Highway Segment</th><th>Garage Lot Name</th><th>Ferry Direction</th><th>Ferry Terminal Name</th><th>Latitude</th><th>Longitude</th><th>Location</th></tr><tr><td>i64</td><td>str</td><td>str</td><td>str</td><td>str</td><td>str</td><td>str</td><td>str</td><td>str</td><td>str</td><td>str</td><td>str</td><td>str</td><td>str</td><td>str</td><td>str</td><td>str</td><td>str</td><td>str</td><td>str</td><td>str</td><td>str</td><td>str</td><td>str</td><td>i64</td><td>i64</td><td>str</td><td>str</td><td>str</td><td>str</td><td>str</td><td>str</td><td>str</td><td>str</td><td>str</td><td>str</td><td>str</td><td>str</td><td>str</td><td>str</td><td>str</td><td>str</td><td>str</td><td>str</td><td>str</td><td>str</td><td>str</td><td>str</td><td>str</td><td>f64</td><td>f64</td><td>str</td></tr></thead><tbody><tr><td>26575658</td><td>&quot;10/28/2013 04:11:05 PM&quot;</td><td>null</td><td>&quot;DCA&quot;</td><td>&quot;Department of Consumer Affairs&quot;</td><td>&quot;Consumer Complaint&quot;</td><td>&quot;Debt Not Owed&quot;</td><td>null</td><td>&quot;77056&quot;</td><td>&quot;5251 WESTHEIMER&quot;</td><td>&quot;WESTHEIMER&quot;</td><td>null</td><td>null</td><td>null</td><td>null</td><td>null</td><td>&quot;HOUSTON&quot;</td><td>null</td><td>null</td><td>&quot;Open&quot;</td><td>&quot;11/01/2013 04:11:05 PM&quot;</td><td>null</td><td>&quot;0 Unspecified&quot;</td><td>&quot;Unspecified&quot;</td><td>null</td><td>null</td><td>&quot;Unspecified&quot;</td><td>&quot;Unspecified&quot;</td><td>&quot;Unspecified&quot;</td><td>&quot;Unspecified&quot;</td><td>&quot;Unspecified&quot;</td><td>&quot;Unspecified&quot;</td><td>&quot;Unspecified&quot;</td><td>&quot;Unspecified&quot;</td><td>&quot;Unspecified&quot;</td><td>&quot;Unspecified&quot;</td><td>&quot;Unspecified&quot;</td><td>&quot;N&quot;</td><td>null</td><td>null</td><td>null</td><td>null</td><td>null</td><td>null</td><td>null</td><td>null</td><td>null</td><td>null</td><td>null</td><td>null</td><td>null</td><td>null</td></tr><tr><td>26578251</td><td>&quot;10/28/2013 11:02:26 AM&quot;</td><td>null</td><td>&quot;DCA&quot;</td><td>&quot;Department of Consumer Affairs&quot;</td><td>&quot;Consumer Complaint&quot;</td><td>&quot;Contract Dispute&quot;</td><td>null</td><td>&quot;70711&quot;</td><td>&quot;139 ACKERMAN AVENUE&quot;</td><td>&quot;ACKERMAN AVENUE&quot;</td><td>null</td><td>null</td><td>null</td><td>null</td><td>null</td><td>&quot;CLIFTON&quot;</td><td>null</td><td>null</td><td>&quot;Open&quot;</td><td>&quot;11/01/2013 11:02:26 AM&quot;</td><td>null</td><td>&quot;0 Unspecified&quot;</td><td>&quot;Unspecified&quot;</td><td>null</td><td>null</td><td>&quot;Unspecified&quot;</td><td>&quot;Unspecified&quot;</td><td>&quot;Unspecified&quot;</td><td>&quot;Unspecified&quot;</td><td>&quot;Unspecified&quot;</td><td>&quot;Unspecified&quot;</td><td>&quot;Unspecified&quot;</td><td>&quot;Unspecified&quot;</td><td>&quot;Unspecified&quot;</td><td>&quot;Unspecified&quot;</td><td>&quot;Unspecified&quot;</td><td>&quot;N&quot;</td><td>null</td><td>null</td><td>null</td><td>null</td><td>null</td><td>null</td><td>null</td><td>null</td><td>null</td><td>null</td><td>null</td><td>null</td><td>null</td><td>null</td></tr><tr><td>26550551</td><td>&quot;10/24/2013 06:16:34 PM&quot;</td><td>null</td><td>&quot;DCA&quot;</td><td>&quot;Department of Consumer Affairs&quot;</td><td>&quot;Consumer Complaint&quot;</td><td>&quot;False Advertising&quot;</td><td>null</td><td>&quot;77092&quot;</td><td>&quot;2700 EAST SELTICE WAY&quot;</td><td>&quot;EAST SELTICE WAY&quot;</td><td>null</td><td>null</td><td>null</td><td>null</td><td>null</td><td>&quot;HOUSTON&quot;</td><td>null</td><td>null</td><td>&quot;Assigned&quot;</td><td>&quot;11/13/2013 11:15:20 AM&quot;</td><td>&quot;10/29/2013 11:16:16 AM&quot;</td><td>&quot;0 Unspecified&quot;</td><td>&quot;Unspecified&quot;</td><td>null</td><td>null</td><td>&quot;Unspecified&quot;</td><td>&quot;Unspecified&quot;</td><td>&quot;Unspecified&quot;</td><td>&quot;Unspecified&quot;</td><td>&quot;Unspecified&quot;</td><td>&quot;Unspecified&quot;</td><td>&quot;Unspecified&quot;</td><td>&quot;Unspecified&quot;</td><td>&quot;Unspecified&quot;</td><td>&quot;Unspecified&quot;</td><td>&quot;Unspecified&quot;</td><td>&quot;N&quot;</td><td>null</td><td>null</td><td>null</td><td>null</td><td>null</td><td>null</td><td>null</td><td>null</td><td>null</td><td>null</td><td>null</td><td>null</td><td>null</td><td>null</td></tr><tr><td>26548831</td><td>&quot;10/24/2013 09:35:10 AM&quot;</td><td>null</td><td>&quot;DCA&quot;</td><td>&quot;Department of Consumer Affairs&quot;</td><td>&quot;Consumer Complaint&quot;</td><td>&quot;Harassment&quot;</td><td>null</td><td>&quot;55164&quot;</td><td>&quot;P.O. BOX 64437&quot;</td><td>&quot;64437&quot;</td><td>null</td><td>null</td><td>null</td><td>null</td><td>null</td><td>&quot;ST. PAUL&quot;</td><td>null</td><td>null</td><td>&quot;Assigned&quot;</td><td>&quot;11/13/2013 02:30:21 PM&quot;</td><td>&quot;10/29/2013 02:31:06 PM&quot;</td><td>&quot;0 Unspecified&quot;</td><td>&quot;Unspecified&quot;</td><td>null</td><td>null</td><td>&quot;Unspecified&quot;</td><td>&quot;Unspecified&quot;</td><td>&quot;Unspecified&quot;</td><td>&quot;Unspecified&quot;</td><td>&quot;Unspecified&quot;</td><td>&quot;Unspecified&quot;</td><td>&quot;Unspecified&quot;</td><td>&quot;Unspecified&quot;</td><td>&quot;Unspecified&quot;</td><td>&quot;Unspecified&quot;</td><td>&quot;Unspecified&quot;</td><td>&quot;N&quot;</td><td>null</td><td>null</td><td>null</td><td>null</td><td>null</td><td>null</td><td>null</td><td>null</td><td>null</td><td>null</td><td>null</td><td>null</td><td>null</td><td>null</td></tr><tr><td>26528948</td><td>&quot;10/22/2013 09:29:57 AM&quot;</td><td>null</td><td>&quot;DCA&quot;</td><td>&quot;Department of Consumer Affairs&quot;</td><td>&quot;Consumer Complaint&quot;</td><td>&quot;Billing Dispute&quot;</td><td>null</td><td>&quot;90010&quot;</td><td>&quot;4751 WILSHIER BLVD&quot;</td><td>&quot;WILSHIER BLVD&quot;</td><td>null</td><td>null</td><td>null</td><td>null</td><td>null</td><td>&quot;LOS ANGELES&quot;</td><td>null</td><td>null</td><td>&quot;Assigned&quot;</td><td>&quot;11/09/2013 06:10:20 PM&quot;</td><td>&quot;10/25/2013 06:11:06 PM&quot;</td><td>&quot;0 Unspecified&quot;</td><td>&quot;Unspecified&quot;</td><td>null</td><td>null</td><td>&quot;Unspecified&quot;</td><td>&quot;Unspecified&quot;</td><td>&quot;Unspecified&quot;</td><td>&quot;Unspecified&quot;</td><td>&quot;Unspecified&quot;</td><td>&quot;Unspecified&quot;</td><td>&quot;Unspecified&quot;</td><td>&quot;Unspecified&quot;</td><td>&quot;Unspecified&quot;</td><td>&quot;Unspecified&quot;</td><td>&quot;Unspecified&quot;</td><td>&quot;N&quot;</td><td>null</td><td>null</td><td>null</td><td>null</td><td>null</td><td>null</td><td>null</td><td>null</td><td>null</td><td>null</td><td>null</td><td>null</td><td>null</td><td>null</td></tr><tr><td>&hellip;</td><td>&hellip;</td><td>&hellip;</td><td>&hellip;</td><td>&hellip;</td><td>&hellip;</td><td>&hellip;</td><td>&hellip;</td><td>&hellip;</td><td>&hellip;</td><td>&hellip;</td><td>&hellip;</td><td>&hellip;</td><td>&hellip;</td><td>&hellip;</td><td>&hellip;</td><td>&hellip;</td><td>&hellip;</td><td>&hellip;</td><td>&hellip;</td><td>&hellip;</td><td>&hellip;</td><td>&hellip;</td><td>&hellip;</td><td>&hellip;</td><td>&hellip;</td><td>&hellip;</td><td>&hellip;</td><td>&hellip;</td><td>&hellip;</td><td>&hellip;</td><td>&hellip;</td><td>&hellip;</td><td>&hellip;</td><td>&hellip;</td><td>&hellip;</td><td>&hellip;</td><td>&hellip;</td><td>&hellip;</td><td>&hellip;</td><td>&hellip;</td><td>&hellip;</td><td>&hellip;</td><td>&hellip;</td><td>&hellip;</td><td>&hellip;</td><td>&hellip;</td><td>&hellip;</td><td>&hellip;</td><td>&hellip;</td><td>&hellip;</td><td>&hellip;</td></tr><tr><td>26479594</td><td>&quot;10/13/2013 04:19:13 PM&quot;</td><td>null</td><td>&quot;TLC&quot;</td><td>&quot;Taxi and Limousine Commission&quot;</td><td>&quot;Taxi Complaint&quot;</td><td>&quot;Driver Complaint&quot;</td><td>&quot;Street&quot;</td><td>&quot;NA&quot;</td><td>&quot;NA NA&quot;</td><td>&quot;NA&quot;</td><td>null</td><td>null</td><td>null</td><td>null</td><td>null</td><td>&quot;NA&quot;</td><td>null</td><td>null</td><td>&quot;Assigned&quot;</td><td>&quot;11/29/2013 08:41:20 AM&quot;</td><td>&quot;10/15/2013 08:42:38 AM&quot;</td><td>&quot;Unspecified QUEENS&quot;</td><td>&quot;QUEENS&quot;</td><td>null</td><td>null</td><td>&quot;Unspecified&quot;</td><td>&quot;QUEENS&quot;</td><td>&quot;Unspecified&quot;</td><td>&quot;Unspecified&quot;</td><td>&quot;Unspecified&quot;</td><td>&quot;Unspecified&quot;</td><td>&quot;Unspecified&quot;</td><td>&quot;Unspecified&quot;</td><td>&quot;Unspecified&quot;</td><td>&quot;Unspecified&quot;</td><td>&quot;Unspecified&quot;</td><td>&quot;N&quot;</td><td>null</td><td>null</td><td>null</td><td>&quot;JFK Airport&quot;</td><td>null</td><td>null</td><td>null</td><td>null</td><td>null</td><td>null</td><td>null</td><td>null</td><td>null</td><td>null</td></tr><tr><td>26489268</td><td>&quot;10/11/2013 06:51:31 PM&quot;</td><td>&quot;10/27/2013 01:07:21 AM&quot;</td><td>&quot;DCA&quot;</td><td>&quot;Department of Consumer Affairs&quot;</td><td>&quot;Consumer Complaint&quot;</td><td>&quot;Billing Dispute&quot;</td><td>null</td><td>&quot;61702&quot;</td><td>&quot;P.O. BOX&quot;</td><td>&quot;BOX&quot;</td><td>null</td><td>null</td><td>null</td><td>null</td><td>null</td><td>&quot;BLOOMIGTON&quot;</td><td>null</td><td>null</td><td>&quot;Closed&quot;</td><td>&quot;10/30/2013 08:08:59 AM&quot;</td><td>&quot;10/27/2013 01:07:21 AM&quot;</td><td>&quot;0 Unspecified&quot;</td><td>&quot;Unspecified&quot;</td><td>null</td><td>null</td><td>&quot;Unspecified&quot;</td><td>&quot;Unspecified&quot;</td><td>&quot;Unspecified&quot;</td><td>&quot;Unspecified&quot;</td><td>&quot;Unspecified&quot;</td><td>&quot;Unspecified&quot;</td><td>&quot;Unspecified&quot;</td><td>&quot;Unspecified&quot;</td><td>&quot;Unspecified&quot;</td><td>&quot;Unspecified&quot;</td><td>&quot;Unspecified&quot;</td><td>&quot;N&quot;</td><td>null</td><td>null</td><td>null</td><td>null</td><td>null</td><td>null</td><td>null</td><td>null</td><td>null</td><td>null</td><td>null</td><td>null</td><td>null</td><td>null</td></tr><tr><td>26468296</td><td>&quot;10/10/2013 12:36:43 PM&quot;</td><td>&quot;10/26/2013 01:07:07 AM&quot;</td><td>&quot;DCA&quot;</td><td>&quot;Department of Consumer Affairs&quot;</td><td>&quot;Consumer Complaint&quot;</td><td>&quot;Debt Not Owed&quot;</td><td>null</td><td>&quot;29616&quot;</td><td>&quot;PO BOX 25759&quot;</td><td>&quot;BOX 25759&quot;</td><td>null</td><td>null</td><td>null</td><td>null</td><td>null</td><td>&quot;GREENVILLE&quot;</td><td>null</td><td>null</td><td>&quot;Closed&quot;</td><td>&quot;10/26/2013 09:20:28 AM&quot;</td><td>&quot;10/26/2013 01:07:07 AM&quot;</td><td>&quot;0 Unspecified&quot;</td><td>&quot;Unspecified&quot;</td><td>null</td><td>null</td><td>&quot;Unspecified&quot;</td><td>&quot;Unspecified&quot;</td><td>&quot;Unspecified&quot;</td><td>&quot;Unspecified&quot;</td><td>&quot;Unspecified&quot;</td><td>&quot;Unspecified&quot;</td><td>&quot;Unspecified&quot;</td><td>&quot;Unspecified&quot;</td><td>&quot;Unspecified&quot;</td><td>&quot;Unspecified&quot;</td><td>&quot;Unspecified&quot;</td><td>&quot;N&quot;</td><td>null</td><td>null</td><td>null</td><td>null</td><td>null</td><td>null</td><td>null</td><td>null</td><td>null</td><td>null</td><td>null</td><td>null</td><td>null</td><td>null</td></tr><tr><td>26461137</td><td>&quot;10/09/2013 05:23:46 PM&quot;</td><td>&quot;10/25/2013 01:06:41 AM&quot;</td><td>&quot;DCA&quot;</td><td>&quot;Department of Consumer Affairs&quot;</td><td>&quot;Consumer Complaint&quot;</td><td>&quot;Harassment&quot;</td><td>null</td><td>&quot;35209&quot;</td><td>&quot;600 BEACON PKWY&quot;</td><td>&quot;BEACON PKWY&quot;</td><td>null</td><td>null</td><td>null</td><td>null</td><td>null</td><td>&quot;BIRMINGHAM&quot;</td><td>null</td><td>null</td><td>&quot;Closed&quot;</td><td>&quot;10/25/2013 02:43:42 PM&quot;</td><td>&quot;10/25/2013 01:06:41 AM&quot;</td><td>&quot;0 Unspecified&quot;</td><td>&quot;Unspecified&quot;</td><td>null</td><td>null</td><td>&quot;Unspecified&quot;</td><td>&quot;Unspecified&quot;</td><td>&quot;Unspecified&quot;</td><td>&quot;Unspecified&quot;</td><td>&quot;Unspecified&quot;</td><td>&quot;Unspecified&quot;</td><td>&quot;Unspecified&quot;</td><td>&quot;Unspecified&quot;</td><td>&quot;Unspecified&quot;</td><td>&quot;Unspecified&quot;</td><td>&quot;Unspecified&quot;</td><td>&quot;N&quot;</td><td>null</td><td>null</td><td>null</td><td>null</td><td>null</td><td>null</td><td>null</td><td>null</td><td>null</td><td>null</td><td>null</td><td>null</td><td>null</td><td>null</td></tr><tr><td>26459244</td><td>&quot;10/08/2013 04:48:28 PM&quot;</td><td>&quot;10/24/2013 01:07:22 AM&quot;</td><td>&quot;DCA&quot;</td><td>&quot;Department of Consumer Affairs&quot;</td><td>&quot;Consumer Complaint&quot;</td><td>&quot;Harassment&quot;</td><td>null</td><td>&quot;41042&quot;</td><td>&quot;7953 MALL ROAD&quot;</td><td>&quot;MALL ROAD&quot;</td><td>null</td><td>null</td><td>null</td><td>null</td><td>null</td><td>&quot;FLORENCE&quot;</td><td>null</td><td>null</td><td>&quot;Closed&quot;</td><td>&quot;10/24/2013 04:32:32 PM&quot;</td><td>&quot;10/24/2013 01:07:22 AM&quot;</td><td>&quot;0 Unspecified&quot;</td><td>&quot;Unspecified&quot;</td><td>null</td><td>null</td><td>&quot;Unspecified&quot;</td><td>&quot;Unspecified&quot;</td><td>&quot;Unspecified&quot;</td><td>&quot;Unspecified&quot;</td><td>&quot;Unspecified&quot;</td><td>&quot;Unspecified&quot;</td><td>&quot;Unspecified&quot;</td><td>&quot;Unspecified&quot;</td><td>&quot;Unspecified&quot;</td><td>&quot;Unspecified&quot;</td><td>&quot;Unspecified&quot;</td><td>&quot;N&quot;</td><td>null</td><td>null</td><td>null</td><td>null</td><td>null</td><td>null</td><td>null</td><td>null</td><td>null</td><td>null</td><td>null</td><td>null</td><td>null</td><td>null</td></tr></tbody></table></div>"
      ],
      "text/plain": [
       "shape: (14, 52)\n",
       "┌─────┬─────┬─────┬─────┬─────┬─────┬─────┬─────┬─────┬─────┬─────┬─────┬─────┬─────┬─────┬─────┬─────┬─────┬─────┬─────┬─────┬─────┬─────┬─────┬─────┬─────┬─────┬─────┬─────┬─────┬─────┬─────┬─────┬─────┬─────┬─────┬─────┬─────┬─────┬─────┬─────┬─────┬─────┬─────┬─────┬─────┬─────┬─────┬─────┬─────┬─────┬─────┐\n",
       "│ Uni ┆ Cre ┆ Clo ┆ Age ┆ Age ┆ Com ┆ Des ┆ Loc ┆ Inc ┆ Inc ┆ Str ┆ Cro ┆ Cro ┆ Int ┆ Int ┆ Add ┆ Cit ┆ Lan ┆ Fac ┆ Sta ┆ Due ┆ Res ┆ Com ┆ Bor ┆ X   ┆ Y   ┆ Par ┆ Par ┆ Sch ┆ Sch ┆ Sch ┆ Sch ┆ Sch ┆ Sch ┆ Sch ┆ Sch ┆ Sch ┆ Sch ┆ Sch ┆ Veh ┆ Tax ┆ Tax ┆ Bri ┆ Bri ┆ Roa ┆ Bri ┆ Gar ┆ Fer ┆ Fer ┆ Lat ┆ Lon ┆ Loc │\n",
       "│ que ┆ ate ┆ sed ┆ ncy ┆ ncy ┆ pla ┆ cri ┆ ati ┆ ide ┆ ide ┆ eet ┆ ss  ┆ ss  ┆ ers ┆ ers ┆ res ┆ y   ┆ dma ┆ ili ┆ tus ┆ Dat ┆ olu ┆ mun ┆ oug ┆ Coo ┆ Coo ┆ k   ┆ k   ┆ ool ┆ ool ┆ ool ┆ ool ┆ ool ┆ ool ┆ ool ┆ ool ┆ ool ┆ ool ┆ ool ┆ icl ┆ i   ┆ i   ┆ dge ┆ dge ┆ d   ┆ dge ┆ age ┆ ry  ┆ ry  ┆ itu ┆ git ┆ ati │\n",
       "│ Key ┆ d   ┆ Dat ┆ --- ┆ Nam ┆ int ┆ pto ┆ on  ┆ nt  ┆ nt  ┆ Nam ┆ Str ┆ Str ┆ ect ┆ ect ┆ s   ┆ --- ┆ rk  ┆ ty  ┆ --- ┆ e   ┆ tio ┆ ity ┆ h   ┆ rdi ┆ rdi ┆ Fac ┆ Bor ┆ Nam ┆ Num ┆ Reg ┆ Cod ┆ Pho ┆ Add ┆ Cit ┆ Sta ┆ Zip ┆ Not ┆ or  ┆ e   ┆ Com ┆ Pic ┆ Hig ┆ Hig ┆ Ram ┆ Hig ┆ Lot ┆ Dir ┆ Ter ┆ de  ┆ ude ┆ on  │\n",
       "│ --- ┆ Dat ┆ e   ┆ str ┆ e   ┆ Typ ┆ r   ┆ Typ ┆ Zip ┆ Add ┆ e   ┆ eet ┆ eet ┆ ion ┆ ion ┆ Typ ┆ str ┆ --- ┆ Typ ┆ str ┆ --- ┆ n   ┆ Boa ┆ --- ┆ nat ┆ nat ┆ ili ┆ oug ┆ e   ┆ ber ┆ ion ┆ e   ┆ ne  ┆ res ┆ y   ┆ te  ┆ --- ┆ Fou ┆ Cit ┆ Typ ┆ pan ┆ k   ┆ hwa ┆ hwa ┆ p   ┆ hwa ┆ Nam ┆ ect ┆ min ┆ --- ┆ --- ┆ --- │\n",
       "│ i64 ┆ e   ┆ --- ┆     ┆ --- ┆ e   ┆ --- ┆ e   ┆ --- ┆ res ┆ --- ┆ 1   ┆ 2   ┆ Str ┆ Str ┆ e   ┆     ┆ str ┆ e   ┆     ┆ str ┆ Act ┆ rd  ┆ str ┆ e   ┆ e   ┆ ty  ┆ h   ┆ --- ┆ --- ┆ --- ┆ --- ┆ Num ┆ s   ┆ --- ┆ --- ┆ str ┆ nd  ┆ ywi ┆ e   ┆ y   ┆ Up  ┆ y   ┆ y   ┆ --- ┆ y   ┆ e   ┆ ion ┆ al  ┆ f64 ┆ f64 ┆ str │\n",
       "│     ┆ --- ┆ str ┆     ┆ str ┆ --- ┆ str ┆ --- ┆ str ┆ s   ┆ str ┆ --- ┆ --- ┆ eet ┆ eet ┆ --- ┆     ┆     ┆ --- ┆     ┆     ┆ ion ┆ --- ┆     ┆ (St ┆ (St ┆ Nam ┆ --- ┆ str ┆ str ┆ str ┆ str ┆ ber ┆ --- ┆ str ┆ str ┆     ┆ --- ┆ de  ┆ --- ┆ Bor ┆ Loc ┆ Nam ┆ Dir ┆ str ┆ Seg ┆ --- ┆ --- ┆ Nam ┆     ┆     ┆     │\n",
       "│     ┆ str ┆     ┆     ┆     ┆ str ┆     ┆ str ┆     ┆ --- ┆     ┆ str ┆ str ┆ 1   ┆ 2   ┆ str ┆     ┆     ┆ str ┆     ┆     ┆ Upd ┆ str ┆     ┆ ate ┆ ate ┆ e   ┆ str ┆     ┆     ┆     ┆     ┆ --- ┆ str ┆     ┆     ┆     ┆ str ┆ Com ┆ str ┆ oug ┆ ati ┆ e   ┆ ect ┆     ┆ men ┆ str ┆ str ┆ e   ┆     ┆     ┆     │\n",
       "│     ┆     ┆     ┆     ┆     ┆     ┆     ┆     ┆     ┆ str ┆     ┆     ┆     ┆ --- ┆ --- ┆     ┆     ┆     ┆     ┆     ┆     ┆ ate ┆     ┆     ┆ Pla ┆ Pla ┆ --- ┆     ┆     ┆     ┆     ┆     ┆ str ┆     ┆     ┆     ┆     ┆     ┆ pla ┆     ┆ h   ┆ on  ┆ --- ┆ ion ┆     ┆ t   ┆     ┆     ┆ --- ┆     ┆     ┆     │\n",
       "│     ┆     ┆     ┆     ┆     ┆     ┆     ┆     ┆     ┆     ┆     ┆     ┆     ┆ str ┆ str ┆     ┆     ┆     ┆     ┆     ┆     ┆ d   ┆     ┆     ┆ ne) ┆ ne) ┆ str ┆     ┆     ┆     ┆     ┆     ┆     ┆     ┆     ┆     ┆     ┆     ┆ int ┆     ┆ --- ┆ --- ┆ str ┆ --- ┆     ┆ --- ┆     ┆     ┆ str ┆     ┆     ┆     │\n",
       "│     ┆     ┆     ┆     ┆     ┆     ┆     ┆     ┆     ┆     ┆     ┆     ┆     ┆     ┆     ┆     ┆     ┆     ┆     ┆     ┆     ┆ Dat ┆     ┆     ┆ --- ┆ --- ┆     ┆     ┆     ┆     ┆     ┆     ┆     ┆     ┆     ┆     ┆     ┆     ┆ --- ┆     ┆ str ┆ str ┆     ┆ str ┆     ┆ str ┆     ┆     ┆     ┆     ┆     ┆     │\n",
       "│     ┆     ┆     ┆     ┆     ┆     ┆     ┆     ┆     ┆     ┆     ┆     ┆     ┆     ┆     ┆     ┆     ┆     ┆     ┆     ┆     ┆ e   ┆     ┆     ┆ i64 ┆ i64 ┆     ┆     ┆     ┆     ┆     ┆     ┆     ┆     ┆     ┆     ┆     ┆     ┆ str ┆     ┆     ┆     ┆     ┆     ┆     ┆     ┆     ┆     ┆     ┆     ┆     ┆     │\n",
       "│     ┆     ┆     ┆     ┆     ┆     ┆     ┆     ┆     ┆     ┆     ┆     ┆     ┆     ┆     ┆     ┆     ┆     ┆     ┆     ┆     ┆ --- ┆     ┆     ┆     ┆     ┆     ┆     ┆     ┆     ┆     ┆     ┆     ┆     ┆     ┆     ┆     ┆     ┆     ┆     ┆     ┆     ┆     ┆     ┆     ┆     ┆     ┆     ┆     ┆     ┆     ┆     │\n",
       "│     ┆     ┆     ┆     ┆     ┆     ┆     ┆     ┆     ┆     ┆     ┆     ┆     ┆     ┆     ┆     ┆     ┆     ┆     ┆     ┆     ┆ str ┆     ┆     ┆     ┆     ┆     ┆     ┆     ┆     ┆     ┆     ┆     ┆     ┆     ┆     ┆     ┆     ┆     ┆     ┆     ┆     ┆     ┆     ┆     ┆     ┆     ┆     ┆     ┆     ┆     ┆     │\n",
       "╞═════╪═════╪═════╪═════╪═════╪═════╪═════╪═════╪═════╪═════╪═════╪═════╪═════╪═════╪═════╪═════╪═════╪═════╪═════╪═════╪═════╪═════╪═════╪═════╪═════╪═════╪═════╪═════╪═════╪═════╪═════╪═════╪═════╪═════╪═════╪═════╪═════╪═════╪═════╪═════╪═════╪═════╪═════╪═════╪═════╪═════╪═════╪═════╪═════╪═════╪═════╪═════╡\n",
       "│ 265 ┆ 10/ ┆ nul ┆ DCA ┆ Dep ┆ Con ┆ Deb ┆ nul ┆ 770 ┆ 525 ┆ WES ┆ nul ┆ nul ┆ nul ┆ nul ┆ nul ┆ HOU ┆ nul ┆ nul ┆ Ope ┆ 11/ ┆ nul ┆ 0   ┆ Uns ┆ nul ┆ nul ┆ Uns ┆ Uns ┆ Uns ┆ Uns ┆ Uns ┆ Uns ┆ Uns ┆ Uns ┆ Uns ┆ Uns ┆ Uns ┆ N   ┆ nul ┆ nul ┆ nul ┆ nul ┆ nul ┆ nul ┆ nul ┆ nul ┆ nul ┆ nul ┆ nul ┆ nul ┆ nul ┆ nul │\n",
       "│ 756 ┆ 28/ ┆ l   ┆     ┆ art ┆ sum ┆ t   ┆ l   ┆ 56  ┆ 1   ┆ THE ┆ l   ┆ l   ┆ l   ┆ l   ┆ l   ┆ STO ┆ l   ┆ l   ┆ n   ┆ 01/ ┆ l   ┆ Uns ┆ pec ┆ l   ┆ l   ┆ pec ┆ pec ┆ pec ┆ pec ┆ pec ┆ pec ┆ pec ┆ pec ┆ pec ┆ pec ┆ pec ┆     ┆ l   ┆ l   ┆ l   ┆ l   ┆ l   ┆ l   ┆ l   ┆ l   ┆ l   ┆ l   ┆ l   ┆ l   ┆ l   ┆ l   │\n",
       "│ 58  ┆ 201 ┆     ┆     ┆ men ┆ er  ┆ Not ┆     ┆     ┆ WES ┆ IME ┆     ┆     ┆     ┆     ┆     ┆ N   ┆     ┆     ┆     ┆ 201 ┆     ┆ pec ┆ ifi ┆     ┆     ┆ ifi ┆ ifi ┆ ifi ┆ ifi ┆ ifi ┆ ifi ┆ ifi ┆ ifi ┆ ifi ┆ ifi ┆ ifi ┆     ┆     ┆     ┆     ┆     ┆     ┆     ┆     ┆     ┆     ┆     ┆     ┆     ┆     ┆     │\n",
       "│     ┆ 3   ┆     ┆     ┆ t   ┆ Com ┆ Owe ┆     ┆     ┆ THE ┆ R   ┆     ┆     ┆     ┆     ┆     ┆     ┆     ┆     ┆     ┆ 3   ┆     ┆ ifi ┆ ed  ┆     ┆     ┆ ed  ┆ ed  ┆ ed  ┆ ed  ┆ ed  ┆ ed  ┆ ed  ┆ ed  ┆ ed  ┆ ed  ┆ ed  ┆     ┆     ┆     ┆     ┆     ┆     ┆     ┆     ┆     ┆     ┆     ┆     ┆     ┆     ┆     │\n",
       "│     ┆ 04: ┆     ┆     ┆ of  ┆ pla ┆ d   ┆     ┆     ┆ IME ┆     ┆     ┆     ┆     ┆     ┆     ┆     ┆     ┆     ┆     ┆ 04: ┆     ┆ ed  ┆     ┆     ┆     ┆     ┆     ┆     ┆     ┆     ┆     ┆     ┆     ┆     ┆     ┆     ┆     ┆     ┆     ┆     ┆     ┆     ┆     ┆     ┆     ┆     ┆     ┆     ┆     ┆     ┆     │\n",
       "│     ┆ 11: ┆     ┆     ┆ Con ┆ int ┆     ┆     ┆     ┆ R   ┆     ┆     ┆     ┆     ┆     ┆     ┆     ┆     ┆     ┆     ┆ 11: ┆     ┆     ┆     ┆     ┆     ┆     ┆     ┆     ┆     ┆     ┆     ┆     ┆     ┆     ┆     ┆     ┆     ┆     ┆     ┆     ┆     ┆     ┆     ┆     ┆     ┆     ┆     ┆     ┆     ┆     ┆     │\n",
       "│     ┆ 05  ┆     ┆     ┆ sum ┆     ┆     ┆     ┆     ┆     ┆     ┆     ┆     ┆     ┆     ┆     ┆     ┆     ┆     ┆     ┆ 05  ┆     ┆     ┆     ┆     ┆     ┆     ┆     ┆     ┆     ┆     ┆     ┆     ┆     ┆     ┆     ┆     ┆     ┆     ┆     ┆     ┆     ┆     ┆     ┆     ┆     ┆     ┆     ┆     ┆     ┆     ┆     │\n",
       "│     ┆ PM  ┆     ┆     ┆ er  ┆     ┆     ┆     ┆     ┆     ┆     ┆     ┆     ┆     ┆     ┆     ┆     ┆     ┆     ┆     ┆ PM  ┆     ┆     ┆     ┆     ┆     ┆     ┆     ┆     ┆     ┆     ┆     ┆     ┆     ┆     ┆     ┆     ┆     ┆     ┆     ┆     ┆     ┆     ┆     ┆     ┆     ┆     ┆     ┆     ┆     ┆     ┆     │\n",
       "│     ┆     ┆     ┆     ┆ Aff ┆     ┆     ┆     ┆     ┆     ┆     ┆     ┆     ┆     ┆     ┆     ┆     ┆     ┆     ┆     ┆     ┆     ┆     ┆     ┆     ┆     ┆     ┆     ┆     ┆     ┆     ┆     ┆     ┆     ┆     ┆     ┆     ┆     ┆     ┆     ┆     ┆     ┆     ┆     ┆     ┆     ┆     ┆     ┆     ┆     ┆     ┆     │\n",
       "│     ┆     ┆     ┆     ┆ air ┆     ┆     ┆     ┆     ┆     ┆     ┆     ┆     ┆     ┆     ┆     ┆     ┆     ┆     ┆     ┆     ┆     ┆     ┆     ┆     ┆     ┆     ┆     ┆     ┆     ┆     ┆     ┆     ┆     ┆     ┆     ┆     ┆     ┆     ┆     ┆     ┆     ┆     ┆     ┆     ┆     ┆     ┆     ┆     ┆     ┆     ┆     │\n",
       "│     ┆     ┆     ┆     ┆ s   ┆     ┆     ┆     ┆     ┆     ┆     ┆     ┆     ┆     ┆     ┆     ┆     ┆     ┆     ┆     ┆     ┆     ┆     ┆     ┆     ┆     ┆     ┆     ┆     ┆     ┆     ┆     ┆     ┆     ┆     ┆     ┆     ┆     ┆     ┆     ┆     ┆     ┆     ┆     ┆     ┆     ┆     ┆     ┆     ┆     ┆     ┆     │\n",
       "│ 265 ┆ 10/ ┆ nul ┆ DCA ┆ Dep ┆ Con ┆ Con ┆ nul ┆ 707 ┆ 139 ┆ ACK ┆ nul ┆ nul ┆ nul ┆ nul ┆ nul ┆ CLI ┆ nul ┆ nul ┆ Ope ┆ 11/ ┆ nul ┆ 0   ┆ Uns ┆ nul ┆ nul ┆ Uns ┆ Uns ┆ Uns ┆ Uns ┆ Uns ┆ Uns ┆ Uns ┆ Uns ┆ Uns ┆ Uns ┆ Uns ┆ N   ┆ nul ┆ nul ┆ nul ┆ nul ┆ nul ┆ nul ┆ nul ┆ nul ┆ nul ┆ nul ┆ nul ┆ nul ┆ nul ┆ nul │\n",
       "│ 782 ┆ 28/ ┆ l   ┆     ┆ art ┆ sum ┆ tra ┆ l   ┆ 11  ┆ ACK ┆ ERM ┆ l   ┆ l   ┆ l   ┆ l   ┆ l   ┆ FTO ┆ l   ┆ l   ┆ n   ┆ 01/ ┆ l   ┆ Uns ┆ pec ┆ l   ┆ l   ┆ pec ┆ pec ┆ pec ┆ pec ┆ pec ┆ pec ┆ pec ┆ pec ┆ pec ┆ pec ┆ pec ┆     ┆ l   ┆ l   ┆ l   ┆ l   ┆ l   ┆ l   ┆ l   ┆ l   ┆ l   ┆ l   ┆ l   ┆ l   ┆ l   ┆ l   │\n",
       "│ 51  ┆ 201 ┆     ┆     ┆ men ┆ er  ┆ ct  ┆     ┆     ┆ ERM ┆ AN  ┆     ┆     ┆     ┆     ┆     ┆ N   ┆     ┆     ┆     ┆ 201 ┆     ┆ pec ┆ ifi ┆     ┆     ┆ ifi ┆ ifi ┆ ifi ┆ ifi ┆ ifi ┆ ifi ┆ ifi ┆ ifi ┆ ifi ┆ ifi ┆ ifi ┆     ┆     ┆     ┆     ┆     ┆     ┆     ┆     ┆     ┆     ┆     ┆     ┆     ┆     ┆     │\n",
       "│     ┆ 3   ┆     ┆     ┆ t   ┆ Com ┆ Dis ┆     ┆     ┆ AN  ┆ AVE ┆     ┆     ┆     ┆     ┆     ┆     ┆     ┆     ┆     ┆ 3   ┆     ┆ ifi ┆ ed  ┆     ┆     ┆ ed  ┆ ed  ┆ ed  ┆ ed  ┆ ed  ┆ ed  ┆ ed  ┆ ed  ┆ ed  ┆ ed  ┆ ed  ┆     ┆     ┆     ┆     ┆     ┆     ┆     ┆     ┆     ┆     ┆     ┆     ┆     ┆     ┆     │\n",
       "│     ┆ 11: ┆     ┆     ┆ of  ┆ pla ┆ put ┆     ┆     ┆ AVE ┆ NUE ┆     ┆     ┆     ┆     ┆     ┆     ┆     ┆     ┆     ┆ 11: ┆     ┆ ed  ┆     ┆     ┆     ┆     ┆     ┆     ┆     ┆     ┆     ┆     ┆     ┆     ┆     ┆     ┆     ┆     ┆     ┆     ┆     ┆     ┆     ┆     ┆     ┆     ┆     ┆     ┆     ┆     ┆     │\n",
       "│     ┆ 02: ┆     ┆     ┆ Con ┆ int ┆ e   ┆     ┆     ┆ NUE ┆     ┆     ┆     ┆     ┆     ┆     ┆     ┆     ┆     ┆     ┆ 02: ┆     ┆     ┆     ┆     ┆     ┆     ┆     ┆     ┆     ┆     ┆     ┆     ┆     ┆     ┆     ┆     ┆     ┆     ┆     ┆     ┆     ┆     ┆     ┆     ┆     ┆     ┆     ┆     ┆     ┆     ┆     │\n",
       "│     ┆ 26  ┆     ┆     ┆ sum ┆     ┆     ┆     ┆     ┆     ┆     ┆     ┆     ┆     ┆     ┆     ┆     ┆     ┆     ┆     ┆ 26  ┆     ┆     ┆     ┆     ┆     ┆     ┆     ┆     ┆     ┆     ┆     ┆     ┆     ┆     ┆     ┆     ┆     ┆     ┆     ┆     ┆     ┆     ┆     ┆     ┆     ┆     ┆     ┆     ┆     ┆     ┆     │\n",
       "│     ┆ AM  ┆     ┆     ┆ er  ┆     ┆     ┆     ┆     ┆     ┆     ┆     ┆     ┆     ┆     ┆     ┆     ┆     ┆     ┆     ┆ AM  ┆     ┆     ┆     ┆     ┆     ┆     ┆     ┆     ┆     ┆     ┆     ┆     ┆     ┆     ┆     ┆     ┆     ┆     ┆     ┆     ┆     ┆     ┆     ┆     ┆     ┆     ┆     ┆     ┆     ┆     ┆     │\n",
       "│     ┆     ┆     ┆     ┆ Aff ┆     ┆     ┆     ┆     ┆     ┆     ┆     ┆     ┆     ┆     ┆     ┆     ┆     ┆     ┆     ┆     ┆     ┆     ┆     ┆     ┆     ┆     ┆     ┆     ┆     ┆     ┆     ┆     ┆     ┆     ┆     ┆     ┆     ┆     ┆     ┆     ┆     ┆     ┆     ┆     ┆     ┆     ┆     ┆     ┆     ┆     ┆     │\n",
       "│     ┆     ┆     ┆     ┆ air ┆     ┆     ┆     ┆     ┆     ┆     ┆     ┆     ┆     ┆     ┆     ┆     ┆     ┆     ┆     ┆     ┆     ┆     ┆     ┆     ┆     ┆     ┆     ┆     ┆     ┆     ┆     ┆     ┆     ┆     ┆     ┆     ┆     ┆     ┆     ┆     ┆     ┆     ┆     ┆     ┆     ┆     ┆     ┆     ┆     ┆     ┆     │\n",
       "│     ┆     ┆     ┆     ┆ s   ┆     ┆     ┆     ┆     ┆     ┆     ┆     ┆     ┆     ┆     ┆     ┆     ┆     ┆     ┆     ┆     ┆     ┆     ┆     ┆     ┆     ┆     ┆     ┆     ┆     ┆     ┆     ┆     ┆     ┆     ┆     ┆     ┆     ┆     ┆     ┆     ┆     ┆     ┆     ┆     ┆     ┆     ┆     ┆     ┆     ┆     ┆     │\n",
       "│ 265 ┆ 10/ ┆ nul ┆ DCA ┆ Dep ┆ Con ┆ Fal ┆ nul ┆ 770 ┆ 270 ┆ EAS ┆ nul ┆ nul ┆ nul ┆ nul ┆ nul ┆ HOU ┆ nul ┆ nul ┆ Ass ┆ 11/ ┆ 10/ ┆ 0   ┆ Uns ┆ nul ┆ nul ┆ Uns ┆ Uns ┆ Uns ┆ Uns ┆ Uns ┆ Uns ┆ Uns ┆ Uns ┆ Uns ┆ Uns ┆ Uns ┆ N   ┆ nul ┆ nul ┆ nul ┆ nul ┆ nul ┆ nul ┆ nul ┆ nul ┆ nul ┆ nul ┆ nul ┆ nul ┆ nul ┆ nul │\n",
       "│ 505 ┆ 24/ ┆ l   ┆     ┆ art ┆ sum ┆ se  ┆ l   ┆ 92  ┆ 0   ┆ T   ┆ l   ┆ l   ┆ l   ┆ l   ┆ l   ┆ STO ┆ l   ┆ l   ┆ ign ┆ 13/ ┆ 29/ ┆ Uns ┆ pec ┆ l   ┆ l   ┆ pec ┆ pec ┆ pec ┆ pec ┆ pec ┆ pec ┆ pec ┆ pec ┆ pec ┆ pec ┆ pec ┆     ┆ l   ┆ l   ┆ l   ┆ l   ┆ l   ┆ l   ┆ l   ┆ l   ┆ l   ┆ l   ┆ l   ┆ l   ┆ l   ┆ l   │\n",
       "│ 51  ┆ 201 ┆     ┆     ┆ men ┆ er  ┆ Adv ┆     ┆     ┆ EAS ┆ SEL ┆     ┆     ┆     ┆     ┆     ┆ N   ┆     ┆     ┆ ed  ┆ 201 ┆ 201 ┆ pec ┆ ifi ┆     ┆     ┆ ifi ┆ ifi ┆ ifi ┆ ifi ┆ ifi ┆ ifi ┆ ifi ┆ ifi ┆ ifi ┆ ifi ┆ ifi ┆     ┆     ┆     ┆     ┆     ┆     ┆     ┆     ┆     ┆     ┆     ┆     ┆     ┆     ┆     │\n",
       "│     ┆ 3   ┆     ┆     ┆ t   ┆ Com ┆ ert ┆     ┆     ┆ T   ┆ TIC ┆     ┆     ┆     ┆     ┆     ┆     ┆     ┆     ┆     ┆ 3   ┆ 3   ┆ ifi ┆ ed  ┆     ┆     ┆ ed  ┆ ed  ┆ ed  ┆ ed  ┆ ed  ┆ ed  ┆ ed  ┆ ed  ┆ ed  ┆ ed  ┆ ed  ┆     ┆     ┆     ┆     ┆     ┆     ┆     ┆     ┆     ┆     ┆     ┆     ┆     ┆     ┆     │\n",
       "│     ┆ 06: ┆     ┆     ┆ of  ┆ pla ┆ isi ┆     ┆     ┆ SEL ┆ E   ┆     ┆     ┆     ┆     ┆     ┆     ┆     ┆     ┆     ┆ 11: ┆ 11: ┆ ed  ┆     ┆     ┆     ┆     ┆     ┆     ┆     ┆     ┆     ┆     ┆     ┆     ┆     ┆     ┆     ┆     ┆     ┆     ┆     ┆     ┆     ┆     ┆     ┆     ┆     ┆     ┆     ┆     ┆     │\n",
       "│     ┆ 16: ┆     ┆     ┆ Con ┆ int ┆ ng  ┆     ┆     ┆ TIC ┆ WAY ┆     ┆     ┆     ┆     ┆     ┆     ┆     ┆     ┆     ┆ 15: ┆ 16: ┆     ┆     ┆     ┆     ┆     ┆     ┆     ┆     ┆     ┆     ┆     ┆     ┆     ┆     ┆     ┆     ┆     ┆     ┆     ┆     ┆     ┆     ┆     ┆     ┆     ┆     ┆     ┆     ┆     ┆     │\n",
       "│     ┆ 34  ┆     ┆     ┆ sum ┆     ┆     ┆     ┆     ┆ E   ┆     ┆     ┆     ┆     ┆     ┆     ┆     ┆     ┆     ┆     ┆ 20  ┆ 16  ┆     ┆     ┆     ┆     ┆     ┆     ┆     ┆     ┆     ┆     ┆     ┆     ┆     ┆     ┆     ┆     ┆     ┆     ┆     ┆     ┆     ┆     ┆     ┆     ┆     ┆     ┆     ┆     ┆     ┆     │\n",
       "│     ┆ PM  ┆     ┆     ┆ er  ┆     ┆     ┆     ┆     ┆ WAY ┆     ┆     ┆     ┆     ┆     ┆     ┆     ┆     ┆     ┆     ┆ AM  ┆ AM  ┆     ┆     ┆     ┆     ┆     ┆     ┆     ┆     ┆     ┆     ┆     ┆     ┆     ┆     ┆     ┆     ┆     ┆     ┆     ┆     ┆     ┆     ┆     ┆     ┆     ┆     ┆     ┆     ┆     ┆     │\n",
       "│     ┆     ┆     ┆     ┆ Aff ┆     ┆     ┆     ┆     ┆     ┆     ┆     ┆     ┆     ┆     ┆     ┆     ┆     ┆     ┆     ┆     ┆     ┆     ┆     ┆     ┆     ┆     ┆     ┆     ┆     ┆     ┆     ┆     ┆     ┆     ┆     ┆     ┆     ┆     ┆     ┆     ┆     ┆     ┆     ┆     ┆     ┆     ┆     ┆     ┆     ┆     ┆     │\n",
       "│     ┆     ┆     ┆     ┆ air ┆     ┆     ┆     ┆     ┆     ┆     ┆     ┆     ┆     ┆     ┆     ┆     ┆     ┆     ┆     ┆     ┆     ┆     ┆     ┆     ┆     ┆     ┆     ┆     ┆     ┆     ┆     ┆     ┆     ┆     ┆     ┆     ┆     ┆     ┆     ┆     ┆     ┆     ┆     ┆     ┆     ┆     ┆     ┆     ┆     ┆     ┆     │\n",
       "│     ┆     ┆     ┆     ┆ s   ┆     ┆     ┆     ┆     ┆     ┆     ┆     ┆     ┆     ┆     ┆     ┆     ┆     ┆     ┆     ┆     ┆     ┆     ┆     ┆     ┆     ┆     ┆     ┆     ┆     ┆     ┆     ┆     ┆     ┆     ┆     ┆     ┆     ┆     ┆     ┆     ┆     ┆     ┆     ┆     ┆     ┆     ┆     ┆     ┆     ┆     ┆     │\n",
       "│ 265 ┆ 10/ ┆ nul ┆ DCA ┆ Dep ┆ Con ┆ Har ┆ nul ┆ 551 ┆ P.O ┆ 644 ┆ nul ┆ nul ┆ nul ┆ nul ┆ nul ┆ ST. ┆ nul ┆ nul ┆ Ass ┆ 11/ ┆ 10/ ┆ 0   ┆ Uns ┆ nul ┆ nul ┆ Uns ┆ Uns ┆ Uns ┆ Uns ┆ Uns ┆ Uns ┆ Uns ┆ Uns ┆ Uns ┆ Uns ┆ Uns ┆ N   ┆ nul ┆ nul ┆ nul ┆ nul ┆ nul ┆ nul ┆ nul ┆ nul ┆ nul ┆ nul ┆ nul ┆ nul ┆ nul ┆ nul │\n",
       "│ 488 ┆ 24/ ┆ l   ┆     ┆ art ┆ sum ┆ ass ┆ l   ┆ 64  ┆ .   ┆ 37  ┆ l   ┆ l   ┆ l   ┆ l   ┆ l   ┆ PAU ┆ l   ┆ l   ┆ ign ┆ 13/ ┆ 29/ ┆ Uns ┆ pec ┆ l   ┆ l   ┆ pec ┆ pec ┆ pec ┆ pec ┆ pec ┆ pec ┆ pec ┆ pec ┆ pec ┆ pec ┆ pec ┆     ┆ l   ┆ l   ┆ l   ┆ l   ┆ l   ┆ l   ┆ l   ┆ l   ┆ l   ┆ l   ┆ l   ┆ l   ┆ l   ┆ l   │\n",
       "│ 31  ┆ 201 ┆     ┆     ┆ men ┆ er  ┆ men ┆     ┆     ┆ BOX ┆     ┆     ┆     ┆     ┆     ┆     ┆ L   ┆     ┆     ┆ ed  ┆ 201 ┆ 201 ┆ pec ┆ ifi ┆     ┆     ┆ ifi ┆ ifi ┆ ifi ┆ ifi ┆ ifi ┆ ifi ┆ ifi ┆ ifi ┆ ifi ┆ ifi ┆ ifi ┆     ┆     ┆     ┆     ┆     ┆     ┆     ┆     ┆     ┆     ┆     ┆     ┆     ┆     ┆     │\n",
       "│     ┆ 3   ┆     ┆     ┆ t   ┆ Com ┆ t   ┆     ┆     ┆ 644 ┆     ┆     ┆     ┆     ┆     ┆     ┆     ┆     ┆     ┆     ┆ 3   ┆ 3   ┆ ifi ┆ ed  ┆     ┆     ┆ ed  ┆ ed  ┆ ed  ┆ ed  ┆ ed  ┆ ed  ┆ ed  ┆ ed  ┆ ed  ┆ ed  ┆ ed  ┆     ┆     ┆     ┆     ┆     ┆     ┆     ┆     ┆     ┆     ┆     ┆     ┆     ┆     ┆     │\n",
       "│     ┆ 09: ┆     ┆     ┆ of  ┆ pla ┆     ┆     ┆     ┆ 37  ┆     ┆     ┆     ┆     ┆     ┆     ┆     ┆     ┆     ┆     ┆ 02: ┆ 02: ┆ ed  ┆     ┆     ┆     ┆     ┆     ┆     ┆     ┆     ┆     ┆     ┆     ┆     ┆     ┆     ┆     ┆     ┆     ┆     ┆     ┆     ┆     ┆     ┆     ┆     ┆     ┆     ┆     ┆     ┆     │\n",
       "│     ┆ 35: ┆     ┆     ┆ Con ┆ int ┆     ┆     ┆     ┆     ┆     ┆     ┆     ┆     ┆     ┆     ┆     ┆     ┆     ┆     ┆ 30: ┆ 31: ┆     ┆     ┆     ┆     ┆     ┆     ┆     ┆     ┆     ┆     ┆     ┆     ┆     ┆     ┆     ┆     ┆     ┆     ┆     ┆     ┆     ┆     ┆     ┆     ┆     ┆     ┆     ┆     ┆     ┆     │\n",
       "│     ┆ 10  ┆     ┆     ┆ sum ┆     ┆     ┆     ┆     ┆     ┆     ┆     ┆     ┆     ┆     ┆     ┆     ┆     ┆     ┆     ┆ 21  ┆ 06  ┆     ┆     ┆     ┆     ┆     ┆     ┆     ┆     ┆     ┆     ┆     ┆     ┆     ┆     ┆     ┆     ┆     ┆     ┆     ┆     ┆     ┆     ┆     ┆     ┆     ┆     ┆     ┆     ┆     ┆     │\n",
       "│     ┆ AM  ┆     ┆     ┆ er  ┆     ┆     ┆     ┆     ┆     ┆     ┆     ┆     ┆     ┆     ┆     ┆     ┆     ┆     ┆     ┆ PM  ┆ PM  ┆     ┆     ┆     ┆     ┆     ┆     ┆     ┆     ┆     ┆     ┆     ┆     ┆     ┆     ┆     ┆     ┆     ┆     ┆     ┆     ┆     ┆     ┆     ┆     ┆     ┆     ┆     ┆     ┆     ┆     │\n",
       "│     ┆     ┆     ┆     ┆ Aff ┆     ┆     ┆     ┆     ┆     ┆     ┆     ┆     ┆     ┆     ┆     ┆     ┆     ┆     ┆     ┆     ┆     ┆     ┆     ┆     ┆     ┆     ┆     ┆     ┆     ┆     ┆     ┆     ┆     ┆     ┆     ┆     ┆     ┆     ┆     ┆     ┆     ┆     ┆     ┆     ┆     ┆     ┆     ┆     ┆     ┆     ┆     │\n",
       "│     ┆     ┆     ┆     ┆ air ┆     ┆     ┆     ┆     ┆     ┆     ┆     ┆     ┆     ┆     ┆     ┆     ┆     ┆     ┆     ┆     ┆     ┆     ┆     ┆     ┆     ┆     ┆     ┆     ┆     ┆     ┆     ┆     ┆     ┆     ┆     ┆     ┆     ┆     ┆     ┆     ┆     ┆     ┆     ┆     ┆     ┆     ┆     ┆     ┆     ┆     ┆     │\n",
       "│     ┆     ┆     ┆     ┆ s   ┆     ┆     ┆     ┆     ┆     ┆     ┆     ┆     ┆     ┆     ┆     ┆     ┆     ┆     ┆     ┆     ┆     ┆     ┆     ┆     ┆     ┆     ┆     ┆     ┆     ┆     ┆     ┆     ┆     ┆     ┆     ┆     ┆     ┆     ┆     ┆     ┆     ┆     ┆     ┆     ┆     ┆     ┆     ┆     ┆     ┆     ┆     │\n",
       "│ 265 ┆ 10/ ┆ nul ┆ DCA ┆ Dep ┆ Con ┆ Bil ┆ nul ┆ 900 ┆ 475 ┆ WIL ┆ nul ┆ nul ┆ nul ┆ nul ┆ nul ┆ LOS ┆ nul ┆ nul ┆ Ass ┆ 11/ ┆ 10/ ┆ 0   ┆ Uns ┆ nul ┆ nul ┆ Uns ┆ Uns ┆ Uns ┆ Uns ┆ Uns ┆ Uns ┆ Uns ┆ Uns ┆ Uns ┆ Uns ┆ Uns ┆ N   ┆ nul ┆ nul ┆ nul ┆ nul ┆ nul ┆ nul ┆ nul ┆ nul ┆ nul ┆ nul ┆ nul ┆ nul ┆ nul ┆ nul │\n",
       "│ 289 ┆ 22/ ┆ l   ┆     ┆ art ┆ sum ┆ lin ┆ l   ┆ 10  ┆ 1   ┆ SHI ┆ l   ┆ l   ┆ l   ┆ l   ┆ l   ┆ ANG ┆ l   ┆ l   ┆ ign ┆ 09/ ┆ 25/ ┆ Uns ┆ pec ┆ l   ┆ l   ┆ pec ┆ pec ┆ pec ┆ pec ┆ pec ┆ pec ┆ pec ┆ pec ┆ pec ┆ pec ┆ pec ┆     ┆ l   ┆ l   ┆ l   ┆ l   ┆ l   ┆ l   ┆ l   ┆ l   ┆ l   ┆ l   ┆ l   ┆ l   ┆ l   ┆ l   │\n",
       "│ 48  ┆ 201 ┆     ┆     ┆ men ┆ er  ┆ g   ┆     ┆     ┆ WIL ┆ ER  ┆     ┆     ┆     ┆     ┆     ┆ ELE ┆     ┆     ┆ ed  ┆ 201 ┆ 201 ┆ pec ┆ ifi ┆     ┆     ┆ ifi ┆ ifi ┆ ifi ┆ ifi ┆ ifi ┆ ifi ┆ ifi ┆ ifi ┆ ifi ┆ ifi ┆ ifi ┆     ┆     ┆     ┆     ┆     ┆     ┆     ┆     ┆     ┆     ┆     ┆     ┆     ┆     ┆     │\n",
       "│     ┆ 3   ┆     ┆     ┆ t   ┆ Com ┆ Dis ┆     ┆     ┆ SHI ┆ BLV ┆     ┆     ┆     ┆     ┆     ┆ S   ┆     ┆     ┆     ┆ 3   ┆ 3   ┆ ifi ┆ ed  ┆     ┆     ┆ ed  ┆ ed  ┆ ed  ┆ ed  ┆ ed  ┆ ed  ┆ ed  ┆ ed  ┆ ed  ┆ ed  ┆ ed  ┆     ┆     ┆     ┆     ┆     ┆     ┆     ┆     ┆     ┆     ┆     ┆     ┆     ┆     ┆     │\n",
       "│     ┆ 09: ┆     ┆     ┆ of  ┆ pla ┆ put ┆     ┆     ┆ ER  ┆ D   ┆     ┆     ┆     ┆     ┆     ┆     ┆     ┆     ┆     ┆ 06: ┆ 06: ┆ ed  ┆     ┆     ┆     ┆     ┆     ┆     ┆     ┆     ┆     ┆     ┆     ┆     ┆     ┆     ┆     ┆     ┆     ┆     ┆     ┆     ┆     ┆     ┆     ┆     ┆     ┆     ┆     ┆     ┆     │\n",
       "│     ┆ 29: ┆     ┆     ┆ Con ┆ int ┆ e   ┆     ┆     ┆ BLV ┆     ┆     ┆     ┆     ┆     ┆     ┆     ┆     ┆     ┆     ┆ 10: ┆ 11: ┆     ┆     ┆     ┆     ┆     ┆     ┆     ┆     ┆     ┆     ┆     ┆     ┆     ┆     ┆     ┆     ┆     ┆     ┆     ┆     ┆     ┆     ┆     ┆     ┆     ┆     ┆     ┆     ┆     ┆     │\n",
       "│     ┆ 57  ┆     ┆     ┆ sum ┆     ┆     ┆     ┆     ┆ D   ┆     ┆     ┆     ┆     ┆     ┆     ┆     ┆     ┆     ┆     ┆ 20  ┆ 06  ┆     ┆     ┆     ┆     ┆     ┆     ┆     ┆     ┆     ┆     ┆     ┆     ┆     ┆     ┆     ┆     ┆     ┆     ┆     ┆     ┆     ┆     ┆     ┆     ┆     ┆     ┆     ┆     ┆     ┆     │\n",
       "│     ┆ AM  ┆     ┆     ┆ er  ┆     ┆     ┆     ┆     ┆     ┆     ┆     ┆     ┆     ┆     ┆     ┆     ┆     ┆     ┆     ┆ PM  ┆ PM  ┆     ┆     ┆     ┆     ┆     ┆     ┆     ┆     ┆     ┆     ┆     ┆     ┆     ┆     ┆     ┆     ┆     ┆     ┆     ┆     ┆     ┆     ┆     ┆     ┆     ┆     ┆     ┆     ┆     ┆     │\n",
       "│     ┆     ┆     ┆     ┆ Aff ┆     ┆     ┆     ┆     ┆     ┆     ┆     ┆     ┆     ┆     ┆     ┆     ┆     ┆     ┆     ┆     ┆     ┆     ┆     ┆     ┆     ┆     ┆     ┆     ┆     ┆     ┆     ┆     ┆     ┆     ┆     ┆     ┆     ┆     ┆     ┆     ┆     ┆     ┆     ┆     ┆     ┆     ┆     ┆     ┆     ┆     ┆     │\n",
       "│     ┆     ┆     ┆     ┆ air ┆     ┆     ┆     ┆     ┆     ┆     ┆     ┆     ┆     ┆     ┆     ┆     ┆     ┆     ┆     ┆     ┆     ┆     ┆     ┆     ┆     ┆     ┆     ┆     ┆     ┆     ┆     ┆     ┆     ┆     ┆     ┆     ┆     ┆     ┆     ┆     ┆     ┆     ┆     ┆     ┆     ┆     ┆     ┆     ┆     ┆     ┆     │\n",
       "│     ┆     ┆     ┆     ┆ s   ┆     ┆     ┆     ┆     ┆     ┆     ┆     ┆     ┆     ┆     ┆     ┆     ┆     ┆     ┆     ┆     ┆     ┆     ┆     ┆     ┆     ┆     ┆     ┆     ┆     ┆     ┆     ┆     ┆     ┆     ┆     ┆     ┆     ┆     ┆     ┆     ┆     ┆     ┆     ┆     ┆     ┆     ┆     ┆     ┆     ┆     ┆     │\n",
       "│ …   ┆ …   ┆ …   ┆ …   ┆ …   ┆ …   ┆ …   ┆ …   ┆ …   ┆ …   ┆ …   ┆ …   ┆ …   ┆ …   ┆ …   ┆ …   ┆ …   ┆ …   ┆ …   ┆ …   ┆ …   ┆ …   ┆ …   ┆ …   ┆ …   ┆ …   ┆ …   ┆ …   ┆ …   ┆ …   ┆ …   ┆ …   ┆ …   ┆ …   ┆ …   ┆ …   ┆ …   ┆ …   ┆ …   ┆ …   ┆ …   ┆ …   ┆ …   ┆ …   ┆ …   ┆ …   ┆ …   ┆ …   ┆ …   ┆ …   ┆ …   ┆ …   │\n",
       "│ 264 ┆ 10/ ┆ nul ┆ TLC ┆ Tax ┆ Tax ┆ Dri ┆ Str ┆ NA  ┆ NA  ┆ NA  ┆ nul ┆ nul ┆ nul ┆ nul ┆ nul ┆ NA  ┆ nul ┆ nul ┆ Ass ┆ 11/ ┆ 10/ ┆ Uns ┆ QUE ┆ nul ┆ nul ┆ Uns ┆ QUE ┆ Uns ┆ Uns ┆ Uns ┆ Uns ┆ Uns ┆ Uns ┆ Uns ┆ Uns ┆ Uns ┆ N   ┆ nul ┆ nul ┆ nul ┆ JFK ┆ nul ┆ nul ┆ nul ┆ nul ┆ nul ┆ nul ┆ nul ┆ nul ┆ nul ┆ nul │\n",
       "│ 795 ┆ 13/ ┆ l   ┆     ┆ i   ┆ i   ┆ ver ┆ eet ┆     ┆ NA  ┆     ┆ l   ┆ l   ┆ l   ┆ l   ┆ l   ┆     ┆ l   ┆ l   ┆ ign ┆ 29/ ┆ 15/ ┆ pec ┆ ENS ┆ l   ┆ l   ┆ pec ┆ ENS ┆ pec ┆ pec ┆ pec ┆ pec ┆ pec ┆ pec ┆ pec ┆ pec ┆ pec ┆     ┆ l   ┆ l   ┆ l   ┆ Air ┆ l   ┆ l   ┆ l   ┆ l   ┆ l   ┆ l   ┆ l   ┆ l   ┆ l   ┆ l   │\n",
       "│ 94  ┆ 201 ┆     ┆     ┆ and ┆ Com ┆ Com ┆     ┆     ┆     ┆     ┆     ┆     ┆     ┆     ┆     ┆     ┆     ┆     ┆ ed  ┆ 201 ┆ 201 ┆ ifi ┆     ┆     ┆     ┆ ifi ┆     ┆ ifi ┆ ifi ┆ ifi ┆ ifi ┆ ifi ┆ ifi ┆ ifi ┆ ifi ┆ ifi ┆     ┆     ┆     ┆     ┆ por ┆     ┆     ┆     ┆     ┆     ┆     ┆     ┆     ┆     ┆     │\n",
       "│     ┆ 3   ┆     ┆     ┆ Lim ┆ pla ┆ pla ┆     ┆     ┆     ┆     ┆     ┆     ┆     ┆     ┆     ┆     ┆     ┆     ┆     ┆ 3   ┆ 3   ┆ ed  ┆     ┆     ┆     ┆ ed  ┆     ┆ ed  ┆ ed  ┆ ed  ┆ ed  ┆ ed  ┆ ed  ┆ ed  ┆ ed  ┆ ed  ┆     ┆     ┆     ┆     ┆ t   ┆     ┆     ┆     ┆     ┆     ┆     ┆     ┆     ┆     ┆     │\n",
       "│     ┆ 04: ┆     ┆     ┆ ous ┆ int ┆ int ┆     ┆     ┆     ┆     ┆     ┆     ┆     ┆     ┆     ┆     ┆     ┆     ┆     ┆ 08: ┆ 08: ┆ QUE ┆     ┆     ┆     ┆     ┆     ┆     ┆     ┆     ┆     ┆     ┆     ┆     ┆     ┆     ┆     ┆     ┆     ┆     ┆     ┆     ┆     ┆     ┆     ┆     ┆     ┆     ┆     ┆     ┆     │\n",
       "│     ┆ 19: ┆     ┆     ┆ ine ┆     ┆     ┆     ┆     ┆     ┆     ┆     ┆     ┆     ┆     ┆     ┆     ┆     ┆     ┆     ┆ 41: ┆ 42: ┆ ENS ┆     ┆     ┆     ┆     ┆     ┆     ┆     ┆     ┆     ┆     ┆     ┆     ┆     ┆     ┆     ┆     ┆     ┆     ┆     ┆     ┆     ┆     ┆     ┆     ┆     ┆     ┆     ┆     ┆     │\n",
       "│     ┆ 13  ┆     ┆     ┆ Com ┆     ┆     ┆     ┆     ┆     ┆     ┆     ┆     ┆     ┆     ┆     ┆     ┆     ┆     ┆     ┆ 20  ┆ 38  ┆     ┆     ┆     ┆     ┆     ┆     ┆     ┆     ┆     ┆     ┆     ┆     ┆     ┆     ┆     ┆     ┆     ┆     ┆     ┆     ┆     ┆     ┆     ┆     ┆     ┆     ┆     ┆     ┆     ┆     │\n",
       "│     ┆ PM  ┆     ┆     ┆ mis ┆     ┆     ┆     ┆     ┆     ┆     ┆     ┆     ┆     ┆     ┆     ┆     ┆     ┆     ┆     ┆ AM  ┆ AM  ┆     ┆     ┆     ┆     ┆     ┆     ┆     ┆     ┆     ┆     ┆     ┆     ┆     ┆     ┆     ┆     ┆     ┆     ┆     ┆     ┆     ┆     ┆     ┆     ┆     ┆     ┆     ┆     ┆     ┆     │\n",
       "│     ┆     ┆     ┆     ┆ sio ┆     ┆     ┆     ┆     ┆     ┆     ┆     ┆     ┆     ┆     ┆     ┆     ┆     ┆     ┆     ┆     ┆     ┆     ┆     ┆     ┆     ┆     ┆     ┆     ┆     ┆     ┆     ┆     ┆     ┆     ┆     ┆     ┆     ┆     ┆     ┆     ┆     ┆     ┆     ┆     ┆     ┆     ┆     ┆     ┆     ┆     ┆     │\n",
       "│     ┆     ┆     ┆     ┆ n   ┆     ┆     ┆     ┆     ┆     ┆     ┆     ┆     ┆     ┆     ┆     ┆     ┆     ┆     ┆     ┆     ┆     ┆     ┆     ┆     ┆     ┆     ┆     ┆     ┆     ┆     ┆     ┆     ┆     ┆     ┆     ┆     ┆     ┆     ┆     ┆     ┆     ┆     ┆     ┆     ┆     ┆     ┆     ┆     ┆     ┆     ┆     │\n",
       "│ 264 ┆ 10/ ┆ 10/ ┆ DCA ┆ Dep ┆ Con ┆ Bil ┆ nul ┆ 617 ┆ P.O ┆ BOX ┆ nul ┆ nul ┆ nul ┆ nul ┆ nul ┆ BLO ┆ nul ┆ nul ┆ Clo ┆ 10/ ┆ 10/ ┆ 0   ┆ Uns ┆ nul ┆ nul ┆ Uns ┆ Uns ┆ Uns ┆ Uns ┆ Uns ┆ Uns ┆ Uns ┆ Uns ┆ Uns ┆ Uns ┆ Uns ┆ N   ┆ nul ┆ nul ┆ nul ┆ nul ┆ nul ┆ nul ┆ nul ┆ nul ┆ nul ┆ nul ┆ nul ┆ nul ┆ nul ┆ nul │\n",
       "│ 892 ┆ 11/ ┆ 27/ ┆     ┆ art ┆ sum ┆ lin ┆ l   ┆ 02  ┆ .   ┆     ┆ l   ┆ l   ┆ l   ┆ l   ┆ l   ┆ OMI ┆ l   ┆ l   ┆ sed ┆ 30/ ┆ 27/ ┆ Uns ┆ pec ┆ l   ┆ l   ┆ pec ┆ pec ┆ pec ┆ pec ┆ pec ┆ pec ┆ pec ┆ pec ┆ pec ┆ pec ┆ pec ┆     ┆ l   ┆ l   ┆ l   ┆ l   ┆ l   ┆ l   ┆ l   ┆ l   ┆ l   ┆ l   ┆ l   ┆ l   ┆ l   ┆ l   │\n",
       "│ 68  ┆ 201 ┆ 201 ┆     ┆ men ┆ er  ┆ g   ┆     ┆     ┆ BOX ┆     ┆     ┆     ┆     ┆     ┆     ┆ GTO ┆     ┆     ┆     ┆ 201 ┆ 201 ┆ pec ┆ ifi ┆     ┆     ┆ ifi ┆ ifi ┆ ifi ┆ ifi ┆ ifi ┆ ifi ┆ ifi ┆ ifi ┆ ifi ┆ ifi ┆ ifi ┆     ┆     ┆     ┆     ┆     ┆     ┆     ┆     ┆     ┆     ┆     ┆     ┆     ┆     ┆     │\n",
       "│     ┆ 3   ┆ 3   ┆     ┆ t   ┆ Com ┆ Dis ┆     ┆     ┆     ┆     ┆     ┆     ┆     ┆     ┆     ┆ N   ┆     ┆     ┆     ┆ 3   ┆ 3   ┆ ifi ┆ ed  ┆     ┆     ┆ ed  ┆ ed  ┆ ed  ┆ ed  ┆ ed  ┆ ed  ┆ ed  ┆ ed  ┆ ed  ┆ ed  ┆ ed  ┆     ┆     ┆     ┆     ┆     ┆     ┆     ┆     ┆     ┆     ┆     ┆     ┆     ┆     ┆     │\n",
       "│     ┆ 06: ┆ 01: ┆     ┆ of  ┆ pla ┆ put ┆     ┆     ┆     ┆     ┆     ┆     ┆     ┆     ┆     ┆     ┆     ┆     ┆     ┆ 08: ┆ 01: ┆ ed  ┆     ┆     ┆     ┆     ┆     ┆     ┆     ┆     ┆     ┆     ┆     ┆     ┆     ┆     ┆     ┆     ┆     ┆     ┆     ┆     ┆     ┆     ┆     ┆     ┆     ┆     ┆     ┆     ┆     │\n",
       "│     ┆ 51: ┆ 07: ┆     ┆ Con ┆ int ┆ e   ┆     ┆     ┆     ┆     ┆     ┆     ┆     ┆     ┆     ┆     ┆     ┆     ┆     ┆ 08: ┆ 07: ┆     ┆     ┆     ┆     ┆     ┆     ┆     ┆     ┆     ┆     ┆     ┆     ┆     ┆     ┆     ┆     ┆     ┆     ┆     ┆     ┆     ┆     ┆     ┆     ┆     ┆     ┆     ┆     ┆     ┆     │\n",
       "│     ┆ 31  ┆ 21  ┆     ┆ sum ┆     ┆     ┆     ┆     ┆     ┆     ┆     ┆     ┆     ┆     ┆     ┆     ┆     ┆     ┆     ┆ 59  ┆ 21  ┆     ┆     ┆     ┆     ┆     ┆     ┆     ┆     ┆     ┆     ┆     ┆     ┆     ┆     ┆     ┆     ┆     ┆     ┆     ┆     ┆     ┆     ┆     ┆     ┆     ┆     ┆     ┆     ┆     ┆     │\n",
       "│     ┆ PM  ┆ AM  ┆     ┆ er  ┆     ┆     ┆     ┆     ┆     ┆     ┆     ┆     ┆     ┆     ┆     ┆     ┆     ┆     ┆     ┆ AM  ┆ AM  ┆     ┆     ┆     ┆     ┆     ┆     ┆     ┆     ┆     ┆     ┆     ┆     ┆     ┆     ┆     ┆     ┆     ┆     ┆     ┆     ┆     ┆     ┆     ┆     ┆     ┆     ┆     ┆     ┆     ┆     │\n",
       "│     ┆     ┆     ┆     ┆ Aff ┆     ┆     ┆     ┆     ┆     ┆     ┆     ┆     ┆     ┆     ┆     ┆     ┆     ┆     ┆     ┆     ┆     ┆     ┆     ┆     ┆     ┆     ┆     ┆     ┆     ┆     ┆     ┆     ┆     ┆     ┆     ┆     ┆     ┆     ┆     ┆     ┆     ┆     ┆     ┆     ┆     ┆     ┆     ┆     ┆     ┆     ┆     │\n",
       "│     ┆     ┆     ┆     ┆ air ┆     ┆     ┆     ┆     ┆     ┆     ┆     ┆     ┆     ┆     ┆     ┆     ┆     ┆     ┆     ┆     ┆     ┆     ┆     ┆     ┆     ┆     ┆     ┆     ┆     ┆     ┆     ┆     ┆     ┆     ┆     ┆     ┆     ┆     ┆     ┆     ┆     ┆     ┆     ┆     ┆     ┆     ┆     ┆     ┆     ┆     ┆     │\n",
       "│     ┆     ┆     ┆     ┆ s   ┆     ┆     ┆     ┆     ┆     ┆     ┆     ┆     ┆     ┆     ┆     ┆     ┆     ┆     ┆     ┆     ┆     ┆     ┆     ┆     ┆     ┆     ┆     ┆     ┆     ┆     ┆     ┆     ┆     ┆     ┆     ┆     ┆     ┆     ┆     ┆     ┆     ┆     ┆     ┆     ┆     ┆     ┆     ┆     ┆     ┆     ┆     │\n",
       "│ 264 ┆ 10/ ┆ 10/ ┆ DCA ┆ Dep ┆ Con ┆ Deb ┆ nul ┆ 296 ┆ PO  ┆ BOX ┆ nul ┆ nul ┆ nul ┆ nul ┆ nul ┆ GRE ┆ nul ┆ nul ┆ Clo ┆ 10/ ┆ 10/ ┆ 0   ┆ Uns ┆ nul ┆ nul ┆ Uns ┆ Uns ┆ Uns ┆ Uns ┆ Uns ┆ Uns ┆ Uns ┆ Uns ┆ Uns ┆ Uns ┆ Uns ┆ N   ┆ nul ┆ nul ┆ nul ┆ nul ┆ nul ┆ nul ┆ nul ┆ nul ┆ nul ┆ nul ┆ nul ┆ nul ┆ nul ┆ nul │\n",
       "│ 682 ┆ 10/ ┆ 26/ ┆     ┆ art ┆ sum ┆ t   ┆ l   ┆ 16  ┆ BOX ┆ 257 ┆ l   ┆ l   ┆ l   ┆ l   ┆ l   ┆ ENV ┆ l   ┆ l   ┆ sed ┆ 26/ ┆ 26/ ┆ Uns ┆ pec ┆ l   ┆ l   ┆ pec ┆ pec ┆ pec ┆ pec ┆ pec ┆ pec ┆ pec ┆ pec ┆ pec ┆ pec ┆ pec ┆     ┆ l   ┆ l   ┆ l   ┆ l   ┆ l   ┆ l   ┆ l   ┆ l   ┆ l   ┆ l   ┆ l   ┆ l   ┆ l   ┆ l   │\n",
       "│ 96  ┆ 201 ┆ 201 ┆     ┆ men ┆ er  ┆ Not ┆     ┆     ┆ 257 ┆ 59  ┆     ┆     ┆     ┆     ┆     ┆ ILL ┆     ┆     ┆     ┆ 201 ┆ 201 ┆ pec ┆ ifi ┆     ┆     ┆ ifi ┆ ifi ┆ ifi ┆ ifi ┆ ifi ┆ ifi ┆ ifi ┆ ifi ┆ ifi ┆ ifi ┆ ifi ┆     ┆     ┆     ┆     ┆     ┆     ┆     ┆     ┆     ┆     ┆     ┆     ┆     ┆     ┆     │\n",
       "│     ┆ 3   ┆ 3   ┆     ┆ t   ┆ Com ┆ Owe ┆     ┆     ┆ 59  ┆     ┆     ┆     ┆     ┆     ┆     ┆ E   ┆     ┆     ┆     ┆ 3   ┆ 3   ┆ ifi ┆ ed  ┆     ┆     ┆ ed  ┆ ed  ┆ ed  ┆ ed  ┆ ed  ┆ ed  ┆ ed  ┆ ed  ┆ ed  ┆ ed  ┆ ed  ┆     ┆     ┆     ┆     ┆     ┆     ┆     ┆     ┆     ┆     ┆     ┆     ┆     ┆     ┆     │\n",
       "│     ┆ 12: ┆ 01: ┆     ┆ of  ┆ pla ┆ d   ┆     ┆     ┆     ┆     ┆     ┆     ┆     ┆     ┆     ┆     ┆     ┆     ┆     ┆ 09: ┆ 01: ┆ ed  ┆     ┆     ┆     ┆     ┆     ┆     ┆     ┆     ┆     ┆     ┆     ┆     ┆     ┆     ┆     ┆     ┆     ┆     ┆     ┆     ┆     ┆     ┆     ┆     ┆     ┆     ┆     ┆     ┆     │\n",
       "│     ┆ 36: ┆ 07: ┆     ┆ Con ┆ int ┆     ┆     ┆     ┆     ┆     ┆     ┆     ┆     ┆     ┆     ┆     ┆     ┆     ┆     ┆ 20: ┆ 07: ┆     ┆     ┆     ┆     ┆     ┆     ┆     ┆     ┆     ┆     ┆     ┆     ┆     ┆     ┆     ┆     ┆     ┆     ┆     ┆     ┆     ┆     ┆     ┆     ┆     ┆     ┆     ┆     ┆     ┆     │\n",
       "│     ┆ 43  ┆ 07  ┆     ┆ sum ┆     ┆     ┆     ┆     ┆     ┆     ┆     ┆     ┆     ┆     ┆     ┆     ┆     ┆     ┆     ┆ 28  ┆ 07  ┆     ┆     ┆     ┆     ┆     ┆     ┆     ┆     ┆     ┆     ┆     ┆     ┆     ┆     ┆     ┆     ┆     ┆     ┆     ┆     ┆     ┆     ┆     ┆     ┆     ┆     ┆     ┆     ┆     ┆     │\n",
       "│     ┆ PM  ┆ AM  ┆     ┆ er  ┆     ┆     ┆     ┆     ┆     ┆     ┆     ┆     ┆     ┆     ┆     ┆     ┆     ┆     ┆     ┆ AM  ┆ AM  ┆     ┆     ┆     ┆     ┆     ┆     ┆     ┆     ┆     ┆     ┆     ┆     ┆     ┆     ┆     ┆     ┆     ┆     ┆     ┆     ┆     ┆     ┆     ┆     ┆     ┆     ┆     ┆     ┆     ┆     │\n",
       "│     ┆     ┆     ┆     ┆ Aff ┆     ┆     ┆     ┆     ┆     ┆     ┆     ┆     ┆     ┆     ┆     ┆     ┆     ┆     ┆     ┆     ┆     ┆     ┆     ┆     ┆     ┆     ┆     ┆     ┆     ┆     ┆     ┆     ┆     ┆     ┆     ┆     ┆     ┆     ┆     ┆     ┆     ┆     ┆     ┆     ┆     ┆     ┆     ┆     ┆     ┆     ┆     │\n",
       "│     ┆     ┆     ┆     ┆ air ┆     ┆     ┆     ┆     ┆     ┆     ┆     ┆     ┆     ┆     ┆     ┆     ┆     ┆     ┆     ┆     ┆     ┆     ┆     ┆     ┆     ┆     ┆     ┆     ┆     ┆     ┆     ┆     ┆     ┆     ┆     ┆     ┆     ┆     ┆     ┆     ┆     ┆     ┆     ┆     ┆     ┆     ┆     ┆     ┆     ┆     ┆     │\n",
       "│     ┆     ┆     ┆     ┆ s   ┆     ┆     ┆     ┆     ┆     ┆     ┆     ┆     ┆     ┆     ┆     ┆     ┆     ┆     ┆     ┆     ┆     ┆     ┆     ┆     ┆     ┆     ┆     ┆     ┆     ┆     ┆     ┆     ┆     ┆     ┆     ┆     ┆     ┆     ┆     ┆     ┆     ┆     ┆     ┆     ┆     ┆     ┆     ┆     ┆     ┆     ┆     │\n",
       "│ 264 ┆ 10/ ┆ 10/ ┆ DCA ┆ Dep ┆ Con ┆ Har ┆ nul ┆ 352 ┆ 600 ┆ BEA ┆ nul ┆ nul ┆ nul ┆ nul ┆ nul ┆ BIR ┆ nul ┆ nul ┆ Clo ┆ 10/ ┆ 10/ ┆ 0   ┆ Uns ┆ nul ┆ nul ┆ Uns ┆ Uns ┆ Uns ┆ Uns ┆ Uns ┆ Uns ┆ Uns ┆ Uns ┆ Uns ┆ Uns ┆ Uns ┆ N   ┆ nul ┆ nul ┆ nul ┆ nul ┆ nul ┆ nul ┆ nul ┆ nul ┆ nul ┆ nul ┆ nul ┆ nul ┆ nul ┆ nul │\n",
       "│ 611 ┆ 09/ ┆ 25/ ┆     ┆ art ┆ sum ┆ ass ┆ l   ┆ 09  ┆ BEA ┆ CON ┆ l   ┆ l   ┆ l   ┆ l   ┆ l   ┆ MIN ┆ l   ┆ l   ┆ sed ┆ 25/ ┆ 25/ ┆ Uns ┆ pec ┆ l   ┆ l   ┆ pec ┆ pec ┆ pec ┆ pec ┆ pec ┆ pec ┆ pec ┆ pec ┆ pec ┆ pec ┆ pec ┆     ┆ l   ┆ l   ┆ l   ┆ l   ┆ l   ┆ l   ┆ l   ┆ l   ┆ l   ┆ l   ┆ l   ┆ l   ┆ l   ┆ l   │\n",
       "│ 37  ┆ 201 ┆ 201 ┆     ┆ men ┆ er  ┆ men ┆     ┆     ┆ CON ┆ PKW ┆     ┆     ┆     ┆     ┆     ┆ GHA ┆     ┆     ┆     ┆ 201 ┆ 201 ┆ pec ┆ ifi ┆     ┆     ┆ ifi ┆ ifi ┆ ifi ┆ ifi ┆ ifi ┆ ifi ┆ ifi ┆ ifi ┆ ifi ┆ ifi ┆ ifi ┆     ┆     ┆     ┆     ┆     ┆     ┆     ┆     ┆     ┆     ┆     ┆     ┆     ┆     ┆     │\n",
       "│     ┆ 3   ┆ 3   ┆     ┆ t   ┆ Com ┆ t   ┆     ┆     ┆ PKW ┆ Y   ┆     ┆     ┆     ┆     ┆     ┆ M   ┆     ┆     ┆     ┆ 3   ┆ 3   ┆ ifi ┆ ed  ┆     ┆     ┆ ed  ┆ ed  ┆ ed  ┆ ed  ┆ ed  ┆ ed  ┆ ed  ┆ ed  ┆ ed  ┆ ed  ┆ ed  ┆     ┆     ┆     ┆     ┆     ┆     ┆     ┆     ┆     ┆     ┆     ┆     ┆     ┆     ┆     │\n",
       "│     ┆ 05: ┆ 01: ┆     ┆ of  ┆ pla ┆     ┆     ┆     ┆ Y   ┆     ┆     ┆     ┆     ┆     ┆     ┆     ┆     ┆     ┆     ┆ 02: ┆ 01: ┆ ed  ┆     ┆     ┆     ┆     ┆     ┆     ┆     ┆     ┆     ┆     ┆     ┆     ┆     ┆     ┆     ┆     ┆     ┆     ┆     ┆     ┆     ┆     ┆     ┆     ┆     ┆     ┆     ┆     ┆     │\n",
       "│     ┆ 23: ┆ 06: ┆     ┆ Con ┆ int ┆     ┆     ┆     ┆     ┆     ┆     ┆     ┆     ┆     ┆     ┆     ┆     ┆     ┆     ┆ 43: ┆ 06: ┆     ┆     ┆     ┆     ┆     ┆     ┆     ┆     ┆     ┆     ┆     ┆     ┆     ┆     ┆     ┆     ┆     ┆     ┆     ┆     ┆     ┆     ┆     ┆     ┆     ┆     ┆     ┆     ┆     ┆     │\n",
       "│     ┆ 46  ┆ 41  ┆     ┆ sum ┆     ┆     ┆     ┆     ┆     ┆     ┆     ┆     ┆     ┆     ┆     ┆     ┆     ┆     ┆     ┆ 42  ┆ 41  ┆     ┆     ┆     ┆     ┆     ┆     ┆     ┆     ┆     ┆     ┆     ┆     ┆     ┆     ┆     ┆     ┆     ┆     ┆     ┆     ┆     ┆     ┆     ┆     ┆     ┆     ┆     ┆     ┆     ┆     │\n",
       "│     ┆ PM  ┆ AM  ┆     ┆ er  ┆     ┆     ┆     ┆     ┆     ┆     ┆     ┆     ┆     ┆     ┆     ┆     ┆     ┆     ┆     ┆ PM  ┆ AM  ┆     ┆     ┆     ┆     ┆     ┆     ┆     ┆     ┆     ┆     ┆     ┆     ┆     ┆     ┆     ┆     ┆     ┆     ┆     ┆     ┆     ┆     ┆     ┆     ┆     ┆     ┆     ┆     ┆     ┆     │\n",
       "│     ┆     ┆     ┆     ┆ Aff ┆     ┆     ┆     ┆     ┆     ┆     ┆     ┆     ┆     ┆     ┆     ┆     ┆     ┆     ┆     ┆     ┆     ┆     ┆     ┆     ┆     ┆     ┆     ┆     ┆     ┆     ┆     ┆     ┆     ┆     ┆     ┆     ┆     ┆     ┆     ┆     ┆     ┆     ┆     ┆     ┆     ┆     ┆     ┆     ┆     ┆     ┆     │\n",
       "│     ┆     ┆     ┆     ┆ air ┆     ┆     ┆     ┆     ┆     ┆     ┆     ┆     ┆     ┆     ┆     ┆     ┆     ┆     ┆     ┆     ┆     ┆     ┆     ┆     ┆     ┆     ┆     ┆     ┆     ┆     ┆     ┆     ┆     ┆     ┆     ┆     ┆     ┆     ┆     ┆     ┆     ┆     ┆     ┆     ┆     ┆     ┆     ┆     ┆     ┆     ┆     │\n",
       "│     ┆     ┆     ┆     ┆ s   ┆     ┆     ┆     ┆     ┆     ┆     ┆     ┆     ┆     ┆     ┆     ┆     ┆     ┆     ┆     ┆     ┆     ┆     ┆     ┆     ┆     ┆     ┆     ┆     ┆     ┆     ┆     ┆     ┆     ┆     ┆     ┆     ┆     ┆     ┆     ┆     ┆     ┆     ┆     ┆     ┆     ┆     ┆     ┆     ┆     ┆     ┆     │\n",
       "│ 264 ┆ 10/ ┆ 10/ ┆ DCA ┆ Dep ┆ Con ┆ Har ┆ nul ┆ 410 ┆ 795 ┆ MAL ┆ nul ┆ nul ┆ nul ┆ nul ┆ nul ┆ FLO ┆ nul ┆ nul ┆ Clo ┆ 10/ ┆ 10/ ┆ 0   ┆ Uns ┆ nul ┆ nul ┆ Uns ┆ Uns ┆ Uns ┆ Uns ┆ Uns ┆ Uns ┆ Uns ┆ Uns ┆ Uns ┆ Uns ┆ Uns ┆ N   ┆ nul ┆ nul ┆ nul ┆ nul ┆ nul ┆ nul ┆ nul ┆ nul ┆ nul ┆ nul ┆ nul ┆ nul ┆ nul ┆ nul │\n",
       "│ 592 ┆ 08/ ┆ 24/ ┆     ┆ art ┆ sum ┆ ass ┆ l   ┆ 42  ┆ 3   ┆ L   ┆ l   ┆ l   ┆ l   ┆ l   ┆ l   ┆ REN ┆ l   ┆ l   ┆ sed ┆ 24/ ┆ 24/ ┆ Uns ┆ pec ┆ l   ┆ l   ┆ pec ┆ pec ┆ pec ┆ pec ┆ pec ┆ pec ┆ pec ┆ pec ┆ pec ┆ pec ┆ pec ┆     ┆ l   ┆ l   ┆ l   ┆ l   ┆ l   ┆ l   ┆ l   ┆ l   ┆ l   ┆ l   ┆ l   ┆ l   ┆ l   ┆ l   │\n",
       "│ 44  ┆ 201 ┆ 201 ┆     ┆ men ┆ er  ┆ men ┆     ┆     ┆ MAL ┆ ROA ┆     ┆     ┆     ┆     ┆     ┆ CE  ┆     ┆     ┆     ┆ 201 ┆ 201 ┆ pec ┆ ifi ┆     ┆     ┆ ifi ┆ ifi ┆ ifi ┆ ifi ┆ ifi ┆ ifi ┆ ifi ┆ ifi ┆ ifi ┆ ifi ┆ ifi ┆     ┆     ┆     ┆     ┆     ┆     ┆     ┆     ┆     ┆     ┆     ┆     ┆     ┆     ┆     │\n",
       "│     ┆ 3   ┆ 3   ┆     ┆ t   ┆ Com ┆ t   ┆     ┆     ┆ L   ┆ D   ┆     ┆     ┆     ┆     ┆     ┆     ┆     ┆     ┆     ┆ 3   ┆ 3   ┆ ifi ┆ ed  ┆     ┆     ┆ ed  ┆ ed  ┆ ed  ┆ ed  ┆ ed  ┆ ed  ┆ ed  ┆ ed  ┆ ed  ┆ ed  ┆ ed  ┆     ┆     ┆     ┆     ┆     ┆     ┆     ┆     ┆     ┆     ┆     ┆     ┆     ┆     ┆     │\n",
       "│     ┆ 04: ┆ 01: ┆     ┆ of  ┆ pla ┆     ┆     ┆     ┆ ROA ┆     ┆     ┆     ┆     ┆     ┆     ┆     ┆     ┆     ┆     ┆ 04: ┆ 01: ┆ ed  ┆     ┆     ┆     ┆     ┆     ┆     ┆     ┆     ┆     ┆     ┆     ┆     ┆     ┆     ┆     ┆     ┆     ┆     ┆     ┆     ┆     ┆     ┆     ┆     ┆     ┆     ┆     ┆     ┆     │\n",
       "│     ┆ 48: ┆ 07: ┆     ┆ Con ┆ int ┆     ┆     ┆     ┆ D   ┆     ┆     ┆     ┆     ┆     ┆     ┆     ┆     ┆     ┆     ┆ 32: ┆ 07: ┆     ┆     ┆     ┆     ┆     ┆     ┆     ┆     ┆     ┆     ┆     ┆     ┆     ┆     ┆     ┆     ┆     ┆     ┆     ┆     ┆     ┆     ┆     ┆     ┆     ┆     ┆     ┆     ┆     ┆     │\n",
       "│     ┆ 28  ┆ 22  ┆     ┆ sum ┆     ┆     ┆     ┆     ┆     ┆     ┆     ┆     ┆     ┆     ┆     ┆     ┆     ┆     ┆     ┆ 32  ┆ 22  ┆     ┆     ┆     ┆     ┆     ┆     ┆     ┆     ┆     ┆     ┆     ┆     ┆     ┆     ┆     ┆     ┆     ┆     ┆     ┆     ┆     ┆     ┆     ┆     ┆     ┆     ┆     ┆     ┆     ┆     │\n",
       "│     ┆ PM  ┆ AM  ┆     ┆ er  ┆     ┆     ┆     ┆     ┆     ┆     ┆     ┆     ┆     ┆     ┆     ┆     ┆     ┆     ┆     ┆ PM  ┆ AM  ┆     ┆     ┆     ┆     ┆     ┆     ┆     ┆     ┆     ┆     ┆     ┆     ┆     ┆     ┆     ┆     ┆     ┆     ┆     ┆     ┆     ┆     ┆     ┆     ┆     ┆     ┆     ┆     ┆     ┆     │\n",
       "│     ┆     ┆     ┆     ┆ Aff ┆     ┆     ┆     ┆     ┆     ┆     ┆     ┆     ┆     ┆     ┆     ┆     ┆     ┆     ┆     ┆     ┆     ┆     ┆     ┆     ┆     ┆     ┆     ┆     ┆     ┆     ┆     ┆     ┆     ┆     ┆     ┆     ┆     ┆     ┆     ┆     ┆     ┆     ┆     ┆     ┆     ┆     ┆     ┆     ┆     ┆     ┆     │\n",
       "│     ┆     ┆     ┆     ┆ air ┆     ┆     ┆     ┆     ┆     ┆     ┆     ┆     ┆     ┆     ┆     ┆     ┆     ┆     ┆     ┆     ┆     ┆     ┆     ┆     ┆     ┆     ┆     ┆     ┆     ┆     ┆     ┆     ┆     ┆     ┆     ┆     ┆     ┆     ┆     ┆     ┆     ┆     ┆     ┆     ┆     ┆     ┆     ┆     ┆     ┆     ┆     │\n",
       "│     ┆     ┆     ┆     ┆ s   ┆     ┆     ┆     ┆     ┆     ┆     ┆     ┆     ┆     ┆     ┆     ┆     ┆     ┆     ┆     ┆     ┆     ┆     ┆     ┆     ┆     ┆     ┆     ┆     ┆     ┆     ┆     ┆     ┆     ┆     ┆     ┆     ┆     ┆     ┆     ┆     ┆     ┆     ┆     ┆     ┆     ┆     ┆     ┆     ┆     ┆     ┆     │\n",
       "└─────┴─────┴─────┴─────┴─────┴─────┴─────┴─────┴─────┴─────┴─────┴─────┴─────┴─────┴─────┴─────┴─────┴─────┴─────┴─────┴─────┴─────┴─────┴─────┴─────┴─────┴─────┴─────┴─────┴─────┴─────┴─────┴─────┴─────┴─────┴─────┴─────┴─────┴─────┴─────┴─────┴─────┴─────┴─────┴─────┴─────┴─────┴─────┴─────┴─────┴─────┴─────┘"
      ]
     },
     "execution_count": 23,
     "metadata": {},
     "output_type": "execute_result"
    }
   ],
   "source": [
    "requests.filter(is_far)"
   ]
  },
  {
   "cell_type": "code",
   "execution_count": 24,
   "metadata": {},
   "outputs": [
    {
     "data": {
      "text/html": [
       "<div><style>\n",
       ".dataframe > thead > tr,\n",
       ".dataframe > tbody > tr {\n",
       "  text-align: right;\n",
       "  white-space: pre-wrap;\n",
       "}\n",
       "</style>\n",
       "<small>shape: (14, 3)</small><table border=\"1\" class=\"dataframe\"><thead><tr><th>Incident Zip</th><th>Descriptor</th><th>City</th></tr><tr><td>str</td><td>str</td><td>str</td></tr></thead><tbody><tr><td>&quot;23502&quot;</td><td>&quot;Harassment&quot;</td><td>&quot;NORFOLK&quot;</td></tr><tr><td>&quot;23541&quot;</td><td>&quot;Harassment&quot;</td><td>&quot;NORFOLK&quot;</td></tr><tr><td>&quot;29616&quot;</td><td>&quot;Debt Not Owed&quot;</td><td>&quot;GREENVILLE&quot;</td></tr><tr><td>&quot;35209&quot;</td><td>&quot;Harassment&quot;</td><td>&quot;BIRMINGHAM&quot;</td></tr><tr><td>&quot;41042&quot;</td><td>&quot;Harassment&quot;</td><td>&quot;FLORENCE&quot;</td></tr><tr><td>&hellip;</td><td>&hellip;</td><td>&hellip;</td></tr><tr><td>&quot;77092&quot;</td><td>&quot;False Advertising&quot;</td><td>&quot;HOUSTON&quot;</td></tr><tr><td>&quot;90010&quot;</td><td>&quot;Billing Dispute&quot;</td><td>&quot;LOS ANGELES&quot;</td></tr><tr><td>&quot;92123&quot;</td><td>&quot;Harassment&quot;</td><td>&quot;SAN DIEGO&quot;</td></tr><tr><td>&quot;92123&quot;</td><td>&quot;Billing Dispute&quot;</td><td>&quot;SAN DIEGO&quot;</td></tr><tr><td>&quot;NA&quot;</td><td>&quot;Driver Complaint&quot;</td><td>&quot;NA&quot;</td></tr></tbody></table></div>"
      ],
      "text/plain": [
       "shape: (14, 3)\n",
       "┌──────────────┬───────────────────┬─────────────┐\n",
       "│ Incident Zip ┆ Descriptor        ┆ City        │\n",
       "│ ---          ┆ ---               ┆ ---         │\n",
       "│ str          ┆ str               ┆ str         │\n",
       "╞══════════════╪═══════════════════╪═════════════╡\n",
       "│ 23502        ┆ Harassment        ┆ NORFOLK     │\n",
       "│ 23541        ┆ Harassment        ┆ NORFOLK     │\n",
       "│ 29616        ┆ Debt Not Owed     ┆ GREENVILLE  │\n",
       "│ 35209        ┆ Harassment        ┆ BIRMINGHAM  │\n",
       "│ 41042        ┆ Harassment        ┆ FLORENCE    │\n",
       "│ …            ┆ …                 ┆ …           │\n",
       "│ 77092        ┆ False Advertising ┆ HOUSTON     │\n",
       "│ 90010        ┆ Billing Dispute   ┆ LOS ANGELES │\n",
       "│ 92123        ┆ Harassment        ┆ SAN DIEGO   │\n",
       "│ 92123        ┆ Billing Dispute   ┆ SAN DIEGO   │\n",
       "│ NA           ┆ Driver Complaint  ┆ NA          │\n",
       "└──────────────┴───────────────────┴─────────────┘"
      ]
     },
     "execution_count": 24,
     "metadata": {},
     "output_type": "execute_result"
    }
   ],
   "source": [
    "requests.filter(is_far) \\\n",
    "    .select(['Incident Zip', 'Descriptor', 'City']) \\\n",
    "    .sort('Incident Zip')"
   ]
  },
  {
   "cell_type": "markdown",
   "metadata": {},
   "source": [
    "Okay, there really are requests coming from LA and Houston! Good to know. Filtering by zip code is probably a bad way to handle this -- we should really be looking at the city instead."
   ]
  },
  {
   "cell_type": "code",
   "execution_count": 25,
   "metadata": {},
   "outputs": [
    {
     "data": {
      "text/html": [
       "<div><style>\n",
       ".dataframe > thead > tr,\n",
       ".dataframe > tbody > tr {\n",
       "  text-align: right;\n",
       "  white-space: pre-wrap;\n",
       "}\n",
       "</style>\n",
       "<small>shape: (102, 2)</small><table border=\"1\" class=\"dataframe\"><thead><tr><th>City</th><th>count</th></tr><tr><td>str</td><td>u32</td></tr></thead><tbody><tr><td>&quot;WOODSIDE&quot;</td><td>609</td></tr><tr><td>&quot;BIRMINGHAM&quot;</td><td>1</td></tr><tr><td>&quot;RICHMOND HILL&quot;</td><td>404</td></tr><tr><td>&quot;EDGEWATER&quot;</td><td>1</td></tr><tr><td>&quot;FLORENCE&quot;</td><td>1</td></tr><tr><td>&hellip;</td><td>&hellip;</td></tr><tr><td>&quot;BLOOMIGTON&quot;</td><td>1</td></tr><tr><td>&quot;LAWRENCE&quot;</td><td>1</td></tr><tr><td>&quot;NANUET&quot;</td><td>1</td></tr><tr><td>&quot;BRIARWOOD&quot;</td><td>1</td></tr><tr><td>&quot;ROSEDALE&quot;</td><td>233</td></tr></tbody></table></div>"
      ],
      "text/plain": [
       "shape: (102, 2)\n",
       "┌───────────────┬───────┐\n",
       "│ City          ┆ count │\n",
       "│ ---           ┆ ---   │\n",
       "│ str           ┆ u32   │\n",
       "╞═══════════════╪═══════╡\n",
       "│ WOODSIDE      ┆ 609   │\n",
       "│ BIRMINGHAM    ┆ 1     │\n",
       "│ RICHMOND HILL ┆ 404   │\n",
       "│ EDGEWATER     ┆ 1     │\n",
       "│ FLORENCE      ┆ 1     │\n",
       "│ …             ┆ …     │\n",
       "│ BLOOMIGTON    ┆ 1     │\n",
       "│ LAWRENCE      ┆ 1     │\n",
       "│ NANUET        ┆ 1     │\n",
       "│ BRIARWOOD     ┆ 1     │\n",
       "│ ROSEDALE      ┆ 233   │\n",
       "└───────────────┴───────┘"
      ]
     },
     "execution_count": 25,
     "metadata": {},
     "output_type": "execute_result"
    }
   ],
   "source": [
    "requests['City'].str.to_uppercase().value_counts()"
   ]
  },
  {
   "cell_type": "markdown",
   "metadata": {},
   "source": [
    "It looks like these are legitimate complaints, so we'll just leave them alone."
   ]
  },
  {
   "cell_type": "markdown",
   "metadata": {},
   "source": [
    "# 7.4 Putting it together"
   ]
  },
  {
   "cell_type": "markdown",
   "metadata": {},
   "source": [
    "Here's what we ended up:"
   ]
  },
  {
   "cell_type": "code",
   "execution_count": 26,
   "metadata": {},
   "outputs": [
    {
     "data": {
      "text/html": [
       "<div><style>\n",
       ".dataframe > thead > tr,\n",
       ".dataframe > tbody > tr {\n",
       "  text-align: right;\n",
       "  white-space: pre-wrap;\n",
       "}\n",
       "</style>\n",
       "<small>shape: (247,)</small><table border=\"1\" class=\"dataframe\"><thead><tr><th>Incident Zip</th></tr><tr><td>str</td></tr></thead><tbody><tr><td>&quot;11423&quot;</td></tr><tr><td>&quot;10459&quot;</td></tr><tr><td>&quot;07306&quot;</td></tr><tr><td>&quot;11363&quot;</td></tr><tr><td>&quot;11693&quot;</td></tr><tr><td>&hellip;</td></tr><tr><td>&quot;10468&quot;</td></tr><tr><td>&quot;07093&quot;</td></tr><tr><td>&quot;11004&quot;</td></tr><tr><td>&quot;11416&quot;</td></tr><tr><td>&quot;10304&quot;</td></tr></tbody></table></div>"
      ],
      "text/plain": [
       "shape: (247,)\n",
       "Series: 'Incident Zip' [str]\n",
       "[\n",
       "\t\"11423\"\n",
       "\t\"10459\"\n",
       "\t\"07306\"\n",
       "\t\"11363\"\n",
       "\t\"11693\"\n",
       "\t…\n",
       "\t\"10468\"\n",
       "\t\"07093\"\n",
       "\t\"11004\"\n",
       "\t\"11416\"\n",
       "\t\"10304\"\n",
       "]"
      ]
     },
     "execution_count": 26,
     "metadata": {},
     "output_type": "execute_result"
    }
   ],
   "source": [
    "requests['Incident Zip'].unique()"
   ]
  },
  {
   "cell_type": "markdown",
   "metadata": {},
   "source": [
    "<style>\n",
    "    @font-face {\n",
    "        font-family: \"Computer Modern\";\n",
    "        src: url('http://mirrors.ctan.org/fonts/cm-unicode/fonts/otf/cmunss.otf');\n",
    "    }\n",
    "    div.cell{\n",
    "        width:800px;\n",
    "        margin-left:16% !important;\n",
    "        margin-right:auto;\n",
    "    }\n",
    "    h1 {\n",
    "        font-family: Helvetica, serif;\n",
    "    }\n",
    "    h4{\n",
    "        margin-top:12px;\n",
    "        margin-bottom: 3px;\n",
    "       }\n",
    "    div.text_cell_render{\n",
    "        font-family: Computer Modern, \"Helvetica Neue\", Arial, Helvetica, Geneva, sans-serif;\n",
    "        line-height: 145%;\n",
    "        font-size: 130%;\n",
    "        width:800px;\n",
    "        margin-left:auto;\n",
    "        margin-right:auto;\n",
    "    }\n",
    "    .CodeMirror{\n",
    "            font-family: \"Source Code Pro\", source-code-pro,Consolas, monospace;\n",
    "    }\n",
    "    .text_cell_render h5 {\n",
    "        font-weight: 300;\n",
    "        font-size: 22pt;\n",
    "        color: #4057A1;\n",
    "        font-style: italic;\n",
    "        margin-bottom: .5em;\n",
    "        margin-top: 0.5em;\n",
    "        display: block;\n",
    "    }\n",
    "    \n",
    "    .warning{\n",
    "        color: rgb( 240, 20, 20 )\n",
    "        }  "
   ]
  }
 ],
 "metadata": {
  "kernelspec": {
   "display_name": "venv",
   "language": "python",
   "name": "python3"
  },
  "language_info": {
   "codemirror_mode": {
    "name": "ipython",
    "version": 3
   },
   "file_extension": ".py",
   "mimetype": "text/x-python",
   "name": "python",
   "nbconvert_exporter": "python",
   "pygments_lexer": "ipython3",
   "version": "3.11.1"
  },
  "widgets": {
   "application/vnd.jupyter.widget-state+json": {
    "state": {},
    "version_major": 2,
    "version_minor": 0
   }
  }
 },
 "nbformat": 4,
 "nbformat_minor": 4
}
