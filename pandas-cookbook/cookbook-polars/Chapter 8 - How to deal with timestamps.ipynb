{
 "cells": [
  {
   "cell_type": "code",
   "execution_count": 1,
   "metadata": {},
   "outputs": [],
   "source": [
    "import polars as pl"
   ]
  },
  {
   "cell_type": "markdown",
   "metadata": {},
   "source": [
    "# 8.1 Parsing Unix timestamps"
   ]
  },
  {
   "cell_type": "markdown",
   "metadata": {},
   "source": [
    "It's not obvious how to deal with Unix timestamps in pandas -- it took me quite a while to figure this out. The file we're using here is a popularity-contest file I found on my system at `/var/log/popularity-contest`.\n",
    "\n",
    "Here's an [explanation of how this file works](http://popcon.ubuntu.com/README).\n",
    "\n",
    "I'm going to hope that nothing in it is sensitive :)\n",
    "\n",
    "**IF THE FILE DOES NOT HAVE A HEADER, POLARS INFERS THE SCHEMA FROM THE FIRST LINE**\n",
    "**SINCE FIRST LINE ONLY HAVE 4 FIELDS, IT GIVES AN ERROR FOR THE LINES WITH 5 FIELDS**\n",
    "**I MANUALLY INSERTED A LINE WITH 5 FIELDS AND REMOVE LATER**"
   ]
  },
  {
   "cell_type": "code",
   "execution_count": 2,
   "metadata": {},
   "outputs": [
    {
     "data": {
      "text/html": [
       "<div><style>\n",
       ".dataframe > thead > tr,\n",
       ".dataframe > tbody > tr {\n",
       "  text-align: right;\n",
       "  white-space: pre-wrap;\n",
       "}\n",
       "</style>\n",
       "<small>shape: (2_897, 5)</small><table border=\"1\" class=\"dataframe\"><thead><tr><th>atime</th><th>ctime</th><th>package-name</th><th>mru-program</th><th>tag</th></tr><tr><td>str</td><td>str</td><td>str</td><td>str</td><td>str</td></tr></thead><tbody><tr><td>&quot;1387295797&quot;</td><td>&quot;1367633260&quot;</td><td>&quot;perl-base&quot;</td><td>&quot;/usr/bin/perl&quot;</td><td>null</td></tr><tr><td>&quot;1387295796&quot;</td><td>&quot;1354370480&quot;</td><td>&quot;login&quot;</td><td>&quot;/bin/su&quot;</td><td>null</td></tr><tr><td>&quot;1387295743&quot;</td><td>&quot;1354341275&quot;</td><td>&quot;libtalloc2&quot;</td><td>&quot;/usr/lib/x86_64-linux-gnu/libt…</td><td>null</td></tr><tr><td>&quot;1387295743&quot;</td><td>&quot;1387224204&quot;</td><td>&quot;libwbclient0&quot;</td><td>&quot;/usr/lib/x86_64-linux-gnu/libw…</td><td>&quot;&lt;RECENT-CTIME&gt;&quot;</td></tr><tr><td>&quot;1387295742&quot;</td><td>&quot;1354341253&quot;</td><td>&quot;libselinux1&quot;</td><td>&quot;/lib/x86_64-linux-gnu/libselin…</td><td>null</td></tr><tr><td>&hellip;</td><td>&hellip;</td><td>&hellip;</td><td>&hellip;</td><td>&hellip;</td></tr><tr><td>&quot;0&quot;</td><td>&quot;0&quot;</td><td>&quot;libreadline-dev&quot;</td><td>&quot;&lt;NOFILES&gt;&quot;</td><td>null</td></tr><tr><td>&quot;0&quot;</td><td>&quot;0&quot;</td><td>&quot;notify-osd-icons&quot;</td><td>&quot;&lt;NOFILES&gt;&quot;</td><td>null</td></tr><tr><td>&quot;0&quot;</td><td>&quot;0&quot;</td><td>&quot;python-apt-common&quot;</td><td>&quot;&lt;NOFILES&gt;&quot;</td><td>null</td></tr><tr><td>&quot;0&quot;</td><td>&quot;0&quot;</td><td>&quot;libindicator-messages-status-p…</td><td>&quot;&lt;NOFILES&gt;&quot;</td><td>null</td></tr><tr><td>&quot;0&quot;</td><td>&quot;0&quot;</td><td>&quot;libusbmuxd1&quot;</td><td>&quot;&lt;NOFILES&gt;&quot;</td><td>null</td></tr></tbody></table></div>"
      ],
      "text/plain": [
       "shape: (2_897, 5)\n",
       "┌────────────┬────────────┬───────────────────────────┬───────────────────────────┬────────────────┐\n",
       "│ atime      ┆ ctime      ┆ package-name              ┆ mru-program               ┆ tag            │\n",
       "│ ---        ┆ ---        ┆ ---                       ┆ ---                       ┆ ---            │\n",
       "│ str        ┆ str        ┆ str                       ┆ str                       ┆ str            │\n",
       "╞════════════╪════════════╪═══════════════════════════╪═══════════════════════════╪════════════════╡\n",
       "│ 1387295797 ┆ 1367633260 ┆ perl-base                 ┆ /usr/bin/perl             ┆ null           │\n",
       "│ 1387295796 ┆ 1354370480 ┆ login                     ┆ /bin/su                   ┆ null           │\n",
       "│ 1387295743 ┆ 1354341275 ┆ libtalloc2                ┆ /usr/lib/x86_64-linux-gnu ┆ null           │\n",
       "│            ┆            ┆                           ┆ /libt…                    ┆                │\n",
       "│ 1387295743 ┆ 1387224204 ┆ libwbclient0              ┆ /usr/lib/x86_64-linux-gnu ┆ <RECENT-CTIME> │\n",
       "│            ┆            ┆                           ┆ /libw…                    ┆                │\n",
       "│ 1387295742 ┆ 1354341253 ┆ libselinux1               ┆ /lib/x86_64-linux-gnu/lib ┆ null           │\n",
       "│            ┆            ┆                           ┆ selin…                    ┆                │\n",
       "│ …          ┆ …          ┆ …                         ┆ …                         ┆ …              │\n",
       "│ 0          ┆ 0          ┆ libreadline-dev           ┆ <NOFILES>                 ┆ null           │\n",
       "│ 0          ┆ 0          ┆ notify-osd-icons          ┆ <NOFILES>                 ┆ null           │\n",
       "│ 0          ┆ 0          ┆ python-apt-common         ┆ <NOFILES>                 ┆ null           │\n",
       "│ 0          ┆ 0          ┆ libindicator-messages-sta ┆ <NOFILES>                 ┆ null           │\n",
       "│            ┆            ┆ tus-p…                    ┆                           ┆                │\n",
       "│ 0          ┆ 0          ┆ libusbmuxd1               ┆ <NOFILES>                 ┆ null           │\n",
       "└────────────┴────────────┴───────────────────────────┴───────────────────────────┴────────────────┘"
      ]
     },
     "execution_count": 2,
     "metadata": {},
     "output_type": "execute_result"
    }
   ],
   "source": [
    "popcon = pl.read_csv(\n",
    "    \"./data/popularity-contest.csv\",\n",
    "    skip_rows=1,              \n",
    "    separator=\" \",            \n",
    "    has_header=False\n",
    ").slice(1, -1)         \n",
    "popcon = popcon.rename({\n",
    "    popcon.columns[0]: \"atime\",\n",
    "    popcon.columns[1]: \"ctime\",\n",
    "    popcon.columns[2]: \"package-name\",\n",
    "    popcon.columns[3]: \"mru-program\",\n",
    "    popcon.columns[4]: \"tag\"\n",
    "})\n",
    "popcon"
   ]
  },
  {
   "cell_type": "markdown",
   "metadata": {},
   "source": [
    "The colums are the access time, created time, package name, recently used program, and a tag"
   ]
  },
  {
   "cell_type": "code",
   "execution_count": 3,
   "metadata": {},
   "outputs": [
    {
     "name": "stdout",
     "output_type": "stream",
     "text": [
      "2897\n"
     ]
    }
   ],
   "source": [
    "print(len(popcon)) #2897"
   ]
  },
  {
   "cell_type": "markdown",
   "metadata": {},
   "source": [
    "The magical part about parsing timestamps in pandas is that numpy datetimes are already stored as Unix timestamps. So all we need to do is tell pandas that these integers are actually datetimes -- it doesn't need to do any conversion at all.\n",
    "\n",
    "We need to convert these to ints to start:"
   ]
  },
  {
   "cell_type": "code",
   "execution_count": 4,
   "metadata": {},
   "outputs": [],
   "source": [
    "popcon = popcon.with_columns([\n",
    "    pl.col('atime').cast(pl.Int64),\n",
    "    pl.col('ctime').cast(pl.Int64)\n",
    "])"
   ]
  },
  {
   "cell_type": "markdown",
   "metadata": {},
   "source": [
    "Every numpy array and pandas series has a dtype -- this is usually `int64`, `float64`, or `object`. Some of the time types available are `datetime64[s]`, `datetime64[ms]`, and `datetime64[us]`. There are also `timedelta` types, similarly.\n",
    "\n",
    "We can use the `pd.to_datetime` function to convert our integer timestamps into datetimes. This is a constant-time operation -- we're not actually changing any of the data, just how pandas thinks about it."
   ]
  },
  {
   "cell_type": "code",
   "execution_count": 5,
   "metadata": {},
   "outputs": [],
   "source": [
    "popcon = popcon.with_columns([\n",
    "    pl.from_epoch(pl.col('atime').cast(pl.Int64), time_unit='s'),\n",
    "    pl.from_epoch(pl.col('ctime').cast(pl.Int64), time_unit='s')\n",
    "])"
   ]
  },
  {
   "cell_type": "markdown",
   "metadata": {},
   "source": [
    "If we look at the dtype now, it's `datetime`."
   ]
  },
  {
   "cell_type": "code",
   "execution_count": 6,
   "metadata": {},
   "outputs": [
    {
     "data": {
      "text/plain": [
       "Schema([('atime', Datetime(time_unit='us', time_zone=None)),\n",
       "        ('ctime', Datetime(time_unit='us', time_zone=None)),\n",
       "        ('package-name', String),\n",
       "        ('mru-program', String),\n",
       "        ('tag', String)])"
      ]
     },
     "execution_count": 6,
     "metadata": {},
     "output_type": "execute_result"
    }
   ],
   "source": [
    "popcon.schema"
   ]
  },
  {
   "cell_type": "markdown",
   "metadata": {},
   "source": [
    "So now we can look at our `atime` and `ctime` as dates!"
   ]
  },
  {
   "cell_type": "code",
   "execution_count": 7,
   "metadata": {},
   "outputs": [
    {
     "data": {
      "text/html": [
       "<div><style>\n",
       ".dataframe > thead > tr,\n",
       ".dataframe > tbody > tr {\n",
       "  text-align: right;\n",
       "  white-space: pre-wrap;\n",
       "}\n",
       "</style>\n",
       "<small>shape: (5, 5)</small><table border=\"1\" class=\"dataframe\"><thead><tr><th>atime</th><th>ctime</th><th>package-name</th><th>mru-program</th><th>tag</th></tr><tr><td>datetime[μs]</td><td>datetime[μs]</td><td>str</td><td>str</td><td>str</td></tr></thead><tbody><tr><td>2013-12-17 15:56:37</td><td>2013-05-04 02:07:40</td><td>&quot;perl-base&quot;</td><td>&quot;/usr/bin/perl&quot;</td><td>null</td></tr><tr><td>2013-12-17 15:56:36</td><td>2012-12-01 14:01:20</td><td>&quot;login&quot;</td><td>&quot;/bin/su&quot;</td><td>null</td></tr><tr><td>2013-12-17 15:55:43</td><td>2012-12-01 05:54:35</td><td>&quot;libtalloc2&quot;</td><td>&quot;/usr/lib/x86_64-linux-gnu/libt…</td><td>null</td></tr><tr><td>2013-12-17 15:55:43</td><td>2013-12-16 20:03:24</td><td>&quot;libwbclient0&quot;</td><td>&quot;/usr/lib/x86_64-linux-gnu/libw…</td><td>&quot;&lt;RECENT-CTIME&gt;&quot;</td></tr><tr><td>2013-12-17 15:55:42</td><td>2012-12-01 05:54:13</td><td>&quot;libselinux1&quot;</td><td>&quot;/lib/x86_64-linux-gnu/libselin…</td><td>null</td></tr></tbody></table></div>"
      ],
      "text/plain": [
       "shape: (5, 5)\n",
       "┌─────────────────────┬─────────────────────┬──────────────┬──────────────────────┬────────────────┐\n",
       "│ atime               ┆ ctime               ┆ package-name ┆ mru-program          ┆ tag            │\n",
       "│ ---                 ┆ ---                 ┆ ---          ┆ ---                  ┆ ---            │\n",
       "│ datetime[μs]        ┆ datetime[μs]        ┆ str          ┆ str                  ┆ str            │\n",
       "╞═════════════════════╪═════════════════════╪══════════════╪══════════════════════╪════════════════╡\n",
       "│ 2013-12-17 15:56:37 ┆ 2013-05-04 02:07:40 ┆ perl-base    ┆ /usr/bin/perl        ┆ null           │\n",
       "│ 2013-12-17 15:56:36 ┆ 2012-12-01 14:01:20 ┆ login        ┆ /bin/su              ┆ null           │\n",
       "│ 2013-12-17 15:55:43 ┆ 2012-12-01 05:54:35 ┆ libtalloc2   ┆ /usr/lib/x86_64-linu ┆ null           │\n",
       "│                     ┆                     ┆              ┆ x-gnu/libt…          ┆                │\n",
       "│ 2013-12-17 15:55:43 ┆ 2013-12-16 20:03:24 ┆ libwbclient0 ┆ /usr/lib/x86_64-linu ┆ <RECENT-CTIME> │\n",
       "│                     ┆                     ┆              ┆ x-gnu/libw…          ┆                │\n",
       "│ 2013-12-17 15:55:42 ┆ 2012-12-01 05:54:13 ┆ libselinux1  ┆ /lib/x86_64-linux-gn ┆ null           │\n",
       "│                     ┆                     ┆              ┆ u/libselin…          ┆                │\n",
       "└─────────────────────┴─────────────────────┴──────────────┴──────────────────────┴────────────────┘"
      ]
     },
     "execution_count": 7,
     "metadata": {},
     "output_type": "execute_result"
    }
   ],
   "source": [
    "popcon[:5]"
   ]
  },
  {
   "cell_type": "markdown",
   "metadata": {},
   "source": [
    "Now suppose we want to look at all packages that aren't libraries.\n",
    "\n",
    "First, I want to get rid of everything with timestamp 0. Notice how we can just use a string in this comparison, even though it's actually a timestamp on the inside? That is because pandas is amazing."
   ]
  },
  {
   "cell_type": "code",
   "execution_count": 8,
   "metadata": {},
   "outputs": [],
   "source": [
    "popcon = popcon.filter(\n",
    "    pl.col('atime') > pl.lit('1970-01-01').str.strptime(pl.Datetime, format='%Y-%m-%d')\n",
    ")"
   ]
  },
  {
   "cell_type": "markdown",
   "metadata": {},
   "source": [
    "#HERE\n",
    "Now we can use pandas' magical string abilities to just look at rows where the package name doesn't contain 'lib'."
   ]
  },
  {
   "cell_type": "code",
   "execution_count": 11,
   "metadata": {},
   "outputs": [],
   "source": [
    "nonlibraries = popcon.filter(~pl.col('package-name').str.contains('lib'))"
   ]
  },
  {
   "cell_type": "code",
   "execution_count": 14,
   "metadata": {},
   "outputs": [
    {
     "data": {
      "text/html": [
       "<div><style>\n",
       ".dataframe > thead > tr,\n",
       ".dataframe > tbody > tr {\n",
       "  text-align: right;\n",
       "  white-space: pre-wrap;\n",
       "}\n",
       "</style>\n",
       "<small>shape: (10, 5)</small><table border=\"1\" class=\"dataframe\"><thead><tr><th>atime</th><th>ctime</th><th>package-name</th><th>mru-program</th><th>tag</th></tr><tr><td>datetime[μs]</td><td>datetime[μs]</td><td>str</td><td>str</td><td>str</td></tr></thead><tbody><tr><td>2013-12-17 04:55:39</td><td>2013-12-17 04:55:42</td><td>&quot;ddd&quot;</td><td>&quot;/usr/bin/ddd&quot;</td><td>&quot;&lt;RECENT-CTIME&gt;&quot;</td></tr><tr><td>2013-12-16 20:03:20</td><td>2013-12-16 20:05:13</td><td>&quot;nodejs&quot;</td><td>&quot;/usr/bin/npm&quot;</td><td>&quot;&lt;RECENT-CTIME&gt;&quot;</td></tr><tr><td>2013-12-16 20:03:20</td><td>2013-12-16 20:05:04</td><td>&quot;thunderbird-locale-en&quot;</td><td>&quot;/usr/lib/thunderbird-addons/ex…</td><td>&quot;&lt;RECENT-CTIME&gt;&quot;</td></tr><tr><td>2013-12-16 20:03:20</td><td>2013-12-16 20:05:04</td><td>&quot;switchboard-plug-keyboard&quot;</td><td>&quot;/usr/lib/plugs/pantheon/keyboa…</td><td>&quot;&lt;RECENT-CTIME&gt;&quot;</td></tr><tr><td>2013-12-16 20:08:27</td><td>2013-12-16 20:05:03</td><td>&quot;software-center&quot;</td><td>&quot;/usr/sbin/update-software-cent…</td><td>&quot;&lt;RECENT-CTIME&gt;&quot;</td></tr><tr><td>2013-12-16 20:03:20</td><td>2013-12-16 20:05:00</td><td>&quot;samba-common-bin&quot;</td><td>&quot;/usr/bin/net.samba3&quot;</td><td>&quot;&lt;RECENT-CTIME&gt;&quot;</td></tr><tr><td>2013-12-16 20:08:25</td><td>2013-12-16 20:04:59</td><td>&quot;postgresql-client-9.1&quot;</td><td>&quot;/usr/lib/postgresql/9.1/bin/ps…</td><td>&quot;&lt;RECENT-CTIME&gt;&quot;</td></tr><tr><td>2013-12-16 20:08:23</td><td>2013-12-16 20:04:58</td><td>&quot;postgresql-9.1&quot;</td><td>&quot;/usr/lib/postgresql/9.1/bin/po…</td><td>&quot;&lt;RECENT-CTIME&gt;&quot;</td></tr><tr><td>2013-12-16 20:03:20</td><td>2013-12-16 20:04:55</td><td>&quot;php5-dev&quot;</td><td>&quot;/usr/include/php5/main/snprint…</td><td>&quot;&lt;RECENT-CTIME&gt;&quot;</td></tr><tr><td>2013-12-16 20:03:20</td><td>2013-12-16 20:04:54</td><td>&quot;php-pear&quot;</td><td>&quot;/usr/share/php/XML/Util.php&quot;</td><td>&quot;&lt;RECENT-CTIME&gt;&quot;</td></tr></tbody></table></div>"
      ],
      "text/plain": [
       "shape: (10, 5)\n",
       "┌──────────────┬──────────────────────┬─────────────────────┬─────────────────────┬────────────────┐\n",
       "│ atime        ┆ ctime                ┆ package-name        ┆ mru-program         ┆ tag            │\n",
       "│ ---          ┆ ---                  ┆ ---                 ┆ ---                 ┆ ---            │\n",
       "│ datetime[μs] ┆ datetime[μs]         ┆ str                 ┆ str                 ┆ str            │\n",
       "╞══════════════╪══════════════════════╪═════════════════════╪═════════════════════╪════════════════╡\n",
       "│ 2013-12-17   ┆ 2013-12-17 04:55:42  ┆ ddd                 ┆ /usr/bin/ddd        ┆ <RECENT-CTIME> │\n",
       "│ 04:55:39     ┆                      ┆                     ┆                     ┆                │\n",
       "│ 2013-12-16   ┆ 2013-12-16 20:05:13  ┆ nodejs              ┆ /usr/bin/npm        ┆ <RECENT-CTIME> │\n",
       "│ 20:03:20     ┆                      ┆                     ┆                     ┆                │\n",
       "│ 2013-12-16   ┆ 2013-12-16 20:05:04  ┆ thunderbird-locale- ┆ /usr/lib/thunderbir ┆ <RECENT-CTIME> │\n",
       "│ 20:03:20     ┆                      ┆ en                  ┆ d-addons/ex…        ┆                │\n",
       "│ 2013-12-16   ┆ 2013-12-16 20:05:04  ┆ switchboard-plug-ke ┆ /usr/lib/plugs/pant ┆ <RECENT-CTIME> │\n",
       "│ 20:03:20     ┆                      ┆ yboard              ┆ heon/keyboa…        ┆                │\n",
       "│ 2013-12-16   ┆ 2013-12-16 20:05:03  ┆ software-center     ┆ /usr/sbin/update-so ┆ <RECENT-CTIME> │\n",
       "│ 20:08:27     ┆                      ┆                     ┆ ftware-cent…        ┆                │\n",
       "│ 2013-12-16   ┆ 2013-12-16 20:05:00  ┆ samba-common-bin    ┆ /usr/bin/net.samba3 ┆ <RECENT-CTIME> │\n",
       "│ 20:03:20     ┆                      ┆                     ┆                     ┆                │\n",
       "│ 2013-12-16   ┆ 2013-12-16 20:04:59  ┆ postgresql-client-9 ┆ /usr/lib/postgresql ┆ <RECENT-CTIME> │\n",
       "│ 20:08:25     ┆                      ┆ .1                  ┆ /9.1/bin/ps…        ┆                │\n",
       "│ 2013-12-16   ┆ 2013-12-16 20:04:58  ┆ postgresql-9.1      ┆ /usr/lib/postgresql ┆ <RECENT-CTIME> │\n",
       "│ 20:08:23     ┆                      ┆                     ┆ /9.1/bin/po…        ┆                │\n",
       "│ 2013-12-16   ┆ 2013-12-16 20:04:55  ┆ php5-dev            ┆ /usr/include/php5/m ┆ <RECENT-CTIME> │\n",
       "│ 20:03:20     ┆                      ┆                     ┆ ain/snprint…        ┆                │\n",
       "│ 2013-12-16   ┆ 2013-12-16 20:04:54  ┆ php-pear            ┆ /usr/share/php/XML/ ┆ <RECENT-CTIME> │\n",
       "│ 20:03:20     ┆                      ┆                     ┆ Util.php            ┆                │\n",
       "└──────────────┴──────────────────────┴─────────────────────┴─────────────────────┴────────────────┘"
      ]
     },
     "execution_count": 14,
     "metadata": {},
     "output_type": "execute_result"
    }
   ],
   "source": [
    "nonlibraries.sort(by='ctime', descending=True)[:10]"
   ]
  },
  {
   "cell_type": "markdown",
   "metadata": {},
   "source": [
    "Okay, cool, it says that I I installed ddd recently. And postgresql! I remember installing those things. Neat."
   ]
  },
  {
   "cell_type": "markdown",
   "metadata": {},
   "source": [
    "The whole message here is that if you have a timestamp in seconds or milliseconds or nanoseconds, then you can just \"cast\" it to a `'datetime64[the-right-thing]'` and pandas/numpy will take care of the rest."
   ]
  },
  {
   "cell_type": "markdown",
   "metadata": {},
   "source": [
    "<style>\n",
    "    @font-face {\n",
    "        font-family: \"Computer Modern\";\n",
    "        src: url('http://mirrors.ctan.org/fonts/cm-unicode/fonts/otf/cmunss.otf');\n",
    "    }\n",
    "    div.cell{\n",
    "        width:800px;\n",
    "        margin-left:16% !important;\n",
    "        margin-right:auto;\n",
    "    }\n",
    "    h1 {\n",
    "        font-family: Helvetica, serif;\n",
    "    }\n",
    "    h4{\n",
    "        margin-top:12px;\n",
    "        margin-bottom: 3px;\n",
    "       }\n",
    "    div.text_cell_render{\n",
    "        font-family: Computer Modern, \"Helvetica Neue\", Arial, Helvetica, Geneva, sans-serif;\n",
    "        line-height: 145%;\n",
    "        font-size: 130%;\n",
    "        width:800px;\n",
    "        margin-left:auto;\n",
    "        margin-right:auto;\n",
    "    }\n",
    "    .CodeMirror{\n",
    "            font-family: \"Source Code Pro\", source-code-pro,Consolas, monospace;\n",
    "    }\n",
    "    .text_cell_render h5 {\n",
    "        font-weight: 300;\n",
    "        font-size: 22pt;\n",
    "        color: #4057A1;\n",
    "        font-style: italic;\n",
    "        margin-bottom: .5em;\n",
    "        margin-top: 0.5em;\n",
    "        display: block;\n",
    "    }\n",
    "    \n",
    "    .warning{\n",
    "        color: rgb( 240, 20, 20 )\n",
    "        }  "
   ]
  }
 ],
 "metadata": {
  "kernelspec": {
   "display_name": "venv",
   "language": "python",
   "name": "python3"
  },
  "language_info": {
   "codemirror_mode": {
    "name": "ipython",
    "version": 3
   },
   "file_extension": ".py",
   "mimetype": "text/x-python",
   "name": "python",
   "nbconvert_exporter": "python",
   "pygments_lexer": "ipython3",
   "version": "3.11.1"
  },
  "widgets": {
   "application/vnd.jupyter.widget-state+json": {
    "state": {},
    "version_major": 2,
    "version_minor": 0
   }
  }
 },
 "nbformat": 4,
 "nbformat_minor": 4
}
