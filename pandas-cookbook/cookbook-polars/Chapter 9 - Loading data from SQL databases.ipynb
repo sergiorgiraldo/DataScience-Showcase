{
 "cells": [
  {
   "cell_type": "code",
   "execution_count": 1,
   "metadata": {},
   "outputs": [],
   "source": [
    "import polars as pl\n",
    "import sqlite3\n",
    "import sqlalchemy"
   ]
  },
  {
   "cell_type": "markdown",
   "metadata": {},
   "source": [
    "# 9.1 Reading data from SQL databases"
   ]
  },
  {
   "cell_type": "markdown",
   "metadata": {},
   "source": [
    "So far we've only talked about reading data from CSV files. That's a pretty common way to store data, but there are many others! Pandas can read from HTML, JSON, SQL, Excel (!!!), HDF5, Stata, and a few other things. In this chapter we'll talk about reading data from SQL databases.\n",
    "\n",
    "You can read data from a SQL database using the `pd.read_sql` function. `read_sql` will automatically convert SQL column names to DataFrame column names.\n",
    "\n",
    "`read_sql` takes 2 arguments: a `SELECT` statement, and a database connection object. This is great because it means you can read from *any* kind of SQL database -- it doesn't matter if it's MySQL, SQLite, PostgreSQL, or something else.\n",
    "\n",
    "This example reads from a SQLite database, but any other database would work the same way."
   ]
  },
  {
   "cell_type": "code",
   "execution_count": 2,
   "metadata": {},
   "outputs": [
    {
     "data": {
      "text/html": [
       "<div><style>\n",
       ".dataframe > thead > tr,\n",
       ".dataframe > tbody > tr {\n",
       "  text-align: right;\n",
       "  white-space: pre-wrap;\n",
       "}\n",
       "</style>\n",
       "<small>shape: (3, 3)</small><table border=\"1\" class=\"dataframe\"><thead><tr><th>id</th><th>date_time</th><th>temp</th></tr><tr><td>i64</td><td>str</td><td>f64</td></tr></thead><tbody><tr><td>1</td><td>&quot;2012-01-01 00:00:00&quot;</td><td>-1.8</td></tr><tr><td>2</td><td>&quot;2012-01-01 01:00:00&quot;</td><td>-1.8</td></tr><tr><td>3</td><td>&quot;2012-01-01 02:00:00&quot;</td><td>-1.8</td></tr></tbody></table></div>"
      ],
      "text/plain": [
       "shape: (3, 3)\n",
       "┌─────┬─────────────────────┬──────┐\n",
       "│ id  ┆ date_time           ┆ temp │\n",
       "│ --- ┆ ---                 ┆ ---  │\n",
       "│ i64 ┆ str                 ┆ f64  │\n",
       "╞═════╪═════════════════════╪══════╡\n",
       "│ 1   ┆ 2012-01-01 00:00:00 ┆ -1.8 │\n",
       "│ 2   ┆ 2012-01-01 01:00:00 ┆ -1.8 │\n",
       "│ 3   ┆ 2012-01-01 02:00:00 ┆ -1.8 │\n",
       "└─────┴─────────────────────┴──────┘"
      ]
     },
     "execution_count": 2,
     "metadata": {},
     "output_type": "execute_result"
    }
   ],
   "source": [
    "con = sqlite3.connect(\"./data/weather_2012.sqlite\")\n",
    "df = pl.read_database(query=\"SELECT * from weather_2012 LIMIT 3\", connection=con)\n",
    "df"
   ]
  },
  {
   "cell_type": "code",
   "execution_count": 4,
   "metadata": {},
   "outputs": [
    {
     "data": {
      "text/plain": [
       "Schema([('id', Int64), ('date_time', String), ('temp', Float64)])"
      ]
     },
     "execution_count": 4,
     "metadata": {},
     "output_type": "execute_result"
    }
   ],
   "source": [
    "df.schema"
   ]
  },
  {
   "cell_type": "markdown",
   "metadata": {},
   "source": [
    "-- NOT APPLICABLE TO POLAR\n",
    "\n",
    "`read_sql` doesn't automatically set the primary key (`id`) to be the index of the dataframe. You can make it do that by adding an `index_col` argument to `read_sql`.\n",
    "\n",
    "If you've used `read_csv` a lot, you may have seen that it has an `index_col` argument as well. This one behaves the same way.\n",
    "\n",
    "-- END NOT APPLICABLE TO POLAR\n",
    "\n",
    "just sort by the column\n"
   ]
  },
  {
   "cell_type": "code",
   "execution_count": 5,
   "metadata": {},
   "outputs": [
    {
     "data": {
      "text/html": [
       "<div><style>\n",
       ".dataframe > thead > tr,\n",
       ".dataframe > tbody > tr {\n",
       "  text-align: right;\n",
       "  white-space: pre-wrap;\n",
       "}\n",
       "</style>\n",
       "<small>shape: (3, 3)</small><table border=\"1\" class=\"dataframe\"><thead><tr><th>id</th><th>date_time</th><th>temp</th></tr><tr><td>i64</td><td>str</td><td>f64</td></tr></thead><tbody><tr><td>1</td><td>&quot;2012-01-01 00:00:00&quot;</td><td>-1.8</td></tr><tr><td>2</td><td>&quot;2012-01-01 01:00:00&quot;</td><td>-1.8</td></tr><tr><td>3</td><td>&quot;2012-01-01 02:00:00&quot;</td><td>-1.8</td></tr></tbody></table></div>"
      ],
      "text/plain": [
       "shape: (3, 3)\n",
       "┌─────┬─────────────────────┬──────┐\n",
       "│ id  ┆ date_time           ┆ temp │\n",
       "│ --- ┆ ---                 ┆ ---  │\n",
       "│ i64 ┆ str                 ┆ f64  │\n",
       "╞═════╪═════════════════════╪══════╡\n",
       "│ 1   ┆ 2012-01-01 00:00:00 ┆ -1.8 │\n",
       "│ 2   ┆ 2012-01-01 01:00:00 ┆ -1.8 │\n",
       "│ 3   ┆ 2012-01-01 02:00:00 ┆ -1.8 │\n",
       "└─────┴─────────────────────┴──────┘"
      ]
     },
     "execution_count": 5,
     "metadata": {},
     "output_type": "execute_result"
    }
   ],
   "source": [
    "df = pl.read_database(query=\"SELECT * from weather_2012 LIMIT 3\", connection=con)\n",
    "df = df.set_sorted(\"id\")\n",
    "df"
   ]
  },
  {
   "cell_type": "markdown",
   "metadata": {},
   "source": [
    "# 9.2 Writing to a SQLite database"
   ]
  },
  {
   "cell_type": "markdown",
   "metadata": {},
   "source": [
    "Pandas has a `write_frame` function which creates a database table from a dataframe. Right now this only works for SQLite databases. Let's use it to move our 2012 weather data into SQL.\n",
    "\n",
    "You'll notice that this function is in `pd.io.sql`. There are a ton of useful functions for reading and writing various kind of data in `pd.io`, and it's worth spending some time exploring them. ([see the documentation!](http://pandas.pydata.org/pandas-docs/stable/io.html))"
   ]
  },
  {
   "cell_type": "code",
   "execution_count": 6,
   "metadata": {},
   "outputs": [
    {
     "data": {
      "text/plain": [
       "744"
      ]
     },
     "execution_count": 6,
     "metadata": {},
     "output_type": "execute_result"
    }
   ],
   "source": [
    "#HERE\n",
    "\n",
    "weather_df = pl.read_csv('./data/weather_2012.csv')\n",
    "# con = sqlite3.connect(\"./data/test_db.sqlite\")\n",
    "# con.execute(\"DROP TABLE IF EXISTS weather_2012\")\n",
    "# cur = con.cursor()\n",
    "# cur.execute('select * from foo')\n",
    "# rows = cur.fetchall()\n",
    "# print(rows)\n",
    "# con.close()\n",
    "con2 = sqlite3.connect(\"./data/test_db.sqlite\")\n",
    "weather_df.write_database(\n",
    "    table_name=\"weather_2012\",\n",
    "    connection=\"sqlite:///data/test_db.sqlite\",\n",
    "    if_table_exists=\"replace\"\n",
    ")"
   ]
  },
  {
   "cell_type": "markdown",
   "metadata": {},
   "source": [
    "We can now read from the `weather_2012` table in  `test_db.sqlite`, and we see that we get the same data back:"
   ]
  },
  {
   "cell_type": "code",
   "execution_count": 8,
   "metadata": {},
   "outputs": [
    {
     "data": {
      "text/html": [
       "<div><style>\n",
       ".dataframe > thead > tr,\n",
       ".dataframe > tbody > tr {\n",
       "  text-align: right;\n",
       "  white-space: pre-wrap;\n",
       "}\n",
       "</style>\n",
       "<small>shape: (3, 30)</small><table border=\"1\" class=\"dataframe\"><thead><tr><th>Longitude (x)</th><th>Latitude (y)</th><th>Station Name</th><th>Climate ID</th><th>Date/Time (LST)</th><th>Year</th><th>Month</th><th>Day</th><th>Time (LST)</th><th>Temp (C)</th><th>Temp Flag</th><th>Dew Point Temp (C)</th><th>Dew Point Temp Flag</th><th>Rel Hum (%)</th><th>Rel Hum Flag</th><th>Precip. Amount (mm)</th><th>Precip. Amount Flag</th><th>Wind Dir (10s deg)</th><th>Wind Dir Flag</th><th>Wind Spd (km/h)</th><th>Wind Spd Flag</th><th>Visibility (km)</th><th>Visibility Flag</th><th>Stn Press (kPa)</th><th>Stn Press Flag</th><th>Hmdx</th><th>Hmdx Flag</th><th>Wind Chill</th><th>Wind Chill Flag</th><th>Weather</th></tr><tr><td>f64</td><td>f64</td><td>str</td><td>i64</td><td>str</td><td>i64</td><td>i64</td><td>i64</td><td>str</td><td>f64</td><td>null</td><td>f64</td><td>null</td><td>i64</td><td>null</td><td>null</td><td>null</td><td>i64</td><td>null</td><td>i64</td><td>null</td><td>f64</td><td>null</td><td>f64</td><td>null</td><td>null</td><td>null</td><td>i64</td><td>null</td><td>str</td></tr></thead><tbody><tr><td>-73.75</td><td>45.47</td><td>&quot;MONTREAL/PIERRE ELLIOTT TRUDEA…</td><td>7025250</td><td>&quot;2012-03-01 00:00&quot;</td><td>2012</td><td>3</td><td>1</td><td>&quot;00:00&quot;</td><td>-5.5</td><td>null</td><td>-9.7</td><td>null</td><td>72</td><td>null</td><td>null</td><td>null</td><td>5</td><td>null</td><td>24</td><td>null</td><td>4.0</td><td>null</td><td>100.97</td><td>null</td><td>null</td><td>null</td><td>-13</td><td>null</td><td>&quot;Snow&quot;</td></tr><tr><td>-73.75</td><td>45.47</td><td>&quot;MONTREAL/PIERRE ELLIOTT TRUDEA…</td><td>7025250</td><td>&quot;2012-03-01 01:00&quot;</td><td>2012</td><td>3</td><td>1</td><td>&quot;01:00&quot;</td><td>-5.7</td><td>null</td><td>-8.7</td><td>null</td><td>79</td><td>null</td><td>null</td><td>null</td><td>6</td><td>null</td><td>26</td><td>null</td><td>2.4</td><td>null</td><td>100.87</td><td>null</td><td>null</td><td>null</td><td>-13</td><td>null</td><td>&quot;Snow&quot;</td></tr><tr><td>-73.75</td><td>45.47</td><td>&quot;MONTREAL/PIERRE ELLIOTT TRUDEA…</td><td>7025250</td><td>&quot;2012-03-01 02:00&quot;</td><td>2012</td><td>3</td><td>1</td><td>&quot;02:00&quot;</td><td>-5.4</td><td>null</td><td>-8.3</td><td>null</td><td>80</td><td>null</td><td>null</td><td>null</td><td>5</td><td>null</td><td>28</td><td>null</td><td>4.8</td><td>null</td><td>100.8</td><td>null</td><td>null</td><td>null</td><td>-13</td><td>null</td><td>&quot;Snow&quot;</td></tr></tbody></table></div>"
      ],
      "text/plain": [
       "shape: (3, 30)\n",
       "┌────────────┬────────────┬────────────┬────────────┬───┬───────────┬───────┬────────────┬─────────┐\n",
       "│ Longitude  ┆ Latitude   ┆ Station    ┆ Climate ID ┆ … ┆ Hmdx Flag ┆ Wind  ┆ Wind Chill ┆ Weather │\n",
       "│ (x)        ┆ (y)        ┆ Name       ┆ ---        ┆   ┆ ---       ┆ Chill ┆ Flag       ┆ ---     │\n",
       "│ ---        ┆ ---        ┆ ---        ┆ i64        ┆   ┆ null      ┆ ---   ┆ ---        ┆ str     │\n",
       "│ f64        ┆ f64        ┆ str        ┆            ┆   ┆           ┆ i64   ┆ null       ┆         │\n",
       "╞════════════╪════════════╪════════════╪════════════╪═══╪═══════════╪═══════╪════════════╪═════════╡\n",
       "│ -73.75     ┆ 45.47      ┆ MONTREAL/P ┆ 7025250    ┆ … ┆ null      ┆ -13   ┆ null       ┆ Snow    │\n",
       "│            ┆            ┆ IERRE      ┆            ┆   ┆           ┆       ┆            ┆         │\n",
       "│            ┆            ┆ ELLIOTT    ┆            ┆   ┆           ┆       ┆            ┆         │\n",
       "│            ┆            ┆ TRUDEA…    ┆            ┆   ┆           ┆       ┆            ┆         │\n",
       "│ -73.75     ┆ 45.47      ┆ MONTREAL/P ┆ 7025250    ┆ … ┆ null      ┆ -13   ┆ null       ┆ Snow    │\n",
       "│            ┆            ┆ IERRE      ┆            ┆   ┆           ┆       ┆            ┆         │\n",
       "│            ┆            ┆ ELLIOTT    ┆            ┆   ┆           ┆       ┆            ┆         │\n",
       "│            ┆            ┆ TRUDEA…    ┆            ┆   ┆           ┆       ┆            ┆         │\n",
       "│ -73.75     ┆ 45.47      ┆ MONTREAL/P ┆ 7025250    ┆ … ┆ null      ┆ -13   ┆ null       ┆ Snow    │\n",
       "│            ┆            ┆ IERRE      ┆            ┆   ┆           ┆       ┆            ┆         │\n",
       "│            ┆            ┆ ELLIOTT    ┆            ┆   ┆           ┆       ┆            ┆         │\n",
       "│            ┆            ┆ TRUDEA…    ┆            ┆   ┆           ┆       ┆            ┆         │\n",
       "└────────────┴────────────┴────────────┴────────────┴───┴───────────┴───────┴────────────┴─────────┘"
      ]
     },
     "execution_count": 8,
     "metadata": {},
     "output_type": "execute_result"
    }
   ],
   "source": [
    "con = sqlite3.connect(\"./data/test_db.sqlite\")\n",
    "df = pl.read_database(query=\"SELECT * from weather_2012 LIMIT 3\", connection=con)\n",
    "df"
   ]
  },
  {
   "cell_type": "markdown",
   "metadata": {},
   "source": [
    "The nice thing about having your data in a database is that you can do arbitrary SQL queries. This is cool especially if you're more familiar with SQL. Here's an example of sorting by the Weather column:"
   ]
  },
  {
   "cell_type": "raw",
   "metadata": {},
   "source": [
    "import psycopg2\n",
    "con = psycopg2.connect(host=\"localhost\")"
   ]
  },
  {
   "cell_type": "markdown",
   "metadata": {},
   "source": [
    "<style>\n",
    "    @font-face {\n",
    "        font-family: \"Computer Modern\";\n",
    "        src: url('http://mirrors.ctan.org/fonts/cm-unicode/fonts/otf/cmunss.otf');\n",
    "    }\n",
    "    div.cell{\n",
    "        width:800px;\n",
    "        margin-left:16% !important;\n",
    "        margin-right:auto;\n",
    "    }\n",
    "    h1 {\n",
    "        font-family: Helvetica, serif;\n",
    "    }\n",
    "    h4{\n",
    "        margin-top:12px;\n",
    "        margin-bottom: 3px;\n",
    "       }\n",
    "    div.text_cell_render{\n",
    "        font-family: Computer Modern, \"Helvetica Neue\", Arial, Helvetica, Geneva, sans-serif;\n",
    "        line-height: 145%;\n",
    "        font-size: 130%;\n",
    "        width:800px;\n",
    "        margin-left:auto;\n",
    "        margin-right:auto;\n",
    "    }\n",
    "    .CodeMirror{\n",
    "            font-family: \"Source Code Pro\", source-code-pro,Consolas, monospace;\n",
    "    }\n",
    "    .text_cell_render h5 {\n",
    "        font-weight: 300;\n",
    "        font-size: 22pt;\n",
    "        color: #4057A1;\n",
    "        font-style: italic;\n",
    "        margin-bottom: .5em;\n",
    "        margin-top: 0.5em;\n",
    "        display: block;\n",
    "    }\n",
    "    \n",
    "    .warning{\n",
    "        color: rgb( 240, 20, 20 )\n",
    "        }  "
   ]
  }
 ],
 "metadata": {
  "kernelspec": {
   "display_name": "venv",
   "language": "python",
   "name": "python3"
  },
  "language_info": {
   "codemirror_mode": {
    "name": "ipython",
    "version": 3
   },
   "file_extension": ".py",
   "mimetype": "text/x-python",
   "name": "python",
   "nbconvert_exporter": "python",
   "pygments_lexer": "ipython3",
   "version": "3.11.1"
  },
  "widgets": {
   "application/vnd.jupyter.widget-state+json": {
    "state": {},
    "version_major": 2,
    "version_minor": 0
   }
  }
 },
 "nbformat": 4,
 "nbformat_minor": 4
}
