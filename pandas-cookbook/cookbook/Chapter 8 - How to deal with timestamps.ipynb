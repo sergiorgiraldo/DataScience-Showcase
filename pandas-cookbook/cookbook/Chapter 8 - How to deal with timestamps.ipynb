{
 "cells": [
  {
   "cell_type": "code",
   "execution_count": 4,
   "metadata": {},
   "outputs": [],
   "source": [
    "import pandas as pd"
   ]
  },
  {
   "cell_type": "markdown",
   "metadata": {},
   "source": [
    "# 8.1 Parsing Unix timestamps"
   ]
  },
  {
   "cell_type": "markdown",
   "metadata": {},
   "source": [
    "It's not obvious how to deal with Unix timestamps in pandas -- it took me quite a while to figure this out. The file we're using here is a popularity-contest file I found on my system at `/var/log/popularity-contest`.\n",
    "\n",
    "Here's an [explanation of how this file works](http://popcon.ubuntu.com/README).\n",
    "\n",
    "I'm going to hope that nothing in it is sensitive :)"
   ]
  },
  {
   "cell_type": "code",
   "execution_count": 5,
   "metadata": {},
   "outputs": [
    {
     "data": {
      "text/plain": [
       "2897"
      ]
     },
     "execution_count": 5,
     "metadata": {},
     "output_type": "execute_result"
    }
   ],
   "source": [
    "# Read it, and remove the last row\n",
    "popcon = pd.read_csv('./data/popularity-contest.csv', sep=' ', )[:-1]\n",
    "popcon.columns = ['atime', 'ctime', 'package-name', 'mru-program', 'tag']\n",
    "len(popcon)"
   ]
  },
  {
   "cell_type": "markdown",
   "metadata": {},
   "source": [
    "The colums are the access time, created time, package name, recently used program, and a tag"
   ]
  },
  {
   "cell_type": "code",
   "execution_count": 7,
   "metadata": {},
   "outputs": [
    {
     "data": {
      "application/vnd.microsoft.datawrangler.viewer.v0+json": {
       "columns": [
        {
         "name": "index",
         "rawType": "int64",
         "type": "integer"
        },
        {
         "name": "atime",
         "rawType": "object",
         "type": "string"
        },
        {
         "name": "ctime",
         "rawType": "object",
         "type": "string"
        },
        {
         "name": "package-name",
         "rawType": "object",
         "type": "string"
        },
        {
         "name": "mru-program",
         "rawType": "object",
         "type": "string"
        },
        {
         "name": "tag",
         "rawType": "object",
         "type": "unknown"
        }
       ],
       "conversionMethod": "pd.DataFrame",
       "ref": "4d94f0be-9447-4f24-ba61-5658cc5e16f9",
       "rows": [
        [
         "0",
         "1387295797",
         "1367633260",
         "perl-base",
         "/usr/bin/perl",
         null
        ],
        [
         "1",
         "1387295796",
         "1354370480",
         "login",
         "/bin/su",
         null
        ],
        [
         "2",
         "1387295743",
         "1354341275",
         "libtalloc2",
         "/usr/lib/x86_64-linux-gnu/libtalloc.so.2.0.7",
         null
        ],
        [
         "3",
         "1387295743",
         "1387224204",
         "libwbclient0",
         "/usr/lib/x86_64-linux-gnu/libwbclient.so.0",
         "<RECENT-CTIME>"
        ],
        [
         "4",
         "1387295742",
         "1354341253",
         "libselinux1",
         "/lib/x86_64-linux-gnu/libselinux.so.1",
         null
        ],
        [
         "5",
         "1387295742",
         "1354341275",
         "libstdc++6",
         "/usr/lib/x86_64-linux-gnu/libstdc++.so.6.0.16",
         null
        ],
        [
         "6",
         "1387295740",
         "1387224202",
         "libpam-winbind",
         "/lib/x86_64-linux-gnu/security/pam_winbind.so",
         "<RECENT-CTIME>"
        ],
        [
         "7",
         "1387295740",
         "1354341253",
         "libpam-modules",
         "/lib/x86_64-linux-gnu/security/pam_unix.so",
         null
        ],
        [
         "8",
         "1387295740",
         "1354341253",
         "libpam-ck-connector",
         "/lib/security/pam_ck_connector.so",
         null
        ],
        [
         "9",
         "1387295740",
         "1354341253",
         "libpam-cap",
         "/lib/x86_64-linux-gnu/security/pam_cap.so",
         null
        ],
        [
         "10",
         "1387295740",
         "1354341253",
         "libpam0g",
         "/lib/x86_64-linux-gnu/libpam_misc.so.0.82.0",
         null
        ],
        [
         "11",
         "1387295740",
         "1368154184",
         "libpam-gnome-keyring",
         "/lib/security/pam_gnome_keyring.so",
         null
        ],
        [
         "12",
         "1387295738",
         "1354341253",
         "libgcc1",
         "/lib/x86_64-linux-gnu/libgcc_s.so.1",
         null
        ],
        [
         "13",
         "1387295737",
         "1383017433",
         "libc6",
         "/lib/x86_64-linux-gnu/libnsl-2.15.so",
         null
        ],
        [
         "14",
         "1387295737",
         "1354341253",
         "libcap2",
         "/lib/x86_64-linux-gnu/libcap.so.2.22",
         null
        ],
        [
         "15",
         "1387295737",
         "1354341257",
         "libck-connector0",
         "/usr/lib/libck-connector.so.0.0.0",
         null
        ],
        [
         "16",
         "1387295737",
         "1372944527",
         "libdbus-1-3",
         "/lib/x86_64-linux-gnu/libdbus-1.so.3.5.8",
         null
        ],
        [
         "17",
         "1387295733",
         "1385396738",
         "fingerprint-gui",
         "/lib/security/pam_fingerprint-gui.so",
         null
        ],
        [
         "18",
         "1387295732",
         "1354341237",
         "dash",
         "/bin/dash",
         null
        ],
        [
         "19",
         "1387295729",
         "1354341277",
         "popularity-contest",
         "/usr/sbin/popularity-contest",
         null
        ],
        [
         "20",
         "1387295585",
         "1354341256",
         "mlocate",
         "/usr/bin/updatedb.mlocate",
         null
        ],
        [
         "21",
         "1387295585",
         "1385395220",
         "dpkg",
         "/usr/sbin/dpkg-statoverride",
         null
        ],
        [
         "22",
         "1387295585",
         "1354370476",
         "coreutils",
         "/bin/true",
         null
        ],
        [
         "23",
         "1387295585",
         "1354341255",
         "util-linux",
         "/usr/bin/ionice",
         null
        ],
        [
         "24",
         "1387295574",
         "1360434943",
         "upstart",
         "/lib/init/upstart-job",
         null
        ],
        [
         "25",
         "1387295574",
         "1370996606",
         "cups",
         "/usr/lib/cups/notifier/dbus",
         null
        ],
        [
         "26",
         "1387295573",
         "1354341256",
         "findutils",
         "/usr/bin/xargs",
         null
        ],
        [
         "27",
         "1387295573",
         "1354341277",
         "logrotate",
         "/usr/sbin/logrotate",
         null
        ],
        [
         "28",
         "1387295569",
         "1354341253",
         "diffutils",
         "/usr/bin/cmp",
         null
        ],
        [
         "29",
         "1387295569",
         "1386692557",
         "apt",
         "/usr/bin/apt-config",
         null
        ],
        [
         "30",
         "1387295569",
         "1354341255",
         "debianutils",
         "/usr/bin/savelog",
         null
        ],
        [
         "31",
         "1387257106",
         "1354341249",
         "crda",
         "/lib/crda/pubkeys/benh@debian.org.key.pub.pem",
         null
        ],
        [
         "32",
         "1387257106",
         "1354341249",
         "wireless-regdb",
         "/lib/crda/regulatory.bin",
         null
        ],
        [
         "33",
         "1387256228",
         "1385395577",
         "libpulse0",
         "/usr/lib/x86_64-linux-gnu/libpulse-simple.so.0",
         null
        ],
        [
         "34",
         "1387256228",
         "1354341253",
         "libslang2-dev",
         "/usr/lib/x86_64-linux-gnu/libslang.so",
         null
        ],
        [
         "35",
         "1387256228",
         "1354341273",
         "libsdl1.2debian",
         "/usr/lib/x86_64-linux-gnu/libSDL-1.2.so.0",
         null
        ],
        [
         "36",
         "1387256228",
         "1354341253",
         "libslang2",
         "/lib/x86_64-linux-gnu/libslang.so.2",
         null
        ],
        [
         "37",
         "1387256228",
         "1354341273",
         "libcaca0",
         "/usr/lib/x86_64-linux-gnu/libcucul.so.0.99.17",
         null
        ],
        [
         "38",
         "1387256228",
         "1354341273",
         "libsdl1.2-dev",
         "/usr/lib/x86_64-linux-gnu/libSDL.so",
         null
        ],
        [
         "39",
         "1387256228",
         "1385395577",
         "libpulse-dev",
         "/usr/lib/x86_64-linux-gnu/libpulse-simple.so",
         null
        ],
        [
         "40",
         "1387256228",
         "1354341273",
         "libcaca-dev",
         "/usr/lib/x86_64-linux-gnu/libcucul.so",
         null
        ],
        [
         "41",
         "1387256150",
         "1354373335",
         "libncurses5-dev",
         "/usr/lib/x86_64-linux-gnu/libcurses.so",
         null
        ],
        [
         "42",
         "1387256150",
         "1378513435",
         "libegl1-mesa",
         "/usr/lib/x86_64-linux-gnu/mesa-egl/ld.so.conf",
         null
        ],
        [
         "43",
         "1387256150",
         "1383017299",
         "libc-bin",
         "/sbin/ldconfig.real",
         null
        ],
        [
         "44",
         "1387256150",
         "1384664254",
         "libfl-dev",
         "/usr/lib/x86_64-linux-gnu/libfl.so",
         null
        ],
        [
         "45",
         "1387256150",
         "1383017415",
         "libc6-dev",
         "/usr/lib/x86_64-linux-gnu/libc.so",
         null
        ],
        [
         "46",
         "1387256150",
         "1354373334",
         "libtinfo-dev",
         "/usr/lib/x86_64-linux-gnu/libtermcap.so",
         null
        ],
        [
         "47",
         "1387256150",
         "1372944580",
         "libgl1-mesa-glx",
         "/usr/lib/x86_64-linux-gnu/mesa/ld.so.conf",
         null
        ],
        [
         "48",
         "1387256146",
         "1386692618",
         "libreoffice-impress",
         "/usr/lib/libreoffice/share/xdg/impress.desktop",
         null
        ],
        [
         "49",
         "1387256146",
         "1386692620",
         "libreoffice-draw",
         "/usr/lib/libreoffice/share/xdg/draw.desktop",
         null
        ]
       ],
       "shape": {
        "columns": 5,
        "rows": 2892
       }
      },
      "text/html": [
       "<div>\n",
       "<style scoped>\n",
       "    .dataframe tbody tr th:only-of-type {\n",
       "        vertical-align: middle;\n",
       "    }\n",
       "\n",
       "    .dataframe tbody tr th {\n",
       "        vertical-align: top;\n",
       "    }\n",
       "\n",
       "    .dataframe thead th {\n",
       "        text-align: right;\n",
       "    }\n",
       "</style>\n",
       "<table border=\"1\" class=\"dataframe\">\n",
       "  <thead>\n",
       "    <tr style=\"text-align: right;\">\n",
       "      <th></th>\n",
       "      <th>atime</th>\n",
       "      <th>ctime</th>\n",
       "      <th>package-name</th>\n",
       "      <th>mru-program</th>\n",
       "      <th>tag</th>\n",
       "    </tr>\n",
       "  </thead>\n",
       "  <tbody>\n",
       "    <tr>\n",
       "      <th>0</th>\n",
       "      <td>1387295797</td>\n",
       "      <td>1367633260</td>\n",
       "      <td>perl-base</td>\n",
       "      <td>/usr/bin/perl</td>\n",
       "      <td>NaN</td>\n",
       "    </tr>\n",
       "    <tr>\n",
       "      <th>1</th>\n",
       "      <td>1387295796</td>\n",
       "      <td>1354370480</td>\n",
       "      <td>login</td>\n",
       "      <td>/bin/su</td>\n",
       "      <td>NaN</td>\n",
       "    </tr>\n",
       "    <tr>\n",
       "      <th>2</th>\n",
       "      <td>1387295743</td>\n",
       "      <td>1354341275</td>\n",
       "      <td>libtalloc2</td>\n",
       "      <td>/usr/lib/x86_64-linux-gnu/libtalloc.so.2.0.7</td>\n",
       "      <td>NaN</td>\n",
       "    </tr>\n",
       "    <tr>\n",
       "      <th>3</th>\n",
       "      <td>1387295743</td>\n",
       "      <td>1387224204</td>\n",
       "      <td>libwbclient0</td>\n",
       "      <td>/usr/lib/x86_64-linux-gnu/libwbclient.so.0</td>\n",
       "      <td>&lt;RECENT-CTIME&gt;</td>\n",
       "    </tr>\n",
       "    <tr>\n",
       "      <th>4</th>\n",
       "      <td>1387295742</td>\n",
       "      <td>1354341253</td>\n",
       "      <td>libselinux1</td>\n",
       "      <td>/lib/x86_64-linux-gnu/libselinux.so.1</td>\n",
       "      <td>NaN</td>\n",
       "    </tr>\n",
       "    <tr>\n",
       "      <th>...</th>\n",
       "      <td>...</td>\n",
       "      <td>...</td>\n",
       "      <td>...</td>\n",
       "      <td>...</td>\n",
       "      <td>...</td>\n",
       "    </tr>\n",
       "    <tr>\n",
       "      <th>2887</th>\n",
       "      <td>0</td>\n",
       "      <td>0</td>\n",
       "      <td>libgtkhotkey1</td>\n",
       "      <td>&lt;NOFILES&gt;</td>\n",
       "      <td>NaN</td>\n",
       "    </tr>\n",
       "    <tr>\n",
       "      <th>2888</th>\n",
       "      <td>0</td>\n",
       "      <td>0</td>\n",
       "      <td>libvncserver0</td>\n",
       "      <td>&lt;NOFILES&gt;</td>\n",
       "      <td>NaN</td>\n",
       "    </tr>\n",
       "    <tr>\n",
       "      <th>2889</th>\n",
       "      <td>0</td>\n",
       "      <td>0</td>\n",
       "      <td>libspeechd2</td>\n",
       "      <td>&lt;NOFILES&gt;</td>\n",
       "      <td>NaN</td>\n",
       "    </tr>\n",
       "    <tr>\n",
       "      <th>2890</th>\n",
       "      <td>0</td>\n",
       "      <td>0</td>\n",
       "      <td>elementaryos-report-problem-dockitem</td>\n",
       "      <td>&lt;NOFILES&gt;</td>\n",
       "      <td>NaN</td>\n",
       "    </tr>\n",
       "    <tr>\n",
       "      <th>2891</th>\n",
       "      <td>0</td>\n",
       "      <td>0</td>\n",
       "      <td>print-test-page-elementary</td>\n",
       "      <td>&lt;NOFILES&gt;</td>\n",
       "      <td>NaN</td>\n",
       "    </tr>\n",
       "  </tbody>\n",
       "</table>\n",
       "<p>2892 rows × 5 columns</p>\n",
       "</div>"
      ],
      "text/plain": [
       "           atime       ctime                          package-name  \\\n",
       "0     1387295797  1367633260                             perl-base   \n",
       "1     1387295796  1354370480                                 login   \n",
       "2     1387295743  1354341275                            libtalloc2   \n",
       "3     1387295743  1387224204                          libwbclient0   \n",
       "4     1387295742  1354341253                           libselinux1   \n",
       "...          ...         ...                                   ...   \n",
       "2887           0           0                         libgtkhotkey1   \n",
       "2888           0           0                         libvncserver0   \n",
       "2889           0           0                           libspeechd2   \n",
       "2890           0           0  elementaryos-report-problem-dockitem   \n",
       "2891           0           0            print-test-page-elementary   \n",
       "\n",
       "                                       mru-program             tag  \n",
       "0                                    /usr/bin/perl             NaN  \n",
       "1                                          /bin/su             NaN  \n",
       "2     /usr/lib/x86_64-linux-gnu/libtalloc.so.2.0.7             NaN  \n",
       "3       /usr/lib/x86_64-linux-gnu/libwbclient.so.0  <RECENT-CTIME>  \n",
       "4            /lib/x86_64-linux-gnu/libselinux.so.1             NaN  \n",
       "...                                            ...             ...  \n",
       "2887                                     <NOFILES>             NaN  \n",
       "2888                                     <NOFILES>             NaN  \n",
       "2889                                     <NOFILES>             NaN  \n",
       "2890                                     <NOFILES>             NaN  \n",
       "2891                                     <NOFILES>             NaN  \n",
       "\n",
       "[2892 rows x 5 columns]"
      ]
     },
     "execution_count": 7,
     "metadata": {},
     "output_type": "execute_result"
    }
   ],
   "source": [
    "popcon[:-5]"
   ]
  },
  {
   "cell_type": "markdown",
   "metadata": {},
   "source": [
    "The magical part about parsing timestamps in pandas is that numpy datetimes are already stored as Unix timestamps. So all we need to do is tell pandas that these integers are actually datetimes -- it doesn't need to do any conversion at all.\n",
    "\n",
    "We need to convert these to ints to start:"
   ]
  },
  {
   "cell_type": "code",
   "execution_count": 15,
   "metadata": {},
   "outputs": [],
   "source": [
    "popcon['atime'] = popcon['atime'].astype(int)\n",
    "popcon['ctime'] = popcon['ctime'].astype(int)"
   ]
  },
  {
   "cell_type": "markdown",
   "metadata": {},
   "source": [
    "Every numpy array and pandas series has a dtype -- this is usually `int64`, `float64`, or `object`. Some of the time types available are `datetime64[s]`, `datetime64[ms]`, and `datetime64[us]`. There are also `timedelta` types, similarly.\n",
    "\n",
    "We can use the `pd.to_datetime` function to convert our integer timestamps into datetimes. This is a constant-time operation -- we're not actually changing any of the data, just how pandas thinks about it."
   ]
  },
  {
   "cell_type": "code",
   "execution_count": 16,
   "metadata": {},
   "outputs": [],
   "source": [
    "popcon['atime'] = pd.to_datetime(popcon['atime'], unit='s')\n",
    "popcon['ctime'] = pd.to_datetime(popcon['ctime'], unit='s')"
   ]
  },
  {
   "cell_type": "markdown",
   "metadata": {},
   "source": [
    "If we look at the dtype now, it's `<M8[ns]`. As far as I can tell `M8` is secret code for `datetime64`."
   ]
  },
  {
   "cell_type": "code",
   "execution_count": 17,
   "metadata": {},
   "outputs": [
    {
     "data": {
      "text/plain": [
       "dtype('<M8[ns]')"
      ]
     },
     "execution_count": 17,
     "metadata": {},
     "output_type": "execute_result"
    }
   ],
   "source": [
    "popcon['atime'].dtype"
   ]
  },
  {
   "cell_type": "markdown",
   "metadata": {},
   "source": [
    "So now we can look at our `atime` and `ctime` as dates!"
   ]
  },
  {
   "cell_type": "code",
   "execution_count": 18,
   "metadata": {},
   "outputs": [
    {
     "data": {
      "text/html": [
       "<div>\n",
       "<style scoped>\n",
       "    .dataframe tbody tr th:only-of-type {\n",
       "        vertical-align: middle;\n",
       "    }\n",
       "\n",
       "    .dataframe tbody tr th {\n",
       "        vertical-align: top;\n",
       "    }\n",
       "\n",
       "    .dataframe thead th {\n",
       "        text-align: right;\n",
       "    }\n",
       "</style>\n",
       "<table border=\"1\" class=\"dataframe\">\n",
       "  <thead>\n",
       "    <tr style=\"text-align: right;\">\n",
       "      <th></th>\n",
       "      <th>atime</th>\n",
       "      <th>ctime</th>\n",
       "      <th>package-name</th>\n",
       "      <th>mru-program</th>\n",
       "      <th>tag</th>\n",
       "    </tr>\n",
       "  </thead>\n",
       "  <tbody>\n",
       "    <tr>\n",
       "      <th>0</th>\n",
       "      <td>2013-12-17 15:56:37</td>\n",
       "      <td>2013-05-04 02:07:40</td>\n",
       "      <td>perl-base</td>\n",
       "      <td>/usr/bin/perl</td>\n",
       "      <td>NaN</td>\n",
       "    </tr>\n",
       "    <tr>\n",
       "      <th>1</th>\n",
       "      <td>2013-12-17 15:56:36</td>\n",
       "      <td>2012-12-01 14:01:20</td>\n",
       "      <td>login</td>\n",
       "      <td>/bin/su</td>\n",
       "      <td>NaN</td>\n",
       "    </tr>\n",
       "    <tr>\n",
       "      <th>2</th>\n",
       "      <td>2013-12-17 15:55:43</td>\n",
       "      <td>2012-12-01 05:54:35</td>\n",
       "      <td>libtalloc2</td>\n",
       "      <td>/usr/lib/x86_64-linux-gnu/libtalloc.so.2.0.7</td>\n",
       "      <td>NaN</td>\n",
       "    </tr>\n",
       "    <tr>\n",
       "      <th>3</th>\n",
       "      <td>2013-12-17 15:55:43</td>\n",
       "      <td>2013-12-16 20:03:24</td>\n",
       "      <td>libwbclient0</td>\n",
       "      <td>/usr/lib/x86_64-linux-gnu/libwbclient.so.0</td>\n",
       "      <td>&lt;RECENT-CTIME&gt;</td>\n",
       "    </tr>\n",
       "    <tr>\n",
       "      <th>4</th>\n",
       "      <td>2013-12-17 15:55:42</td>\n",
       "      <td>2012-12-01 05:54:13</td>\n",
       "      <td>libselinux1</td>\n",
       "      <td>/lib/x86_64-linux-gnu/libselinux.so.1</td>\n",
       "      <td>NaN</td>\n",
       "    </tr>\n",
       "  </tbody>\n",
       "</table>\n",
       "</div>"
      ],
      "text/plain": [
       "                atime               ctime  package-name  \\\n",
       "0 2013-12-17 15:56:37 2013-05-04 02:07:40     perl-base   \n",
       "1 2013-12-17 15:56:36 2012-12-01 14:01:20         login   \n",
       "2 2013-12-17 15:55:43 2012-12-01 05:54:35    libtalloc2   \n",
       "3 2013-12-17 15:55:43 2013-12-16 20:03:24  libwbclient0   \n",
       "4 2013-12-17 15:55:42 2012-12-01 05:54:13   libselinux1   \n",
       "\n",
       "                                    mru-program             tag  \n",
       "0                                 /usr/bin/perl             NaN  \n",
       "1                                       /bin/su             NaN  \n",
       "2  /usr/lib/x86_64-linux-gnu/libtalloc.so.2.0.7             NaN  \n",
       "3    /usr/lib/x86_64-linux-gnu/libwbclient.so.0  <RECENT-CTIME>  \n",
       "4         /lib/x86_64-linux-gnu/libselinux.so.1             NaN  "
      ]
     },
     "execution_count": 18,
     "metadata": {},
     "output_type": "execute_result"
    }
   ],
   "source": [
    "popcon[:5]"
   ]
  },
  {
   "cell_type": "markdown",
   "metadata": {},
   "source": [
    "Now suppose we want to look at all packages that aren't libraries.\n",
    "\n",
    "First, I want to get rid of everything with timestamp 0. Notice how we can just use a string in this comparison, even though it's actually a timestamp on the inside? That is because pandas is amazing."
   ]
  },
  {
   "cell_type": "code",
   "execution_count": 19,
   "metadata": {},
   "outputs": [],
   "source": [
    "popcon = popcon[popcon['atime'] > '1970-01-01']"
   ]
  },
  {
   "cell_type": "markdown",
   "metadata": {},
   "source": [
    "Now we can use pandas' magical string abilities to just look at rows where the package name doesn't contain 'lib'."
   ]
  },
  {
   "cell_type": "code",
   "execution_count": 20,
   "metadata": {},
   "outputs": [],
   "source": [
    "nonlibraries = popcon[~popcon['package-name'].str.contains('lib')]"
   ]
  },
  {
   "cell_type": "code",
   "execution_count": 21,
   "metadata": {},
   "outputs": [
    {
     "data": {
      "text/html": [
       "<div>\n",
       "<style scoped>\n",
       "    .dataframe tbody tr th:only-of-type {\n",
       "        vertical-align: middle;\n",
       "    }\n",
       "\n",
       "    .dataframe tbody tr th {\n",
       "        vertical-align: top;\n",
       "    }\n",
       "\n",
       "    .dataframe thead th {\n",
       "        text-align: right;\n",
       "    }\n",
       "</style>\n",
       "<table border=\"1\" class=\"dataframe\">\n",
       "  <thead>\n",
       "    <tr style=\"text-align: right;\">\n",
       "      <th></th>\n",
       "      <th>atime</th>\n",
       "      <th>ctime</th>\n",
       "      <th>package-name</th>\n",
       "      <th>mru-program</th>\n",
       "      <th>tag</th>\n",
       "    </tr>\n",
       "  </thead>\n",
       "  <tbody>\n",
       "    <tr>\n",
       "      <th>57</th>\n",
       "      <td>2013-12-17 04:55:39</td>\n",
       "      <td>2013-12-17 04:55:42</td>\n",
       "      <td>ddd</td>\n",
       "      <td>/usr/bin/ddd</td>\n",
       "      <td>&lt;RECENT-CTIME&gt;</td>\n",
       "    </tr>\n",
       "    <tr>\n",
       "      <th>450</th>\n",
       "      <td>2013-12-16 20:03:20</td>\n",
       "      <td>2013-12-16 20:05:13</td>\n",
       "      <td>nodejs</td>\n",
       "      <td>/usr/bin/npm</td>\n",
       "      <td>&lt;RECENT-CTIME&gt;</td>\n",
       "    </tr>\n",
       "    <tr>\n",
       "      <th>454</th>\n",
       "      <td>2013-12-16 20:03:20</td>\n",
       "      <td>2013-12-16 20:05:04</td>\n",
       "      <td>switchboard-plug-keyboard</td>\n",
       "      <td>/usr/lib/plugs/pantheon/keyboard/options.txt</td>\n",
       "      <td>&lt;RECENT-CTIME&gt;</td>\n",
       "    </tr>\n",
       "    <tr>\n",
       "      <th>445</th>\n",
       "      <td>2013-12-16 20:03:20</td>\n",
       "      <td>2013-12-16 20:05:04</td>\n",
       "      <td>thunderbird-locale-en</td>\n",
       "      <td>/usr/lib/thunderbird-addons/extensions/langpac...</td>\n",
       "      <td>&lt;RECENT-CTIME&gt;</td>\n",
       "    </tr>\n",
       "    <tr>\n",
       "      <th>396</th>\n",
       "      <td>2013-12-16 20:08:27</td>\n",
       "      <td>2013-12-16 20:05:03</td>\n",
       "      <td>software-center</td>\n",
       "      <td>/usr/sbin/update-software-center</td>\n",
       "      <td>&lt;RECENT-CTIME&gt;</td>\n",
       "    </tr>\n",
       "    <tr>\n",
       "      <th>449</th>\n",
       "      <td>2013-12-16 20:03:20</td>\n",
       "      <td>2013-12-16 20:05:00</td>\n",
       "      <td>samba-common-bin</td>\n",
       "      <td>/usr/bin/net.samba3</td>\n",
       "      <td>&lt;RECENT-CTIME&gt;</td>\n",
       "    </tr>\n",
       "    <tr>\n",
       "      <th>397</th>\n",
       "      <td>2013-12-16 20:08:25</td>\n",
       "      <td>2013-12-16 20:04:59</td>\n",
       "      <td>postgresql-client-9.1</td>\n",
       "      <td>/usr/lib/postgresql/9.1/bin/psql</td>\n",
       "      <td>&lt;RECENT-CTIME&gt;</td>\n",
       "    </tr>\n",
       "    <tr>\n",
       "      <th>398</th>\n",
       "      <td>2013-12-16 20:08:23</td>\n",
       "      <td>2013-12-16 20:04:58</td>\n",
       "      <td>postgresql-9.1</td>\n",
       "      <td>/usr/lib/postgresql/9.1/bin/postmaster</td>\n",
       "      <td>&lt;RECENT-CTIME&gt;</td>\n",
       "    </tr>\n",
       "    <tr>\n",
       "      <th>452</th>\n",
       "      <td>2013-12-16 20:03:20</td>\n",
       "      <td>2013-12-16 20:04:55</td>\n",
       "      <td>php5-dev</td>\n",
       "      <td>/usr/include/php5/main/snprintf.h</td>\n",
       "      <td>&lt;RECENT-CTIME&gt;</td>\n",
       "    </tr>\n",
       "    <tr>\n",
       "      <th>440</th>\n",
       "      <td>2013-12-16 20:03:20</td>\n",
       "      <td>2013-12-16 20:04:54</td>\n",
       "      <td>php-pear</td>\n",
       "      <td>/usr/share/php/XML/Util.php</td>\n",
       "      <td>&lt;RECENT-CTIME&gt;</td>\n",
       "    </tr>\n",
       "  </tbody>\n",
       "</table>\n",
       "</div>"
      ],
      "text/plain": [
       "                  atime               ctime               package-name  \\\n",
       "57  2013-12-17 04:55:39 2013-12-17 04:55:42                        ddd   \n",
       "450 2013-12-16 20:03:20 2013-12-16 20:05:13                     nodejs   \n",
       "454 2013-12-16 20:03:20 2013-12-16 20:05:04  switchboard-plug-keyboard   \n",
       "445 2013-12-16 20:03:20 2013-12-16 20:05:04      thunderbird-locale-en   \n",
       "396 2013-12-16 20:08:27 2013-12-16 20:05:03            software-center   \n",
       "449 2013-12-16 20:03:20 2013-12-16 20:05:00           samba-common-bin   \n",
       "397 2013-12-16 20:08:25 2013-12-16 20:04:59      postgresql-client-9.1   \n",
       "398 2013-12-16 20:08:23 2013-12-16 20:04:58             postgresql-9.1   \n",
       "452 2013-12-16 20:03:20 2013-12-16 20:04:55                   php5-dev   \n",
       "440 2013-12-16 20:03:20 2013-12-16 20:04:54                   php-pear   \n",
       "\n",
       "                                           mru-program             tag  \n",
       "57                                        /usr/bin/ddd  <RECENT-CTIME>  \n",
       "450                                       /usr/bin/npm  <RECENT-CTIME>  \n",
       "454       /usr/lib/plugs/pantheon/keyboard/options.txt  <RECENT-CTIME>  \n",
       "445  /usr/lib/thunderbird-addons/extensions/langpac...  <RECENT-CTIME>  \n",
       "396                   /usr/sbin/update-software-center  <RECENT-CTIME>  \n",
       "449                                /usr/bin/net.samba3  <RECENT-CTIME>  \n",
       "397                   /usr/lib/postgresql/9.1/bin/psql  <RECENT-CTIME>  \n",
       "398             /usr/lib/postgresql/9.1/bin/postmaster  <RECENT-CTIME>  \n",
       "452                  /usr/include/php5/main/snprintf.h  <RECENT-CTIME>  \n",
       "440                        /usr/share/php/XML/Util.php  <RECENT-CTIME>  "
      ]
     },
     "execution_count": 21,
     "metadata": {},
     "output_type": "execute_result"
    }
   ],
   "source": [
    "nonlibraries.sort_values('ctime', ascending=False)[:10]"
   ]
  },
  {
   "cell_type": "markdown",
   "metadata": {},
   "source": [
    "Okay, cool, it says that I I installed ddd recently. And postgresql! I remember installing those things. Neat."
   ]
  },
  {
   "cell_type": "markdown",
   "metadata": {},
   "source": [
    "The whole message here is that if you have a timestamp in seconds or milliseconds or nanoseconds, then you can just \"cast\" it to a `'datetime64[the-right-thing]'` and pandas/numpy will take care of the rest."
   ]
  },
  {
   "cell_type": "markdown",
   "metadata": {},
   "source": [
    "<style>\n",
    "    @font-face {\n",
    "        font-family: \"Computer Modern\";\n",
    "        src: url('http://mirrors.ctan.org/fonts/cm-unicode/fonts/otf/cmunss.otf');\n",
    "    }\n",
    "    div.cell{\n",
    "        width:800px;\n",
    "        margin-left:16% !important;\n",
    "        margin-right:auto;\n",
    "    }\n",
    "    h1 {\n",
    "        font-family: Helvetica, serif;\n",
    "    }\n",
    "    h4{\n",
    "        margin-top:12px;\n",
    "        margin-bottom: 3px;\n",
    "       }\n",
    "    div.text_cell_render{\n",
    "        font-family: Computer Modern, \"Helvetica Neue\", Arial, Helvetica, Geneva, sans-serif;\n",
    "        line-height: 145%;\n",
    "        font-size: 130%;\n",
    "        width:800px;\n",
    "        margin-left:auto;\n",
    "        margin-right:auto;\n",
    "    }\n",
    "    .CodeMirror{\n",
    "            font-family: \"Source Code Pro\", source-code-pro,Consolas, monospace;\n",
    "    }\n",
    "    .text_cell_render h5 {\n",
    "        font-weight: 300;\n",
    "        font-size: 22pt;\n",
    "        color: #4057A1;\n",
    "        font-style: italic;\n",
    "        margin-bottom: .5em;\n",
    "        margin-top: 0.5em;\n",
    "        display: block;\n",
    "    }\n",
    "    \n",
    "    .warning{\n",
    "        color: rgb( 240, 20, 20 )\n",
    "        }  "
   ]
  }
 ],
 "metadata": {
  "kernelspec": {
   "display_name": "venv",
   "language": "python",
   "name": "python3"
  },
  "language_info": {
   "codemirror_mode": {
    "name": "ipython",
    "version": 3
   },
   "file_extension": ".py",
   "mimetype": "text/x-python",
   "name": "python",
   "nbconvert_exporter": "python",
   "pygments_lexer": "ipython3",
   "version": "3.11.1"
  },
  "widgets": {
   "application/vnd.jupyter.widget-state+json": {
    "state": {},
    "version_major": 2,
    "version_minor": 0
   }
  }
 },
 "nbformat": 4,
 "nbformat_minor": 4
}
